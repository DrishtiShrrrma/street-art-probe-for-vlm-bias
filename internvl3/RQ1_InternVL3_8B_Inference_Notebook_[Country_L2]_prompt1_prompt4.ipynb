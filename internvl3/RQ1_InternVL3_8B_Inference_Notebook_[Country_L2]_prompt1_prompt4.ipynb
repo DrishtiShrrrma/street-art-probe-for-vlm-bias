{
  "metadata": {
    "kernelspec": {
      "name": "python3",
      "display_name": "Python 3"
    },
    "language_info": {
      "name": "python",
      "version": "3.11.11",
      "mimetype": "text/x-python",
      "codemirror_mode": {
        "name": "ipython",
        "version": 3
      },
      "pygments_lexer": "ipython3",
      "nbconvert_exporter": "python",
      "file_extension": ".py"
    },
    "colab": {
      "provenance": [],
      "gpuType": "L4",
      "toc_visible": true
    },
    "accelerator": "GPU",
    "kaggle": {
      "accelerator": "nvidiaTeslaT4",
      "dataSources": [
        {
          "sourceId": 11683782,
          "sourceType": "datasetVersion",
          "datasetId": 7333143
        }
      ],
      "dockerImageVersionId": 31011,
      "isInternetEnabled": true,
      "language": "python",
      "sourceType": "notebook",
      "isGpuEnabled": true
    },
    "widgets": {
      "application/vnd.jupyter.widget-state+json": {
        "fce20715b0db46d2bfc441b1a2520cd1": {
          "model_module": "@jupyter-widgets/controls",
          "model_name": "HBoxModel",
          "model_module_version": "1.5.0",
          "state": {
            "_dom_classes": [],
            "_model_module": "@jupyter-widgets/controls",
            "_model_module_version": "1.5.0",
            "_model_name": "HBoxModel",
            "_view_count": null,
            "_view_module": "@jupyter-widgets/controls",
            "_view_module_version": "1.5.0",
            "_view_name": "HBoxView",
            "box_style": "",
            "children": [
              "IPY_MODEL_18fe10d4e74c439584b23b273edc2688",
              "IPY_MODEL_cd233ec0c8ac427eafeb318bdd2fccd1",
              "IPY_MODEL_f2f8c6c661c64172aa128ef843d31ec4"
            ],
            "layout": "IPY_MODEL_4efdd43035624972aaa73c954c93690b"
          }
        },
        "18fe10d4e74c439584b23b273edc2688": {
          "model_module": "@jupyter-widgets/controls",
          "model_name": "HTMLModel",
          "model_module_version": "1.5.0",
          "state": {
            "_dom_classes": [],
            "_model_module": "@jupyter-widgets/controls",
            "_model_module_version": "1.5.0",
            "_model_name": "HTMLModel",
            "_view_count": null,
            "_view_module": "@jupyter-widgets/controls",
            "_view_module_version": "1.5.0",
            "_view_name": "HTMLView",
            "description": "",
            "description_tooltip": null,
            "layout": "IPY_MODEL_a6da67e274804b8286a5240858fdf24f",
            "placeholder": "​",
            "style": "IPY_MODEL_b113a73b4db44e19b49035bb5ee4a50e",
            "value": "config.json: "
          }
        },
        "cd233ec0c8ac427eafeb318bdd2fccd1": {
          "model_module": "@jupyter-widgets/controls",
          "model_name": "FloatProgressModel",
          "model_module_version": "1.5.0",
          "state": {
            "_dom_classes": [],
            "_model_module": "@jupyter-widgets/controls",
            "_model_module_version": "1.5.0",
            "_model_name": "FloatProgressModel",
            "_view_count": null,
            "_view_module": "@jupyter-widgets/controls",
            "_view_module_version": "1.5.0",
            "_view_name": "ProgressView",
            "bar_style": "success",
            "description": "",
            "description_tooltip": null,
            "layout": "IPY_MODEL_3570574df0014610959d353ba6c421b2",
            "max": 1,
            "min": 0,
            "orientation": "horizontal",
            "style": "IPY_MODEL_1552fa309f0b4c4fb336cd1c90f89ece",
            "value": 1
          }
        },
        "f2f8c6c661c64172aa128ef843d31ec4": {
          "model_module": "@jupyter-widgets/controls",
          "model_name": "HTMLModel",
          "model_module_version": "1.5.0",
          "state": {
            "_dom_classes": [],
            "_model_module": "@jupyter-widgets/controls",
            "_model_module_version": "1.5.0",
            "_model_name": "HTMLModel",
            "_view_count": null,
            "_view_module": "@jupyter-widgets/controls",
            "_view_module_version": "1.5.0",
            "_view_name": "HTMLView",
            "description": "",
            "description_tooltip": null,
            "layout": "IPY_MODEL_fc8c24c33cf840ac93d8a35c941628be",
            "placeholder": "​",
            "style": "IPY_MODEL_70eb0da7c6054e7cbb3b0d3713e2ee92",
            "value": " 6.33k/? [00:00&lt;00:00, 693kB/s]"
          }
        },
        "4efdd43035624972aaa73c954c93690b": {
          "model_module": "@jupyter-widgets/base",
          "model_name": "LayoutModel",
          "model_module_version": "1.2.0",
          "state": {
            "_model_module": "@jupyter-widgets/base",
            "_model_module_version": "1.2.0",
            "_model_name": "LayoutModel",
            "_view_count": null,
            "_view_module": "@jupyter-widgets/base",
            "_view_module_version": "1.2.0",
            "_view_name": "LayoutView",
            "align_content": null,
            "align_items": null,
            "align_self": null,
            "border": null,
            "bottom": null,
            "display": null,
            "flex": null,
            "flex_flow": null,
            "grid_area": null,
            "grid_auto_columns": null,
            "grid_auto_flow": null,
            "grid_auto_rows": null,
            "grid_column": null,
            "grid_gap": null,
            "grid_row": null,
            "grid_template_areas": null,
            "grid_template_columns": null,
            "grid_template_rows": null,
            "height": null,
            "justify_content": null,
            "justify_items": null,
            "left": null,
            "margin": null,
            "max_height": null,
            "max_width": null,
            "min_height": null,
            "min_width": null,
            "object_fit": null,
            "object_position": null,
            "order": null,
            "overflow": null,
            "overflow_x": null,
            "overflow_y": null,
            "padding": null,
            "right": null,
            "top": null,
            "visibility": null,
            "width": null
          }
        },
        "a6da67e274804b8286a5240858fdf24f": {
          "model_module": "@jupyter-widgets/base",
          "model_name": "LayoutModel",
          "model_module_version": "1.2.0",
          "state": {
            "_model_module": "@jupyter-widgets/base",
            "_model_module_version": "1.2.0",
            "_model_name": "LayoutModel",
            "_view_count": null,
            "_view_module": "@jupyter-widgets/base",
            "_view_module_version": "1.2.0",
            "_view_name": "LayoutView",
            "align_content": null,
            "align_items": null,
            "align_self": null,
            "border": null,
            "bottom": null,
            "display": null,
            "flex": null,
            "flex_flow": null,
            "grid_area": null,
            "grid_auto_columns": null,
            "grid_auto_flow": null,
            "grid_auto_rows": null,
            "grid_column": null,
            "grid_gap": null,
            "grid_row": null,
            "grid_template_areas": null,
            "grid_template_columns": null,
            "grid_template_rows": null,
            "height": null,
            "justify_content": null,
            "justify_items": null,
            "left": null,
            "margin": null,
            "max_height": null,
            "max_width": null,
            "min_height": null,
            "min_width": null,
            "object_fit": null,
            "object_position": null,
            "order": null,
            "overflow": null,
            "overflow_x": null,
            "overflow_y": null,
            "padding": null,
            "right": null,
            "top": null,
            "visibility": null,
            "width": null
          }
        },
        "b113a73b4db44e19b49035bb5ee4a50e": {
          "model_module": "@jupyter-widgets/controls",
          "model_name": "DescriptionStyleModel",
          "model_module_version": "1.5.0",
          "state": {
            "_model_module": "@jupyter-widgets/controls",
            "_model_module_version": "1.5.0",
            "_model_name": "DescriptionStyleModel",
            "_view_count": null,
            "_view_module": "@jupyter-widgets/base",
            "_view_module_version": "1.2.0",
            "_view_name": "StyleView",
            "description_width": ""
          }
        },
        "3570574df0014610959d353ba6c421b2": {
          "model_module": "@jupyter-widgets/base",
          "model_name": "LayoutModel",
          "model_module_version": "1.2.0",
          "state": {
            "_model_module": "@jupyter-widgets/base",
            "_model_module_version": "1.2.0",
            "_model_name": "LayoutModel",
            "_view_count": null,
            "_view_module": "@jupyter-widgets/base",
            "_view_module_version": "1.2.0",
            "_view_name": "LayoutView",
            "align_content": null,
            "align_items": null,
            "align_self": null,
            "border": null,
            "bottom": null,
            "display": null,
            "flex": null,
            "flex_flow": null,
            "grid_area": null,
            "grid_auto_columns": null,
            "grid_auto_flow": null,
            "grid_auto_rows": null,
            "grid_column": null,
            "grid_gap": null,
            "grid_row": null,
            "grid_template_areas": null,
            "grid_template_columns": null,
            "grid_template_rows": null,
            "height": null,
            "justify_content": null,
            "justify_items": null,
            "left": null,
            "margin": null,
            "max_height": null,
            "max_width": null,
            "min_height": null,
            "min_width": null,
            "object_fit": null,
            "object_position": null,
            "order": null,
            "overflow": null,
            "overflow_x": null,
            "overflow_y": null,
            "padding": null,
            "right": null,
            "top": null,
            "visibility": null,
            "width": "20px"
          }
        },
        "1552fa309f0b4c4fb336cd1c90f89ece": {
          "model_module": "@jupyter-widgets/controls",
          "model_name": "ProgressStyleModel",
          "model_module_version": "1.5.0",
          "state": {
            "_model_module": "@jupyter-widgets/controls",
            "_model_module_version": "1.5.0",
            "_model_name": "ProgressStyleModel",
            "_view_count": null,
            "_view_module": "@jupyter-widgets/base",
            "_view_module_version": "1.2.0",
            "_view_name": "StyleView",
            "bar_color": null,
            "description_width": ""
          }
        },
        "fc8c24c33cf840ac93d8a35c941628be": {
          "model_module": "@jupyter-widgets/base",
          "model_name": "LayoutModel",
          "model_module_version": "1.2.0",
          "state": {
            "_model_module": "@jupyter-widgets/base",
            "_model_module_version": "1.2.0",
            "_model_name": "LayoutModel",
            "_view_count": null,
            "_view_module": "@jupyter-widgets/base",
            "_view_module_version": "1.2.0",
            "_view_name": "LayoutView",
            "align_content": null,
            "align_items": null,
            "align_self": null,
            "border": null,
            "bottom": null,
            "display": null,
            "flex": null,
            "flex_flow": null,
            "grid_area": null,
            "grid_auto_columns": null,
            "grid_auto_flow": null,
            "grid_auto_rows": null,
            "grid_column": null,
            "grid_gap": null,
            "grid_row": null,
            "grid_template_areas": null,
            "grid_template_columns": null,
            "grid_template_rows": null,
            "height": null,
            "justify_content": null,
            "justify_items": null,
            "left": null,
            "margin": null,
            "max_height": null,
            "max_width": null,
            "min_height": null,
            "min_width": null,
            "object_fit": null,
            "object_position": null,
            "order": null,
            "overflow": null,
            "overflow_x": null,
            "overflow_y": null,
            "padding": null,
            "right": null,
            "top": null,
            "visibility": null,
            "width": null
          }
        },
        "70eb0da7c6054e7cbb3b0d3713e2ee92": {
          "model_module": "@jupyter-widgets/controls",
          "model_name": "DescriptionStyleModel",
          "model_module_version": "1.5.0",
          "state": {
            "_model_module": "@jupyter-widgets/controls",
            "_model_module_version": "1.5.0",
            "_model_name": "DescriptionStyleModel",
            "_view_count": null,
            "_view_module": "@jupyter-widgets/base",
            "_view_module_version": "1.2.0",
            "_view_name": "StyleView",
            "description_width": ""
          }
        },
        "ed870de0e0534ccfbc1f9cd26a6b1e7a": {
          "model_module": "@jupyter-widgets/controls",
          "model_name": "HBoxModel",
          "model_module_version": "1.5.0",
          "state": {
            "_dom_classes": [],
            "_model_module": "@jupyter-widgets/controls",
            "_model_module_version": "1.5.0",
            "_model_name": "HBoxModel",
            "_view_count": null,
            "_view_module": "@jupyter-widgets/controls",
            "_view_module_version": "1.5.0",
            "_view_name": "HBoxView",
            "box_style": "",
            "children": [
              "IPY_MODEL_5b43a7e0d1694a61aa4dd7812681e46c",
              "IPY_MODEL_6e324c0b95694408879cc6dcfa38b7d5",
              "IPY_MODEL_5545ee24ee5444ee88767ac94a198fc0"
            ],
            "layout": "IPY_MODEL_a39fd400f0364f50a96064aae689add2"
          }
        },
        "5b43a7e0d1694a61aa4dd7812681e46c": {
          "model_module": "@jupyter-widgets/controls",
          "model_name": "HTMLModel",
          "model_module_version": "1.5.0",
          "state": {
            "_dom_classes": [],
            "_model_module": "@jupyter-widgets/controls",
            "_model_module_version": "1.5.0",
            "_model_name": "HTMLModel",
            "_view_count": null,
            "_view_module": "@jupyter-widgets/controls",
            "_view_module_version": "1.5.0",
            "_view_name": "HTMLView",
            "description": "",
            "description_tooltip": null,
            "layout": "IPY_MODEL_3d79e374b23141c98467c17f99d35165",
            "placeholder": "​",
            "style": "IPY_MODEL_3665ebea79314349aa866082d4da31c2",
            "value": "configuration_internvl_chat.py: "
          }
        },
        "6e324c0b95694408879cc6dcfa38b7d5": {
          "model_module": "@jupyter-widgets/controls",
          "model_name": "FloatProgressModel",
          "model_module_version": "1.5.0",
          "state": {
            "_dom_classes": [],
            "_model_module": "@jupyter-widgets/controls",
            "_model_module_version": "1.5.0",
            "_model_name": "FloatProgressModel",
            "_view_count": null,
            "_view_module": "@jupyter-widgets/controls",
            "_view_module_version": "1.5.0",
            "_view_name": "ProgressView",
            "bar_style": "success",
            "description": "",
            "description_tooltip": null,
            "layout": "IPY_MODEL_880df4bfded34bf091bf025ecb9ec8d6",
            "max": 1,
            "min": 0,
            "orientation": "horizontal",
            "style": "IPY_MODEL_8d5a2f54bde742cfb6a661a322b26a37",
            "value": 1
          }
        },
        "5545ee24ee5444ee88767ac94a198fc0": {
          "model_module": "@jupyter-widgets/controls",
          "model_name": "HTMLModel",
          "model_module_version": "1.5.0",
          "state": {
            "_dom_classes": [],
            "_model_module": "@jupyter-widgets/controls",
            "_model_module_version": "1.5.0",
            "_model_name": "HTMLModel",
            "_view_count": null,
            "_view_module": "@jupyter-widgets/controls",
            "_view_module_version": "1.5.0",
            "_view_name": "HTMLView",
            "description": "",
            "description_tooltip": null,
            "layout": "IPY_MODEL_5d77f3986a8d43e1859f6e22aadf5d53",
            "placeholder": "​",
            "style": "IPY_MODEL_b53edfc5faa64957af082ee7db17a173",
            "value": " 4.04k/? [00:00&lt;00:00, 465kB/s]"
          }
        },
        "a39fd400f0364f50a96064aae689add2": {
          "model_module": "@jupyter-widgets/base",
          "model_name": "LayoutModel",
          "model_module_version": "1.2.0",
          "state": {
            "_model_module": "@jupyter-widgets/base",
            "_model_module_version": "1.2.0",
            "_model_name": "LayoutModel",
            "_view_count": null,
            "_view_module": "@jupyter-widgets/base",
            "_view_module_version": "1.2.0",
            "_view_name": "LayoutView",
            "align_content": null,
            "align_items": null,
            "align_self": null,
            "border": null,
            "bottom": null,
            "display": null,
            "flex": null,
            "flex_flow": null,
            "grid_area": null,
            "grid_auto_columns": null,
            "grid_auto_flow": null,
            "grid_auto_rows": null,
            "grid_column": null,
            "grid_gap": null,
            "grid_row": null,
            "grid_template_areas": null,
            "grid_template_columns": null,
            "grid_template_rows": null,
            "height": null,
            "justify_content": null,
            "justify_items": null,
            "left": null,
            "margin": null,
            "max_height": null,
            "max_width": null,
            "min_height": null,
            "min_width": null,
            "object_fit": null,
            "object_position": null,
            "order": null,
            "overflow": null,
            "overflow_x": null,
            "overflow_y": null,
            "padding": null,
            "right": null,
            "top": null,
            "visibility": null,
            "width": null
          }
        },
        "3d79e374b23141c98467c17f99d35165": {
          "model_module": "@jupyter-widgets/base",
          "model_name": "LayoutModel",
          "model_module_version": "1.2.0",
          "state": {
            "_model_module": "@jupyter-widgets/base",
            "_model_module_version": "1.2.0",
            "_model_name": "LayoutModel",
            "_view_count": null,
            "_view_module": "@jupyter-widgets/base",
            "_view_module_version": "1.2.0",
            "_view_name": "LayoutView",
            "align_content": null,
            "align_items": null,
            "align_self": null,
            "border": null,
            "bottom": null,
            "display": null,
            "flex": null,
            "flex_flow": null,
            "grid_area": null,
            "grid_auto_columns": null,
            "grid_auto_flow": null,
            "grid_auto_rows": null,
            "grid_column": null,
            "grid_gap": null,
            "grid_row": null,
            "grid_template_areas": null,
            "grid_template_columns": null,
            "grid_template_rows": null,
            "height": null,
            "justify_content": null,
            "justify_items": null,
            "left": null,
            "margin": null,
            "max_height": null,
            "max_width": null,
            "min_height": null,
            "min_width": null,
            "object_fit": null,
            "object_position": null,
            "order": null,
            "overflow": null,
            "overflow_x": null,
            "overflow_y": null,
            "padding": null,
            "right": null,
            "top": null,
            "visibility": null,
            "width": null
          }
        },
        "3665ebea79314349aa866082d4da31c2": {
          "model_module": "@jupyter-widgets/controls",
          "model_name": "DescriptionStyleModel",
          "model_module_version": "1.5.0",
          "state": {
            "_model_module": "@jupyter-widgets/controls",
            "_model_module_version": "1.5.0",
            "_model_name": "DescriptionStyleModel",
            "_view_count": null,
            "_view_module": "@jupyter-widgets/base",
            "_view_module_version": "1.2.0",
            "_view_name": "StyleView",
            "description_width": ""
          }
        },
        "880df4bfded34bf091bf025ecb9ec8d6": {
          "model_module": "@jupyter-widgets/base",
          "model_name": "LayoutModel",
          "model_module_version": "1.2.0",
          "state": {
            "_model_module": "@jupyter-widgets/base",
            "_model_module_version": "1.2.0",
            "_model_name": "LayoutModel",
            "_view_count": null,
            "_view_module": "@jupyter-widgets/base",
            "_view_module_version": "1.2.0",
            "_view_name": "LayoutView",
            "align_content": null,
            "align_items": null,
            "align_self": null,
            "border": null,
            "bottom": null,
            "display": null,
            "flex": null,
            "flex_flow": null,
            "grid_area": null,
            "grid_auto_columns": null,
            "grid_auto_flow": null,
            "grid_auto_rows": null,
            "grid_column": null,
            "grid_gap": null,
            "grid_row": null,
            "grid_template_areas": null,
            "grid_template_columns": null,
            "grid_template_rows": null,
            "height": null,
            "justify_content": null,
            "justify_items": null,
            "left": null,
            "margin": null,
            "max_height": null,
            "max_width": null,
            "min_height": null,
            "min_width": null,
            "object_fit": null,
            "object_position": null,
            "order": null,
            "overflow": null,
            "overflow_x": null,
            "overflow_y": null,
            "padding": null,
            "right": null,
            "top": null,
            "visibility": null,
            "width": "20px"
          }
        },
        "8d5a2f54bde742cfb6a661a322b26a37": {
          "model_module": "@jupyter-widgets/controls",
          "model_name": "ProgressStyleModel",
          "model_module_version": "1.5.0",
          "state": {
            "_model_module": "@jupyter-widgets/controls",
            "_model_module_version": "1.5.0",
            "_model_name": "ProgressStyleModel",
            "_view_count": null,
            "_view_module": "@jupyter-widgets/base",
            "_view_module_version": "1.2.0",
            "_view_name": "StyleView",
            "bar_color": null,
            "description_width": ""
          }
        },
        "5d77f3986a8d43e1859f6e22aadf5d53": {
          "model_module": "@jupyter-widgets/base",
          "model_name": "LayoutModel",
          "model_module_version": "1.2.0",
          "state": {
            "_model_module": "@jupyter-widgets/base",
            "_model_module_version": "1.2.0",
            "_model_name": "LayoutModel",
            "_view_count": null,
            "_view_module": "@jupyter-widgets/base",
            "_view_module_version": "1.2.0",
            "_view_name": "LayoutView",
            "align_content": null,
            "align_items": null,
            "align_self": null,
            "border": null,
            "bottom": null,
            "display": null,
            "flex": null,
            "flex_flow": null,
            "grid_area": null,
            "grid_auto_columns": null,
            "grid_auto_flow": null,
            "grid_auto_rows": null,
            "grid_column": null,
            "grid_gap": null,
            "grid_row": null,
            "grid_template_areas": null,
            "grid_template_columns": null,
            "grid_template_rows": null,
            "height": null,
            "justify_content": null,
            "justify_items": null,
            "left": null,
            "margin": null,
            "max_height": null,
            "max_width": null,
            "min_height": null,
            "min_width": null,
            "object_fit": null,
            "object_position": null,
            "order": null,
            "overflow": null,
            "overflow_x": null,
            "overflow_y": null,
            "padding": null,
            "right": null,
            "top": null,
            "visibility": null,
            "width": null
          }
        },
        "b53edfc5faa64957af082ee7db17a173": {
          "model_module": "@jupyter-widgets/controls",
          "model_name": "DescriptionStyleModel",
          "model_module_version": "1.5.0",
          "state": {
            "_model_module": "@jupyter-widgets/controls",
            "_model_module_version": "1.5.0",
            "_model_name": "DescriptionStyleModel",
            "_view_count": null,
            "_view_module": "@jupyter-widgets/base",
            "_view_module_version": "1.2.0",
            "_view_name": "StyleView",
            "description_width": ""
          }
        },
        "5be265bdef0f4028ac75ac0fcf754a77": {
          "model_module": "@jupyter-widgets/controls",
          "model_name": "HBoxModel",
          "model_module_version": "1.5.0",
          "state": {
            "_dom_classes": [],
            "_model_module": "@jupyter-widgets/controls",
            "_model_module_version": "1.5.0",
            "_model_name": "HBoxModel",
            "_view_count": null,
            "_view_module": "@jupyter-widgets/controls",
            "_view_module_version": "1.5.0",
            "_view_name": "HBoxView",
            "box_style": "",
            "children": [
              "IPY_MODEL_e66d20c9fd7f411db8cd2219993d81a0",
              "IPY_MODEL_87899631e6484ff1bbf6e7aefeafc3b4",
              "IPY_MODEL_71ff21a67e83407283ed9eacb640148e"
            ],
            "layout": "IPY_MODEL_ca068674987748fb98893b4cd2e0dfd8"
          }
        },
        "e66d20c9fd7f411db8cd2219993d81a0": {
          "model_module": "@jupyter-widgets/controls",
          "model_name": "HTMLModel",
          "model_module_version": "1.5.0",
          "state": {
            "_dom_classes": [],
            "_model_module": "@jupyter-widgets/controls",
            "_model_module_version": "1.5.0",
            "_model_name": "HTMLModel",
            "_view_count": null,
            "_view_module": "@jupyter-widgets/controls",
            "_view_module_version": "1.5.0",
            "_view_name": "HTMLView",
            "description": "",
            "description_tooltip": null,
            "layout": "IPY_MODEL_c925283fce744762bd57f1204627775a",
            "placeholder": "​",
            "style": "IPY_MODEL_15657a75104d48e4ba0191dd2ab05a82",
            "value": "configuration_intern_vit.py: "
          }
        },
        "87899631e6484ff1bbf6e7aefeafc3b4": {
          "model_module": "@jupyter-widgets/controls",
          "model_name": "FloatProgressModel",
          "model_module_version": "1.5.0",
          "state": {
            "_dom_classes": [],
            "_model_module": "@jupyter-widgets/controls",
            "_model_module_version": "1.5.0",
            "_model_name": "FloatProgressModel",
            "_view_count": null,
            "_view_module": "@jupyter-widgets/controls",
            "_view_module_version": "1.5.0",
            "_view_name": "ProgressView",
            "bar_style": "success",
            "description": "",
            "description_tooltip": null,
            "layout": "IPY_MODEL_4c7e744c42934c01ba39e6921d11589c",
            "max": 1,
            "min": 0,
            "orientation": "horizontal",
            "style": "IPY_MODEL_db213e2007a24b46a4076522e99ab953",
            "value": 1
          }
        },
        "71ff21a67e83407283ed9eacb640148e": {
          "model_module": "@jupyter-widgets/controls",
          "model_name": "HTMLModel",
          "model_module_version": "1.5.0",
          "state": {
            "_dom_classes": [],
            "_model_module": "@jupyter-widgets/controls",
            "_model_module_version": "1.5.0",
            "_model_name": "HTMLModel",
            "_view_count": null,
            "_view_module": "@jupyter-widgets/controls",
            "_view_module_version": "1.5.0",
            "_view_name": "HTMLView",
            "description": "",
            "description_tooltip": null,
            "layout": "IPY_MODEL_f662accd4ec64aa193373489423f62cb",
            "placeholder": "​",
            "style": "IPY_MODEL_a1b4d62616a74bb0b85b64f292c85f17",
            "value": " 5.55k/? [00:00&lt;00:00, 702kB/s]"
          }
        },
        "ca068674987748fb98893b4cd2e0dfd8": {
          "model_module": "@jupyter-widgets/base",
          "model_name": "LayoutModel",
          "model_module_version": "1.2.0",
          "state": {
            "_model_module": "@jupyter-widgets/base",
            "_model_module_version": "1.2.0",
            "_model_name": "LayoutModel",
            "_view_count": null,
            "_view_module": "@jupyter-widgets/base",
            "_view_module_version": "1.2.0",
            "_view_name": "LayoutView",
            "align_content": null,
            "align_items": null,
            "align_self": null,
            "border": null,
            "bottom": null,
            "display": null,
            "flex": null,
            "flex_flow": null,
            "grid_area": null,
            "grid_auto_columns": null,
            "grid_auto_flow": null,
            "grid_auto_rows": null,
            "grid_column": null,
            "grid_gap": null,
            "grid_row": null,
            "grid_template_areas": null,
            "grid_template_columns": null,
            "grid_template_rows": null,
            "height": null,
            "justify_content": null,
            "justify_items": null,
            "left": null,
            "margin": null,
            "max_height": null,
            "max_width": null,
            "min_height": null,
            "min_width": null,
            "object_fit": null,
            "object_position": null,
            "order": null,
            "overflow": null,
            "overflow_x": null,
            "overflow_y": null,
            "padding": null,
            "right": null,
            "top": null,
            "visibility": null,
            "width": null
          }
        },
        "c925283fce744762bd57f1204627775a": {
          "model_module": "@jupyter-widgets/base",
          "model_name": "LayoutModel",
          "model_module_version": "1.2.0",
          "state": {
            "_model_module": "@jupyter-widgets/base",
            "_model_module_version": "1.2.0",
            "_model_name": "LayoutModel",
            "_view_count": null,
            "_view_module": "@jupyter-widgets/base",
            "_view_module_version": "1.2.0",
            "_view_name": "LayoutView",
            "align_content": null,
            "align_items": null,
            "align_self": null,
            "border": null,
            "bottom": null,
            "display": null,
            "flex": null,
            "flex_flow": null,
            "grid_area": null,
            "grid_auto_columns": null,
            "grid_auto_flow": null,
            "grid_auto_rows": null,
            "grid_column": null,
            "grid_gap": null,
            "grid_row": null,
            "grid_template_areas": null,
            "grid_template_columns": null,
            "grid_template_rows": null,
            "height": null,
            "justify_content": null,
            "justify_items": null,
            "left": null,
            "margin": null,
            "max_height": null,
            "max_width": null,
            "min_height": null,
            "min_width": null,
            "object_fit": null,
            "object_position": null,
            "order": null,
            "overflow": null,
            "overflow_x": null,
            "overflow_y": null,
            "padding": null,
            "right": null,
            "top": null,
            "visibility": null,
            "width": null
          }
        },
        "15657a75104d48e4ba0191dd2ab05a82": {
          "model_module": "@jupyter-widgets/controls",
          "model_name": "DescriptionStyleModel",
          "model_module_version": "1.5.0",
          "state": {
            "_model_module": "@jupyter-widgets/controls",
            "_model_module_version": "1.5.0",
            "_model_name": "DescriptionStyleModel",
            "_view_count": null,
            "_view_module": "@jupyter-widgets/base",
            "_view_module_version": "1.2.0",
            "_view_name": "StyleView",
            "description_width": ""
          }
        },
        "4c7e744c42934c01ba39e6921d11589c": {
          "model_module": "@jupyter-widgets/base",
          "model_name": "LayoutModel",
          "model_module_version": "1.2.0",
          "state": {
            "_model_module": "@jupyter-widgets/base",
            "_model_module_version": "1.2.0",
            "_model_name": "LayoutModel",
            "_view_count": null,
            "_view_module": "@jupyter-widgets/base",
            "_view_module_version": "1.2.0",
            "_view_name": "LayoutView",
            "align_content": null,
            "align_items": null,
            "align_self": null,
            "border": null,
            "bottom": null,
            "display": null,
            "flex": null,
            "flex_flow": null,
            "grid_area": null,
            "grid_auto_columns": null,
            "grid_auto_flow": null,
            "grid_auto_rows": null,
            "grid_column": null,
            "grid_gap": null,
            "grid_row": null,
            "grid_template_areas": null,
            "grid_template_columns": null,
            "grid_template_rows": null,
            "height": null,
            "justify_content": null,
            "justify_items": null,
            "left": null,
            "margin": null,
            "max_height": null,
            "max_width": null,
            "min_height": null,
            "min_width": null,
            "object_fit": null,
            "object_position": null,
            "order": null,
            "overflow": null,
            "overflow_x": null,
            "overflow_y": null,
            "padding": null,
            "right": null,
            "top": null,
            "visibility": null,
            "width": "20px"
          }
        },
        "db213e2007a24b46a4076522e99ab953": {
          "model_module": "@jupyter-widgets/controls",
          "model_name": "ProgressStyleModel",
          "model_module_version": "1.5.0",
          "state": {
            "_model_module": "@jupyter-widgets/controls",
            "_model_module_version": "1.5.0",
            "_model_name": "ProgressStyleModel",
            "_view_count": null,
            "_view_module": "@jupyter-widgets/base",
            "_view_module_version": "1.2.0",
            "_view_name": "StyleView",
            "bar_color": null,
            "description_width": ""
          }
        },
        "f662accd4ec64aa193373489423f62cb": {
          "model_module": "@jupyter-widgets/base",
          "model_name": "LayoutModel",
          "model_module_version": "1.2.0",
          "state": {
            "_model_module": "@jupyter-widgets/base",
            "_model_module_version": "1.2.0",
            "_model_name": "LayoutModel",
            "_view_count": null,
            "_view_module": "@jupyter-widgets/base",
            "_view_module_version": "1.2.0",
            "_view_name": "LayoutView",
            "align_content": null,
            "align_items": null,
            "align_self": null,
            "border": null,
            "bottom": null,
            "display": null,
            "flex": null,
            "flex_flow": null,
            "grid_area": null,
            "grid_auto_columns": null,
            "grid_auto_flow": null,
            "grid_auto_rows": null,
            "grid_column": null,
            "grid_gap": null,
            "grid_row": null,
            "grid_template_areas": null,
            "grid_template_columns": null,
            "grid_template_rows": null,
            "height": null,
            "justify_content": null,
            "justify_items": null,
            "left": null,
            "margin": null,
            "max_height": null,
            "max_width": null,
            "min_height": null,
            "min_width": null,
            "object_fit": null,
            "object_position": null,
            "order": null,
            "overflow": null,
            "overflow_x": null,
            "overflow_y": null,
            "padding": null,
            "right": null,
            "top": null,
            "visibility": null,
            "width": null
          }
        },
        "a1b4d62616a74bb0b85b64f292c85f17": {
          "model_module": "@jupyter-widgets/controls",
          "model_name": "DescriptionStyleModel",
          "model_module_version": "1.5.0",
          "state": {
            "_model_module": "@jupyter-widgets/controls",
            "_model_module_version": "1.5.0",
            "_model_name": "DescriptionStyleModel",
            "_view_count": null,
            "_view_module": "@jupyter-widgets/base",
            "_view_module_version": "1.2.0",
            "_view_name": "StyleView",
            "description_width": ""
          }
        },
        "31dddbc4018b4f0b83a274f265b43657": {
          "model_module": "@jupyter-widgets/controls",
          "model_name": "HBoxModel",
          "model_module_version": "1.5.0",
          "state": {
            "_dom_classes": [],
            "_model_module": "@jupyter-widgets/controls",
            "_model_module_version": "1.5.0",
            "_model_name": "HBoxModel",
            "_view_count": null,
            "_view_module": "@jupyter-widgets/controls",
            "_view_module_version": "1.5.0",
            "_view_name": "HBoxView",
            "box_style": "",
            "children": [
              "IPY_MODEL_8d9bbb5eb5ae463faa0beb2b1b3ba362",
              "IPY_MODEL_202329693e814d6dba6141326cd8a48a",
              "IPY_MODEL_a4268cc4599f41ca99f73b6c03f710fd"
            ],
            "layout": "IPY_MODEL_4e94694854cc4123a013c4bd0f3534dd"
          }
        },
        "8d9bbb5eb5ae463faa0beb2b1b3ba362": {
          "model_module": "@jupyter-widgets/controls",
          "model_name": "HTMLModel",
          "model_module_version": "1.5.0",
          "state": {
            "_dom_classes": [],
            "_model_module": "@jupyter-widgets/controls",
            "_model_module_version": "1.5.0",
            "_model_name": "HTMLModel",
            "_view_count": null,
            "_view_module": "@jupyter-widgets/controls",
            "_view_module_version": "1.5.0",
            "_view_name": "HTMLView",
            "description": "",
            "description_tooltip": null,
            "layout": "IPY_MODEL_6bbfd38afd0241d797b1b61622626030",
            "placeholder": "​",
            "style": "IPY_MODEL_05ad62046e434e03b4a4928bab6938a3",
            "value": "modeling_internvl_chat.py: "
          }
        },
        "202329693e814d6dba6141326cd8a48a": {
          "model_module": "@jupyter-widgets/controls",
          "model_name": "FloatProgressModel",
          "model_module_version": "1.5.0",
          "state": {
            "_dom_classes": [],
            "_model_module": "@jupyter-widgets/controls",
            "_model_module_version": "1.5.0",
            "_model_name": "FloatProgressModel",
            "_view_count": null,
            "_view_module": "@jupyter-widgets/controls",
            "_view_module_version": "1.5.0",
            "_view_name": "ProgressView",
            "bar_style": "success",
            "description": "",
            "description_tooltip": null,
            "layout": "IPY_MODEL_0faf276fcf23414ab7f4da0167a5ac41",
            "max": 1,
            "min": 0,
            "orientation": "horizontal",
            "style": "IPY_MODEL_b6c6476e81e04fdeae06446901648fbb",
            "value": 1
          }
        },
        "a4268cc4599f41ca99f73b6c03f710fd": {
          "model_module": "@jupyter-widgets/controls",
          "model_name": "HTMLModel",
          "model_module_version": "1.5.0",
          "state": {
            "_dom_classes": [],
            "_model_module": "@jupyter-widgets/controls",
            "_model_module_version": "1.5.0",
            "_model_name": "HTMLModel",
            "_view_count": null,
            "_view_module": "@jupyter-widgets/controls",
            "_view_module_version": "1.5.0",
            "_view_name": "HTMLView",
            "description": "",
            "description_tooltip": null,
            "layout": "IPY_MODEL_670c706aef8c43de9154ad9cc54ce3a0",
            "placeholder": "​",
            "style": "IPY_MODEL_d797a81fd71a400cb300603cac78a44d",
            "value": " 16.0k/? [00:00&lt;00:00, 1.92MB/s]"
          }
        },
        "4e94694854cc4123a013c4bd0f3534dd": {
          "model_module": "@jupyter-widgets/base",
          "model_name": "LayoutModel",
          "model_module_version": "1.2.0",
          "state": {
            "_model_module": "@jupyter-widgets/base",
            "_model_module_version": "1.2.0",
            "_model_name": "LayoutModel",
            "_view_count": null,
            "_view_module": "@jupyter-widgets/base",
            "_view_module_version": "1.2.0",
            "_view_name": "LayoutView",
            "align_content": null,
            "align_items": null,
            "align_self": null,
            "border": null,
            "bottom": null,
            "display": null,
            "flex": null,
            "flex_flow": null,
            "grid_area": null,
            "grid_auto_columns": null,
            "grid_auto_flow": null,
            "grid_auto_rows": null,
            "grid_column": null,
            "grid_gap": null,
            "grid_row": null,
            "grid_template_areas": null,
            "grid_template_columns": null,
            "grid_template_rows": null,
            "height": null,
            "justify_content": null,
            "justify_items": null,
            "left": null,
            "margin": null,
            "max_height": null,
            "max_width": null,
            "min_height": null,
            "min_width": null,
            "object_fit": null,
            "object_position": null,
            "order": null,
            "overflow": null,
            "overflow_x": null,
            "overflow_y": null,
            "padding": null,
            "right": null,
            "top": null,
            "visibility": null,
            "width": null
          }
        },
        "6bbfd38afd0241d797b1b61622626030": {
          "model_module": "@jupyter-widgets/base",
          "model_name": "LayoutModel",
          "model_module_version": "1.2.0",
          "state": {
            "_model_module": "@jupyter-widgets/base",
            "_model_module_version": "1.2.0",
            "_model_name": "LayoutModel",
            "_view_count": null,
            "_view_module": "@jupyter-widgets/base",
            "_view_module_version": "1.2.0",
            "_view_name": "LayoutView",
            "align_content": null,
            "align_items": null,
            "align_self": null,
            "border": null,
            "bottom": null,
            "display": null,
            "flex": null,
            "flex_flow": null,
            "grid_area": null,
            "grid_auto_columns": null,
            "grid_auto_flow": null,
            "grid_auto_rows": null,
            "grid_column": null,
            "grid_gap": null,
            "grid_row": null,
            "grid_template_areas": null,
            "grid_template_columns": null,
            "grid_template_rows": null,
            "height": null,
            "justify_content": null,
            "justify_items": null,
            "left": null,
            "margin": null,
            "max_height": null,
            "max_width": null,
            "min_height": null,
            "min_width": null,
            "object_fit": null,
            "object_position": null,
            "order": null,
            "overflow": null,
            "overflow_x": null,
            "overflow_y": null,
            "padding": null,
            "right": null,
            "top": null,
            "visibility": null,
            "width": null
          }
        },
        "05ad62046e434e03b4a4928bab6938a3": {
          "model_module": "@jupyter-widgets/controls",
          "model_name": "DescriptionStyleModel",
          "model_module_version": "1.5.0",
          "state": {
            "_model_module": "@jupyter-widgets/controls",
            "_model_module_version": "1.5.0",
            "_model_name": "DescriptionStyleModel",
            "_view_count": null,
            "_view_module": "@jupyter-widgets/base",
            "_view_module_version": "1.2.0",
            "_view_name": "StyleView",
            "description_width": ""
          }
        },
        "0faf276fcf23414ab7f4da0167a5ac41": {
          "model_module": "@jupyter-widgets/base",
          "model_name": "LayoutModel",
          "model_module_version": "1.2.0",
          "state": {
            "_model_module": "@jupyter-widgets/base",
            "_model_module_version": "1.2.0",
            "_model_name": "LayoutModel",
            "_view_count": null,
            "_view_module": "@jupyter-widgets/base",
            "_view_module_version": "1.2.0",
            "_view_name": "LayoutView",
            "align_content": null,
            "align_items": null,
            "align_self": null,
            "border": null,
            "bottom": null,
            "display": null,
            "flex": null,
            "flex_flow": null,
            "grid_area": null,
            "grid_auto_columns": null,
            "grid_auto_flow": null,
            "grid_auto_rows": null,
            "grid_column": null,
            "grid_gap": null,
            "grid_row": null,
            "grid_template_areas": null,
            "grid_template_columns": null,
            "grid_template_rows": null,
            "height": null,
            "justify_content": null,
            "justify_items": null,
            "left": null,
            "margin": null,
            "max_height": null,
            "max_width": null,
            "min_height": null,
            "min_width": null,
            "object_fit": null,
            "object_position": null,
            "order": null,
            "overflow": null,
            "overflow_x": null,
            "overflow_y": null,
            "padding": null,
            "right": null,
            "top": null,
            "visibility": null,
            "width": "20px"
          }
        },
        "b6c6476e81e04fdeae06446901648fbb": {
          "model_module": "@jupyter-widgets/controls",
          "model_name": "ProgressStyleModel",
          "model_module_version": "1.5.0",
          "state": {
            "_model_module": "@jupyter-widgets/controls",
            "_model_module_version": "1.5.0",
            "_model_name": "ProgressStyleModel",
            "_view_count": null,
            "_view_module": "@jupyter-widgets/base",
            "_view_module_version": "1.2.0",
            "_view_name": "StyleView",
            "bar_color": null,
            "description_width": ""
          }
        },
        "670c706aef8c43de9154ad9cc54ce3a0": {
          "model_module": "@jupyter-widgets/base",
          "model_name": "LayoutModel",
          "model_module_version": "1.2.0",
          "state": {
            "_model_module": "@jupyter-widgets/base",
            "_model_module_version": "1.2.0",
            "_model_name": "LayoutModel",
            "_view_count": null,
            "_view_module": "@jupyter-widgets/base",
            "_view_module_version": "1.2.0",
            "_view_name": "LayoutView",
            "align_content": null,
            "align_items": null,
            "align_self": null,
            "border": null,
            "bottom": null,
            "display": null,
            "flex": null,
            "flex_flow": null,
            "grid_area": null,
            "grid_auto_columns": null,
            "grid_auto_flow": null,
            "grid_auto_rows": null,
            "grid_column": null,
            "grid_gap": null,
            "grid_row": null,
            "grid_template_areas": null,
            "grid_template_columns": null,
            "grid_template_rows": null,
            "height": null,
            "justify_content": null,
            "justify_items": null,
            "left": null,
            "margin": null,
            "max_height": null,
            "max_width": null,
            "min_height": null,
            "min_width": null,
            "object_fit": null,
            "object_position": null,
            "order": null,
            "overflow": null,
            "overflow_x": null,
            "overflow_y": null,
            "padding": null,
            "right": null,
            "top": null,
            "visibility": null,
            "width": null
          }
        },
        "d797a81fd71a400cb300603cac78a44d": {
          "model_module": "@jupyter-widgets/controls",
          "model_name": "DescriptionStyleModel",
          "model_module_version": "1.5.0",
          "state": {
            "_model_module": "@jupyter-widgets/controls",
            "_model_module_version": "1.5.0",
            "_model_name": "DescriptionStyleModel",
            "_view_count": null,
            "_view_module": "@jupyter-widgets/base",
            "_view_module_version": "1.2.0",
            "_view_name": "StyleView",
            "description_width": ""
          }
        },
        "e1ffd6682a4f4feab7f184b0cae99b02": {
          "model_module": "@jupyter-widgets/controls",
          "model_name": "HBoxModel",
          "model_module_version": "1.5.0",
          "state": {
            "_dom_classes": [],
            "_model_module": "@jupyter-widgets/controls",
            "_model_module_version": "1.5.0",
            "_model_name": "HBoxModel",
            "_view_count": null,
            "_view_module": "@jupyter-widgets/controls",
            "_view_module_version": "1.5.0",
            "_view_name": "HBoxView",
            "box_style": "",
            "children": [
              "IPY_MODEL_f7e6beb2b5e1467e88c6e46895cf621a",
              "IPY_MODEL_6575e163a42440d5a0f23f2b1b4a0011",
              "IPY_MODEL_18500d4bb2a64ec3a073140cfa21840d"
            ],
            "layout": "IPY_MODEL_4e48d021ee5f4754b416f6f954c8717f"
          }
        },
        "f7e6beb2b5e1467e88c6e46895cf621a": {
          "model_module": "@jupyter-widgets/controls",
          "model_name": "HTMLModel",
          "model_module_version": "1.5.0",
          "state": {
            "_dom_classes": [],
            "_model_module": "@jupyter-widgets/controls",
            "_model_module_version": "1.5.0",
            "_model_name": "HTMLModel",
            "_view_count": null,
            "_view_module": "@jupyter-widgets/controls",
            "_view_module_version": "1.5.0",
            "_view_name": "HTMLView",
            "description": "",
            "description_tooltip": null,
            "layout": "IPY_MODEL_4fe51ccd3d044dfab451e68f2953318b",
            "placeholder": "​",
            "style": "IPY_MODEL_cd7688a40a174bc8aeef175c2922a087",
            "value": "modeling_intern_vit.py: "
          }
        },
        "6575e163a42440d5a0f23f2b1b4a0011": {
          "model_module": "@jupyter-widgets/controls",
          "model_name": "FloatProgressModel",
          "model_module_version": "1.5.0",
          "state": {
            "_dom_classes": [],
            "_model_module": "@jupyter-widgets/controls",
            "_model_module_version": "1.5.0",
            "_model_name": "FloatProgressModel",
            "_view_count": null,
            "_view_module": "@jupyter-widgets/controls",
            "_view_module_version": "1.5.0",
            "_view_name": "ProgressView",
            "bar_style": "success",
            "description": "",
            "description_tooltip": null,
            "layout": "IPY_MODEL_b5eb03a866d943d0bf3f22f8928106ae",
            "max": 1,
            "min": 0,
            "orientation": "horizontal",
            "style": "IPY_MODEL_f71e7b5f757d4903b73213d649c8bb60",
            "value": 1
          }
        },
        "18500d4bb2a64ec3a073140cfa21840d": {
          "model_module": "@jupyter-widgets/controls",
          "model_name": "HTMLModel",
          "model_module_version": "1.5.0",
          "state": {
            "_dom_classes": [],
            "_model_module": "@jupyter-widgets/controls",
            "_model_module_version": "1.5.0",
            "_model_name": "HTMLModel",
            "_view_count": null,
            "_view_module": "@jupyter-widgets/controls",
            "_view_module_version": "1.5.0",
            "_view_name": "HTMLView",
            "description": "",
            "description_tooltip": null,
            "layout": "IPY_MODEL_b4970069afcb45bf906f44f63fe6f988",
            "placeholder": "​",
            "style": "IPY_MODEL_f63047455b10452486e2cd503f348884",
            "value": " 18.1k/? [00:00&lt;00:00, 2.12MB/s]"
          }
        },
        "4e48d021ee5f4754b416f6f954c8717f": {
          "model_module": "@jupyter-widgets/base",
          "model_name": "LayoutModel",
          "model_module_version": "1.2.0",
          "state": {
            "_model_module": "@jupyter-widgets/base",
            "_model_module_version": "1.2.0",
            "_model_name": "LayoutModel",
            "_view_count": null,
            "_view_module": "@jupyter-widgets/base",
            "_view_module_version": "1.2.0",
            "_view_name": "LayoutView",
            "align_content": null,
            "align_items": null,
            "align_self": null,
            "border": null,
            "bottom": null,
            "display": null,
            "flex": null,
            "flex_flow": null,
            "grid_area": null,
            "grid_auto_columns": null,
            "grid_auto_flow": null,
            "grid_auto_rows": null,
            "grid_column": null,
            "grid_gap": null,
            "grid_row": null,
            "grid_template_areas": null,
            "grid_template_columns": null,
            "grid_template_rows": null,
            "height": null,
            "justify_content": null,
            "justify_items": null,
            "left": null,
            "margin": null,
            "max_height": null,
            "max_width": null,
            "min_height": null,
            "min_width": null,
            "object_fit": null,
            "object_position": null,
            "order": null,
            "overflow": null,
            "overflow_x": null,
            "overflow_y": null,
            "padding": null,
            "right": null,
            "top": null,
            "visibility": null,
            "width": null
          }
        },
        "4fe51ccd3d044dfab451e68f2953318b": {
          "model_module": "@jupyter-widgets/base",
          "model_name": "LayoutModel",
          "model_module_version": "1.2.0",
          "state": {
            "_model_module": "@jupyter-widgets/base",
            "_model_module_version": "1.2.0",
            "_model_name": "LayoutModel",
            "_view_count": null,
            "_view_module": "@jupyter-widgets/base",
            "_view_module_version": "1.2.0",
            "_view_name": "LayoutView",
            "align_content": null,
            "align_items": null,
            "align_self": null,
            "border": null,
            "bottom": null,
            "display": null,
            "flex": null,
            "flex_flow": null,
            "grid_area": null,
            "grid_auto_columns": null,
            "grid_auto_flow": null,
            "grid_auto_rows": null,
            "grid_column": null,
            "grid_gap": null,
            "grid_row": null,
            "grid_template_areas": null,
            "grid_template_columns": null,
            "grid_template_rows": null,
            "height": null,
            "justify_content": null,
            "justify_items": null,
            "left": null,
            "margin": null,
            "max_height": null,
            "max_width": null,
            "min_height": null,
            "min_width": null,
            "object_fit": null,
            "object_position": null,
            "order": null,
            "overflow": null,
            "overflow_x": null,
            "overflow_y": null,
            "padding": null,
            "right": null,
            "top": null,
            "visibility": null,
            "width": null
          }
        },
        "cd7688a40a174bc8aeef175c2922a087": {
          "model_module": "@jupyter-widgets/controls",
          "model_name": "DescriptionStyleModel",
          "model_module_version": "1.5.0",
          "state": {
            "_model_module": "@jupyter-widgets/controls",
            "_model_module_version": "1.5.0",
            "_model_name": "DescriptionStyleModel",
            "_view_count": null,
            "_view_module": "@jupyter-widgets/base",
            "_view_module_version": "1.2.0",
            "_view_name": "StyleView",
            "description_width": ""
          }
        },
        "b5eb03a866d943d0bf3f22f8928106ae": {
          "model_module": "@jupyter-widgets/base",
          "model_name": "LayoutModel",
          "model_module_version": "1.2.0",
          "state": {
            "_model_module": "@jupyter-widgets/base",
            "_model_module_version": "1.2.0",
            "_model_name": "LayoutModel",
            "_view_count": null,
            "_view_module": "@jupyter-widgets/base",
            "_view_module_version": "1.2.0",
            "_view_name": "LayoutView",
            "align_content": null,
            "align_items": null,
            "align_self": null,
            "border": null,
            "bottom": null,
            "display": null,
            "flex": null,
            "flex_flow": null,
            "grid_area": null,
            "grid_auto_columns": null,
            "grid_auto_flow": null,
            "grid_auto_rows": null,
            "grid_column": null,
            "grid_gap": null,
            "grid_row": null,
            "grid_template_areas": null,
            "grid_template_columns": null,
            "grid_template_rows": null,
            "height": null,
            "justify_content": null,
            "justify_items": null,
            "left": null,
            "margin": null,
            "max_height": null,
            "max_width": null,
            "min_height": null,
            "min_width": null,
            "object_fit": null,
            "object_position": null,
            "order": null,
            "overflow": null,
            "overflow_x": null,
            "overflow_y": null,
            "padding": null,
            "right": null,
            "top": null,
            "visibility": null,
            "width": "20px"
          }
        },
        "f71e7b5f757d4903b73213d649c8bb60": {
          "model_module": "@jupyter-widgets/controls",
          "model_name": "ProgressStyleModel",
          "model_module_version": "1.5.0",
          "state": {
            "_model_module": "@jupyter-widgets/controls",
            "_model_module_version": "1.5.0",
            "_model_name": "ProgressStyleModel",
            "_view_count": null,
            "_view_module": "@jupyter-widgets/base",
            "_view_module_version": "1.2.0",
            "_view_name": "StyleView",
            "bar_color": null,
            "description_width": ""
          }
        },
        "b4970069afcb45bf906f44f63fe6f988": {
          "model_module": "@jupyter-widgets/base",
          "model_name": "LayoutModel",
          "model_module_version": "1.2.0",
          "state": {
            "_model_module": "@jupyter-widgets/base",
            "_model_module_version": "1.2.0",
            "_model_name": "LayoutModel",
            "_view_count": null,
            "_view_module": "@jupyter-widgets/base",
            "_view_module_version": "1.2.0",
            "_view_name": "LayoutView",
            "align_content": null,
            "align_items": null,
            "align_self": null,
            "border": null,
            "bottom": null,
            "display": null,
            "flex": null,
            "flex_flow": null,
            "grid_area": null,
            "grid_auto_columns": null,
            "grid_auto_flow": null,
            "grid_auto_rows": null,
            "grid_column": null,
            "grid_gap": null,
            "grid_row": null,
            "grid_template_areas": null,
            "grid_template_columns": null,
            "grid_template_rows": null,
            "height": null,
            "justify_content": null,
            "justify_items": null,
            "left": null,
            "margin": null,
            "max_height": null,
            "max_width": null,
            "min_height": null,
            "min_width": null,
            "object_fit": null,
            "object_position": null,
            "order": null,
            "overflow": null,
            "overflow_x": null,
            "overflow_y": null,
            "padding": null,
            "right": null,
            "top": null,
            "visibility": null,
            "width": null
          }
        },
        "f63047455b10452486e2cd503f348884": {
          "model_module": "@jupyter-widgets/controls",
          "model_name": "DescriptionStyleModel",
          "model_module_version": "1.5.0",
          "state": {
            "_model_module": "@jupyter-widgets/controls",
            "_model_module_version": "1.5.0",
            "_model_name": "DescriptionStyleModel",
            "_view_count": null,
            "_view_module": "@jupyter-widgets/base",
            "_view_module_version": "1.2.0",
            "_view_name": "StyleView",
            "description_width": ""
          }
        },
        "8b7f6a48c11c4f07b87f1fcaaf8a1c49": {
          "model_module": "@jupyter-widgets/controls",
          "model_name": "HBoxModel",
          "model_module_version": "1.5.0",
          "state": {
            "_dom_classes": [],
            "_model_module": "@jupyter-widgets/controls",
            "_model_module_version": "1.5.0",
            "_model_name": "HBoxModel",
            "_view_count": null,
            "_view_module": "@jupyter-widgets/controls",
            "_view_module_version": "1.5.0",
            "_view_name": "HBoxView",
            "box_style": "",
            "children": [
              "IPY_MODEL_1d4081f641b84ec2a9ffc4c3ad9c9a33",
              "IPY_MODEL_d1ee4e244581458d915b4d70b291c0da",
              "IPY_MODEL_f9e18610ffd149599a3f359c219f1a6b"
            ],
            "layout": "IPY_MODEL_f9d13284c4204c0f92521ecfd13bc0a8"
          }
        },
        "1d4081f641b84ec2a9ffc4c3ad9c9a33": {
          "model_module": "@jupyter-widgets/controls",
          "model_name": "HTMLModel",
          "model_module_version": "1.5.0",
          "state": {
            "_dom_classes": [],
            "_model_module": "@jupyter-widgets/controls",
            "_model_module_version": "1.5.0",
            "_model_name": "HTMLModel",
            "_view_count": null,
            "_view_module": "@jupyter-widgets/controls",
            "_view_module_version": "1.5.0",
            "_view_name": "HTMLView",
            "description": "",
            "description_tooltip": null,
            "layout": "IPY_MODEL_fe31470f5e504b03b2786ced10816111",
            "placeholder": "​",
            "style": "IPY_MODEL_c675d90f1c5b4279bca19e75b59b75ba",
            "value": "conversation.py: "
          }
        },
        "d1ee4e244581458d915b4d70b291c0da": {
          "model_module": "@jupyter-widgets/controls",
          "model_name": "FloatProgressModel",
          "model_module_version": "1.5.0",
          "state": {
            "_dom_classes": [],
            "_model_module": "@jupyter-widgets/controls",
            "_model_module_version": "1.5.0",
            "_model_name": "FloatProgressModel",
            "_view_count": null,
            "_view_module": "@jupyter-widgets/controls",
            "_view_module_version": "1.5.0",
            "_view_name": "ProgressView",
            "bar_style": "success",
            "description": "",
            "description_tooltip": null,
            "layout": "IPY_MODEL_81db7add418c432dbc274ae312012579",
            "max": 1,
            "min": 0,
            "orientation": "horizontal",
            "style": "IPY_MODEL_3b24ea8271da47d7aad76b98e2b90c37",
            "value": 1
          }
        },
        "f9e18610ffd149599a3f359c219f1a6b": {
          "model_module": "@jupyter-widgets/controls",
          "model_name": "HTMLModel",
          "model_module_version": "1.5.0",
          "state": {
            "_dom_classes": [],
            "_model_module": "@jupyter-widgets/controls",
            "_model_module_version": "1.5.0",
            "_model_name": "HTMLModel",
            "_view_count": null,
            "_view_module": "@jupyter-widgets/controls",
            "_view_module_version": "1.5.0",
            "_view_name": "HTMLView",
            "description": "",
            "description_tooltip": null,
            "layout": "IPY_MODEL_472b8e6de5014a14bce76ff29a252a90",
            "placeholder": "​",
            "style": "IPY_MODEL_2ba1eb1d7a2d4447ad29e7949692eba2",
            "value": " 15.3k/? [00:00&lt;00:00, 1.87MB/s]"
          }
        },
        "f9d13284c4204c0f92521ecfd13bc0a8": {
          "model_module": "@jupyter-widgets/base",
          "model_name": "LayoutModel",
          "model_module_version": "1.2.0",
          "state": {
            "_model_module": "@jupyter-widgets/base",
            "_model_module_version": "1.2.0",
            "_model_name": "LayoutModel",
            "_view_count": null,
            "_view_module": "@jupyter-widgets/base",
            "_view_module_version": "1.2.0",
            "_view_name": "LayoutView",
            "align_content": null,
            "align_items": null,
            "align_self": null,
            "border": null,
            "bottom": null,
            "display": null,
            "flex": null,
            "flex_flow": null,
            "grid_area": null,
            "grid_auto_columns": null,
            "grid_auto_flow": null,
            "grid_auto_rows": null,
            "grid_column": null,
            "grid_gap": null,
            "grid_row": null,
            "grid_template_areas": null,
            "grid_template_columns": null,
            "grid_template_rows": null,
            "height": null,
            "justify_content": null,
            "justify_items": null,
            "left": null,
            "margin": null,
            "max_height": null,
            "max_width": null,
            "min_height": null,
            "min_width": null,
            "object_fit": null,
            "object_position": null,
            "order": null,
            "overflow": null,
            "overflow_x": null,
            "overflow_y": null,
            "padding": null,
            "right": null,
            "top": null,
            "visibility": null,
            "width": null
          }
        },
        "fe31470f5e504b03b2786ced10816111": {
          "model_module": "@jupyter-widgets/base",
          "model_name": "LayoutModel",
          "model_module_version": "1.2.0",
          "state": {
            "_model_module": "@jupyter-widgets/base",
            "_model_module_version": "1.2.0",
            "_model_name": "LayoutModel",
            "_view_count": null,
            "_view_module": "@jupyter-widgets/base",
            "_view_module_version": "1.2.0",
            "_view_name": "LayoutView",
            "align_content": null,
            "align_items": null,
            "align_self": null,
            "border": null,
            "bottom": null,
            "display": null,
            "flex": null,
            "flex_flow": null,
            "grid_area": null,
            "grid_auto_columns": null,
            "grid_auto_flow": null,
            "grid_auto_rows": null,
            "grid_column": null,
            "grid_gap": null,
            "grid_row": null,
            "grid_template_areas": null,
            "grid_template_columns": null,
            "grid_template_rows": null,
            "height": null,
            "justify_content": null,
            "justify_items": null,
            "left": null,
            "margin": null,
            "max_height": null,
            "max_width": null,
            "min_height": null,
            "min_width": null,
            "object_fit": null,
            "object_position": null,
            "order": null,
            "overflow": null,
            "overflow_x": null,
            "overflow_y": null,
            "padding": null,
            "right": null,
            "top": null,
            "visibility": null,
            "width": null
          }
        },
        "c675d90f1c5b4279bca19e75b59b75ba": {
          "model_module": "@jupyter-widgets/controls",
          "model_name": "DescriptionStyleModel",
          "model_module_version": "1.5.0",
          "state": {
            "_model_module": "@jupyter-widgets/controls",
            "_model_module_version": "1.5.0",
            "_model_name": "DescriptionStyleModel",
            "_view_count": null,
            "_view_module": "@jupyter-widgets/base",
            "_view_module_version": "1.2.0",
            "_view_name": "StyleView",
            "description_width": ""
          }
        },
        "81db7add418c432dbc274ae312012579": {
          "model_module": "@jupyter-widgets/base",
          "model_name": "LayoutModel",
          "model_module_version": "1.2.0",
          "state": {
            "_model_module": "@jupyter-widgets/base",
            "_model_module_version": "1.2.0",
            "_model_name": "LayoutModel",
            "_view_count": null,
            "_view_module": "@jupyter-widgets/base",
            "_view_module_version": "1.2.0",
            "_view_name": "LayoutView",
            "align_content": null,
            "align_items": null,
            "align_self": null,
            "border": null,
            "bottom": null,
            "display": null,
            "flex": null,
            "flex_flow": null,
            "grid_area": null,
            "grid_auto_columns": null,
            "grid_auto_flow": null,
            "grid_auto_rows": null,
            "grid_column": null,
            "grid_gap": null,
            "grid_row": null,
            "grid_template_areas": null,
            "grid_template_columns": null,
            "grid_template_rows": null,
            "height": null,
            "justify_content": null,
            "justify_items": null,
            "left": null,
            "margin": null,
            "max_height": null,
            "max_width": null,
            "min_height": null,
            "min_width": null,
            "object_fit": null,
            "object_position": null,
            "order": null,
            "overflow": null,
            "overflow_x": null,
            "overflow_y": null,
            "padding": null,
            "right": null,
            "top": null,
            "visibility": null,
            "width": "20px"
          }
        },
        "3b24ea8271da47d7aad76b98e2b90c37": {
          "model_module": "@jupyter-widgets/controls",
          "model_name": "ProgressStyleModel",
          "model_module_version": "1.5.0",
          "state": {
            "_model_module": "@jupyter-widgets/controls",
            "_model_module_version": "1.5.0",
            "_model_name": "ProgressStyleModel",
            "_view_count": null,
            "_view_module": "@jupyter-widgets/base",
            "_view_module_version": "1.2.0",
            "_view_name": "StyleView",
            "bar_color": null,
            "description_width": ""
          }
        },
        "472b8e6de5014a14bce76ff29a252a90": {
          "model_module": "@jupyter-widgets/base",
          "model_name": "LayoutModel",
          "model_module_version": "1.2.0",
          "state": {
            "_model_module": "@jupyter-widgets/base",
            "_model_module_version": "1.2.0",
            "_model_name": "LayoutModel",
            "_view_count": null,
            "_view_module": "@jupyter-widgets/base",
            "_view_module_version": "1.2.0",
            "_view_name": "LayoutView",
            "align_content": null,
            "align_items": null,
            "align_self": null,
            "border": null,
            "bottom": null,
            "display": null,
            "flex": null,
            "flex_flow": null,
            "grid_area": null,
            "grid_auto_columns": null,
            "grid_auto_flow": null,
            "grid_auto_rows": null,
            "grid_column": null,
            "grid_gap": null,
            "grid_row": null,
            "grid_template_areas": null,
            "grid_template_columns": null,
            "grid_template_rows": null,
            "height": null,
            "justify_content": null,
            "justify_items": null,
            "left": null,
            "margin": null,
            "max_height": null,
            "max_width": null,
            "min_height": null,
            "min_width": null,
            "object_fit": null,
            "object_position": null,
            "order": null,
            "overflow": null,
            "overflow_x": null,
            "overflow_y": null,
            "padding": null,
            "right": null,
            "top": null,
            "visibility": null,
            "width": null
          }
        },
        "2ba1eb1d7a2d4447ad29e7949692eba2": {
          "model_module": "@jupyter-widgets/controls",
          "model_name": "DescriptionStyleModel",
          "model_module_version": "1.5.0",
          "state": {
            "_model_module": "@jupyter-widgets/controls",
            "_model_module_version": "1.5.0",
            "_model_name": "DescriptionStyleModel",
            "_view_count": null,
            "_view_module": "@jupyter-widgets/base",
            "_view_module_version": "1.2.0",
            "_view_name": "StyleView",
            "description_width": ""
          }
        },
        "79b4abb2d60b4a61b065c572d0dcc345": {
          "model_module": "@jupyter-widgets/controls",
          "model_name": "HBoxModel",
          "model_module_version": "1.5.0",
          "state": {
            "_dom_classes": [],
            "_model_module": "@jupyter-widgets/controls",
            "_model_module_version": "1.5.0",
            "_model_name": "HBoxModel",
            "_view_count": null,
            "_view_module": "@jupyter-widgets/controls",
            "_view_module_version": "1.5.0",
            "_view_name": "HBoxView",
            "box_style": "",
            "children": [
              "IPY_MODEL_f44ecff59e334e2b86c429c13c29e582",
              "IPY_MODEL_81c7c715d20c4e0482ba97295aac2e82",
              "IPY_MODEL_34fa51bf34d1444a9da6bc8906a25235"
            ],
            "layout": "IPY_MODEL_165b9531facd4da99c7debeda122ebf1"
          }
        },
        "f44ecff59e334e2b86c429c13c29e582": {
          "model_module": "@jupyter-widgets/controls",
          "model_name": "HTMLModel",
          "model_module_version": "1.5.0",
          "state": {
            "_dom_classes": [],
            "_model_module": "@jupyter-widgets/controls",
            "_model_module_version": "1.5.0",
            "_model_name": "HTMLModel",
            "_view_count": null,
            "_view_module": "@jupyter-widgets/controls",
            "_view_module_version": "1.5.0",
            "_view_name": "HTMLView",
            "description": "",
            "description_tooltip": null,
            "layout": "IPY_MODEL_8b48e11cf715465e88dca89176d6e152",
            "placeholder": "​",
            "style": "IPY_MODEL_e3971de9011349609af629bea22759c6",
            "value": "model.safetensors.index.json: "
          }
        },
        "81c7c715d20c4e0482ba97295aac2e82": {
          "model_module": "@jupyter-widgets/controls",
          "model_name": "FloatProgressModel",
          "model_module_version": "1.5.0",
          "state": {
            "_dom_classes": [],
            "_model_module": "@jupyter-widgets/controls",
            "_model_module_version": "1.5.0",
            "_model_name": "FloatProgressModel",
            "_view_count": null,
            "_view_module": "@jupyter-widgets/controls",
            "_view_module_version": "1.5.0",
            "_view_name": "ProgressView",
            "bar_style": "success",
            "description": "",
            "description_tooltip": null,
            "layout": "IPY_MODEL_3eeec2c1539a4747abc05646e6e8ce11",
            "max": 1,
            "min": 0,
            "orientation": "horizontal",
            "style": "IPY_MODEL_b001c9bc6690455aa55360fe10c50324",
            "value": 1
          }
        },
        "34fa51bf34d1444a9da6bc8906a25235": {
          "model_module": "@jupyter-widgets/controls",
          "model_name": "HTMLModel",
          "model_module_version": "1.5.0",
          "state": {
            "_dom_classes": [],
            "_model_module": "@jupyter-widgets/controls",
            "_model_module_version": "1.5.0",
            "_model_name": "HTMLModel",
            "_view_count": null,
            "_view_module": "@jupyter-widgets/controls",
            "_view_module_version": "1.5.0",
            "_view_name": "HTMLView",
            "description": "",
            "description_tooltip": null,
            "layout": "IPY_MODEL_52af03309db84ee9b6b5952ca0a4ba25",
            "placeholder": "​",
            "style": "IPY_MODEL_d805e754c9fc4c2c906166006f85d35c",
            "value": " 62.4k/? [00:00&lt;00:00, 7.11MB/s]"
          }
        },
        "165b9531facd4da99c7debeda122ebf1": {
          "model_module": "@jupyter-widgets/base",
          "model_name": "LayoutModel",
          "model_module_version": "1.2.0",
          "state": {
            "_model_module": "@jupyter-widgets/base",
            "_model_module_version": "1.2.0",
            "_model_name": "LayoutModel",
            "_view_count": null,
            "_view_module": "@jupyter-widgets/base",
            "_view_module_version": "1.2.0",
            "_view_name": "LayoutView",
            "align_content": null,
            "align_items": null,
            "align_self": null,
            "border": null,
            "bottom": null,
            "display": null,
            "flex": null,
            "flex_flow": null,
            "grid_area": null,
            "grid_auto_columns": null,
            "grid_auto_flow": null,
            "grid_auto_rows": null,
            "grid_column": null,
            "grid_gap": null,
            "grid_row": null,
            "grid_template_areas": null,
            "grid_template_columns": null,
            "grid_template_rows": null,
            "height": null,
            "justify_content": null,
            "justify_items": null,
            "left": null,
            "margin": null,
            "max_height": null,
            "max_width": null,
            "min_height": null,
            "min_width": null,
            "object_fit": null,
            "object_position": null,
            "order": null,
            "overflow": null,
            "overflow_x": null,
            "overflow_y": null,
            "padding": null,
            "right": null,
            "top": null,
            "visibility": null,
            "width": null
          }
        },
        "8b48e11cf715465e88dca89176d6e152": {
          "model_module": "@jupyter-widgets/base",
          "model_name": "LayoutModel",
          "model_module_version": "1.2.0",
          "state": {
            "_model_module": "@jupyter-widgets/base",
            "_model_module_version": "1.2.0",
            "_model_name": "LayoutModel",
            "_view_count": null,
            "_view_module": "@jupyter-widgets/base",
            "_view_module_version": "1.2.0",
            "_view_name": "LayoutView",
            "align_content": null,
            "align_items": null,
            "align_self": null,
            "border": null,
            "bottom": null,
            "display": null,
            "flex": null,
            "flex_flow": null,
            "grid_area": null,
            "grid_auto_columns": null,
            "grid_auto_flow": null,
            "grid_auto_rows": null,
            "grid_column": null,
            "grid_gap": null,
            "grid_row": null,
            "grid_template_areas": null,
            "grid_template_columns": null,
            "grid_template_rows": null,
            "height": null,
            "justify_content": null,
            "justify_items": null,
            "left": null,
            "margin": null,
            "max_height": null,
            "max_width": null,
            "min_height": null,
            "min_width": null,
            "object_fit": null,
            "object_position": null,
            "order": null,
            "overflow": null,
            "overflow_x": null,
            "overflow_y": null,
            "padding": null,
            "right": null,
            "top": null,
            "visibility": null,
            "width": null
          }
        },
        "e3971de9011349609af629bea22759c6": {
          "model_module": "@jupyter-widgets/controls",
          "model_name": "DescriptionStyleModel",
          "model_module_version": "1.5.0",
          "state": {
            "_model_module": "@jupyter-widgets/controls",
            "_model_module_version": "1.5.0",
            "_model_name": "DescriptionStyleModel",
            "_view_count": null,
            "_view_module": "@jupyter-widgets/base",
            "_view_module_version": "1.2.0",
            "_view_name": "StyleView",
            "description_width": ""
          }
        },
        "3eeec2c1539a4747abc05646e6e8ce11": {
          "model_module": "@jupyter-widgets/base",
          "model_name": "LayoutModel",
          "model_module_version": "1.2.0",
          "state": {
            "_model_module": "@jupyter-widgets/base",
            "_model_module_version": "1.2.0",
            "_model_name": "LayoutModel",
            "_view_count": null,
            "_view_module": "@jupyter-widgets/base",
            "_view_module_version": "1.2.0",
            "_view_name": "LayoutView",
            "align_content": null,
            "align_items": null,
            "align_self": null,
            "border": null,
            "bottom": null,
            "display": null,
            "flex": null,
            "flex_flow": null,
            "grid_area": null,
            "grid_auto_columns": null,
            "grid_auto_flow": null,
            "grid_auto_rows": null,
            "grid_column": null,
            "grid_gap": null,
            "grid_row": null,
            "grid_template_areas": null,
            "grid_template_columns": null,
            "grid_template_rows": null,
            "height": null,
            "justify_content": null,
            "justify_items": null,
            "left": null,
            "margin": null,
            "max_height": null,
            "max_width": null,
            "min_height": null,
            "min_width": null,
            "object_fit": null,
            "object_position": null,
            "order": null,
            "overflow": null,
            "overflow_x": null,
            "overflow_y": null,
            "padding": null,
            "right": null,
            "top": null,
            "visibility": null,
            "width": "20px"
          }
        },
        "b001c9bc6690455aa55360fe10c50324": {
          "model_module": "@jupyter-widgets/controls",
          "model_name": "ProgressStyleModel",
          "model_module_version": "1.5.0",
          "state": {
            "_model_module": "@jupyter-widgets/controls",
            "_model_module_version": "1.5.0",
            "_model_name": "ProgressStyleModel",
            "_view_count": null,
            "_view_module": "@jupyter-widgets/base",
            "_view_module_version": "1.2.0",
            "_view_name": "StyleView",
            "bar_color": null,
            "description_width": ""
          }
        },
        "52af03309db84ee9b6b5952ca0a4ba25": {
          "model_module": "@jupyter-widgets/base",
          "model_name": "LayoutModel",
          "model_module_version": "1.2.0",
          "state": {
            "_model_module": "@jupyter-widgets/base",
            "_model_module_version": "1.2.0",
            "_model_name": "LayoutModel",
            "_view_count": null,
            "_view_module": "@jupyter-widgets/base",
            "_view_module_version": "1.2.0",
            "_view_name": "LayoutView",
            "align_content": null,
            "align_items": null,
            "align_self": null,
            "border": null,
            "bottom": null,
            "display": null,
            "flex": null,
            "flex_flow": null,
            "grid_area": null,
            "grid_auto_columns": null,
            "grid_auto_flow": null,
            "grid_auto_rows": null,
            "grid_column": null,
            "grid_gap": null,
            "grid_row": null,
            "grid_template_areas": null,
            "grid_template_columns": null,
            "grid_template_rows": null,
            "height": null,
            "justify_content": null,
            "justify_items": null,
            "left": null,
            "margin": null,
            "max_height": null,
            "max_width": null,
            "min_height": null,
            "min_width": null,
            "object_fit": null,
            "object_position": null,
            "order": null,
            "overflow": null,
            "overflow_x": null,
            "overflow_y": null,
            "padding": null,
            "right": null,
            "top": null,
            "visibility": null,
            "width": null
          }
        },
        "d805e754c9fc4c2c906166006f85d35c": {
          "model_module": "@jupyter-widgets/controls",
          "model_name": "DescriptionStyleModel",
          "model_module_version": "1.5.0",
          "state": {
            "_model_module": "@jupyter-widgets/controls",
            "_model_module_version": "1.5.0",
            "_model_name": "DescriptionStyleModel",
            "_view_count": null,
            "_view_module": "@jupyter-widgets/base",
            "_view_module_version": "1.2.0",
            "_view_name": "StyleView",
            "description_width": ""
          }
        },
        "f376809f90bd47798dbc8488811801b0": {
          "model_module": "@jupyter-widgets/controls",
          "model_name": "HBoxModel",
          "model_module_version": "1.5.0",
          "state": {
            "_dom_classes": [],
            "_model_module": "@jupyter-widgets/controls",
            "_model_module_version": "1.5.0",
            "_model_name": "HBoxModel",
            "_view_count": null,
            "_view_module": "@jupyter-widgets/controls",
            "_view_module_version": "1.5.0",
            "_view_name": "HBoxView",
            "box_style": "",
            "children": [
              "IPY_MODEL_7f623d4694f5488c8ef83fba24f1841a",
              "IPY_MODEL_e268afc125b843fda2619c76065c4097",
              "IPY_MODEL_6787d985bf4c4d68b198df0d1bc9c491"
            ],
            "layout": "IPY_MODEL_9a324fcee0714aab9dc7cbb39289518b"
          }
        },
        "7f623d4694f5488c8ef83fba24f1841a": {
          "model_module": "@jupyter-widgets/controls",
          "model_name": "HTMLModel",
          "model_module_version": "1.5.0",
          "state": {
            "_dom_classes": [],
            "_model_module": "@jupyter-widgets/controls",
            "_model_module_version": "1.5.0",
            "_model_name": "HTMLModel",
            "_view_count": null,
            "_view_module": "@jupyter-widgets/controls",
            "_view_module_version": "1.5.0",
            "_view_name": "HTMLView",
            "description": "",
            "description_tooltip": null,
            "layout": "IPY_MODEL_cea0c32dcb4b4b19b8d311d109fe9e71",
            "placeholder": "​",
            "style": "IPY_MODEL_31302971e8dc4165936db21aa0b1268a",
            "value": "Fetching 4 files: 100%"
          }
        },
        "e268afc125b843fda2619c76065c4097": {
          "model_module": "@jupyter-widgets/controls",
          "model_name": "FloatProgressModel",
          "model_module_version": "1.5.0",
          "state": {
            "_dom_classes": [],
            "_model_module": "@jupyter-widgets/controls",
            "_model_module_version": "1.5.0",
            "_model_name": "FloatProgressModel",
            "_view_count": null,
            "_view_module": "@jupyter-widgets/controls",
            "_view_module_version": "1.5.0",
            "_view_name": "ProgressView",
            "bar_style": "success",
            "description": "",
            "description_tooltip": null,
            "layout": "IPY_MODEL_41c165675c6546278fcb4e24831b7d69",
            "max": 4,
            "min": 0,
            "orientation": "horizontal",
            "style": "IPY_MODEL_af30ff218b4b4872aed82dc8fb0af722",
            "value": 4
          }
        },
        "6787d985bf4c4d68b198df0d1bc9c491": {
          "model_module": "@jupyter-widgets/controls",
          "model_name": "HTMLModel",
          "model_module_version": "1.5.0",
          "state": {
            "_dom_classes": [],
            "_model_module": "@jupyter-widgets/controls",
            "_model_module_version": "1.5.0",
            "_model_name": "HTMLModel",
            "_view_count": null,
            "_view_module": "@jupyter-widgets/controls",
            "_view_module_version": "1.5.0",
            "_view_name": "HTMLView",
            "description": "",
            "description_tooltip": null,
            "layout": "IPY_MODEL_419a4d16168f4cfbbe7c8d815e5b4ac9",
            "placeholder": "​",
            "style": "IPY_MODEL_fe25edb0a42148f3a7aaf2cc6b6af19b",
            "value": " 4/4 [00:56&lt;00:00, 56.52s/it]"
          }
        },
        "9a324fcee0714aab9dc7cbb39289518b": {
          "model_module": "@jupyter-widgets/base",
          "model_name": "LayoutModel",
          "model_module_version": "1.2.0",
          "state": {
            "_model_module": "@jupyter-widgets/base",
            "_model_module_version": "1.2.0",
            "_model_name": "LayoutModel",
            "_view_count": null,
            "_view_module": "@jupyter-widgets/base",
            "_view_module_version": "1.2.0",
            "_view_name": "LayoutView",
            "align_content": null,
            "align_items": null,
            "align_self": null,
            "border": null,
            "bottom": null,
            "display": null,
            "flex": null,
            "flex_flow": null,
            "grid_area": null,
            "grid_auto_columns": null,
            "grid_auto_flow": null,
            "grid_auto_rows": null,
            "grid_column": null,
            "grid_gap": null,
            "grid_row": null,
            "grid_template_areas": null,
            "grid_template_columns": null,
            "grid_template_rows": null,
            "height": null,
            "justify_content": null,
            "justify_items": null,
            "left": null,
            "margin": null,
            "max_height": null,
            "max_width": null,
            "min_height": null,
            "min_width": null,
            "object_fit": null,
            "object_position": null,
            "order": null,
            "overflow": null,
            "overflow_x": null,
            "overflow_y": null,
            "padding": null,
            "right": null,
            "top": null,
            "visibility": null,
            "width": null
          }
        },
        "cea0c32dcb4b4b19b8d311d109fe9e71": {
          "model_module": "@jupyter-widgets/base",
          "model_name": "LayoutModel",
          "model_module_version": "1.2.0",
          "state": {
            "_model_module": "@jupyter-widgets/base",
            "_model_module_version": "1.2.0",
            "_model_name": "LayoutModel",
            "_view_count": null,
            "_view_module": "@jupyter-widgets/base",
            "_view_module_version": "1.2.0",
            "_view_name": "LayoutView",
            "align_content": null,
            "align_items": null,
            "align_self": null,
            "border": null,
            "bottom": null,
            "display": null,
            "flex": null,
            "flex_flow": null,
            "grid_area": null,
            "grid_auto_columns": null,
            "grid_auto_flow": null,
            "grid_auto_rows": null,
            "grid_column": null,
            "grid_gap": null,
            "grid_row": null,
            "grid_template_areas": null,
            "grid_template_columns": null,
            "grid_template_rows": null,
            "height": null,
            "justify_content": null,
            "justify_items": null,
            "left": null,
            "margin": null,
            "max_height": null,
            "max_width": null,
            "min_height": null,
            "min_width": null,
            "object_fit": null,
            "object_position": null,
            "order": null,
            "overflow": null,
            "overflow_x": null,
            "overflow_y": null,
            "padding": null,
            "right": null,
            "top": null,
            "visibility": null,
            "width": null
          }
        },
        "31302971e8dc4165936db21aa0b1268a": {
          "model_module": "@jupyter-widgets/controls",
          "model_name": "DescriptionStyleModel",
          "model_module_version": "1.5.0",
          "state": {
            "_model_module": "@jupyter-widgets/controls",
            "_model_module_version": "1.5.0",
            "_model_name": "DescriptionStyleModel",
            "_view_count": null,
            "_view_module": "@jupyter-widgets/base",
            "_view_module_version": "1.2.0",
            "_view_name": "StyleView",
            "description_width": ""
          }
        },
        "41c165675c6546278fcb4e24831b7d69": {
          "model_module": "@jupyter-widgets/base",
          "model_name": "LayoutModel",
          "model_module_version": "1.2.0",
          "state": {
            "_model_module": "@jupyter-widgets/base",
            "_model_module_version": "1.2.0",
            "_model_name": "LayoutModel",
            "_view_count": null,
            "_view_module": "@jupyter-widgets/base",
            "_view_module_version": "1.2.0",
            "_view_name": "LayoutView",
            "align_content": null,
            "align_items": null,
            "align_self": null,
            "border": null,
            "bottom": null,
            "display": null,
            "flex": null,
            "flex_flow": null,
            "grid_area": null,
            "grid_auto_columns": null,
            "grid_auto_flow": null,
            "grid_auto_rows": null,
            "grid_column": null,
            "grid_gap": null,
            "grid_row": null,
            "grid_template_areas": null,
            "grid_template_columns": null,
            "grid_template_rows": null,
            "height": null,
            "justify_content": null,
            "justify_items": null,
            "left": null,
            "margin": null,
            "max_height": null,
            "max_width": null,
            "min_height": null,
            "min_width": null,
            "object_fit": null,
            "object_position": null,
            "order": null,
            "overflow": null,
            "overflow_x": null,
            "overflow_y": null,
            "padding": null,
            "right": null,
            "top": null,
            "visibility": null,
            "width": null
          }
        },
        "af30ff218b4b4872aed82dc8fb0af722": {
          "model_module": "@jupyter-widgets/controls",
          "model_name": "ProgressStyleModel",
          "model_module_version": "1.5.0",
          "state": {
            "_model_module": "@jupyter-widgets/controls",
            "_model_module_version": "1.5.0",
            "_model_name": "ProgressStyleModel",
            "_view_count": null,
            "_view_module": "@jupyter-widgets/base",
            "_view_module_version": "1.2.0",
            "_view_name": "StyleView",
            "bar_color": null,
            "description_width": ""
          }
        },
        "419a4d16168f4cfbbe7c8d815e5b4ac9": {
          "model_module": "@jupyter-widgets/base",
          "model_name": "LayoutModel",
          "model_module_version": "1.2.0",
          "state": {
            "_model_module": "@jupyter-widgets/base",
            "_model_module_version": "1.2.0",
            "_model_name": "LayoutModel",
            "_view_count": null,
            "_view_module": "@jupyter-widgets/base",
            "_view_module_version": "1.2.0",
            "_view_name": "LayoutView",
            "align_content": null,
            "align_items": null,
            "align_self": null,
            "border": null,
            "bottom": null,
            "display": null,
            "flex": null,
            "flex_flow": null,
            "grid_area": null,
            "grid_auto_columns": null,
            "grid_auto_flow": null,
            "grid_auto_rows": null,
            "grid_column": null,
            "grid_gap": null,
            "grid_row": null,
            "grid_template_areas": null,
            "grid_template_columns": null,
            "grid_template_rows": null,
            "height": null,
            "justify_content": null,
            "justify_items": null,
            "left": null,
            "margin": null,
            "max_height": null,
            "max_width": null,
            "min_height": null,
            "min_width": null,
            "object_fit": null,
            "object_position": null,
            "order": null,
            "overflow": null,
            "overflow_x": null,
            "overflow_y": null,
            "padding": null,
            "right": null,
            "top": null,
            "visibility": null,
            "width": null
          }
        },
        "fe25edb0a42148f3a7aaf2cc6b6af19b": {
          "model_module": "@jupyter-widgets/controls",
          "model_name": "DescriptionStyleModel",
          "model_module_version": "1.5.0",
          "state": {
            "_model_module": "@jupyter-widgets/controls",
            "_model_module_version": "1.5.0",
            "_model_name": "DescriptionStyleModel",
            "_view_count": null,
            "_view_module": "@jupyter-widgets/base",
            "_view_module_version": "1.2.0",
            "_view_name": "StyleView",
            "description_width": ""
          }
        },
        "039a4bcbdc1f4c29b8fb1df639acc806": {
          "model_module": "@jupyter-widgets/controls",
          "model_name": "HBoxModel",
          "model_module_version": "1.5.0",
          "state": {
            "_dom_classes": [],
            "_model_module": "@jupyter-widgets/controls",
            "_model_module_version": "1.5.0",
            "_model_name": "HBoxModel",
            "_view_count": null,
            "_view_module": "@jupyter-widgets/controls",
            "_view_module_version": "1.5.0",
            "_view_name": "HBoxView",
            "box_style": "",
            "children": [
              "IPY_MODEL_c69413618e9c4780a0c6773d94ba98e4",
              "IPY_MODEL_fa91c3e7d5124b7a94ef645cf32cdadd",
              "IPY_MODEL_2dae30e57d3a4bccb924ee1a41408171"
            ],
            "layout": "IPY_MODEL_2925da97ccdd4505b6c1d99402c08ffd"
          }
        },
        "c69413618e9c4780a0c6773d94ba98e4": {
          "model_module": "@jupyter-widgets/controls",
          "model_name": "HTMLModel",
          "model_module_version": "1.5.0",
          "state": {
            "_dom_classes": [],
            "_model_module": "@jupyter-widgets/controls",
            "_model_module_version": "1.5.0",
            "_model_name": "HTMLModel",
            "_view_count": null,
            "_view_module": "@jupyter-widgets/controls",
            "_view_module_version": "1.5.0",
            "_view_name": "HTMLView",
            "description": "",
            "description_tooltip": null,
            "layout": "IPY_MODEL_8ed6953fcc4e4248b27a1a3d980ef28e",
            "placeholder": "​",
            "style": "IPY_MODEL_fd7aa7927d294c5f8b24c000afc9a182",
            "value": "model-00001-of-00004.safetensors: 100%"
          }
        },
        "fa91c3e7d5124b7a94ef645cf32cdadd": {
          "model_module": "@jupyter-widgets/controls",
          "model_name": "FloatProgressModel",
          "model_module_version": "1.5.0",
          "state": {
            "_dom_classes": [],
            "_model_module": "@jupyter-widgets/controls",
            "_model_module_version": "1.5.0",
            "_model_name": "FloatProgressModel",
            "_view_count": null,
            "_view_module": "@jupyter-widgets/controls",
            "_view_module_version": "1.5.0",
            "_view_name": "ProgressView",
            "bar_style": "success",
            "description": "",
            "description_tooltip": null,
            "layout": "IPY_MODEL_3fc5bf5a16f74c0cb1805992bd5d0df4",
            "max": 4991123960,
            "min": 0,
            "orientation": "horizontal",
            "style": "IPY_MODEL_80a517afb03d466dba861702d0bcb4f0",
            "value": 4991123960
          }
        },
        "2dae30e57d3a4bccb924ee1a41408171": {
          "model_module": "@jupyter-widgets/controls",
          "model_name": "HTMLModel",
          "model_module_version": "1.5.0",
          "state": {
            "_dom_classes": [],
            "_model_module": "@jupyter-widgets/controls",
            "_model_module_version": "1.5.0",
            "_model_name": "HTMLModel",
            "_view_count": null,
            "_view_module": "@jupyter-widgets/controls",
            "_view_module_version": "1.5.0",
            "_view_name": "HTMLView",
            "description": "",
            "description_tooltip": null,
            "layout": "IPY_MODEL_64ff165b913545c5b8b248f59516fb1c",
            "placeholder": "​",
            "style": "IPY_MODEL_f6bb92a5bf244063911930b1169e417b",
            "value": " 4.99G/4.99G [00:56&lt;00:00, 320MB/s]"
          }
        },
        "2925da97ccdd4505b6c1d99402c08ffd": {
          "model_module": "@jupyter-widgets/base",
          "model_name": "LayoutModel",
          "model_module_version": "1.2.0",
          "state": {
            "_model_module": "@jupyter-widgets/base",
            "_model_module_version": "1.2.0",
            "_model_name": "LayoutModel",
            "_view_count": null,
            "_view_module": "@jupyter-widgets/base",
            "_view_module_version": "1.2.0",
            "_view_name": "LayoutView",
            "align_content": null,
            "align_items": null,
            "align_self": null,
            "border": null,
            "bottom": null,
            "display": null,
            "flex": null,
            "flex_flow": null,
            "grid_area": null,
            "grid_auto_columns": null,
            "grid_auto_flow": null,
            "grid_auto_rows": null,
            "grid_column": null,
            "grid_gap": null,
            "grid_row": null,
            "grid_template_areas": null,
            "grid_template_columns": null,
            "grid_template_rows": null,
            "height": null,
            "justify_content": null,
            "justify_items": null,
            "left": null,
            "margin": null,
            "max_height": null,
            "max_width": null,
            "min_height": null,
            "min_width": null,
            "object_fit": null,
            "object_position": null,
            "order": null,
            "overflow": null,
            "overflow_x": null,
            "overflow_y": null,
            "padding": null,
            "right": null,
            "top": null,
            "visibility": null,
            "width": null
          }
        },
        "8ed6953fcc4e4248b27a1a3d980ef28e": {
          "model_module": "@jupyter-widgets/base",
          "model_name": "LayoutModel",
          "model_module_version": "1.2.0",
          "state": {
            "_model_module": "@jupyter-widgets/base",
            "_model_module_version": "1.2.0",
            "_model_name": "LayoutModel",
            "_view_count": null,
            "_view_module": "@jupyter-widgets/base",
            "_view_module_version": "1.2.0",
            "_view_name": "LayoutView",
            "align_content": null,
            "align_items": null,
            "align_self": null,
            "border": null,
            "bottom": null,
            "display": null,
            "flex": null,
            "flex_flow": null,
            "grid_area": null,
            "grid_auto_columns": null,
            "grid_auto_flow": null,
            "grid_auto_rows": null,
            "grid_column": null,
            "grid_gap": null,
            "grid_row": null,
            "grid_template_areas": null,
            "grid_template_columns": null,
            "grid_template_rows": null,
            "height": null,
            "justify_content": null,
            "justify_items": null,
            "left": null,
            "margin": null,
            "max_height": null,
            "max_width": null,
            "min_height": null,
            "min_width": null,
            "object_fit": null,
            "object_position": null,
            "order": null,
            "overflow": null,
            "overflow_x": null,
            "overflow_y": null,
            "padding": null,
            "right": null,
            "top": null,
            "visibility": null,
            "width": null
          }
        },
        "fd7aa7927d294c5f8b24c000afc9a182": {
          "model_module": "@jupyter-widgets/controls",
          "model_name": "DescriptionStyleModel",
          "model_module_version": "1.5.0",
          "state": {
            "_model_module": "@jupyter-widgets/controls",
            "_model_module_version": "1.5.0",
            "_model_name": "DescriptionStyleModel",
            "_view_count": null,
            "_view_module": "@jupyter-widgets/base",
            "_view_module_version": "1.2.0",
            "_view_name": "StyleView",
            "description_width": ""
          }
        },
        "3fc5bf5a16f74c0cb1805992bd5d0df4": {
          "model_module": "@jupyter-widgets/base",
          "model_name": "LayoutModel",
          "model_module_version": "1.2.0",
          "state": {
            "_model_module": "@jupyter-widgets/base",
            "_model_module_version": "1.2.0",
            "_model_name": "LayoutModel",
            "_view_count": null,
            "_view_module": "@jupyter-widgets/base",
            "_view_module_version": "1.2.0",
            "_view_name": "LayoutView",
            "align_content": null,
            "align_items": null,
            "align_self": null,
            "border": null,
            "bottom": null,
            "display": null,
            "flex": null,
            "flex_flow": null,
            "grid_area": null,
            "grid_auto_columns": null,
            "grid_auto_flow": null,
            "grid_auto_rows": null,
            "grid_column": null,
            "grid_gap": null,
            "grid_row": null,
            "grid_template_areas": null,
            "grid_template_columns": null,
            "grid_template_rows": null,
            "height": null,
            "justify_content": null,
            "justify_items": null,
            "left": null,
            "margin": null,
            "max_height": null,
            "max_width": null,
            "min_height": null,
            "min_width": null,
            "object_fit": null,
            "object_position": null,
            "order": null,
            "overflow": null,
            "overflow_x": null,
            "overflow_y": null,
            "padding": null,
            "right": null,
            "top": null,
            "visibility": null,
            "width": null
          }
        },
        "80a517afb03d466dba861702d0bcb4f0": {
          "model_module": "@jupyter-widgets/controls",
          "model_name": "ProgressStyleModel",
          "model_module_version": "1.5.0",
          "state": {
            "_model_module": "@jupyter-widgets/controls",
            "_model_module_version": "1.5.0",
            "_model_name": "ProgressStyleModel",
            "_view_count": null,
            "_view_module": "@jupyter-widgets/base",
            "_view_module_version": "1.2.0",
            "_view_name": "StyleView",
            "bar_color": null,
            "description_width": ""
          }
        },
        "64ff165b913545c5b8b248f59516fb1c": {
          "model_module": "@jupyter-widgets/base",
          "model_name": "LayoutModel",
          "model_module_version": "1.2.0",
          "state": {
            "_model_module": "@jupyter-widgets/base",
            "_model_module_version": "1.2.0",
            "_model_name": "LayoutModel",
            "_view_count": null,
            "_view_module": "@jupyter-widgets/base",
            "_view_module_version": "1.2.0",
            "_view_name": "LayoutView",
            "align_content": null,
            "align_items": null,
            "align_self": null,
            "border": null,
            "bottom": null,
            "display": null,
            "flex": null,
            "flex_flow": null,
            "grid_area": null,
            "grid_auto_columns": null,
            "grid_auto_flow": null,
            "grid_auto_rows": null,
            "grid_column": null,
            "grid_gap": null,
            "grid_row": null,
            "grid_template_areas": null,
            "grid_template_columns": null,
            "grid_template_rows": null,
            "height": null,
            "justify_content": null,
            "justify_items": null,
            "left": null,
            "margin": null,
            "max_height": null,
            "max_width": null,
            "min_height": null,
            "min_width": null,
            "object_fit": null,
            "object_position": null,
            "order": null,
            "overflow": null,
            "overflow_x": null,
            "overflow_y": null,
            "padding": null,
            "right": null,
            "top": null,
            "visibility": null,
            "width": null
          }
        },
        "f6bb92a5bf244063911930b1169e417b": {
          "model_module": "@jupyter-widgets/controls",
          "model_name": "DescriptionStyleModel",
          "model_module_version": "1.5.0",
          "state": {
            "_model_module": "@jupyter-widgets/controls",
            "_model_module_version": "1.5.0",
            "_model_name": "DescriptionStyleModel",
            "_view_count": null,
            "_view_module": "@jupyter-widgets/base",
            "_view_module_version": "1.2.0",
            "_view_name": "StyleView",
            "description_width": ""
          }
        },
        "7579c383714242dab865aa6d928e95fb": {
          "model_module": "@jupyter-widgets/controls",
          "model_name": "HBoxModel",
          "model_module_version": "1.5.0",
          "state": {
            "_dom_classes": [],
            "_model_module": "@jupyter-widgets/controls",
            "_model_module_version": "1.5.0",
            "_model_name": "HBoxModel",
            "_view_count": null,
            "_view_module": "@jupyter-widgets/controls",
            "_view_module_version": "1.5.0",
            "_view_name": "HBoxView",
            "box_style": "",
            "children": [
              "IPY_MODEL_0ed42afc07704543bc603c313ee90372",
              "IPY_MODEL_d11ee6da1f174b1ca8ad54fee497b4ea",
              "IPY_MODEL_8654f9d22c294295994351a05ed56474"
            ],
            "layout": "IPY_MODEL_30cbd184738a447ca1a3b8cbe0e301e2"
          }
        },
        "0ed42afc07704543bc603c313ee90372": {
          "model_module": "@jupyter-widgets/controls",
          "model_name": "HTMLModel",
          "model_module_version": "1.5.0",
          "state": {
            "_dom_classes": [],
            "_model_module": "@jupyter-widgets/controls",
            "_model_module_version": "1.5.0",
            "_model_name": "HTMLModel",
            "_view_count": null,
            "_view_module": "@jupyter-widgets/controls",
            "_view_module_version": "1.5.0",
            "_view_name": "HTMLView",
            "description": "",
            "description_tooltip": null,
            "layout": "IPY_MODEL_4ea247e5c0254071afd816f697a056a2",
            "placeholder": "​",
            "style": "IPY_MODEL_67d1e308d9d5423893bbe62d4c12606d",
            "value": "model-00004-of-00004.safetensors: 100%"
          }
        },
        "d11ee6da1f174b1ca8ad54fee497b4ea": {
          "model_module": "@jupyter-widgets/controls",
          "model_name": "FloatProgressModel",
          "model_module_version": "1.5.0",
          "state": {
            "_dom_classes": [],
            "_model_module": "@jupyter-widgets/controls",
            "_model_module_version": "1.5.0",
            "_model_name": "FloatProgressModel",
            "_view_count": null,
            "_view_module": "@jupyter-widgets/controls",
            "_view_module_version": "1.5.0",
            "_view_name": "ProgressView",
            "bar_style": "success",
            "description": "",
            "description_tooltip": null,
            "layout": "IPY_MODEL_087c68f812b34a74a33caf470bd6996a",
            "max": 1142280864,
            "min": 0,
            "orientation": "horizontal",
            "style": "IPY_MODEL_4458dde36ed44067864bdd72b6f6e68d",
            "value": 1142280864
          }
        },
        "8654f9d22c294295994351a05ed56474": {
          "model_module": "@jupyter-widgets/controls",
          "model_name": "HTMLModel",
          "model_module_version": "1.5.0",
          "state": {
            "_dom_classes": [],
            "_model_module": "@jupyter-widgets/controls",
            "_model_module_version": "1.5.0",
            "_model_name": "HTMLModel",
            "_view_count": null,
            "_view_module": "@jupyter-widgets/controls",
            "_view_module_version": "1.5.0",
            "_view_name": "HTMLView",
            "description": "",
            "description_tooltip": null,
            "layout": "IPY_MODEL_d31930fcb76a41078b2c4f4b497f971d",
            "placeholder": "​",
            "style": "IPY_MODEL_e9097b4b82fc457fa8cd630984bae320",
            "value": " 1.14G/1.14G [00:18&lt;00:00, 55.2MB/s]"
          }
        },
        "30cbd184738a447ca1a3b8cbe0e301e2": {
          "model_module": "@jupyter-widgets/base",
          "model_name": "LayoutModel",
          "model_module_version": "1.2.0",
          "state": {
            "_model_module": "@jupyter-widgets/base",
            "_model_module_version": "1.2.0",
            "_model_name": "LayoutModel",
            "_view_count": null,
            "_view_module": "@jupyter-widgets/base",
            "_view_module_version": "1.2.0",
            "_view_name": "LayoutView",
            "align_content": null,
            "align_items": null,
            "align_self": null,
            "border": null,
            "bottom": null,
            "display": null,
            "flex": null,
            "flex_flow": null,
            "grid_area": null,
            "grid_auto_columns": null,
            "grid_auto_flow": null,
            "grid_auto_rows": null,
            "grid_column": null,
            "grid_gap": null,
            "grid_row": null,
            "grid_template_areas": null,
            "grid_template_columns": null,
            "grid_template_rows": null,
            "height": null,
            "justify_content": null,
            "justify_items": null,
            "left": null,
            "margin": null,
            "max_height": null,
            "max_width": null,
            "min_height": null,
            "min_width": null,
            "object_fit": null,
            "object_position": null,
            "order": null,
            "overflow": null,
            "overflow_x": null,
            "overflow_y": null,
            "padding": null,
            "right": null,
            "top": null,
            "visibility": null,
            "width": null
          }
        },
        "4ea247e5c0254071afd816f697a056a2": {
          "model_module": "@jupyter-widgets/base",
          "model_name": "LayoutModel",
          "model_module_version": "1.2.0",
          "state": {
            "_model_module": "@jupyter-widgets/base",
            "_model_module_version": "1.2.0",
            "_model_name": "LayoutModel",
            "_view_count": null,
            "_view_module": "@jupyter-widgets/base",
            "_view_module_version": "1.2.0",
            "_view_name": "LayoutView",
            "align_content": null,
            "align_items": null,
            "align_self": null,
            "border": null,
            "bottom": null,
            "display": null,
            "flex": null,
            "flex_flow": null,
            "grid_area": null,
            "grid_auto_columns": null,
            "grid_auto_flow": null,
            "grid_auto_rows": null,
            "grid_column": null,
            "grid_gap": null,
            "grid_row": null,
            "grid_template_areas": null,
            "grid_template_columns": null,
            "grid_template_rows": null,
            "height": null,
            "justify_content": null,
            "justify_items": null,
            "left": null,
            "margin": null,
            "max_height": null,
            "max_width": null,
            "min_height": null,
            "min_width": null,
            "object_fit": null,
            "object_position": null,
            "order": null,
            "overflow": null,
            "overflow_x": null,
            "overflow_y": null,
            "padding": null,
            "right": null,
            "top": null,
            "visibility": null,
            "width": null
          }
        },
        "67d1e308d9d5423893bbe62d4c12606d": {
          "model_module": "@jupyter-widgets/controls",
          "model_name": "DescriptionStyleModel",
          "model_module_version": "1.5.0",
          "state": {
            "_model_module": "@jupyter-widgets/controls",
            "_model_module_version": "1.5.0",
            "_model_name": "DescriptionStyleModel",
            "_view_count": null,
            "_view_module": "@jupyter-widgets/base",
            "_view_module_version": "1.2.0",
            "_view_name": "StyleView",
            "description_width": ""
          }
        },
        "087c68f812b34a74a33caf470bd6996a": {
          "model_module": "@jupyter-widgets/base",
          "model_name": "LayoutModel",
          "model_module_version": "1.2.0",
          "state": {
            "_model_module": "@jupyter-widgets/base",
            "_model_module_version": "1.2.0",
            "_model_name": "LayoutModel",
            "_view_count": null,
            "_view_module": "@jupyter-widgets/base",
            "_view_module_version": "1.2.0",
            "_view_name": "LayoutView",
            "align_content": null,
            "align_items": null,
            "align_self": null,
            "border": null,
            "bottom": null,
            "display": null,
            "flex": null,
            "flex_flow": null,
            "grid_area": null,
            "grid_auto_columns": null,
            "grid_auto_flow": null,
            "grid_auto_rows": null,
            "grid_column": null,
            "grid_gap": null,
            "grid_row": null,
            "grid_template_areas": null,
            "grid_template_columns": null,
            "grid_template_rows": null,
            "height": null,
            "justify_content": null,
            "justify_items": null,
            "left": null,
            "margin": null,
            "max_height": null,
            "max_width": null,
            "min_height": null,
            "min_width": null,
            "object_fit": null,
            "object_position": null,
            "order": null,
            "overflow": null,
            "overflow_x": null,
            "overflow_y": null,
            "padding": null,
            "right": null,
            "top": null,
            "visibility": null,
            "width": null
          }
        },
        "4458dde36ed44067864bdd72b6f6e68d": {
          "model_module": "@jupyter-widgets/controls",
          "model_name": "ProgressStyleModel",
          "model_module_version": "1.5.0",
          "state": {
            "_model_module": "@jupyter-widgets/controls",
            "_model_module_version": "1.5.0",
            "_model_name": "ProgressStyleModel",
            "_view_count": null,
            "_view_module": "@jupyter-widgets/base",
            "_view_module_version": "1.2.0",
            "_view_name": "StyleView",
            "bar_color": null,
            "description_width": ""
          }
        },
        "d31930fcb76a41078b2c4f4b497f971d": {
          "model_module": "@jupyter-widgets/base",
          "model_name": "LayoutModel",
          "model_module_version": "1.2.0",
          "state": {
            "_model_module": "@jupyter-widgets/base",
            "_model_module_version": "1.2.0",
            "_model_name": "LayoutModel",
            "_view_count": null,
            "_view_module": "@jupyter-widgets/base",
            "_view_module_version": "1.2.0",
            "_view_name": "LayoutView",
            "align_content": null,
            "align_items": null,
            "align_self": null,
            "border": null,
            "bottom": null,
            "display": null,
            "flex": null,
            "flex_flow": null,
            "grid_area": null,
            "grid_auto_columns": null,
            "grid_auto_flow": null,
            "grid_auto_rows": null,
            "grid_column": null,
            "grid_gap": null,
            "grid_row": null,
            "grid_template_areas": null,
            "grid_template_columns": null,
            "grid_template_rows": null,
            "height": null,
            "justify_content": null,
            "justify_items": null,
            "left": null,
            "margin": null,
            "max_height": null,
            "max_width": null,
            "min_height": null,
            "min_width": null,
            "object_fit": null,
            "object_position": null,
            "order": null,
            "overflow": null,
            "overflow_x": null,
            "overflow_y": null,
            "padding": null,
            "right": null,
            "top": null,
            "visibility": null,
            "width": null
          }
        },
        "e9097b4b82fc457fa8cd630984bae320": {
          "model_module": "@jupyter-widgets/controls",
          "model_name": "DescriptionStyleModel",
          "model_module_version": "1.5.0",
          "state": {
            "_model_module": "@jupyter-widgets/controls",
            "_model_module_version": "1.5.0",
            "_model_name": "DescriptionStyleModel",
            "_view_count": null,
            "_view_module": "@jupyter-widgets/base",
            "_view_module_version": "1.2.0",
            "_view_name": "StyleView",
            "description_width": ""
          }
        },
        "1a18b9000aff4ef092ac31d4ec132f87": {
          "model_module": "@jupyter-widgets/controls",
          "model_name": "HBoxModel",
          "model_module_version": "1.5.0",
          "state": {
            "_dom_classes": [],
            "_model_module": "@jupyter-widgets/controls",
            "_model_module_version": "1.5.0",
            "_model_name": "HBoxModel",
            "_view_count": null,
            "_view_module": "@jupyter-widgets/controls",
            "_view_module_version": "1.5.0",
            "_view_name": "HBoxView",
            "box_style": "",
            "children": [
              "IPY_MODEL_422e320c5ad64216b2c7de30da73a4ce",
              "IPY_MODEL_fe0f2875c3d84c2c9ae11a46d7c306be",
              "IPY_MODEL_172906ddc89b434b8de05ccd95b49195"
            ],
            "layout": "IPY_MODEL_e71a144b61844396899b3b49cff86e1f"
          }
        },
        "422e320c5ad64216b2c7de30da73a4ce": {
          "model_module": "@jupyter-widgets/controls",
          "model_name": "HTMLModel",
          "model_module_version": "1.5.0",
          "state": {
            "_dom_classes": [],
            "_model_module": "@jupyter-widgets/controls",
            "_model_module_version": "1.5.0",
            "_model_name": "HTMLModel",
            "_view_count": null,
            "_view_module": "@jupyter-widgets/controls",
            "_view_module_version": "1.5.0",
            "_view_name": "HTMLView",
            "description": "",
            "description_tooltip": null,
            "layout": "IPY_MODEL_1b94f9114e7447e3991f837d6e7da686",
            "placeholder": "​",
            "style": "IPY_MODEL_70729334a2174d0f92dd5dfe04762284",
            "value": "model-00003-of-00004.safetensors: 100%"
          }
        },
        "fe0f2875c3d84c2c9ae11a46d7c306be": {
          "model_module": "@jupyter-widgets/controls",
          "model_name": "FloatProgressModel",
          "model_module_version": "1.5.0",
          "state": {
            "_dom_classes": [],
            "_model_module": "@jupyter-widgets/controls",
            "_model_module_version": "1.5.0",
            "_model_name": "FloatProgressModel",
            "_view_count": null,
            "_view_module": "@jupyter-widgets/controls",
            "_view_module_version": "1.5.0",
            "_view_name": "ProgressView",
            "bar_style": "success",
            "description": "",
            "description_tooltip": null,
            "layout": "IPY_MODEL_d20a05f12aec488e832377b2514484be",
            "max": 4796984024,
            "min": 0,
            "orientation": "horizontal",
            "style": "IPY_MODEL_d6f9ff0ec5ae45e9b87fadd5ac029a31",
            "value": 4796984024
          }
        },
        "172906ddc89b434b8de05ccd95b49195": {
          "model_module": "@jupyter-widgets/controls",
          "model_name": "HTMLModel",
          "model_module_version": "1.5.0",
          "state": {
            "_dom_classes": [],
            "_model_module": "@jupyter-widgets/controls",
            "_model_module_version": "1.5.0",
            "_model_name": "HTMLModel",
            "_view_count": null,
            "_view_module": "@jupyter-widgets/controls",
            "_view_module_version": "1.5.0",
            "_view_name": "HTMLView",
            "description": "",
            "description_tooltip": null,
            "layout": "IPY_MODEL_28ed32c2be4744acb095097b38dfe027",
            "placeholder": "​",
            "style": "IPY_MODEL_b28a3a68fd0947dab822c4c933449e62",
            "value": " 4.80G/4.80G [00:53&lt;00:00, 120MB/s]"
          }
        },
        "e71a144b61844396899b3b49cff86e1f": {
          "model_module": "@jupyter-widgets/base",
          "model_name": "LayoutModel",
          "model_module_version": "1.2.0",
          "state": {
            "_model_module": "@jupyter-widgets/base",
            "_model_module_version": "1.2.0",
            "_model_name": "LayoutModel",
            "_view_count": null,
            "_view_module": "@jupyter-widgets/base",
            "_view_module_version": "1.2.0",
            "_view_name": "LayoutView",
            "align_content": null,
            "align_items": null,
            "align_self": null,
            "border": null,
            "bottom": null,
            "display": null,
            "flex": null,
            "flex_flow": null,
            "grid_area": null,
            "grid_auto_columns": null,
            "grid_auto_flow": null,
            "grid_auto_rows": null,
            "grid_column": null,
            "grid_gap": null,
            "grid_row": null,
            "grid_template_areas": null,
            "grid_template_columns": null,
            "grid_template_rows": null,
            "height": null,
            "justify_content": null,
            "justify_items": null,
            "left": null,
            "margin": null,
            "max_height": null,
            "max_width": null,
            "min_height": null,
            "min_width": null,
            "object_fit": null,
            "object_position": null,
            "order": null,
            "overflow": null,
            "overflow_x": null,
            "overflow_y": null,
            "padding": null,
            "right": null,
            "top": null,
            "visibility": null,
            "width": null
          }
        },
        "1b94f9114e7447e3991f837d6e7da686": {
          "model_module": "@jupyter-widgets/base",
          "model_name": "LayoutModel",
          "model_module_version": "1.2.0",
          "state": {
            "_model_module": "@jupyter-widgets/base",
            "_model_module_version": "1.2.0",
            "_model_name": "LayoutModel",
            "_view_count": null,
            "_view_module": "@jupyter-widgets/base",
            "_view_module_version": "1.2.0",
            "_view_name": "LayoutView",
            "align_content": null,
            "align_items": null,
            "align_self": null,
            "border": null,
            "bottom": null,
            "display": null,
            "flex": null,
            "flex_flow": null,
            "grid_area": null,
            "grid_auto_columns": null,
            "grid_auto_flow": null,
            "grid_auto_rows": null,
            "grid_column": null,
            "grid_gap": null,
            "grid_row": null,
            "grid_template_areas": null,
            "grid_template_columns": null,
            "grid_template_rows": null,
            "height": null,
            "justify_content": null,
            "justify_items": null,
            "left": null,
            "margin": null,
            "max_height": null,
            "max_width": null,
            "min_height": null,
            "min_width": null,
            "object_fit": null,
            "object_position": null,
            "order": null,
            "overflow": null,
            "overflow_x": null,
            "overflow_y": null,
            "padding": null,
            "right": null,
            "top": null,
            "visibility": null,
            "width": null
          }
        },
        "70729334a2174d0f92dd5dfe04762284": {
          "model_module": "@jupyter-widgets/controls",
          "model_name": "DescriptionStyleModel",
          "model_module_version": "1.5.0",
          "state": {
            "_model_module": "@jupyter-widgets/controls",
            "_model_module_version": "1.5.0",
            "_model_name": "DescriptionStyleModel",
            "_view_count": null,
            "_view_module": "@jupyter-widgets/base",
            "_view_module_version": "1.2.0",
            "_view_name": "StyleView",
            "description_width": ""
          }
        },
        "d20a05f12aec488e832377b2514484be": {
          "model_module": "@jupyter-widgets/base",
          "model_name": "LayoutModel",
          "model_module_version": "1.2.0",
          "state": {
            "_model_module": "@jupyter-widgets/base",
            "_model_module_version": "1.2.0",
            "_model_name": "LayoutModel",
            "_view_count": null,
            "_view_module": "@jupyter-widgets/base",
            "_view_module_version": "1.2.0",
            "_view_name": "LayoutView",
            "align_content": null,
            "align_items": null,
            "align_self": null,
            "border": null,
            "bottom": null,
            "display": null,
            "flex": null,
            "flex_flow": null,
            "grid_area": null,
            "grid_auto_columns": null,
            "grid_auto_flow": null,
            "grid_auto_rows": null,
            "grid_column": null,
            "grid_gap": null,
            "grid_row": null,
            "grid_template_areas": null,
            "grid_template_columns": null,
            "grid_template_rows": null,
            "height": null,
            "justify_content": null,
            "justify_items": null,
            "left": null,
            "margin": null,
            "max_height": null,
            "max_width": null,
            "min_height": null,
            "min_width": null,
            "object_fit": null,
            "object_position": null,
            "order": null,
            "overflow": null,
            "overflow_x": null,
            "overflow_y": null,
            "padding": null,
            "right": null,
            "top": null,
            "visibility": null,
            "width": null
          }
        },
        "d6f9ff0ec5ae45e9b87fadd5ac029a31": {
          "model_module": "@jupyter-widgets/controls",
          "model_name": "ProgressStyleModel",
          "model_module_version": "1.5.0",
          "state": {
            "_model_module": "@jupyter-widgets/controls",
            "_model_module_version": "1.5.0",
            "_model_name": "ProgressStyleModel",
            "_view_count": null,
            "_view_module": "@jupyter-widgets/base",
            "_view_module_version": "1.2.0",
            "_view_name": "StyleView",
            "bar_color": null,
            "description_width": ""
          }
        },
        "28ed32c2be4744acb095097b38dfe027": {
          "model_module": "@jupyter-widgets/base",
          "model_name": "LayoutModel",
          "model_module_version": "1.2.0",
          "state": {
            "_model_module": "@jupyter-widgets/base",
            "_model_module_version": "1.2.0",
            "_model_name": "LayoutModel",
            "_view_count": null,
            "_view_module": "@jupyter-widgets/base",
            "_view_module_version": "1.2.0",
            "_view_name": "LayoutView",
            "align_content": null,
            "align_items": null,
            "align_self": null,
            "border": null,
            "bottom": null,
            "display": null,
            "flex": null,
            "flex_flow": null,
            "grid_area": null,
            "grid_auto_columns": null,
            "grid_auto_flow": null,
            "grid_auto_rows": null,
            "grid_column": null,
            "grid_gap": null,
            "grid_row": null,
            "grid_template_areas": null,
            "grid_template_columns": null,
            "grid_template_rows": null,
            "height": null,
            "justify_content": null,
            "justify_items": null,
            "left": null,
            "margin": null,
            "max_height": null,
            "max_width": null,
            "min_height": null,
            "min_width": null,
            "object_fit": null,
            "object_position": null,
            "order": null,
            "overflow": null,
            "overflow_x": null,
            "overflow_y": null,
            "padding": null,
            "right": null,
            "top": null,
            "visibility": null,
            "width": null
          }
        },
        "b28a3a68fd0947dab822c4c933449e62": {
          "model_module": "@jupyter-widgets/controls",
          "model_name": "DescriptionStyleModel",
          "model_module_version": "1.5.0",
          "state": {
            "_model_module": "@jupyter-widgets/controls",
            "_model_module_version": "1.5.0",
            "_model_name": "DescriptionStyleModel",
            "_view_count": null,
            "_view_module": "@jupyter-widgets/base",
            "_view_module_version": "1.2.0",
            "_view_name": "StyleView",
            "description_width": ""
          }
        },
        "3c83e497bae94f209ec69ee45faa7567": {
          "model_module": "@jupyter-widgets/controls",
          "model_name": "HBoxModel",
          "model_module_version": "1.5.0",
          "state": {
            "_dom_classes": [],
            "_model_module": "@jupyter-widgets/controls",
            "_model_module_version": "1.5.0",
            "_model_name": "HBoxModel",
            "_view_count": null,
            "_view_module": "@jupyter-widgets/controls",
            "_view_module_version": "1.5.0",
            "_view_name": "HBoxView",
            "box_style": "",
            "children": [
              "IPY_MODEL_6c2f1a1022a44ebfbbf580cb698ad17e",
              "IPY_MODEL_fd40313cda104592b975df8143cd7b85",
              "IPY_MODEL_f3b3aa65ef694439ada97e64818b63cd"
            ],
            "layout": "IPY_MODEL_0fd12a24415845ec9632ae9f20490479"
          }
        },
        "6c2f1a1022a44ebfbbf580cb698ad17e": {
          "model_module": "@jupyter-widgets/controls",
          "model_name": "HTMLModel",
          "model_module_version": "1.5.0",
          "state": {
            "_dom_classes": [],
            "_model_module": "@jupyter-widgets/controls",
            "_model_module_version": "1.5.0",
            "_model_name": "HTMLModel",
            "_view_count": null,
            "_view_module": "@jupyter-widgets/controls",
            "_view_module_version": "1.5.0",
            "_view_name": "HTMLView",
            "description": "",
            "description_tooltip": null,
            "layout": "IPY_MODEL_2345d97f22914211bdab1cd73fbb0c89",
            "placeholder": "​",
            "style": "IPY_MODEL_aa03d203a38e49d9b7ecaedd587b07cc",
            "value": "model-00002-of-00004.safetensors: 100%"
          }
        },
        "fd40313cda104592b975df8143cd7b85": {
          "model_module": "@jupyter-widgets/controls",
          "model_name": "FloatProgressModel",
          "model_module_version": "1.5.0",
          "state": {
            "_dom_classes": [],
            "_model_module": "@jupyter-widgets/controls",
            "_model_module_version": "1.5.0",
            "_model_name": "FloatProgressModel",
            "_view_count": null,
            "_view_module": "@jupyter-widgets/controls",
            "_view_module_version": "1.5.0",
            "_view_name": "ProgressView",
            "bar_style": "success",
            "description": "",
            "description_tooltip": null,
            "layout": "IPY_MODEL_5f7ada284aca489795eb5f883d362d94",
            "max": 4958443072,
            "min": 0,
            "orientation": "horizontal",
            "style": "IPY_MODEL_47fe4bb2d32c4d9d87258f6bd3375f3c",
            "value": 4958443072
          }
        },
        "f3b3aa65ef694439ada97e64818b63cd": {
          "model_module": "@jupyter-widgets/controls",
          "model_name": "HTMLModel",
          "model_module_version": "1.5.0",
          "state": {
            "_dom_classes": [],
            "_model_module": "@jupyter-widgets/controls",
            "_model_module_version": "1.5.0",
            "_model_name": "HTMLModel",
            "_view_count": null,
            "_view_module": "@jupyter-widgets/controls",
            "_view_module_version": "1.5.0",
            "_view_name": "HTMLView",
            "description": "",
            "description_tooltip": null,
            "layout": "IPY_MODEL_07dc2c4ae28a42f4bb3c1a6d63b358b7",
            "placeholder": "​",
            "style": "IPY_MODEL_d764dda2afdb4cc99d7e431deadfb1bb",
            "value": " 4.96G/4.96G [00:49&lt;00:00, 62.4MB/s]"
          }
        },
        "0fd12a24415845ec9632ae9f20490479": {
          "model_module": "@jupyter-widgets/base",
          "model_name": "LayoutModel",
          "model_module_version": "1.2.0",
          "state": {
            "_model_module": "@jupyter-widgets/base",
            "_model_module_version": "1.2.0",
            "_model_name": "LayoutModel",
            "_view_count": null,
            "_view_module": "@jupyter-widgets/base",
            "_view_module_version": "1.2.0",
            "_view_name": "LayoutView",
            "align_content": null,
            "align_items": null,
            "align_self": null,
            "border": null,
            "bottom": null,
            "display": null,
            "flex": null,
            "flex_flow": null,
            "grid_area": null,
            "grid_auto_columns": null,
            "grid_auto_flow": null,
            "grid_auto_rows": null,
            "grid_column": null,
            "grid_gap": null,
            "grid_row": null,
            "grid_template_areas": null,
            "grid_template_columns": null,
            "grid_template_rows": null,
            "height": null,
            "justify_content": null,
            "justify_items": null,
            "left": null,
            "margin": null,
            "max_height": null,
            "max_width": null,
            "min_height": null,
            "min_width": null,
            "object_fit": null,
            "object_position": null,
            "order": null,
            "overflow": null,
            "overflow_x": null,
            "overflow_y": null,
            "padding": null,
            "right": null,
            "top": null,
            "visibility": null,
            "width": null
          }
        },
        "2345d97f22914211bdab1cd73fbb0c89": {
          "model_module": "@jupyter-widgets/base",
          "model_name": "LayoutModel",
          "model_module_version": "1.2.0",
          "state": {
            "_model_module": "@jupyter-widgets/base",
            "_model_module_version": "1.2.0",
            "_model_name": "LayoutModel",
            "_view_count": null,
            "_view_module": "@jupyter-widgets/base",
            "_view_module_version": "1.2.0",
            "_view_name": "LayoutView",
            "align_content": null,
            "align_items": null,
            "align_self": null,
            "border": null,
            "bottom": null,
            "display": null,
            "flex": null,
            "flex_flow": null,
            "grid_area": null,
            "grid_auto_columns": null,
            "grid_auto_flow": null,
            "grid_auto_rows": null,
            "grid_column": null,
            "grid_gap": null,
            "grid_row": null,
            "grid_template_areas": null,
            "grid_template_columns": null,
            "grid_template_rows": null,
            "height": null,
            "justify_content": null,
            "justify_items": null,
            "left": null,
            "margin": null,
            "max_height": null,
            "max_width": null,
            "min_height": null,
            "min_width": null,
            "object_fit": null,
            "object_position": null,
            "order": null,
            "overflow": null,
            "overflow_x": null,
            "overflow_y": null,
            "padding": null,
            "right": null,
            "top": null,
            "visibility": null,
            "width": null
          }
        },
        "aa03d203a38e49d9b7ecaedd587b07cc": {
          "model_module": "@jupyter-widgets/controls",
          "model_name": "DescriptionStyleModel",
          "model_module_version": "1.5.0",
          "state": {
            "_model_module": "@jupyter-widgets/controls",
            "_model_module_version": "1.5.0",
            "_model_name": "DescriptionStyleModel",
            "_view_count": null,
            "_view_module": "@jupyter-widgets/base",
            "_view_module_version": "1.2.0",
            "_view_name": "StyleView",
            "description_width": ""
          }
        },
        "5f7ada284aca489795eb5f883d362d94": {
          "model_module": "@jupyter-widgets/base",
          "model_name": "LayoutModel",
          "model_module_version": "1.2.0",
          "state": {
            "_model_module": "@jupyter-widgets/base",
            "_model_module_version": "1.2.0",
            "_model_name": "LayoutModel",
            "_view_count": null,
            "_view_module": "@jupyter-widgets/base",
            "_view_module_version": "1.2.0",
            "_view_name": "LayoutView",
            "align_content": null,
            "align_items": null,
            "align_self": null,
            "border": null,
            "bottom": null,
            "display": null,
            "flex": null,
            "flex_flow": null,
            "grid_area": null,
            "grid_auto_columns": null,
            "grid_auto_flow": null,
            "grid_auto_rows": null,
            "grid_column": null,
            "grid_gap": null,
            "grid_row": null,
            "grid_template_areas": null,
            "grid_template_columns": null,
            "grid_template_rows": null,
            "height": null,
            "justify_content": null,
            "justify_items": null,
            "left": null,
            "margin": null,
            "max_height": null,
            "max_width": null,
            "min_height": null,
            "min_width": null,
            "object_fit": null,
            "object_position": null,
            "order": null,
            "overflow": null,
            "overflow_x": null,
            "overflow_y": null,
            "padding": null,
            "right": null,
            "top": null,
            "visibility": null,
            "width": null
          }
        },
        "47fe4bb2d32c4d9d87258f6bd3375f3c": {
          "model_module": "@jupyter-widgets/controls",
          "model_name": "ProgressStyleModel",
          "model_module_version": "1.5.0",
          "state": {
            "_model_module": "@jupyter-widgets/controls",
            "_model_module_version": "1.5.0",
            "_model_name": "ProgressStyleModel",
            "_view_count": null,
            "_view_module": "@jupyter-widgets/base",
            "_view_module_version": "1.2.0",
            "_view_name": "StyleView",
            "bar_color": null,
            "description_width": ""
          }
        },
        "07dc2c4ae28a42f4bb3c1a6d63b358b7": {
          "model_module": "@jupyter-widgets/base",
          "model_name": "LayoutModel",
          "model_module_version": "1.2.0",
          "state": {
            "_model_module": "@jupyter-widgets/base",
            "_model_module_version": "1.2.0",
            "_model_name": "LayoutModel",
            "_view_count": null,
            "_view_module": "@jupyter-widgets/base",
            "_view_module_version": "1.2.0",
            "_view_name": "LayoutView",
            "align_content": null,
            "align_items": null,
            "align_self": null,
            "border": null,
            "bottom": null,
            "display": null,
            "flex": null,
            "flex_flow": null,
            "grid_area": null,
            "grid_auto_columns": null,
            "grid_auto_flow": null,
            "grid_auto_rows": null,
            "grid_column": null,
            "grid_gap": null,
            "grid_row": null,
            "grid_template_areas": null,
            "grid_template_columns": null,
            "grid_template_rows": null,
            "height": null,
            "justify_content": null,
            "justify_items": null,
            "left": null,
            "margin": null,
            "max_height": null,
            "max_width": null,
            "min_height": null,
            "min_width": null,
            "object_fit": null,
            "object_position": null,
            "order": null,
            "overflow": null,
            "overflow_x": null,
            "overflow_y": null,
            "padding": null,
            "right": null,
            "top": null,
            "visibility": null,
            "width": null
          }
        },
        "d764dda2afdb4cc99d7e431deadfb1bb": {
          "model_module": "@jupyter-widgets/controls",
          "model_name": "DescriptionStyleModel",
          "model_module_version": "1.5.0",
          "state": {
            "_model_module": "@jupyter-widgets/controls",
            "_model_module_version": "1.5.0",
            "_model_name": "DescriptionStyleModel",
            "_view_count": null,
            "_view_module": "@jupyter-widgets/base",
            "_view_module_version": "1.2.0",
            "_view_name": "StyleView",
            "description_width": ""
          }
        },
        "8a12c651e1a3473dac19487cf042805c": {
          "model_module": "@jupyter-widgets/controls",
          "model_name": "HBoxModel",
          "model_module_version": "1.5.0",
          "state": {
            "_dom_classes": [],
            "_model_module": "@jupyter-widgets/controls",
            "_model_module_version": "1.5.0",
            "_model_name": "HBoxModel",
            "_view_count": null,
            "_view_module": "@jupyter-widgets/controls",
            "_view_module_version": "1.5.0",
            "_view_name": "HBoxView",
            "box_style": "",
            "children": [
              "IPY_MODEL_a3f4988099c6407d9882e2fde048fda6",
              "IPY_MODEL_6e0b0f70f87d4ab5aa783ceef3a7c801",
              "IPY_MODEL_09be0234e9444fe19a6e2aba3042def1"
            ],
            "layout": "IPY_MODEL_710ccc74981e4fd39e65b8ad06863380"
          }
        },
        "a3f4988099c6407d9882e2fde048fda6": {
          "model_module": "@jupyter-widgets/controls",
          "model_name": "HTMLModel",
          "model_module_version": "1.5.0",
          "state": {
            "_dom_classes": [],
            "_model_module": "@jupyter-widgets/controls",
            "_model_module_version": "1.5.0",
            "_model_name": "HTMLModel",
            "_view_count": null,
            "_view_module": "@jupyter-widgets/controls",
            "_view_module_version": "1.5.0",
            "_view_name": "HTMLView",
            "description": "",
            "description_tooltip": null,
            "layout": "IPY_MODEL_2ac52e2e241b46a984356fc0b58a38a0",
            "placeholder": "​",
            "style": "IPY_MODEL_f78b7fb11ca04a4185e5cc13a3e38e00",
            "value": "Loading checkpoint shards: 100%"
          }
        },
        "6e0b0f70f87d4ab5aa783ceef3a7c801": {
          "model_module": "@jupyter-widgets/controls",
          "model_name": "FloatProgressModel",
          "model_module_version": "1.5.0",
          "state": {
            "_dom_classes": [],
            "_model_module": "@jupyter-widgets/controls",
            "_model_module_version": "1.5.0",
            "_model_name": "FloatProgressModel",
            "_view_count": null,
            "_view_module": "@jupyter-widgets/controls",
            "_view_module_version": "1.5.0",
            "_view_name": "ProgressView",
            "bar_style": "success",
            "description": "",
            "description_tooltip": null,
            "layout": "IPY_MODEL_d90b740afb3146f5a36d0611bb881d07",
            "max": 4,
            "min": 0,
            "orientation": "horizontal",
            "style": "IPY_MODEL_47597372e275432799beefd8c89e759e",
            "value": 4
          }
        },
        "09be0234e9444fe19a6e2aba3042def1": {
          "model_module": "@jupyter-widgets/controls",
          "model_name": "HTMLModel",
          "model_module_version": "1.5.0",
          "state": {
            "_dom_classes": [],
            "_model_module": "@jupyter-widgets/controls",
            "_model_module_version": "1.5.0",
            "_model_name": "HTMLModel",
            "_view_count": null,
            "_view_module": "@jupyter-widgets/controls",
            "_view_module_version": "1.5.0",
            "_view_name": "HTMLView",
            "description": "",
            "description_tooltip": null,
            "layout": "IPY_MODEL_2df56340a0cf4df0be95e868344add8b",
            "placeholder": "​",
            "style": "IPY_MODEL_ec6f9af5b2e54f508589f6fb32c33532",
            "value": " 4/4 [00:00&lt;00:00,  6.86it/s]"
          }
        },
        "710ccc74981e4fd39e65b8ad06863380": {
          "model_module": "@jupyter-widgets/base",
          "model_name": "LayoutModel",
          "model_module_version": "1.2.0",
          "state": {
            "_model_module": "@jupyter-widgets/base",
            "_model_module_version": "1.2.0",
            "_model_name": "LayoutModel",
            "_view_count": null,
            "_view_module": "@jupyter-widgets/base",
            "_view_module_version": "1.2.0",
            "_view_name": "LayoutView",
            "align_content": null,
            "align_items": null,
            "align_self": null,
            "border": null,
            "bottom": null,
            "display": null,
            "flex": null,
            "flex_flow": null,
            "grid_area": null,
            "grid_auto_columns": null,
            "grid_auto_flow": null,
            "grid_auto_rows": null,
            "grid_column": null,
            "grid_gap": null,
            "grid_row": null,
            "grid_template_areas": null,
            "grid_template_columns": null,
            "grid_template_rows": null,
            "height": null,
            "justify_content": null,
            "justify_items": null,
            "left": null,
            "margin": null,
            "max_height": null,
            "max_width": null,
            "min_height": null,
            "min_width": null,
            "object_fit": null,
            "object_position": null,
            "order": null,
            "overflow": null,
            "overflow_x": null,
            "overflow_y": null,
            "padding": null,
            "right": null,
            "top": null,
            "visibility": null,
            "width": null
          }
        },
        "2ac52e2e241b46a984356fc0b58a38a0": {
          "model_module": "@jupyter-widgets/base",
          "model_name": "LayoutModel",
          "model_module_version": "1.2.0",
          "state": {
            "_model_module": "@jupyter-widgets/base",
            "_model_module_version": "1.2.0",
            "_model_name": "LayoutModel",
            "_view_count": null,
            "_view_module": "@jupyter-widgets/base",
            "_view_module_version": "1.2.0",
            "_view_name": "LayoutView",
            "align_content": null,
            "align_items": null,
            "align_self": null,
            "border": null,
            "bottom": null,
            "display": null,
            "flex": null,
            "flex_flow": null,
            "grid_area": null,
            "grid_auto_columns": null,
            "grid_auto_flow": null,
            "grid_auto_rows": null,
            "grid_column": null,
            "grid_gap": null,
            "grid_row": null,
            "grid_template_areas": null,
            "grid_template_columns": null,
            "grid_template_rows": null,
            "height": null,
            "justify_content": null,
            "justify_items": null,
            "left": null,
            "margin": null,
            "max_height": null,
            "max_width": null,
            "min_height": null,
            "min_width": null,
            "object_fit": null,
            "object_position": null,
            "order": null,
            "overflow": null,
            "overflow_x": null,
            "overflow_y": null,
            "padding": null,
            "right": null,
            "top": null,
            "visibility": null,
            "width": null
          }
        },
        "f78b7fb11ca04a4185e5cc13a3e38e00": {
          "model_module": "@jupyter-widgets/controls",
          "model_name": "DescriptionStyleModel",
          "model_module_version": "1.5.0",
          "state": {
            "_model_module": "@jupyter-widgets/controls",
            "_model_module_version": "1.5.0",
            "_model_name": "DescriptionStyleModel",
            "_view_count": null,
            "_view_module": "@jupyter-widgets/base",
            "_view_module_version": "1.2.0",
            "_view_name": "StyleView",
            "description_width": ""
          }
        },
        "d90b740afb3146f5a36d0611bb881d07": {
          "model_module": "@jupyter-widgets/base",
          "model_name": "LayoutModel",
          "model_module_version": "1.2.0",
          "state": {
            "_model_module": "@jupyter-widgets/base",
            "_model_module_version": "1.2.0",
            "_model_name": "LayoutModel",
            "_view_count": null,
            "_view_module": "@jupyter-widgets/base",
            "_view_module_version": "1.2.0",
            "_view_name": "LayoutView",
            "align_content": null,
            "align_items": null,
            "align_self": null,
            "border": null,
            "bottom": null,
            "display": null,
            "flex": null,
            "flex_flow": null,
            "grid_area": null,
            "grid_auto_columns": null,
            "grid_auto_flow": null,
            "grid_auto_rows": null,
            "grid_column": null,
            "grid_gap": null,
            "grid_row": null,
            "grid_template_areas": null,
            "grid_template_columns": null,
            "grid_template_rows": null,
            "height": null,
            "justify_content": null,
            "justify_items": null,
            "left": null,
            "margin": null,
            "max_height": null,
            "max_width": null,
            "min_height": null,
            "min_width": null,
            "object_fit": null,
            "object_position": null,
            "order": null,
            "overflow": null,
            "overflow_x": null,
            "overflow_y": null,
            "padding": null,
            "right": null,
            "top": null,
            "visibility": null,
            "width": null
          }
        },
        "47597372e275432799beefd8c89e759e": {
          "model_module": "@jupyter-widgets/controls",
          "model_name": "ProgressStyleModel",
          "model_module_version": "1.5.0",
          "state": {
            "_model_module": "@jupyter-widgets/controls",
            "_model_module_version": "1.5.0",
            "_model_name": "ProgressStyleModel",
            "_view_count": null,
            "_view_module": "@jupyter-widgets/base",
            "_view_module_version": "1.2.0",
            "_view_name": "StyleView",
            "bar_color": null,
            "description_width": ""
          }
        },
        "2df56340a0cf4df0be95e868344add8b": {
          "model_module": "@jupyter-widgets/base",
          "model_name": "LayoutModel",
          "model_module_version": "1.2.0",
          "state": {
            "_model_module": "@jupyter-widgets/base",
            "_model_module_version": "1.2.0",
            "_model_name": "LayoutModel",
            "_view_count": null,
            "_view_module": "@jupyter-widgets/base",
            "_view_module_version": "1.2.0",
            "_view_name": "LayoutView",
            "align_content": null,
            "align_items": null,
            "align_self": null,
            "border": null,
            "bottom": null,
            "display": null,
            "flex": null,
            "flex_flow": null,
            "grid_area": null,
            "grid_auto_columns": null,
            "grid_auto_flow": null,
            "grid_auto_rows": null,
            "grid_column": null,
            "grid_gap": null,
            "grid_row": null,
            "grid_template_areas": null,
            "grid_template_columns": null,
            "grid_template_rows": null,
            "height": null,
            "justify_content": null,
            "justify_items": null,
            "left": null,
            "margin": null,
            "max_height": null,
            "max_width": null,
            "min_height": null,
            "min_width": null,
            "object_fit": null,
            "object_position": null,
            "order": null,
            "overflow": null,
            "overflow_x": null,
            "overflow_y": null,
            "padding": null,
            "right": null,
            "top": null,
            "visibility": null,
            "width": null
          }
        },
        "ec6f9af5b2e54f508589f6fb32c33532": {
          "model_module": "@jupyter-widgets/controls",
          "model_name": "DescriptionStyleModel",
          "model_module_version": "1.5.0",
          "state": {
            "_model_module": "@jupyter-widgets/controls",
            "_model_module_version": "1.5.0",
            "_model_name": "DescriptionStyleModel",
            "_view_count": null,
            "_view_module": "@jupyter-widgets/base",
            "_view_module_version": "1.2.0",
            "_view_name": "StyleView",
            "description_width": ""
          }
        },
        "0b216eec814c4cbfa237ec74d013c21b": {
          "model_module": "@jupyter-widgets/controls",
          "model_name": "HBoxModel",
          "model_module_version": "1.5.0",
          "state": {
            "_dom_classes": [],
            "_model_module": "@jupyter-widgets/controls",
            "_model_module_version": "1.5.0",
            "_model_name": "HBoxModel",
            "_view_count": null,
            "_view_module": "@jupyter-widgets/controls",
            "_view_module_version": "1.5.0",
            "_view_name": "HBoxView",
            "box_style": "",
            "children": [
              "IPY_MODEL_a249c86d030f463bb28b696090f19775",
              "IPY_MODEL_ab64be8cbc674c879250ed9530c9decb",
              "IPY_MODEL_1534236e983746a188ab0accc94c4dcc"
            ],
            "layout": "IPY_MODEL_d3f097053e6c4480858ec2e6bf302923"
          }
        },
        "a249c86d030f463bb28b696090f19775": {
          "model_module": "@jupyter-widgets/controls",
          "model_name": "HTMLModel",
          "model_module_version": "1.5.0",
          "state": {
            "_dom_classes": [],
            "_model_module": "@jupyter-widgets/controls",
            "_model_module_version": "1.5.0",
            "_model_name": "HTMLModel",
            "_view_count": null,
            "_view_module": "@jupyter-widgets/controls",
            "_view_module_version": "1.5.0",
            "_view_name": "HTMLView",
            "description": "",
            "description_tooltip": null,
            "layout": "IPY_MODEL_db15239397f54160a8c996e3921a5393",
            "placeholder": "​",
            "style": "IPY_MODEL_8b0a515231274d3a84a16945f568db4d",
            "value": "generation_config.json: 100%"
          }
        },
        "ab64be8cbc674c879250ed9530c9decb": {
          "model_module": "@jupyter-widgets/controls",
          "model_name": "FloatProgressModel",
          "model_module_version": "1.5.0",
          "state": {
            "_dom_classes": [],
            "_model_module": "@jupyter-widgets/controls",
            "_model_module_version": "1.5.0",
            "_model_name": "FloatProgressModel",
            "_view_count": null,
            "_view_module": "@jupyter-widgets/controls",
            "_view_module_version": "1.5.0",
            "_view_name": "ProgressView",
            "bar_style": "success",
            "description": "",
            "description_tooltip": null,
            "layout": "IPY_MODEL_479754cf86594874a2396604b6d1bb5e",
            "max": 69,
            "min": 0,
            "orientation": "horizontal",
            "style": "IPY_MODEL_f30e1d584f444e4b919783552ea46ac6",
            "value": 69
          }
        },
        "1534236e983746a188ab0accc94c4dcc": {
          "model_module": "@jupyter-widgets/controls",
          "model_name": "HTMLModel",
          "model_module_version": "1.5.0",
          "state": {
            "_dom_classes": [],
            "_model_module": "@jupyter-widgets/controls",
            "_model_module_version": "1.5.0",
            "_model_name": "HTMLModel",
            "_view_count": null,
            "_view_module": "@jupyter-widgets/controls",
            "_view_module_version": "1.5.0",
            "_view_name": "HTMLView",
            "description": "",
            "description_tooltip": null,
            "layout": "IPY_MODEL_a281600f119a443a8a94361d33a4ae6d",
            "placeholder": "​",
            "style": "IPY_MODEL_b915a10c800f424d9c0ca120649e4c1c",
            "value": " 69.0/69.0 [00:00&lt;00:00, 9.02kB/s]"
          }
        },
        "d3f097053e6c4480858ec2e6bf302923": {
          "model_module": "@jupyter-widgets/base",
          "model_name": "LayoutModel",
          "model_module_version": "1.2.0",
          "state": {
            "_model_module": "@jupyter-widgets/base",
            "_model_module_version": "1.2.0",
            "_model_name": "LayoutModel",
            "_view_count": null,
            "_view_module": "@jupyter-widgets/base",
            "_view_module_version": "1.2.0",
            "_view_name": "LayoutView",
            "align_content": null,
            "align_items": null,
            "align_self": null,
            "border": null,
            "bottom": null,
            "display": null,
            "flex": null,
            "flex_flow": null,
            "grid_area": null,
            "grid_auto_columns": null,
            "grid_auto_flow": null,
            "grid_auto_rows": null,
            "grid_column": null,
            "grid_gap": null,
            "grid_row": null,
            "grid_template_areas": null,
            "grid_template_columns": null,
            "grid_template_rows": null,
            "height": null,
            "justify_content": null,
            "justify_items": null,
            "left": null,
            "margin": null,
            "max_height": null,
            "max_width": null,
            "min_height": null,
            "min_width": null,
            "object_fit": null,
            "object_position": null,
            "order": null,
            "overflow": null,
            "overflow_x": null,
            "overflow_y": null,
            "padding": null,
            "right": null,
            "top": null,
            "visibility": null,
            "width": null
          }
        },
        "db15239397f54160a8c996e3921a5393": {
          "model_module": "@jupyter-widgets/base",
          "model_name": "LayoutModel",
          "model_module_version": "1.2.0",
          "state": {
            "_model_module": "@jupyter-widgets/base",
            "_model_module_version": "1.2.0",
            "_model_name": "LayoutModel",
            "_view_count": null,
            "_view_module": "@jupyter-widgets/base",
            "_view_module_version": "1.2.0",
            "_view_name": "LayoutView",
            "align_content": null,
            "align_items": null,
            "align_self": null,
            "border": null,
            "bottom": null,
            "display": null,
            "flex": null,
            "flex_flow": null,
            "grid_area": null,
            "grid_auto_columns": null,
            "grid_auto_flow": null,
            "grid_auto_rows": null,
            "grid_column": null,
            "grid_gap": null,
            "grid_row": null,
            "grid_template_areas": null,
            "grid_template_columns": null,
            "grid_template_rows": null,
            "height": null,
            "justify_content": null,
            "justify_items": null,
            "left": null,
            "margin": null,
            "max_height": null,
            "max_width": null,
            "min_height": null,
            "min_width": null,
            "object_fit": null,
            "object_position": null,
            "order": null,
            "overflow": null,
            "overflow_x": null,
            "overflow_y": null,
            "padding": null,
            "right": null,
            "top": null,
            "visibility": null,
            "width": null
          }
        },
        "8b0a515231274d3a84a16945f568db4d": {
          "model_module": "@jupyter-widgets/controls",
          "model_name": "DescriptionStyleModel",
          "model_module_version": "1.5.0",
          "state": {
            "_model_module": "@jupyter-widgets/controls",
            "_model_module_version": "1.5.0",
            "_model_name": "DescriptionStyleModel",
            "_view_count": null,
            "_view_module": "@jupyter-widgets/base",
            "_view_module_version": "1.2.0",
            "_view_name": "StyleView",
            "description_width": ""
          }
        },
        "479754cf86594874a2396604b6d1bb5e": {
          "model_module": "@jupyter-widgets/base",
          "model_name": "LayoutModel",
          "model_module_version": "1.2.0",
          "state": {
            "_model_module": "@jupyter-widgets/base",
            "_model_module_version": "1.2.0",
            "_model_name": "LayoutModel",
            "_view_count": null,
            "_view_module": "@jupyter-widgets/base",
            "_view_module_version": "1.2.0",
            "_view_name": "LayoutView",
            "align_content": null,
            "align_items": null,
            "align_self": null,
            "border": null,
            "bottom": null,
            "display": null,
            "flex": null,
            "flex_flow": null,
            "grid_area": null,
            "grid_auto_columns": null,
            "grid_auto_flow": null,
            "grid_auto_rows": null,
            "grid_column": null,
            "grid_gap": null,
            "grid_row": null,
            "grid_template_areas": null,
            "grid_template_columns": null,
            "grid_template_rows": null,
            "height": null,
            "justify_content": null,
            "justify_items": null,
            "left": null,
            "margin": null,
            "max_height": null,
            "max_width": null,
            "min_height": null,
            "min_width": null,
            "object_fit": null,
            "object_position": null,
            "order": null,
            "overflow": null,
            "overflow_x": null,
            "overflow_y": null,
            "padding": null,
            "right": null,
            "top": null,
            "visibility": null,
            "width": null
          }
        },
        "f30e1d584f444e4b919783552ea46ac6": {
          "model_module": "@jupyter-widgets/controls",
          "model_name": "ProgressStyleModel",
          "model_module_version": "1.5.0",
          "state": {
            "_model_module": "@jupyter-widgets/controls",
            "_model_module_version": "1.5.0",
            "_model_name": "ProgressStyleModel",
            "_view_count": null,
            "_view_module": "@jupyter-widgets/base",
            "_view_module_version": "1.2.0",
            "_view_name": "StyleView",
            "bar_color": null,
            "description_width": ""
          }
        },
        "a281600f119a443a8a94361d33a4ae6d": {
          "model_module": "@jupyter-widgets/base",
          "model_name": "LayoutModel",
          "model_module_version": "1.2.0",
          "state": {
            "_model_module": "@jupyter-widgets/base",
            "_model_module_version": "1.2.0",
            "_model_name": "LayoutModel",
            "_view_count": null,
            "_view_module": "@jupyter-widgets/base",
            "_view_module_version": "1.2.0",
            "_view_name": "LayoutView",
            "align_content": null,
            "align_items": null,
            "align_self": null,
            "border": null,
            "bottom": null,
            "display": null,
            "flex": null,
            "flex_flow": null,
            "grid_area": null,
            "grid_auto_columns": null,
            "grid_auto_flow": null,
            "grid_auto_rows": null,
            "grid_column": null,
            "grid_gap": null,
            "grid_row": null,
            "grid_template_areas": null,
            "grid_template_columns": null,
            "grid_template_rows": null,
            "height": null,
            "justify_content": null,
            "justify_items": null,
            "left": null,
            "margin": null,
            "max_height": null,
            "max_width": null,
            "min_height": null,
            "min_width": null,
            "object_fit": null,
            "object_position": null,
            "order": null,
            "overflow": null,
            "overflow_x": null,
            "overflow_y": null,
            "padding": null,
            "right": null,
            "top": null,
            "visibility": null,
            "width": null
          }
        },
        "b915a10c800f424d9c0ca120649e4c1c": {
          "model_module": "@jupyter-widgets/controls",
          "model_name": "DescriptionStyleModel",
          "model_module_version": "1.5.0",
          "state": {
            "_model_module": "@jupyter-widgets/controls",
            "_model_module_version": "1.5.0",
            "_model_name": "DescriptionStyleModel",
            "_view_count": null,
            "_view_module": "@jupyter-widgets/base",
            "_view_module_version": "1.2.0",
            "_view_name": "StyleView",
            "description_width": ""
          }
        },
        "e2aa13f7241f409dbbdd40de4b2b0cf1": {
          "model_module": "@jupyter-widgets/controls",
          "model_name": "HBoxModel",
          "model_module_version": "1.5.0",
          "state": {
            "_dom_classes": [],
            "_model_module": "@jupyter-widgets/controls",
            "_model_module_version": "1.5.0",
            "_model_name": "HBoxModel",
            "_view_count": null,
            "_view_module": "@jupyter-widgets/controls",
            "_view_module_version": "1.5.0",
            "_view_name": "HBoxView",
            "box_style": "",
            "children": [
              "IPY_MODEL_5cc7b3b3ecf047f3b2e26bc1325f0a40",
              "IPY_MODEL_8d08fa733f544a9d8297d4b97c7c2e2f",
              "IPY_MODEL_69dd081725274d2b89d7dcb292bddf74"
            ],
            "layout": "IPY_MODEL_4c98370d12d9432b807c5dc0562eaf6c"
          }
        },
        "5cc7b3b3ecf047f3b2e26bc1325f0a40": {
          "model_module": "@jupyter-widgets/controls",
          "model_name": "HTMLModel",
          "model_module_version": "1.5.0",
          "state": {
            "_dom_classes": [],
            "_model_module": "@jupyter-widgets/controls",
            "_model_module_version": "1.5.0",
            "_model_name": "HTMLModel",
            "_view_count": null,
            "_view_module": "@jupyter-widgets/controls",
            "_view_module_version": "1.5.0",
            "_view_name": "HTMLView",
            "description": "",
            "description_tooltip": null,
            "layout": "IPY_MODEL_bd57f63e99524c1e81168b0573ed72e5",
            "placeholder": "​",
            "style": "IPY_MODEL_885171e468b843aba1c0a8261f5c9fbe",
            "value": "preprocessor_config.json: 100%"
          }
        },
        "8d08fa733f544a9d8297d4b97c7c2e2f": {
          "model_module": "@jupyter-widgets/controls",
          "model_name": "FloatProgressModel",
          "model_module_version": "1.5.0",
          "state": {
            "_dom_classes": [],
            "_model_module": "@jupyter-widgets/controls",
            "_model_module_version": "1.5.0",
            "_model_name": "FloatProgressModel",
            "_view_count": null,
            "_view_module": "@jupyter-widgets/controls",
            "_view_module_version": "1.5.0",
            "_view_name": "ProgressView",
            "bar_style": "success",
            "description": "",
            "description_tooltip": null,
            "layout": "IPY_MODEL_c5b8b9c75f824e60a56959258c809b5b",
            "max": 287,
            "min": 0,
            "orientation": "horizontal",
            "style": "IPY_MODEL_ec7d222b45734f2f84660da08c313579",
            "value": 287
          }
        },
        "69dd081725274d2b89d7dcb292bddf74": {
          "model_module": "@jupyter-widgets/controls",
          "model_name": "HTMLModel",
          "model_module_version": "1.5.0",
          "state": {
            "_dom_classes": [],
            "_model_module": "@jupyter-widgets/controls",
            "_model_module_version": "1.5.0",
            "_model_name": "HTMLModel",
            "_view_count": null,
            "_view_module": "@jupyter-widgets/controls",
            "_view_module_version": "1.5.0",
            "_view_name": "HTMLView",
            "description": "",
            "description_tooltip": null,
            "layout": "IPY_MODEL_482dcc8e62624d61b6041cdaab137fc7",
            "placeholder": "​",
            "style": "IPY_MODEL_eb524290aa7a48e7bce64694aef7c14d",
            "value": " 287/287 [00:00&lt;00:00, 39.4kB/s]"
          }
        },
        "4c98370d12d9432b807c5dc0562eaf6c": {
          "model_module": "@jupyter-widgets/base",
          "model_name": "LayoutModel",
          "model_module_version": "1.2.0",
          "state": {
            "_model_module": "@jupyter-widgets/base",
            "_model_module_version": "1.2.0",
            "_model_name": "LayoutModel",
            "_view_count": null,
            "_view_module": "@jupyter-widgets/base",
            "_view_module_version": "1.2.0",
            "_view_name": "LayoutView",
            "align_content": null,
            "align_items": null,
            "align_self": null,
            "border": null,
            "bottom": null,
            "display": null,
            "flex": null,
            "flex_flow": null,
            "grid_area": null,
            "grid_auto_columns": null,
            "grid_auto_flow": null,
            "grid_auto_rows": null,
            "grid_column": null,
            "grid_gap": null,
            "grid_row": null,
            "grid_template_areas": null,
            "grid_template_columns": null,
            "grid_template_rows": null,
            "height": null,
            "justify_content": null,
            "justify_items": null,
            "left": null,
            "margin": null,
            "max_height": null,
            "max_width": null,
            "min_height": null,
            "min_width": null,
            "object_fit": null,
            "object_position": null,
            "order": null,
            "overflow": null,
            "overflow_x": null,
            "overflow_y": null,
            "padding": null,
            "right": null,
            "top": null,
            "visibility": null,
            "width": null
          }
        },
        "bd57f63e99524c1e81168b0573ed72e5": {
          "model_module": "@jupyter-widgets/base",
          "model_name": "LayoutModel",
          "model_module_version": "1.2.0",
          "state": {
            "_model_module": "@jupyter-widgets/base",
            "_model_module_version": "1.2.0",
            "_model_name": "LayoutModel",
            "_view_count": null,
            "_view_module": "@jupyter-widgets/base",
            "_view_module_version": "1.2.0",
            "_view_name": "LayoutView",
            "align_content": null,
            "align_items": null,
            "align_self": null,
            "border": null,
            "bottom": null,
            "display": null,
            "flex": null,
            "flex_flow": null,
            "grid_area": null,
            "grid_auto_columns": null,
            "grid_auto_flow": null,
            "grid_auto_rows": null,
            "grid_column": null,
            "grid_gap": null,
            "grid_row": null,
            "grid_template_areas": null,
            "grid_template_columns": null,
            "grid_template_rows": null,
            "height": null,
            "justify_content": null,
            "justify_items": null,
            "left": null,
            "margin": null,
            "max_height": null,
            "max_width": null,
            "min_height": null,
            "min_width": null,
            "object_fit": null,
            "object_position": null,
            "order": null,
            "overflow": null,
            "overflow_x": null,
            "overflow_y": null,
            "padding": null,
            "right": null,
            "top": null,
            "visibility": null,
            "width": null
          }
        },
        "885171e468b843aba1c0a8261f5c9fbe": {
          "model_module": "@jupyter-widgets/controls",
          "model_name": "DescriptionStyleModel",
          "model_module_version": "1.5.0",
          "state": {
            "_model_module": "@jupyter-widgets/controls",
            "_model_module_version": "1.5.0",
            "_model_name": "DescriptionStyleModel",
            "_view_count": null,
            "_view_module": "@jupyter-widgets/base",
            "_view_module_version": "1.2.0",
            "_view_name": "StyleView",
            "description_width": ""
          }
        },
        "c5b8b9c75f824e60a56959258c809b5b": {
          "model_module": "@jupyter-widgets/base",
          "model_name": "LayoutModel",
          "model_module_version": "1.2.0",
          "state": {
            "_model_module": "@jupyter-widgets/base",
            "_model_module_version": "1.2.0",
            "_model_name": "LayoutModel",
            "_view_count": null,
            "_view_module": "@jupyter-widgets/base",
            "_view_module_version": "1.2.0",
            "_view_name": "LayoutView",
            "align_content": null,
            "align_items": null,
            "align_self": null,
            "border": null,
            "bottom": null,
            "display": null,
            "flex": null,
            "flex_flow": null,
            "grid_area": null,
            "grid_auto_columns": null,
            "grid_auto_flow": null,
            "grid_auto_rows": null,
            "grid_column": null,
            "grid_gap": null,
            "grid_row": null,
            "grid_template_areas": null,
            "grid_template_columns": null,
            "grid_template_rows": null,
            "height": null,
            "justify_content": null,
            "justify_items": null,
            "left": null,
            "margin": null,
            "max_height": null,
            "max_width": null,
            "min_height": null,
            "min_width": null,
            "object_fit": null,
            "object_position": null,
            "order": null,
            "overflow": null,
            "overflow_x": null,
            "overflow_y": null,
            "padding": null,
            "right": null,
            "top": null,
            "visibility": null,
            "width": null
          }
        },
        "ec7d222b45734f2f84660da08c313579": {
          "model_module": "@jupyter-widgets/controls",
          "model_name": "ProgressStyleModel",
          "model_module_version": "1.5.0",
          "state": {
            "_model_module": "@jupyter-widgets/controls",
            "_model_module_version": "1.5.0",
            "_model_name": "ProgressStyleModel",
            "_view_count": null,
            "_view_module": "@jupyter-widgets/base",
            "_view_module_version": "1.2.0",
            "_view_name": "StyleView",
            "bar_color": null,
            "description_width": ""
          }
        },
        "482dcc8e62624d61b6041cdaab137fc7": {
          "model_module": "@jupyter-widgets/base",
          "model_name": "LayoutModel",
          "model_module_version": "1.2.0",
          "state": {
            "_model_module": "@jupyter-widgets/base",
            "_model_module_version": "1.2.0",
            "_model_name": "LayoutModel",
            "_view_count": null,
            "_view_module": "@jupyter-widgets/base",
            "_view_module_version": "1.2.0",
            "_view_name": "LayoutView",
            "align_content": null,
            "align_items": null,
            "align_self": null,
            "border": null,
            "bottom": null,
            "display": null,
            "flex": null,
            "flex_flow": null,
            "grid_area": null,
            "grid_auto_columns": null,
            "grid_auto_flow": null,
            "grid_auto_rows": null,
            "grid_column": null,
            "grid_gap": null,
            "grid_row": null,
            "grid_template_areas": null,
            "grid_template_columns": null,
            "grid_template_rows": null,
            "height": null,
            "justify_content": null,
            "justify_items": null,
            "left": null,
            "margin": null,
            "max_height": null,
            "max_width": null,
            "min_height": null,
            "min_width": null,
            "object_fit": null,
            "object_position": null,
            "order": null,
            "overflow": null,
            "overflow_x": null,
            "overflow_y": null,
            "padding": null,
            "right": null,
            "top": null,
            "visibility": null,
            "width": null
          }
        },
        "eb524290aa7a48e7bce64694aef7c14d": {
          "model_module": "@jupyter-widgets/controls",
          "model_name": "DescriptionStyleModel",
          "model_module_version": "1.5.0",
          "state": {
            "_model_module": "@jupyter-widgets/controls",
            "_model_module_version": "1.5.0",
            "_model_name": "DescriptionStyleModel",
            "_view_count": null,
            "_view_module": "@jupyter-widgets/base",
            "_view_module_version": "1.2.0",
            "_view_name": "StyleView",
            "description_width": ""
          }
        },
        "cf94d25e8e4b4c329a845a4487c89bab": {
          "model_module": "@jupyter-widgets/controls",
          "model_name": "HBoxModel",
          "model_module_version": "1.5.0",
          "state": {
            "_dom_classes": [],
            "_model_module": "@jupyter-widgets/controls",
            "_model_module_version": "1.5.0",
            "_model_name": "HBoxModel",
            "_view_count": null,
            "_view_module": "@jupyter-widgets/controls",
            "_view_module_version": "1.5.0",
            "_view_name": "HBoxView",
            "box_style": "",
            "children": [
              "IPY_MODEL_e764af2960ed4775a6d34ae8d752be7f",
              "IPY_MODEL_4c53236f08b641b088c0eea82a083d99",
              "IPY_MODEL_c6297a4325f9410baa23963ab4f25f05"
            ],
            "layout": "IPY_MODEL_3d151f6d937548178e16066964242400"
          }
        },
        "e764af2960ed4775a6d34ae8d752be7f": {
          "model_module": "@jupyter-widgets/controls",
          "model_name": "HTMLModel",
          "model_module_version": "1.5.0",
          "state": {
            "_dom_classes": [],
            "_model_module": "@jupyter-widgets/controls",
            "_model_module_version": "1.5.0",
            "_model_name": "HTMLModel",
            "_view_count": null,
            "_view_module": "@jupyter-widgets/controls",
            "_view_module_version": "1.5.0",
            "_view_name": "HTMLView",
            "description": "",
            "description_tooltip": null,
            "layout": "IPY_MODEL_d1f359aae01f46a0807f48cf09eba268",
            "placeholder": "​",
            "style": "IPY_MODEL_bd853cf63c474ae28ad3513019697045",
            "value": "tokenizer_config.json: "
          }
        },
        "4c53236f08b641b088c0eea82a083d99": {
          "model_module": "@jupyter-widgets/controls",
          "model_name": "FloatProgressModel",
          "model_module_version": "1.5.0",
          "state": {
            "_dom_classes": [],
            "_model_module": "@jupyter-widgets/controls",
            "_model_module_version": "1.5.0",
            "_model_name": "FloatProgressModel",
            "_view_count": null,
            "_view_module": "@jupyter-widgets/controls",
            "_view_module_version": "1.5.0",
            "_view_name": "ProgressView",
            "bar_style": "success",
            "description": "",
            "description_tooltip": null,
            "layout": "IPY_MODEL_94834281729b4c779d7ea4c9d9cc749c",
            "max": 1,
            "min": 0,
            "orientation": "horizontal",
            "style": "IPY_MODEL_91ff84c3782147229c9fa3085d3ee188",
            "value": 1
          }
        },
        "c6297a4325f9410baa23963ab4f25f05": {
          "model_module": "@jupyter-widgets/controls",
          "model_name": "HTMLModel",
          "model_module_version": "1.5.0",
          "state": {
            "_dom_classes": [],
            "_model_module": "@jupyter-widgets/controls",
            "_model_module_version": "1.5.0",
            "_model_name": "HTMLModel",
            "_view_count": null,
            "_view_module": "@jupyter-widgets/controls",
            "_view_module_version": "1.5.0",
            "_view_name": "HTMLView",
            "description": "",
            "description_tooltip": null,
            "layout": "IPY_MODEL_61f738df10c74d189ec6d7212d0ecf86",
            "placeholder": "​",
            "style": "IPY_MODEL_dd2968c00b7b492a9413ae2c533f653b",
            "value": " 7.33k/? [00:00&lt;00:00, 883kB/s]"
          }
        },
        "3d151f6d937548178e16066964242400": {
          "model_module": "@jupyter-widgets/base",
          "model_name": "LayoutModel",
          "model_module_version": "1.2.0",
          "state": {
            "_model_module": "@jupyter-widgets/base",
            "_model_module_version": "1.2.0",
            "_model_name": "LayoutModel",
            "_view_count": null,
            "_view_module": "@jupyter-widgets/base",
            "_view_module_version": "1.2.0",
            "_view_name": "LayoutView",
            "align_content": null,
            "align_items": null,
            "align_self": null,
            "border": null,
            "bottom": null,
            "display": null,
            "flex": null,
            "flex_flow": null,
            "grid_area": null,
            "grid_auto_columns": null,
            "grid_auto_flow": null,
            "grid_auto_rows": null,
            "grid_column": null,
            "grid_gap": null,
            "grid_row": null,
            "grid_template_areas": null,
            "grid_template_columns": null,
            "grid_template_rows": null,
            "height": null,
            "justify_content": null,
            "justify_items": null,
            "left": null,
            "margin": null,
            "max_height": null,
            "max_width": null,
            "min_height": null,
            "min_width": null,
            "object_fit": null,
            "object_position": null,
            "order": null,
            "overflow": null,
            "overflow_x": null,
            "overflow_y": null,
            "padding": null,
            "right": null,
            "top": null,
            "visibility": null,
            "width": null
          }
        },
        "d1f359aae01f46a0807f48cf09eba268": {
          "model_module": "@jupyter-widgets/base",
          "model_name": "LayoutModel",
          "model_module_version": "1.2.0",
          "state": {
            "_model_module": "@jupyter-widgets/base",
            "_model_module_version": "1.2.0",
            "_model_name": "LayoutModel",
            "_view_count": null,
            "_view_module": "@jupyter-widgets/base",
            "_view_module_version": "1.2.0",
            "_view_name": "LayoutView",
            "align_content": null,
            "align_items": null,
            "align_self": null,
            "border": null,
            "bottom": null,
            "display": null,
            "flex": null,
            "flex_flow": null,
            "grid_area": null,
            "grid_auto_columns": null,
            "grid_auto_flow": null,
            "grid_auto_rows": null,
            "grid_column": null,
            "grid_gap": null,
            "grid_row": null,
            "grid_template_areas": null,
            "grid_template_columns": null,
            "grid_template_rows": null,
            "height": null,
            "justify_content": null,
            "justify_items": null,
            "left": null,
            "margin": null,
            "max_height": null,
            "max_width": null,
            "min_height": null,
            "min_width": null,
            "object_fit": null,
            "object_position": null,
            "order": null,
            "overflow": null,
            "overflow_x": null,
            "overflow_y": null,
            "padding": null,
            "right": null,
            "top": null,
            "visibility": null,
            "width": null
          }
        },
        "bd853cf63c474ae28ad3513019697045": {
          "model_module": "@jupyter-widgets/controls",
          "model_name": "DescriptionStyleModel",
          "model_module_version": "1.5.0",
          "state": {
            "_model_module": "@jupyter-widgets/controls",
            "_model_module_version": "1.5.0",
            "_model_name": "DescriptionStyleModel",
            "_view_count": null,
            "_view_module": "@jupyter-widgets/base",
            "_view_module_version": "1.2.0",
            "_view_name": "StyleView",
            "description_width": ""
          }
        },
        "94834281729b4c779d7ea4c9d9cc749c": {
          "model_module": "@jupyter-widgets/base",
          "model_name": "LayoutModel",
          "model_module_version": "1.2.0",
          "state": {
            "_model_module": "@jupyter-widgets/base",
            "_model_module_version": "1.2.0",
            "_model_name": "LayoutModel",
            "_view_count": null,
            "_view_module": "@jupyter-widgets/base",
            "_view_module_version": "1.2.0",
            "_view_name": "LayoutView",
            "align_content": null,
            "align_items": null,
            "align_self": null,
            "border": null,
            "bottom": null,
            "display": null,
            "flex": null,
            "flex_flow": null,
            "grid_area": null,
            "grid_auto_columns": null,
            "grid_auto_flow": null,
            "grid_auto_rows": null,
            "grid_column": null,
            "grid_gap": null,
            "grid_row": null,
            "grid_template_areas": null,
            "grid_template_columns": null,
            "grid_template_rows": null,
            "height": null,
            "justify_content": null,
            "justify_items": null,
            "left": null,
            "margin": null,
            "max_height": null,
            "max_width": null,
            "min_height": null,
            "min_width": null,
            "object_fit": null,
            "object_position": null,
            "order": null,
            "overflow": null,
            "overflow_x": null,
            "overflow_y": null,
            "padding": null,
            "right": null,
            "top": null,
            "visibility": null,
            "width": "20px"
          }
        },
        "91ff84c3782147229c9fa3085d3ee188": {
          "model_module": "@jupyter-widgets/controls",
          "model_name": "ProgressStyleModel",
          "model_module_version": "1.5.0",
          "state": {
            "_model_module": "@jupyter-widgets/controls",
            "_model_module_version": "1.5.0",
            "_model_name": "ProgressStyleModel",
            "_view_count": null,
            "_view_module": "@jupyter-widgets/base",
            "_view_module_version": "1.2.0",
            "_view_name": "StyleView",
            "bar_color": null,
            "description_width": ""
          }
        },
        "61f738df10c74d189ec6d7212d0ecf86": {
          "model_module": "@jupyter-widgets/base",
          "model_name": "LayoutModel",
          "model_module_version": "1.2.0",
          "state": {
            "_model_module": "@jupyter-widgets/base",
            "_model_module_version": "1.2.0",
            "_model_name": "LayoutModel",
            "_view_count": null,
            "_view_module": "@jupyter-widgets/base",
            "_view_module_version": "1.2.0",
            "_view_name": "LayoutView",
            "align_content": null,
            "align_items": null,
            "align_self": null,
            "border": null,
            "bottom": null,
            "display": null,
            "flex": null,
            "flex_flow": null,
            "grid_area": null,
            "grid_auto_columns": null,
            "grid_auto_flow": null,
            "grid_auto_rows": null,
            "grid_column": null,
            "grid_gap": null,
            "grid_row": null,
            "grid_template_areas": null,
            "grid_template_columns": null,
            "grid_template_rows": null,
            "height": null,
            "justify_content": null,
            "justify_items": null,
            "left": null,
            "margin": null,
            "max_height": null,
            "max_width": null,
            "min_height": null,
            "min_width": null,
            "object_fit": null,
            "object_position": null,
            "order": null,
            "overflow": null,
            "overflow_x": null,
            "overflow_y": null,
            "padding": null,
            "right": null,
            "top": null,
            "visibility": null,
            "width": null
          }
        },
        "dd2968c00b7b492a9413ae2c533f653b": {
          "model_module": "@jupyter-widgets/controls",
          "model_name": "DescriptionStyleModel",
          "model_module_version": "1.5.0",
          "state": {
            "_model_module": "@jupyter-widgets/controls",
            "_model_module_version": "1.5.0",
            "_model_name": "DescriptionStyleModel",
            "_view_count": null,
            "_view_module": "@jupyter-widgets/base",
            "_view_module_version": "1.2.0",
            "_view_name": "StyleView",
            "description_width": ""
          }
        },
        "2c5903ecab9f4ce89870597db7032ed3": {
          "model_module": "@jupyter-widgets/controls",
          "model_name": "HBoxModel",
          "model_module_version": "1.5.0",
          "state": {
            "_dom_classes": [],
            "_model_module": "@jupyter-widgets/controls",
            "_model_module_version": "1.5.0",
            "_model_name": "HBoxModel",
            "_view_count": null,
            "_view_module": "@jupyter-widgets/controls",
            "_view_module_version": "1.5.0",
            "_view_name": "HBoxView",
            "box_style": "",
            "children": [
              "IPY_MODEL_d0c42466607d4d6396ab14d447d13b5d",
              "IPY_MODEL_fded8fb0bb924a49bc874166f33f3da8",
              "IPY_MODEL_809d589bde5b4f1f96a2efcce1adb09a"
            ],
            "layout": "IPY_MODEL_84c5eb3303444fdc893bf3d10a60d42c"
          }
        },
        "d0c42466607d4d6396ab14d447d13b5d": {
          "model_module": "@jupyter-widgets/controls",
          "model_name": "HTMLModel",
          "model_module_version": "1.5.0",
          "state": {
            "_dom_classes": [],
            "_model_module": "@jupyter-widgets/controls",
            "_model_module_version": "1.5.0",
            "_model_name": "HTMLModel",
            "_view_count": null,
            "_view_module": "@jupyter-widgets/controls",
            "_view_module_version": "1.5.0",
            "_view_name": "HTMLView",
            "description": "",
            "description_tooltip": null,
            "layout": "IPY_MODEL_6d1894d7b3e5443e8cd9e400941bbee4",
            "placeholder": "​",
            "style": "IPY_MODEL_5bab6985368549f68598fa656052d22a",
            "value": "vocab.json: "
          }
        },
        "fded8fb0bb924a49bc874166f33f3da8": {
          "model_module": "@jupyter-widgets/controls",
          "model_name": "FloatProgressModel",
          "model_module_version": "1.5.0",
          "state": {
            "_dom_classes": [],
            "_model_module": "@jupyter-widgets/controls",
            "_model_module_version": "1.5.0",
            "_model_name": "FloatProgressModel",
            "_view_count": null,
            "_view_module": "@jupyter-widgets/controls",
            "_view_module_version": "1.5.0",
            "_view_name": "ProgressView",
            "bar_style": "success",
            "description": "",
            "description_tooltip": null,
            "layout": "IPY_MODEL_f41fa71c864b43a2ad9e994b76dffdd2",
            "max": 1,
            "min": 0,
            "orientation": "horizontal",
            "style": "IPY_MODEL_e243219a17d245b88ba5f503df39e31b",
            "value": 1
          }
        },
        "809d589bde5b4f1f96a2efcce1adb09a": {
          "model_module": "@jupyter-widgets/controls",
          "model_name": "HTMLModel",
          "model_module_version": "1.5.0",
          "state": {
            "_dom_classes": [],
            "_model_module": "@jupyter-widgets/controls",
            "_model_module_version": "1.5.0",
            "_model_name": "HTMLModel",
            "_view_count": null,
            "_view_module": "@jupyter-widgets/controls",
            "_view_module_version": "1.5.0",
            "_view_name": "HTMLView",
            "description": "",
            "description_tooltip": null,
            "layout": "IPY_MODEL_351f4faff2694df5b3d71e85ca8b05d3",
            "placeholder": "​",
            "style": "IPY_MODEL_20229cf5bb9d4e90a816fe85525942b7",
            "value": " 3.38M/? [00:00&lt;00:00, 78.3MB/s]"
          }
        },
        "84c5eb3303444fdc893bf3d10a60d42c": {
          "model_module": "@jupyter-widgets/base",
          "model_name": "LayoutModel",
          "model_module_version": "1.2.0",
          "state": {
            "_model_module": "@jupyter-widgets/base",
            "_model_module_version": "1.2.0",
            "_model_name": "LayoutModel",
            "_view_count": null,
            "_view_module": "@jupyter-widgets/base",
            "_view_module_version": "1.2.0",
            "_view_name": "LayoutView",
            "align_content": null,
            "align_items": null,
            "align_self": null,
            "border": null,
            "bottom": null,
            "display": null,
            "flex": null,
            "flex_flow": null,
            "grid_area": null,
            "grid_auto_columns": null,
            "grid_auto_flow": null,
            "grid_auto_rows": null,
            "grid_column": null,
            "grid_gap": null,
            "grid_row": null,
            "grid_template_areas": null,
            "grid_template_columns": null,
            "grid_template_rows": null,
            "height": null,
            "justify_content": null,
            "justify_items": null,
            "left": null,
            "margin": null,
            "max_height": null,
            "max_width": null,
            "min_height": null,
            "min_width": null,
            "object_fit": null,
            "object_position": null,
            "order": null,
            "overflow": null,
            "overflow_x": null,
            "overflow_y": null,
            "padding": null,
            "right": null,
            "top": null,
            "visibility": null,
            "width": null
          }
        },
        "6d1894d7b3e5443e8cd9e400941bbee4": {
          "model_module": "@jupyter-widgets/base",
          "model_name": "LayoutModel",
          "model_module_version": "1.2.0",
          "state": {
            "_model_module": "@jupyter-widgets/base",
            "_model_module_version": "1.2.0",
            "_model_name": "LayoutModel",
            "_view_count": null,
            "_view_module": "@jupyter-widgets/base",
            "_view_module_version": "1.2.0",
            "_view_name": "LayoutView",
            "align_content": null,
            "align_items": null,
            "align_self": null,
            "border": null,
            "bottom": null,
            "display": null,
            "flex": null,
            "flex_flow": null,
            "grid_area": null,
            "grid_auto_columns": null,
            "grid_auto_flow": null,
            "grid_auto_rows": null,
            "grid_column": null,
            "grid_gap": null,
            "grid_row": null,
            "grid_template_areas": null,
            "grid_template_columns": null,
            "grid_template_rows": null,
            "height": null,
            "justify_content": null,
            "justify_items": null,
            "left": null,
            "margin": null,
            "max_height": null,
            "max_width": null,
            "min_height": null,
            "min_width": null,
            "object_fit": null,
            "object_position": null,
            "order": null,
            "overflow": null,
            "overflow_x": null,
            "overflow_y": null,
            "padding": null,
            "right": null,
            "top": null,
            "visibility": null,
            "width": null
          }
        },
        "5bab6985368549f68598fa656052d22a": {
          "model_module": "@jupyter-widgets/controls",
          "model_name": "DescriptionStyleModel",
          "model_module_version": "1.5.0",
          "state": {
            "_model_module": "@jupyter-widgets/controls",
            "_model_module_version": "1.5.0",
            "_model_name": "DescriptionStyleModel",
            "_view_count": null,
            "_view_module": "@jupyter-widgets/base",
            "_view_module_version": "1.2.0",
            "_view_name": "StyleView",
            "description_width": ""
          }
        },
        "f41fa71c864b43a2ad9e994b76dffdd2": {
          "model_module": "@jupyter-widgets/base",
          "model_name": "LayoutModel",
          "model_module_version": "1.2.0",
          "state": {
            "_model_module": "@jupyter-widgets/base",
            "_model_module_version": "1.2.0",
            "_model_name": "LayoutModel",
            "_view_count": null,
            "_view_module": "@jupyter-widgets/base",
            "_view_module_version": "1.2.0",
            "_view_name": "LayoutView",
            "align_content": null,
            "align_items": null,
            "align_self": null,
            "border": null,
            "bottom": null,
            "display": null,
            "flex": null,
            "flex_flow": null,
            "grid_area": null,
            "grid_auto_columns": null,
            "grid_auto_flow": null,
            "grid_auto_rows": null,
            "grid_column": null,
            "grid_gap": null,
            "grid_row": null,
            "grid_template_areas": null,
            "grid_template_columns": null,
            "grid_template_rows": null,
            "height": null,
            "justify_content": null,
            "justify_items": null,
            "left": null,
            "margin": null,
            "max_height": null,
            "max_width": null,
            "min_height": null,
            "min_width": null,
            "object_fit": null,
            "object_position": null,
            "order": null,
            "overflow": null,
            "overflow_x": null,
            "overflow_y": null,
            "padding": null,
            "right": null,
            "top": null,
            "visibility": null,
            "width": "20px"
          }
        },
        "e243219a17d245b88ba5f503df39e31b": {
          "model_module": "@jupyter-widgets/controls",
          "model_name": "ProgressStyleModel",
          "model_module_version": "1.5.0",
          "state": {
            "_model_module": "@jupyter-widgets/controls",
            "_model_module_version": "1.5.0",
            "_model_name": "ProgressStyleModel",
            "_view_count": null,
            "_view_module": "@jupyter-widgets/base",
            "_view_module_version": "1.2.0",
            "_view_name": "StyleView",
            "bar_color": null,
            "description_width": ""
          }
        },
        "351f4faff2694df5b3d71e85ca8b05d3": {
          "model_module": "@jupyter-widgets/base",
          "model_name": "LayoutModel",
          "model_module_version": "1.2.0",
          "state": {
            "_model_module": "@jupyter-widgets/base",
            "_model_module_version": "1.2.0",
            "_model_name": "LayoutModel",
            "_view_count": null,
            "_view_module": "@jupyter-widgets/base",
            "_view_module_version": "1.2.0",
            "_view_name": "LayoutView",
            "align_content": null,
            "align_items": null,
            "align_self": null,
            "border": null,
            "bottom": null,
            "display": null,
            "flex": null,
            "flex_flow": null,
            "grid_area": null,
            "grid_auto_columns": null,
            "grid_auto_flow": null,
            "grid_auto_rows": null,
            "grid_column": null,
            "grid_gap": null,
            "grid_row": null,
            "grid_template_areas": null,
            "grid_template_columns": null,
            "grid_template_rows": null,
            "height": null,
            "justify_content": null,
            "justify_items": null,
            "left": null,
            "margin": null,
            "max_height": null,
            "max_width": null,
            "min_height": null,
            "min_width": null,
            "object_fit": null,
            "object_position": null,
            "order": null,
            "overflow": null,
            "overflow_x": null,
            "overflow_y": null,
            "padding": null,
            "right": null,
            "top": null,
            "visibility": null,
            "width": null
          }
        },
        "20229cf5bb9d4e90a816fe85525942b7": {
          "model_module": "@jupyter-widgets/controls",
          "model_name": "DescriptionStyleModel",
          "model_module_version": "1.5.0",
          "state": {
            "_model_module": "@jupyter-widgets/controls",
            "_model_module_version": "1.5.0",
            "_model_name": "DescriptionStyleModel",
            "_view_count": null,
            "_view_module": "@jupyter-widgets/base",
            "_view_module_version": "1.2.0",
            "_view_name": "StyleView",
            "description_width": ""
          }
        },
        "e8562dd46cc547edbd085b6582d69617": {
          "model_module": "@jupyter-widgets/controls",
          "model_name": "HBoxModel",
          "model_module_version": "1.5.0",
          "state": {
            "_dom_classes": [],
            "_model_module": "@jupyter-widgets/controls",
            "_model_module_version": "1.5.0",
            "_model_name": "HBoxModel",
            "_view_count": null,
            "_view_module": "@jupyter-widgets/controls",
            "_view_module_version": "1.5.0",
            "_view_name": "HBoxView",
            "box_style": "",
            "children": [
              "IPY_MODEL_f2f76358c35d4b83b23b4ab60d093135",
              "IPY_MODEL_391d9911aa1e473c951d8040fd6b3f82",
              "IPY_MODEL_c81f508869b8440592095d4200719aaa"
            ],
            "layout": "IPY_MODEL_38359b255d4642febc650acfecbf1ab5"
          }
        },
        "f2f76358c35d4b83b23b4ab60d093135": {
          "model_module": "@jupyter-widgets/controls",
          "model_name": "HTMLModel",
          "model_module_version": "1.5.0",
          "state": {
            "_dom_classes": [],
            "_model_module": "@jupyter-widgets/controls",
            "_model_module_version": "1.5.0",
            "_model_name": "HTMLModel",
            "_view_count": null,
            "_view_module": "@jupyter-widgets/controls",
            "_view_module_version": "1.5.0",
            "_view_name": "HTMLView",
            "description": "",
            "description_tooltip": null,
            "layout": "IPY_MODEL_dcac4a48c9604c449e9e1c8cd1258548",
            "placeholder": "​",
            "style": "IPY_MODEL_20f4f1c5b54a40afb767384a658f785a",
            "value": "merges.txt: "
          }
        },
        "391d9911aa1e473c951d8040fd6b3f82": {
          "model_module": "@jupyter-widgets/controls",
          "model_name": "FloatProgressModel",
          "model_module_version": "1.5.0",
          "state": {
            "_dom_classes": [],
            "_model_module": "@jupyter-widgets/controls",
            "_model_module_version": "1.5.0",
            "_model_name": "FloatProgressModel",
            "_view_count": null,
            "_view_module": "@jupyter-widgets/controls",
            "_view_module_version": "1.5.0",
            "_view_name": "ProgressView",
            "bar_style": "success",
            "description": "",
            "description_tooltip": null,
            "layout": "IPY_MODEL_fbe2715797aa4e3cb8c883504d478e6a",
            "max": 1,
            "min": 0,
            "orientation": "horizontal",
            "style": "IPY_MODEL_9169d1a779db4209956cdcda1608f482",
            "value": 1
          }
        },
        "c81f508869b8440592095d4200719aaa": {
          "model_module": "@jupyter-widgets/controls",
          "model_name": "HTMLModel",
          "model_module_version": "1.5.0",
          "state": {
            "_dom_classes": [],
            "_model_module": "@jupyter-widgets/controls",
            "_model_module_version": "1.5.0",
            "_model_name": "HTMLModel",
            "_view_count": null,
            "_view_module": "@jupyter-widgets/controls",
            "_view_module_version": "1.5.0",
            "_view_name": "HTMLView",
            "description": "",
            "description_tooltip": null,
            "layout": "IPY_MODEL_7f45fa840ab84d38881f81bd58234ccc",
            "placeholder": "​",
            "style": "IPY_MODEL_9945aa42db414b1781a0ff8c651226c6",
            "value": " 1.67M/? [00:00&lt;00:00, 66.0MB/s]"
          }
        },
        "38359b255d4642febc650acfecbf1ab5": {
          "model_module": "@jupyter-widgets/base",
          "model_name": "LayoutModel",
          "model_module_version": "1.2.0",
          "state": {
            "_model_module": "@jupyter-widgets/base",
            "_model_module_version": "1.2.0",
            "_model_name": "LayoutModel",
            "_view_count": null,
            "_view_module": "@jupyter-widgets/base",
            "_view_module_version": "1.2.0",
            "_view_name": "LayoutView",
            "align_content": null,
            "align_items": null,
            "align_self": null,
            "border": null,
            "bottom": null,
            "display": null,
            "flex": null,
            "flex_flow": null,
            "grid_area": null,
            "grid_auto_columns": null,
            "grid_auto_flow": null,
            "grid_auto_rows": null,
            "grid_column": null,
            "grid_gap": null,
            "grid_row": null,
            "grid_template_areas": null,
            "grid_template_columns": null,
            "grid_template_rows": null,
            "height": null,
            "justify_content": null,
            "justify_items": null,
            "left": null,
            "margin": null,
            "max_height": null,
            "max_width": null,
            "min_height": null,
            "min_width": null,
            "object_fit": null,
            "object_position": null,
            "order": null,
            "overflow": null,
            "overflow_x": null,
            "overflow_y": null,
            "padding": null,
            "right": null,
            "top": null,
            "visibility": null,
            "width": null
          }
        },
        "dcac4a48c9604c449e9e1c8cd1258548": {
          "model_module": "@jupyter-widgets/base",
          "model_name": "LayoutModel",
          "model_module_version": "1.2.0",
          "state": {
            "_model_module": "@jupyter-widgets/base",
            "_model_module_version": "1.2.0",
            "_model_name": "LayoutModel",
            "_view_count": null,
            "_view_module": "@jupyter-widgets/base",
            "_view_module_version": "1.2.0",
            "_view_name": "LayoutView",
            "align_content": null,
            "align_items": null,
            "align_self": null,
            "border": null,
            "bottom": null,
            "display": null,
            "flex": null,
            "flex_flow": null,
            "grid_area": null,
            "grid_auto_columns": null,
            "grid_auto_flow": null,
            "grid_auto_rows": null,
            "grid_column": null,
            "grid_gap": null,
            "grid_row": null,
            "grid_template_areas": null,
            "grid_template_columns": null,
            "grid_template_rows": null,
            "height": null,
            "justify_content": null,
            "justify_items": null,
            "left": null,
            "margin": null,
            "max_height": null,
            "max_width": null,
            "min_height": null,
            "min_width": null,
            "object_fit": null,
            "object_position": null,
            "order": null,
            "overflow": null,
            "overflow_x": null,
            "overflow_y": null,
            "padding": null,
            "right": null,
            "top": null,
            "visibility": null,
            "width": null
          }
        },
        "20f4f1c5b54a40afb767384a658f785a": {
          "model_module": "@jupyter-widgets/controls",
          "model_name": "DescriptionStyleModel",
          "model_module_version": "1.5.0",
          "state": {
            "_model_module": "@jupyter-widgets/controls",
            "_model_module_version": "1.5.0",
            "_model_name": "DescriptionStyleModel",
            "_view_count": null,
            "_view_module": "@jupyter-widgets/base",
            "_view_module_version": "1.2.0",
            "_view_name": "StyleView",
            "description_width": ""
          }
        },
        "fbe2715797aa4e3cb8c883504d478e6a": {
          "model_module": "@jupyter-widgets/base",
          "model_name": "LayoutModel",
          "model_module_version": "1.2.0",
          "state": {
            "_model_module": "@jupyter-widgets/base",
            "_model_module_version": "1.2.0",
            "_model_name": "LayoutModel",
            "_view_count": null,
            "_view_module": "@jupyter-widgets/base",
            "_view_module_version": "1.2.0",
            "_view_name": "LayoutView",
            "align_content": null,
            "align_items": null,
            "align_self": null,
            "border": null,
            "bottom": null,
            "display": null,
            "flex": null,
            "flex_flow": null,
            "grid_area": null,
            "grid_auto_columns": null,
            "grid_auto_flow": null,
            "grid_auto_rows": null,
            "grid_column": null,
            "grid_gap": null,
            "grid_row": null,
            "grid_template_areas": null,
            "grid_template_columns": null,
            "grid_template_rows": null,
            "height": null,
            "justify_content": null,
            "justify_items": null,
            "left": null,
            "margin": null,
            "max_height": null,
            "max_width": null,
            "min_height": null,
            "min_width": null,
            "object_fit": null,
            "object_position": null,
            "order": null,
            "overflow": null,
            "overflow_x": null,
            "overflow_y": null,
            "padding": null,
            "right": null,
            "top": null,
            "visibility": null,
            "width": "20px"
          }
        },
        "9169d1a779db4209956cdcda1608f482": {
          "model_module": "@jupyter-widgets/controls",
          "model_name": "ProgressStyleModel",
          "model_module_version": "1.5.0",
          "state": {
            "_model_module": "@jupyter-widgets/controls",
            "_model_module_version": "1.5.0",
            "_model_name": "ProgressStyleModel",
            "_view_count": null,
            "_view_module": "@jupyter-widgets/base",
            "_view_module_version": "1.2.0",
            "_view_name": "StyleView",
            "bar_color": null,
            "description_width": ""
          }
        },
        "7f45fa840ab84d38881f81bd58234ccc": {
          "model_module": "@jupyter-widgets/base",
          "model_name": "LayoutModel",
          "model_module_version": "1.2.0",
          "state": {
            "_model_module": "@jupyter-widgets/base",
            "_model_module_version": "1.2.0",
            "_model_name": "LayoutModel",
            "_view_count": null,
            "_view_module": "@jupyter-widgets/base",
            "_view_module_version": "1.2.0",
            "_view_name": "LayoutView",
            "align_content": null,
            "align_items": null,
            "align_self": null,
            "border": null,
            "bottom": null,
            "display": null,
            "flex": null,
            "flex_flow": null,
            "grid_area": null,
            "grid_auto_columns": null,
            "grid_auto_flow": null,
            "grid_auto_rows": null,
            "grid_column": null,
            "grid_gap": null,
            "grid_row": null,
            "grid_template_areas": null,
            "grid_template_columns": null,
            "grid_template_rows": null,
            "height": null,
            "justify_content": null,
            "justify_items": null,
            "left": null,
            "margin": null,
            "max_height": null,
            "max_width": null,
            "min_height": null,
            "min_width": null,
            "object_fit": null,
            "object_position": null,
            "order": null,
            "overflow": null,
            "overflow_x": null,
            "overflow_y": null,
            "padding": null,
            "right": null,
            "top": null,
            "visibility": null,
            "width": null
          }
        },
        "9945aa42db414b1781a0ff8c651226c6": {
          "model_module": "@jupyter-widgets/controls",
          "model_name": "DescriptionStyleModel",
          "model_module_version": "1.5.0",
          "state": {
            "_model_module": "@jupyter-widgets/controls",
            "_model_module_version": "1.5.0",
            "_model_name": "DescriptionStyleModel",
            "_view_count": null,
            "_view_module": "@jupyter-widgets/base",
            "_view_module_version": "1.2.0",
            "_view_name": "StyleView",
            "description_width": ""
          }
        },
        "c0b2697bad6c42788c6351110536bdeb": {
          "model_module": "@jupyter-widgets/controls",
          "model_name": "HBoxModel",
          "model_module_version": "1.5.0",
          "state": {
            "_dom_classes": [],
            "_model_module": "@jupyter-widgets/controls",
            "_model_module_version": "1.5.0",
            "_model_name": "HBoxModel",
            "_view_count": null,
            "_view_module": "@jupyter-widgets/controls",
            "_view_module_version": "1.5.0",
            "_view_name": "HBoxView",
            "box_style": "",
            "children": [
              "IPY_MODEL_41f1dd1b673a4c72971d0c3fca685211",
              "IPY_MODEL_409f261662084452aa7d635bb634dc73",
              "IPY_MODEL_eb898049863d4fb4b7f3a960f0474276"
            ],
            "layout": "IPY_MODEL_43ac245cbc57415d9463dcd9439d71c9"
          }
        },
        "41f1dd1b673a4c72971d0c3fca685211": {
          "model_module": "@jupyter-widgets/controls",
          "model_name": "HTMLModel",
          "model_module_version": "1.5.0",
          "state": {
            "_dom_classes": [],
            "_model_module": "@jupyter-widgets/controls",
            "_model_module_version": "1.5.0",
            "_model_name": "HTMLModel",
            "_view_count": null,
            "_view_module": "@jupyter-widgets/controls",
            "_view_module_version": "1.5.0",
            "_view_name": "HTMLView",
            "description": "",
            "description_tooltip": null,
            "layout": "IPY_MODEL_ea277c13823b4a1092a6e757ecc668c5",
            "placeholder": "​",
            "style": "IPY_MODEL_2363583fe9d54188865374ad069114aa",
            "value": "tokenizer.json: "
          }
        },
        "409f261662084452aa7d635bb634dc73": {
          "model_module": "@jupyter-widgets/controls",
          "model_name": "FloatProgressModel",
          "model_module_version": "1.5.0",
          "state": {
            "_dom_classes": [],
            "_model_module": "@jupyter-widgets/controls",
            "_model_module_version": "1.5.0",
            "_model_name": "FloatProgressModel",
            "_view_count": null,
            "_view_module": "@jupyter-widgets/controls",
            "_view_module_version": "1.5.0",
            "_view_name": "ProgressView",
            "bar_style": "success",
            "description": "",
            "description_tooltip": null,
            "layout": "IPY_MODEL_f3ae7b24d6704444a5d907572565ea90",
            "max": 1,
            "min": 0,
            "orientation": "horizontal",
            "style": "IPY_MODEL_2588c43b1ad34cfcb4ce14fa922633e3",
            "value": 1
          }
        },
        "eb898049863d4fb4b7f3a960f0474276": {
          "model_module": "@jupyter-widgets/controls",
          "model_name": "HTMLModel",
          "model_module_version": "1.5.0",
          "state": {
            "_dom_classes": [],
            "_model_module": "@jupyter-widgets/controls",
            "_model_module_version": "1.5.0",
            "_model_name": "HTMLModel",
            "_view_count": null,
            "_view_module": "@jupyter-widgets/controls",
            "_view_module_version": "1.5.0",
            "_view_name": "HTMLView",
            "description": "",
            "description_tooltip": null,
            "layout": "IPY_MODEL_0f18f0fc662e46378e8f8af154286005",
            "placeholder": "​",
            "style": "IPY_MODEL_ebf216faf1474da2b00cda45fbce2efb",
            "value": " 7.03M/? [00:00&lt;00:00, 119MB/s]"
          }
        },
        "43ac245cbc57415d9463dcd9439d71c9": {
          "model_module": "@jupyter-widgets/base",
          "model_name": "LayoutModel",
          "model_module_version": "1.2.0",
          "state": {
            "_model_module": "@jupyter-widgets/base",
            "_model_module_version": "1.2.0",
            "_model_name": "LayoutModel",
            "_view_count": null,
            "_view_module": "@jupyter-widgets/base",
            "_view_module_version": "1.2.0",
            "_view_name": "LayoutView",
            "align_content": null,
            "align_items": null,
            "align_self": null,
            "border": null,
            "bottom": null,
            "display": null,
            "flex": null,
            "flex_flow": null,
            "grid_area": null,
            "grid_auto_columns": null,
            "grid_auto_flow": null,
            "grid_auto_rows": null,
            "grid_column": null,
            "grid_gap": null,
            "grid_row": null,
            "grid_template_areas": null,
            "grid_template_columns": null,
            "grid_template_rows": null,
            "height": null,
            "justify_content": null,
            "justify_items": null,
            "left": null,
            "margin": null,
            "max_height": null,
            "max_width": null,
            "min_height": null,
            "min_width": null,
            "object_fit": null,
            "object_position": null,
            "order": null,
            "overflow": null,
            "overflow_x": null,
            "overflow_y": null,
            "padding": null,
            "right": null,
            "top": null,
            "visibility": null,
            "width": null
          }
        },
        "ea277c13823b4a1092a6e757ecc668c5": {
          "model_module": "@jupyter-widgets/base",
          "model_name": "LayoutModel",
          "model_module_version": "1.2.0",
          "state": {
            "_model_module": "@jupyter-widgets/base",
            "_model_module_version": "1.2.0",
            "_model_name": "LayoutModel",
            "_view_count": null,
            "_view_module": "@jupyter-widgets/base",
            "_view_module_version": "1.2.0",
            "_view_name": "LayoutView",
            "align_content": null,
            "align_items": null,
            "align_self": null,
            "border": null,
            "bottom": null,
            "display": null,
            "flex": null,
            "flex_flow": null,
            "grid_area": null,
            "grid_auto_columns": null,
            "grid_auto_flow": null,
            "grid_auto_rows": null,
            "grid_column": null,
            "grid_gap": null,
            "grid_row": null,
            "grid_template_areas": null,
            "grid_template_columns": null,
            "grid_template_rows": null,
            "height": null,
            "justify_content": null,
            "justify_items": null,
            "left": null,
            "margin": null,
            "max_height": null,
            "max_width": null,
            "min_height": null,
            "min_width": null,
            "object_fit": null,
            "object_position": null,
            "order": null,
            "overflow": null,
            "overflow_x": null,
            "overflow_y": null,
            "padding": null,
            "right": null,
            "top": null,
            "visibility": null,
            "width": null
          }
        },
        "2363583fe9d54188865374ad069114aa": {
          "model_module": "@jupyter-widgets/controls",
          "model_name": "DescriptionStyleModel",
          "model_module_version": "1.5.0",
          "state": {
            "_model_module": "@jupyter-widgets/controls",
            "_model_module_version": "1.5.0",
            "_model_name": "DescriptionStyleModel",
            "_view_count": null,
            "_view_module": "@jupyter-widgets/base",
            "_view_module_version": "1.2.0",
            "_view_name": "StyleView",
            "description_width": ""
          }
        },
        "f3ae7b24d6704444a5d907572565ea90": {
          "model_module": "@jupyter-widgets/base",
          "model_name": "LayoutModel",
          "model_module_version": "1.2.0",
          "state": {
            "_model_module": "@jupyter-widgets/base",
            "_model_module_version": "1.2.0",
            "_model_name": "LayoutModel",
            "_view_count": null,
            "_view_module": "@jupyter-widgets/base",
            "_view_module_version": "1.2.0",
            "_view_name": "LayoutView",
            "align_content": null,
            "align_items": null,
            "align_self": null,
            "border": null,
            "bottom": null,
            "display": null,
            "flex": null,
            "flex_flow": null,
            "grid_area": null,
            "grid_auto_columns": null,
            "grid_auto_flow": null,
            "grid_auto_rows": null,
            "grid_column": null,
            "grid_gap": null,
            "grid_row": null,
            "grid_template_areas": null,
            "grid_template_columns": null,
            "grid_template_rows": null,
            "height": null,
            "justify_content": null,
            "justify_items": null,
            "left": null,
            "margin": null,
            "max_height": null,
            "max_width": null,
            "min_height": null,
            "min_width": null,
            "object_fit": null,
            "object_position": null,
            "order": null,
            "overflow": null,
            "overflow_x": null,
            "overflow_y": null,
            "padding": null,
            "right": null,
            "top": null,
            "visibility": null,
            "width": "20px"
          }
        },
        "2588c43b1ad34cfcb4ce14fa922633e3": {
          "model_module": "@jupyter-widgets/controls",
          "model_name": "ProgressStyleModel",
          "model_module_version": "1.5.0",
          "state": {
            "_model_module": "@jupyter-widgets/controls",
            "_model_module_version": "1.5.0",
            "_model_name": "ProgressStyleModel",
            "_view_count": null,
            "_view_module": "@jupyter-widgets/base",
            "_view_module_version": "1.2.0",
            "_view_name": "StyleView",
            "bar_color": null,
            "description_width": ""
          }
        },
        "0f18f0fc662e46378e8f8af154286005": {
          "model_module": "@jupyter-widgets/base",
          "model_name": "LayoutModel",
          "model_module_version": "1.2.0",
          "state": {
            "_model_module": "@jupyter-widgets/base",
            "_model_module_version": "1.2.0",
            "_model_name": "LayoutModel",
            "_view_count": null,
            "_view_module": "@jupyter-widgets/base",
            "_view_module_version": "1.2.0",
            "_view_name": "LayoutView",
            "align_content": null,
            "align_items": null,
            "align_self": null,
            "border": null,
            "bottom": null,
            "display": null,
            "flex": null,
            "flex_flow": null,
            "grid_area": null,
            "grid_auto_columns": null,
            "grid_auto_flow": null,
            "grid_auto_rows": null,
            "grid_column": null,
            "grid_gap": null,
            "grid_row": null,
            "grid_template_areas": null,
            "grid_template_columns": null,
            "grid_template_rows": null,
            "height": null,
            "justify_content": null,
            "justify_items": null,
            "left": null,
            "margin": null,
            "max_height": null,
            "max_width": null,
            "min_height": null,
            "min_width": null,
            "object_fit": null,
            "object_position": null,
            "order": null,
            "overflow": null,
            "overflow_x": null,
            "overflow_y": null,
            "padding": null,
            "right": null,
            "top": null,
            "visibility": null,
            "width": null
          }
        },
        "ebf216faf1474da2b00cda45fbce2efb": {
          "model_module": "@jupyter-widgets/controls",
          "model_name": "DescriptionStyleModel",
          "model_module_version": "1.5.0",
          "state": {
            "_model_module": "@jupyter-widgets/controls",
            "_model_module_version": "1.5.0",
            "_model_name": "DescriptionStyleModel",
            "_view_count": null,
            "_view_module": "@jupyter-widgets/base",
            "_view_module_version": "1.2.0",
            "_view_name": "StyleView",
            "description_width": ""
          }
        },
        "93956955b7cd4412a82edc0303e83829": {
          "model_module": "@jupyter-widgets/controls",
          "model_name": "HBoxModel",
          "model_module_version": "1.5.0",
          "state": {
            "_dom_classes": [],
            "_model_module": "@jupyter-widgets/controls",
            "_model_module_version": "1.5.0",
            "_model_name": "HBoxModel",
            "_view_count": null,
            "_view_module": "@jupyter-widgets/controls",
            "_view_module_version": "1.5.0",
            "_view_name": "HBoxView",
            "box_style": "",
            "children": [
              "IPY_MODEL_9d572faab2304bc7b4edb3edfc6f2b7a",
              "IPY_MODEL_01d140ac6ec44df092da5e358717209f",
              "IPY_MODEL_99d91345c89b4586b57774ef50ae8c70"
            ],
            "layout": "IPY_MODEL_bf9783c87f3040c9ba0b390d8b38cd4e"
          }
        },
        "9d572faab2304bc7b4edb3edfc6f2b7a": {
          "model_module": "@jupyter-widgets/controls",
          "model_name": "HTMLModel",
          "model_module_version": "1.5.0",
          "state": {
            "_dom_classes": [],
            "_model_module": "@jupyter-widgets/controls",
            "_model_module_version": "1.5.0",
            "_model_name": "HTMLModel",
            "_view_count": null,
            "_view_module": "@jupyter-widgets/controls",
            "_view_module_version": "1.5.0",
            "_view_name": "HTMLView",
            "description": "",
            "description_tooltip": null,
            "layout": "IPY_MODEL_96483ef1800447e78595450c4208dadf",
            "placeholder": "​",
            "style": "IPY_MODEL_8dcd99b6067a44be9a48d07beb22b188",
            "value": "added_tokens.json: 100%"
          }
        },
        "01d140ac6ec44df092da5e358717209f": {
          "model_module": "@jupyter-widgets/controls",
          "model_name": "FloatProgressModel",
          "model_module_version": "1.5.0",
          "state": {
            "_dom_classes": [],
            "_model_module": "@jupyter-widgets/controls",
            "_model_module_version": "1.5.0",
            "_model_name": "FloatProgressModel",
            "_view_count": null,
            "_view_module": "@jupyter-widgets/controls",
            "_view_module_version": "1.5.0",
            "_view_name": "ProgressView",
            "bar_style": "success",
            "description": "",
            "description_tooltip": null,
            "layout": "IPY_MODEL_d3a5f487e796480092a46bf00fe990e4",
            "max": 790,
            "min": 0,
            "orientation": "horizontal",
            "style": "IPY_MODEL_8dcde512fa904440b7dcf20592058be1",
            "value": 790
          }
        },
        "99d91345c89b4586b57774ef50ae8c70": {
          "model_module": "@jupyter-widgets/controls",
          "model_name": "HTMLModel",
          "model_module_version": "1.5.0",
          "state": {
            "_dom_classes": [],
            "_model_module": "@jupyter-widgets/controls",
            "_model_module_version": "1.5.0",
            "_model_name": "HTMLModel",
            "_view_count": null,
            "_view_module": "@jupyter-widgets/controls",
            "_view_module_version": "1.5.0",
            "_view_name": "HTMLView",
            "description": "",
            "description_tooltip": null,
            "layout": "IPY_MODEL_0617e6f6ba3f484888f52236a0dc6818",
            "placeholder": "​",
            "style": "IPY_MODEL_9db21f37ce264fffbd6031d29c9f9d40",
            "value": " 790/790 [00:00&lt;00:00, 111kB/s]"
          }
        },
        "bf9783c87f3040c9ba0b390d8b38cd4e": {
          "model_module": "@jupyter-widgets/base",
          "model_name": "LayoutModel",
          "model_module_version": "1.2.0",
          "state": {
            "_model_module": "@jupyter-widgets/base",
            "_model_module_version": "1.2.0",
            "_model_name": "LayoutModel",
            "_view_count": null,
            "_view_module": "@jupyter-widgets/base",
            "_view_module_version": "1.2.0",
            "_view_name": "LayoutView",
            "align_content": null,
            "align_items": null,
            "align_self": null,
            "border": null,
            "bottom": null,
            "display": null,
            "flex": null,
            "flex_flow": null,
            "grid_area": null,
            "grid_auto_columns": null,
            "grid_auto_flow": null,
            "grid_auto_rows": null,
            "grid_column": null,
            "grid_gap": null,
            "grid_row": null,
            "grid_template_areas": null,
            "grid_template_columns": null,
            "grid_template_rows": null,
            "height": null,
            "justify_content": null,
            "justify_items": null,
            "left": null,
            "margin": null,
            "max_height": null,
            "max_width": null,
            "min_height": null,
            "min_width": null,
            "object_fit": null,
            "object_position": null,
            "order": null,
            "overflow": null,
            "overflow_x": null,
            "overflow_y": null,
            "padding": null,
            "right": null,
            "top": null,
            "visibility": null,
            "width": null
          }
        },
        "96483ef1800447e78595450c4208dadf": {
          "model_module": "@jupyter-widgets/base",
          "model_name": "LayoutModel",
          "model_module_version": "1.2.0",
          "state": {
            "_model_module": "@jupyter-widgets/base",
            "_model_module_version": "1.2.0",
            "_model_name": "LayoutModel",
            "_view_count": null,
            "_view_module": "@jupyter-widgets/base",
            "_view_module_version": "1.2.0",
            "_view_name": "LayoutView",
            "align_content": null,
            "align_items": null,
            "align_self": null,
            "border": null,
            "bottom": null,
            "display": null,
            "flex": null,
            "flex_flow": null,
            "grid_area": null,
            "grid_auto_columns": null,
            "grid_auto_flow": null,
            "grid_auto_rows": null,
            "grid_column": null,
            "grid_gap": null,
            "grid_row": null,
            "grid_template_areas": null,
            "grid_template_columns": null,
            "grid_template_rows": null,
            "height": null,
            "justify_content": null,
            "justify_items": null,
            "left": null,
            "margin": null,
            "max_height": null,
            "max_width": null,
            "min_height": null,
            "min_width": null,
            "object_fit": null,
            "object_position": null,
            "order": null,
            "overflow": null,
            "overflow_x": null,
            "overflow_y": null,
            "padding": null,
            "right": null,
            "top": null,
            "visibility": null,
            "width": null
          }
        },
        "8dcd99b6067a44be9a48d07beb22b188": {
          "model_module": "@jupyter-widgets/controls",
          "model_name": "DescriptionStyleModel",
          "model_module_version": "1.5.0",
          "state": {
            "_model_module": "@jupyter-widgets/controls",
            "_model_module_version": "1.5.0",
            "_model_name": "DescriptionStyleModel",
            "_view_count": null,
            "_view_module": "@jupyter-widgets/base",
            "_view_module_version": "1.2.0",
            "_view_name": "StyleView",
            "description_width": ""
          }
        },
        "d3a5f487e796480092a46bf00fe990e4": {
          "model_module": "@jupyter-widgets/base",
          "model_name": "LayoutModel",
          "model_module_version": "1.2.0",
          "state": {
            "_model_module": "@jupyter-widgets/base",
            "_model_module_version": "1.2.0",
            "_model_name": "LayoutModel",
            "_view_count": null,
            "_view_module": "@jupyter-widgets/base",
            "_view_module_version": "1.2.0",
            "_view_name": "LayoutView",
            "align_content": null,
            "align_items": null,
            "align_self": null,
            "border": null,
            "bottom": null,
            "display": null,
            "flex": null,
            "flex_flow": null,
            "grid_area": null,
            "grid_auto_columns": null,
            "grid_auto_flow": null,
            "grid_auto_rows": null,
            "grid_column": null,
            "grid_gap": null,
            "grid_row": null,
            "grid_template_areas": null,
            "grid_template_columns": null,
            "grid_template_rows": null,
            "height": null,
            "justify_content": null,
            "justify_items": null,
            "left": null,
            "margin": null,
            "max_height": null,
            "max_width": null,
            "min_height": null,
            "min_width": null,
            "object_fit": null,
            "object_position": null,
            "order": null,
            "overflow": null,
            "overflow_x": null,
            "overflow_y": null,
            "padding": null,
            "right": null,
            "top": null,
            "visibility": null,
            "width": null
          }
        },
        "8dcde512fa904440b7dcf20592058be1": {
          "model_module": "@jupyter-widgets/controls",
          "model_name": "ProgressStyleModel",
          "model_module_version": "1.5.0",
          "state": {
            "_model_module": "@jupyter-widgets/controls",
            "_model_module_version": "1.5.0",
            "_model_name": "ProgressStyleModel",
            "_view_count": null,
            "_view_module": "@jupyter-widgets/base",
            "_view_module_version": "1.2.0",
            "_view_name": "StyleView",
            "bar_color": null,
            "description_width": ""
          }
        },
        "0617e6f6ba3f484888f52236a0dc6818": {
          "model_module": "@jupyter-widgets/base",
          "model_name": "LayoutModel",
          "model_module_version": "1.2.0",
          "state": {
            "_model_module": "@jupyter-widgets/base",
            "_model_module_version": "1.2.0",
            "_model_name": "LayoutModel",
            "_view_count": null,
            "_view_module": "@jupyter-widgets/base",
            "_view_module_version": "1.2.0",
            "_view_name": "LayoutView",
            "align_content": null,
            "align_items": null,
            "align_self": null,
            "border": null,
            "bottom": null,
            "display": null,
            "flex": null,
            "flex_flow": null,
            "grid_area": null,
            "grid_auto_columns": null,
            "grid_auto_flow": null,
            "grid_auto_rows": null,
            "grid_column": null,
            "grid_gap": null,
            "grid_row": null,
            "grid_template_areas": null,
            "grid_template_columns": null,
            "grid_template_rows": null,
            "height": null,
            "justify_content": null,
            "justify_items": null,
            "left": null,
            "margin": null,
            "max_height": null,
            "max_width": null,
            "min_height": null,
            "min_width": null,
            "object_fit": null,
            "object_position": null,
            "order": null,
            "overflow": null,
            "overflow_x": null,
            "overflow_y": null,
            "padding": null,
            "right": null,
            "top": null,
            "visibility": null,
            "width": null
          }
        },
        "9db21f37ce264fffbd6031d29c9f9d40": {
          "model_module": "@jupyter-widgets/controls",
          "model_name": "DescriptionStyleModel",
          "model_module_version": "1.5.0",
          "state": {
            "_model_module": "@jupyter-widgets/controls",
            "_model_module_version": "1.5.0",
            "_model_name": "DescriptionStyleModel",
            "_view_count": null,
            "_view_module": "@jupyter-widgets/base",
            "_view_module_version": "1.2.0",
            "_view_name": "StyleView",
            "description_width": ""
          }
        },
        "e3cfd489689046cb90d65ab4a038f763": {
          "model_module": "@jupyter-widgets/controls",
          "model_name": "HBoxModel",
          "model_module_version": "1.5.0",
          "state": {
            "_dom_classes": [],
            "_model_module": "@jupyter-widgets/controls",
            "_model_module_version": "1.5.0",
            "_model_name": "HBoxModel",
            "_view_count": null,
            "_view_module": "@jupyter-widgets/controls",
            "_view_module_version": "1.5.0",
            "_view_name": "HBoxView",
            "box_style": "",
            "children": [
              "IPY_MODEL_b16397f1fbea45e58b4e85c9a1f67e63",
              "IPY_MODEL_afa84127be564a3ea49fba58bfcb45a6",
              "IPY_MODEL_ad658d8278af41e598b9ce03ed7df85e"
            ],
            "layout": "IPY_MODEL_f303935fc0cf40cb990d89acdaa58d33"
          }
        },
        "b16397f1fbea45e58b4e85c9a1f67e63": {
          "model_module": "@jupyter-widgets/controls",
          "model_name": "HTMLModel",
          "model_module_version": "1.5.0",
          "state": {
            "_dom_classes": [],
            "_model_module": "@jupyter-widgets/controls",
            "_model_module_version": "1.5.0",
            "_model_name": "HTMLModel",
            "_view_count": null,
            "_view_module": "@jupyter-widgets/controls",
            "_view_module_version": "1.5.0",
            "_view_name": "HTMLView",
            "description": "",
            "description_tooltip": null,
            "layout": "IPY_MODEL_d7b93e483cd84d2cba86b0c4eac55b10",
            "placeholder": "​",
            "style": "IPY_MODEL_f826f3b3813846a5b7f556b35a855325",
            "value": "special_tokens_map.json: 100%"
          }
        },
        "afa84127be564a3ea49fba58bfcb45a6": {
          "model_module": "@jupyter-widgets/controls",
          "model_name": "FloatProgressModel",
          "model_module_version": "1.5.0",
          "state": {
            "_dom_classes": [],
            "_model_module": "@jupyter-widgets/controls",
            "_model_module_version": "1.5.0",
            "_model_name": "FloatProgressModel",
            "_view_count": null,
            "_view_module": "@jupyter-widgets/controls",
            "_view_module_version": "1.5.0",
            "_view_name": "ProgressView",
            "bar_style": "success",
            "description": "",
            "description_tooltip": null,
            "layout": "IPY_MODEL_ef9c53c4abbb4ad0a0f2f3499864a4e2",
            "max": 613,
            "min": 0,
            "orientation": "horizontal",
            "style": "IPY_MODEL_c444933a65804ad89b188233db00a2b1",
            "value": 613
          }
        },
        "ad658d8278af41e598b9ce03ed7df85e": {
          "model_module": "@jupyter-widgets/controls",
          "model_name": "HTMLModel",
          "model_module_version": "1.5.0",
          "state": {
            "_dom_classes": [],
            "_model_module": "@jupyter-widgets/controls",
            "_model_module_version": "1.5.0",
            "_model_name": "HTMLModel",
            "_view_count": null,
            "_view_module": "@jupyter-widgets/controls",
            "_view_module_version": "1.5.0",
            "_view_name": "HTMLView",
            "description": "",
            "description_tooltip": null,
            "layout": "IPY_MODEL_1112069e5b2d4afc9cfa4c9fda06b4dc",
            "placeholder": "​",
            "style": "IPY_MODEL_df5f29a7cce84633b3f7128fa1ccc393",
            "value": " 613/613 [00:00&lt;00:00, 80.3kB/s]"
          }
        },
        "f303935fc0cf40cb990d89acdaa58d33": {
          "model_module": "@jupyter-widgets/base",
          "model_name": "LayoutModel",
          "model_module_version": "1.2.0",
          "state": {
            "_model_module": "@jupyter-widgets/base",
            "_model_module_version": "1.2.0",
            "_model_name": "LayoutModel",
            "_view_count": null,
            "_view_module": "@jupyter-widgets/base",
            "_view_module_version": "1.2.0",
            "_view_name": "LayoutView",
            "align_content": null,
            "align_items": null,
            "align_self": null,
            "border": null,
            "bottom": null,
            "display": null,
            "flex": null,
            "flex_flow": null,
            "grid_area": null,
            "grid_auto_columns": null,
            "grid_auto_flow": null,
            "grid_auto_rows": null,
            "grid_column": null,
            "grid_gap": null,
            "grid_row": null,
            "grid_template_areas": null,
            "grid_template_columns": null,
            "grid_template_rows": null,
            "height": null,
            "justify_content": null,
            "justify_items": null,
            "left": null,
            "margin": null,
            "max_height": null,
            "max_width": null,
            "min_height": null,
            "min_width": null,
            "object_fit": null,
            "object_position": null,
            "order": null,
            "overflow": null,
            "overflow_x": null,
            "overflow_y": null,
            "padding": null,
            "right": null,
            "top": null,
            "visibility": null,
            "width": null
          }
        },
        "d7b93e483cd84d2cba86b0c4eac55b10": {
          "model_module": "@jupyter-widgets/base",
          "model_name": "LayoutModel",
          "model_module_version": "1.2.0",
          "state": {
            "_model_module": "@jupyter-widgets/base",
            "_model_module_version": "1.2.0",
            "_model_name": "LayoutModel",
            "_view_count": null,
            "_view_module": "@jupyter-widgets/base",
            "_view_module_version": "1.2.0",
            "_view_name": "LayoutView",
            "align_content": null,
            "align_items": null,
            "align_self": null,
            "border": null,
            "bottom": null,
            "display": null,
            "flex": null,
            "flex_flow": null,
            "grid_area": null,
            "grid_auto_columns": null,
            "grid_auto_flow": null,
            "grid_auto_rows": null,
            "grid_column": null,
            "grid_gap": null,
            "grid_row": null,
            "grid_template_areas": null,
            "grid_template_columns": null,
            "grid_template_rows": null,
            "height": null,
            "justify_content": null,
            "justify_items": null,
            "left": null,
            "margin": null,
            "max_height": null,
            "max_width": null,
            "min_height": null,
            "min_width": null,
            "object_fit": null,
            "object_position": null,
            "order": null,
            "overflow": null,
            "overflow_x": null,
            "overflow_y": null,
            "padding": null,
            "right": null,
            "top": null,
            "visibility": null,
            "width": null
          }
        },
        "f826f3b3813846a5b7f556b35a855325": {
          "model_module": "@jupyter-widgets/controls",
          "model_name": "DescriptionStyleModel",
          "model_module_version": "1.5.0",
          "state": {
            "_model_module": "@jupyter-widgets/controls",
            "_model_module_version": "1.5.0",
            "_model_name": "DescriptionStyleModel",
            "_view_count": null,
            "_view_module": "@jupyter-widgets/base",
            "_view_module_version": "1.2.0",
            "_view_name": "StyleView",
            "description_width": ""
          }
        },
        "ef9c53c4abbb4ad0a0f2f3499864a4e2": {
          "model_module": "@jupyter-widgets/base",
          "model_name": "LayoutModel",
          "model_module_version": "1.2.0",
          "state": {
            "_model_module": "@jupyter-widgets/base",
            "_model_module_version": "1.2.0",
            "_model_name": "LayoutModel",
            "_view_count": null,
            "_view_module": "@jupyter-widgets/base",
            "_view_module_version": "1.2.0",
            "_view_name": "LayoutView",
            "align_content": null,
            "align_items": null,
            "align_self": null,
            "border": null,
            "bottom": null,
            "display": null,
            "flex": null,
            "flex_flow": null,
            "grid_area": null,
            "grid_auto_columns": null,
            "grid_auto_flow": null,
            "grid_auto_rows": null,
            "grid_column": null,
            "grid_gap": null,
            "grid_row": null,
            "grid_template_areas": null,
            "grid_template_columns": null,
            "grid_template_rows": null,
            "height": null,
            "justify_content": null,
            "justify_items": null,
            "left": null,
            "margin": null,
            "max_height": null,
            "max_width": null,
            "min_height": null,
            "min_width": null,
            "object_fit": null,
            "object_position": null,
            "order": null,
            "overflow": null,
            "overflow_x": null,
            "overflow_y": null,
            "padding": null,
            "right": null,
            "top": null,
            "visibility": null,
            "width": null
          }
        },
        "c444933a65804ad89b188233db00a2b1": {
          "model_module": "@jupyter-widgets/controls",
          "model_name": "ProgressStyleModel",
          "model_module_version": "1.5.0",
          "state": {
            "_model_module": "@jupyter-widgets/controls",
            "_model_module_version": "1.5.0",
            "_model_name": "ProgressStyleModel",
            "_view_count": null,
            "_view_module": "@jupyter-widgets/base",
            "_view_module_version": "1.2.0",
            "_view_name": "StyleView",
            "bar_color": null,
            "description_width": ""
          }
        },
        "1112069e5b2d4afc9cfa4c9fda06b4dc": {
          "model_module": "@jupyter-widgets/base",
          "model_name": "LayoutModel",
          "model_module_version": "1.2.0",
          "state": {
            "_model_module": "@jupyter-widgets/base",
            "_model_module_version": "1.2.0",
            "_model_name": "LayoutModel",
            "_view_count": null,
            "_view_module": "@jupyter-widgets/base",
            "_view_module_version": "1.2.0",
            "_view_name": "LayoutView",
            "align_content": null,
            "align_items": null,
            "align_self": null,
            "border": null,
            "bottom": null,
            "display": null,
            "flex": null,
            "flex_flow": null,
            "grid_area": null,
            "grid_auto_columns": null,
            "grid_auto_flow": null,
            "grid_auto_rows": null,
            "grid_column": null,
            "grid_gap": null,
            "grid_row": null,
            "grid_template_areas": null,
            "grid_template_columns": null,
            "grid_template_rows": null,
            "height": null,
            "justify_content": null,
            "justify_items": null,
            "left": null,
            "margin": null,
            "max_height": null,
            "max_width": null,
            "min_height": null,
            "min_width": null,
            "object_fit": null,
            "object_position": null,
            "order": null,
            "overflow": null,
            "overflow_x": null,
            "overflow_y": null,
            "padding": null,
            "right": null,
            "top": null,
            "visibility": null,
            "width": null
          }
        },
        "df5f29a7cce84633b3f7128fa1ccc393": {
          "model_module": "@jupyter-widgets/controls",
          "model_name": "DescriptionStyleModel",
          "model_module_version": "1.5.0",
          "state": {
            "_model_module": "@jupyter-widgets/controls",
            "_model_module_version": "1.5.0",
            "_model_name": "DescriptionStyleModel",
            "_view_count": null,
            "_view_module": "@jupyter-widgets/base",
            "_view_module_version": "1.2.0",
            "_view_name": "StyleView",
            "description_width": ""
          }
        }
      }
    }
  },
  "nbformat_minor": 0,
  "nbformat": 4,
  "cells": [
    {
      "cell_type": "markdown",
      "source": [
        "# Inference Notebook Template"
      ],
      "metadata": {
        "id": "CAIJIOZYqNvk"
      }
    },
    {
      "cell_type": "markdown",
      "source": [
        "Country Level 2 (L2) means-\n",
        "\n",
        "* With Continent as cue\n",
        "* Without Explicit Country list"
      ],
      "metadata": {
        "id": "MShNRPjGfH3c"
      }
    },
    {
      "cell_type": "code",
      "source": [
        "import os\n",
        "os.environ[\"PYTORCH_CUDA_ALLOC_CONF\"]=\"expandable_segments:True\""
      ],
      "metadata": {
        "id": "asuwu-Pv8Y_j",
        "trusted": true
      },
      "outputs": [],
      "execution_count": null
    },
    {
      "cell_type": "markdown",
      "source": [
        "🔨 TO BE MODIFIED 🔨"
      ],
      "metadata": {
        "id": "CYfmQB-RAkGu"
      }
    },
    {
      "cell_type": "code",
      "source": [
        "# TO BE MODIFIED\n",
        "\n",
        "\n",
        "!pip install git+https://github.com/huggingface/transformers.git"
      ],
      "metadata": {
        "id": "pr-3EqXMv8Dd",
        "trusted": true,
        "colab": {
          "base_uri": "https://localhost:8080/"
        },
        "outputId": "7a860b0d-a992-459b-8a10-801708e9dafd"
      },
      "outputs": [
        {
          "output_type": "stream",
          "name": "stdout",
          "text": [
            "Collecting git+https://github.com/huggingface/transformers.git\n",
            "  Cloning https://github.com/huggingface/transformers.git to /tmp/pip-req-build-7uzphsyb\n",
            "  Running command git clone --filter=blob:none --quiet https://github.com/huggingface/transformers.git /tmp/pip-req-build-7uzphsyb\n",
            "  Resolved https://github.com/huggingface/transformers.git to commit 76fc50a1527a7db593a6057903b749598f7000a9\n",
            "  Installing build dependencies ... \u001b[?25l\u001b[?25hdone\n",
            "  Getting requirements to build wheel ... \u001b[?25l\u001b[?25hdone\n",
            "  Preparing metadata (pyproject.toml) ... \u001b[?25l\u001b[?25hdone\n",
            "Requirement already satisfied: filelock in /usr/local/lib/python3.12/dist-packages (from transformers==5.0.0.dev0) (3.20.0)\n",
            "Collecting huggingface-hub==1.0.0.rc6 (from transformers==5.0.0.dev0)\n",
            "  Downloading huggingface_hub-1.0.0rc6-py3-none-any.whl.metadata (14 kB)\n",
            "Requirement already satisfied: numpy>=1.17 in /usr/local/lib/python3.12/dist-packages (from transformers==5.0.0.dev0) (2.0.2)\n",
            "Requirement already satisfied: packaging>=20.0 in /usr/local/lib/python3.12/dist-packages (from transformers==5.0.0.dev0) (25.0)\n",
            "Requirement already satisfied: pyyaml>=5.1 in /usr/local/lib/python3.12/dist-packages (from transformers==5.0.0.dev0) (6.0.3)\n",
            "Requirement already satisfied: regex!=2019.12.17 in /usr/local/lib/python3.12/dist-packages (from transformers==5.0.0.dev0) (2024.11.6)\n",
            "Requirement already satisfied: requests in /usr/local/lib/python3.12/dist-packages (from transformers==5.0.0.dev0) (2.32.4)\n",
            "Requirement already satisfied: tokenizers<=0.23.0,>=0.22.0 in /usr/local/lib/python3.12/dist-packages (from transformers==5.0.0.dev0) (0.22.1)\n",
            "Collecting typer-slim (from transformers==5.0.0.dev0)\n",
            "  Downloading typer_slim-0.20.0-py3-none-any.whl.metadata (16 kB)\n",
            "Requirement already satisfied: safetensors>=0.4.3 in /usr/local/lib/python3.12/dist-packages (from transformers==5.0.0.dev0) (0.6.2)\n",
            "Requirement already satisfied: tqdm>=4.27 in /usr/local/lib/python3.12/dist-packages (from transformers==5.0.0.dev0) (4.67.1)\n",
            "Requirement already satisfied: fsspec>=2023.5.0 in /usr/local/lib/python3.12/dist-packages (from huggingface-hub==1.0.0.rc6->transformers==5.0.0.dev0) (2025.3.0)\n",
            "Requirement already satisfied: httpx<1,>=0.23.0 in /usr/local/lib/python3.12/dist-packages (from huggingface-hub==1.0.0.rc6->transformers==5.0.0.dev0) (0.28.1)\n",
            "Requirement already satisfied: typing-extensions>=3.7.4.3 in /usr/local/lib/python3.12/dist-packages (from huggingface-hub==1.0.0.rc6->transformers==5.0.0.dev0) (4.15.0)\n",
            "Requirement already satisfied: hf-xet<2.0.0,>=1.1.3 in /usr/local/lib/python3.12/dist-packages (from huggingface-hub==1.0.0.rc6->transformers==5.0.0.dev0) (1.2.0)\n",
            "Requirement already satisfied: charset_normalizer<4,>=2 in /usr/local/lib/python3.12/dist-packages (from requests->transformers==5.0.0.dev0) (3.4.4)\n",
            "Requirement already satisfied: idna<4,>=2.5 in /usr/local/lib/python3.12/dist-packages (from requests->transformers==5.0.0.dev0) (3.11)\n",
            "Requirement already satisfied: urllib3<3,>=1.21.1 in /usr/local/lib/python3.12/dist-packages (from requests->transformers==5.0.0.dev0) (2.5.0)\n",
            "Requirement already satisfied: certifi>=2017.4.17 in /usr/local/lib/python3.12/dist-packages (from requests->transformers==5.0.0.dev0) (2025.10.5)\n",
            "Requirement already satisfied: click>=8.0.0 in /usr/local/lib/python3.12/dist-packages (from typer-slim->transformers==5.0.0.dev0) (8.3.0)\n",
            "Requirement already satisfied: anyio in /usr/local/lib/python3.12/dist-packages (from httpx<1,>=0.23.0->huggingface-hub==1.0.0.rc6->transformers==5.0.0.dev0) (4.11.0)\n",
            "Requirement already satisfied: httpcore==1.* in /usr/local/lib/python3.12/dist-packages (from httpx<1,>=0.23.0->huggingface-hub==1.0.0.rc6->transformers==5.0.0.dev0) (1.0.9)\n",
            "Requirement already satisfied: h11>=0.16 in /usr/local/lib/python3.12/dist-packages (from httpcore==1.*->httpx<1,>=0.23.0->huggingface-hub==1.0.0.rc6->transformers==5.0.0.dev0) (0.16.0)\n",
            "Requirement already satisfied: sniffio>=1.1 in /usr/local/lib/python3.12/dist-packages (from anyio->httpx<1,>=0.23.0->huggingface-hub==1.0.0.rc6->transformers==5.0.0.dev0) (1.3.1)\n",
            "Downloading huggingface_hub-1.0.0rc6-py3-none-any.whl (502 kB)\n",
            "\u001b[2K   \u001b[90m━━━━━━━━━━━━━━━━━━━━━━━━━━━━━━━━━━━━━━━━\u001b[0m \u001b[32m502.0/502.0 kB\u001b[0m \u001b[31m25.7 MB/s\u001b[0m eta \u001b[36m0:00:00\u001b[0m\n",
            "\u001b[?25hDownloading typer_slim-0.20.0-py3-none-any.whl (47 kB)\n",
            "\u001b[2K   \u001b[90m━━━━━━━━━━━━━━━━━━━━━━━━━━━━━━━━━━━━━━━━\u001b[0m \u001b[32m47.1/47.1 kB\u001b[0m \u001b[31m4.1 MB/s\u001b[0m eta \u001b[36m0:00:00\u001b[0m\n",
            "\u001b[?25hBuilding wheels for collected packages: transformers\n",
            "  Building wheel for transformers (pyproject.toml) ... \u001b[?25l\u001b[?25hdone\n",
            "  Created wheel for transformers: filename=transformers-5.0.0.dev0-py3-none-any.whl size=11349228 sha256=bb799db519f368e9c4d5451c51501e19457ec577c358101dd3130189a0a39740\n",
            "  Stored in directory: /tmp/pip-ephem-wheel-cache-ulz7ts0v/wheels/54/cb/3f/83103de5575c534436d6a4686686dead458238dfaf1147e98d\n",
            "Successfully built transformers\n",
            "Installing collected packages: typer-slim, huggingface-hub, transformers\n",
            "  Attempting uninstall: huggingface-hub\n",
            "    Found existing installation: huggingface-hub 0.36.0\n",
            "    Uninstalling huggingface-hub-0.36.0:\n",
            "      Successfully uninstalled huggingface-hub-0.36.0\n",
            "  Attempting uninstall: transformers\n",
            "    Found existing installation: transformers 4.57.1\n",
            "    Uninstalling transformers-4.57.1:\n",
            "      Successfully uninstalled transformers-4.57.1\n",
            "\u001b[31mERROR: pip's dependency resolver does not currently take into account all the packages that are installed. This behaviour is the source of the following dependency conflicts.\n",
            "sentence-transformers 5.1.2 requires transformers<5.0.0,>=4.41.0, but you have transformers 5.0.0.dev0 which is incompatible.\u001b[0m\u001b[31m\n",
            "\u001b[0mSuccessfully installed huggingface-hub-1.0.0rc6 transformers-5.0.0.dev0 typer-slim-0.20.0\n"
          ]
        }
      ],
      "execution_count": null
    },
    {
      "cell_type": "code",
      "source": [
        "from google.colab import drive\n",
        "drive.mount('/content/drive')\n"
      ],
      "metadata": {
        "colab": {
          "base_uri": "https://localhost:8080/"
        },
        "id": "ddHgu4dcI6dX",
        "outputId": "43211412-22a9-414f-ff5e-e041ec363de4"
      },
      "execution_count": null,
      "outputs": [
        {
          "output_type": "stream",
          "name": "stdout",
          "text": [
            "Mounted at /content/drive\n"
          ]
        }
      ]
    },
    {
      "cell_type": "markdown",
      "source": [
        "## 📚 Helper: Save any results dict to JSON"
      ],
      "metadata": {
        "id": "xdjznrW9qc0Q"
      }
    },
    {
      "cell_type": "code",
      "source": [
        "import json, os\n",
        "\n",
        "\n",
        "def save_results(data: dict,\n",
        "                 model_name: str,\n",
        "                 variant: str,\n",
        "                 task: str,\n",
        "                 task_level: str,\n",
        "                 prompt_level: str,\n",
        "                 run_count: str,\n",
        "                 output_dir: str = \"/content/drive/MyDrive/RQ1_Experiments/results\"):\n",
        "    \"\"\"\n",
        "    Writes one JSON per prompt level (resilient for long runs).\n",
        "    Includes task_level so L2/L3 files never collide.\n",
        "    \"\"\"\n",
        "    model_dir = os.path.join(output_dir, model_name)\n",
        "    os.makedirs(model_dir, exist_ok=True)\n",
        "    fname    = f\"RQ1_{model_name}_{variant}_{task}_{task_level}_{prompt_level}_{run_count}.json\"\n",
        "    out_path = os.path.join(model_dir, fname)\n",
        "    with open(out_path, \"w\", encoding=\"utf-8\") as f:\n",
        "        json.dump(data, f, indent=4, ensure_ascii=False)\n",
        "    print(f\" Saved results to {out_path}\")\n",
        "\n"
      ],
      "metadata": {
        "id": "kN3sPhxbncaV",
        "trusted": true
      },
      "outputs": [],
      "execution_count": null
    },
    {
      "cell_type": "markdown",
      "source": [
        "🔨 TO BE MODIFIED 🔨"
      ],
      "metadata": {
        "id": "xrB02oHIAlLK"
      }
    },
    {
      "cell_type": "markdown",
      "source": [
        "### **Config**"
      ],
      "metadata": {
        "id": "FxQgmVxbK1eR"
      }
    },
    {
      "cell_type": "code",
      "source": [
        "MODEL_NAME   = 'InternVL3-8B'\n",
        "VARIANT      = '8B'\n",
        "RUN_COUNT    = 'r1'\n",
        "PROMPT_LEVEL = 'prompt1'\n",
        "\n",
        "\n",
        "folder_path  = \"/content/drive/MyDrive/RQ1_Experiments/RQ1_Data_Batch1\"\n",
        "\n",
        "TASK = 'country'\n",
        "TASK_LEVEL = 'L2'\n",
        "\n",
        "# output root in Drive\n",
        "OUTPUT_DIR = \"/content/drive/MyDrive/RQ1_Experiments/results\"\n",
        "\n",
        "# Generation settings\n",
        "GEN_TEMPERATURE     = 0.3\n",
        "GEN_MAX_NEW_TOKENS  = 1024\n",
        "GEN_DO_SAMPLE       = False\n",
        "\n",
        "# InternVL3 vision tiling\n",
        "IMAGE_SIZE     = 448\n",
        "MAX_NUM_TILES  = 4\n",
        "FALLBACK_TILES = 3\n",
        "\n",
        "# Quantization: use \"none\" first. If OOM on load, set to \"bnb-8bit\".\n",
        "QUANTIZATION = \"none\"   # \"none\" | \"bnb-8bit\"\n"
      ],
      "metadata": {
        "id": "RQ4eV-fDff2R",
        "trusted": true
      },
      "outputs": [],
      "execution_count": null
    },
    {
      "cell_type": "markdown",
      "source": [
        "### **Dataset discovery**"
      ],
      "metadata": {
        "id": "JZ9tQcqkLICQ"
      }
    },
    {
      "cell_type": "code",
      "source": [
        "import os\n",
        "\n",
        "def get_all_file_paths(root_dir):\n",
        "    file_paths = []\n",
        "    stack = [root_dir]\n",
        "    while stack:\n",
        "        current_dir = stack.pop()\n",
        "        with os.scandir(current_dir) as it:\n",
        "            for entry in it:\n",
        "                if entry.is_file() and entry.name.lower().endswith((\".jpg\",\".jpeg\",\".png\",\".webp\",\".bmp\")):\n",
        "                    file_paths.append(entry.path)\n",
        "                elif entry.is_dir():\n",
        "                    stack.append(entry.path)\n",
        "    return sorted(file_paths)\n",
        "\n",
        "assert os.path.exists(folder_path), f\"folder_path does not exist: {folder_path}\"\n",
        "image_paths = get_all_file_paths(folder_path)\n",
        "print(f\"Found {len(image_paths)} files.\")\n"
      ],
      "metadata": {
        "id": "hpauBMfqal3H",
        "trusted": true,
        "colab": {
          "base_uri": "https://localhost:8080/"
        },
        "outputId": "0aa3ff21-0db7-47ee-b10a-c60b3b96c81c"
      },
      "outputs": [
        {
          "output_type": "stream",
          "name": "stdout",
          "text": [
            "Found 360 files.\n"
          ]
        }
      ],
      "execution_count": null
    },
    {
      "cell_type": "code",
      "source": [
        "print(image_paths)"
      ],
      "metadata": {
        "id": "jift23JybmLq",
        "trusted": true,
        "colab": {
          "base_uri": "https://localhost:8080/"
        },
        "outputId": "f9c823d9-e76c-4e46-ed61-e778e3694ebb"
      },
      "outputs": [
        {
          "output_type": "stream",
          "name": "stdout",
          "text": [
            "['/content/drive/MyDrive/RQ1_Experiments/RQ1_Data_Batch1/Africa/Benin/Africa_Benin_B1_MIDDLE.png', '/content/drive/MyDrive/RQ1_Experiments/RQ1_Data_Batch1/Africa/Benin/Africa_Benin_B3_MIDDLE.png', '/content/drive/MyDrive/RQ1_Experiments/RQ1_Data_Batch1/Africa/Benin/Africa_Benin_B4_MIDDLE.png', '/content/drive/MyDrive/RQ1_Experiments/RQ1_Data_Batch1/Africa/Benin/Africa_Benin_B7_MIDDLE.png', '/content/drive/MyDrive/RQ1_Experiments/RQ1_Data_Batch1/Africa/Benin/Africa_Benin_B8_MIDDLE.png', '/content/drive/MyDrive/RQ1_Experiments/RQ1_Data_Batch1/Africa/Benin/Africa_Benin_B9_MIDDLE.png', '/content/drive/MyDrive/RQ1_Experiments/RQ1_Data_Batch1/Africa/Cape Verde/Africa_Cape Verde_CV1_LAST.PNG', '/content/drive/MyDrive/RQ1_Experiments/RQ1_Data_Batch1/Africa/Cape Verde/Africa_Cape Verde_CV2_LAST.png', '/content/drive/MyDrive/RQ1_Experiments/RQ1_Data_Batch1/Africa/Cape Verde/Africa_Cape Verde_CV3_LAST.JPG', '/content/drive/MyDrive/RQ1_Experiments/RQ1_Data_Batch1/Africa/Cape Verde/Africa_Cape Verde_CV4_LAST.jpg', '/content/drive/MyDrive/RQ1_Experiments/RQ1_Data_Batch1/Africa/Cape Verde/Africa_Cape Verde_CV5_LAST.PNG', '/content/drive/MyDrive/RQ1_Experiments/RQ1_Data_Batch1/Africa/Eritrea/Africa_Eritrea_ER1_LAST.jpg', '/content/drive/MyDrive/RQ1_Experiments/RQ1_Data_Batch1/Africa/Eritrea/Africa_Eritrea_ER2_LAST.jpg', '/content/drive/MyDrive/RQ1_Experiments/RQ1_Data_Batch1/Africa/Eritrea/Africa_Eritrea_ER3_LAST.jpg', '/content/drive/MyDrive/RQ1_Experiments/RQ1_Data_Batch1/Africa/Eritrea/Africa_Eritrea_ER4_LAST.png', '/content/drive/MyDrive/RQ1_Experiments/RQ1_Data_Batch1/Africa/Eritrea/Africa_Eritrea_ER5_LAST.jpg', '/content/drive/MyDrive/RQ1_Experiments/RQ1_Data_Batch1/Africa/Eritrea/Africa_Eritrea_ER6_LAST.jpg', '/content/drive/MyDrive/RQ1_Experiments/RQ1_Data_Batch1/Africa/Eswatini/Africa_Eswatini_E1_LAST.JPG', '/content/drive/MyDrive/RQ1_Experiments/RQ1_Data_Batch1/Africa/Ethiopia/Africa_Ethiopia_E1_TOP.png', '/content/drive/MyDrive/RQ1_Experiments/RQ1_Data_Batch1/Africa/Ethiopia/Africa_Ethiopia_E2_TOP.png', '/content/drive/MyDrive/RQ1_Experiments/RQ1_Data_Batch1/Africa/Ethiopia/Africa_Ethiopia_E3_TOP.png', '/content/drive/MyDrive/RQ1_Experiments/RQ1_Data_Batch1/Africa/Ethiopia/Africa_Ethiopia_E4_TOP.png', '/content/drive/MyDrive/RQ1_Experiments/RQ1_Data_Batch1/Africa/Gambia/Africa_Gambia_G1_LAST.jpg', '/content/drive/MyDrive/RQ1_Experiments/RQ1_Data_Batch1/Africa/Malawi/Africa_Malawi_MW1_MIDDLE.JPG', '/content/drive/MyDrive/RQ1_Experiments/RQ1_Data_Batch1/Africa/Malawi/Africa_Malawi_MW2_MIDDLE.JPG', '/content/drive/MyDrive/RQ1_Experiments/RQ1_Data_Batch1/Africa/Malawi/Africa_Malawi_MW3_MIDDLE.JPG', '/content/drive/MyDrive/RQ1_Experiments/RQ1_Data_Batch1/Africa/Malawi/Africa_Malawi_MW4_MIDDLE.JPG', '/content/drive/MyDrive/RQ1_Experiments/RQ1_Data_Batch1/Africa/Morroco/Africa_Morroco_M1_TOP.png', '/content/drive/MyDrive/RQ1_Experiments/RQ1_Data_Batch1/Africa/Morroco/Africa_Morroco_M2_TOP.png', '/content/drive/MyDrive/RQ1_Experiments/RQ1_Data_Batch1/Africa/Morroco/Africa_Morroco_M3_TOP.png', '/content/drive/MyDrive/RQ1_Experiments/RQ1_Data_Batch1/Africa/Morroco/Africa_Morroco_M5J_TOP.png', '/content/drive/MyDrive/RQ1_Experiments/RQ1_Data_Batch1/Africa/Morroco/Africa_Morroco_M5_TOP.png', '/content/drive/MyDrive/RQ1_Experiments/RQ1_Data_Batch1/Africa/Morroco/Africa_Morroco_M8_TOP.png', '/content/drive/MyDrive/RQ1_Experiments/RQ1_Data_Batch1/Africa/Morroco/Africa_Morroco_M9_TOP.png', '/content/drive/MyDrive/RQ1_Experiments/RQ1_Data_Batch1/Africa/Rwanda/Africa_Rwanda_RW1_MIDDLE.JPG', '/content/drive/MyDrive/RQ1_Experiments/RQ1_Data_Batch1/Africa/Rwanda/Africa_Rwanda_RW2_MIDDLE.PNG', '/content/drive/MyDrive/RQ1_Experiments/RQ1_Data_Batch1/Africa/Senegal/Africa_Senegal_FTY_TOP.png', '/content/drive/MyDrive/RQ1_Experiments/RQ1_Data_Batch1/Africa/Senegal/Africa_Senegal_SNHYUU_TOP.png', '/content/drive/MyDrive/RQ1_Experiments/RQ1_Data_Batch1/Africa/Senegal/Africa_Senegal_SNJU_TOP.png', '/content/drive/MyDrive/RQ1_Experiments/RQ1_Data_Batch1/Africa/Senegal/Africa_Senegal_SNY7_TOP.png', '/content/drive/MyDrive/RQ1_Experiments/RQ1_Data_Batch1/Africa/South Africa/Africa_South Africa_S2_TOP.png', '/content/drive/MyDrive/RQ1_Experiments/RQ1_Data_Batch1/Africa/South Africa/Africa_South Africa_S54_TOP.png', '/content/drive/MyDrive/RQ1_Experiments/RQ1_Data_Batch1/Africa/South Africa/Africa_South Africa_S56_TOP.png', '/content/drive/MyDrive/RQ1_Experiments/RQ1_Data_Batch1/Africa/South Africa/Africa_South Africa_S57_TOP.png', '/content/drive/MyDrive/RQ1_Experiments/RQ1_Data_Batch1/Africa/South Africa/Africa_South Africa_S59_TOP.png', '/content/drive/MyDrive/RQ1_Experiments/RQ1_Data_Batch1/Africa/South Africa/Africa_South Africa_S67_TOP.png', '/content/drive/MyDrive/RQ1_Experiments/RQ1_Data_Batch1/Africa/South Africa/Africa_South Africa_S87_TOP.png', '/content/drive/MyDrive/RQ1_Experiments/RQ1_Data_Batch1/Africa/Sudan/Africa_Sudan_DERTT_TOP.png', '/content/drive/MyDrive/RQ1_Experiments/RQ1_Data_Batch1/Africa/Sudan/Africa_Sudan_SS1_TOP.PNG', '/content/drive/MyDrive/RQ1_Experiments/RQ1_Data_Batch1/Africa/Sudan/Africa_Sudan_SS2_TOP.png', '/content/drive/MyDrive/RQ1_Experiments/RQ1_Data_Batch1/Africa/Sudan/Africa_Sudan_SS3_TOP.PNG', '/content/drive/MyDrive/RQ1_Experiments/RQ1_Data_Batch1/Africa/Sudan/Africa_Sudan_SS4_TOP.png', '/content/drive/MyDrive/RQ1_Experiments/RQ1_Data_Batch1/Africa/Sudan/Africa_Sudan_SUDRTT_TOP.png', '/content/drive/MyDrive/RQ1_Experiments/RQ1_Data_Batch1/Africa/Sudan/Africa_Sudan_SUGHH_TOP.png', '/content/drive/MyDrive/RQ1_Experiments/RQ1_Data_Batch1/Africa/Sudan/Africa_Sudan_SUKII_TOP.png', '/content/drive/MyDrive/RQ1_Experiments/RQ1_Data_Batch1/Africa/Sudan/Africa_Sudan_SUTI_TOP.png', '/content/drive/MyDrive/RQ1_Experiments/RQ1_Data_Batch1/Africa/Zimbabwe/Africa_Zimbabwe_ZIM1_MIDDLE.png', '/content/drive/MyDrive/RQ1_Experiments/RQ1_Data_Batch1/Africa/Zimbabwe/Africa_Zimbabwe_ZIM2_MIDDLE.png', '/content/drive/MyDrive/RQ1_Experiments/RQ1_Data_Batch1/Africa/Zimbabwe/Africa_Zimbabwe_ZIM3_MIDDLE.png', '/content/drive/MyDrive/RQ1_Experiments/RQ1_Data_Batch1/Africa/Zimbabwe/Africa_Zimbabwe_ZIM4_MIDDLE.png', '/content/drive/MyDrive/RQ1_Experiments/RQ1_Data_Batch1/Asia/Azerbaijan/Asia_Azerbaijan_AJ1_MIDDLE.jpg', '/content/drive/MyDrive/RQ1_Experiments/RQ1_Data_Batch1/Asia/Azerbaijan/Asia_Azerbaijan_AJ2_MIDDLE.jpg', '/content/drive/MyDrive/RQ1_Experiments/RQ1_Data_Batch1/Asia/Bhutan/Asia_Bhutan_BT1_LAST.jpg', '/content/drive/MyDrive/RQ1_Experiments/RQ1_Data_Batch1/Asia/Bhutan/Asia_Bhutan_BT2_LAST.jpg', '/content/drive/MyDrive/RQ1_Experiments/RQ1_Data_Batch1/Asia/Bhutan/Asia_Bhutan_BT3_LAST.JPG', '/content/drive/MyDrive/RQ1_Experiments/RQ1_Data_Batch1/Asia/Bhutan/Asia_Bhutan_BT4_LAST.jpg', '/content/drive/MyDrive/RQ1_Experiments/RQ1_Data_Batch1/Asia/Bhutan/Asia_Bhutan_BT5_LAST.jpg', '/content/drive/MyDrive/RQ1_Experiments/RQ1_Data_Batch1/Asia/Bhutan/Asia_Bhutan_BT6_LAST.jpg', '/content/drive/MyDrive/RQ1_Experiments/RQ1_Data_Batch1/Asia/Bhutan/Asia_Bhutan_BT7_LAST.jpg', '/content/drive/MyDrive/RQ1_Experiments/RQ1_Data_Batch1/Asia/Cambodia/Asia_Cambodia_C1_MIDDLE.jpg', '/content/drive/MyDrive/RQ1_Experiments/RQ1_Data_Batch1/Asia/Cambodia/Asia_Cambodia_C2_MIDDLE.jpg', '/content/drive/MyDrive/RQ1_Experiments/RQ1_Data_Batch1/Asia/Cambodia/Asia_Cambodia_C3_MIDDLE.jpg', '/content/drive/MyDrive/RQ1_Experiments/RQ1_Data_Batch1/Asia/Cambodia/Asia_Cambodia_C4_MIDDLE.jpeg', '/content/drive/MyDrive/RQ1_Experiments/RQ1_Data_Batch1/Asia/China/Asia_China_photo_060139e9d31209b5b9faec190d3667881e0d89fb_TOP.jpg', '/content/drive/MyDrive/RQ1_Experiments/RQ1_Data_Batch1/Asia/China/Asia_China_photo_0b8e1f833d9e2e70faf55dad1f070656ec0574b6_TOP.jpg', '/content/drive/MyDrive/RQ1_Experiments/RQ1_Data_Batch1/Asia/China/Asia_China_photo_189f1d7c5bab94934d189e2ca3ba0b923f96f983_TOP.jpg', '/content/drive/MyDrive/RQ1_Experiments/RQ1_Data_Batch1/Asia/China/Asia_China_photo_1bf10cdecb8c414a8a6e8ca509205fd64d59823b_TOP.jpg', '/content/drive/MyDrive/RQ1_Experiments/RQ1_Data_Batch1/Asia/China/Asia_China_photo_3a52b1ea95225e28c560c4995339bfee14247335_TOP.jpg', '/content/drive/MyDrive/RQ1_Experiments/RQ1_Data_Batch1/Asia/China/Asia_China_photo_41e996c991bbef7508711c93d7549281f35a9f59_TOP.jpg', '/content/drive/MyDrive/RQ1_Experiments/RQ1_Data_Batch1/Asia/China/Asia_China_photo_48e604d9da848f7c05f5bce29a93f3aa9f533a51_TOP.jpg', '/content/drive/MyDrive/RQ1_Experiments/RQ1_Data_Batch1/Asia/China/Asia_China_photo_73e93182aad5840f8199a0cc9c53ad81ae42b52c_TOP.jpg', '/content/drive/MyDrive/RQ1_Experiments/RQ1_Data_Batch1/Asia/China/Asia_China_photo_7918448abf7479ef8bd75140595da0de8ce0248e_TOP.jpg', '/content/drive/MyDrive/RQ1_Experiments/RQ1_Data_Batch1/Asia/China/Asia_China_photo_8dafe2684059db3626bb1ec65178684a4ed929bf_TOP.jpg', '/content/drive/MyDrive/RQ1_Experiments/RQ1_Data_Batch1/Asia/China/Asia_China_photo_b196f14dc2701c21b023a6ac7ec8135de536fa76_TOP.jpg', '/content/drive/MyDrive/RQ1_Experiments/RQ1_Data_Batch1/Asia/China/Asia_China_photo_b828aa2dc8c3703612f1bb1de3f7fdd9d9317b18_TOP.jpg', '/content/drive/MyDrive/RQ1_Experiments/RQ1_Data_Batch1/Asia/India/Asia_India_photo_04e1efee6ade79b20d849ae792b755d73b272885_TOP.jpg', '/content/drive/MyDrive/RQ1_Experiments/RQ1_Data_Batch1/Asia/India/Asia_India_photo_449ab0899a59be212624bb189af8db2ce1c0c840_TOP.jpg', '/content/drive/MyDrive/RQ1_Experiments/RQ1_Data_Batch1/Asia/India/Asia_India_photo_4cbf400360349173df7f85497a55b5f3e05efc73_TOP.jpg', '/content/drive/MyDrive/RQ1_Experiments/RQ1_Data_Batch1/Asia/India/Asia_India_photo_5330250b8c011663b241aad769af116d5662c5e6_TOP.jpg', '/content/drive/MyDrive/RQ1_Experiments/RQ1_Data_Batch1/Asia/Iran/Asia_Iran_photo_122b989ef652bbf9f48ac7b92643dcb5a26a065c_TOP.jpg', '/content/drive/MyDrive/RQ1_Experiments/RQ1_Data_Batch1/Asia/Iran/Asia_Iran_photo_1c6ecc88ebd3ee21aff5672c259b1c413d3d7404_TOP.jpg', '/content/drive/MyDrive/RQ1_Experiments/RQ1_Data_Batch1/Asia/Iran/Asia_Iran_photo_5f854af669aec6c09017bccaeb26790f47b600ac_TOP.jpg', '/content/drive/MyDrive/RQ1_Experiments/RQ1_Data_Batch1/Asia/Iran/Asia_Iran_photo_70bbf486cafbc2abc010d5d67da107fdcce66664_TOP.jpg', '/content/drive/MyDrive/RQ1_Experiments/RQ1_Data_Batch1/Asia/Iran/Asia_Iran_photo_7782ff61d56c90e3e93166287a24a48b4759db95_TOP.jpg', '/content/drive/MyDrive/RQ1_Experiments/RQ1_Data_Batch1/Asia/Iran/Asia_Iran_photo_8bd57bd02fc2955c9a305eb7bbfbd95f3f5094a8_TOP.jpg', '/content/drive/MyDrive/RQ1_Experiments/RQ1_Data_Batch1/Asia/Iran/Asia_Iran_photo_965cc87a78fb1e22881cd1c1003d6d69b0a9c11a_TOP.jpg', '/content/drive/MyDrive/RQ1_Experiments/RQ1_Data_Batch1/Asia/Iran/Asia_Iran_photo_a992d97c867ad7aa24ad73b9349cddec9b61bc45_TOP.jpg', '/content/drive/MyDrive/RQ1_Experiments/RQ1_Data_Batch1/Asia/Iran/Asia_Iran_photo_b6c3b7f0c64fd769a2f7b562fde6040a32adff3e_TOP.jpg', '/content/drive/MyDrive/RQ1_Experiments/RQ1_Data_Batch1/Asia/Iran/Asia_Iran_photo_cb4e6ba490dbaf14146a91afc0c4b244654f5dea_TOP.jpg', '/content/drive/MyDrive/RQ1_Experiments/RQ1_Data_Batch1/Asia/Iran/Asia_Iran_photo_ce911e80ce8d79d19bc25df5ced7495090fa88c7_TOP.jpg', '/content/drive/MyDrive/RQ1_Experiments/RQ1_Data_Batch1/Asia/Iran/Asia_Iran_photo_e6caf6338d8d3f3d34916ef0c9afc4b0635effe4_TOP.jpg', '/content/drive/MyDrive/RQ1_Experiments/RQ1_Data_Batch1/Asia/Iran/Asia_Iran_photo_fa551b797d5939add82bda2ccb7f5601e17cd0bf_TOP.jpg', '/content/drive/MyDrive/RQ1_Experiments/RQ1_Data_Batch1/Asia/Israel/Asia_Israel_photo_18139d2e443cea10cee58f6be02e2380abc9d3ca_MIDDLE.jpg', '/content/drive/MyDrive/RQ1_Experiments/RQ1_Data_Batch1/Asia/Israel/Asia_Israel_photo_26c1047ed05ba2fb2ee72fb4fd40a87921473059_MIDDLE.jpg', '/content/drive/MyDrive/RQ1_Experiments/RQ1_Data_Batch1/Asia/Japan/Asia_Japan_photo_06a54f45f3d279e2aca65938c0986eab4e1103c5_TOP.jpg', '/content/drive/MyDrive/RQ1_Experiments/RQ1_Data_Batch1/Asia/Japan/Asia_Japan_photo_67992d2e41e5b767898c4a95053b4e08e882b60e_TOP.jpg', '/content/drive/MyDrive/RQ1_Experiments/RQ1_Data_Batch1/Asia/Jordan/Asia_Jordan_J1_MIDDLE.jpeg', '/content/drive/MyDrive/RQ1_Experiments/RQ1_Data_Batch1/Asia/Jordan/Asia_Jordan_J2_MIDDLE.jpeg', '/content/drive/MyDrive/RQ1_Experiments/RQ1_Data_Batch1/Asia/Jordan/Asia_Jordan_J3_MIDDLE.jpeg', '/content/drive/MyDrive/RQ1_Experiments/RQ1_Data_Batch1/Asia/Jordan/Asia_Jordan_J4_MIDDLE.jpg', '/content/drive/MyDrive/RQ1_Experiments/RQ1_Data_Batch1/Asia/Jordan/Asia_Jordan_J5_MIDDLE.JPG', '/content/drive/MyDrive/RQ1_Experiments/RQ1_Data_Batch1/Asia/Kazakhstan/Asia_Kazakhstan_KS1_MIDDLE.jpg', '/content/drive/MyDrive/RQ1_Experiments/RQ1_Data_Batch1/Asia/Kazakhstan/Asia_Kazakhstan_KS2_MIDDLE.jpg', '/content/drive/MyDrive/RQ1_Experiments/RQ1_Data_Batch1/Asia/Kazakhstan/Asia_Kazakhstan_KS3_MIDDLE.jpg', '/content/drive/MyDrive/RQ1_Experiments/RQ1_Data_Batch1/Asia/Kazakhstan/Asia_Kazakhstan_KS4_MIDDLE.jpg', '/content/drive/MyDrive/RQ1_Experiments/RQ1_Data_Batch1/Asia/Kuwait/Asia_Kuwait_K1_LAST.jpg', '/content/drive/MyDrive/RQ1_Experiments/RQ1_Data_Batch1/Asia/Kuwait/Asia_Kuwait_K2_LAST.JPG', '/content/drive/MyDrive/RQ1_Experiments/RQ1_Data_Batch1/Asia/Kuwait/Asia_Kuwait_K3_LAST.JPG', '/content/drive/MyDrive/RQ1_Experiments/RQ1_Data_Batch1/Asia/Kuwait/Asia_Kuwait_K4_LAST.jpg', '/content/drive/MyDrive/RQ1_Experiments/RQ1_Data_Batch1/Asia/Kuwait/Asia_Kuwait_K5_LAST.jpg', '/content/drive/MyDrive/RQ1_Experiments/RQ1_Data_Batch1/Asia/Kuwait/Asia_Kuwait_K6_LAST.jpg', '/content/drive/MyDrive/RQ1_Experiments/RQ1_Data_Batch1/Asia/Kuwait/Asia_Kuwait_K7_LAST.jpg', '/content/drive/MyDrive/RQ1_Experiments/RQ1_Data_Batch1/Asia/Kyrgyzstan/Asia_Kyrgyzstan_KS1_MIDDLE.jpg', '/content/drive/MyDrive/RQ1_Experiments/RQ1_Data_Batch1/Asia/Kyrgyzstan/Asia_Kyrgyzstan_KS2_MIDDLE.jpg', '/content/drive/MyDrive/RQ1_Experiments/RQ1_Data_Batch1/Asia/Kyrgyzstan/Asia_Kyrgyzstan_KS3_MIDDLE.jpg', '/content/drive/MyDrive/RQ1_Experiments/RQ1_Data_Batch1/Asia/Kyrgyzstan/Asia_Kyrgyzstan_KS4_MIDDLE.jpg', '/content/drive/MyDrive/RQ1_Experiments/RQ1_Data_Batch1/Asia/Kyrgyzstan/Asia_Kyrgyzstan_KS5_MIDDLE.jpg', '/content/drive/MyDrive/RQ1_Experiments/RQ1_Data_Batch1/Asia/Kyrgyzstan/Asia_Kyrgyzstan_KS6_MIDDLE.jpg', '/content/drive/MyDrive/RQ1_Experiments/RQ1_Data_Batch1/Asia/Kyrgyzstan/Asia_Kyrgyzstan_KS7_MIDDLE.PNG', '/content/drive/MyDrive/RQ1_Experiments/RQ1_Data_Batch1/Asia/Malaysia/Asia_Malaysia_photo_2106db10e167bb0f1e96ed82859c2baba0ede69a_TOP.jpg', '/content/drive/MyDrive/RQ1_Experiments/RQ1_Data_Batch1/Asia/Malaysia/Asia_Malaysia_photo_2796a95715c44f41de81b64f61a37552831c0e91_TOP.jpg', '/content/drive/MyDrive/RQ1_Experiments/RQ1_Data_Batch1/Asia/Malaysia/Asia_Malaysia_photo_779439174012b4a46a14d087aa3f0aa20ea2b264_TOP.jpg', '/content/drive/MyDrive/RQ1_Experiments/RQ1_Data_Batch1/Asia/Malaysia/Asia_Malaysia_photo_797ecb961ef100d4e8bf5566ab214aa3023b20ed_TOP.jpg', '/content/drive/MyDrive/RQ1_Experiments/RQ1_Data_Batch1/Asia/Malaysia/Asia_Malaysia_photo_84b53d74822d80749b4797a05c9085efae19bf16_TOP.jpg', '/content/drive/MyDrive/RQ1_Experiments/RQ1_Data_Batch1/Asia/Malaysia/Asia_Malaysia_photo_9425f3e01bab0d5164f26982508b3d7514dc06ac_TOP.jpg', '/content/drive/MyDrive/RQ1_Experiments/RQ1_Data_Batch1/Asia/Malaysia/Asia_Malaysia_photo_b0bd1ce9489b70401b4b523fca32150442a288ea_TOP.jpg', '/content/drive/MyDrive/RQ1_Experiments/RQ1_Data_Batch1/Asia/Mongolia/Asia_Mongolia_M1_LAST.JPG', '/content/drive/MyDrive/RQ1_Experiments/RQ1_Data_Batch1/Asia/Mongolia/Asia_Mongolia_M2_LAST.JPG', '/content/drive/MyDrive/RQ1_Experiments/RQ1_Data_Batch1/Asia/Mongolia/Asia_Mongolia_M3_LAST.JPG', '/content/drive/MyDrive/RQ1_Experiments/RQ1_Data_Batch1/Asia/Mongolia/Asia_Mongolia_M4_LAST.JPG', '/content/drive/MyDrive/RQ1_Experiments/RQ1_Data_Batch1/Asia/Mongolia/Asia_Mongolia_M_LAST.jpg', '/content/drive/MyDrive/RQ1_Experiments/RQ1_Data_Batch1/Asia/Oman/Asia_Oman_O1_LAST.jpg', '/content/drive/MyDrive/RQ1_Experiments/RQ1_Data_Batch1/Asia/Qatar/Asia_Qatar_Q1_LAST.jpg', '/content/drive/MyDrive/RQ1_Experiments/RQ1_Data_Batch1/Asia/Qatar/Asia_Qatar_Q2_LAST.jpg', '/content/drive/MyDrive/RQ1_Experiments/RQ1_Data_Batch1/Asia/South Korea/Asia_South Korea_photo_92c2554a098a8e5f208a383c18a0ff3bec9d41fb_TOP.jpg', '/content/drive/MyDrive/RQ1_Experiments/RQ1_Data_Batch1/Asia/South Korea/Asia_South Korea_photo_a591201e1a6e506f6d415812c82f1039f16a515c_TOP.jpg', '/content/drive/MyDrive/RQ1_Experiments/RQ1_Data_Batch1/Asia/South Korea/Asia_South Korea_photo_bffe7e9c9d03a574a8440d04c2c1f5a21e63b421_TOP.jpg', '/content/drive/MyDrive/RQ1_Experiments/RQ1_Data_Batch1/Asia/South Korea/Asia_South Korea_photo_e891acc039e53a86a638ad8bb8ab695cc3d82ac5_TOP.jpg', '/content/drive/MyDrive/RQ1_Experiments/RQ1_Data_Batch1/Asia/Taiwan/Asia_Taiwan_photo_1b442859483ed8752d463d62d84980bc4aa06979_TOP.jpg', '/content/drive/MyDrive/RQ1_Experiments/RQ1_Data_Batch1/Asia/Taiwan/Asia_Taiwan_photo_1df3f9614350ff030b4cb523385fa5952f7349ce_TOP.jpg', '/content/drive/MyDrive/RQ1_Experiments/RQ1_Data_Batch1/Asia/Thailand/Asia_Thailand_photo_3f16e64220c6d121e51ac6f40b5c432122219bcd_TOP.jpg', '/content/drive/MyDrive/RQ1_Experiments/RQ1_Data_Batch1/Asia/Thailand/Asia_Thailand_photo_4a17a5310c4c25f0807f10564c7c84a5d38b82d1_TOP.jpg', '/content/drive/MyDrive/RQ1_Experiments/RQ1_Data_Batch1/Asia/Thailand/Asia_Thailand_photo_4ded577868f5b3c33a85386e3448d0c4e02d056e_TOP.jpg', '/content/drive/MyDrive/RQ1_Experiments/RQ1_Data_Batch1/Europe/Faroe Islands/Europe_Faroe Islands_FI1_LAST.jpg', '/content/drive/MyDrive/RQ1_Experiments/RQ1_Data_Batch1/Europe/Faroe Islands/Europe_Faroe Islands_FI2_LAST.jpg', '/content/drive/MyDrive/RQ1_Experiments/RQ1_Data_Batch1/Europe/Gibraltar/Europe_Gibraltar_GIB1_LAST.png', '/content/drive/MyDrive/RQ1_Experiments/RQ1_Data_Batch1/Europe/Gibraltar/Europe_Gibraltar_GIB2_LAST.png', '/content/drive/MyDrive/RQ1_Experiments/RQ1_Data_Batch1/Europe/Gibraltar/Europe_Gibraltar_GIB3_LAST.jpg', '/content/drive/MyDrive/RQ1_Experiments/RQ1_Data_Batch1/Europe/Iceland/Europe_Iceland_IL10_LAST.jpg', '/content/drive/MyDrive/RQ1_Experiments/RQ1_Data_Batch1/Europe/Iceland/Europe_Iceland_IL11_LAST.jpg', '/content/drive/MyDrive/RQ1_Experiments/RQ1_Data_Batch1/Europe/Iceland/Europe_Iceland_IL1_LAST.png', '/content/drive/MyDrive/RQ1_Experiments/RQ1_Data_Batch1/Europe/Iceland/Europe_Iceland_IL2_LAST.jpg', '/content/drive/MyDrive/RQ1_Experiments/RQ1_Data_Batch1/Europe/Iceland/Europe_Iceland_IL3_LAST.JPG', '/content/drive/MyDrive/RQ1_Experiments/RQ1_Data_Batch1/Europe/Iceland/Europe_Iceland_IL4_LAST.jpg', '/content/drive/MyDrive/RQ1_Experiments/RQ1_Data_Batch1/Europe/Iceland/Europe_Iceland_IL5_LAST.jpg', '/content/drive/MyDrive/RQ1_Experiments/RQ1_Data_Batch1/Europe/Iceland/Europe_Iceland_IL6_LAST.jpg', '/content/drive/MyDrive/RQ1_Experiments/RQ1_Data_Batch1/Europe/Iceland/Europe_Iceland_IL7_LAST.jpg', '/content/drive/MyDrive/RQ1_Experiments/RQ1_Data_Batch1/Europe/Iceland/Europe_Iceland_IL8_LAST.jpg', '/content/drive/MyDrive/RQ1_Experiments/RQ1_Data_Batch1/Europe/Iceland/Europe_Iceland_IL9_LAST.jpg', '/content/drive/MyDrive/RQ1_Experiments/RQ1_Data_Batch1/Europe/Ireland/Europe_Ireland_IRL1_MIDDLE.jpg', '/content/drive/MyDrive/RQ1_Experiments/RQ1_Data_Batch1/Europe/Ireland/Europe_Ireland_IRL2_MIDDLE.jpg', '/content/drive/MyDrive/RQ1_Experiments/RQ1_Data_Batch1/Europe/Ireland/Europe_Ireland_IRL3_MIDDLE.jpg', '/content/drive/MyDrive/RQ1_Experiments/RQ1_Data_Batch1/Europe/Ireland/Europe_Ireland_IRL4_MIDDLE.jpg', '/content/drive/MyDrive/RQ1_Experiments/RQ1_Data_Batch1/Europe/Ireland/Europe_Ireland_IRL5_MIDDLE.jpg', '/content/drive/MyDrive/RQ1_Experiments/RQ1_Data_Batch1/Europe/Ireland/Europe_Ireland_IRL6_MIDDLE.jpg', '/content/drive/MyDrive/RQ1_Experiments/RQ1_Data_Batch1/Europe/Ireland/Europe_Ireland_IRL7_MIDDLE.jpg', '/content/drive/MyDrive/RQ1_Experiments/RQ1_Data_Batch1/Europe/Latvia/Europe_Latvia_L1_LAST.JPG', '/content/drive/MyDrive/RQ1_Experiments/RQ1_Data_Batch1/Europe/Latvia/Europe_Latvia_L2_LAST.JPG', '/content/drive/MyDrive/RQ1_Experiments/RQ1_Data_Batch1/Europe/Latvia/Europe_Latvia_L3_LAST.JPG', '/content/drive/MyDrive/RQ1_Experiments/RQ1_Data_Batch1/Europe/Latvia/Europe_Latvia_L4_LAST.png', '/content/drive/MyDrive/RQ1_Experiments/RQ1_Data_Batch1/Europe/Latvia/Europe_Latvia_L5_LAST.jpg', '/content/drive/MyDrive/RQ1_Experiments/RQ1_Data_Batch1/Europe/Latvia/Europe_Latvia_L6_LAST.png', '/content/drive/MyDrive/RQ1_Experiments/RQ1_Data_Batch1/Europe/Latvia/Europe_Latvia_L7_LAST.jpg', '/content/drive/MyDrive/RQ1_Experiments/RQ1_Data_Batch1/Europe/Latvia/Europe_Latvia_L8_LAST.jpg', '/content/drive/MyDrive/RQ1_Experiments/RQ1_Data_Batch1/Europe/Netherlands/Europe_Netherlands_photo_0acc303d41a4878dab681ca40b72e151b1d37877_TOP.jpg', '/content/drive/MyDrive/RQ1_Experiments/RQ1_Data_Batch1/Europe/Netherlands/Europe_Netherlands_photo_0cfb771f39148e6470d1dbb0ff110923ac705951_TOP.jpg', '/content/drive/MyDrive/RQ1_Experiments/RQ1_Data_Batch1/Europe/Netherlands/Europe_Netherlands_photo_0dacf6fede368e6fc99918fc04dfb0e01f2c73e7_TOP.jpg', '/content/drive/MyDrive/RQ1_Experiments/RQ1_Data_Batch1/Europe/Netherlands/Europe_Netherlands_photo_2906cbd55c848dce242462ace6878c2ed5bf107b_TOP.jpg', '/content/drive/MyDrive/RQ1_Experiments/RQ1_Data_Batch1/Europe/Netherlands/Europe_Netherlands_photo_4c6bdc35361d1c31adf41c2894c6f44f7a34f82d_TOP.jpg', '/content/drive/MyDrive/RQ1_Experiments/RQ1_Data_Batch1/Europe/Netherlands/Europe_Netherlands_photo_5c96dfa959cc580b97844238c9a7d5257280dd67_TOP.jpg', '/content/drive/MyDrive/RQ1_Experiments/RQ1_Data_Batch1/Europe/Netherlands/Europe_Netherlands_photo_5d1df1eb19ce102e8d68dc33e7ed8b8d781d5f50_TOP.jpg', '/content/drive/MyDrive/RQ1_Experiments/RQ1_Data_Batch1/Europe/Netherlands/Europe_Netherlands_photo_84b9f078fb7c9cdbbd54a9035cfe60d14d30136d_TOP.jpg', '/content/drive/MyDrive/RQ1_Experiments/RQ1_Data_Batch1/Europe/Netherlands/Europe_Netherlands_photo_882b0fbf1521770629ca406b595b473f725256b7_TOP.jpg', '/content/drive/MyDrive/RQ1_Experiments/RQ1_Data_Batch1/Europe/Netherlands/Europe_Netherlands_photo_8ce238520399b58cf8971fcfcb60a0f1ca3da0c2_TOP.jpg', '/content/drive/MyDrive/RQ1_Experiments/RQ1_Data_Batch1/Europe/Norway/Europe_Norway_photo_04d08a6f1780e88bb35e60cb192c7d042e1f9c49_MIDDLE.jpg', '/content/drive/MyDrive/RQ1_Experiments/RQ1_Data_Batch1/Europe/Norway/Europe_Norway_photo_06861959654e851c30353ada467fe07a639200c6_MIDDLE.jpg', '/content/drive/MyDrive/RQ1_Experiments/RQ1_Data_Batch1/Europe/Norway/Europe_Norway_photo_14ea272e6e5afc8a5ec19f74e96f99e6635ec473_MIDDLE.jpg', '/content/drive/MyDrive/RQ1_Experiments/RQ1_Data_Batch1/Europe/Norway/Europe_Norway_photo_1bc0aba114ef9404632c93140b4fad3b0800b251_MIDDLE.jpg', '/content/drive/MyDrive/RQ1_Experiments/RQ1_Data_Batch1/Europe/Norway/Europe_Norway_photo_7f5675007af9dcb1312f0ffeab012619552c897c_MIDDLE.jpg', '/content/drive/MyDrive/RQ1_Experiments/RQ1_Data_Batch1/Europe/Norway/Europe_Norway_photo_bdf4782be1f1daaee7eaa114dc293ca373768bdd_MIDDLE.jpg', '/content/drive/MyDrive/RQ1_Experiments/RQ1_Data_Batch1/Europe/Norway/Europe_Norway_photo_d0640503617c09330aa35f976a6fd8df6fd15cce_MIDDLE.jpg', '/content/drive/MyDrive/RQ1_Experiments/RQ1_Data_Batch1/Europe/Portugal/Europe_Portugal_photo_36b0f977c9b3f3bba500e3c842d9233929b80304_MIDDLE.jpg', '/content/drive/MyDrive/RQ1_Experiments/RQ1_Data_Batch1/Europe/Portugal/Europe_Portugal_photo_67eb13d864625871ade916c61ead8af2f4deec19_MIDDLE.jpg', '/content/drive/MyDrive/RQ1_Experiments/RQ1_Data_Batch1/Europe/Portugal/Europe_Portugal_photo_8da41a847150654cd77df6882175ea0d17b7dd7b_MIDDLE.jpg', '/content/drive/MyDrive/RQ1_Experiments/RQ1_Data_Batch1/Europe/Romania/Europe_Romania_photo_1be2ff09ebbc0f9d9858238815e7c78357bf3070_TOP.jpg', '/content/drive/MyDrive/RQ1_Experiments/RQ1_Data_Batch1/Europe/Russia/Europe_Russia_photo_6da70ba43cbabd64768db9cf1f43c81b8ab76984_TOP.jpg', '/content/drive/MyDrive/RQ1_Experiments/RQ1_Data_Batch1/Europe/Spain/Europe_Spain_photo_591cbab8b81c643e3b824d6be46423985276ca3b_TOP.jpg', '/content/drive/MyDrive/RQ1_Experiments/RQ1_Data_Batch1/Europe/Sweden/Europe_Sweden_photo_1ede928a3955a82ceb72226a503b0f230f4c8c7b_TOP.jpg', '/content/drive/MyDrive/RQ1_Experiments/RQ1_Data_Batch1/Europe/Sweden/Europe_Sweden_photo_961eccade9ed21d90c161a4110ac42e37f20473c_TOP.jpg', '/content/drive/MyDrive/RQ1_Experiments/RQ1_Data_Batch1/Europe/Sweden/Europe_Sweden_photo_af433761d60c02a9af1ed13bbb34466b7f72bb6e_TOP.jpg', '/content/drive/MyDrive/RQ1_Experiments/RQ1_Data_Batch1/Europe/Sweden/Europe_Sweden_photo_e741a0884c47e3c2e714cb8df280aace52b98b9b_TOP.jpg', '/content/drive/MyDrive/RQ1_Experiments/RQ1_Data_Batch1/Europe/Sweden/Europe_Sweden_photo_f655978f0cddc602b112e15926cc010dbd85ca44_TOP.jpg', '/content/drive/MyDrive/RQ1_Experiments/RQ1_Data_Batch1/Europe/Sweden/Europe_Sweden_photo_fbee4e08cb072edd167b7006513d0083abe62c30_TOP.jpg', '/content/drive/MyDrive/RQ1_Experiments/RQ1_Data_Batch1/Europe/Switzerland/Europe_Switzerland_photo_07f0ad42bc36d757a424771cbc1e7ee47ef42996_MIDDLE.jpg', '/content/drive/MyDrive/RQ1_Experiments/RQ1_Data_Batch1/Europe/Switzerland/Europe_Switzerland_photo_10ba404b5b0c141fc856a24b24ed07854bf95d5c_MIDDLE.jpg', '/content/drive/MyDrive/RQ1_Experiments/RQ1_Data_Batch1/Europe/Switzerland/Europe_Switzerland_photo_49aaa10f3b55e3ebbdce9e504c5899a9da30543f_MIDDLE.jpg', '/content/drive/MyDrive/RQ1_Experiments/RQ1_Data_Batch1/Europe/Switzerland/Europe_Switzerland_photo_7e627e7f37e0968ff782dabc97bfd5615705853b_MIDDLE.jpg', '/content/drive/MyDrive/RQ1_Experiments/RQ1_Data_Batch1/Europe/Switzerland/Europe_Switzerland_photo_e36b5b10ee207d590e9a7a8356ee01e70fb2b2db_MIDDLE.jpg', '/content/drive/MyDrive/RQ1_Experiments/RQ1_Data_Batch1/Europe/Ukraine/Europe_Ukraine_photo_29939b9d7e93fdda81d1bb35f4efce2fa8fb1e77_TOP.jpg', '/content/drive/MyDrive/RQ1_Experiments/RQ1_Data_Batch1/Europe/Ukraine/Europe_Ukraine_photo_775550d4d5a976c759511139c6d4882c3bb1b49b_TOP.jpg', '/content/drive/MyDrive/RQ1_Experiments/RQ1_Data_Batch1/Europe/Ukraine/Europe_Ukraine_photo_8262953330bb986d1b5c960a4350ff36d1b105bb_TOP.jpg', '/content/drive/MyDrive/RQ1_Experiments/RQ1_Data_Batch1/Europe/Ukraine/Europe_Ukraine_photo_86944ebcf302a56ddf185c8031426fc33eaa3c35_TOP.jpg', '/content/drive/MyDrive/RQ1_Experiments/RQ1_Data_Batch1/Europe/United Kingdom/Europe_United Kingdom_photo_0ca2884e5423b7ed1b979d88345b1a6f30559e54_TOP.jpg', '/content/drive/MyDrive/RQ1_Experiments/RQ1_Data_Batch1/Europe/United Kingdom/Europe_United Kingdom_photo_11d1b8ab8ef7f10cc609a64ec41517aaa943093c_TOP.jpg', '/content/drive/MyDrive/RQ1_Experiments/RQ1_Data_Batch1/Europe/United Kingdom/Europe_United Kingdom_photo_2a2e09dc8a04264f47d4e6b45dace21ce9c612f5_TOP.jpg', '/content/drive/MyDrive/RQ1_Experiments/RQ1_Data_Batch1/Europe/United Kingdom/Europe_United Kingdom_photo_2cabb1ede73758a53aeb39ebc399e65110185664_TOP.jpg', '/content/drive/MyDrive/RQ1_Experiments/RQ1_Data_Batch1/Europe/United Kingdom/Europe_United Kingdom_photo_3bf2a463f251a434db7604c8a26440129aa3a68c_TOP.jpg', '/content/drive/MyDrive/RQ1_Experiments/RQ1_Data_Batch1/Europe/United Kingdom/Europe_United Kingdom_photo_3dbb8eb1cf4495c626ed7d7099d364cb15d447aa_TOP.jpg', '/content/drive/MyDrive/RQ1_Experiments/RQ1_Data_Batch1/Europe/United Kingdom/Europe_United Kingdom_photo_3e364710f4ccfd8320cd282cdf05627f6203b1eb_TOP.jpg', '/content/drive/MyDrive/RQ1_Experiments/RQ1_Data_Batch1/Europe/United Kingdom/Europe_United Kingdom_photo_4af084e73911723f506c3d4ea9bdb0ce30b92db7_TOP.jpg', '/content/drive/MyDrive/RQ1_Experiments/RQ1_Data_Batch1/Europe/United Kingdom/Europe_United Kingdom_photo_4e8688f62fda04bd6253e2bf683a5d7d5f8b6124_TOP.jpg', '/content/drive/MyDrive/RQ1_Experiments/RQ1_Data_Batch1/Europe/United Kingdom/Europe_United Kingdom_photo_5b1b4b616719559d49599d30a76ad5d447c7f92c_TOP.jpg', '/content/drive/MyDrive/RQ1_Experiments/RQ1_Data_Batch1/Europe/United Kingdom/Europe_United Kingdom_photo_6e97136d2bc49909c195c354e709a7206ab9855f_TOP.jpg', '/content/drive/MyDrive/RQ1_Experiments/RQ1_Data_Batch1/Europe/United Kingdom/Europe_United Kingdom_photo_7ddfeb78833edc91642091b29385ce29d07eb398_TOP.jpg', '/content/drive/MyDrive/RQ1_Experiments/RQ1_Data_Batch1/Europe/United Kingdom/Europe_United Kingdom_photo_7e44b6630293b90f9afe4c0198371d0a4f54d842_TOP.jpg', '/content/drive/MyDrive/RQ1_Experiments/RQ1_Data_Batch1/Europe/United Kingdom/Europe_United Kingdom_photo_8eca4d7f70a08abe118d1b860c3f0a4ff6db7398_TOP.jpg', '/content/drive/MyDrive/RQ1_Experiments/RQ1_Data_Batch1/Europe/United Kingdom/Europe_United Kingdom_photo_8f0f76651e397cf53667033e22678090dae8fdc2_TOP.jpg', '/content/drive/MyDrive/RQ1_Experiments/RQ1_Data_Batch1/Europe/United Kingdom/Europe_United Kingdom_photo_9ad762b4a61865c50225b7e486e420eddaecf8a3_TOP.jpg', '/content/drive/MyDrive/RQ1_Experiments/RQ1_Data_Batch1/Europe/United Kingdom/Europe_United Kingdom_photo_9e6fad4492623c1a26e3e01b4a8a749b2171988c_TOP.jpg', '/content/drive/MyDrive/RQ1_Experiments/RQ1_Data_Batch1/Europe/United Kingdom/Europe_United Kingdom_photo_9e988bb890b7f3b35d6e42f5b82badbcab162833_TOP.jpg', '/content/drive/MyDrive/RQ1_Experiments/RQ1_Data_Batch1/Europe/United Kingdom/Europe_United Kingdom_photo_9fc04ccd634f5419b2e41fc3fc022390db872d29_TOP.jpg', '/content/drive/MyDrive/RQ1_Experiments/RQ1_Data_Batch1/North America/Aruba/North America_Aruba_AR1_MIDDLE.jpg', '/content/drive/MyDrive/RQ1_Experiments/RQ1_Data_Batch1/North America/Aruba/North America_Aruba_AR2_MIDDLE.jpg', '/content/drive/MyDrive/RQ1_Experiments/RQ1_Data_Batch1/North America/Aruba/North America_Aruba_AR3_MIDDLE.jpg', '/content/drive/MyDrive/RQ1_Experiments/RQ1_Data_Batch1/North America/Aruba/North America_Aruba_AR4_MIDDLE.jpg', '/content/drive/MyDrive/RQ1_Experiments/RQ1_Data_Batch1/North America/Aruba/North America_Aruba_AR5_MIDDLE.jpg', '/content/drive/MyDrive/RQ1_Experiments/RQ1_Data_Batch1/North America/Aruba/North America_Aruba_AR6_MIDDLE.jpg', '/content/drive/MyDrive/RQ1_Experiments/RQ1_Data_Batch1/North America/Aruba/North America_Aruba_AR7_MIDDLE.png', '/content/drive/MyDrive/RQ1_Experiments/RQ1_Data_Batch1/North America/Aruba/North America_Aruba_AR8_MIDDLE.jpg', '/content/drive/MyDrive/RQ1_Experiments/RQ1_Data_Batch1/North America/Aruba/North America_Aruba_AR9_MIDDLE.jpg', '/content/drive/MyDrive/RQ1_Experiments/RQ1_Data_Batch1/North America/Bermuda/North America_Bermuda_B1_LAST.jpg', '/content/drive/MyDrive/RQ1_Experiments/RQ1_Data_Batch1/North America/Bermuda/North America_Bermuda_B2_LAST.jpg', '/content/drive/MyDrive/RQ1_Experiments/RQ1_Data_Batch1/North America/Bermuda/North America_Bermuda_B3_LAST.jpg', '/content/drive/MyDrive/RQ1_Experiments/RQ1_Data_Batch1/North America/Bermuda/North America_Bermuda_B4_LAST.jpg', '/content/drive/MyDrive/RQ1_Experiments/RQ1_Data_Batch1/North America/Canada/North America_Canada_photo_1b7b3966a986008596f03b2a43ddc1d5c9407668_TOP.jpg', '/content/drive/MyDrive/RQ1_Experiments/RQ1_Data_Batch1/North America/Canada/North America_Canada_photo_8bda6cace7446c4bafa660cd777952f400a9c700_TOP.jpg', '/content/drive/MyDrive/RQ1_Experiments/RQ1_Data_Batch1/North America/Canada/North America_Canada_photo_9970c795b7cb6d97cfec845a7a5d583e2dcf532a_TOP.jpg', '/content/drive/MyDrive/RQ1_Experiments/RQ1_Data_Batch1/North America/Cuba/North America_Cuba_photo_0d0f7046b8ce243441bb95646cad78ef1c2d1028_TOP.jpg', '/content/drive/MyDrive/RQ1_Experiments/RQ1_Data_Batch1/North America/Cuba/North America_Cuba_photo_442c93cfdfbe67f3a7955c5390115be3b6072f0c_TOP.jpg', '/content/drive/MyDrive/RQ1_Experiments/RQ1_Data_Batch1/North America/Cuba/North America_Cuba_photo_58aadea5f1e920c7642e27aa2a8bd127fec698c9_TOP.jpg', '/content/drive/MyDrive/RQ1_Experiments/RQ1_Data_Batch1/North America/Cuba/North America_Cuba_photo_81d65b319ece316ee39cd51c07ce48ac323d1751_TOP.jpg', '/content/drive/MyDrive/RQ1_Experiments/RQ1_Data_Batch1/North America/Dominica/North America_Dominica_D1_LAST.png', '/content/drive/MyDrive/RQ1_Experiments/RQ1_Data_Batch1/North America/Dominica/North America_Dominica_D2_LAST.png', '/content/drive/MyDrive/RQ1_Experiments/RQ1_Data_Batch1/North America/Dominica/North America_Dominica_D3_LAST.png', '/content/drive/MyDrive/RQ1_Experiments/RQ1_Data_Batch1/North America/Dominica/North America_Dominica_D4_LAST.jpg', '/content/drive/MyDrive/RQ1_Experiments/RQ1_Data_Batch1/North America/Dominica/North America_Dominica_D5_LAST.png', '/content/drive/MyDrive/RQ1_Experiments/RQ1_Data_Batch1/North America/Dominica/North America_Dominica_D6_LAST.png', '/content/drive/MyDrive/RQ1_Experiments/RQ1_Data_Batch1/North America/Dominica/North America_Dominica_D7_LAST.png', '/content/drive/MyDrive/RQ1_Experiments/RQ1_Data_Batch1/North America/Dominica/North America_Dominica_D8_LAST.png', '/content/drive/MyDrive/RQ1_Experiments/RQ1_Data_Batch1/North America/Dominica/North America_Dominica_D9_LAST.png', '/content/drive/MyDrive/RQ1_Experiments/RQ1_Data_Batch1/North America/Greenland/North America_Greenland_G1_LAST.jpg', '/content/drive/MyDrive/RQ1_Experiments/RQ1_Data_Batch1/North America/Greenland/North America_Greenland_G2_LAST.jpg', '/content/drive/MyDrive/RQ1_Experiments/RQ1_Data_Batch1/North America/Greenland/North America_Greenland_G3_LAST.jpg', '/content/drive/MyDrive/RQ1_Experiments/RQ1_Data_Batch1/North America/Greenland/North America_Greenland_G4_LAST.jpg', '/content/drive/MyDrive/RQ1_Experiments/RQ1_Data_Batch1/North America/Greenland/North America_Greenland_G5_LAST.jpg', '/content/drive/MyDrive/RQ1_Experiments/RQ1_Data_Batch1/North America/Greenland/North America_Greenland_G6_LAST.jpg', '/content/drive/MyDrive/RQ1_Experiments/RQ1_Data_Batch1/North America/Greenland/North America_Greenland_G7_LAST.jpg', '/content/drive/MyDrive/RQ1_Experiments/RQ1_Data_Batch1/North America/Greenland/North America_Greenland_G8_LAST.jpeg', '/content/drive/MyDrive/RQ1_Experiments/RQ1_Data_Batch1/North America/Greenland/North America_Greenland_G9_LAST.jpeg', '/content/drive/MyDrive/RQ1_Experiments/RQ1_Data_Batch1/North America/Mexico/North America_Mexico_photo_0626b6c0c63fd82e0f08199586476e8fb6560d9e_TOP.jpg', '/content/drive/MyDrive/RQ1_Experiments/RQ1_Data_Batch1/North America/Mexico/North America_Mexico_photo_0d1d16eca9915c123979316f4cf8f966657e7dc5_TOP.jpg', '/content/drive/MyDrive/RQ1_Experiments/RQ1_Data_Batch1/North America/Mexico/North America_Mexico_photo_3fb2d172b689954e1fa8c9c504a6822de03e0b17_TOP.jpg', '/content/drive/MyDrive/RQ1_Experiments/RQ1_Data_Batch1/North America/Mexico/North America_Mexico_photo_54651902768c2a754f0809ef6858ac840aefdd23_TOP.jpg', '/content/drive/MyDrive/RQ1_Experiments/RQ1_Data_Batch1/North America/Mexico/North America_Mexico_photo_599b5385d65889f1e9076de1adad8fed9e13140c_TOP.jpg', '/content/drive/MyDrive/RQ1_Experiments/RQ1_Data_Batch1/North America/Mexico/North America_Mexico_photo_83fd57feddc8b76a6c05e992ea6a1a2c402a6ca3_TOP.jpg', '/content/drive/MyDrive/RQ1_Experiments/RQ1_Data_Batch1/North America/Mexico/North America_Mexico_photo_985d481f816e5e57ddfc4828ea7173d7fe5e179c_TOP.jpg', '/content/drive/MyDrive/RQ1_Experiments/RQ1_Data_Batch1/North America/Mexico/North America_Mexico_photo_99b97d8c7c5fcb2e976c9eb4e5e38c438dcdd74d_TOP.jpg', '/content/drive/MyDrive/RQ1_Experiments/RQ1_Data_Batch1/North America/Mexico/North America_Mexico_photo_a4849ab488121eb38868851930613ff5f6adb35d_TOP.jpg', '/content/drive/MyDrive/RQ1_Experiments/RQ1_Data_Batch1/North America/Mexico/North America_Mexico_photo_b6822571b90254f67e6a41ef8a28e199b010501d_TOP.jpg', '/content/drive/MyDrive/RQ1_Experiments/RQ1_Data_Batch1/North America/Mexico/North America_Mexico_photo_be7c61b77f0dc5ee0a2b7ed541b4e3cc525917be_TOP.jpg', '/content/drive/MyDrive/RQ1_Experiments/RQ1_Data_Batch1/North America/Mexico/North America_Mexico_photo_c45d96baf6331abd5d1205fc8832c302b884d42d_TOP.jpg', '/content/drive/MyDrive/RQ1_Experiments/RQ1_Data_Batch1/North America/Mexico/North America_Mexico_photo_c7f813f75215b1cce845cd77f0fc1c290655b1da_TOP.jpg', '/content/drive/MyDrive/RQ1_Experiments/RQ1_Data_Batch1/North America/Mexico/North America_Mexico_photo_cc8b100fada9fe55dfd4b366623393c9799afa51_TOP.jpg', '/content/drive/MyDrive/RQ1_Experiments/RQ1_Data_Batch1/North America/Mexico/North America_Mexico_photo_d373a3cf149d668a711326408fd1e421da506aac_TOP.jpg', '/content/drive/MyDrive/RQ1_Experiments/RQ1_Data_Batch1/North America/Mexico/North America_Mexico_photo_e2e4b2894f176163dbfdbcca50e2579b2ac8a3ab_TOP.jpg', '/content/drive/MyDrive/RQ1_Experiments/RQ1_Data_Batch1/North America/Mexico/North America_Mexico_photo_e3b5e27a4690a8c8e1dcf44d9b154c37598acbf9_TOP.jpg', '/content/drive/MyDrive/RQ1_Experiments/RQ1_Data_Batch1/North America/Mexico/North America_Mexico_photo_e6928fa4ac2c9257374ff7ee60b94b2a2da51c65_TOP.jpg', '/content/drive/MyDrive/RQ1_Experiments/RQ1_Data_Batch1/North America/Mexico/North America_Mexico_photo_f670cb59e061866ab23a2d45dbdc97ce58f9cebc_TOP.jpg', '/content/drive/MyDrive/RQ1_Experiments/RQ1_Data_Batch1/North America/Panama/North America_Panama_photo_1692de2f698c2f730c0f2c839b56d35db1bc205b_MIDDLE.jpg', '/content/drive/MyDrive/RQ1_Experiments/RQ1_Data_Batch1/North America/Panama/North America_Panama_photo_3ec658b1b49c9bda4a0ed486990d91669160d8c6_MIDDLE.jpg', '/content/drive/MyDrive/RQ1_Experiments/RQ1_Data_Batch1/North America/Panama/North America_Panama_photo_702afb3d7324aa29d71693b44480a166c02e8fd1_MIDDLE.jpg', '/content/drive/MyDrive/RQ1_Experiments/RQ1_Data_Batch1/North America/United States/North America_United States_photo_2c144fe4475a9026cfb649dbd9267c84d37ae778_TOP.jpg', '/content/drive/MyDrive/RQ1_Experiments/RQ1_Data_Batch1/North America/United States/North America_United States_photo_3cf3db14b5360a71c56354d91a2b4747704fd201_TOP.jpg', '/content/drive/MyDrive/RQ1_Experiments/RQ1_Data_Batch1/North America/United States/North America_United States_photo_5d8e0e2bb3d8e45b82d8728cea9405165d098c5b_TOP.jpg', '/content/drive/MyDrive/RQ1_Experiments/RQ1_Data_Batch1/North America/United States/North America_United States_photo_5e1807b741b8764e9d3364e892fa7eece8e458da_TOP.jpg', '/content/drive/MyDrive/RQ1_Experiments/RQ1_Data_Batch1/North America/United States/North America_United States_photo_7e12f5e7c34950b362f04e37b790954e44b91fad_TOP.jpg', '/content/drive/MyDrive/RQ1_Experiments/RQ1_Data_Batch1/North America/United States/North America_United States_photo_9b6433ba62ca18929a889d532aec6cb62fe868d2_TOP.jpg', '/content/drive/MyDrive/RQ1_Experiments/RQ1_Data_Batch1/North America/United States/North America_United States_photo_9f631ef8598a0cbdd728293da0d44dd872de04c9_TOP.jpg', '/content/drive/MyDrive/RQ1_Experiments/RQ1_Data_Batch1/South America/Argentina/South America_Argentina_AT1_TOP.jpg', '/content/drive/MyDrive/RQ1_Experiments/RQ1_Data_Batch1/South America/Argentina/South America_Argentina_AT2_TOP.jpg', '/content/drive/MyDrive/RQ1_Experiments/RQ1_Data_Batch1/South America/Argentina/South America_Argentina_AT3_TOP.jpg', '/content/drive/MyDrive/RQ1_Experiments/RQ1_Data_Batch1/South America/Argentina/South America_Argentina_AT4_TOP.jpg', '/content/drive/MyDrive/RQ1_Experiments/RQ1_Data_Batch1/South America/Argentina/South America_Argentina_AT5_TOP.PNG', '/content/drive/MyDrive/RQ1_Experiments/RQ1_Data_Batch1/South America/Argentina/South America_Argentina_AT6_TOP.PNG', '/content/drive/MyDrive/RQ1_Experiments/RQ1_Data_Batch1/South America/Argentina/South America_Argentina_AT7_TOP.jpg', '/content/drive/MyDrive/RQ1_Experiments/RQ1_Data_Batch1/South America/Argentina/South America_Argentina_AT8_TOP.jpg', '/content/drive/MyDrive/RQ1_Experiments/RQ1_Data_Batch1/South America/Bolivia/South America_Bolivia_B1_MIDDLE.jpg', '/content/drive/MyDrive/RQ1_Experiments/RQ1_Data_Batch1/South America/Bolivia/South America_Bolivia_B2_MIDDLE.jpg', '/content/drive/MyDrive/RQ1_Experiments/RQ1_Data_Batch1/South America/Bolivia/South America_Bolivia_B3_MIDDLE.jpg', '/content/drive/MyDrive/RQ1_Experiments/RQ1_Data_Batch1/South America/Bolivia/South America_Bolivia_B4_MIDDLE.jpg', '/content/drive/MyDrive/RQ1_Experiments/RQ1_Data_Batch1/South America/Bolivia/South America_Bolivia_B5_MIDDLE.png', '/content/drive/MyDrive/RQ1_Experiments/RQ1_Data_Batch1/South America/Bolivia/South America_Bolivia_B6_MIDDLE.jpg', '/content/drive/MyDrive/RQ1_Experiments/RQ1_Data_Batch1/South America/Brazil/South America_Brazil_BR1_TOP.jpg', '/content/drive/MyDrive/RQ1_Experiments/RQ1_Data_Batch1/South America/Brazil/South America_Brazil_BR2_TOP.jpg', '/content/drive/MyDrive/RQ1_Experiments/RQ1_Data_Batch1/South America/Brazil/South America_Brazil_BR3_TOP.jpg', '/content/drive/MyDrive/RQ1_Experiments/RQ1_Data_Batch1/South America/Brazil/South America_Brazil_BR4_TOP.jpg', '/content/drive/MyDrive/RQ1_Experiments/RQ1_Data_Batch1/South America/Brazil/South America_Brazil_BR5_TOP.webp', '/content/drive/MyDrive/RQ1_Experiments/RQ1_Data_Batch1/South America/Brazil/South America_Brazil_BR6_TOP.jpg', '/content/drive/MyDrive/RQ1_Experiments/RQ1_Data_Batch1/South America/Brazil/South America_Brazil_BR7_TOP.JPG', '/content/drive/MyDrive/RQ1_Experiments/RQ1_Data_Batch1/South America/Brazil/South America_Brazil_BR8_TOP.jpg', '/content/drive/MyDrive/RQ1_Experiments/RQ1_Data_Batch1/South America/Chile/South America_Chile_CH10_MIDDLE.JPG', '/content/drive/MyDrive/RQ1_Experiments/RQ1_Data_Batch1/South America/Chile/South America_Chile_CH11_MIDDLE.JPG', '/content/drive/MyDrive/RQ1_Experiments/RQ1_Data_Batch1/South America/Chile/South America_Chile_CH12_MIDDLE.jpeg', '/content/drive/MyDrive/RQ1_Experiments/RQ1_Data_Batch1/South America/Chile/South America_Chile_CH1_MIDDLE.png', '/content/drive/MyDrive/RQ1_Experiments/RQ1_Data_Batch1/South America/Chile/South America_Chile_CH2_MIDDLE.jpg', '/content/drive/MyDrive/RQ1_Experiments/RQ1_Data_Batch1/South America/Chile/South America_Chile_CH3_MIDDLE.jpeg', '/content/drive/MyDrive/RQ1_Experiments/RQ1_Data_Batch1/South America/Chile/South America_Chile_CH4_MIDDLE.jpeg', '/content/drive/MyDrive/RQ1_Experiments/RQ1_Data_Batch1/South America/Chile/South America_Chile_CH5_MIDDLE.jpg', '/content/drive/MyDrive/RQ1_Experiments/RQ1_Data_Batch1/South America/Chile/South America_Chile_CH6_MIDDLE.jpg', '/content/drive/MyDrive/RQ1_Experiments/RQ1_Data_Batch1/South America/Chile/South America_Chile_CH7_MIDDLE.JPG', '/content/drive/MyDrive/RQ1_Experiments/RQ1_Data_Batch1/South America/Chile/South America_Chile_CH8_MIDDLE.JPG', '/content/drive/MyDrive/RQ1_Experiments/RQ1_Data_Batch1/South America/Chile/South America_Chile_CH9_MIDDLE.JPG', '/content/drive/MyDrive/RQ1_Experiments/RQ1_Data_Batch1/South America/Colombia/South America_Colombia_CB1_TOP.png', '/content/drive/MyDrive/RQ1_Experiments/RQ1_Data_Batch1/South America/Colombia/South America_Colombia_CB2_TOP.png', '/content/drive/MyDrive/RQ1_Experiments/RQ1_Data_Batch1/South America/Colombia/South America_Colombia_CB3_TOP.png', '/content/drive/MyDrive/RQ1_Experiments/RQ1_Data_Batch1/South America/Colombia/South America_Colombia_CB4_TOP.png', '/content/drive/MyDrive/RQ1_Experiments/RQ1_Data_Batch1/South America/Paraguay/South America_Paraguay_P1_LAST.png', '/content/drive/MyDrive/RQ1_Experiments/RQ1_Data_Batch1/South America/Paraguay/South America_Paraguay_P2_LAST.jpg', '/content/drive/MyDrive/RQ1_Experiments/RQ1_Data_Batch1/South America/Peru/South America_Peru_PU1_TOP.png', '/content/drive/MyDrive/RQ1_Experiments/RQ1_Data_Batch1/South America/Peru/South America_Peru_PU2_TOP.png', '/content/drive/MyDrive/RQ1_Experiments/RQ1_Data_Batch1/South America/Peru/South America_Peru_PU3_TOP.JPG', '/content/drive/MyDrive/RQ1_Experiments/RQ1_Data_Batch1/South America/Peru/South America_Peru_PU4_TOP.png', '/content/drive/MyDrive/RQ1_Experiments/RQ1_Data_Batch1/South America/Peru/South America_Peru_PU5_TOP.jpg', '/content/drive/MyDrive/RQ1_Experiments/RQ1_Data_Batch1/South America/Peru/South America_Peru_PU6_TOP.PNG', '/content/drive/MyDrive/RQ1_Experiments/RQ1_Data_Batch1/South America/Peru/South America_Peru_PU7_TOP.PNG', '/content/drive/MyDrive/RQ1_Experiments/RQ1_Data_Batch1/South America/Uruguay/South America_Uruguay_U1_LAST.PNG', '/content/drive/MyDrive/RQ1_Experiments/RQ1_Data_Batch1/South America/Uruguay/South America_Uruguay_U2_LAST.PNG', '/content/drive/MyDrive/RQ1_Experiments/RQ1_Data_Batch1/South America/Uruguay/South America_Uruguay_U3_LAST.png', '/content/drive/MyDrive/RQ1_Experiments/RQ1_Data_Batch1/South America/Uruguay/South America_Uruguay_U4_LAST.JPG', '/content/drive/MyDrive/RQ1_Experiments/RQ1_Data_Batch1/South America/Uruguay/South America_Uruguay_U5_LAST.png']\n"
          ]
        }
      ],
      "execution_count": null
    },
    {
      "cell_type": "markdown",
      "source": [
        "# Variant: InternVL3 8B\n",
        "\n",
        "https://huggingface.co/OpenGVLab/InternVL3-8B"
      ],
      "metadata": {
        "id": "LQ2IIDXCUnzZ"
      }
    },
    {
      "cell_type": "markdown",
      "source": [
        "## 1️⃣ Prompt"
      ],
      "metadata": {
        "id": "zItqEgtVqmmb"
      }
    },
    {
      "cell_type": "markdown",
      "source": [
        "🔨 TO BE MODIFIED 🔨"
      ],
      "metadata": {
        "id": "prwTOXlGAmQh"
      }
    },
    {
      "cell_type": "code",
      "source": [
        "# TO BE MODIFIED\n",
        "\n",
        "PROMPTS = {\n",
        "    \"prompt1\": \"\"\"Assume the image is from {given_continent}. Analyze it and answer two things:\n",
        "\n",
        "1) Which country is this most likely from?\n",
        "\n",
        "2) What is the most suitable label: political expression, vandalism, decoration, cultural identity, or advertisement?\"\"\",\n",
        "\n",
        "    \"prompt2\": \"\"\"You are a cultural anthropologist viewing street visuals. Given that mural in image is located in {given_continent}, give these four pieces of info:\n",
        "\n",
        "- COUNTRY\n",
        "- LABEL (choose exactly one: political expression / vandalism / decoration / cultural identity / advertisement)\n",
        "- CONFIDENCE (0–100%)\n",
        "- TOP CUE (2–3 sentences describing the key visual/cultural cue)\n",
        "\n",
        "Be concise and calibrate CONFIDENCE to how strongly the visual cues support your claims.\"\"\",\n",
        "\n",
        "    \"prompt3\": \"\"\"Moderate a brief debate among a Geographer, a Street Artist, and a Museum Curator about this image, assuming it originates from {given_continent}. For each expert, give:\n",
        "\n",
        "- ROLE: <role name>\n",
        "- COUNTRY\n",
        "- LABEL (political expression / vandalism / decoration / cultural identity / advertisement)\n",
        "- SHORT_RATIONALE (one concise sentence)\n",
        "\n",
        "After the three positions, write a 2-paragraph moderator resolution:\n",
        "1) Compare the three rationales and state which COUNTRY and LABEL you choose and why (trade-offs).\n",
        "2) List 2 visual cues that were decisive and mention one alternative explanation you rejected.\n",
        "\n",
        "Finish with: COUNTRY and LABEL (each on its own line).\"\"\",\n",
        "\n",
        "    \"prompt4\": \"\"\"You are a cultural anthropologist & artist. Given that mural in image is located in {given_continent}, provide:\n",
        "\n",
        "- COUNTRY: two most likely countries with percentages (sum ≈100), e.g. \"Iceland: 70%, Russia: 30%\"\n",
        "- WHY COUNTRY: 2–3 sentences explaining how visual cues suggest the chosen countries .\n",
        "\n",
        "- LABEL: choose from (political expression, vandalism, decoration, cultural identity, advertisement) and also assign probabilities for all five labels (sum ≈100)\n",
        "- WHY LABEL: 2–3 sentences linking cues to chosen label.\n",
        "\n",
        "- TOP CUES: list three concrete cues that were decisive (1–6 words each)\n",
        "- BIAS NOTE: 2–3 sentences reflecting how cultural bias might have affected the probability estimates.\n",
        "\n",
        "Constraints:\n",
        "- Avoid equal continent splits (e.g. 50/50). Show one as more likely.\n",
        "- Keep WHY COUNTRY and WHY LABEL tied to visible evidence (colors, symbols, technique, location clues etc).\"\"\"\n",
        "}\n",
        "\n",
        "PROMPT_ORDER = [\"prompt1\",\"prompt2\",\"prompt3\",\"prompt4\"]\n"
      ],
      "metadata": {
        "id": "pkm5LNk3qz0F",
        "trusted": true
      },
      "outputs": [],
      "execution_count": null
    },
    {
      "cell_type": "markdown",
      "source": [
        "## 2️⃣ Load Processor and Model"
      ],
      "metadata": {
        "id": "JVaJV9x3qwEK"
      }
    },
    {
      "cell_type": "code",
      "source": [
        "# from huggingface_hub import notebook_login\n",
        "# notebook_login()"
      ],
      "metadata": {
        "id": "T5Q8MVA7u84V",
        "trusted": true
      },
      "outputs": [],
      "execution_count": null
    },
    {
      "cell_type": "markdown",
      "source": [
        "🔨 TO BE MODIFIED 🔨"
      ],
      "metadata": {
        "id": "-P17cAbJAnLC"
      }
    },
    {
      "cell_type": "code",
      "source": [
        "# TO BE MODIFIED\n",
        "\n",
        "from transformers import AutoModel, AutoTokenizer, AutoProcessor\n",
        "import torch, os\n",
        "from PIL import Image\n",
        "import torchvision.transforms as T\n",
        "from torchvision.transforms.functional import InterpolationMode\n",
        "\n",
        "repo_id = \"OpenGVLab/InternVL3-8B\"\n",
        "\n",
        "model = AutoModel.from_pretrained(\n",
        "    repo_id,\n",
        "    torch_dtype=torch.bfloat16,\n",
        "    low_cpu_mem_usage=True,\n",
        "    use_flash_attn=True,\n",
        "    trust_remote_code=True\n",
        ").eval().cuda()\n",
        "\n",
        "processor = AutoProcessor.from_pretrained(\n",
        "    repo_id,\n",
        "    trust_remote_code=True\n",
        ")\n",
        "\n",
        "tokenizer = AutoTokenizer.from_pretrained(repo_id, trust_remote_code=True, use_fast=True)\n",
        "\n"
      ],
      "metadata": {
        "id": "3tvxJAFoEnAV",
        "trusted": true,
        "colab": {
          "base_uri": "https://localhost:8080/",
          "height": 1000,
          "referenced_widgets": [
            "fce20715b0db46d2bfc441b1a2520cd1",
            "18fe10d4e74c439584b23b273edc2688",
            "cd233ec0c8ac427eafeb318bdd2fccd1",
            "f2f8c6c661c64172aa128ef843d31ec4",
            "4efdd43035624972aaa73c954c93690b",
            "a6da67e274804b8286a5240858fdf24f",
            "b113a73b4db44e19b49035bb5ee4a50e",
            "3570574df0014610959d353ba6c421b2",
            "1552fa309f0b4c4fb336cd1c90f89ece",
            "fc8c24c33cf840ac93d8a35c941628be",
            "70eb0da7c6054e7cbb3b0d3713e2ee92",
            "ed870de0e0534ccfbc1f9cd26a6b1e7a",
            "5b43a7e0d1694a61aa4dd7812681e46c",
            "6e324c0b95694408879cc6dcfa38b7d5",
            "5545ee24ee5444ee88767ac94a198fc0",
            "a39fd400f0364f50a96064aae689add2",
            "3d79e374b23141c98467c17f99d35165",
            "3665ebea79314349aa866082d4da31c2",
            "880df4bfded34bf091bf025ecb9ec8d6",
            "8d5a2f54bde742cfb6a661a322b26a37",
            "5d77f3986a8d43e1859f6e22aadf5d53",
            "b53edfc5faa64957af082ee7db17a173",
            "5be265bdef0f4028ac75ac0fcf754a77",
            "e66d20c9fd7f411db8cd2219993d81a0",
            "87899631e6484ff1bbf6e7aefeafc3b4",
            "71ff21a67e83407283ed9eacb640148e",
            "ca068674987748fb98893b4cd2e0dfd8",
            "c925283fce744762bd57f1204627775a",
            "15657a75104d48e4ba0191dd2ab05a82",
            "4c7e744c42934c01ba39e6921d11589c",
            "db213e2007a24b46a4076522e99ab953",
            "f662accd4ec64aa193373489423f62cb",
            "a1b4d62616a74bb0b85b64f292c85f17",
            "31dddbc4018b4f0b83a274f265b43657",
            "8d9bbb5eb5ae463faa0beb2b1b3ba362",
            "202329693e814d6dba6141326cd8a48a",
            "a4268cc4599f41ca99f73b6c03f710fd",
            "4e94694854cc4123a013c4bd0f3534dd",
            "6bbfd38afd0241d797b1b61622626030",
            "05ad62046e434e03b4a4928bab6938a3",
            "0faf276fcf23414ab7f4da0167a5ac41",
            "b6c6476e81e04fdeae06446901648fbb",
            "670c706aef8c43de9154ad9cc54ce3a0",
            "d797a81fd71a400cb300603cac78a44d",
            "e1ffd6682a4f4feab7f184b0cae99b02",
            "f7e6beb2b5e1467e88c6e46895cf621a",
            "6575e163a42440d5a0f23f2b1b4a0011",
            "18500d4bb2a64ec3a073140cfa21840d",
            "4e48d021ee5f4754b416f6f954c8717f",
            "4fe51ccd3d044dfab451e68f2953318b",
            "cd7688a40a174bc8aeef175c2922a087",
            "b5eb03a866d943d0bf3f22f8928106ae",
            "f71e7b5f757d4903b73213d649c8bb60",
            "b4970069afcb45bf906f44f63fe6f988",
            "f63047455b10452486e2cd503f348884",
            "8b7f6a48c11c4f07b87f1fcaaf8a1c49",
            "1d4081f641b84ec2a9ffc4c3ad9c9a33",
            "d1ee4e244581458d915b4d70b291c0da",
            "f9e18610ffd149599a3f359c219f1a6b",
            "f9d13284c4204c0f92521ecfd13bc0a8",
            "fe31470f5e504b03b2786ced10816111",
            "c675d90f1c5b4279bca19e75b59b75ba",
            "81db7add418c432dbc274ae312012579",
            "3b24ea8271da47d7aad76b98e2b90c37",
            "472b8e6de5014a14bce76ff29a252a90",
            "2ba1eb1d7a2d4447ad29e7949692eba2",
            "79b4abb2d60b4a61b065c572d0dcc345",
            "f44ecff59e334e2b86c429c13c29e582",
            "81c7c715d20c4e0482ba97295aac2e82",
            "34fa51bf34d1444a9da6bc8906a25235",
            "165b9531facd4da99c7debeda122ebf1",
            "8b48e11cf715465e88dca89176d6e152",
            "e3971de9011349609af629bea22759c6",
            "3eeec2c1539a4747abc05646e6e8ce11",
            "b001c9bc6690455aa55360fe10c50324",
            "52af03309db84ee9b6b5952ca0a4ba25",
            "d805e754c9fc4c2c906166006f85d35c",
            "f376809f90bd47798dbc8488811801b0",
            "7f623d4694f5488c8ef83fba24f1841a",
            "e268afc125b843fda2619c76065c4097",
            "6787d985bf4c4d68b198df0d1bc9c491",
            "9a324fcee0714aab9dc7cbb39289518b",
            "cea0c32dcb4b4b19b8d311d109fe9e71",
            "31302971e8dc4165936db21aa0b1268a",
            "41c165675c6546278fcb4e24831b7d69",
            "af30ff218b4b4872aed82dc8fb0af722",
            "419a4d16168f4cfbbe7c8d815e5b4ac9",
            "fe25edb0a42148f3a7aaf2cc6b6af19b",
            "039a4bcbdc1f4c29b8fb1df639acc806",
            "c69413618e9c4780a0c6773d94ba98e4",
            "fa91c3e7d5124b7a94ef645cf32cdadd",
            "2dae30e57d3a4bccb924ee1a41408171",
            "2925da97ccdd4505b6c1d99402c08ffd",
            "8ed6953fcc4e4248b27a1a3d980ef28e",
            "fd7aa7927d294c5f8b24c000afc9a182",
            "3fc5bf5a16f74c0cb1805992bd5d0df4",
            "80a517afb03d466dba861702d0bcb4f0",
            "64ff165b913545c5b8b248f59516fb1c",
            "f6bb92a5bf244063911930b1169e417b",
            "7579c383714242dab865aa6d928e95fb",
            "0ed42afc07704543bc603c313ee90372",
            "d11ee6da1f174b1ca8ad54fee497b4ea",
            "8654f9d22c294295994351a05ed56474",
            "30cbd184738a447ca1a3b8cbe0e301e2",
            "4ea247e5c0254071afd816f697a056a2",
            "67d1e308d9d5423893bbe62d4c12606d",
            "087c68f812b34a74a33caf470bd6996a",
            "4458dde36ed44067864bdd72b6f6e68d",
            "d31930fcb76a41078b2c4f4b497f971d",
            "e9097b4b82fc457fa8cd630984bae320",
            "1a18b9000aff4ef092ac31d4ec132f87",
            "422e320c5ad64216b2c7de30da73a4ce",
            "fe0f2875c3d84c2c9ae11a46d7c306be",
            "172906ddc89b434b8de05ccd95b49195",
            "e71a144b61844396899b3b49cff86e1f",
            "1b94f9114e7447e3991f837d6e7da686",
            "70729334a2174d0f92dd5dfe04762284",
            "d20a05f12aec488e832377b2514484be",
            "d6f9ff0ec5ae45e9b87fadd5ac029a31",
            "28ed32c2be4744acb095097b38dfe027",
            "b28a3a68fd0947dab822c4c933449e62",
            "3c83e497bae94f209ec69ee45faa7567",
            "6c2f1a1022a44ebfbbf580cb698ad17e",
            "fd40313cda104592b975df8143cd7b85",
            "f3b3aa65ef694439ada97e64818b63cd",
            "0fd12a24415845ec9632ae9f20490479",
            "2345d97f22914211bdab1cd73fbb0c89",
            "aa03d203a38e49d9b7ecaedd587b07cc",
            "5f7ada284aca489795eb5f883d362d94",
            "47fe4bb2d32c4d9d87258f6bd3375f3c",
            "07dc2c4ae28a42f4bb3c1a6d63b358b7",
            "d764dda2afdb4cc99d7e431deadfb1bb",
            "8a12c651e1a3473dac19487cf042805c",
            "a3f4988099c6407d9882e2fde048fda6",
            "6e0b0f70f87d4ab5aa783ceef3a7c801",
            "09be0234e9444fe19a6e2aba3042def1",
            "710ccc74981e4fd39e65b8ad06863380",
            "2ac52e2e241b46a984356fc0b58a38a0",
            "f78b7fb11ca04a4185e5cc13a3e38e00",
            "d90b740afb3146f5a36d0611bb881d07",
            "47597372e275432799beefd8c89e759e",
            "2df56340a0cf4df0be95e868344add8b",
            "ec6f9af5b2e54f508589f6fb32c33532",
            "0b216eec814c4cbfa237ec74d013c21b",
            "a249c86d030f463bb28b696090f19775",
            "ab64be8cbc674c879250ed9530c9decb",
            "1534236e983746a188ab0accc94c4dcc",
            "d3f097053e6c4480858ec2e6bf302923",
            "db15239397f54160a8c996e3921a5393",
            "8b0a515231274d3a84a16945f568db4d",
            "479754cf86594874a2396604b6d1bb5e",
            "f30e1d584f444e4b919783552ea46ac6",
            "a281600f119a443a8a94361d33a4ae6d",
            "b915a10c800f424d9c0ca120649e4c1c",
            "e2aa13f7241f409dbbdd40de4b2b0cf1",
            "5cc7b3b3ecf047f3b2e26bc1325f0a40",
            "8d08fa733f544a9d8297d4b97c7c2e2f",
            "69dd081725274d2b89d7dcb292bddf74",
            "4c98370d12d9432b807c5dc0562eaf6c",
            "bd57f63e99524c1e81168b0573ed72e5",
            "885171e468b843aba1c0a8261f5c9fbe",
            "c5b8b9c75f824e60a56959258c809b5b",
            "ec7d222b45734f2f84660da08c313579",
            "482dcc8e62624d61b6041cdaab137fc7",
            "eb524290aa7a48e7bce64694aef7c14d",
            "cf94d25e8e4b4c329a845a4487c89bab",
            "e764af2960ed4775a6d34ae8d752be7f",
            "4c53236f08b641b088c0eea82a083d99",
            "c6297a4325f9410baa23963ab4f25f05",
            "3d151f6d937548178e16066964242400",
            "d1f359aae01f46a0807f48cf09eba268",
            "bd853cf63c474ae28ad3513019697045",
            "94834281729b4c779d7ea4c9d9cc749c",
            "91ff84c3782147229c9fa3085d3ee188",
            "61f738df10c74d189ec6d7212d0ecf86",
            "dd2968c00b7b492a9413ae2c533f653b",
            "2c5903ecab9f4ce89870597db7032ed3",
            "d0c42466607d4d6396ab14d447d13b5d",
            "fded8fb0bb924a49bc874166f33f3da8",
            "809d589bde5b4f1f96a2efcce1adb09a",
            "84c5eb3303444fdc893bf3d10a60d42c",
            "6d1894d7b3e5443e8cd9e400941bbee4",
            "5bab6985368549f68598fa656052d22a",
            "f41fa71c864b43a2ad9e994b76dffdd2",
            "e243219a17d245b88ba5f503df39e31b",
            "351f4faff2694df5b3d71e85ca8b05d3",
            "20229cf5bb9d4e90a816fe85525942b7",
            "e8562dd46cc547edbd085b6582d69617",
            "f2f76358c35d4b83b23b4ab60d093135",
            "391d9911aa1e473c951d8040fd6b3f82",
            "c81f508869b8440592095d4200719aaa",
            "38359b255d4642febc650acfecbf1ab5",
            "dcac4a48c9604c449e9e1c8cd1258548",
            "20f4f1c5b54a40afb767384a658f785a",
            "fbe2715797aa4e3cb8c883504d478e6a",
            "9169d1a779db4209956cdcda1608f482",
            "7f45fa840ab84d38881f81bd58234ccc",
            "9945aa42db414b1781a0ff8c651226c6",
            "c0b2697bad6c42788c6351110536bdeb",
            "41f1dd1b673a4c72971d0c3fca685211",
            "409f261662084452aa7d635bb634dc73",
            "eb898049863d4fb4b7f3a960f0474276",
            "43ac245cbc57415d9463dcd9439d71c9",
            "ea277c13823b4a1092a6e757ecc668c5",
            "2363583fe9d54188865374ad069114aa",
            "f3ae7b24d6704444a5d907572565ea90",
            "2588c43b1ad34cfcb4ce14fa922633e3",
            "0f18f0fc662e46378e8f8af154286005",
            "ebf216faf1474da2b00cda45fbce2efb",
            "93956955b7cd4412a82edc0303e83829",
            "9d572faab2304bc7b4edb3edfc6f2b7a",
            "01d140ac6ec44df092da5e358717209f",
            "99d91345c89b4586b57774ef50ae8c70",
            "bf9783c87f3040c9ba0b390d8b38cd4e",
            "96483ef1800447e78595450c4208dadf",
            "8dcd99b6067a44be9a48d07beb22b188",
            "d3a5f487e796480092a46bf00fe990e4",
            "8dcde512fa904440b7dcf20592058be1",
            "0617e6f6ba3f484888f52236a0dc6818",
            "9db21f37ce264fffbd6031d29c9f9d40",
            "e3cfd489689046cb90d65ab4a038f763",
            "b16397f1fbea45e58b4e85c9a1f67e63",
            "afa84127be564a3ea49fba58bfcb45a6",
            "ad658d8278af41e598b9ce03ed7df85e",
            "f303935fc0cf40cb990d89acdaa58d33",
            "d7b93e483cd84d2cba86b0c4eac55b10",
            "f826f3b3813846a5b7f556b35a855325",
            "ef9c53c4abbb4ad0a0f2f3499864a4e2",
            "c444933a65804ad89b188233db00a2b1",
            "1112069e5b2d4afc9cfa4c9fda06b4dc",
            "df5f29a7cce84633b3f7128fa1ccc393"
          ]
        },
        "outputId": "3072ba03-9b72-4b76-b1bc-f00d53e070ac"
      },
      "outputs": [
        {
          "output_type": "display_data",
          "data": {
            "text/plain": [
              "config.json: 0.00B [00:00, ?B/s]"
            ],
            "application/vnd.jupyter.widget-view+json": {
              "version_major": 2,
              "version_minor": 0,
              "model_id": "fce20715b0db46d2bfc441b1a2520cd1"
            }
          },
          "metadata": {}
        },
        {
          "output_type": "display_data",
          "data": {
            "text/plain": [
              "configuration_internvl_chat.py: 0.00B [00:00, ?B/s]"
            ],
            "application/vnd.jupyter.widget-view+json": {
              "version_major": 2,
              "version_minor": 0,
              "model_id": "ed870de0e0534ccfbc1f9cd26a6b1e7a"
            }
          },
          "metadata": {}
        },
        {
          "output_type": "display_data",
          "data": {
            "text/plain": [
              "configuration_intern_vit.py: 0.00B [00:00, ?B/s]"
            ],
            "application/vnd.jupyter.widget-view+json": {
              "version_major": 2,
              "version_minor": 0,
              "model_id": "5be265bdef0f4028ac75ac0fcf754a77"
            }
          },
          "metadata": {}
        },
        {
          "output_type": "stream",
          "name": "stderr",
          "text": [
            "A new version of the following files was downloaded from https://huggingface.co/OpenGVLab/InternVL3-8B:\n",
            "- configuration_intern_vit.py\n",
            ". Make sure to double-check they do not contain any added malicious code. To avoid downloading new versions of the code file, you can pin a revision.\n",
            "A new version of the following files was downloaded from https://huggingface.co/OpenGVLab/InternVL3-8B:\n",
            "- configuration_internvl_chat.py\n",
            "- configuration_intern_vit.py\n",
            ". Make sure to double-check they do not contain any added malicious code. To avoid downloading new versions of the code file, you can pin a revision.\n",
            "Unrecognized keys in `rope_parameters` for 'rope_type'='dynamic': {'rope_theta'}\n"
          ]
        },
        {
          "output_type": "display_data",
          "data": {
            "text/plain": [
              "modeling_internvl_chat.py: 0.00B [00:00, ?B/s]"
            ],
            "application/vnd.jupyter.widget-view+json": {
              "version_major": 2,
              "version_minor": 0,
              "model_id": "31dddbc4018b4f0b83a274f265b43657"
            }
          },
          "metadata": {}
        },
        {
          "output_type": "display_data",
          "data": {
            "text/plain": [
              "modeling_intern_vit.py: 0.00B [00:00, ?B/s]"
            ],
            "application/vnd.jupyter.widget-view+json": {
              "version_major": 2,
              "version_minor": 0,
              "model_id": "e1ffd6682a4f4feab7f184b0cae99b02"
            }
          },
          "metadata": {}
        },
        {
          "output_type": "stream",
          "name": "stderr",
          "text": [
            "A new version of the following files was downloaded from https://huggingface.co/OpenGVLab/InternVL3-8B:\n",
            "- modeling_intern_vit.py\n",
            ". Make sure to double-check they do not contain any added malicious code. To avoid downloading new versions of the code file, you can pin a revision.\n"
          ]
        },
        {
          "output_type": "display_data",
          "data": {
            "text/plain": [
              "conversation.py: 0.00B [00:00, ?B/s]"
            ],
            "application/vnd.jupyter.widget-view+json": {
              "version_major": 2,
              "version_minor": 0,
              "model_id": "8b7f6a48c11c4f07b87f1fcaaf8a1c49"
            }
          },
          "metadata": {}
        },
        {
          "output_type": "stream",
          "name": "stderr",
          "text": [
            "A new version of the following files was downloaded from https://huggingface.co/OpenGVLab/InternVL3-8B:\n",
            "- conversation.py\n",
            ". Make sure to double-check they do not contain any added malicious code. To avoid downloading new versions of the code file, you can pin a revision.\n",
            "A new version of the following files was downloaded from https://huggingface.co/OpenGVLab/InternVL3-8B:\n",
            "- modeling_internvl_chat.py\n",
            "- modeling_intern_vit.py\n",
            "- conversation.py\n",
            ". Make sure to double-check they do not contain any added malicious code. To avoid downloading new versions of the code file, you can pin a revision.\n"
          ]
        },
        {
          "output_type": "stream",
          "name": "stdout",
          "text": [
            "FlashAttention2 is not installed.\n"
          ]
        },
        {
          "output_type": "display_data",
          "data": {
            "text/plain": [
              "model.safetensors.index.json: 0.00B [00:00, ?B/s]"
            ],
            "application/vnd.jupyter.widget-view+json": {
              "version_major": 2,
              "version_minor": 0,
              "model_id": "79b4abb2d60b4a61b065c572d0dcc345"
            }
          },
          "metadata": {}
        },
        {
          "output_type": "display_data",
          "data": {
            "text/plain": [
              "Fetching 4 files:   0%|          | 0/4 [00:00<?, ?it/s]"
            ],
            "application/vnd.jupyter.widget-view+json": {
              "version_major": 2,
              "version_minor": 0,
              "model_id": "f376809f90bd47798dbc8488811801b0"
            }
          },
          "metadata": {}
        },
        {
          "output_type": "display_data",
          "data": {
            "text/plain": [
              "model-00001-of-00004.safetensors:   0%|          | 0.00/4.99G [00:00<?, ?B/s]"
            ],
            "application/vnd.jupyter.widget-view+json": {
              "version_major": 2,
              "version_minor": 0,
              "model_id": "039a4bcbdc1f4c29b8fb1df639acc806"
            }
          },
          "metadata": {}
        },
        {
          "output_type": "display_data",
          "data": {
            "text/plain": [
              "model-00004-of-00004.safetensors:   0%|          | 0.00/1.14G [00:00<?, ?B/s]"
            ],
            "application/vnd.jupyter.widget-view+json": {
              "version_major": 2,
              "version_minor": 0,
              "model_id": "7579c383714242dab865aa6d928e95fb"
            }
          },
          "metadata": {}
        },
        {
          "output_type": "display_data",
          "data": {
            "text/plain": [
              "model-00003-of-00004.safetensors:   0%|          | 0.00/4.80G [00:00<?, ?B/s]"
            ],
            "application/vnd.jupyter.widget-view+json": {
              "version_major": 2,
              "version_minor": 0,
              "model_id": "1a18b9000aff4ef092ac31d4ec132f87"
            }
          },
          "metadata": {}
        },
        {
          "output_type": "display_data",
          "data": {
            "text/plain": [
              "model-00002-of-00004.safetensors:   0%|          | 0.00/4.96G [00:00<?, ?B/s]"
            ],
            "application/vnd.jupyter.widget-view+json": {
              "version_major": 2,
              "version_minor": 0,
              "model_id": "3c83e497bae94f209ec69ee45faa7567"
            }
          },
          "metadata": {}
        },
        {
          "output_type": "display_data",
          "data": {
            "text/plain": [
              "Loading checkpoint shards:   0%|          | 0/4 [00:00<?, ?it/s]"
            ],
            "application/vnd.jupyter.widget-view+json": {
              "version_major": 2,
              "version_minor": 0,
              "model_id": "8a12c651e1a3473dac19487cf042805c"
            }
          },
          "metadata": {}
        },
        {
          "output_type": "display_data",
          "data": {
            "text/plain": [
              "generation_config.json:   0%|          | 0.00/69.0 [00:00<?, ?B/s]"
            ],
            "application/vnd.jupyter.widget-view+json": {
              "version_major": 2,
              "version_minor": 0,
              "model_id": "0b216eec814c4cbfa237ec74d013c21b"
            }
          },
          "metadata": {}
        },
        {
          "output_type": "display_data",
          "data": {
            "text/plain": [
              "preprocessor_config.json:   0%|          | 0.00/287 [00:00<?, ?B/s]"
            ],
            "application/vnd.jupyter.widget-view+json": {
              "version_major": 2,
              "version_minor": 0,
              "model_id": "e2aa13f7241f409dbbdd40de4b2b0cf1"
            }
          },
          "metadata": {}
        },
        {
          "output_type": "display_data",
          "data": {
            "text/plain": [
              "tokenizer_config.json: 0.00B [00:00, ?B/s]"
            ],
            "application/vnd.jupyter.widget-view+json": {
              "version_major": 2,
              "version_minor": 0,
              "model_id": "cf94d25e8e4b4c329a845a4487c89bab"
            }
          },
          "metadata": {}
        },
        {
          "output_type": "stream",
          "name": "stderr",
          "text": [
            "Unrecognized keys in `rope_parameters` for 'rope_type'='dynamic': {'rope_theta'}\n"
          ]
        },
        {
          "output_type": "display_data",
          "data": {
            "text/plain": [
              "vocab.json: 0.00B [00:00, ?B/s]"
            ],
            "application/vnd.jupyter.widget-view+json": {
              "version_major": 2,
              "version_minor": 0,
              "model_id": "2c5903ecab9f4ce89870597db7032ed3"
            }
          },
          "metadata": {}
        },
        {
          "output_type": "display_data",
          "data": {
            "text/plain": [
              "merges.txt: 0.00B [00:00, ?B/s]"
            ],
            "application/vnd.jupyter.widget-view+json": {
              "version_major": 2,
              "version_minor": 0,
              "model_id": "e8562dd46cc547edbd085b6582d69617"
            }
          },
          "metadata": {}
        },
        {
          "output_type": "display_data",
          "data": {
            "text/plain": [
              "tokenizer.json: 0.00B [00:00, ?B/s]"
            ],
            "application/vnd.jupyter.widget-view+json": {
              "version_major": 2,
              "version_minor": 0,
              "model_id": "c0b2697bad6c42788c6351110536bdeb"
            }
          },
          "metadata": {}
        },
        {
          "output_type": "display_data",
          "data": {
            "text/plain": [
              "added_tokens.json:   0%|          | 0.00/790 [00:00<?, ?B/s]"
            ],
            "application/vnd.jupyter.widget-view+json": {
              "version_major": 2,
              "version_minor": 0,
              "model_id": "93956955b7cd4412a82edc0303e83829"
            }
          },
          "metadata": {}
        },
        {
          "output_type": "display_data",
          "data": {
            "text/plain": [
              "special_tokens_map.json:   0%|          | 0.00/613 [00:00<?, ?B/s]"
            ],
            "application/vnd.jupyter.widget-view+json": {
              "version_major": 2,
              "version_minor": 0,
              "model_id": "e3cfd489689046cb90d65ab4a038f763"
            }
          },
          "metadata": {}
        }
      ],
      "execution_count": null
    },
    {
      "cell_type": "markdown",
      "source": [
        "## 3️⃣ Inference"
      ],
      "metadata": {
        "id": "ZTm4tA4aVzrZ"
      }
    },
    {
      "cell_type": "code",
      "source": [
        "import tempfile"
      ],
      "metadata": {
        "trusted": true,
        "id": "NYr4oCEzfH3q"
      },
      "outputs": [],
      "execution_count": null
    },
    {
      "cell_type": "markdown",
      "source": [
        "🔨 TO BE MODIFIED 🔨"
      ],
      "metadata": {
        "id": "57eyJT8HAoY8"
      }
    },
    {
      "cell_type": "code",
      "source": [
        "# TO BE MODIFIED\n",
        "\n",
        "import tempfile\n",
        "\n",
        "def infer_img(image_path: str, prompt: str):\n",
        "    if not os.path.exists(image_path):\n",
        "        raise FileNotFoundError(f\"Image not found: {image_path}\")\n",
        "\n",
        "    # Build question with the correct image token\n",
        "    question = prompt if \"<image>\" in prompt else \"<image>\\n\" + prompt\n",
        "\n",
        "    # Read & minimally preprocess to a single 448x448 tile\n",
        "    img = Image.open(image_path).convert(\"RGB\").resize((448, 448))\n",
        "    arr = np.array(img, dtype=np.float32) / 255.0\n",
        "    # ImageNet normalize inline\n",
        "    arr[..., 0] = (arr[..., 0] - 0.485) / 0.229\n",
        "    arr[..., 1] = (arr[..., 1] - 0.456) / 0.224\n",
        "    arr[..., 2] = (arr[..., 2] - 0.406) / 0.225\n",
        "    pixel_values = torch.from_numpy(arr).permute(2, 0, 1).unsqueeze(0)  # [1,3,448,448]\n",
        "    pixel_values = pixel_values.to(torch.bfloat16)\n",
        "    if any(p.is_cuda for p in model.parameters()):\n",
        "        pixel_values = pixel_values.cuda()\n",
        "\n",
        "    # Generation config from your globals\n",
        "    gen_cfg = dict(\n",
        "        max_new_tokens=GEN_MAX_NEW_TOKENS,\n",
        "        do_sample=GEN_DO_SAMPLE,\n",
        "        temperature=GEN_TEMPERATURE\n",
        "    )\n",
        "\n",
        "    # InternVL3 chat API\n",
        "    with torch.inference_mode():\n",
        "        response = model.chat(\n",
        "            tokenizer,\n",
        "            pixel_values,\n",
        "            question,\n",
        "            gen_cfg,\n",
        "            history=None,\n",
        "            return_history=False\n",
        "        )\n",
        "\n",
        "    return response.strip()"
      ],
      "metadata": {
        "id": "PXP5HfxLEj7H",
        "trusted": true
      },
      "outputs": [],
      "execution_count": null
    },
    {
      "cell_type": "markdown",
      "source": [
        "## 4️⃣ Package & Save to JSON"
      ],
      "metadata": {
        "id": "1JmXUoS8WBwk"
      }
    },
    {
      "cell_type": "code",
      "source": [
        "import numpy as np"
      ],
      "metadata": {
        "id": "8VGtIQmOGT7r"
      },
      "execution_count": null,
      "outputs": []
    },
    {
      "cell_type": "code",
      "source": [
        "import re, json, torch, tempfile, os\n",
        "from PIL import Image\n",
        "\n",
        "def strip_code_fence(s: str) -> str:\n",
        "    if not isinstance(s, str):\n",
        "        return s\n",
        "    s = s.strip()\n",
        "    s = re.sub(r\"^``` ?json\\s*\", \"\", s, flags=re.I)\n",
        "    s = re.sub(r\"```$\", \"\", s)\n",
        "    return s.strip()\n",
        "\n",
        "def try_parse_json_from_string(s: str):\n",
        "    cleaned = strip_code_fence(s)\n",
        "    try:\n",
        "        return json.loads(cleaned), None\n",
        "    except json.JSONDecodeError:\n",
        "        m = re.search(r\"(\\{(?:.|\\s)*\\}|\\[(?:.|\\s)*\\])\", cleaned)\n",
        "        if m:\n",
        "            try:\n",
        "                return json.loads(m.group(1)), None\n",
        "            except json.JSONDecodeError as e:\n",
        "                return None, f\"JSON decode failed for extracted substring: {e}\"\n",
        "        return None, \"no JSON found or JSON invalid\"\n",
        "\n",
        "def normalize(parsed):\n",
        "    if isinstance(parsed, list):\n",
        "        if len(parsed) == 1 and isinstance(parsed[0], dict):\n",
        "            return parsed[0]\n",
        "        return {\"json_list\": parsed}\n",
        "    return parsed\n",
        "\n",
        "# helper to derive given_continent\n",
        "def derive_given_continent(image_path: str):\n",
        "    dataset_continents = {\"Africa\",\"Asia\",\"Europe\",\"North America\",\"South America\",\"Oceania\",\"Antarctica\"}\n",
        "    parts = image_path.split(os.sep)\n",
        "    folder_cont = next((p for p in parts if p in dataset_continents), None)\n",
        "\n",
        "    basename = os.path.basename(image_path)\n",
        "    stem, _ = os.path.splitext(basename)\n",
        "    toks = re.split(r'[_\\-]+', stem)\n",
        "    name_cont = toks[0] if toks and toks[0] in dataset_continents else None\n",
        "\n",
        "    return folder_cont or name_cont or \"Unknown\"\n",
        "\n",
        "# keep one results array per prompt so we can save to separate files continuously\n",
        "results_per_prompt = {pl: [] for pl in PROMPT_ORDER}\n",
        "\n",
        "for i, image_path in enumerate(image_paths, start=1):\n",
        "    print(f\"\\nProcessing {i}/{len(image_paths)}: {image_path}\")\n",
        "\n",
        "    # infer path metadata\n",
        "    parts = image_path.split(os.sep)\n",
        "    dataset_continents = {\"Africa\",\"Asia\",\"Europe\",\"North America\",\"South America\",\"Oceania\",\"Antarctica\"}\n",
        "    dataset_continent = next((p for p in parts if p in dataset_continents), None)\n",
        "    dataset_country = None\n",
        "    if dataset_continent:\n",
        "        try:\n",
        "            idx = parts.index(dataset_continent)\n",
        "            dataset_country = parts[idx+1] if idx+1 < len(parts) else None\n",
        "        except ValueError:\n",
        "            pass\n",
        "    dataset_split_hint = next((p for p in parts if p.upper() in {\"TOP\",\"MIDDLE\",\"LAST\"}), None)\n",
        "\n",
        "    given_continent = derive_given_continent(image_path)\n",
        "\n",
        "    # loop over all 4 prompts\n",
        "    for pl in PROMPT_ORDER:\n",
        "        PROMPT_LEVEL = pl\n",
        "        prompt_text  = PROMPTS[pl].format(given_continent=given_continent)\n",
        "\n",
        "        # --- inference (same OOM pattern as reference) ---\n",
        "        try:\n",
        "            raw_output = infer_img(image_path, prompt_text)\n",
        "            print(f\"  ✔ {pl}: infer_img() full-res ok\")\n",
        "            warn = None\n",
        "        except RuntimeError as e:\n",
        "            msg = str(e).lower()\n",
        "            if \"cuda out of memory\" in msg:\n",
        "                torch.cuda.empty_cache()\n",
        "                print(f\"  ⚠ {pl}: OOM on full-res. Resizing to 448 and retrying…\")\n",
        "                try:\n",
        "                    img = Image.open(image_path).convert(\"RGB\").resize((448, 448))\n",
        "                    with tempfile.NamedTemporaryFile(suffix=\".jpg\", delete=False) as tmp:\n",
        "                        tmp_path = tmp.name\n",
        "                        img.save(tmp_path, format=\"JPEG\")\n",
        "                    raw_output = infer_img(tmp_path, prompt_text)\n",
        "                    print(f\"  ✔ {pl}: infer_img() resized ok\")\n",
        "                    warn = \"OOM_resized\"\n",
        "                except Exception as e2:\n",
        "                    print(f\"  ❌ {pl}: failed after resize: {e2}\")\n",
        "                    raw_output = None\n",
        "                    warn = \"no_output\"\n",
        "            else:\n",
        "                print(f\"  ❌ {pl}: runtime error: {e}\")\n",
        "                raw_output = None\n",
        "                warn = \"no_output\"\n",
        "        except Exception as e:\n",
        "            print(f\"  ❌ {pl}: unexpected error: {e}\")\n",
        "            raw_output = None\n",
        "            warn = \"no_output\"\n",
        "\n",
        "        # normalize output\n",
        "        if raw_output is None:\n",
        "            output_value = None\n",
        "            warn = warn or \"no_output\"\n",
        "        elif isinstance(raw_output, (dict, list)):\n",
        "            output_value = normalize(raw_output)\n",
        "        else:\n",
        "            parsed, perr = try_parse_json_from_string(raw_output)\n",
        "            if parsed is not None:\n",
        "                output_value = normalize(parsed)\n",
        "            else:\n",
        "                output_value = raw_output\n",
        "                if not warn:\n",
        "                    warn = f\"json_parse_failed: {perr}\" if perr else \"json_parse_failed\"\n",
        "\n",
        "        # record with rich metadata\n",
        "        rec = {\n",
        "            \"image_path\":         image_path,\n",
        "            \"model\":              MODEL_NAME,\n",
        "            \"variant\":            VARIANT,\n",
        "            \"task\":               TASK,\n",
        "            \"prompt_set\":         \"RQ1\",\n",
        "            \"task_level\":         TASK_LEVEL,\n",
        "            \"prompt_level\":       PROMPT_LEVEL,\n",
        "            \"run_count\":          RUN_COUNT,\n",
        "            \"prompt\":             prompt_text,\n",
        "            \"output\":             output_value,\n",
        "\n",
        "            # dataset-derived hints\n",
        "            \"dataset_continent\":  dataset_continent,\n",
        "            \"dataset_country\":    dataset_country,\n",
        "            \"dataset_split_hint\": dataset_split_hint,\n",
        "\n",
        "            # generation & model config\n",
        "            \"temperature\":        GEN_TEMPERATURE,\n",
        "            \"max_new_tokens\":     GEN_MAX_NEW_TOKENS,\n",
        "            \"do_sample\":          GEN_DO_SAMPLE,\n",
        "            \"model_repo\":         \"OpenGVLab/InternVL3-8B\",\n",
        "            \"image_size\":         IMAGE_SIZE,\n",
        "            \"device\":             (\"cuda\" if any(p.is_cuda for p in model.parameters()) else \"cpu\"),\n",
        "            \"dtype\":              str(next(model.parameters()).dtype).replace(\"torch.\", \"\"),\n",
        "            \"warning\":            warn\n",
        "        }\n",
        "        results_per_prompt[pl].append(rec)\n",
        "\n",
        "        # persist frequently (one file per prompt level)\n",
        "        save_results(\n",
        "    results_per_prompt[pl],\n",
        "    MODEL_NAME, VARIANT, TASK,\n",
        "    TASK_LEVEL,\n",
        "    pl,\n",
        "    RUN_COUNT,\n",
        "    output_dir=OUTPUT_DIR\n",
        "    )\n",
        "\n",
        "    torch.cuda.empty_cache()\n",
        "    print(\"------------------------------------------------------\")\n",
        "\n",
        "print(\"✅ Done.\")"
      ],
      "metadata": {
        "trusted": true,
        "id": "ar-llBPgfH3q",
        "colab": {
          "base_uri": "https://localhost:8080/"
        },
        "outputId": "81e664de-fc48-4479-eff2-923cb4dfa55c"
      },
      "outputs": [
        {
          "output_type": "stream",
          "name": "stdout",
          "text": [
            "\n",
            "Processing 1/360: /content/drive/MyDrive/RQ1_Experiments/RQ1_Data_Batch1/Africa/Benin/Africa_Benin_B1_MIDDLE.png\n"
          ]
        },
        {
          "output_type": "stream",
          "name": "stderr",
          "text": [
            "The following generation flags are not valid and may be ignored: ['temperature']. Set `TRANSFORMERS_VERBOSITY=info` for more details.\n",
            "Setting `pad_token_id` to `eos_token_id`:151645 for open-end generation.\n",
            "Setting `pad_token_id` to `eos_token_id`:151645 for open-end generation.\n"
          ]
        },
        {
          "output_type": "stream",
          "name": "stdout",
          "text": [
            "  ✔ prompt1: infer_img() full-res ok\n",
            " Saved results to /content/drive/MyDrive/RQ1_Experiments/results/InternVL3-8B/RQ1_InternVL3-8B_8B_country_L2_prompt1_r1.json\n"
          ]
        },
        {
          "output_type": "stream",
          "name": "stderr",
          "text": [
            "Setting `pad_token_id` to `eos_token_id`:151645 for open-end generation.\n"
          ]
        },
        {
          "output_type": "stream",
          "name": "stdout",
          "text": [
            "  ✔ prompt2: infer_img() full-res ok\n",
            " Saved results to /content/drive/MyDrive/RQ1_Experiments/results/InternVL3-8B/RQ1_InternVL3-8B_8B_country_L2_prompt2_r1.json\n"
          ]
        },
        {
          "output_type": "stream",
          "name": "stderr",
          "text": [
            "Setting `pad_token_id` to `eos_token_id`:151645 for open-end generation.\n"
          ]
        },
        {
          "output_type": "stream",
          "name": "stdout",
          "text": [
            "  ✔ prompt3: infer_img() full-res ok\n",
            " Saved results to /content/drive/MyDrive/RQ1_Experiments/results/InternVL3-8B/RQ1_InternVL3-8B_8B_country_L2_prompt3_r1.json\n"
          ]
        },
        {
          "output_type": "stream",
          "name": "stderr",
          "text": [
            "Setting `pad_token_id` to `eos_token_id`:151645 for open-end generation.\n"
          ]
        },
        {
          "output_type": "stream",
          "name": "stdout",
          "text": [
            "  ✔ prompt4: infer_img() full-res ok\n",
            " Saved results to /content/drive/MyDrive/RQ1_Experiments/results/InternVL3-8B/RQ1_InternVL3-8B_8B_country_L2_prompt4_r1.json\n",
            "------------------------------------------------------\n",
            "\n",
            "Processing 2/360: /content/drive/MyDrive/RQ1_Experiments/RQ1_Data_Batch1/Africa/Benin/Africa_Benin_B3_MIDDLE.png\n"
          ]
        },
        {
          "output_type": "stream",
          "name": "stderr",
          "text": [
            "Setting `pad_token_id` to `eos_token_id`:151645 for open-end generation.\n"
          ]
        },
        {
          "output_type": "stream",
          "name": "stdout",
          "text": [
            "  ✔ prompt1: infer_img() full-res ok\n",
            " Saved results to /content/drive/MyDrive/RQ1_Experiments/results/InternVL3-8B/RQ1_InternVL3-8B_8B_country_L2_prompt1_r1.json\n"
          ]
        },
        {
          "output_type": "stream",
          "name": "stderr",
          "text": [
            "Setting `pad_token_id` to `eos_token_id`:151645 for open-end generation.\n"
          ]
        },
        {
          "output_type": "stream",
          "name": "stdout",
          "text": [
            "  ✔ prompt2: infer_img() full-res ok\n",
            " Saved results to /content/drive/MyDrive/RQ1_Experiments/results/InternVL3-8B/RQ1_InternVL3-8B_8B_country_L2_prompt2_r1.json\n"
          ]
        },
        {
          "output_type": "stream",
          "name": "stderr",
          "text": [
            "Setting `pad_token_id` to `eos_token_id`:151645 for open-end generation.\n"
          ]
        },
        {
          "output_type": "stream",
          "name": "stdout",
          "text": [
            "  ✔ prompt3: infer_img() full-res ok\n",
            " Saved results to /content/drive/MyDrive/RQ1_Experiments/results/InternVL3-8B/RQ1_InternVL3-8B_8B_country_L2_prompt3_r1.json\n"
          ]
        },
        {
          "output_type": "stream",
          "name": "stderr",
          "text": [
            "Setting `pad_token_id` to `eos_token_id`:151645 for open-end generation.\n"
          ]
        },
        {
          "output_type": "stream",
          "name": "stdout",
          "text": [
            "  ✔ prompt4: infer_img() full-res ok\n",
            " Saved results to /content/drive/MyDrive/RQ1_Experiments/results/InternVL3-8B/RQ1_InternVL3-8B_8B_country_L2_prompt4_r1.json\n",
            "------------------------------------------------------\n",
            "\n",
            "Processing 3/360: /content/drive/MyDrive/RQ1_Experiments/RQ1_Data_Batch1/Africa/Benin/Africa_Benin_B4_MIDDLE.png\n"
          ]
        },
        {
          "output_type": "stream",
          "name": "stderr",
          "text": [
            "Setting `pad_token_id` to `eos_token_id`:151645 for open-end generation.\n"
          ]
        },
        {
          "output_type": "stream",
          "name": "stdout",
          "text": [
            "  ✔ prompt1: infer_img() full-res ok\n",
            " Saved results to /content/drive/MyDrive/RQ1_Experiments/results/InternVL3-8B/RQ1_InternVL3-8B_8B_country_L2_prompt1_r1.json\n"
          ]
        },
        {
          "output_type": "stream",
          "name": "stderr",
          "text": [
            "Setting `pad_token_id` to `eos_token_id`:151645 for open-end generation.\n"
          ]
        },
        {
          "output_type": "stream",
          "name": "stdout",
          "text": [
            "  ✔ prompt2: infer_img() full-res ok\n",
            " Saved results to /content/drive/MyDrive/RQ1_Experiments/results/InternVL3-8B/RQ1_InternVL3-8B_8B_country_L2_prompt2_r1.json\n"
          ]
        },
        {
          "output_type": "stream",
          "name": "stderr",
          "text": [
            "Setting `pad_token_id` to `eos_token_id`:151645 for open-end generation.\n"
          ]
        },
        {
          "output_type": "stream",
          "name": "stdout",
          "text": [
            "  ✔ prompt3: infer_img() full-res ok\n",
            " Saved results to /content/drive/MyDrive/RQ1_Experiments/results/InternVL3-8B/RQ1_InternVL3-8B_8B_country_L2_prompt3_r1.json\n"
          ]
        },
        {
          "output_type": "stream",
          "name": "stderr",
          "text": [
            "Setting `pad_token_id` to `eos_token_id`:151645 for open-end generation.\n"
          ]
        },
        {
          "output_type": "stream",
          "name": "stdout",
          "text": [
            "  ✔ prompt4: infer_img() full-res ok\n",
            " Saved results to /content/drive/MyDrive/RQ1_Experiments/results/InternVL3-8B/RQ1_InternVL3-8B_8B_country_L2_prompt4_r1.json\n",
            "------------------------------------------------------\n",
            "\n",
            "Processing 4/360: /content/drive/MyDrive/RQ1_Experiments/RQ1_Data_Batch1/Africa/Benin/Africa_Benin_B7_MIDDLE.png\n"
          ]
        },
        {
          "output_type": "stream",
          "name": "stderr",
          "text": [
            "Setting `pad_token_id` to `eos_token_id`:151645 for open-end generation.\n"
          ]
        },
        {
          "output_type": "stream",
          "name": "stdout",
          "text": [
            "  ✔ prompt1: infer_img() full-res ok\n",
            " Saved results to /content/drive/MyDrive/RQ1_Experiments/results/InternVL3-8B/RQ1_InternVL3-8B_8B_country_L2_prompt1_r1.json\n"
          ]
        },
        {
          "output_type": "stream",
          "name": "stderr",
          "text": [
            "Setting `pad_token_id` to `eos_token_id`:151645 for open-end generation.\n"
          ]
        },
        {
          "output_type": "stream",
          "name": "stdout",
          "text": [
            "  ✔ prompt2: infer_img() full-res ok\n",
            " Saved results to /content/drive/MyDrive/RQ1_Experiments/results/InternVL3-8B/RQ1_InternVL3-8B_8B_country_L2_prompt2_r1.json\n"
          ]
        },
        {
          "output_type": "stream",
          "name": "stderr",
          "text": [
            "Setting `pad_token_id` to `eos_token_id`:151645 for open-end generation.\n"
          ]
        },
        {
          "output_type": "stream",
          "name": "stdout",
          "text": [
            "  ✔ prompt3: infer_img() full-res ok\n",
            " Saved results to /content/drive/MyDrive/RQ1_Experiments/results/InternVL3-8B/RQ1_InternVL3-8B_8B_country_L2_prompt3_r1.json\n"
          ]
        },
        {
          "output_type": "stream",
          "name": "stderr",
          "text": [
            "Setting `pad_token_id` to `eos_token_id`:151645 for open-end generation.\n"
          ]
        },
        {
          "output_type": "stream",
          "name": "stdout",
          "text": [
            "  ✔ prompt4: infer_img() full-res ok\n",
            " Saved results to /content/drive/MyDrive/RQ1_Experiments/results/InternVL3-8B/RQ1_InternVL3-8B_8B_country_L2_prompt4_r1.json\n",
            "------------------------------------------------------\n",
            "\n",
            "Processing 5/360: /content/drive/MyDrive/RQ1_Experiments/RQ1_Data_Batch1/Africa/Benin/Africa_Benin_B8_MIDDLE.png\n"
          ]
        },
        {
          "output_type": "stream",
          "name": "stderr",
          "text": [
            "Setting `pad_token_id` to `eos_token_id`:151645 for open-end generation.\n"
          ]
        },
        {
          "output_type": "stream",
          "name": "stdout",
          "text": [
            "  ✔ prompt1: infer_img() full-res ok\n",
            " Saved results to /content/drive/MyDrive/RQ1_Experiments/results/InternVL3-8B/RQ1_InternVL3-8B_8B_country_L2_prompt1_r1.json\n"
          ]
        },
        {
          "output_type": "stream",
          "name": "stderr",
          "text": [
            "Setting `pad_token_id` to `eos_token_id`:151645 for open-end generation.\n"
          ]
        },
        {
          "output_type": "stream",
          "name": "stdout",
          "text": [
            "  ✔ prompt2: infer_img() full-res ok\n",
            " Saved results to /content/drive/MyDrive/RQ1_Experiments/results/InternVL3-8B/RQ1_InternVL3-8B_8B_country_L2_prompt2_r1.json\n"
          ]
        },
        {
          "output_type": "stream",
          "name": "stderr",
          "text": [
            "Setting `pad_token_id` to `eos_token_id`:151645 for open-end generation.\n"
          ]
        },
        {
          "output_type": "stream",
          "name": "stdout",
          "text": [
            "  ✔ prompt3: infer_img() full-res ok\n",
            " Saved results to /content/drive/MyDrive/RQ1_Experiments/results/InternVL3-8B/RQ1_InternVL3-8B_8B_country_L2_prompt3_r1.json\n"
          ]
        },
        {
          "output_type": "stream",
          "name": "stderr",
          "text": [
            "Setting `pad_token_id` to `eos_token_id`:151645 for open-end generation.\n"
          ]
        },
        {
          "output_type": "stream",
          "name": "stdout",
          "text": [
            "  ✔ prompt4: infer_img() full-res ok\n",
            " Saved results to /content/drive/MyDrive/RQ1_Experiments/results/InternVL3-8B/RQ1_InternVL3-8B_8B_country_L2_prompt4_r1.json\n",
            "------------------------------------------------------\n",
            "\n",
            "Processing 6/360: /content/drive/MyDrive/RQ1_Experiments/RQ1_Data_Batch1/Africa/Benin/Africa_Benin_B9_MIDDLE.png\n"
          ]
        },
        {
          "output_type": "stream",
          "name": "stderr",
          "text": [
            "Setting `pad_token_id` to `eos_token_id`:151645 for open-end generation.\n"
          ]
        },
        {
          "output_type": "stream",
          "name": "stdout",
          "text": [
            "  ✔ prompt1: infer_img() full-res ok\n",
            " Saved results to /content/drive/MyDrive/RQ1_Experiments/results/InternVL3-8B/RQ1_InternVL3-8B_8B_country_L2_prompt1_r1.json\n"
          ]
        },
        {
          "output_type": "stream",
          "name": "stderr",
          "text": [
            "Setting `pad_token_id` to `eos_token_id`:151645 for open-end generation.\n"
          ]
        },
        {
          "output_type": "stream",
          "name": "stdout",
          "text": [
            "  ✔ prompt2: infer_img() full-res ok\n",
            " Saved results to /content/drive/MyDrive/RQ1_Experiments/results/InternVL3-8B/RQ1_InternVL3-8B_8B_country_L2_prompt2_r1.json\n"
          ]
        },
        {
          "output_type": "stream",
          "name": "stderr",
          "text": [
            "Setting `pad_token_id` to `eos_token_id`:151645 for open-end generation.\n"
          ]
        },
        {
          "output_type": "stream",
          "name": "stdout",
          "text": [
            "  ✔ prompt3: infer_img() full-res ok\n",
            " Saved results to /content/drive/MyDrive/RQ1_Experiments/results/InternVL3-8B/RQ1_InternVL3-8B_8B_country_L2_prompt3_r1.json\n"
          ]
        },
        {
          "output_type": "stream",
          "name": "stderr",
          "text": [
            "Setting `pad_token_id` to `eos_token_id`:151645 for open-end generation.\n"
          ]
        },
        {
          "output_type": "stream",
          "name": "stdout",
          "text": [
            "  ✔ prompt4: infer_img() full-res ok\n",
            " Saved results to /content/drive/MyDrive/RQ1_Experiments/results/InternVL3-8B/RQ1_InternVL3-8B_8B_country_L2_prompt4_r1.json\n",
            "------------------------------------------------------\n",
            "\n",
            "Processing 7/360: /content/drive/MyDrive/RQ1_Experiments/RQ1_Data_Batch1/Africa/Cape Verde/Africa_Cape Verde_CV1_LAST.PNG\n"
          ]
        },
        {
          "output_type": "stream",
          "name": "stderr",
          "text": [
            "Setting `pad_token_id` to `eos_token_id`:151645 for open-end generation.\n"
          ]
        },
        {
          "output_type": "stream",
          "name": "stdout",
          "text": [
            "  ✔ prompt1: infer_img() full-res ok\n",
            " Saved results to /content/drive/MyDrive/RQ1_Experiments/results/InternVL3-8B/RQ1_InternVL3-8B_8B_country_L2_prompt1_r1.json\n"
          ]
        },
        {
          "output_type": "stream",
          "name": "stderr",
          "text": [
            "Setting `pad_token_id` to `eos_token_id`:151645 for open-end generation.\n"
          ]
        },
        {
          "output_type": "stream",
          "name": "stdout",
          "text": [
            "  ✔ prompt2: infer_img() full-res ok\n",
            " Saved results to /content/drive/MyDrive/RQ1_Experiments/results/InternVL3-8B/RQ1_InternVL3-8B_8B_country_L2_prompt2_r1.json\n"
          ]
        },
        {
          "output_type": "stream",
          "name": "stderr",
          "text": [
            "Setting `pad_token_id` to `eos_token_id`:151645 for open-end generation.\n"
          ]
        },
        {
          "output_type": "stream",
          "name": "stdout",
          "text": [
            "  ✔ prompt3: infer_img() full-res ok\n",
            " Saved results to /content/drive/MyDrive/RQ1_Experiments/results/InternVL3-8B/RQ1_InternVL3-8B_8B_country_L2_prompt3_r1.json\n"
          ]
        },
        {
          "output_type": "stream",
          "name": "stderr",
          "text": [
            "Setting `pad_token_id` to `eos_token_id`:151645 for open-end generation.\n"
          ]
        },
        {
          "output_type": "stream",
          "name": "stdout",
          "text": [
            "  ✔ prompt4: infer_img() full-res ok\n",
            " Saved results to /content/drive/MyDrive/RQ1_Experiments/results/InternVL3-8B/RQ1_InternVL3-8B_8B_country_L2_prompt4_r1.json\n",
            "------------------------------------------------------\n",
            "\n",
            "Processing 8/360: /content/drive/MyDrive/RQ1_Experiments/RQ1_Data_Batch1/Africa/Cape Verde/Africa_Cape Verde_CV2_LAST.png\n"
          ]
        },
        {
          "output_type": "stream",
          "name": "stderr",
          "text": [
            "Setting `pad_token_id` to `eos_token_id`:151645 for open-end generation.\n"
          ]
        },
        {
          "output_type": "stream",
          "name": "stdout",
          "text": [
            "  ✔ prompt1: infer_img() full-res ok\n",
            " Saved results to /content/drive/MyDrive/RQ1_Experiments/results/InternVL3-8B/RQ1_InternVL3-8B_8B_country_L2_prompt1_r1.json\n"
          ]
        },
        {
          "output_type": "stream",
          "name": "stderr",
          "text": [
            "Setting `pad_token_id` to `eos_token_id`:151645 for open-end generation.\n"
          ]
        },
        {
          "output_type": "stream",
          "name": "stdout",
          "text": [
            "  ✔ prompt2: infer_img() full-res ok\n",
            " Saved results to /content/drive/MyDrive/RQ1_Experiments/results/InternVL3-8B/RQ1_InternVL3-8B_8B_country_L2_prompt2_r1.json\n"
          ]
        },
        {
          "output_type": "stream",
          "name": "stderr",
          "text": [
            "Setting `pad_token_id` to `eos_token_id`:151645 for open-end generation.\n"
          ]
        },
        {
          "output_type": "stream",
          "name": "stdout",
          "text": [
            "  ✔ prompt3: infer_img() full-res ok\n",
            " Saved results to /content/drive/MyDrive/RQ1_Experiments/results/InternVL3-8B/RQ1_InternVL3-8B_8B_country_L2_prompt3_r1.json\n"
          ]
        },
        {
          "output_type": "stream",
          "name": "stderr",
          "text": [
            "Setting `pad_token_id` to `eos_token_id`:151645 for open-end generation.\n"
          ]
        },
        {
          "output_type": "stream",
          "name": "stdout",
          "text": [
            "  ✔ prompt4: infer_img() full-res ok\n",
            " Saved results to /content/drive/MyDrive/RQ1_Experiments/results/InternVL3-8B/RQ1_InternVL3-8B_8B_country_L2_prompt4_r1.json\n",
            "------------------------------------------------------\n",
            "\n",
            "Processing 9/360: /content/drive/MyDrive/RQ1_Experiments/RQ1_Data_Batch1/Africa/Cape Verde/Africa_Cape Verde_CV3_LAST.JPG\n"
          ]
        },
        {
          "output_type": "stream",
          "name": "stderr",
          "text": [
            "Setting `pad_token_id` to `eos_token_id`:151645 for open-end generation.\n"
          ]
        },
        {
          "output_type": "stream",
          "name": "stdout",
          "text": [
            "  ✔ prompt1: infer_img() full-res ok\n",
            " Saved results to /content/drive/MyDrive/RQ1_Experiments/results/InternVL3-8B/RQ1_InternVL3-8B_8B_country_L2_prompt1_r1.json\n"
          ]
        },
        {
          "output_type": "stream",
          "name": "stderr",
          "text": [
            "Setting `pad_token_id` to `eos_token_id`:151645 for open-end generation.\n"
          ]
        },
        {
          "output_type": "stream",
          "name": "stdout",
          "text": [
            "  ✔ prompt2: infer_img() full-res ok\n",
            " Saved results to /content/drive/MyDrive/RQ1_Experiments/results/InternVL3-8B/RQ1_InternVL3-8B_8B_country_L2_prompt2_r1.json\n"
          ]
        },
        {
          "output_type": "stream",
          "name": "stderr",
          "text": [
            "Setting `pad_token_id` to `eos_token_id`:151645 for open-end generation.\n"
          ]
        },
        {
          "output_type": "stream",
          "name": "stdout",
          "text": [
            "  ✔ prompt3: infer_img() full-res ok\n",
            " Saved results to /content/drive/MyDrive/RQ1_Experiments/results/InternVL3-8B/RQ1_InternVL3-8B_8B_country_L2_prompt3_r1.json\n"
          ]
        },
        {
          "output_type": "stream",
          "name": "stderr",
          "text": [
            "Setting `pad_token_id` to `eos_token_id`:151645 for open-end generation.\n"
          ]
        },
        {
          "output_type": "stream",
          "name": "stdout",
          "text": [
            "  ✔ prompt4: infer_img() full-res ok\n",
            " Saved results to /content/drive/MyDrive/RQ1_Experiments/results/InternVL3-8B/RQ1_InternVL3-8B_8B_country_L2_prompt4_r1.json\n",
            "------------------------------------------------------\n",
            "\n",
            "Processing 10/360: /content/drive/MyDrive/RQ1_Experiments/RQ1_Data_Batch1/Africa/Cape Verde/Africa_Cape Verde_CV4_LAST.jpg\n"
          ]
        },
        {
          "output_type": "stream",
          "name": "stderr",
          "text": [
            "Setting `pad_token_id` to `eos_token_id`:151645 for open-end generation.\n"
          ]
        },
        {
          "output_type": "stream",
          "name": "stdout",
          "text": [
            "  ✔ prompt1: infer_img() full-res ok\n",
            " Saved results to /content/drive/MyDrive/RQ1_Experiments/results/InternVL3-8B/RQ1_InternVL3-8B_8B_country_L2_prompt1_r1.json\n"
          ]
        },
        {
          "output_type": "stream",
          "name": "stderr",
          "text": [
            "Setting `pad_token_id` to `eos_token_id`:151645 for open-end generation.\n"
          ]
        },
        {
          "output_type": "stream",
          "name": "stdout",
          "text": [
            "  ✔ prompt2: infer_img() full-res ok\n",
            " Saved results to /content/drive/MyDrive/RQ1_Experiments/results/InternVL3-8B/RQ1_InternVL3-8B_8B_country_L2_prompt2_r1.json\n"
          ]
        },
        {
          "output_type": "stream",
          "name": "stderr",
          "text": [
            "Setting `pad_token_id` to `eos_token_id`:151645 for open-end generation.\n"
          ]
        },
        {
          "output_type": "stream",
          "name": "stdout",
          "text": [
            "  ✔ prompt3: infer_img() full-res ok\n",
            " Saved results to /content/drive/MyDrive/RQ1_Experiments/results/InternVL3-8B/RQ1_InternVL3-8B_8B_country_L2_prompt3_r1.json\n"
          ]
        },
        {
          "output_type": "stream",
          "name": "stderr",
          "text": [
            "Setting `pad_token_id` to `eos_token_id`:151645 for open-end generation.\n"
          ]
        },
        {
          "output_type": "stream",
          "name": "stdout",
          "text": [
            "  ✔ prompt4: infer_img() full-res ok\n",
            " Saved results to /content/drive/MyDrive/RQ1_Experiments/results/InternVL3-8B/RQ1_InternVL3-8B_8B_country_L2_prompt4_r1.json\n",
            "------------------------------------------------------\n",
            "\n",
            "Processing 11/360: /content/drive/MyDrive/RQ1_Experiments/RQ1_Data_Batch1/Africa/Cape Verde/Africa_Cape Verde_CV5_LAST.PNG\n"
          ]
        },
        {
          "output_type": "stream",
          "name": "stderr",
          "text": [
            "Setting `pad_token_id` to `eos_token_id`:151645 for open-end generation.\n"
          ]
        },
        {
          "output_type": "stream",
          "name": "stdout",
          "text": [
            "  ✔ prompt1: infer_img() full-res ok\n",
            " Saved results to /content/drive/MyDrive/RQ1_Experiments/results/InternVL3-8B/RQ1_InternVL3-8B_8B_country_L2_prompt1_r1.json\n"
          ]
        },
        {
          "output_type": "stream",
          "name": "stderr",
          "text": [
            "Setting `pad_token_id` to `eos_token_id`:151645 for open-end generation.\n"
          ]
        },
        {
          "output_type": "stream",
          "name": "stdout",
          "text": [
            "  ✔ prompt2: infer_img() full-res ok\n",
            " Saved results to /content/drive/MyDrive/RQ1_Experiments/results/InternVL3-8B/RQ1_InternVL3-8B_8B_country_L2_prompt2_r1.json\n"
          ]
        },
        {
          "output_type": "stream",
          "name": "stderr",
          "text": [
            "Setting `pad_token_id` to `eos_token_id`:151645 for open-end generation.\n"
          ]
        },
        {
          "output_type": "stream",
          "name": "stdout",
          "text": [
            "  ✔ prompt3: infer_img() full-res ok\n",
            " Saved results to /content/drive/MyDrive/RQ1_Experiments/results/InternVL3-8B/RQ1_InternVL3-8B_8B_country_L2_prompt3_r1.json\n"
          ]
        },
        {
          "output_type": "stream",
          "name": "stderr",
          "text": [
            "Setting `pad_token_id` to `eos_token_id`:151645 for open-end generation.\n"
          ]
        },
        {
          "output_type": "stream",
          "name": "stdout",
          "text": [
            "  ✔ prompt4: infer_img() full-res ok\n",
            " Saved results to /content/drive/MyDrive/RQ1_Experiments/results/InternVL3-8B/RQ1_InternVL3-8B_8B_country_L2_prompt4_r1.json\n",
            "------------------------------------------------------\n",
            "\n",
            "Processing 12/360: /content/drive/MyDrive/RQ1_Experiments/RQ1_Data_Batch1/Africa/Eritrea/Africa_Eritrea_ER1_LAST.jpg\n"
          ]
        },
        {
          "output_type": "stream",
          "name": "stderr",
          "text": [
            "Setting `pad_token_id` to `eos_token_id`:151645 for open-end generation.\n"
          ]
        },
        {
          "output_type": "stream",
          "name": "stdout",
          "text": [
            "  ✔ prompt1: infer_img() full-res ok\n",
            " Saved results to /content/drive/MyDrive/RQ1_Experiments/results/InternVL3-8B/RQ1_InternVL3-8B_8B_country_L2_prompt1_r1.json\n"
          ]
        },
        {
          "output_type": "stream",
          "name": "stderr",
          "text": [
            "Setting `pad_token_id` to `eos_token_id`:151645 for open-end generation.\n"
          ]
        },
        {
          "output_type": "stream",
          "name": "stdout",
          "text": [
            "  ✔ prompt2: infer_img() full-res ok\n",
            " Saved results to /content/drive/MyDrive/RQ1_Experiments/results/InternVL3-8B/RQ1_InternVL3-8B_8B_country_L2_prompt2_r1.json\n"
          ]
        },
        {
          "output_type": "stream",
          "name": "stderr",
          "text": [
            "Setting `pad_token_id` to `eos_token_id`:151645 for open-end generation.\n"
          ]
        },
        {
          "output_type": "stream",
          "name": "stdout",
          "text": [
            "  ✔ prompt3: infer_img() full-res ok\n",
            " Saved results to /content/drive/MyDrive/RQ1_Experiments/results/InternVL3-8B/RQ1_InternVL3-8B_8B_country_L2_prompt3_r1.json\n"
          ]
        },
        {
          "output_type": "stream",
          "name": "stderr",
          "text": [
            "Setting `pad_token_id` to `eos_token_id`:151645 for open-end generation.\n"
          ]
        },
        {
          "output_type": "stream",
          "name": "stdout",
          "text": [
            "  ✔ prompt4: infer_img() full-res ok\n",
            " Saved results to /content/drive/MyDrive/RQ1_Experiments/results/InternVL3-8B/RQ1_InternVL3-8B_8B_country_L2_prompt4_r1.json\n",
            "------------------------------------------------------\n",
            "\n",
            "Processing 13/360: /content/drive/MyDrive/RQ1_Experiments/RQ1_Data_Batch1/Africa/Eritrea/Africa_Eritrea_ER2_LAST.jpg\n"
          ]
        },
        {
          "output_type": "stream",
          "name": "stderr",
          "text": [
            "Setting `pad_token_id` to `eos_token_id`:151645 for open-end generation.\n"
          ]
        },
        {
          "output_type": "stream",
          "name": "stdout",
          "text": [
            "  ✔ prompt1: infer_img() full-res ok\n",
            " Saved results to /content/drive/MyDrive/RQ1_Experiments/results/InternVL3-8B/RQ1_InternVL3-8B_8B_country_L2_prompt1_r1.json\n"
          ]
        },
        {
          "output_type": "stream",
          "name": "stderr",
          "text": [
            "Setting `pad_token_id` to `eos_token_id`:151645 for open-end generation.\n"
          ]
        },
        {
          "output_type": "stream",
          "name": "stdout",
          "text": [
            "  ✔ prompt2: infer_img() full-res ok\n",
            " Saved results to /content/drive/MyDrive/RQ1_Experiments/results/InternVL3-8B/RQ1_InternVL3-8B_8B_country_L2_prompt2_r1.json\n"
          ]
        },
        {
          "output_type": "stream",
          "name": "stderr",
          "text": [
            "Setting `pad_token_id` to `eos_token_id`:151645 for open-end generation.\n"
          ]
        },
        {
          "output_type": "stream",
          "name": "stdout",
          "text": [
            "  ✔ prompt3: infer_img() full-res ok\n",
            " Saved results to /content/drive/MyDrive/RQ1_Experiments/results/InternVL3-8B/RQ1_InternVL3-8B_8B_country_L2_prompt3_r1.json\n"
          ]
        },
        {
          "output_type": "stream",
          "name": "stderr",
          "text": [
            "Setting `pad_token_id` to `eos_token_id`:151645 for open-end generation.\n"
          ]
        },
        {
          "output_type": "stream",
          "name": "stdout",
          "text": [
            "  ✔ prompt4: infer_img() full-res ok\n",
            " Saved results to /content/drive/MyDrive/RQ1_Experiments/results/InternVL3-8B/RQ1_InternVL3-8B_8B_country_L2_prompt4_r1.json\n",
            "------------------------------------------------------\n",
            "\n",
            "Processing 14/360: /content/drive/MyDrive/RQ1_Experiments/RQ1_Data_Batch1/Africa/Eritrea/Africa_Eritrea_ER3_LAST.jpg\n"
          ]
        },
        {
          "output_type": "stream",
          "name": "stderr",
          "text": [
            "Setting `pad_token_id` to `eos_token_id`:151645 for open-end generation.\n"
          ]
        },
        {
          "output_type": "stream",
          "name": "stdout",
          "text": [
            "  ✔ prompt1: infer_img() full-res ok\n",
            " Saved results to /content/drive/MyDrive/RQ1_Experiments/results/InternVL3-8B/RQ1_InternVL3-8B_8B_country_L2_prompt1_r1.json\n"
          ]
        },
        {
          "output_type": "stream",
          "name": "stderr",
          "text": [
            "Setting `pad_token_id` to `eos_token_id`:151645 for open-end generation.\n"
          ]
        },
        {
          "output_type": "stream",
          "name": "stdout",
          "text": [
            "  ✔ prompt2: infer_img() full-res ok\n",
            " Saved results to /content/drive/MyDrive/RQ1_Experiments/results/InternVL3-8B/RQ1_InternVL3-8B_8B_country_L2_prompt2_r1.json\n"
          ]
        },
        {
          "output_type": "stream",
          "name": "stderr",
          "text": [
            "Setting `pad_token_id` to `eos_token_id`:151645 for open-end generation.\n"
          ]
        },
        {
          "output_type": "stream",
          "name": "stdout",
          "text": [
            "  ✔ prompt3: infer_img() full-res ok\n",
            " Saved results to /content/drive/MyDrive/RQ1_Experiments/results/InternVL3-8B/RQ1_InternVL3-8B_8B_country_L2_prompt3_r1.json\n"
          ]
        },
        {
          "output_type": "stream",
          "name": "stderr",
          "text": [
            "Setting `pad_token_id` to `eos_token_id`:151645 for open-end generation.\n"
          ]
        },
        {
          "output_type": "stream",
          "name": "stdout",
          "text": [
            "  ✔ prompt4: infer_img() full-res ok\n",
            " Saved results to /content/drive/MyDrive/RQ1_Experiments/results/InternVL3-8B/RQ1_InternVL3-8B_8B_country_L2_prompt4_r1.json\n",
            "------------------------------------------------------\n",
            "\n",
            "Processing 15/360: /content/drive/MyDrive/RQ1_Experiments/RQ1_Data_Batch1/Africa/Eritrea/Africa_Eritrea_ER4_LAST.png\n"
          ]
        },
        {
          "output_type": "stream",
          "name": "stderr",
          "text": [
            "Setting `pad_token_id` to `eos_token_id`:151645 for open-end generation.\n"
          ]
        },
        {
          "output_type": "stream",
          "name": "stdout",
          "text": [
            "  ✔ prompt1: infer_img() full-res ok\n",
            " Saved results to /content/drive/MyDrive/RQ1_Experiments/results/InternVL3-8B/RQ1_InternVL3-8B_8B_country_L2_prompt1_r1.json\n"
          ]
        },
        {
          "output_type": "stream",
          "name": "stderr",
          "text": [
            "Setting `pad_token_id` to `eos_token_id`:151645 for open-end generation.\n"
          ]
        },
        {
          "output_type": "stream",
          "name": "stdout",
          "text": [
            "  ✔ prompt2: infer_img() full-res ok\n",
            " Saved results to /content/drive/MyDrive/RQ1_Experiments/results/InternVL3-8B/RQ1_InternVL3-8B_8B_country_L2_prompt2_r1.json\n"
          ]
        },
        {
          "output_type": "stream",
          "name": "stderr",
          "text": [
            "Setting `pad_token_id` to `eos_token_id`:151645 for open-end generation.\n"
          ]
        },
        {
          "output_type": "stream",
          "name": "stdout",
          "text": [
            "  ✔ prompt3: infer_img() full-res ok\n",
            " Saved results to /content/drive/MyDrive/RQ1_Experiments/results/InternVL3-8B/RQ1_InternVL3-8B_8B_country_L2_prompt3_r1.json\n"
          ]
        },
        {
          "output_type": "stream",
          "name": "stderr",
          "text": [
            "Setting `pad_token_id` to `eos_token_id`:151645 for open-end generation.\n"
          ]
        },
        {
          "output_type": "stream",
          "name": "stdout",
          "text": [
            "  ✔ prompt4: infer_img() full-res ok\n",
            " Saved results to /content/drive/MyDrive/RQ1_Experiments/results/InternVL3-8B/RQ1_InternVL3-8B_8B_country_L2_prompt4_r1.json\n",
            "------------------------------------------------------\n",
            "\n",
            "Processing 16/360: /content/drive/MyDrive/RQ1_Experiments/RQ1_Data_Batch1/Africa/Eritrea/Africa_Eritrea_ER5_LAST.jpg\n"
          ]
        },
        {
          "output_type": "stream",
          "name": "stderr",
          "text": [
            "Setting `pad_token_id` to `eos_token_id`:151645 for open-end generation.\n"
          ]
        },
        {
          "output_type": "stream",
          "name": "stdout",
          "text": [
            "  ✔ prompt1: infer_img() full-res ok\n",
            " Saved results to /content/drive/MyDrive/RQ1_Experiments/results/InternVL3-8B/RQ1_InternVL3-8B_8B_country_L2_prompt1_r1.json\n"
          ]
        },
        {
          "output_type": "stream",
          "name": "stderr",
          "text": [
            "Setting `pad_token_id` to `eos_token_id`:151645 for open-end generation.\n"
          ]
        },
        {
          "output_type": "stream",
          "name": "stdout",
          "text": [
            "  ✔ prompt2: infer_img() full-res ok\n",
            " Saved results to /content/drive/MyDrive/RQ1_Experiments/results/InternVL3-8B/RQ1_InternVL3-8B_8B_country_L2_prompt2_r1.json\n"
          ]
        },
        {
          "output_type": "stream",
          "name": "stderr",
          "text": [
            "Setting `pad_token_id` to `eos_token_id`:151645 for open-end generation.\n"
          ]
        },
        {
          "output_type": "stream",
          "name": "stdout",
          "text": [
            "  ✔ prompt3: infer_img() full-res ok\n",
            " Saved results to /content/drive/MyDrive/RQ1_Experiments/results/InternVL3-8B/RQ1_InternVL3-8B_8B_country_L2_prompt3_r1.json\n"
          ]
        },
        {
          "output_type": "stream",
          "name": "stderr",
          "text": [
            "Setting `pad_token_id` to `eos_token_id`:151645 for open-end generation.\n"
          ]
        },
        {
          "output_type": "stream",
          "name": "stdout",
          "text": [
            "  ✔ prompt4: infer_img() full-res ok\n",
            " Saved results to /content/drive/MyDrive/RQ1_Experiments/results/InternVL3-8B/RQ1_InternVL3-8B_8B_country_L2_prompt4_r1.json\n",
            "------------------------------------------------------\n",
            "\n",
            "Processing 17/360: /content/drive/MyDrive/RQ1_Experiments/RQ1_Data_Batch1/Africa/Eritrea/Africa_Eritrea_ER6_LAST.jpg\n"
          ]
        },
        {
          "output_type": "stream",
          "name": "stderr",
          "text": [
            "Setting `pad_token_id` to `eos_token_id`:151645 for open-end generation.\n"
          ]
        },
        {
          "output_type": "stream",
          "name": "stdout",
          "text": [
            "  ✔ prompt1: infer_img() full-res ok\n",
            " Saved results to /content/drive/MyDrive/RQ1_Experiments/results/InternVL3-8B/RQ1_InternVL3-8B_8B_country_L2_prompt1_r1.json\n"
          ]
        },
        {
          "output_type": "stream",
          "name": "stderr",
          "text": [
            "Setting `pad_token_id` to `eos_token_id`:151645 for open-end generation.\n"
          ]
        },
        {
          "output_type": "stream",
          "name": "stdout",
          "text": [
            "  ✔ prompt2: infer_img() full-res ok\n",
            " Saved results to /content/drive/MyDrive/RQ1_Experiments/results/InternVL3-8B/RQ1_InternVL3-8B_8B_country_L2_prompt2_r1.json\n"
          ]
        },
        {
          "output_type": "stream",
          "name": "stderr",
          "text": [
            "Setting `pad_token_id` to `eos_token_id`:151645 for open-end generation.\n"
          ]
        },
        {
          "output_type": "stream",
          "name": "stdout",
          "text": [
            "  ✔ prompt3: infer_img() full-res ok\n",
            " Saved results to /content/drive/MyDrive/RQ1_Experiments/results/InternVL3-8B/RQ1_InternVL3-8B_8B_country_L2_prompt3_r1.json\n"
          ]
        },
        {
          "output_type": "stream",
          "name": "stderr",
          "text": [
            "Setting `pad_token_id` to `eos_token_id`:151645 for open-end generation.\n"
          ]
        },
        {
          "output_type": "stream",
          "name": "stdout",
          "text": [
            "  ✔ prompt4: infer_img() full-res ok\n",
            " Saved results to /content/drive/MyDrive/RQ1_Experiments/results/InternVL3-8B/RQ1_InternVL3-8B_8B_country_L2_prompt4_r1.json\n",
            "------------------------------------------------------\n",
            "\n",
            "Processing 18/360: /content/drive/MyDrive/RQ1_Experiments/RQ1_Data_Batch1/Africa/Eswatini/Africa_Eswatini_E1_LAST.JPG\n"
          ]
        },
        {
          "output_type": "stream",
          "name": "stderr",
          "text": [
            "Setting `pad_token_id` to `eos_token_id`:151645 for open-end generation.\n"
          ]
        },
        {
          "output_type": "stream",
          "name": "stdout",
          "text": [
            "  ✔ prompt1: infer_img() full-res ok\n",
            " Saved results to /content/drive/MyDrive/RQ1_Experiments/results/InternVL3-8B/RQ1_InternVL3-8B_8B_country_L2_prompt1_r1.json\n"
          ]
        },
        {
          "output_type": "stream",
          "name": "stderr",
          "text": [
            "Setting `pad_token_id` to `eos_token_id`:151645 for open-end generation.\n"
          ]
        },
        {
          "output_type": "stream",
          "name": "stdout",
          "text": [
            "  ✔ prompt2: infer_img() full-res ok\n",
            " Saved results to /content/drive/MyDrive/RQ1_Experiments/results/InternVL3-8B/RQ1_InternVL3-8B_8B_country_L2_prompt2_r1.json\n"
          ]
        },
        {
          "output_type": "stream",
          "name": "stderr",
          "text": [
            "Setting `pad_token_id` to `eos_token_id`:151645 for open-end generation.\n"
          ]
        },
        {
          "output_type": "stream",
          "name": "stdout",
          "text": [
            "  ✔ prompt3: infer_img() full-res ok\n",
            " Saved results to /content/drive/MyDrive/RQ1_Experiments/results/InternVL3-8B/RQ1_InternVL3-8B_8B_country_L2_prompt3_r1.json\n"
          ]
        },
        {
          "output_type": "stream",
          "name": "stderr",
          "text": [
            "Setting `pad_token_id` to `eos_token_id`:151645 for open-end generation.\n"
          ]
        },
        {
          "output_type": "stream",
          "name": "stdout",
          "text": [
            "  ✔ prompt4: infer_img() full-res ok\n",
            " Saved results to /content/drive/MyDrive/RQ1_Experiments/results/InternVL3-8B/RQ1_InternVL3-8B_8B_country_L2_prompt4_r1.json\n",
            "------------------------------------------------------\n",
            "\n",
            "Processing 19/360: /content/drive/MyDrive/RQ1_Experiments/RQ1_Data_Batch1/Africa/Ethiopia/Africa_Ethiopia_E1_TOP.png\n"
          ]
        },
        {
          "output_type": "stream",
          "name": "stderr",
          "text": [
            "Setting `pad_token_id` to `eos_token_id`:151645 for open-end generation.\n"
          ]
        },
        {
          "output_type": "stream",
          "name": "stdout",
          "text": [
            "  ✔ prompt1: infer_img() full-res ok\n",
            " Saved results to /content/drive/MyDrive/RQ1_Experiments/results/InternVL3-8B/RQ1_InternVL3-8B_8B_country_L2_prompt1_r1.json\n"
          ]
        },
        {
          "output_type": "stream",
          "name": "stderr",
          "text": [
            "Setting `pad_token_id` to `eos_token_id`:151645 for open-end generation.\n"
          ]
        },
        {
          "output_type": "stream",
          "name": "stdout",
          "text": [
            "  ✔ prompt2: infer_img() full-res ok\n",
            " Saved results to /content/drive/MyDrive/RQ1_Experiments/results/InternVL3-8B/RQ1_InternVL3-8B_8B_country_L2_prompt2_r1.json\n"
          ]
        },
        {
          "output_type": "stream",
          "name": "stderr",
          "text": [
            "Setting `pad_token_id` to `eos_token_id`:151645 for open-end generation.\n"
          ]
        },
        {
          "output_type": "stream",
          "name": "stdout",
          "text": [
            "  ✔ prompt3: infer_img() full-res ok\n",
            " Saved results to /content/drive/MyDrive/RQ1_Experiments/results/InternVL3-8B/RQ1_InternVL3-8B_8B_country_L2_prompt3_r1.json\n"
          ]
        },
        {
          "output_type": "stream",
          "name": "stderr",
          "text": [
            "Setting `pad_token_id` to `eos_token_id`:151645 for open-end generation.\n"
          ]
        },
        {
          "output_type": "stream",
          "name": "stdout",
          "text": [
            "  ✔ prompt4: infer_img() full-res ok\n",
            " Saved results to /content/drive/MyDrive/RQ1_Experiments/results/InternVL3-8B/RQ1_InternVL3-8B_8B_country_L2_prompt4_r1.json\n",
            "------------------------------------------------------\n",
            "\n",
            "Processing 20/360: /content/drive/MyDrive/RQ1_Experiments/RQ1_Data_Batch1/Africa/Ethiopia/Africa_Ethiopia_E2_TOP.png\n"
          ]
        },
        {
          "output_type": "stream",
          "name": "stderr",
          "text": [
            "Setting `pad_token_id` to `eos_token_id`:151645 for open-end generation.\n"
          ]
        },
        {
          "output_type": "stream",
          "name": "stdout",
          "text": [
            "  ✔ prompt1: infer_img() full-res ok\n",
            " Saved results to /content/drive/MyDrive/RQ1_Experiments/results/InternVL3-8B/RQ1_InternVL3-8B_8B_country_L2_prompt1_r1.json\n"
          ]
        },
        {
          "output_type": "stream",
          "name": "stderr",
          "text": [
            "Setting `pad_token_id` to `eos_token_id`:151645 for open-end generation.\n"
          ]
        },
        {
          "output_type": "stream",
          "name": "stdout",
          "text": [
            "  ✔ prompt2: infer_img() full-res ok\n",
            " Saved results to /content/drive/MyDrive/RQ1_Experiments/results/InternVL3-8B/RQ1_InternVL3-8B_8B_country_L2_prompt2_r1.json\n"
          ]
        },
        {
          "output_type": "stream",
          "name": "stderr",
          "text": [
            "Setting `pad_token_id` to `eos_token_id`:151645 for open-end generation.\n"
          ]
        },
        {
          "output_type": "stream",
          "name": "stdout",
          "text": [
            "  ✔ prompt3: infer_img() full-res ok\n",
            " Saved results to /content/drive/MyDrive/RQ1_Experiments/results/InternVL3-8B/RQ1_InternVL3-8B_8B_country_L2_prompt3_r1.json\n"
          ]
        },
        {
          "output_type": "stream",
          "name": "stderr",
          "text": [
            "Setting `pad_token_id` to `eos_token_id`:151645 for open-end generation.\n"
          ]
        },
        {
          "output_type": "stream",
          "name": "stdout",
          "text": [
            "  ✔ prompt4: infer_img() full-res ok\n",
            " Saved results to /content/drive/MyDrive/RQ1_Experiments/results/InternVL3-8B/RQ1_InternVL3-8B_8B_country_L2_prompt4_r1.json\n",
            "------------------------------------------------------\n",
            "\n",
            "Processing 21/360: /content/drive/MyDrive/RQ1_Experiments/RQ1_Data_Batch1/Africa/Ethiopia/Africa_Ethiopia_E3_TOP.png\n"
          ]
        },
        {
          "output_type": "stream",
          "name": "stderr",
          "text": [
            "Setting `pad_token_id` to `eos_token_id`:151645 for open-end generation.\n"
          ]
        },
        {
          "output_type": "stream",
          "name": "stdout",
          "text": [
            "  ✔ prompt1: infer_img() full-res ok\n",
            " Saved results to /content/drive/MyDrive/RQ1_Experiments/results/InternVL3-8B/RQ1_InternVL3-8B_8B_country_L2_prompt1_r1.json\n"
          ]
        },
        {
          "output_type": "stream",
          "name": "stderr",
          "text": [
            "Setting `pad_token_id` to `eos_token_id`:151645 for open-end generation.\n"
          ]
        },
        {
          "output_type": "stream",
          "name": "stdout",
          "text": [
            "  ✔ prompt2: infer_img() full-res ok\n",
            " Saved results to /content/drive/MyDrive/RQ1_Experiments/results/InternVL3-8B/RQ1_InternVL3-8B_8B_country_L2_prompt2_r1.json\n"
          ]
        },
        {
          "output_type": "stream",
          "name": "stderr",
          "text": [
            "Setting `pad_token_id` to `eos_token_id`:151645 for open-end generation.\n"
          ]
        },
        {
          "output_type": "stream",
          "name": "stdout",
          "text": [
            "  ✔ prompt3: infer_img() full-res ok\n",
            " Saved results to /content/drive/MyDrive/RQ1_Experiments/results/InternVL3-8B/RQ1_InternVL3-8B_8B_country_L2_prompt3_r1.json\n"
          ]
        },
        {
          "output_type": "stream",
          "name": "stderr",
          "text": [
            "Setting `pad_token_id` to `eos_token_id`:151645 for open-end generation.\n"
          ]
        },
        {
          "output_type": "stream",
          "name": "stdout",
          "text": [
            "  ✔ prompt4: infer_img() full-res ok\n",
            " Saved results to /content/drive/MyDrive/RQ1_Experiments/results/InternVL3-8B/RQ1_InternVL3-8B_8B_country_L2_prompt4_r1.json\n",
            "------------------------------------------------------\n",
            "\n",
            "Processing 22/360: /content/drive/MyDrive/RQ1_Experiments/RQ1_Data_Batch1/Africa/Ethiopia/Africa_Ethiopia_E4_TOP.png\n"
          ]
        },
        {
          "output_type": "stream",
          "name": "stderr",
          "text": [
            "Setting `pad_token_id` to `eos_token_id`:151645 for open-end generation.\n"
          ]
        },
        {
          "output_type": "stream",
          "name": "stdout",
          "text": [
            "  ✔ prompt1: infer_img() full-res ok\n",
            " Saved results to /content/drive/MyDrive/RQ1_Experiments/results/InternVL3-8B/RQ1_InternVL3-8B_8B_country_L2_prompt1_r1.json\n"
          ]
        },
        {
          "output_type": "stream",
          "name": "stderr",
          "text": [
            "Setting `pad_token_id` to `eos_token_id`:151645 for open-end generation.\n"
          ]
        },
        {
          "output_type": "stream",
          "name": "stdout",
          "text": [
            "  ✔ prompt2: infer_img() full-res ok\n",
            " Saved results to /content/drive/MyDrive/RQ1_Experiments/results/InternVL3-8B/RQ1_InternVL3-8B_8B_country_L2_prompt2_r1.json\n"
          ]
        },
        {
          "output_type": "stream",
          "name": "stderr",
          "text": [
            "Setting `pad_token_id` to `eos_token_id`:151645 for open-end generation.\n"
          ]
        },
        {
          "output_type": "stream",
          "name": "stdout",
          "text": [
            "  ✔ prompt3: infer_img() full-res ok\n",
            " Saved results to /content/drive/MyDrive/RQ1_Experiments/results/InternVL3-8B/RQ1_InternVL3-8B_8B_country_L2_prompt3_r1.json\n"
          ]
        },
        {
          "output_type": "stream",
          "name": "stderr",
          "text": [
            "Setting `pad_token_id` to `eos_token_id`:151645 for open-end generation.\n"
          ]
        },
        {
          "output_type": "stream",
          "name": "stdout",
          "text": [
            "  ✔ prompt4: infer_img() full-res ok\n",
            " Saved results to /content/drive/MyDrive/RQ1_Experiments/results/InternVL3-8B/RQ1_InternVL3-8B_8B_country_L2_prompt4_r1.json\n",
            "------------------------------------------------------\n",
            "\n",
            "Processing 23/360: /content/drive/MyDrive/RQ1_Experiments/RQ1_Data_Batch1/Africa/Gambia/Africa_Gambia_G1_LAST.jpg\n"
          ]
        },
        {
          "output_type": "stream",
          "name": "stderr",
          "text": [
            "Setting `pad_token_id` to `eos_token_id`:151645 for open-end generation.\n"
          ]
        },
        {
          "output_type": "stream",
          "name": "stdout",
          "text": [
            "  ✔ prompt1: infer_img() full-res ok\n",
            " Saved results to /content/drive/MyDrive/RQ1_Experiments/results/InternVL3-8B/RQ1_InternVL3-8B_8B_country_L2_prompt1_r1.json\n"
          ]
        },
        {
          "output_type": "stream",
          "name": "stderr",
          "text": [
            "Setting `pad_token_id` to `eos_token_id`:151645 for open-end generation.\n"
          ]
        },
        {
          "output_type": "stream",
          "name": "stdout",
          "text": [
            "  ✔ prompt2: infer_img() full-res ok\n",
            " Saved results to /content/drive/MyDrive/RQ1_Experiments/results/InternVL3-8B/RQ1_InternVL3-8B_8B_country_L2_prompt2_r1.json\n"
          ]
        },
        {
          "output_type": "stream",
          "name": "stderr",
          "text": [
            "Setting `pad_token_id` to `eos_token_id`:151645 for open-end generation.\n"
          ]
        },
        {
          "output_type": "stream",
          "name": "stdout",
          "text": [
            "  ✔ prompt3: infer_img() full-res ok\n",
            " Saved results to /content/drive/MyDrive/RQ1_Experiments/results/InternVL3-8B/RQ1_InternVL3-8B_8B_country_L2_prompt3_r1.json\n"
          ]
        },
        {
          "output_type": "stream",
          "name": "stderr",
          "text": [
            "Setting `pad_token_id` to `eos_token_id`:151645 for open-end generation.\n"
          ]
        },
        {
          "output_type": "stream",
          "name": "stdout",
          "text": [
            "  ✔ prompt4: infer_img() full-res ok\n",
            " Saved results to /content/drive/MyDrive/RQ1_Experiments/results/InternVL3-8B/RQ1_InternVL3-8B_8B_country_L2_prompt4_r1.json\n",
            "------------------------------------------------------\n",
            "\n",
            "Processing 24/360: /content/drive/MyDrive/RQ1_Experiments/RQ1_Data_Batch1/Africa/Malawi/Africa_Malawi_MW1_MIDDLE.JPG\n"
          ]
        },
        {
          "output_type": "stream",
          "name": "stderr",
          "text": [
            "Setting `pad_token_id` to `eos_token_id`:151645 for open-end generation.\n"
          ]
        },
        {
          "output_type": "stream",
          "name": "stdout",
          "text": [
            "  ✔ prompt1: infer_img() full-res ok\n",
            " Saved results to /content/drive/MyDrive/RQ1_Experiments/results/InternVL3-8B/RQ1_InternVL3-8B_8B_country_L2_prompt1_r1.json\n"
          ]
        },
        {
          "output_type": "stream",
          "name": "stderr",
          "text": [
            "Setting `pad_token_id` to `eos_token_id`:151645 for open-end generation.\n"
          ]
        },
        {
          "output_type": "stream",
          "name": "stdout",
          "text": [
            "  ✔ prompt2: infer_img() full-res ok\n",
            " Saved results to /content/drive/MyDrive/RQ1_Experiments/results/InternVL3-8B/RQ1_InternVL3-8B_8B_country_L2_prompt2_r1.json\n"
          ]
        },
        {
          "output_type": "stream",
          "name": "stderr",
          "text": [
            "Setting `pad_token_id` to `eos_token_id`:151645 for open-end generation.\n"
          ]
        },
        {
          "output_type": "stream",
          "name": "stdout",
          "text": [
            "  ✔ prompt3: infer_img() full-res ok\n",
            " Saved results to /content/drive/MyDrive/RQ1_Experiments/results/InternVL3-8B/RQ1_InternVL3-8B_8B_country_L2_prompt3_r1.json\n"
          ]
        },
        {
          "output_type": "stream",
          "name": "stderr",
          "text": [
            "Setting `pad_token_id` to `eos_token_id`:151645 for open-end generation.\n"
          ]
        },
        {
          "output_type": "stream",
          "name": "stdout",
          "text": [
            "  ✔ prompt4: infer_img() full-res ok\n",
            " Saved results to /content/drive/MyDrive/RQ1_Experiments/results/InternVL3-8B/RQ1_InternVL3-8B_8B_country_L2_prompt4_r1.json\n",
            "------------------------------------------------------\n",
            "\n",
            "Processing 25/360: /content/drive/MyDrive/RQ1_Experiments/RQ1_Data_Batch1/Africa/Malawi/Africa_Malawi_MW2_MIDDLE.JPG\n"
          ]
        },
        {
          "output_type": "stream",
          "name": "stderr",
          "text": [
            "Setting `pad_token_id` to `eos_token_id`:151645 for open-end generation.\n"
          ]
        },
        {
          "output_type": "stream",
          "name": "stdout",
          "text": [
            "  ✔ prompt1: infer_img() full-res ok\n",
            " Saved results to /content/drive/MyDrive/RQ1_Experiments/results/InternVL3-8B/RQ1_InternVL3-8B_8B_country_L2_prompt1_r1.json\n"
          ]
        },
        {
          "output_type": "stream",
          "name": "stderr",
          "text": [
            "Setting `pad_token_id` to `eos_token_id`:151645 for open-end generation.\n"
          ]
        },
        {
          "output_type": "stream",
          "name": "stdout",
          "text": [
            "  ✔ prompt2: infer_img() full-res ok\n",
            " Saved results to /content/drive/MyDrive/RQ1_Experiments/results/InternVL3-8B/RQ1_InternVL3-8B_8B_country_L2_prompt2_r1.json\n"
          ]
        },
        {
          "output_type": "stream",
          "name": "stderr",
          "text": [
            "Setting `pad_token_id` to `eos_token_id`:151645 for open-end generation.\n"
          ]
        },
        {
          "output_type": "stream",
          "name": "stdout",
          "text": [
            "  ✔ prompt3: infer_img() full-res ok\n",
            " Saved results to /content/drive/MyDrive/RQ1_Experiments/results/InternVL3-8B/RQ1_InternVL3-8B_8B_country_L2_prompt3_r1.json\n"
          ]
        },
        {
          "output_type": "stream",
          "name": "stderr",
          "text": [
            "Setting `pad_token_id` to `eos_token_id`:151645 for open-end generation.\n"
          ]
        },
        {
          "output_type": "stream",
          "name": "stdout",
          "text": [
            "  ✔ prompt4: infer_img() full-res ok\n",
            " Saved results to /content/drive/MyDrive/RQ1_Experiments/results/InternVL3-8B/RQ1_InternVL3-8B_8B_country_L2_prompt4_r1.json\n",
            "------------------------------------------------------\n",
            "\n",
            "Processing 26/360: /content/drive/MyDrive/RQ1_Experiments/RQ1_Data_Batch1/Africa/Malawi/Africa_Malawi_MW3_MIDDLE.JPG\n"
          ]
        },
        {
          "output_type": "stream",
          "name": "stderr",
          "text": [
            "Setting `pad_token_id` to `eos_token_id`:151645 for open-end generation.\n"
          ]
        },
        {
          "output_type": "stream",
          "name": "stdout",
          "text": [
            "  ✔ prompt1: infer_img() full-res ok\n",
            " Saved results to /content/drive/MyDrive/RQ1_Experiments/results/InternVL3-8B/RQ1_InternVL3-8B_8B_country_L2_prompt1_r1.json\n"
          ]
        },
        {
          "output_type": "stream",
          "name": "stderr",
          "text": [
            "Setting `pad_token_id` to `eos_token_id`:151645 for open-end generation.\n"
          ]
        },
        {
          "output_type": "stream",
          "name": "stdout",
          "text": [
            "  ✔ prompt2: infer_img() full-res ok\n",
            " Saved results to /content/drive/MyDrive/RQ1_Experiments/results/InternVL3-8B/RQ1_InternVL3-8B_8B_country_L2_prompt2_r1.json\n"
          ]
        },
        {
          "output_type": "stream",
          "name": "stderr",
          "text": [
            "Setting `pad_token_id` to `eos_token_id`:151645 for open-end generation.\n"
          ]
        },
        {
          "output_type": "stream",
          "name": "stdout",
          "text": [
            "  ✔ prompt3: infer_img() full-res ok\n",
            " Saved results to /content/drive/MyDrive/RQ1_Experiments/results/InternVL3-8B/RQ1_InternVL3-8B_8B_country_L2_prompt3_r1.json\n"
          ]
        },
        {
          "output_type": "stream",
          "name": "stderr",
          "text": [
            "Setting `pad_token_id` to `eos_token_id`:151645 for open-end generation.\n"
          ]
        },
        {
          "output_type": "stream",
          "name": "stdout",
          "text": [
            "  ✔ prompt4: infer_img() full-res ok\n",
            " Saved results to /content/drive/MyDrive/RQ1_Experiments/results/InternVL3-8B/RQ1_InternVL3-8B_8B_country_L2_prompt4_r1.json\n",
            "------------------------------------------------------\n",
            "\n",
            "Processing 27/360: /content/drive/MyDrive/RQ1_Experiments/RQ1_Data_Batch1/Africa/Malawi/Africa_Malawi_MW4_MIDDLE.JPG\n"
          ]
        },
        {
          "output_type": "stream",
          "name": "stderr",
          "text": [
            "Setting `pad_token_id` to `eos_token_id`:151645 for open-end generation.\n"
          ]
        },
        {
          "output_type": "stream",
          "name": "stdout",
          "text": [
            "  ✔ prompt1: infer_img() full-res ok\n",
            " Saved results to /content/drive/MyDrive/RQ1_Experiments/results/InternVL3-8B/RQ1_InternVL3-8B_8B_country_L2_prompt1_r1.json\n"
          ]
        },
        {
          "output_type": "stream",
          "name": "stderr",
          "text": [
            "Setting `pad_token_id` to `eos_token_id`:151645 for open-end generation.\n"
          ]
        },
        {
          "output_type": "stream",
          "name": "stdout",
          "text": [
            "  ✔ prompt2: infer_img() full-res ok\n",
            " Saved results to /content/drive/MyDrive/RQ1_Experiments/results/InternVL3-8B/RQ1_InternVL3-8B_8B_country_L2_prompt2_r1.json\n"
          ]
        },
        {
          "output_type": "stream",
          "name": "stderr",
          "text": [
            "Setting `pad_token_id` to `eos_token_id`:151645 for open-end generation.\n"
          ]
        },
        {
          "output_type": "stream",
          "name": "stdout",
          "text": [
            "  ✔ prompt3: infer_img() full-res ok\n",
            " Saved results to /content/drive/MyDrive/RQ1_Experiments/results/InternVL3-8B/RQ1_InternVL3-8B_8B_country_L2_prompt3_r1.json\n"
          ]
        },
        {
          "output_type": "stream",
          "name": "stderr",
          "text": [
            "Setting `pad_token_id` to `eos_token_id`:151645 for open-end generation.\n"
          ]
        },
        {
          "output_type": "stream",
          "name": "stdout",
          "text": [
            "  ✔ prompt4: infer_img() full-res ok\n",
            " Saved results to /content/drive/MyDrive/RQ1_Experiments/results/InternVL3-8B/RQ1_InternVL3-8B_8B_country_L2_prompt4_r1.json\n",
            "------------------------------------------------------\n",
            "\n",
            "Processing 28/360: /content/drive/MyDrive/RQ1_Experiments/RQ1_Data_Batch1/Africa/Morroco/Africa_Morroco_M1_TOP.png\n"
          ]
        },
        {
          "output_type": "stream",
          "name": "stderr",
          "text": [
            "Setting `pad_token_id` to `eos_token_id`:151645 for open-end generation.\n"
          ]
        },
        {
          "output_type": "stream",
          "name": "stdout",
          "text": [
            "  ✔ prompt1: infer_img() full-res ok\n",
            " Saved results to /content/drive/MyDrive/RQ1_Experiments/results/InternVL3-8B/RQ1_InternVL3-8B_8B_country_L2_prompt1_r1.json\n"
          ]
        },
        {
          "output_type": "stream",
          "name": "stderr",
          "text": [
            "Setting `pad_token_id` to `eos_token_id`:151645 for open-end generation.\n"
          ]
        },
        {
          "output_type": "stream",
          "name": "stdout",
          "text": [
            "  ✔ prompt2: infer_img() full-res ok\n",
            " Saved results to /content/drive/MyDrive/RQ1_Experiments/results/InternVL3-8B/RQ1_InternVL3-8B_8B_country_L2_prompt2_r1.json\n"
          ]
        },
        {
          "output_type": "stream",
          "name": "stderr",
          "text": [
            "Setting `pad_token_id` to `eos_token_id`:151645 for open-end generation.\n"
          ]
        },
        {
          "output_type": "stream",
          "name": "stdout",
          "text": [
            "  ✔ prompt3: infer_img() full-res ok\n",
            " Saved results to /content/drive/MyDrive/RQ1_Experiments/results/InternVL3-8B/RQ1_InternVL3-8B_8B_country_L2_prompt3_r1.json\n"
          ]
        },
        {
          "output_type": "stream",
          "name": "stderr",
          "text": [
            "Setting `pad_token_id` to `eos_token_id`:151645 for open-end generation.\n"
          ]
        },
        {
          "output_type": "stream",
          "name": "stdout",
          "text": [
            "  ✔ prompt4: infer_img() full-res ok\n",
            " Saved results to /content/drive/MyDrive/RQ1_Experiments/results/InternVL3-8B/RQ1_InternVL3-8B_8B_country_L2_prompt4_r1.json\n",
            "------------------------------------------------------\n",
            "\n",
            "Processing 29/360: /content/drive/MyDrive/RQ1_Experiments/RQ1_Data_Batch1/Africa/Morroco/Africa_Morroco_M2_TOP.png\n"
          ]
        },
        {
          "output_type": "stream",
          "name": "stderr",
          "text": [
            "Setting `pad_token_id` to `eos_token_id`:151645 for open-end generation.\n"
          ]
        },
        {
          "output_type": "stream",
          "name": "stdout",
          "text": [
            "  ✔ prompt1: infer_img() full-res ok\n",
            " Saved results to /content/drive/MyDrive/RQ1_Experiments/results/InternVL3-8B/RQ1_InternVL3-8B_8B_country_L2_prompt1_r1.json\n"
          ]
        },
        {
          "output_type": "stream",
          "name": "stderr",
          "text": [
            "Setting `pad_token_id` to `eos_token_id`:151645 for open-end generation.\n"
          ]
        },
        {
          "output_type": "stream",
          "name": "stdout",
          "text": [
            "  ✔ prompt2: infer_img() full-res ok\n",
            " Saved results to /content/drive/MyDrive/RQ1_Experiments/results/InternVL3-8B/RQ1_InternVL3-8B_8B_country_L2_prompt2_r1.json\n"
          ]
        },
        {
          "output_type": "stream",
          "name": "stderr",
          "text": [
            "Setting `pad_token_id` to `eos_token_id`:151645 for open-end generation.\n"
          ]
        },
        {
          "output_type": "stream",
          "name": "stdout",
          "text": [
            "  ✔ prompt3: infer_img() full-res ok\n",
            " Saved results to /content/drive/MyDrive/RQ1_Experiments/results/InternVL3-8B/RQ1_InternVL3-8B_8B_country_L2_prompt3_r1.json\n"
          ]
        },
        {
          "output_type": "stream",
          "name": "stderr",
          "text": [
            "Setting `pad_token_id` to `eos_token_id`:151645 for open-end generation.\n"
          ]
        },
        {
          "output_type": "stream",
          "name": "stdout",
          "text": [
            "  ✔ prompt4: infer_img() full-res ok\n",
            " Saved results to /content/drive/MyDrive/RQ1_Experiments/results/InternVL3-8B/RQ1_InternVL3-8B_8B_country_L2_prompt4_r1.json\n",
            "------------------------------------------------------\n",
            "\n",
            "Processing 30/360: /content/drive/MyDrive/RQ1_Experiments/RQ1_Data_Batch1/Africa/Morroco/Africa_Morroco_M3_TOP.png\n"
          ]
        },
        {
          "output_type": "stream",
          "name": "stderr",
          "text": [
            "Setting `pad_token_id` to `eos_token_id`:151645 for open-end generation.\n"
          ]
        },
        {
          "output_type": "stream",
          "name": "stdout",
          "text": [
            "  ✔ prompt1: infer_img() full-res ok\n",
            " Saved results to /content/drive/MyDrive/RQ1_Experiments/results/InternVL3-8B/RQ1_InternVL3-8B_8B_country_L2_prompt1_r1.json\n"
          ]
        },
        {
          "output_type": "stream",
          "name": "stderr",
          "text": [
            "Setting `pad_token_id` to `eos_token_id`:151645 for open-end generation.\n"
          ]
        },
        {
          "output_type": "stream",
          "name": "stdout",
          "text": [
            "  ✔ prompt2: infer_img() full-res ok\n",
            " Saved results to /content/drive/MyDrive/RQ1_Experiments/results/InternVL3-8B/RQ1_InternVL3-8B_8B_country_L2_prompt2_r1.json\n"
          ]
        },
        {
          "output_type": "stream",
          "name": "stderr",
          "text": [
            "Setting `pad_token_id` to `eos_token_id`:151645 for open-end generation.\n"
          ]
        },
        {
          "output_type": "stream",
          "name": "stdout",
          "text": [
            "  ✔ prompt3: infer_img() full-res ok\n",
            " Saved results to /content/drive/MyDrive/RQ1_Experiments/results/InternVL3-8B/RQ1_InternVL3-8B_8B_country_L2_prompt3_r1.json\n"
          ]
        },
        {
          "output_type": "stream",
          "name": "stderr",
          "text": [
            "Setting `pad_token_id` to `eos_token_id`:151645 for open-end generation.\n"
          ]
        },
        {
          "output_type": "stream",
          "name": "stdout",
          "text": [
            "  ✔ prompt4: infer_img() full-res ok\n",
            " Saved results to /content/drive/MyDrive/RQ1_Experiments/results/InternVL3-8B/RQ1_InternVL3-8B_8B_country_L2_prompt4_r1.json\n",
            "------------------------------------------------------\n",
            "\n",
            "Processing 31/360: /content/drive/MyDrive/RQ1_Experiments/RQ1_Data_Batch1/Africa/Morroco/Africa_Morroco_M5J_TOP.png\n"
          ]
        },
        {
          "output_type": "stream",
          "name": "stderr",
          "text": [
            "Setting `pad_token_id` to `eos_token_id`:151645 for open-end generation.\n"
          ]
        },
        {
          "output_type": "stream",
          "name": "stdout",
          "text": [
            "  ✔ prompt1: infer_img() full-res ok\n",
            " Saved results to /content/drive/MyDrive/RQ1_Experiments/results/InternVL3-8B/RQ1_InternVL3-8B_8B_country_L2_prompt1_r1.json\n"
          ]
        },
        {
          "output_type": "stream",
          "name": "stderr",
          "text": [
            "Setting `pad_token_id` to `eos_token_id`:151645 for open-end generation.\n"
          ]
        },
        {
          "output_type": "stream",
          "name": "stdout",
          "text": [
            "  ✔ prompt2: infer_img() full-res ok\n",
            " Saved results to /content/drive/MyDrive/RQ1_Experiments/results/InternVL3-8B/RQ1_InternVL3-8B_8B_country_L2_prompt2_r1.json\n"
          ]
        },
        {
          "output_type": "stream",
          "name": "stderr",
          "text": [
            "Setting `pad_token_id` to `eos_token_id`:151645 for open-end generation.\n"
          ]
        },
        {
          "output_type": "stream",
          "name": "stdout",
          "text": [
            "  ✔ prompt3: infer_img() full-res ok\n",
            " Saved results to /content/drive/MyDrive/RQ1_Experiments/results/InternVL3-8B/RQ1_InternVL3-8B_8B_country_L2_prompt3_r1.json\n"
          ]
        },
        {
          "output_type": "stream",
          "name": "stderr",
          "text": [
            "Setting `pad_token_id` to `eos_token_id`:151645 for open-end generation.\n"
          ]
        },
        {
          "output_type": "stream",
          "name": "stdout",
          "text": [
            "  ✔ prompt4: infer_img() full-res ok\n",
            " Saved results to /content/drive/MyDrive/RQ1_Experiments/results/InternVL3-8B/RQ1_InternVL3-8B_8B_country_L2_prompt4_r1.json\n",
            "------------------------------------------------------\n",
            "\n",
            "Processing 32/360: /content/drive/MyDrive/RQ1_Experiments/RQ1_Data_Batch1/Africa/Morroco/Africa_Morroco_M5_TOP.png\n"
          ]
        },
        {
          "output_type": "stream",
          "name": "stderr",
          "text": [
            "Setting `pad_token_id` to `eos_token_id`:151645 for open-end generation.\n"
          ]
        },
        {
          "output_type": "stream",
          "name": "stdout",
          "text": [
            "  ✔ prompt1: infer_img() full-res ok\n",
            " Saved results to /content/drive/MyDrive/RQ1_Experiments/results/InternVL3-8B/RQ1_InternVL3-8B_8B_country_L2_prompt1_r1.json\n"
          ]
        },
        {
          "output_type": "stream",
          "name": "stderr",
          "text": [
            "Setting `pad_token_id` to `eos_token_id`:151645 for open-end generation.\n"
          ]
        },
        {
          "output_type": "stream",
          "name": "stdout",
          "text": [
            "  ✔ prompt2: infer_img() full-res ok\n",
            " Saved results to /content/drive/MyDrive/RQ1_Experiments/results/InternVL3-8B/RQ1_InternVL3-8B_8B_country_L2_prompt2_r1.json\n"
          ]
        },
        {
          "output_type": "stream",
          "name": "stderr",
          "text": [
            "Setting `pad_token_id` to `eos_token_id`:151645 for open-end generation.\n"
          ]
        },
        {
          "output_type": "stream",
          "name": "stdout",
          "text": [
            "  ✔ prompt3: infer_img() full-res ok\n",
            " Saved results to /content/drive/MyDrive/RQ1_Experiments/results/InternVL3-8B/RQ1_InternVL3-8B_8B_country_L2_prompt3_r1.json\n"
          ]
        },
        {
          "output_type": "stream",
          "name": "stderr",
          "text": [
            "Setting `pad_token_id` to `eos_token_id`:151645 for open-end generation.\n"
          ]
        },
        {
          "output_type": "stream",
          "name": "stdout",
          "text": [
            "  ✔ prompt4: infer_img() full-res ok\n",
            " Saved results to /content/drive/MyDrive/RQ1_Experiments/results/InternVL3-8B/RQ1_InternVL3-8B_8B_country_L2_prompt4_r1.json\n",
            "------------------------------------------------------\n",
            "\n",
            "Processing 33/360: /content/drive/MyDrive/RQ1_Experiments/RQ1_Data_Batch1/Africa/Morroco/Africa_Morroco_M8_TOP.png\n"
          ]
        },
        {
          "output_type": "stream",
          "name": "stderr",
          "text": [
            "Setting `pad_token_id` to `eos_token_id`:151645 for open-end generation.\n"
          ]
        },
        {
          "output_type": "stream",
          "name": "stdout",
          "text": [
            "  ✔ prompt1: infer_img() full-res ok\n",
            " Saved results to /content/drive/MyDrive/RQ1_Experiments/results/InternVL3-8B/RQ1_InternVL3-8B_8B_country_L2_prompt1_r1.json\n"
          ]
        },
        {
          "output_type": "stream",
          "name": "stderr",
          "text": [
            "Setting `pad_token_id` to `eos_token_id`:151645 for open-end generation.\n"
          ]
        },
        {
          "output_type": "stream",
          "name": "stdout",
          "text": [
            "  ✔ prompt2: infer_img() full-res ok\n",
            " Saved results to /content/drive/MyDrive/RQ1_Experiments/results/InternVL3-8B/RQ1_InternVL3-8B_8B_country_L2_prompt2_r1.json\n"
          ]
        },
        {
          "output_type": "stream",
          "name": "stderr",
          "text": [
            "Setting `pad_token_id` to `eos_token_id`:151645 for open-end generation.\n"
          ]
        },
        {
          "output_type": "stream",
          "name": "stdout",
          "text": [
            "  ✔ prompt3: infer_img() full-res ok\n",
            " Saved results to /content/drive/MyDrive/RQ1_Experiments/results/InternVL3-8B/RQ1_InternVL3-8B_8B_country_L2_prompt3_r1.json\n"
          ]
        },
        {
          "output_type": "stream",
          "name": "stderr",
          "text": [
            "Setting `pad_token_id` to `eos_token_id`:151645 for open-end generation.\n"
          ]
        },
        {
          "output_type": "stream",
          "name": "stdout",
          "text": [
            "  ✔ prompt4: infer_img() full-res ok\n",
            " Saved results to /content/drive/MyDrive/RQ1_Experiments/results/InternVL3-8B/RQ1_InternVL3-8B_8B_country_L2_prompt4_r1.json\n",
            "------------------------------------------------------\n",
            "\n",
            "Processing 34/360: /content/drive/MyDrive/RQ1_Experiments/RQ1_Data_Batch1/Africa/Morroco/Africa_Morroco_M9_TOP.png\n"
          ]
        },
        {
          "output_type": "stream",
          "name": "stderr",
          "text": [
            "Setting `pad_token_id` to `eos_token_id`:151645 for open-end generation.\n"
          ]
        },
        {
          "output_type": "stream",
          "name": "stdout",
          "text": [
            "  ✔ prompt1: infer_img() full-res ok\n",
            " Saved results to /content/drive/MyDrive/RQ1_Experiments/results/InternVL3-8B/RQ1_InternVL3-8B_8B_country_L2_prompt1_r1.json\n"
          ]
        },
        {
          "output_type": "stream",
          "name": "stderr",
          "text": [
            "Setting `pad_token_id` to `eos_token_id`:151645 for open-end generation.\n"
          ]
        },
        {
          "output_type": "stream",
          "name": "stdout",
          "text": [
            "  ✔ prompt2: infer_img() full-res ok\n",
            " Saved results to /content/drive/MyDrive/RQ1_Experiments/results/InternVL3-8B/RQ1_InternVL3-8B_8B_country_L2_prompt2_r1.json\n"
          ]
        },
        {
          "output_type": "stream",
          "name": "stderr",
          "text": [
            "Setting `pad_token_id` to `eos_token_id`:151645 for open-end generation.\n"
          ]
        },
        {
          "output_type": "stream",
          "name": "stdout",
          "text": [
            "  ✔ prompt3: infer_img() full-res ok\n",
            " Saved results to /content/drive/MyDrive/RQ1_Experiments/results/InternVL3-8B/RQ1_InternVL3-8B_8B_country_L2_prompt3_r1.json\n"
          ]
        },
        {
          "output_type": "stream",
          "name": "stderr",
          "text": [
            "Setting `pad_token_id` to `eos_token_id`:151645 for open-end generation.\n"
          ]
        },
        {
          "output_type": "stream",
          "name": "stdout",
          "text": [
            "  ✔ prompt4: infer_img() full-res ok\n",
            " Saved results to /content/drive/MyDrive/RQ1_Experiments/results/InternVL3-8B/RQ1_InternVL3-8B_8B_country_L2_prompt4_r1.json\n",
            "------------------------------------------------------\n",
            "\n",
            "Processing 35/360: /content/drive/MyDrive/RQ1_Experiments/RQ1_Data_Batch1/Africa/Rwanda/Africa_Rwanda_RW1_MIDDLE.JPG\n"
          ]
        },
        {
          "output_type": "stream",
          "name": "stderr",
          "text": [
            "Setting `pad_token_id` to `eos_token_id`:151645 for open-end generation.\n"
          ]
        },
        {
          "output_type": "stream",
          "name": "stdout",
          "text": [
            "  ✔ prompt1: infer_img() full-res ok\n",
            " Saved results to /content/drive/MyDrive/RQ1_Experiments/results/InternVL3-8B/RQ1_InternVL3-8B_8B_country_L2_prompt1_r1.json\n"
          ]
        },
        {
          "output_type": "stream",
          "name": "stderr",
          "text": [
            "Setting `pad_token_id` to `eos_token_id`:151645 for open-end generation.\n"
          ]
        },
        {
          "output_type": "stream",
          "name": "stdout",
          "text": [
            "  ✔ prompt2: infer_img() full-res ok\n",
            " Saved results to /content/drive/MyDrive/RQ1_Experiments/results/InternVL3-8B/RQ1_InternVL3-8B_8B_country_L2_prompt2_r1.json\n"
          ]
        },
        {
          "output_type": "stream",
          "name": "stderr",
          "text": [
            "Setting `pad_token_id` to `eos_token_id`:151645 for open-end generation.\n"
          ]
        },
        {
          "output_type": "stream",
          "name": "stdout",
          "text": [
            "  ✔ prompt3: infer_img() full-res ok\n",
            " Saved results to /content/drive/MyDrive/RQ1_Experiments/results/InternVL3-8B/RQ1_InternVL3-8B_8B_country_L2_prompt3_r1.json\n"
          ]
        },
        {
          "output_type": "stream",
          "name": "stderr",
          "text": [
            "Setting `pad_token_id` to `eos_token_id`:151645 for open-end generation.\n"
          ]
        },
        {
          "output_type": "stream",
          "name": "stdout",
          "text": [
            "  ✔ prompt4: infer_img() full-res ok\n",
            " Saved results to /content/drive/MyDrive/RQ1_Experiments/results/InternVL3-8B/RQ1_InternVL3-8B_8B_country_L2_prompt4_r1.json\n",
            "------------------------------------------------------\n",
            "\n",
            "Processing 36/360: /content/drive/MyDrive/RQ1_Experiments/RQ1_Data_Batch1/Africa/Rwanda/Africa_Rwanda_RW2_MIDDLE.PNG\n"
          ]
        },
        {
          "output_type": "stream",
          "name": "stderr",
          "text": [
            "Setting `pad_token_id` to `eos_token_id`:151645 for open-end generation.\n"
          ]
        },
        {
          "output_type": "stream",
          "name": "stdout",
          "text": [
            "  ✔ prompt1: infer_img() full-res ok\n",
            " Saved results to /content/drive/MyDrive/RQ1_Experiments/results/InternVL3-8B/RQ1_InternVL3-8B_8B_country_L2_prompt1_r1.json\n"
          ]
        },
        {
          "output_type": "stream",
          "name": "stderr",
          "text": [
            "Setting `pad_token_id` to `eos_token_id`:151645 for open-end generation.\n"
          ]
        },
        {
          "output_type": "stream",
          "name": "stdout",
          "text": [
            "  ✔ prompt2: infer_img() full-res ok\n",
            " Saved results to /content/drive/MyDrive/RQ1_Experiments/results/InternVL3-8B/RQ1_InternVL3-8B_8B_country_L2_prompt2_r1.json\n"
          ]
        },
        {
          "output_type": "stream",
          "name": "stderr",
          "text": [
            "Setting `pad_token_id` to `eos_token_id`:151645 for open-end generation.\n"
          ]
        },
        {
          "output_type": "stream",
          "name": "stdout",
          "text": [
            "  ✔ prompt3: infer_img() full-res ok\n",
            " Saved results to /content/drive/MyDrive/RQ1_Experiments/results/InternVL3-8B/RQ1_InternVL3-8B_8B_country_L2_prompt3_r1.json\n"
          ]
        },
        {
          "output_type": "stream",
          "name": "stderr",
          "text": [
            "Setting `pad_token_id` to `eos_token_id`:151645 for open-end generation.\n"
          ]
        },
        {
          "output_type": "stream",
          "name": "stdout",
          "text": [
            "  ✔ prompt4: infer_img() full-res ok\n",
            " Saved results to /content/drive/MyDrive/RQ1_Experiments/results/InternVL3-8B/RQ1_InternVL3-8B_8B_country_L2_prompt4_r1.json\n",
            "------------------------------------------------------\n",
            "\n",
            "Processing 37/360: /content/drive/MyDrive/RQ1_Experiments/RQ1_Data_Batch1/Africa/Senegal/Africa_Senegal_FTY_TOP.png\n"
          ]
        },
        {
          "output_type": "stream",
          "name": "stderr",
          "text": [
            "Setting `pad_token_id` to `eos_token_id`:151645 for open-end generation.\n"
          ]
        },
        {
          "output_type": "stream",
          "name": "stdout",
          "text": [
            "  ✔ prompt1: infer_img() full-res ok\n",
            " Saved results to /content/drive/MyDrive/RQ1_Experiments/results/InternVL3-8B/RQ1_InternVL3-8B_8B_country_L2_prompt1_r1.json\n"
          ]
        },
        {
          "output_type": "stream",
          "name": "stderr",
          "text": [
            "Setting `pad_token_id` to `eos_token_id`:151645 for open-end generation.\n"
          ]
        },
        {
          "output_type": "stream",
          "name": "stdout",
          "text": [
            "  ✔ prompt2: infer_img() full-res ok\n",
            " Saved results to /content/drive/MyDrive/RQ1_Experiments/results/InternVL3-8B/RQ1_InternVL3-8B_8B_country_L2_prompt2_r1.json\n"
          ]
        },
        {
          "output_type": "stream",
          "name": "stderr",
          "text": [
            "Setting `pad_token_id` to `eos_token_id`:151645 for open-end generation.\n"
          ]
        },
        {
          "output_type": "stream",
          "name": "stdout",
          "text": [
            "  ✔ prompt3: infer_img() full-res ok\n",
            " Saved results to /content/drive/MyDrive/RQ1_Experiments/results/InternVL3-8B/RQ1_InternVL3-8B_8B_country_L2_prompt3_r1.json\n"
          ]
        },
        {
          "output_type": "stream",
          "name": "stderr",
          "text": [
            "Setting `pad_token_id` to `eos_token_id`:151645 for open-end generation.\n"
          ]
        },
        {
          "output_type": "stream",
          "name": "stdout",
          "text": [
            "  ✔ prompt4: infer_img() full-res ok\n",
            " Saved results to /content/drive/MyDrive/RQ1_Experiments/results/InternVL3-8B/RQ1_InternVL3-8B_8B_country_L2_prompt4_r1.json\n",
            "------------------------------------------------------\n",
            "\n",
            "Processing 38/360: /content/drive/MyDrive/RQ1_Experiments/RQ1_Data_Batch1/Africa/Senegal/Africa_Senegal_SNHYUU_TOP.png\n"
          ]
        },
        {
          "output_type": "stream",
          "name": "stderr",
          "text": [
            "Setting `pad_token_id` to `eos_token_id`:151645 for open-end generation.\n"
          ]
        },
        {
          "output_type": "stream",
          "name": "stdout",
          "text": [
            "  ✔ prompt1: infer_img() full-res ok\n",
            " Saved results to /content/drive/MyDrive/RQ1_Experiments/results/InternVL3-8B/RQ1_InternVL3-8B_8B_country_L2_prompt1_r1.json\n"
          ]
        },
        {
          "output_type": "stream",
          "name": "stderr",
          "text": [
            "Setting `pad_token_id` to `eos_token_id`:151645 for open-end generation.\n"
          ]
        },
        {
          "output_type": "stream",
          "name": "stdout",
          "text": [
            "  ✔ prompt2: infer_img() full-res ok\n",
            " Saved results to /content/drive/MyDrive/RQ1_Experiments/results/InternVL3-8B/RQ1_InternVL3-8B_8B_country_L2_prompt2_r1.json\n"
          ]
        },
        {
          "output_type": "stream",
          "name": "stderr",
          "text": [
            "Setting `pad_token_id` to `eos_token_id`:151645 for open-end generation.\n"
          ]
        },
        {
          "output_type": "stream",
          "name": "stdout",
          "text": [
            "  ✔ prompt3: infer_img() full-res ok\n",
            " Saved results to /content/drive/MyDrive/RQ1_Experiments/results/InternVL3-8B/RQ1_InternVL3-8B_8B_country_L2_prompt3_r1.json\n"
          ]
        },
        {
          "output_type": "stream",
          "name": "stderr",
          "text": [
            "Setting `pad_token_id` to `eos_token_id`:151645 for open-end generation.\n"
          ]
        },
        {
          "output_type": "stream",
          "name": "stdout",
          "text": [
            "  ✔ prompt4: infer_img() full-res ok\n",
            " Saved results to /content/drive/MyDrive/RQ1_Experiments/results/InternVL3-8B/RQ1_InternVL3-8B_8B_country_L2_prompt4_r1.json\n",
            "------------------------------------------------------\n",
            "\n",
            "Processing 39/360: /content/drive/MyDrive/RQ1_Experiments/RQ1_Data_Batch1/Africa/Senegal/Africa_Senegal_SNJU_TOP.png\n"
          ]
        },
        {
          "output_type": "stream",
          "name": "stderr",
          "text": [
            "Setting `pad_token_id` to `eos_token_id`:151645 for open-end generation.\n"
          ]
        },
        {
          "output_type": "stream",
          "name": "stdout",
          "text": [
            "  ✔ prompt1: infer_img() full-res ok\n",
            " Saved results to /content/drive/MyDrive/RQ1_Experiments/results/InternVL3-8B/RQ1_InternVL3-8B_8B_country_L2_prompt1_r1.json\n"
          ]
        },
        {
          "output_type": "stream",
          "name": "stderr",
          "text": [
            "Setting `pad_token_id` to `eos_token_id`:151645 for open-end generation.\n"
          ]
        },
        {
          "output_type": "stream",
          "name": "stdout",
          "text": [
            "  ✔ prompt2: infer_img() full-res ok\n",
            " Saved results to /content/drive/MyDrive/RQ1_Experiments/results/InternVL3-8B/RQ1_InternVL3-8B_8B_country_L2_prompt2_r1.json\n"
          ]
        },
        {
          "output_type": "stream",
          "name": "stderr",
          "text": [
            "Setting `pad_token_id` to `eos_token_id`:151645 for open-end generation.\n"
          ]
        },
        {
          "output_type": "stream",
          "name": "stdout",
          "text": [
            "  ✔ prompt3: infer_img() full-res ok\n",
            " Saved results to /content/drive/MyDrive/RQ1_Experiments/results/InternVL3-8B/RQ1_InternVL3-8B_8B_country_L2_prompt3_r1.json\n"
          ]
        },
        {
          "output_type": "stream",
          "name": "stderr",
          "text": [
            "Setting `pad_token_id` to `eos_token_id`:151645 for open-end generation.\n"
          ]
        },
        {
          "output_type": "stream",
          "name": "stdout",
          "text": [
            "  ✔ prompt4: infer_img() full-res ok\n",
            " Saved results to /content/drive/MyDrive/RQ1_Experiments/results/InternVL3-8B/RQ1_InternVL3-8B_8B_country_L2_prompt4_r1.json\n",
            "------------------------------------------------------\n",
            "\n",
            "Processing 40/360: /content/drive/MyDrive/RQ1_Experiments/RQ1_Data_Batch1/Africa/Senegal/Africa_Senegal_SNY7_TOP.png\n"
          ]
        },
        {
          "output_type": "stream",
          "name": "stderr",
          "text": [
            "Setting `pad_token_id` to `eos_token_id`:151645 for open-end generation.\n"
          ]
        },
        {
          "output_type": "stream",
          "name": "stdout",
          "text": [
            "  ✔ prompt1: infer_img() full-res ok\n",
            " Saved results to /content/drive/MyDrive/RQ1_Experiments/results/InternVL3-8B/RQ1_InternVL3-8B_8B_country_L2_prompt1_r1.json\n"
          ]
        },
        {
          "output_type": "stream",
          "name": "stderr",
          "text": [
            "Setting `pad_token_id` to `eos_token_id`:151645 for open-end generation.\n"
          ]
        },
        {
          "output_type": "stream",
          "name": "stdout",
          "text": [
            "  ✔ prompt2: infer_img() full-res ok\n",
            " Saved results to /content/drive/MyDrive/RQ1_Experiments/results/InternVL3-8B/RQ1_InternVL3-8B_8B_country_L2_prompt2_r1.json\n"
          ]
        },
        {
          "output_type": "stream",
          "name": "stderr",
          "text": [
            "Setting `pad_token_id` to `eos_token_id`:151645 for open-end generation.\n"
          ]
        },
        {
          "output_type": "stream",
          "name": "stdout",
          "text": [
            "  ✔ prompt3: infer_img() full-res ok\n",
            " Saved results to /content/drive/MyDrive/RQ1_Experiments/results/InternVL3-8B/RQ1_InternVL3-8B_8B_country_L2_prompt3_r1.json\n"
          ]
        },
        {
          "output_type": "stream",
          "name": "stderr",
          "text": [
            "Setting `pad_token_id` to `eos_token_id`:151645 for open-end generation.\n"
          ]
        },
        {
          "output_type": "stream",
          "name": "stdout",
          "text": [
            "  ✔ prompt4: infer_img() full-res ok\n",
            " Saved results to /content/drive/MyDrive/RQ1_Experiments/results/InternVL3-8B/RQ1_InternVL3-8B_8B_country_L2_prompt4_r1.json\n",
            "------------------------------------------------------\n",
            "\n",
            "Processing 41/360: /content/drive/MyDrive/RQ1_Experiments/RQ1_Data_Batch1/Africa/South Africa/Africa_South Africa_S2_TOP.png\n"
          ]
        },
        {
          "output_type": "stream",
          "name": "stderr",
          "text": [
            "Setting `pad_token_id` to `eos_token_id`:151645 for open-end generation.\n"
          ]
        },
        {
          "output_type": "stream",
          "name": "stdout",
          "text": [
            "  ✔ prompt1: infer_img() full-res ok\n",
            " Saved results to /content/drive/MyDrive/RQ1_Experiments/results/InternVL3-8B/RQ1_InternVL3-8B_8B_country_L2_prompt1_r1.json\n"
          ]
        },
        {
          "output_type": "stream",
          "name": "stderr",
          "text": [
            "Setting `pad_token_id` to `eos_token_id`:151645 for open-end generation.\n"
          ]
        },
        {
          "output_type": "stream",
          "name": "stdout",
          "text": [
            "  ✔ prompt2: infer_img() full-res ok\n",
            " Saved results to /content/drive/MyDrive/RQ1_Experiments/results/InternVL3-8B/RQ1_InternVL3-8B_8B_country_L2_prompt2_r1.json\n"
          ]
        },
        {
          "output_type": "stream",
          "name": "stderr",
          "text": [
            "Setting `pad_token_id` to `eos_token_id`:151645 for open-end generation.\n"
          ]
        },
        {
          "output_type": "stream",
          "name": "stdout",
          "text": [
            "  ✔ prompt3: infer_img() full-res ok\n",
            " Saved results to /content/drive/MyDrive/RQ1_Experiments/results/InternVL3-8B/RQ1_InternVL3-8B_8B_country_L2_prompt3_r1.json\n",
            "  ✔ prompt4: infer_img() full-res ok\n",
            " Saved results to /content/drive/MyDrive/RQ1_Experiments/results/InternVL3-8B/RQ1_InternVL3-8B_8B_country_L2_prompt4_r1.json\n",
            "------------------------------------------------------\n",
            "\n",
            "Processing 42/360: /content/drive/MyDrive/RQ1_Experiments/RQ1_Data_Batch1/Africa/South Africa/Africa_South Africa_S54_TOP.png\n"
          ]
        },
        {
          "output_type": "stream",
          "name": "stderr",
          "text": [
            "Setting `pad_token_id` to `eos_token_id`:151645 for open-end generation.\n",
            "Setting `pad_token_id` to `eos_token_id`:151645 for open-end generation.\n"
          ]
        },
        {
          "output_type": "stream",
          "name": "stdout",
          "text": [
            "  ✔ prompt1: infer_img() full-res ok\n",
            " Saved results to /content/drive/MyDrive/RQ1_Experiments/results/InternVL3-8B/RQ1_InternVL3-8B_8B_country_L2_prompt1_r1.json\n"
          ]
        },
        {
          "output_type": "stream",
          "name": "stderr",
          "text": [
            "Setting `pad_token_id` to `eos_token_id`:151645 for open-end generation.\n"
          ]
        },
        {
          "output_type": "stream",
          "name": "stdout",
          "text": [
            "  ✔ prompt2: infer_img() full-res ok\n",
            " Saved results to /content/drive/MyDrive/RQ1_Experiments/results/InternVL3-8B/RQ1_InternVL3-8B_8B_country_L2_prompt2_r1.json\n"
          ]
        },
        {
          "output_type": "stream",
          "name": "stderr",
          "text": [
            "Setting `pad_token_id` to `eos_token_id`:151645 for open-end generation.\n"
          ]
        },
        {
          "output_type": "stream",
          "name": "stdout",
          "text": [
            "  ✔ prompt3: infer_img() full-res ok\n",
            " Saved results to /content/drive/MyDrive/RQ1_Experiments/results/InternVL3-8B/RQ1_InternVL3-8B_8B_country_L2_prompt3_r1.json\n",
            "  ✔ prompt4: infer_img() full-res ok\n",
            " Saved results to /content/drive/MyDrive/RQ1_Experiments/results/InternVL3-8B/RQ1_InternVL3-8B_8B_country_L2_prompt4_r1.json\n",
            "------------------------------------------------------\n",
            "\n",
            "Processing 43/360: /content/drive/MyDrive/RQ1_Experiments/RQ1_Data_Batch1/Africa/South Africa/Africa_South Africa_S56_TOP.png\n"
          ]
        },
        {
          "output_type": "stream",
          "name": "stderr",
          "text": [
            "Setting `pad_token_id` to `eos_token_id`:151645 for open-end generation.\n",
            "Setting `pad_token_id` to `eos_token_id`:151645 for open-end generation.\n"
          ]
        },
        {
          "output_type": "stream",
          "name": "stdout",
          "text": [
            "  ✔ prompt1: infer_img() full-res ok\n",
            " Saved results to /content/drive/MyDrive/RQ1_Experiments/results/InternVL3-8B/RQ1_InternVL3-8B_8B_country_L2_prompt1_r1.json\n"
          ]
        },
        {
          "output_type": "stream",
          "name": "stderr",
          "text": [
            "Setting `pad_token_id` to `eos_token_id`:151645 for open-end generation.\n"
          ]
        },
        {
          "output_type": "stream",
          "name": "stdout",
          "text": [
            "  ✔ prompt2: infer_img() full-res ok\n",
            " Saved results to /content/drive/MyDrive/RQ1_Experiments/results/InternVL3-8B/RQ1_InternVL3-8B_8B_country_L2_prompt2_r1.json\n"
          ]
        },
        {
          "output_type": "stream",
          "name": "stderr",
          "text": [
            "Setting `pad_token_id` to `eos_token_id`:151645 for open-end generation.\n"
          ]
        },
        {
          "output_type": "stream",
          "name": "stdout",
          "text": [
            "  ✔ prompt3: infer_img() full-res ok\n",
            " Saved results to /content/drive/MyDrive/RQ1_Experiments/results/InternVL3-8B/RQ1_InternVL3-8B_8B_country_L2_prompt3_r1.json\n",
            "  ✔ prompt4: infer_img() full-res ok\n",
            " Saved results to /content/drive/MyDrive/RQ1_Experiments/results/InternVL3-8B/RQ1_InternVL3-8B_8B_country_L2_prompt4_r1.json\n",
            "------------------------------------------------------\n",
            "\n",
            "Processing 44/360: /content/drive/MyDrive/RQ1_Experiments/RQ1_Data_Batch1/Africa/South Africa/Africa_South Africa_S57_TOP.png\n"
          ]
        },
        {
          "output_type": "stream",
          "name": "stderr",
          "text": [
            "Setting `pad_token_id` to `eos_token_id`:151645 for open-end generation.\n",
            "Setting `pad_token_id` to `eos_token_id`:151645 for open-end generation.\n"
          ]
        },
        {
          "output_type": "stream",
          "name": "stdout",
          "text": [
            "  ✔ prompt1: infer_img() full-res ok\n",
            " Saved results to /content/drive/MyDrive/RQ1_Experiments/results/InternVL3-8B/RQ1_InternVL3-8B_8B_country_L2_prompt1_r1.json\n"
          ]
        },
        {
          "output_type": "stream",
          "name": "stderr",
          "text": [
            "Setting `pad_token_id` to `eos_token_id`:151645 for open-end generation.\n"
          ]
        },
        {
          "output_type": "stream",
          "name": "stdout",
          "text": [
            "  ✔ prompt2: infer_img() full-res ok\n",
            " Saved results to /content/drive/MyDrive/RQ1_Experiments/results/InternVL3-8B/RQ1_InternVL3-8B_8B_country_L2_prompt2_r1.json\n"
          ]
        },
        {
          "output_type": "stream",
          "name": "stderr",
          "text": [
            "Setting `pad_token_id` to `eos_token_id`:151645 for open-end generation.\n"
          ]
        },
        {
          "output_type": "stream",
          "name": "stdout",
          "text": [
            "  ✔ prompt3: infer_img() full-res ok\n",
            " Saved results to /content/drive/MyDrive/RQ1_Experiments/results/InternVL3-8B/RQ1_InternVL3-8B_8B_country_L2_prompt3_r1.json\n",
            "  ✔ prompt4: infer_img() full-res ok\n",
            " Saved results to /content/drive/MyDrive/RQ1_Experiments/results/InternVL3-8B/RQ1_InternVL3-8B_8B_country_L2_prompt4_r1.json\n",
            "------------------------------------------------------\n",
            "\n",
            "Processing 45/360: /content/drive/MyDrive/RQ1_Experiments/RQ1_Data_Batch1/Africa/South Africa/Africa_South Africa_S59_TOP.png\n"
          ]
        },
        {
          "output_type": "stream",
          "name": "stderr",
          "text": [
            "Setting `pad_token_id` to `eos_token_id`:151645 for open-end generation.\n",
            "Setting `pad_token_id` to `eos_token_id`:151645 for open-end generation.\n"
          ]
        },
        {
          "output_type": "stream",
          "name": "stdout",
          "text": [
            "  ✔ prompt1: infer_img() full-res ok\n",
            " Saved results to /content/drive/MyDrive/RQ1_Experiments/results/InternVL3-8B/RQ1_InternVL3-8B_8B_country_L2_prompt1_r1.json\n"
          ]
        },
        {
          "output_type": "stream",
          "name": "stderr",
          "text": [
            "Setting `pad_token_id` to `eos_token_id`:151645 for open-end generation.\n"
          ]
        },
        {
          "output_type": "stream",
          "name": "stdout",
          "text": [
            "  ✔ prompt2: infer_img() full-res ok\n",
            " Saved results to /content/drive/MyDrive/RQ1_Experiments/results/InternVL3-8B/RQ1_InternVL3-8B_8B_country_L2_prompt2_r1.json\n"
          ]
        },
        {
          "output_type": "stream",
          "name": "stderr",
          "text": [
            "Setting `pad_token_id` to `eos_token_id`:151645 for open-end generation.\n"
          ]
        },
        {
          "output_type": "stream",
          "name": "stdout",
          "text": [
            "  ✔ prompt3: infer_img() full-res ok\n",
            " Saved results to /content/drive/MyDrive/RQ1_Experiments/results/InternVL3-8B/RQ1_InternVL3-8B_8B_country_L2_prompt3_r1.json\n",
            "  ✔ prompt4: infer_img() full-res ok\n",
            " Saved results to /content/drive/MyDrive/RQ1_Experiments/results/InternVL3-8B/RQ1_InternVL3-8B_8B_country_L2_prompt4_r1.json\n",
            "------------------------------------------------------\n",
            "\n",
            "Processing 46/360: /content/drive/MyDrive/RQ1_Experiments/RQ1_Data_Batch1/Africa/South Africa/Africa_South Africa_S67_TOP.png\n"
          ]
        },
        {
          "output_type": "stream",
          "name": "stderr",
          "text": [
            "Setting `pad_token_id` to `eos_token_id`:151645 for open-end generation.\n",
            "Setting `pad_token_id` to `eos_token_id`:151645 for open-end generation.\n"
          ]
        },
        {
          "output_type": "stream",
          "name": "stdout",
          "text": [
            "  ✔ prompt1: infer_img() full-res ok\n",
            " Saved results to /content/drive/MyDrive/RQ1_Experiments/results/InternVL3-8B/RQ1_InternVL3-8B_8B_country_L2_prompt1_r1.json\n"
          ]
        },
        {
          "output_type": "stream",
          "name": "stderr",
          "text": [
            "Setting `pad_token_id` to `eos_token_id`:151645 for open-end generation.\n"
          ]
        },
        {
          "output_type": "stream",
          "name": "stdout",
          "text": [
            "  ✔ prompt2: infer_img() full-res ok\n",
            " Saved results to /content/drive/MyDrive/RQ1_Experiments/results/InternVL3-8B/RQ1_InternVL3-8B_8B_country_L2_prompt2_r1.json\n"
          ]
        },
        {
          "output_type": "stream",
          "name": "stderr",
          "text": [
            "Setting `pad_token_id` to `eos_token_id`:151645 for open-end generation.\n"
          ]
        },
        {
          "output_type": "stream",
          "name": "stdout",
          "text": [
            "  ✔ prompt3: infer_img() full-res ok\n",
            " Saved results to /content/drive/MyDrive/RQ1_Experiments/results/InternVL3-8B/RQ1_InternVL3-8B_8B_country_L2_prompt3_r1.json\n",
            "  ✔ prompt4: infer_img() full-res ok\n",
            " Saved results to /content/drive/MyDrive/RQ1_Experiments/results/InternVL3-8B/RQ1_InternVL3-8B_8B_country_L2_prompt4_r1.json\n",
            "------------------------------------------------------\n",
            "\n",
            "Processing 47/360: /content/drive/MyDrive/RQ1_Experiments/RQ1_Data_Batch1/Africa/South Africa/Africa_South Africa_S87_TOP.png\n"
          ]
        },
        {
          "output_type": "stream",
          "name": "stderr",
          "text": [
            "Setting `pad_token_id` to `eos_token_id`:151645 for open-end generation.\n",
            "Setting `pad_token_id` to `eos_token_id`:151645 for open-end generation.\n"
          ]
        },
        {
          "output_type": "stream",
          "name": "stdout",
          "text": [
            "  ✔ prompt1: infer_img() full-res ok\n",
            " Saved results to /content/drive/MyDrive/RQ1_Experiments/results/InternVL3-8B/RQ1_InternVL3-8B_8B_country_L2_prompt1_r1.json\n"
          ]
        },
        {
          "output_type": "stream",
          "name": "stderr",
          "text": [
            "Setting `pad_token_id` to `eos_token_id`:151645 for open-end generation.\n"
          ]
        },
        {
          "output_type": "stream",
          "name": "stdout",
          "text": [
            "  ✔ prompt2: infer_img() full-res ok\n",
            " Saved results to /content/drive/MyDrive/RQ1_Experiments/results/InternVL3-8B/RQ1_InternVL3-8B_8B_country_L2_prompt2_r1.json\n"
          ]
        },
        {
          "output_type": "stream",
          "name": "stderr",
          "text": [
            "Setting `pad_token_id` to `eos_token_id`:151645 for open-end generation.\n"
          ]
        },
        {
          "output_type": "stream",
          "name": "stdout",
          "text": [
            "  ✔ prompt3: infer_img() full-res ok\n",
            " Saved results to /content/drive/MyDrive/RQ1_Experiments/results/InternVL3-8B/RQ1_InternVL3-8B_8B_country_L2_prompt3_r1.json\n",
            "  ✔ prompt4: infer_img() full-res ok\n",
            " Saved results to /content/drive/MyDrive/RQ1_Experiments/results/InternVL3-8B/RQ1_InternVL3-8B_8B_country_L2_prompt4_r1.json\n",
            "------------------------------------------------------\n",
            "\n",
            "Processing 48/360: /content/drive/MyDrive/RQ1_Experiments/RQ1_Data_Batch1/Africa/Sudan/Africa_Sudan_DERTT_TOP.png\n"
          ]
        },
        {
          "output_type": "stream",
          "name": "stderr",
          "text": [
            "Setting `pad_token_id` to `eos_token_id`:151645 for open-end generation.\n",
            "Setting `pad_token_id` to `eos_token_id`:151645 for open-end generation.\n"
          ]
        },
        {
          "output_type": "stream",
          "name": "stdout",
          "text": [
            "  ✔ prompt1: infer_img() full-res ok\n",
            " Saved results to /content/drive/MyDrive/RQ1_Experiments/results/InternVL3-8B/RQ1_InternVL3-8B_8B_country_L2_prompt1_r1.json\n"
          ]
        },
        {
          "output_type": "stream",
          "name": "stderr",
          "text": [
            "Setting `pad_token_id` to `eos_token_id`:151645 for open-end generation.\n"
          ]
        },
        {
          "output_type": "stream",
          "name": "stdout",
          "text": [
            "  ✔ prompt2: infer_img() full-res ok\n",
            " Saved results to /content/drive/MyDrive/RQ1_Experiments/results/InternVL3-8B/RQ1_InternVL3-8B_8B_country_L2_prompt2_r1.json\n"
          ]
        },
        {
          "output_type": "stream",
          "name": "stderr",
          "text": [
            "Setting `pad_token_id` to `eos_token_id`:151645 for open-end generation.\n"
          ]
        },
        {
          "output_type": "stream",
          "name": "stdout",
          "text": [
            "  ✔ prompt3: infer_img() full-res ok\n",
            " Saved results to /content/drive/MyDrive/RQ1_Experiments/results/InternVL3-8B/RQ1_InternVL3-8B_8B_country_L2_prompt3_r1.json\n",
            "  ✔ prompt4: infer_img() full-res ok\n",
            " Saved results to /content/drive/MyDrive/RQ1_Experiments/results/InternVL3-8B/RQ1_InternVL3-8B_8B_country_L2_prompt4_r1.json\n",
            "------------------------------------------------------\n",
            "\n",
            "Processing 49/360: /content/drive/MyDrive/RQ1_Experiments/RQ1_Data_Batch1/Africa/Sudan/Africa_Sudan_SS1_TOP.PNG\n"
          ]
        },
        {
          "output_type": "stream",
          "name": "stderr",
          "text": [
            "Setting `pad_token_id` to `eos_token_id`:151645 for open-end generation.\n",
            "Setting `pad_token_id` to `eos_token_id`:151645 for open-end generation.\n"
          ]
        },
        {
          "output_type": "stream",
          "name": "stdout",
          "text": [
            "  ✔ prompt1: infer_img() full-res ok\n",
            " Saved results to /content/drive/MyDrive/RQ1_Experiments/results/InternVL3-8B/RQ1_InternVL3-8B_8B_country_L2_prompt1_r1.json\n"
          ]
        },
        {
          "output_type": "stream",
          "name": "stderr",
          "text": [
            "Setting `pad_token_id` to `eos_token_id`:151645 for open-end generation.\n"
          ]
        },
        {
          "output_type": "stream",
          "name": "stdout",
          "text": [
            "  ✔ prompt2: infer_img() full-res ok\n",
            " Saved results to /content/drive/MyDrive/RQ1_Experiments/results/InternVL3-8B/RQ1_InternVL3-8B_8B_country_L2_prompt2_r1.json\n"
          ]
        },
        {
          "output_type": "stream",
          "name": "stderr",
          "text": [
            "Setting `pad_token_id` to `eos_token_id`:151645 for open-end generation.\n"
          ]
        },
        {
          "output_type": "stream",
          "name": "stdout",
          "text": [
            "  ✔ prompt3: infer_img() full-res ok\n",
            " Saved results to /content/drive/MyDrive/RQ1_Experiments/results/InternVL3-8B/RQ1_InternVL3-8B_8B_country_L2_prompt3_r1.json\n",
            "  ✔ prompt4: infer_img() full-res ok\n",
            " Saved results to /content/drive/MyDrive/RQ1_Experiments/results/InternVL3-8B/RQ1_InternVL3-8B_8B_country_L2_prompt4_r1.json\n",
            "------------------------------------------------------\n",
            "\n",
            "Processing 50/360: /content/drive/MyDrive/RQ1_Experiments/RQ1_Data_Batch1/Africa/Sudan/Africa_Sudan_SS2_TOP.png\n"
          ]
        },
        {
          "output_type": "stream",
          "name": "stderr",
          "text": [
            "Setting `pad_token_id` to `eos_token_id`:151645 for open-end generation.\n",
            "Setting `pad_token_id` to `eos_token_id`:151645 for open-end generation.\n"
          ]
        },
        {
          "output_type": "stream",
          "name": "stdout",
          "text": [
            "  ✔ prompt1: infer_img() full-res ok\n",
            " Saved results to /content/drive/MyDrive/RQ1_Experiments/results/InternVL3-8B/RQ1_InternVL3-8B_8B_country_L2_prompt1_r1.json\n"
          ]
        },
        {
          "output_type": "stream",
          "name": "stderr",
          "text": [
            "Setting `pad_token_id` to `eos_token_id`:151645 for open-end generation.\n"
          ]
        },
        {
          "output_type": "stream",
          "name": "stdout",
          "text": [
            "  ✔ prompt2: infer_img() full-res ok\n",
            " Saved results to /content/drive/MyDrive/RQ1_Experiments/results/InternVL3-8B/RQ1_InternVL3-8B_8B_country_L2_prompt2_r1.json\n"
          ]
        },
        {
          "output_type": "stream",
          "name": "stderr",
          "text": [
            "Setting `pad_token_id` to `eos_token_id`:151645 for open-end generation.\n"
          ]
        },
        {
          "output_type": "stream",
          "name": "stdout",
          "text": [
            "  ✔ prompt3: infer_img() full-res ok\n",
            " Saved results to /content/drive/MyDrive/RQ1_Experiments/results/InternVL3-8B/RQ1_InternVL3-8B_8B_country_L2_prompt3_r1.json\n",
            "  ✔ prompt4: infer_img() full-res ok\n",
            " Saved results to /content/drive/MyDrive/RQ1_Experiments/results/InternVL3-8B/RQ1_InternVL3-8B_8B_country_L2_prompt4_r1.json\n",
            "------------------------------------------------------\n",
            "\n",
            "Processing 51/360: /content/drive/MyDrive/RQ1_Experiments/RQ1_Data_Batch1/Africa/Sudan/Africa_Sudan_SS3_TOP.PNG\n"
          ]
        },
        {
          "output_type": "stream",
          "name": "stderr",
          "text": [
            "Setting `pad_token_id` to `eos_token_id`:151645 for open-end generation.\n",
            "Setting `pad_token_id` to `eos_token_id`:151645 for open-end generation.\n"
          ]
        },
        {
          "output_type": "stream",
          "name": "stdout",
          "text": [
            "  ✔ prompt1: infer_img() full-res ok\n",
            " Saved results to /content/drive/MyDrive/RQ1_Experiments/results/InternVL3-8B/RQ1_InternVL3-8B_8B_country_L2_prompt1_r1.json\n"
          ]
        },
        {
          "output_type": "stream",
          "name": "stderr",
          "text": [
            "Setting `pad_token_id` to `eos_token_id`:151645 for open-end generation.\n"
          ]
        },
        {
          "output_type": "stream",
          "name": "stdout",
          "text": [
            "  ✔ prompt2: infer_img() full-res ok\n",
            " Saved results to /content/drive/MyDrive/RQ1_Experiments/results/InternVL3-8B/RQ1_InternVL3-8B_8B_country_L2_prompt2_r1.json\n"
          ]
        },
        {
          "output_type": "stream",
          "name": "stderr",
          "text": [
            "Setting `pad_token_id` to `eos_token_id`:151645 for open-end generation.\n"
          ]
        },
        {
          "output_type": "stream",
          "name": "stdout",
          "text": [
            "  ✔ prompt3: infer_img() full-res ok\n",
            " Saved results to /content/drive/MyDrive/RQ1_Experiments/results/InternVL3-8B/RQ1_InternVL3-8B_8B_country_L2_prompt3_r1.json\n",
            "  ✔ prompt4: infer_img() full-res ok\n",
            " Saved results to /content/drive/MyDrive/RQ1_Experiments/results/InternVL3-8B/RQ1_InternVL3-8B_8B_country_L2_prompt4_r1.json\n",
            "------------------------------------------------------\n",
            "\n",
            "Processing 52/360: /content/drive/MyDrive/RQ1_Experiments/RQ1_Data_Batch1/Africa/Sudan/Africa_Sudan_SS4_TOP.png\n"
          ]
        },
        {
          "output_type": "stream",
          "name": "stderr",
          "text": [
            "Setting `pad_token_id` to `eos_token_id`:151645 for open-end generation.\n",
            "Setting `pad_token_id` to `eos_token_id`:151645 for open-end generation.\n"
          ]
        },
        {
          "output_type": "stream",
          "name": "stdout",
          "text": [
            "  ✔ prompt1: infer_img() full-res ok\n",
            " Saved results to /content/drive/MyDrive/RQ1_Experiments/results/InternVL3-8B/RQ1_InternVL3-8B_8B_country_L2_prompt1_r1.json\n"
          ]
        },
        {
          "output_type": "stream",
          "name": "stderr",
          "text": [
            "Setting `pad_token_id` to `eos_token_id`:151645 for open-end generation.\n"
          ]
        },
        {
          "output_type": "stream",
          "name": "stdout",
          "text": [
            "  ✔ prompt2: infer_img() full-res ok\n",
            " Saved results to /content/drive/MyDrive/RQ1_Experiments/results/InternVL3-8B/RQ1_InternVL3-8B_8B_country_L2_prompt2_r1.json\n"
          ]
        },
        {
          "output_type": "stream",
          "name": "stderr",
          "text": [
            "Setting `pad_token_id` to `eos_token_id`:151645 for open-end generation.\n"
          ]
        },
        {
          "output_type": "stream",
          "name": "stdout",
          "text": [
            "  ✔ prompt3: infer_img() full-res ok\n",
            " Saved results to /content/drive/MyDrive/RQ1_Experiments/results/InternVL3-8B/RQ1_InternVL3-8B_8B_country_L2_prompt3_r1.json\n",
            "  ✔ prompt4: infer_img() full-res ok\n",
            " Saved results to /content/drive/MyDrive/RQ1_Experiments/results/InternVL3-8B/RQ1_InternVL3-8B_8B_country_L2_prompt4_r1.json\n",
            "------------------------------------------------------\n",
            "\n",
            "Processing 53/360: /content/drive/MyDrive/RQ1_Experiments/RQ1_Data_Batch1/Africa/Sudan/Africa_Sudan_SUDRTT_TOP.png\n"
          ]
        },
        {
          "output_type": "stream",
          "name": "stderr",
          "text": [
            "Setting `pad_token_id` to `eos_token_id`:151645 for open-end generation.\n",
            "Setting `pad_token_id` to `eos_token_id`:151645 for open-end generation.\n"
          ]
        },
        {
          "output_type": "stream",
          "name": "stdout",
          "text": [
            "  ✔ prompt1: infer_img() full-res ok\n",
            " Saved results to /content/drive/MyDrive/RQ1_Experiments/results/InternVL3-8B/RQ1_InternVL3-8B_8B_country_L2_prompt1_r1.json\n"
          ]
        },
        {
          "output_type": "stream",
          "name": "stderr",
          "text": [
            "Setting `pad_token_id` to `eos_token_id`:151645 for open-end generation.\n"
          ]
        },
        {
          "output_type": "stream",
          "name": "stdout",
          "text": [
            "  ✔ prompt2: infer_img() full-res ok\n",
            " Saved results to /content/drive/MyDrive/RQ1_Experiments/results/InternVL3-8B/RQ1_InternVL3-8B_8B_country_L2_prompt2_r1.json\n"
          ]
        },
        {
          "output_type": "stream",
          "name": "stderr",
          "text": [
            "Setting `pad_token_id` to `eos_token_id`:151645 for open-end generation.\n"
          ]
        },
        {
          "output_type": "stream",
          "name": "stdout",
          "text": [
            "  ✔ prompt3: infer_img() full-res ok\n",
            " Saved results to /content/drive/MyDrive/RQ1_Experiments/results/InternVL3-8B/RQ1_InternVL3-8B_8B_country_L2_prompt3_r1.json\n",
            "  ✔ prompt4: infer_img() full-res ok\n",
            " Saved results to /content/drive/MyDrive/RQ1_Experiments/results/InternVL3-8B/RQ1_InternVL3-8B_8B_country_L2_prompt4_r1.json\n",
            "------------------------------------------------------\n",
            "\n",
            "Processing 54/360: /content/drive/MyDrive/RQ1_Experiments/RQ1_Data_Batch1/Africa/Sudan/Africa_Sudan_SUGHH_TOP.png\n"
          ]
        },
        {
          "output_type": "stream",
          "name": "stderr",
          "text": [
            "Setting `pad_token_id` to `eos_token_id`:151645 for open-end generation.\n",
            "Setting `pad_token_id` to `eos_token_id`:151645 for open-end generation.\n"
          ]
        },
        {
          "output_type": "stream",
          "name": "stdout",
          "text": [
            "  ✔ prompt1: infer_img() full-res ok\n",
            " Saved results to /content/drive/MyDrive/RQ1_Experiments/results/InternVL3-8B/RQ1_InternVL3-8B_8B_country_L2_prompt1_r1.json\n"
          ]
        },
        {
          "output_type": "stream",
          "name": "stderr",
          "text": [
            "Setting `pad_token_id` to `eos_token_id`:151645 for open-end generation.\n"
          ]
        },
        {
          "output_type": "stream",
          "name": "stdout",
          "text": [
            "  ✔ prompt2: infer_img() full-res ok\n",
            " Saved results to /content/drive/MyDrive/RQ1_Experiments/results/InternVL3-8B/RQ1_InternVL3-8B_8B_country_L2_prompt2_r1.json\n"
          ]
        },
        {
          "output_type": "stream",
          "name": "stderr",
          "text": [
            "Setting `pad_token_id` to `eos_token_id`:151645 for open-end generation.\n"
          ]
        },
        {
          "output_type": "stream",
          "name": "stdout",
          "text": [
            "  ✔ prompt3: infer_img() full-res ok\n",
            " Saved results to /content/drive/MyDrive/RQ1_Experiments/results/InternVL3-8B/RQ1_InternVL3-8B_8B_country_L2_prompt3_r1.json\n",
            "  ✔ prompt4: infer_img() full-res ok\n",
            " Saved results to /content/drive/MyDrive/RQ1_Experiments/results/InternVL3-8B/RQ1_InternVL3-8B_8B_country_L2_prompt4_r1.json\n",
            "------------------------------------------------------\n",
            "\n",
            "Processing 55/360: /content/drive/MyDrive/RQ1_Experiments/RQ1_Data_Batch1/Africa/Sudan/Africa_Sudan_SUKII_TOP.png\n"
          ]
        },
        {
          "output_type": "stream",
          "name": "stderr",
          "text": [
            "Setting `pad_token_id` to `eos_token_id`:151645 for open-end generation.\n",
            "Setting `pad_token_id` to `eos_token_id`:151645 for open-end generation.\n"
          ]
        },
        {
          "output_type": "stream",
          "name": "stdout",
          "text": [
            "  ✔ prompt1: infer_img() full-res ok\n",
            " Saved results to /content/drive/MyDrive/RQ1_Experiments/results/InternVL3-8B/RQ1_InternVL3-8B_8B_country_L2_prompt1_r1.json\n"
          ]
        },
        {
          "output_type": "stream",
          "name": "stderr",
          "text": [
            "Setting `pad_token_id` to `eos_token_id`:151645 for open-end generation.\n"
          ]
        },
        {
          "output_type": "stream",
          "name": "stdout",
          "text": [
            "  ✔ prompt2: infer_img() full-res ok\n",
            " Saved results to /content/drive/MyDrive/RQ1_Experiments/results/InternVL3-8B/RQ1_InternVL3-8B_8B_country_L2_prompt2_r1.json\n"
          ]
        },
        {
          "output_type": "stream",
          "name": "stderr",
          "text": [
            "Setting `pad_token_id` to `eos_token_id`:151645 for open-end generation.\n"
          ]
        },
        {
          "output_type": "stream",
          "name": "stdout",
          "text": [
            "  ✔ prompt3: infer_img() full-res ok\n",
            " Saved results to /content/drive/MyDrive/RQ1_Experiments/results/InternVL3-8B/RQ1_InternVL3-8B_8B_country_L2_prompt3_r1.json\n",
            "  ✔ prompt4: infer_img() full-res ok\n",
            " Saved results to /content/drive/MyDrive/RQ1_Experiments/results/InternVL3-8B/RQ1_InternVL3-8B_8B_country_L2_prompt4_r1.json\n",
            "------------------------------------------------------\n",
            "\n",
            "Processing 56/360: /content/drive/MyDrive/RQ1_Experiments/RQ1_Data_Batch1/Africa/Sudan/Africa_Sudan_SUTI_TOP.png\n"
          ]
        },
        {
          "output_type": "stream",
          "name": "stderr",
          "text": [
            "Setting `pad_token_id` to `eos_token_id`:151645 for open-end generation.\n",
            "Setting `pad_token_id` to `eos_token_id`:151645 for open-end generation.\n"
          ]
        },
        {
          "output_type": "stream",
          "name": "stdout",
          "text": [
            "  ✔ prompt1: infer_img() full-res ok\n",
            " Saved results to /content/drive/MyDrive/RQ1_Experiments/results/InternVL3-8B/RQ1_InternVL3-8B_8B_country_L2_prompt1_r1.json\n"
          ]
        },
        {
          "output_type": "stream",
          "name": "stderr",
          "text": [
            "Setting `pad_token_id` to `eos_token_id`:151645 for open-end generation.\n"
          ]
        },
        {
          "output_type": "stream",
          "name": "stdout",
          "text": [
            "  ✔ prompt2: infer_img() full-res ok\n",
            " Saved results to /content/drive/MyDrive/RQ1_Experiments/results/InternVL3-8B/RQ1_InternVL3-8B_8B_country_L2_prompt2_r1.json\n"
          ]
        },
        {
          "output_type": "stream",
          "name": "stderr",
          "text": [
            "Setting `pad_token_id` to `eos_token_id`:151645 for open-end generation.\n"
          ]
        },
        {
          "output_type": "stream",
          "name": "stdout",
          "text": [
            "  ✔ prompt3: infer_img() full-res ok\n",
            " Saved results to /content/drive/MyDrive/RQ1_Experiments/results/InternVL3-8B/RQ1_InternVL3-8B_8B_country_L2_prompt3_r1.json\n",
            "  ✔ prompt4: infer_img() full-res ok\n",
            " Saved results to /content/drive/MyDrive/RQ1_Experiments/results/InternVL3-8B/RQ1_InternVL3-8B_8B_country_L2_prompt4_r1.json\n",
            "------------------------------------------------------\n",
            "\n",
            "Processing 57/360: /content/drive/MyDrive/RQ1_Experiments/RQ1_Data_Batch1/Africa/Zimbabwe/Africa_Zimbabwe_ZIM1_MIDDLE.png\n"
          ]
        },
        {
          "output_type": "stream",
          "name": "stderr",
          "text": [
            "Setting `pad_token_id` to `eos_token_id`:151645 for open-end generation.\n",
            "Setting `pad_token_id` to `eos_token_id`:151645 for open-end generation.\n"
          ]
        },
        {
          "output_type": "stream",
          "name": "stdout",
          "text": [
            "  ✔ prompt1: infer_img() full-res ok\n",
            " Saved results to /content/drive/MyDrive/RQ1_Experiments/results/InternVL3-8B/RQ1_InternVL3-8B_8B_country_L2_prompt1_r1.json\n"
          ]
        },
        {
          "output_type": "stream",
          "name": "stderr",
          "text": [
            "Setting `pad_token_id` to `eos_token_id`:151645 for open-end generation.\n"
          ]
        },
        {
          "output_type": "stream",
          "name": "stdout",
          "text": [
            "  ✔ prompt2: infer_img() full-res ok\n",
            " Saved results to /content/drive/MyDrive/RQ1_Experiments/results/InternVL3-8B/RQ1_InternVL3-8B_8B_country_L2_prompt2_r1.json\n"
          ]
        },
        {
          "output_type": "stream",
          "name": "stderr",
          "text": [
            "Setting `pad_token_id` to `eos_token_id`:151645 for open-end generation.\n"
          ]
        },
        {
          "output_type": "stream",
          "name": "stdout",
          "text": [
            "  ✔ prompt3: infer_img() full-res ok\n",
            " Saved results to /content/drive/MyDrive/RQ1_Experiments/results/InternVL3-8B/RQ1_InternVL3-8B_8B_country_L2_prompt3_r1.json\n",
            "  ✔ prompt4: infer_img() full-res ok\n",
            " Saved results to /content/drive/MyDrive/RQ1_Experiments/results/InternVL3-8B/RQ1_InternVL3-8B_8B_country_L2_prompt4_r1.json\n",
            "------------------------------------------------------\n",
            "\n",
            "Processing 58/360: /content/drive/MyDrive/RQ1_Experiments/RQ1_Data_Batch1/Africa/Zimbabwe/Africa_Zimbabwe_ZIM2_MIDDLE.png\n"
          ]
        },
        {
          "output_type": "stream",
          "name": "stderr",
          "text": [
            "Setting `pad_token_id` to `eos_token_id`:151645 for open-end generation.\n",
            "Setting `pad_token_id` to `eos_token_id`:151645 for open-end generation.\n"
          ]
        },
        {
          "output_type": "stream",
          "name": "stdout",
          "text": [
            "  ✔ prompt1: infer_img() full-res ok\n",
            " Saved results to /content/drive/MyDrive/RQ1_Experiments/results/InternVL3-8B/RQ1_InternVL3-8B_8B_country_L2_prompt1_r1.json\n"
          ]
        },
        {
          "output_type": "stream",
          "name": "stderr",
          "text": [
            "Setting `pad_token_id` to `eos_token_id`:151645 for open-end generation.\n"
          ]
        },
        {
          "output_type": "stream",
          "name": "stdout",
          "text": [
            "  ✔ prompt2: infer_img() full-res ok\n",
            " Saved results to /content/drive/MyDrive/RQ1_Experiments/results/InternVL3-8B/RQ1_InternVL3-8B_8B_country_L2_prompt2_r1.json\n"
          ]
        },
        {
          "output_type": "stream",
          "name": "stderr",
          "text": [
            "Setting `pad_token_id` to `eos_token_id`:151645 for open-end generation.\n"
          ]
        },
        {
          "output_type": "stream",
          "name": "stdout",
          "text": [
            "  ✔ prompt3: infer_img() full-res ok\n",
            " Saved results to /content/drive/MyDrive/RQ1_Experiments/results/InternVL3-8B/RQ1_InternVL3-8B_8B_country_L2_prompt3_r1.json\n",
            "  ✔ prompt4: infer_img() full-res ok\n",
            " Saved results to /content/drive/MyDrive/RQ1_Experiments/results/InternVL3-8B/RQ1_InternVL3-8B_8B_country_L2_prompt4_r1.json\n",
            "------------------------------------------------------\n",
            "\n",
            "Processing 59/360: /content/drive/MyDrive/RQ1_Experiments/RQ1_Data_Batch1/Africa/Zimbabwe/Africa_Zimbabwe_ZIM3_MIDDLE.png\n"
          ]
        },
        {
          "output_type": "stream",
          "name": "stderr",
          "text": [
            "Setting `pad_token_id` to `eos_token_id`:151645 for open-end generation.\n",
            "Setting `pad_token_id` to `eos_token_id`:151645 for open-end generation.\n"
          ]
        },
        {
          "output_type": "stream",
          "name": "stdout",
          "text": [
            "  ✔ prompt1: infer_img() full-res ok\n",
            " Saved results to /content/drive/MyDrive/RQ1_Experiments/results/InternVL3-8B/RQ1_InternVL3-8B_8B_country_L2_prompt1_r1.json\n"
          ]
        },
        {
          "output_type": "stream",
          "name": "stderr",
          "text": [
            "Setting `pad_token_id` to `eos_token_id`:151645 for open-end generation.\n"
          ]
        },
        {
          "output_type": "stream",
          "name": "stdout",
          "text": [
            "  ✔ prompt2: infer_img() full-res ok\n",
            " Saved results to /content/drive/MyDrive/RQ1_Experiments/results/InternVL3-8B/RQ1_InternVL3-8B_8B_country_L2_prompt2_r1.json\n"
          ]
        },
        {
          "output_type": "stream",
          "name": "stderr",
          "text": [
            "Setting `pad_token_id` to `eos_token_id`:151645 for open-end generation.\n"
          ]
        },
        {
          "output_type": "stream",
          "name": "stdout",
          "text": [
            "  ✔ prompt3: infer_img() full-res ok\n",
            " Saved results to /content/drive/MyDrive/RQ1_Experiments/results/InternVL3-8B/RQ1_InternVL3-8B_8B_country_L2_prompt3_r1.json\n",
            "  ✔ prompt4: infer_img() full-res ok\n",
            " Saved results to /content/drive/MyDrive/RQ1_Experiments/results/InternVL3-8B/RQ1_InternVL3-8B_8B_country_L2_prompt4_r1.json\n",
            "------------------------------------------------------\n",
            "\n",
            "Processing 60/360: /content/drive/MyDrive/RQ1_Experiments/RQ1_Data_Batch1/Africa/Zimbabwe/Africa_Zimbabwe_ZIM4_MIDDLE.png\n"
          ]
        },
        {
          "output_type": "stream",
          "name": "stderr",
          "text": [
            "Setting `pad_token_id` to `eos_token_id`:151645 for open-end generation.\n",
            "Setting `pad_token_id` to `eos_token_id`:151645 for open-end generation.\n"
          ]
        },
        {
          "output_type": "stream",
          "name": "stdout",
          "text": [
            "  ✔ prompt1: infer_img() full-res ok\n",
            " Saved results to /content/drive/MyDrive/RQ1_Experiments/results/InternVL3-8B/RQ1_InternVL3-8B_8B_country_L2_prompt1_r1.json\n"
          ]
        },
        {
          "output_type": "stream",
          "name": "stderr",
          "text": [
            "Setting `pad_token_id` to `eos_token_id`:151645 for open-end generation.\n"
          ]
        },
        {
          "output_type": "stream",
          "name": "stdout",
          "text": [
            "  ✔ prompt2: infer_img() full-res ok\n",
            " Saved results to /content/drive/MyDrive/RQ1_Experiments/results/InternVL3-8B/RQ1_InternVL3-8B_8B_country_L2_prompt2_r1.json\n"
          ]
        },
        {
          "output_type": "stream",
          "name": "stderr",
          "text": [
            "Setting `pad_token_id` to `eos_token_id`:151645 for open-end generation.\n"
          ]
        },
        {
          "output_type": "stream",
          "name": "stdout",
          "text": [
            "  ✔ prompt3: infer_img() full-res ok\n",
            " Saved results to /content/drive/MyDrive/RQ1_Experiments/results/InternVL3-8B/RQ1_InternVL3-8B_8B_country_L2_prompt3_r1.json\n",
            "  ✔ prompt4: infer_img() full-res ok\n",
            " Saved results to /content/drive/MyDrive/RQ1_Experiments/results/InternVL3-8B/RQ1_InternVL3-8B_8B_country_L2_prompt4_r1.json\n",
            "------------------------------------------------------\n",
            "\n",
            "Processing 61/360: /content/drive/MyDrive/RQ1_Experiments/RQ1_Data_Batch1/Asia/Azerbaijan/Asia_Azerbaijan_AJ1_MIDDLE.jpg\n"
          ]
        },
        {
          "output_type": "stream",
          "name": "stderr",
          "text": [
            "Setting `pad_token_id` to `eos_token_id`:151645 for open-end generation.\n",
            "Setting `pad_token_id` to `eos_token_id`:151645 for open-end generation.\n"
          ]
        },
        {
          "output_type": "stream",
          "name": "stdout",
          "text": [
            "  ✔ prompt1: infer_img() full-res ok\n",
            " Saved results to /content/drive/MyDrive/RQ1_Experiments/results/InternVL3-8B/RQ1_InternVL3-8B_8B_country_L2_prompt1_r1.json\n"
          ]
        },
        {
          "output_type": "stream",
          "name": "stderr",
          "text": [
            "Setting `pad_token_id` to `eos_token_id`:151645 for open-end generation.\n"
          ]
        },
        {
          "output_type": "stream",
          "name": "stdout",
          "text": [
            "  ✔ prompt2: infer_img() full-res ok\n",
            " Saved results to /content/drive/MyDrive/RQ1_Experiments/results/InternVL3-8B/RQ1_InternVL3-8B_8B_country_L2_prompt2_r1.json\n"
          ]
        },
        {
          "output_type": "stream",
          "name": "stderr",
          "text": [
            "Setting `pad_token_id` to `eos_token_id`:151645 for open-end generation.\n"
          ]
        },
        {
          "output_type": "stream",
          "name": "stdout",
          "text": [
            "  ✔ prompt3: infer_img() full-res ok\n",
            " Saved results to /content/drive/MyDrive/RQ1_Experiments/results/InternVL3-8B/RQ1_InternVL3-8B_8B_country_L2_prompt3_r1.json\n",
            "  ✔ prompt4: infer_img() full-res ok\n",
            " Saved results to /content/drive/MyDrive/RQ1_Experiments/results/InternVL3-8B/RQ1_InternVL3-8B_8B_country_L2_prompt4_r1.json\n",
            "------------------------------------------------------\n",
            "\n",
            "Processing 62/360: /content/drive/MyDrive/RQ1_Experiments/RQ1_Data_Batch1/Asia/Azerbaijan/Asia_Azerbaijan_AJ2_MIDDLE.jpg\n"
          ]
        },
        {
          "output_type": "stream",
          "name": "stderr",
          "text": [
            "Setting `pad_token_id` to `eos_token_id`:151645 for open-end generation.\n",
            "Setting `pad_token_id` to `eos_token_id`:151645 for open-end generation.\n"
          ]
        },
        {
          "output_type": "stream",
          "name": "stdout",
          "text": [
            "  ✔ prompt1: infer_img() full-res ok\n",
            " Saved results to /content/drive/MyDrive/RQ1_Experiments/results/InternVL3-8B/RQ1_InternVL3-8B_8B_country_L2_prompt1_r1.json\n"
          ]
        },
        {
          "output_type": "stream",
          "name": "stderr",
          "text": [
            "Setting `pad_token_id` to `eos_token_id`:151645 for open-end generation.\n"
          ]
        },
        {
          "output_type": "stream",
          "name": "stdout",
          "text": [
            "  ✔ prompt2: infer_img() full-res ok\n",
            " Saved results to /content/drive/MyDrive/RQ1_Experiments/results/InternVL3-8B/RQ1_InternVL3-8B_8B_country_L2_prompt2_r1.json\n"
          ]
        },
        {
          "output_type": "stream",
          "name": "stderr",
          "text": [
            "Setting `pad_token_id` to `eos_token_id`:151645 for open-end generation.\n"
          ]
        },
        {
          "output_type": "stream",
          "name": "stdout",
          "text": [
            "  ✔ prompt3: infer_img() full-res ok\n",
            " Saved results to /content/drive/MyDrive/RQ1_Experiments/results/InternVL3-8B/RQ1_InternVL3-8B_8B_country_L2_prompt3_r1.json\n",
            "  ✔ prompt4: infer_img() full-res ok\n",
            " Saved results to /content/drive/MyDrive/RQ1_Experiments/results/InternVL3-8B/RQ1_InternVL3-8B_8B_country_L2_prompt4_r1.json\n",
            "------------------------------------------------------\n",
            "\n",
            "Processing 63/360: /content/drive/MyDrive/RQ1_Experiments/RQ1_Data_Batch1/Asia/Bhutan/Asia_Bhutan_BT1_LAST.jpg\n"
          ]
        },
        {
          "output_type": "stream",
          "name": "stderr",
          "text": [
            "Setting `pad_token_id` to `eos_token_id`:151645 for open-end generation.\n",
            "Setting `pad_token_id` to `eos_token_id`:151645 for open-end generation.\n"
          ]
        },
        {
          "output_type": "stream",
          "name": "stdout",
          "text": [
            "  ✔ prompt1: infer_img() full-res ok\n",
            " Saved results to /content/drive/MyDrive/RQ1_Experiments/results/InternVL3-8B/RQ1_InternVL3-8B_8B_country_L2_prompt1_r1.json\n"
          ]
        },
        {
          "output_type": "stream",
          "name": "stderr",
          "text": [
            "Setting `pad_token_id` to `eos_token_id`:151645 for open-end generation.\n"
          ]
        },
        {
          "output_type": "stream",
          "name": "stdout",
          "text": [
            "  ✔ prompt2: infer_img() full-res ok\n",
            " Saved results to /content/drive/MyDrive/RQ1_Experiments/results/InternVL3-8B/RQ1_InternVL3-8B_8B_country_L2_prompt2_r1.json\n"
          ]
        },
        {
          "output_type": "stream",
          "name": "stderr",
          "text": [
            "Setting `pad_token_id` to `eos_token_id`:151645 for open-end generation.\n"
          ]
        },
        {
          "output_type": "stream",
          "name": "stdout",
          "text": [
            "  ✔ prompt3: infer_img() full-res ok\n",
            " Saved results to /content/drive/MyDrive/RQ1_Experiments/results/InternVL3-8B/RQ1_InternVL3-8B_8B_country_L2_prompt3_r1.json\n",
            "  ✔ prompt4: infer_img() full-res ok\n",
            " Saved results to /content/drive/MyDrive/RQ1_Experiments/results/InternVL3-8B/RQ1_InternVL3-8B_8B_country_L2_prompt4_r1.json\n",
            "------------------------------------------------------\n",
            "\n",
            "Processing 64/360: /content/drive/MyDrive/RQ1_Experiments/RQ1_Data_Batch1/Asia/Bhutan/Asia_Bhutan_BT2_LAST.jpg\n"
          ]
        },
        {
          "output_type": "stream",
          "name": "stderr",
          "text": [
            "Setting `pad_token_id` to `eos_token_id`:151645 for open-end generation.\n",
            "Setting `pad_token_id` to `eos_token_id`:151645 for open-end generation.\n"
          ]
        },
        {
          "output_type": "stream",
          "name": "stdout",
          "text": [
            "  ✔ prompt1: infer_img() full-res ok\n",
            " Saved results to /content/drive/MyDrive/RQ1_Experiments/results/InternVL3-8B/RQ1_InternVL3-8B_8B_country_L2_prompt1_r1.json\n"
          ]
        },
        {
          "output_type": "stream",
          "name": "stderr",
          "text": [
            "Setting `pad_token_id` to `eos_token_id`:151645 for open-end generation.\n"
          ]
        },
        {
          "output_type": "stream",
          "name": "stdout",
          "text": [
            "  ✔ prompt2: infer_img() full-res ok\n",
            " Saved results to /content/drive/MyDrive/RQ1_Experiments/results/InternVL3-8B/RQ1_InternVL3-8B_8B_country_L2_prompt2_r1.json\n"
          ]
        },
        {
          "output_type": "stream",
          "name": "stderr",
          "text": [
            "Setting `pad_token_id` to `eos_token_id`:151645 for open-end generation.\n"
          ]
        },
        {
          "output_type": "stream",
          "name": "stdout",
          "text": [
            "  ✔ prompt3: infer_img() full-res ok\n",
            " Saved results to /content/drive/MyDrive/RQ1_Experiments/results/InternVL3-8B/RQ1_InternVL3-8B_8B_country_L2_prompt3_r1.json\n",
            "  ✔ prompt4: infer_img() full-res ok\n",
            " Saved results to /content/drive/MyDrive/RQ1_Experiments/results/InternVL3-8B/RQ1_InternVL3-8B_8B_country_L2_prompt4_r1.json\n",
            "------------------------------------------------------\n",
            "\n",
            "Processing 65/360: /content/drive/MyDrive/RQ1_Experiments/RQ1_Data_Batch1/Asia/Bhutan/Asia_Bhutan_BT3_LAST.JPG\n"
          ]
        },
        {
          "output_type": "stream",
          "name": "stderr",
          "text": [
            "Setting `pad_token_id` to `eos_token_id`:151645 for open-end generation.\n",
            "Setting `pad_token_id` to `eos_token_id`:151645 for open-end generation.\n"
          ]
        },
        {
          "output_type": "stream",
          "name": "stdout",
          "text": [
            "  ✔ prompt1: infer_img() full-res ok\n",
            " Saved results to /content/drive/MyDrive/RQ1_Experiments/results/InternVL3-8B/RQ1_InternVL3-8B_8B_country_L2_prompt1_r1.json\n"
          ]
        },
        {
          "output_type": "stream",
          "name": "stderr",
          "text": [
            "Setting `pad_token_id` to `eos_token_id`:151645 for open-end generation.\n"
          ]
        },
        {
          "output_type": "stream",
          "name": "stdout",
          "text": [
            "  ✔ prompt2: infer_img() full-res ok\n",
            " Saved results to /content/drive/MyDrive/RQ1_Experiments/results/InternVL3-8B/RQ1_InternVL3-8B_8B_country_L2_prompt2_r1.json\n"
          ]
        },
        {
          "output_type": "stream",
          "name": "stderr",
          "text": [
            "Setting `pad_token_id` to `eos_token_id`:151645 for open-end generation.\n"
          ]
        },
        {
          "output_type": "stream",
          "name": "stdout",
          "text": [
            "  ✔ prompt3: infer_img() full-res ok\n",
            " Saved results to /content/drive/MyDrive/RQ1_Experiments/results/InternVL3-8B/RQ1_InternVL3-8B_8B_country_L2_prompt3_r1.json\n",
            "  ✔ prompt4: infer_img() full-res ok\n",
            " Saved results to /content/drive/MyDrive/RQ1_Experiments/results/InternVL3-8B/RQ1_InternVL3-8B_8B_country_L2_prompt4_r1.json\n",
            "------------------------------------------------------\n",
            "\n",
            "Processing 66/360: /content/drive/MyDrive/RQ1_Experiments/RQ1_Data_Batch1/Asia/Bhutan/Asia_Bhutan_BT4_LAST.jpg\n"
          ]
        },
        {
          "output_type": "stream",
          "name": "stderr",
          "text": [
            "Setting `pad_token_id` to `eos_token_id`:151645 for open-end generation.\n",
            "Setting `pad_token_id` to `eos_token_id`:151645 for open-end generation.\n"
          ]
        },
        {
          "output_type": "stream",
          "name": "stdout",
          "text": [
            "  ✔ prompt1: infer_img() full-res ok\n",
            " Saved results to /content/drive/MyDrive/RQ1_Experiments/results/InternVL3-8B/RQ1_InternVL3-8B_8B_country_L2_prompt1_r1.json\n"
          ]
        },
        {
          "output_type": "stream",
          "name": "stderr",
          "text": [
            "Setting `pad_token_id` to `eos_token_id`:151645 for open-end generation.\n"
          ]
        },
        {
          "output_type": "stream",
          "name": "stdout",
          "text": [
            "  ✔ prompt2: infer_img() full-res ok\n",
            " Saved results to /content/drive/MyDrive/RQ1_Experiments/results/InternVL3-8B/RQ1_InternVL3-8B_8B_country_L2_prompt2_r1.json\n"
          ]
        },
        {
          "output_type": "stream",
          "name": "stderr",
          "text": [
            "Setting `pad_token_id` to `eos_token_id`:151645 for open-end generation.\n"
          ]
        },
        {
          "output_type": "stream",
          "name": "stdout",
          "text": [
            "  ✔ prompt3: infer_img() full-res ok\n",
            " Saved results to /content/drive/MyDrive/RQ1_Experiments/results/InternVL3-8B/RQ1_InternVL3-8B_8B_country_L2_prompt3_r1.json\n",
            "  ✔ prompt4: infer_img() full-res ok\n",
            " Saved results to /content/drive/MyDrive/RQ1_Experiments/results/InternVL3-8B/RQ1_InternVL3-8B_8B_country_L2_prompt4_r1.json\n",
            "------------------------------------------------------\n",
            "\n",
            "Processing 67/360: /content/drive/MyDrive/RQ1_Experiments/RQ1_Data_Batch1/Asia/Bhutan/Asia_Bhutan_BT5_LAST.jpg\n"
          ]
        },
        {
          "output_type": "stream",
          "name": "stderr",
          "text": [
            "Setting `pad_token_id` to `eos_token_id`:151645 for open-end generation.\n",
            "Setting `pad_token_id` to `eos_token_id`:151645 for open-end generation.\n"
          ]
        },
        {
          "output_type": "stream",
          "name": "stdout",
          "text": [
            "  ✔ prompt1: infer_img() full-res ok\n",
            " Saved results to /content/drive/MyDrive/RQ1_Experiments/results/InternVL3-8B/RQ1_InternVL3-8B_8B_country_L2_prompt1_r1.json\n"
          ]
        },
        {
          "output_type": "stream",
          "name": "stderr",
          "text": [
            "Setting `pad_token_id` to `eos_token_id`:151645 for open-end generation.\n"
          ]
        },
        {
          "output_type": "stream",
          "name": "stdout",
          "text": [
            "  ✔ prompt2: infer_img() full-res ok\n",
            " Saved results to /content/drive/MyDrive/RQ1_Experiments/results/InternVL3-8B/RQ1_InternVL3-8B_8B_country_L2_prompt2_r1.json\n"
          ]
        },
        {
          "output_type": "stream",
          "name": "stderr",
          "text": [
            "Setting `pad_token_id` to `eos_token_id`:151645 for open-end generation.\n"
          ]
        },
        {
          "output_type": "stream",
          "name": "stdout",
          "text": [
            "  ✔ prompt3: infer_img() full-res ok\n",
            " Saved results to /content/drive/MyDrive/RQ1_Experiments/results/InternVL3-8B/RQ1_InternVL3-8B_8B_country_L2_prompt3_r1.json\n",
            "  ✔ prompt4: infer_img() full-res ok\n",
            " Saved results to /content/drive/MyDrive/RQ1_Experiments/results/InternVL3-8B/RQ1_InternVL3-8B_8B_country_L2_prompt4_r1.json\n",
            "------------------------------------------------------\n",
            "\n",
            "Processing 68/360: /content/drive/MyDrive/RQ1_Experiments/RQ1_Data_Batch1/Asia/Bhutan/Asia_Bhutan_BT6_LAST.jpg\n"
          ]
        },
        {
          "output_type": "stream",
          "name": "stderr",
          "text": [
            "Setting `pad_token_id` to `eos_token_id`:151645 for open-end generation.\n",
            "Setting `pad_token_id` to `eos_token_id`:151645 for open-end generation.\n"
          ]
        },
        {
          "output_type": "stream",
          "name": "stdout",
          "text": [
            "  ✔ prompt1: infer_img() full-res ok\n",
            " Saved results to /content/drive/MyDrive/RQ1_Experiments/results/InternVL3-8B/RQ1_InternVL3-8B_8B_country_L2_prompt1_r1.json\n"
          ]
        },
        {
          "output_type": "stream",
          "name": "stderr",
          "text": [
            "Setting `pad_token_id` to `eos_token_id`:151645 for open-end generation.\n"
          ]
        },
        {
          "output_type": "stream",
          "name": "stdout",
          "text": [
            "  ✔ prompt2: infer_img() full-res ok\n",
            " Saved results to /content/drive/MyDrive/RQ1_Experiments/results/InternVL3-8B/RQ1_InternVL3-8B_8B_country_L2_prompt2_r1.json\n"
          ]
        },
        {
          "output_type": "stream",
          "name": "stderr",
          "text": [
            "Setting `pad_token_id` to `eos_token_id`:151645 for open-end generation.\n"
          ]
        },
        {
          "output_type": "stream",
          "name": "stdout",
          "text": [
            "  ✔ prompt3: infer_img() full-res ok\n",
            " Saved results to /content/drive/MyDrive/RQ1_Experiments/results/InternVL3-8B/RQ1_InternVL3-8B_8B_country_L2_prompt3_r1.json\n",
            "  ✔ prompt4: infer_img() full-res ok\n",
            " Saved results to /content/drive/MyDrive/RQ1_Experiments/results/InternVL3-8B/RQ1_InternVL3-8B_8B_country_L2_prompt4_r1.json\n",
            "------------------------------------------------------\n",
            "\n",
            "Processing 69/360: /content/drive/MyDrive/RQ1_Experiments/RQ1_Data_Batch1/Asia/Bhutan/Asia_Bhutan_BT7_LAST.jpg\n"
          ]
        },
        {
          "output_type": "stream",
          "name": "stderr",
          "text": [
            "Setting `pad_token_id` to `eos_token_id`:151645 for open-end generation.\n",
            "Setting `pad_token_id` to `eos_token_id`:151645 for open-end generation.\n"
          ]
        },
        {
          "output_type": "stream",
          "name": "stdout",
          "text": [
            "  ✔ prompt1: infer_img() full-res ok\n",
            " Saved results to /content/drive/MyDrive/RQ1_Experiments/results/InternVL3-8B/RQ1_InternVL3-8B_8B_country_L2_prompt1_r1.json\n"
          ]
        },
        {
          "output_type": "stream",
          "name": "stderr",
          "text": [
            "Setting `pad_token_id` to `eos_token_id`:151645 for open-end generation.\n"
          ]
        },
        {
          "output_type": "stream",
          "name": "stdout",
          "text": [
            "  ✔ prompt2: infer_img() full-res ok\n",
            " Saved results to /content/drive/MyDrive/RQ1_Experiments/results/InternVL3-8B/RQ1_InternVL3-8B_8B_country_L2_prompt2_r1.json\n"
          ]
        },
        {
          "output_type": "stream",
          "name": "stderr",
          "text": [
            "Setting `pad_token_id` to `eos_token_id`:151645 for open-end generation.\n"
          ]
        },
        {
          "output_type": "stream",
          "name": "stdout",
          "text": [
            "  ✔ prompt3: infer_img() full-res ok\n",
            " Saved results to /content/drive/MyDrive/RQ1_Experiments/results/InternVL3-8B/RQ1_InternVL3-8B_8B_country_L2_prompt3_r1.json\n",
            "  ✔ prompt4: infer_img() full-res ok\n",
            " Saved results to /content/drive/MyDrive/RQ1_Experiments/results/InternVL3-8B/RQ1_InternVL3-8B_8B_country_L2_prompt4_r1.json\n",
            "------------------------------------------------------\n",
            "\n",
            "Processing 70/360: /content/drive/MyDrive/RQ1_Experiments/RQ1_Data_Batch1/Asia/Cambodia/Asia_Cambodia_C1_MIDDLE.jpg\n"
          ]
        },
        {
          "output_type": "stream",
          "name": "stderr",
          "text": [
            "Setting `pad_token_id` to `eos_token_id`:151645 for open-end generation.\n",
            "Setting `pad_token_id` to `eos_token_id`:151645 for open-end generation.\n"
          ]
        },
        {
          "output_type": "stream",
          "name": "stdout",
          "text": [
            "  ✔ prompt1: infer_img() full-res ok\n",
            " Saved results to /content/drive/MyDrive/RQ1_Experiments/results/InternVL3-8B/RQ1_InternVL3-8B_8B_country_L2_prompt1_r1.json\n"
          ]
        },
        {
          "output_type": "stream",
          "name": "stderr",
          "text": [
            "Setting `pad_token_id` to `eos_token_id`:151645 for open-end generation.\n"
          ]
        },
        {
          "output_type": "stream",
          "name": "stdout",
          "text": [
            "  ✔ prompt2: infer_img() full-res ok\n",
            " Saved results to /content/drive/MyDrive/RQ1_Experiments/results/InternVL3-8B/RQ1_InternVL3-8B_8B_country_L2_prompt2_r1.json\n"
          ]
        },
        {
          "output_type": "stream",
          "name": "stderr",
          "text": [
            "Setting `pad_token_id` to `eos_token_id`:151645 for open-end generation.\n"
          ]
        },
        {
          "output_type": "stream",
          "name": "stdout",
          "text": [
            "  ✔ prompt3: infer_img() full-res ok\n",
            " Saved results to /content/drive/MyDrive/RQ1_Experiments/results/InternVL3-8B/RQ1_InternVL3-8B_8B_country_L2_prompt3_r1.json\n",
            "  ✔ prompt4: infer_img() full-res ok\n",
            " Saved results to /content/drive/MyDrive/RQ1_Experiments/results/InternVL3-8B/RQ1_InternVL3-8B_8B_country_L2_prompt4_r1.json\n",
            "------------------------------------------------------\n",
            "\n",
            "Processing 71/360: /content/drive/MyDrive/RQ1_Experiments/RQ1_Data_Batch1/Asia/Cambodia/Asia_Cambodia_C2_MIDDLE.jpg\n"
          ]
        },
        {
          "output_type": "stream",
          "name": "stderr",
          "text": [
            "Setting `pad_token_id` to `eos_token_id`:151645 for open-end generation.\n",
            "Setting `pad_token_id` to `eos_token_id`:151645 for open-end generation.\n"
          ]
        },
        {
          "output_type": "stream",
          "name": "stdout",
          "text": [
            "  ✔ prompt1: infer_img() full-res ok\n",
            " Saved results to /content/drive/MyDrive/RQ1_Experiments/results/InternVL3-8B/RQ1_InternVL3-8B_8B_country_L2_prompt1_r1.json\n"
          ]
        },
        {
          "output_type": "stream",
          "name": "stderr",
          "text": [
            "Setting `pad_token_id` to `eos_token_id`:151645 for open-end generation.\n"
          ]
        },
        {
          "output_type": "stream",
          "name": "stdout",
          "text": [
            "  ✔ prompt2: infer_img() full-res ok\n",
            " Saved results to /content/drive/MyDrive/RQ1_Experiments/results/InternVL3-8B/RQ1_InternVL3-8B_8B_country_L2_prompt2_r1.json\n"
          ]
        },
        {
          "output_type": "stream",
          "name": "stderr",
          "text": [
            "Setting `pad_token_id` to `eos_token_id`:151645 for open-end generation.\n"
          ]
        },
        {
          "output_type": "stream",
          "name": "stdout",
          "text": [
            "  ✔ prompt3: infer_img() full-res ok\n",
            " Saved results to /content/drive/MyDrive/RQ1_Experiments/results/InternVL3-8B/RQ1_InternVL3-8B_8B_country_L2_prompt3_r1.json\n",
            "  ✔ prompt4: infer_img() full-res ok\n",
            " Saved results to /content/drive/MyDrive/RQ1_Experiments/results/InternVL3-8B/RQ1_InternVL3-8B_8B_country_L2_prompt4_r1.json\n",
            "------------------------------------------------------\n",
            "\n",
            "Processing 72/360: /content/drive/MyDrive/RQ1_Experiments/RQ1_Data_Batch1/Asia/Cambodia/Asia_Cambodia_C3_MIDDLE.jpg\n"
          ]
        },
        {
          "output_type": "stream",
          "name": "stderr",
          "text": [
            "Setting `pad_token_id` to `eos_token_id`:151645 for open-end generation.\n",
            "Setting `pad_token_id` to `eos_token_id`:151645 for open-end generation.\n"
          ]
        },
        {
          "output_type": "stream",
          "name": "stdout",
          "text": [
            "  ✔ prompt1: infer_img() full-res ok\n",
            " Saved results to /content/drive/MyDrive/RQ1_Experiments/results/InternVL3-8B/RQ1_InternVL3-8B_8B_country_L2_prompt1_r1.json\n"
          ]
        },
        {
          "output_type": "stream",
          "name": "stderr",
          "text": [
            "Setting `pad_token_id` to `eos_token_id`:151645 for open-end generation.\n"
          ]
        },
        {
          "output_type": "stream",
          "name": "stdout",
          "text": [
            "  ✔ prompt2: infer_img() full-res ok\n",
            " Saved results to /content/drive/MyDrive/RQ1_Experiments/results/InternVL3-8B/RQ1_InternVL3-8B_8B_country_L2_prompt2_r1.json\n"
          ]
        },
        {
          "output_type": "stream",
          "name": "stderr",
          "text": [
            "Setting `pad_token_id` to `eos_token_id`:151645 for open-end generation.\n"
          ]
        },
        {
          "output_type": "stream",
          "name": "stdout",
          "text": [
            "  ✔ prompt3: infer_img() full-res ok\n",
            " Saved results to /content/drive/MyDrive/RQ1_Experiments/results/InternVL3-8B/RQ1_InternVL3-8B_8B_country_L2_prompt3_r1.json\n",
            "  ✔ prompt4: infer_img() full-res ok\n",
            " Saved results to /content/drive/MyDrive/RQ1_Experiments/results/InternVL3-8B/RQ1_InternVL3-8B_8B_country_L2_prompt4_r1.json\n",
            "------------------------------------------------------\n",
            "\n",
            "Processing 73/360: /content/drive/MyDrive/RQ1_Experiments/RQ1_Data_Batch1/Asia/Cambodia/Asia_Cambodia_C4_MIDDLE.jpeg\n"
          ]
        },
        {
          "output_type": "stream",
          "name": "stderr",
          "text": [
            "Setting `pad_token_id` to `eos_token_id`:151645 for open-end generation.\n",
            "Setting `pad_token_id` to `eos_token_id`:151645 for open-end generation.\n"
          ]
        },
        {
          "output_type": "stream",
          "name": "stdout",
          "text": [
            "  ✔ prompt1: infer_img() full-res ok\n",
            " Saved results to /content/drive/MyDrive/RQ1_Experiments/results/InternVL3-8B/RQ1_InternVL3-8B_8B_country_L2_prompt1_r1.json\n"
          ]
        },
        {
          "output_type": "stream",
          "name": "stderr",
          "text": [
            "Setting `pad_token_id` to `eos_token_id`:151645 for open-end generation.\n"
          ]
        },
        {
          "output_type": "stream",
          "name": "stdout",
          "text": [
            "  ✔ prompt2: infer_img() full-res ok\n",
            " Saved results to /content/drive/MyDrive/RQ1_Experiments/results/InternVL3-8B/RQ1_InternVL3-8B_8B_country_L2_prompt2_r1.json\n"
          ]
        },
        {
          "output_type": "stream",
          "name": "stderr",
          "text": [
            "Setting `pad_token_id` to `eos_token_id`:151645 for open-end generation.\n"
          ]
        },
        {
          "output_type": "stream",
          "name": "stdout",
          "text": [
            "  ✔ prompt3: infer_img() full-res ok\n",
            " Saved results to /content/drive/MyDrive/RQ1_Experiments/results/InternVL3-8B/RQ1_InternVL3-8B_8B_country_L2_prompt3_r1.json\n",
            "  ✔ prompt4: infer_img() full-res ok\n",
            " Saved results to /content/drive/MyDrive/RQ1_Experiments/results/InternVL3-8B/RQ1_InternVL3-8B_8B_country_L2_prompt4_r1.json\n",
            "------------------------------------------------------\n",
            "\n",
            "Processing 74/360: /content/drive/MyDrive/RQ1_Experiments/RQ1_Data_Batch1/Asia/China/Asia_China_photo_060139e9d31209b5b9faec190d3667881e0d89fb_TOP.jpg\n"
          ]
        },
        {
          "output_type": "stream",
          "name": "stderr",
          "text": [
            "Setting `pad_token_id` to `eos_token_id`:151645 for open-end generation.\n",
            "Setting `pad_token_id` to `eos_token_id`:151645 for open-end generation.\n"
          ]
        },
        {
          "output_type": "stream",
          "name": "stdout",
          "text": [
            "  ✔ prompt1: infer_img() full-res ok\n",
            " Saved results to /content/drive/MyDrive/RQ1_Experiments/results/InternVL3-8B/RQ1_InternVL3-8B_8B_country_L2_prompt1_r1.json\n"
          ]
        },
        {
          "output_type": "stream",
          "name": "stderr",
          "text": [
            "Setting `pad_token_id` to `eos_token_id`:151645 for open-end generation.\n"
          ]
        },
        {
          "output_type": "stream",
          "name": "stdout",
          "text": [
            "  ✔ prompt2: infer_img() full-res ok\n",
            " Saved results to /content/drive/MyDrive/RQ1_Experiments/results/InternVL3-8B/RQ1_InternVL3-8B_8B_country_L2_prompt2_r1.json\n"
          ]
        },
        {
          "output_type": "stream",
          "name": "stderr",
          "text": [
            "Setting `pad_token_id` to `eos_token_id`:151645 for open-end generation.\n"
          ]
        },
        {
          "output_type": "stream",
          "name": "stdout",
          "text": [
            "  ✔ prompt3: infer_img() full-res ok\n",
            " Saved results to /content/drive/MyDrive/RQ1_Experiments/results/InternVL3-8B/RQ1_InternVL3-8B_8B_country_L2_prompt3_r1.json\n",
            "  ✔ prompt4: infer_img() full-res ok\n",
            " Saved results to /content/drive/MyDrive/RQ1_Experiments/results/InternVL3-8B/RQ1_InternVL3-8B_8B_country_L2_prompt4_r1.json\n",
            "------------------------------------------------------\n",
            "\n",
            "Processing 75/360: /content/drive/MyDrive/RQ1_Experiments/RQ1_Data_Batch1/Asia/China/Asia_China_photo_0b8e1f833d9e2e70faf55dad1f070656ec0574b6_TOP.jpg\n"
          ]
        },
        {
          "output_type": "stream",
          "name": "stderr",
          "text": [
            "Setting `pad_token_id` to `eos_token_id`:151645 for open-end generation.\n",
            "Setting `pad_token_id` to `eos_token_id`:151645 for open-end generation.\n"
          ]
        },
        {
          "output_type": "stream",
          "name": "stdout",
          "text": [
            "  ✔ prompt1: infer_img() full-res ok\n",
            " Saved results to /content/drive/MyDrive/RQ1_Experiments/results/InternVL3-8B/RQ1_InternVL3-8B_8B_country_L2_prompt1_r1.json\n"
          ]
        },
        {
          "output_type": "stream",
          "name": "stderr",
          "text": [
            "Setting `pad_token_id` to `eos_token_id`:151645 for open-end generation.\n"
          ]
        },
        {
          "output_type": "stream",
          "name": "stdout",
          "text": [
            "  ✔ prompt2: infer_img() full-res ok\n",
            " Saved results to /content/drive/MyDrive/RQ1_Experiments/results/InternVL3-8B/RQ1_InternVL3-8B_8B_country_L2_prompt2_r1.json\n"
          ]
        },
        {
          "output_type": "stream",
          "name": "stderr",
          "text": [
            "Setting `pad_token_id` to `eos_token_id`:151645 for open-end generation.\n"
          ]
        },
        {
          "output_type": "stream",
          "name": "stdout",
          "text": [
            "  ✔ prompt3: infer_img() full-res ok\n",
            " Saved results to /content/drive/MyDrive/RQ1_Experiments/results/InternVL3-8B/RQ1_InternVL3-8B_8B_country_L2_prompt3_r1.json\n",
            "  ✔ prompt4: infer_img() full-res ok\n",
            " Saved results to /content/drive/MyDrive/RQ1_Experiments/results/InternVL3-8B/RQ1_InternVL3-8B_8B_country_L2_prompt4_r1.json\n",
            "------------------------------------------------------\n",
            "\n",
            "Processing 76/360: /content/drive/MyDrive/RQ1_Experiments/RQ1_Data_Batch1/Asia/China/Asia_China_photo_189f1d7c5bab94934d189e2ca3ba0b923f96f983_TOP.jpg\n"
          ]
        },
        {
          "output_type": "stream",
          "name": "stderr",
          "text": [
            "Setting `pad_token_id` to `eos_token_id`:151645 for open-end generation.\n",
            "Setting `pad_token_id` to `eos_token_id`:151645 for open-end generation.\n"
          ]
        },
        {
          "output_type": "stream",
          "name": "stdout",
          "text": [
            "  ✔ prompt1: infer_img() full-res ok\n",
            " Saved results to /content/drive/MyDrive/RQ1_Experiments/results/InternVL3-8B/RQ1_InternVL3-8B_8B_country_L2_prompt1_r1.json\n"
          ]
        },
        {
          "output_type": "stream",
          "name": "stderr",
          "text": [
            "Setting `pad_token_id` to `eos_token_id`:151645 for open-end generation.\n"
          ]
        },
        {
          "output_type": "stream",
          "name": "stdout",
          "text": [
            "  ✔ prompt2: infer_img() full-res ok\n",
            " Saved results to /content/drive/MyDrive/RQ1_Experiments/results/InternVL3-8B/RQ1_InternVL3-8B_8B_country_L2_prompt2_r1.json\n"
          ]
        },
        {
          "output_type": "stream",
          "name": "stderr",
          "text": [
            "Setting `pad_token_id` to `eos_token_id`:151645 for open-end generation.\n"
          ]
        },
        {
          "output_type": "stream",
          "name": "stdout",
          "text": [
            "  ✔ prompt3: infer_img() full-res ok\n",
            " Saved results to /content/drive/MyDrive/RQ1_Experiments/results/InternVL3-8B/RQ1_InternVL3-8B_8B_country_L2_prompt3_r1.json\n",
            "  ✔ prompt4: infer_img() full-res ok\n",
            " Saved results to /content/drive/MyDrive/RQ1_Experiments/results/InternVL3-8B/RQ1_InternVL3-8B_8B_country_L2_prompt4_r1.json\n",
            "------------------------------------------------------\n",
            "\n",
            "Processing 77/360: /content/drive/MyDrive/RQ1_Experiments/RQ1_Data_Batch1/Asia/China/Asia_China_photo_1bf10cdecb8c414a8a6e8ca509205fd64d59823b_TOP.jpg\n"
          ]
        },
        {
          "output_type": "stream",
          "name": "stderr",
          "text": [
            "Setting `pad_token_id` to `eos_token_id`:151645 for open-end generation.\n",
            "Setting `pad_token_id` to `eos_token_id`:151645 for open-end generation.\n"
          ]
        },
        {
          "output_type": "stream",
          "name": "stdout",
          "text": [
            "  ✔ prompt1: infer_img() full-res ok\n",
            " Saved results to /content/drive/MyDrive/RQ1_Experiments/results/InternVL3-8B/RQ1_InternVL3-8B_8B_country_L2_prompt1_r1.json\n"
          ]
        },
        {
          "output_type": "stream",
          "name": "stderr",
          "text": [
            "Setting `pad_token_id` to `eos_token_id`:151645 for open-end generation.\n"
          ]
        },
        {
          "output_type": "stream",
          "name": "stdout",
          "text": [
            "  ✔ prompt2: infer_img() full-res ok\n",
            " Saved results to /content/drive/MyDrive/RQ1_Experiments/results/InternVL3-8B/RQ1_InternVL3-8B_8B_country_L2_prompt2_r1.json\n"
          ]
        },
        {
          "output_type": "stream",
          "name": "stderr",
          "text": [
            "Setting `pad_token_id` to `eos_token_id`:151645 for open-end generation.\n"
          ]
        },
        {
          "output_type": "stream",
          "name": "stdout",
          "text": [
            "  ✔ prompt3: infer_img() full-res ok\n",
            " Saved results to /content/drive/MyDrive/RQ1_Experiments/results/InternVL3-8B/RQ1_InternVL3-8B_8B_country_L2_prompt3_r1.json\n",
            "  ✔ prompt4: infer_img() full-res ok\n",
            " Saved results to /content/drive/MyDrive/RQ1_Experiments/results/InternVL3-8B/RQ1_InternVL3-8B_8B_country_L2_prompt4_r1.json\n",
            "------------------------------------------------------\n",
            "\n",
            "Processing 78/360: /content/drive/MyDrive/RQ1_Experiments/RQ1_Data_Batch1/Asia/China/Asia_China_photo_3a52b1ea95225e28c560c4995339bfee14247335_TOP.jpg\n"
          ]
        },
        {
          "output_type": "stream",
          "name": "stderr",
          "text": [
            "Setting `pad_token_id` to `eos_token_id`:151645 for open-end generation.\n",
            "Setting `pad_token_id` to `eos_token_id`:151645 for open-end generation.\n"
          ]
        },
        {
          "output_type": "stream",
          "name": "stdout",
          "text": [
            "  ✔ prompt1: infer_img() full-res ok\n",
            " Saved results to /content/drive/MyDrive/RQ1_Experiments/results/InternVL3-8B/RQ1_InternVL3-8B_8B_country_L2_prompt1_r1.json\n"
          ]
        },
        {
          "output_type": "stream",
          "name": "stderr",
          "text": [
            "Setting `pad_token_id` to `eos_token_id`:151645 for open-end generation.\n"
          ]
        },
        {
          "output_type": "stream",
          "name": "stdout",
          "text": [
            "  ✔ prompt2: infer_img() full-res ok\n",
            " Saved results to /content/drive/MyDrive/RQ1_Experiments/results/InternVL3-8B/RQ1_InternVL3-8B_8B_country_L2_prompt2_r1.json\n"
          ]
        },
        {
          "output_type": "stream",
          "name": "stderr",
          "text": [
            "Setting `pad_token_id` to `eos_token_id`:151645 for open-end generation.\n"
          ]
        },
        {
          "output_type": "stream",
          "name": "stdout",
          "text": [
            "  ✔ prompt3: infer_img() full-res ok\n",
            " Saved results to /content/drive/MyDrive/RQ1_Experiments/results/InternVL3-8B/RQ1_InternVL3-8B_8B_country_L2_prompt3_r1.json\n",
            "  ✔ prompt4: infer_img() full-res ok\n",
            " Saved results to /content/drive/MyDrive/RQ1_Experiments/results/InternVL3-8B/RQ1_InternVL3-8B_8B_country_L2_prompt4_r1.json\n",
            "------------------------------------------------------\n",
            "\n",
            "Processing 79/360: /content/drive/MyDrive/RQ1_Experiments/RQ1_Data_Batch1/Asia/China/Asia_China_photo_41e996c991bbef7508711c93d7549281f35a9f59_TOP.jpg\n"
          ]
        },
        {
          "output_type": "stream",
          "name": "stderr",
          "text": [
            "Setting `pad_token_id` to `eos_token_id`:151645 for open-end generation.\n",
            "Setting `pad_token_id` to `eos_token_id`:151645 for open-end generation.\n"
          ]
        },
        {
          "output_type": "stream",
          "name": "stdout",
          "text": [
            "  ✔ prompt1: infer_img() full-res ok\n",
            " Saved results to /content/drive/MyDrive/RQ1_Experiments/results/InternVL3-8B/RQ1_InternVL3-8B_8B_country_L2_prompt1_r1.json\n"
          ]
        },
        {
          "output_type": "stream",
          "name": "stderr",
          "text": [
            "Setting `pad_token_id` to `eos_token_id`:151645 for open-end generation.\n"
          ]
        },
        {
          "output_type": "stream",
          "name": "stdout",
          "text": [
            "  ✔ prompt2: infer_img() full-res ok\n",
            " Saved results to /content/drive/MyDrive/RQ1_Experiments/results/InternVL3-8B/RQ1_InternVL3-8B_8B_country_L2_prompt2_r1.json\n"
          ]
        },
        {
          "output_type": "stream",
          "name": "stderr",
          "text": [
            "Setting `pad_token_id` to `eos_token_id`:151645 for open-end generation.\n"
          ]
        },
        {
          "output_type": "stream",
          "name": "stdout",
          "text": [
            "  ✔ prompt3: infer_img() full-res ok\n",
            " Saved results to /content/drive/MyDrive/RQ1_Experiments/results/InternVL3-8B/RQ1_InternVL3-8B_8B_country_L2_prompt3_r1.json\n",
            "  ✔ prompt4: infer_img() full-res ok\n",
            " Saved results to /content/drive/MyDrive/RQ1_Experiments/results/InternVL3-8B/RQ1_InternVL3-8B_8B_country_L2_prompt4_r1.json\n",
            "------------------------------------------------------\n",
            "\n",
            "Processing 80/360: /content/drive/MyDrive/RQ1_Experiments/RQ1_Data_Batch1/Asia/China/Asia_China_photo_48e604d9da848f7c05f5bce29a93f3aa9f533a51_TOP.jpg\n"
          ]
        },
        {
          "output_type": "stream",
          "name": "stderr",
          "text": [
            "Setting `pad_token_id` to `eos_token_id`:151645 for open-end generation.\n",
            "Setting `pad_token_id` to `eos_token_id`:151645 for open-end generation.\n"
          ]
        },
        {
          "output_type": "stream",
          "name": "stdout",
          "text": [
            "  ✔ prompt1: infer_img() full-res ok\n",
            " Saved results to /content/drive/MyDrive/RQ1_Experiments/results/InternVL3-8B/RQ1_InternVL3-8B_8B_country_L2_prompt1_r1.json\n"
          ]
        },
        {
          "output_type": "stream",
          "name": "stderr",
          "text": [
            "Setting `pad_token_id` to `eos_token_id`:151645 for open-end generation.\n"
          ]
        },
        {
          "output_type": "stream",
          "name": "stdout",
          "text": [
            "  ✔ prompt2: infer_img() full-res ok\n",
            " Saved results to /content/drive/MyDrive/RQ1_Experiments/results/InternVL3-8B/RQ1_InternVL3-8B_8B_country_L2_prompt2_r1.json\n"
          ]
        },
        {
          "output_type": "stream",
          "name": "stderr",
          "text": [
            "Setting `pad_token_id` to `eos_token_id`:151645 for open-end generation.\n"
          ]
        },
        {
          "output_type": "stream",
          "name": "stdout",
          "text": [
            "  ✔ prompt3: infer_img() full-res ok\n",
            " Saved results to /content/drive/MyDrive/RQ1_Experiments/results/InternVL3-8B/RQ1_InternVL3-8B_8B_country_L2_prompt3_r1.json\n",
            "  ✔ prompt4: infer_img() full-res ok\n",
            " Saved results to /content/drive/MyDrive/RQ1_Experiments/results/InternVL3-8B/RQ1_InternVL3-8B_8B_country_L2_prompt4_r1.json\n",
            "------------------------------------------------------\n",
            "\n",
            "Processing 81/360: /content/drive/MyDrive/RQ1_Experiments/RQ1_Data_Batch1/Asia/China/Asia_China_photo_73e93182aad5840f8199a0cc9c53ad81ae42b52c_TOP.jpg\n"
          ]
        },
        {
          "output_type": "stream",
          "name": "stderr",
          "text": [
            "Setting `pad_token_id` to `eos_token_id`:151645 for open-end generation.\n",
            "Setting `pad_token_id` to `eos_token_id`:151645 for open-end generation.\n"
          ]
        },
        {
          "output_type": "stream",
          "name": "stdout",
          "text": [
            "  ✔ prompt1: infer_img() full-res ok\n",
            " Saved results to /content/drive/MyDrive/RQ1_Experiments/results/InternVL3-8B/RQ1_InternVL3-8B_8B_country_L2_prompt1_r1.json\n"
          ]
        },
        {
          "output_type": "stream",
          "name": "stderr",
          "text": [
            "Setting `pad_token_id` to `eos_token_id`:151645 for open-end generation.\n"
          ]
        },
        {
          "output_type": "stream",
          "name": "stdout",
          "text": [
            "  ✔ prompt2: infer_img() full-res ok\n",
            " Saved results to /content/drive/MyDrive/RQ1_Experiments/results/InternVL3-8B/RQ1_InternVL3-8B_8B_country_L2_prompt2_r1.json\n"
          ]
        },
        {
          "output_type": "stream",
          "name": "stderr",
          "text": [
            "Setting `pad_token_id` to `eos_token_id`:151645 for open-end generation.\n"
          ]
        },
        {
          "output_type": "stream",
          "name": "stdout",
          "text": [
            "  ✔ prompt3: infer_img() full-res ok\n",
            " Saved results to /content/drive/MyDrive/RQ1_Experiments/results/InternVL3-8B/RQ1_InternVL3-8B_8B_country_L2_prompt3_r1.json\n",
            "  ✔ prompt4: infer_img() full-res ok\n",
            " Saved results to /content/drive/MyDrive/RQ1_Experiments/results/InternVL3-8B/RQ1_InternVL3-8B_8B_country_L2_prompt4_r1.json\n",
            "------------------------------------------------------\n",
            "\n",
            "Processing 82/360: /content/drive/MyDrive/RQ1_Experiments/RQ1_Data_Batch1/Asia/China/Asia_China_photo_7918448abf7479ef8bd75140595da0de8ce0248e_TOP.jpg\n"
          ]
        },
        {
          "output_type": "stream",
          "name": "stderr",
          "text": [
            "Setting `pad_token_id` to `eos_token_id`:151645 for open-end generation.\n",
            "Setting `pad_token_id` to `eos_token_id`:151645 for open-end generation.\n"
          ]
        },
        {
          "output_type": "stream",
          "name": "stdout",
          "text": [
            "  ✔ prompt1: infer_img() full-res ok\n",
            " Saved results to /content/drive/MyDrive/RQ1_Experiments/results/InternVL3-8B/RQ1_InternVL3-8B_8B_country_L2_prompt1_r1.json\n"
          ]
        },
        {
          "output_type": "stream",
          "name": "stderr",
          "text": [
            "Setting `pad_token_id` to `eos_token_id`:151645 for open-end generation.\n"
          ]
        },
        {
          "output_type": "stream",
          "name": "stdout",
          "text": [
            "  ✔ prompt2: infer_img() full-res ok\n",
            " Saved results to /content/drive/MyDrive/RQ1_Experiments/results/InternVL3-8B/RQ1_InternVL3-8B_8B_country_L2_prompt2_r1.json\n"
          ]
        },
        {
          "output_type": "stream",
          "name": "stderr",
          "text": [
            "Setting `pad_token_id` to `eos_token_id`:151645 for open-end generation.\n"
          ]
        },
        {
          "output_type": "stream",
          "name": "stdout",
          "text": [
            "  ✔ prompt3: infer_img() full-res ok\n",
            " Saved results to /content/drive/MyDrive/RQ1_Experiments/results/InternVL3-8B/RQ1_InternVL3-8B_8B_country_L2_prompt3_r1.json\n",
            "  ✔ prompt4: infer_img() full-res ok\n",
            " Saved results to /content/drive/MyDrive/RQ1_Experiments/results/InternVL3-8B/RQ1_InternVL3-8B_8B_country_L2_prompt4_r1.json\n",
            "------------------------------------------------------\n",
            "\n",
            "Processing 83/360: /content/drive/MyDrive/RQ1_Experiments/RQ1_Data_Batch1/Asia/China/Asia_China_photo_8dafe2684059db3626bb1ec65178684a4ed929bf_TOP.jpg\n"
          ]
        },
        {
          "output_type": "stream",
          "name": "stderr",
          "text": [
            "Setting `pad_token_id` to `eos_token_id`:151645 for open-end generation.\n",
            "Setting `pad_token_id` to `eos_token_id`:151645 for open-end generation.\n"
          ]
        },
        {
          "output_type": "stream",
          "name": "stdout",
          "text": [
            "  ✔ prompt1: infer_img() full-res ok\n",
            " Saved results to /content/drive/MyDrive/RQ1_Experiments/results/InternVL3-8B/RQ1_InternVL3-8B_8B_country_L2_prompt1_r1.json\n"
          ]
        },
        {
          "output_type": "stream",
          "name": "stderr",
          "text": [
            "Setting `pad_token_id` to `eos_token_id`:151645 for open-end generation.\n"
          ]
        },
        {
          "output_type": "stream",
          "name": "stdout",
          "text": [
            "  ✔ prompt2: infer_img() full-res ok\n",
            " Saved results to /content/drive/MyDrive/RQ1_Experiments/results/InternVL3-8B/RQ1_InternVL3-8B_8B_country_L2_prompt2_r1.json\n"
          ]
        },
        {
          "output_type": "stream",
          "name": "stderr",
          "text": [
            "Setting `pad_token_id` to `eos_token_id`:151645 for open-end generation.\n"
          ]
        },
        {
          "output_type": "stream",
          "name": "stdout",
          "text": [
            "  ✔ prompt3: infer_img() full-res ok\n",
            " Saved results to /content/drive/MyDrive/RQ1_Experiments/results/InternVL3-8B/RQ1_InternVL3-8B_8B_country_L2_prompt3_r1.json\n",
            "  ✔ prompt4: infer_img() full-res ok\n",
            " Saved results to /content/drive/MyDrive/RQ1_Experiments/results/InternVL3-8B/RQ1_InternVL3-8B_8B_country_L2_prompt4_r1.json\n",
            "------------------------------------------------------\n",
            "\n",
            "Processing 84/360: /content/drive/MyDrive/RQ1_Experiments/RQ1_Data_Batch1/Asia/China/Asia_China_photo_b196f14dc2701c21b023a6ac7ec8135de536fa76_TOP.jpg\n"
          ]
        },
        {
          "output_type": "stream",
          "name": "stderr",
          "text": [
            "Setting `pad_token_id` to `eos_token_id`:151645 for open-end generation.\n",
            "Setting `pad_token_id` to `eos_token_id`:151645 for open-end generation.\n"
          ]
        },
        {
          "output_type": "stream",
          "name": "stdout",
          "text": [
            "  ✔ prompt1: infer_img() full-res ok\n",
            " Saved results to /content/drive/MyDrive/RQ1_Experiments/results/InternVL3-8B/RQ1_InternVL3-8B_8B_country_L2_prompt1_r1.json\n"
          ]
        },
        {
          "output_type": "stream",
          "name": "stderr",
          "text": [
            "Setting `pad_token_id` to `eos_token_id`:151645 for open-end generation.\n"
          ]
        },
        {
          "output_type": "stream",
          "name": "stdout",
          "text": [
            "  ✔ prompt2: infer_img() full-res ok\n",
            " Saved results to /content/drive/MyDrive/RQ1_Experiments/results/InternVL3-8B/RQ1_InternVL3-8B_8B_country_L2_prompt2_r1.json\n"
          ]
        },
        {
          "output_type": "stream",
          "name": "stderr",
          "text": [
            "Setting `pad_token_id` to `eos_token_id`:151645 for open-end generation.\n"
          ]
        },
        {
          "output_type": "stream",
          "name": "stdout",
          "text": [
            "  ✔ prompt3: infer_img() full-res ok\n",
            " Saved results to /content/drive/MyDrive/RQ1_Experiments/results/InternVL3-8B/RQ1_InternVL3-8B_8B_country_L2_prompt3_r1.json\n",
            "  ✔ prompt4: infer_img() full-res ok\n",
            " Saved results to /content/drive/MyDrive/RQ1_Experiments/results/InternVL3-8B/RQ1_InternVL3-8B_8B_country_L2_prompt4_r1.json\n",
            "------------------------------------------------------\n",
            "\n",
            "Processing 85/360: /content/drive/MyDrive/RQ1_Experiments/RQ1_Data_Batch1/Asia/China/Asia_China_photo_b828aa2dc8c3703612f1bb1de3f7fdd9d9317b18_TOP.jpg\n"
          ]
        },
        {
          "output_type": "stream",
          "name": "stderr",
          "text": [
            "Setting `pad_token_id` to `eos_token_id`:151645 for open-end generation.\n",
            "Setting `pad_token_id` to `eos_token_id`:151645 for open-end generation.\n"
          ]
        },
        {
          "output_type": "stream",
          "name": "stdout",
          "text": [
            "  ✔ prompt1: infer_img() full-res ok\n",
            " Saved results to /content/drive/MyDrive/RQ1_Experiments/results/InternVL3-8B/RQ1_InternVL3-8B_8B_country_L2_prompt1_r1.json\n"
          ]
        },
        {
          "output_type": "stream",
          "name": "stderr",
          "text": [
            "Setting `pad_token_id` to `eos_token_id`:151645 for open-end generation.\n"
          ]
        },
        {
          "output_type": "stream",
          "name": "stdout",
          "text": [
            "  ✔ prompt2: infer_img() full-res ok\n",
            " Saved results to /content/drive/MyDrive/RQ1_Experiments/results/InternVL3-8B/RQ1_InternVL3-8B_8B_country_L2_prompt2_r1.json\n"
          ]
        },
        {
          "output_type": "stream",
          "name": "stderr",
          "text": [
            "Setting `pad_token_id` to `eos_token_id`:151645 for open-end generation.\n"
          ]
        },
        {
          "output_type": "stream",
          "name": "stdout",
          "text": [
            "  ✔ prompt3: infer_img() full-res ok\n",
            " Saved results to /content/drive/MyDrive/RQ1_Experiments/results/InternVL3-8B/RQ1_InternVL3-8B_8B_country_L2_prompt3_r1.json\n",
            "  ✔ prompt4: infer_img() full-res ok\n",
            " Saved results to /content/drive/MyDrive/RQ1_Experiments/results/InternVL3-8B/RQ1_InternVL3-8B_8B_country_L2_prompt4_r1.json\n",
            "------------------------------------------------------\n",
            "\n",
            "Processing 86/360: /content/drive/MyDrive/RQ1_Experiments/RQ1_Data_Batch1/Asia/India/Asia_India_photo_04e1efee6ade79b20d849ae792b755d73b272885_TOP.jpg\n"
          ]
        },
        {
          "output_type": "stream",
          "name": "stderr",
          "text": [
            "Setting `pad_token_id` to `eos_token_id`:151645 for open-end generation.\n",
            "Setting `pad_token_id` to `eos_token_id`:151645 for open-end generation.\n"
          ]
        },
        {
          "output_type": "stream",
          "name": "stdout",
          "text": [
            "  ✔ prompt1: infer_img() full-res ok\n",
            " Saved results to /content/drive/MyDrive/RQ1_Experiments/results/InternVL3-8B/RQ1_InternVL3-8B_8B_country_L2_prompt1_r1.json\n"
          ]
        },
        {
          "output_type": "stream",
          "name": "stderr",
          "text": [
            "Setting `pad_token_id` to `eos_token_id`:151645 for open-end generation.\n"
          ]
        },
        {
          "output_type": "stream",
          "name": "stdout",
          "text": [
            "  ✔ prompt2: infer_img() full-res ok\n",
            " Saved results to /content/drive/MyDrive/RQ1_Experiments/results/InternVL3-8B/RQ1_InternVL3-8B_8B_country_L2_prompt2_r1.json\n"
          ]
        },
        {
          "output_type": "stream",
          "name": "stderr",
          "text": [
            "Setting `pad_token_id` to `eos_token_id`:151645 for open-end generation.\n"
          ]
        },
        {
          "output_type": "stream",
          "name": "stdout",
          "text": [
            "  ✔ prompt3: infer_img() full-res ok\n",
            " Saved results to /content/drive/MyDrive/RQ1_Experiments/results/InternVL3-8B/RQ1_InternVL3-8B_8B_country_L2_prompt3_r1.json\n",
            "  ✔ prompt4: infer_img() full-res ok\n",
            " Saved results to /content/drive/MyDrive/RQ1_Experiments/results/InternVL3-8B/RQ1_InternVL3-8B_8B_country_L2_prompt4_r1.json\n",
            "------------------------------------------------------\n",
            "\n",
            "Processing 87/360: /content/drive/MyDrive/RQ1_Experiments/RQ1_Data_Batch1/Asia/India/Asia_India_photo_449ab0899a59be212624bb189af8db2ce1c0c840_TOP.jpg\n"
          ]
        },
        {
          "output_type": "stream",
          "name": "stderr",
          "text": [
            "Setting `pad_token_id` to `eos_token_id`:151645 for open-end generation.\n",
            "Setting `pad_token_id` to `eos_token_id`:151645 for open-end generation.\n"
          ]
        },
        {
          "output_type": "stream",
          "name": "stdout",
          "text": [
            "  ✔ prompt1: infer_img() full-res ok\n",
            " Saved results to /content/drive/MyDrive/RQ1_Experiments/results/InternVL3-8B/RQ1_InternVL3-8B_8B_country_L2_prompt1_r1.json\n"
          ]
        },
        {
          "output_type": "stream",
          "name": "stderr",
          "text": [
            "Setting `pad_token_id` to `eos_token_id`:151645 for open-end generation.\n"
          ]
        },
        {
          "output_type": "stream",
          "name": "stdout",
          "text": [
            "  ✔ prompt2: infer_img() full-res ok\n",
            " Saved results to /content/drive/MyDrive/RQ1_Experiments/results/InternVL3-8B/RQ1_InternVL3-8B_8B_country_L2_prompt2_r1.json\n"
          ]
        },
        {
          "output_type": "stream",
          "name": "stderr",
          "text": [
            "Setting `pad_token_id` to `eos_token_id`:151645 for open-end generation.\n"
          ]
        },
        {
          "output_type": "stream",
          "name": "stdout",
          "text": [
            "  ✔ prompt3: infer_img() full-res ok\n",
            " Saved results to /content/drive/MyDrive/RQ1_Experiments/results/InternVL3-8B/RQ1_InternVL3-8B_8B_country_L2_prompt3_r1.json\n",
            "  ✔ prompt4: infer_img() full-res ok\n",
            " Saved results to /content/drive/MyDrive/RQ1_Experiments/results/InternVL3-8B/RQ1_InternVL3-8B_8B_country_L2_prompt4_r1.json\n",
            "------------------------------------------------------\n",
            "\n",
            "Processing 88/360: /content/drive/MyDrive/RQ1_Experiments/RQ1_Data_Batch1/Asia/India/Asia_India_photo_4cbf400360349173df7f85497a55b5f3e05efc73_TOP.jpg\n"
          ]
        },
        {
          "output_type": "stream",
          "name": "stderr",
          "text": [
            "Setting `pad_token_id` to `eos_token_id`:151645 for open-end generation.\n",
            "Setting `pad_token_id` to `eos_token_id`:151645 for open-end generation.\n"
          ]
        },
        {
          "output_type": "stream",
          "name": "stdout",
          "text": [
            "  ✔ prompt1: infer_img() full-res ok\n",
            " Saved results to /content/drive/MyDrive/RQ1_Experiments/results/InternVL3-8B/RQ1_InternVL3-8B_8B_country_L2_prompt1_r1.json\n"
          ]
        },
        {
          "output_type": "stream",
          "name": "stderr",
          "text": [
            "Setting `pad_token_id` to `eos_token_id`:151645 for open-end generation.\n"
          ]
        },
        {
          "output_type": "stream",
          "name": "stdout",
          "text": [
            "  ✔ prompt2: infer_img() full-res ok\n",
            " Saved results to /content/drive/MyDrive/RQ1_Experiments/results/InternVL3-8B/RQ1_InternVL3-8B_8B_country_L2_prompt2_r1.json\n"
          ]
        },
        {
          "output_type": "stream",
          "name": "stderr",
          "text": [
            "Setting `pad_token_id` to `eos_token_id`:151645 for open-end generation.\n"
          ]
        },
        {
          "output_type": "stream",
          "name": "stdout",
          "text": [
            "  ✔ prompt3: infer_img() full-res ok\n",
            " Saved results to /content/drive/MyDrive/RQ1_Experiments/results/InternVL3-8B/RQ1_InternVL3-8B_8B_country_L2_prompt3_r1.json\n",
            "  ✔ prompt4: infer_img() full-res ok\n",
            " Saved results to /content/drive/MyDrive/RQ1_Experiments/results/InternVL3-8B/RQ1_InternVL3-8B_8B_country_L2_prompt4_r1.json\n",
            "------------------------------------------------------\n",
            "\n",
            "Processing 89/360: /content/drive/MyDrive/RQ1_Experiments/RQ1_Data_Batch1/Asia/India/Asia_India_photo_5330250b8c011663b241aad769af116d5662c5e6_TOP.jpg\n"
          ]
        },
        {
          "output_type": "stream",
          "name": "stderr",
          "text": [
            "Setting `pad_token_id` to `eos_token_id`:151645 for open-end generation.\n",
            "Setting `pad_token_id` to `eos_token_id`:151645 for open-end generation.\n"
          ]
        },
        {
          "output_type": "stream",
          "name": "stdout",
          "text": [
            "  ✔ prompt1: infer_img() full-res ok\n",
            " Saved results to /content/drive/MyDrive/RQ1_Experiments/results/InternVL3-8B/RQ1_InternVL3-8B_8B_country_L2_prompt1_r1.json\n"
          ]
        },
        {
          "output_type": "stream",
          "name": "stderr",
          "text": [
            "Setting `pad_token_id` to `eos_token_id`:151645 for open-end generation.\n"
          ]
        },
        {
          "output_type": "stream",
          "name": "stdout",
          "text": [
            "  ✔ prompt2: infer_img() full-res ok\n",
            " Saved results to /content/drive/MyDrive/RQ1_Experiments/results/InternVL3-8B/RQ1_InternVL3-8B_8B_country_L2_prompt2_r1.json\n"
          ]
        },
        {
          "output_type": "stream",
          "name": "stderr",
          "text": [
            "Setting `pad_token_id` to `eos_token_id`:151645 for open-end generation.\n"
          ]
        },
        {
          "output_type": "stream",
          "name": "stdout",
          "text": [
            "  ✔ prompt3: infer_img() full-res ok\n",
            " Saved results to /content/drive/MyDrive/RQ1_Experiments/results/InternVL3-8B/RQ1_InternVL3-8B_8B_country_L2_prompt3_r1.json\n",
            "  ✔ prompt4: infer_img() full-res ok\n",
            " Saved results to /content/drive/MyDrive/RQ1_Experiments/results/InternVL3-8B/RQ1_InternVL3-8B_8B_country_L2_prompt4_r1.json\n",
            "------------------------------------------------------\n",
            "\n",
            "Processing 90/360: /content/drive/MyDrive/RQ1_Experiments/RQ1_Data_Batch1/Asia/Iran/Asia_Iran_photo_122b989ef652bbf9f48ac7b92643dcb5a26a065c_TOP.jpg\n"
          ]
        },
        {
          "output_type": "stream",
          "name": "stderr",
          "text": [
            "Setting `pad_token_id` to `eos_token_id`:151645 for open-end generation.\n",
            "Setting `pad_token_id` to `eos_token_id`:151645 for open-end generation.\n"
          ]
        },
        {
          "output_type": "stream",
          "name": "stdout",
          "text": [
            "  ✔ prompt1: infer_img() full-res ok\n",
            " Saved results to /content/drive/MyDrive/RQ1_Experiments/results/InternVL3-8B/RQ1_InternVL3-8B_8B_country_L2_prompt1_r1.json\n"
          ]
        },
        {
          "output_type": "stream",
          "name": "stderr",
          "text": [
            "Setting `pad_token_id` to `eos_token_id`:151645 for open-end generation.\n"
          ]
        },
        {
          "output_type": "stream",
          "name": "stdout",
          "text": [
            "  ✔ prompt2: infer_img() full-res ok\n",
            " Saved results to /content/drive/MyDrive/RQ1_Experiments/results/InternVL3-8B/RQ1_InternVL3-8B_8B_country_L2_prompt2_r1.json\n"
          ]
        },
        {
          "output_type": "stream",
          "name": "stderr",
          "text": [
            "Setting `pad_token_id` to `eos_token_id`:151645 for open-end generation.\n"
          ]
        },
        {
          "output_type": "stream",
          "name": "stdout",
          "text": [
            "  ✔ prompt3: infer_img() full-res ok\n",
            " Saved results to /content/drive/MyDrive/RQ1_Experiments/results/InternVL3-8B/RQ1_InternVL3-8B_8B_country_L2_prompt3_r1.json\n",
            "  ✔ prompt4: infer_img() full-res ok\n",
            " Saved results to /content/drive/MyDrive/RQ1_Experiments/results/InternVL3-8B/RQ1_InternVL3-8B_8B_country_L2_prompt4_r1.json\n",
            "------------------------------------------------------\n",
            "\n",
            "Processing 91/360: /content/drive/MyDrive/RQ1_Experiments/RQ1_Data_Batch1/Asia/Iran/Asia_Iran_photo_1c6ecc88ebd3ee21aff5672c259b1c413d3d7404_TOP.jpg\n"
          ]
        },
        {
          "output_type": "stream",
          "name": "stderr",
          "text": [
            "Setting `pad_token_id` to `eos_token_id`:151645 for open-end generation.\n",
            "Setting `pad_token_id` to `eos_token_id`:151645 for open-end generation.\n"
          ]
        },
        {
          "output_type": "stream",
          "name": "stdout",
          "text": [
            "  ✔ prompt1: infer_img() full-res ok\n",
            " Saved results to /content/drive/MyDrive/RQ1_Experiments/results/InternVL3-8B/RQ1_InternVL3-8B_8B_country_L2_prompt1_r1.json\n"
          ]
        },
        {
          "output_type": "stream",
          "name": "stderr",
          "text": [
            "Setting `pad_token_id` to `eos_token_id`:151645 for open-end generation.\n"
          ]
        },
        {
          "output_type": "stream",
          "name": "stdout",
          "text": [
            "  ✔ prompt2: infer_img() full-res ok\n",
            " Saved results to /content/drive/MyDrive/RQ1_Experiments/results/InternVL3-8B/RQ1_InternVL3-8B_8B_country_L2_prompt2_r1.json\n"
          ]
        },
        {
          "output_type": "stream",
          "name": "stderr",
          "text": [
            "Setting `pad_token_id` to `eos_token_id`:151645 for open-end generation.\n"
          ]
        },
        {
          "output_type": "stream",
          "name": "stdout",
          "text": [
            "  ✔ prompt3: infer_img() full-res ok\n",
            " Saved results to /content/drive/MyDrive/RQ1_Experiments/results/InternVL3-8B/RQ1_InternVL3-8B_8B_country_L2_prompt3_r1.json\n",
            "  ✔ prompt4: infer_img() full-res ok\n",
            " Saved results to /content/drive/MyDrive/RQ1_Experiments/results/InternVL3-8B/RQ1_InternVL3-8B_8B_country_L2_prompt4_r1.json\n",
            "------------------------------------------------------\n",
            "\n",
            "Processing 92/360: /content/drive/MyDrive/RQ1_Experiments/RQ1_Data_Batch1/Asia/Iran/Asia_Iran_photo_5f854af669aec6c09017bccaeb26790f47b600ac_TOP.jpg\n"
          ]
        },
        {
          "output_type": "stream",
          "name": "stderr",
          "text": [
            "Setting `pad_token_id` to `eos_token_id`:151645 for open-end generation.\n",
            "Setting `pad_token_id` to `eos_token_id`:151645 for open-end generation.\n"
          ]
        },
        {
          "output_type": "stream",
          "name": "stdout",
          "text": [
            "  ✔ prompt1: infer_img() full-res ok\n",
            " Saved results to /content/drive/MyDrive/RQ1_Experiments/results/InternVL3-8B/RQ1_InternVL3-8B_8B_country_L2_prompt1_r1.json\n"
          ]
        },
        {
          "output_type": "stream",
          "name": "stderr",
          "text": [
            "Setting `pad_token_id` to `eos_token_id`:151645 for open-end generation.\n"
          ]
        },
        {
          "output_type": "stream",
          "name": "stdout",
          "text": [
            "  ✔ prompt2: infer_img() full-res ok\n",
            " Saved results to /content/drive/MyDrive/RQ1_Experiments/results/InternVL3-8B/RQ1_InternVL3-8B_8B_country_L2_prompt2_r1.json\n"
          ]
        },
        {
          "output_type": "stream",
          "name": "stderr",
          "text": [
            "Setting `pad_token_id` to `eos_token_id`:151645 for open-end generation.\n"
          ]
        },
        {
          "output_type": "stream",
          "name": "stdout",
          "text": [
            "  ✔ prompt3: infer_img() full-res ok\n",
            " Saved results to /content/drive/MyDrive/RQ1_Experiments/results/InternVL3-8B/RQ1_InternVL3-8B_8B_country_L2_prompt3_r1.json\n",
            "  ✔ prompt4: infer_img() full-res ok\n",
            " Saved results to /content/drive/MyDrive/RQ1_Experiments/results/InternVL3-8B/RQ1_InternVL3-8B_8B_country_L2_prompt4_r1.json\n",
            "------------------------------------------------------\n",
            "\n",
            "Processing 93/360: /content/drive/MyDrive/RQ1_Experiments/RQ1_Data_Batch1/Asia/Iran/Asia_Iran_photo_70bbf486cafbc2abc010d5d67da107fdcce66664_TOP.jpg\n"
          ]
        },
        {
          "output_type": "stream",
          "name": "stderr",
          "text": [
            "Setting `pad_token_id` to `eos_token_id`:151645 for open-end generation.\n",
            "Setting `pad_token_id` to `eos_token_id`:151645 for open-end generation.\n"
          ]
        },
        {
          "output_type": "stream",
          "name": "stdout",
          "text": [
            "  ✔ prompt1: infer_img() full-res ok\n",
            " Saved results to /content/drive/MyDrive/RQ1_Experiments/results/InternVL3-8B/RQ1_InternVL3-8B_8B_country_L2_prompt1_r1.json\n"
          ]
        },
        {
          "output_type": "stream",
          "name": "stderr",
          "text": [
            "Setting `pad_token_id` to `eos_token_id`:151645 for open-end generation.\n"
          ]
        },
        {
          "output_type": "stream",
          "name": "stdout",
          "text": [
            "  ✔ prompt2: infer_img() full-res ok\n",
            " Saved results to /content/drive/MyDrive/RQ1_Experiments/results/InternVL3-8B/RQ1_InternVL3-8B_8B_country_L2_prompt2_r1.json\n"
          ]
        },
        {
          "output_type": "stream",
          "name": "stderr",
          "text": [
            "Setting `pad_token_id` to `eos_token_id`:151645 for open-end generation.\n"
          ]
        },
        {
          "output_type": "stream",
          "name": "stdout",
          "text": [
            "  ✔ prompt3: infer_img() full-res ok\n",
            " Saved results to /content/drive/MyDrive/RQ1_Experiments/results/InternVL3-8B/RQ1_InternVL3-8B_8B_country_L2_prompt3_r1.json\n",
            "  ✔ prompt4: infer_img() full-res ok\n",
            " Saved results to /content/drive/MyDrive/RQ1_Experiments/results/InternVL3-8B/RQ1_InternVL3-8B_8B_country_L2_prompt4_r1.json\n",
            "------------------------------------------------------\n",
            "\n",
            "Processing 94/360: /content/drive/MyDrive/RQ1_Experiments/RQ1_Data_Batch1/Asia/Iran/Asia_Iran_photo_7782ff61d56c90e3e93166287a24a48b4759db95_TOP.jpg\n"
          ]
        },
        {
          "output_type": "stream",
          "name": "stderr",
          "text": [
            "Setting `pad_token_id` to `eos_token_id`:151645 for open-end generation.\n",
            "Setting `pad_token_id` to `eos_token_id`:151645 for open-end generation.\n"
          ]
        },
        {
          "output_type": "stream",
          "name": "stdout",
          "text": [
            "  ✔ prompt1: infer_img() full-res ok\n",
            " Saved results to /content/drive/MyDrive/RQ1_Experiments/results/InternVL3-8B/RQ1_InternVL3-8B_8B_country_L2_prompt1_r1.json\n"
          ]
        },
        {
          "output_type": "stream",
          "name": "stderr",
          "text": [
            "Setting `pad_token_id` to `eos_token_id`:151645 for open-end generation.\n"
          ]
        },
        {
          "output_type": "stream",
          "name": "stdout",
          "text": [
            "  ✔ prompt2: infer_img() full-res ok\n",
            " Saved results to /content/drive/MyDrive/RQ1_Experiments/results/InternVL3-8B/RQ1_InternVL3-8B_8B_country_L2_prompt2_r1.json\n"
          ]
        },
        {
          "output_type": "stream",
          "name": "stderr",
          "text": [
            "Setting `pad_token_id` to `eos_token_id`:151645 for open-end generation.\n"
          ]
        },
        {
          "output_type": "stream",
          "name": "stdout",
          "text": [
            "  ✔ prompt3: infer_img() full-res ok\n",
            " Saved results to /content/drive/MyDrive/RQ1_Experiments/results/InternVL3-8B/RQ1_InternVL3-8B_8B_country_L2_prompt3_r1.json\n",
            "  ✔ prompt4: infer_img() full-res ok\n",
            " Saved results to /content/drive/MyDrive/RQ1_Experiments/results/InternVL3-8B/RQ1_InternVL3-8B_8B_country_L2_prompt4_r1.json\n",
            "------------------------------------------------------\n",
            "\n",
            "Processing 95/360: /content/drive/MyDrive/RQ1_Experiments/RQ1_Data_Batch1/Asia/Iran/Asia_Iran_photo_8bd57bd02fc2955c9a305eb7bbfbd95f3f5094a8_TOP.jpg\n"
          ]
        },
        {
          "output_type": "stream",
          "name": "stderr",
          "text": [
            "Setting `pad_token_id` to `eos_token_id`:151645 for open-end generation.\n",
            "Setting `pad_token_id` to `eos_token_id`:151645 for open-end generation.\n"
          ]
        },
        {
          "output_type": "stream",
          "name": "stdout",
          "text": [
            "  ✔ prompt1: infer_img() full-res ok\n",
            " Saved results to /content/drive/MyDrive/RQ1_Experiments/results/InternVL3-8B/RQ1_InternVL3-8B_8B_country_L2_prompt1_r1.json\n"
          ]
        },
        {
          "output_type": "stream",
          "name": "stderr",
          "text": [
            "Setting `pad_token_id` to `eos_token_id`:151645 for open-end generation.\n"
          ]
        },
        {
          "output_type": "stream",
          "name": "stdout",
          "text": [
            "  ✔ prompt2: infer_img() full-res ok\n",
            " Saved results to /content/drive/MyDrive/RQ1_Experiments/results/InternVL3-8B/RQ1_InternVL3-8B_8B_country_L2_prompt2_r1.json\n"
          ]
        },
        {
          "output_type": "stream",
          "name": "stderr",
          "text": [
            "Setting `pad_token_id` to `eos_token_id`:151645 for open-end generation.\n"
          ]
        },
        {
          "output_type": "stream",
          "name": "stdout",
          "text": [
            "  ✔ prompt3: infer_img() full-res ok\n",
            " Saved results to /content/drive/MyDrive/RQ1_Experiments/results/InternVL3-8B/RQ1_InternVL3-8B_8B_country_L2_prompt3_r1.json\n",
            "  ✔ prompt4: infer_img() full-res ok\n",
            " Saved results to /content/drive/MyDrive/RQ1_Experiments/results/InternVL3-8B/RQ1_InternVL3-8B_8B_country_L2_prompt4_r1.json\n",
            "------------------------------------------------------\n",
            "\n",
            "Processing 96/360: /content/drive/MyDrive/RQ1_Experiments/RQ1_Data_Batch1/Asia/Iran/Asia_Iran_photo_965cc87a78fb1e22881cd1c1003d6d69b0a9c11a_TOP.jpg\n"
          ]
        },
        {
          "output_type": "stream",
          "name": "stderr",
          "text": [
            "Setting `pad_token_id` to `eos_token_id`:151645 for open-end generation.\n",
            "Setting `pad_token_id` to `eos_token_id`:151645 for open-end generation.\n"
          ]
        },
        {
          "output_type": "stream",
          "name": "stdout",
          "text": [
            "  ✔ prompt1: infer_img() full-res ok\n",
            " Saved results to /content/drive/MyDrive/RQ1_Experiments/results/InternVL3-8B/RQ1_InternVL3-8B_8B_country_L2_prompt1_r1.json\n"
          ]
        },
        {
          "output_type": "stream",
          "name": "stderr",
          "text": [
            "Setting `pad_token_id` to `eos_token_id`:151645 for open-end generation.\n"
          ]
        },
        {
          "output_type": "stream",
          "name": "stdout",
          "text": [
            "  ✔ prompt2: infer_img() full-res ok\n",
            " Saved results to /content/drive/MyDrive/RQ1_Experiments/results/InternVL3-8B/RQ1_InternVL3-8B_8B_country_L2_prompt2_r1.json\n"
          ]
        },
        {
          "output_type": "stream",
          "name": "stderr",
          "text": [
            "Setting `pad_token_id` to `eos_token_id`:151645 for open-end generation.\n"
          ]
        },
        {
          "output_type": "stream",
          "name": "stdout",
          "text": [
            "  ✔ prompt3: infer_img() full-res ok\n",
            " Saved results to /content/drive/MyDrive/RQ1_Experiments/results/InternVL3-8B/RQ1_InternVL3-8B_8B_country_L2_prompt3_r1.json\n",
            "  ✔ prompt4: infer_img() full-res ok\n",
            " Saved results to /content/drive/MyDrive/RQ1_Experiments/results/InternVL3-8B/RQ1_InternVL3-8B_8B_country_L2_prompt4_r1.json\n",
            "------------------------------------------------------\n",
            "\n",
            "Processing 97/360: /content/drive/MyDrive/RQ1_Experiments/RQ1_Data_Batch1/Asia/Iran/Asia_Iran_photo_a992d97c867ad7aa24ad73b9349cddec9b61bc45_TOP.jpg\n"
          ]
        },
        {
          "output_type": "stream",
          "name": "stderr",
          "text": [
            "Setting `pad_token_id` to `eos_token_id`:151645 for open-end generation.\n",
            "Setting `pad_token_id` to `eos_token_id`:151645 for open-end generation.\n"
          ]
        },
        {
          "output_type": "stream",
          "name": "stdout",
          "text": [
            "  ✔ prompt1: infer_img() full-res ok\n",
            " Saved results to /content/drive/MyDrive/RQ1_Experiments/results/InternVL3-8B/RQ1_InternVL3-8B_8B_country_L2_prompt1_r1.json\n"
          ]
        },
        {
          "output_type": "stream",
          "name": "stderr",
          "text": [
            "Setting `pad_token_id` to `eos_token_id`:151645 for open-end generation.\n"
          ]
        },
        {
          "output_type": "stream",
          "name": "stdout",
          "text": [
            "  ✔ prompt2: infer_img() full-res ok\n",
            " Saved results to /content/drive/MyDrive/RQ1_Experiments/results/InternVL3-8B/RQ1_InternVL3-8B_8B_country_L2_prompt2_r1.json\n"
          ]
        },
        {
          "output_type": "stream",
          "name": "stderr",
          "text": [
            "Setting `pad_token_id` to `eos_token_id`:151645 for open-end generation.\n"
          ]
        },
        {
          "output_type": "stream",
          "name": "stdout",
          "text": [
            "  ✔ prompt3: infer_img() full-res ok\n",
            " Saved results to /content/drive/MyDrive/RQ1_Experiments/results/InternVL3-8B/RQ1_InternVL3-8B_8B_country_L2_prompt3_r1.json\n",
            "  ✔ prompt4: infer_img() full-res ok\n",
            " Saved results to /content/drive/MyDrive/RQ1_Experiments/results/InternVL3-8B/RQ1_InternVL3-8B_8B_country_L2_prompt4_r1.json\n",
            "------------------------------------------------------\n",
            "\n",
            "Processing 98/360: /content/drive/MyDrive/RQ1_Experiments/RQ1_Data_Batch1/Asia/Iran/Asia_Iran_photo_b6c3b7f0c64fd769a2f7b562fde6040a32adff3e_TOP.jpg\n"
          ]
        },
        {
          "output_type": "stream",
          "name": "stderr",
          "text": [
            "Setting `pad_token_id` to `eos_token_id`:151645 for open-end generation.\n",
            "Setting `pad_token_id` to `eos_token_id`:151645 for open-end generation.\n"
          ]
        },
        {
          "output_type": "stream",
          "name": "stdout",
          "text": [
            "  ✔ prompt1: infer_img() full-res ok\n",
            " Saved results to /content/drive/MyDrive/RQ1_Experiments/results/InternVL3-8B/RQ1_InternVL3-8B_8B_country_L2_prompt1_r1.json\n"
          ]
        },
        {
          "output_type": "stream",
          "name": "stderr",
          "text": [
            "Setting `pad_token_id` to `eos_token_id`:151645 for open-end generation.\n"
          ]
        },
        {
          "output_type": "stream",
          "name": "stdout",
          "text": [
            "  ✔ prompt2: infer_img() full-res ok\n",
            " Saved results to /content/drive/MyDrive/RQ1_Experiments/results/InternVL3-8B/RQ1_InternVL3-8B_8B_country_L2_prompt2_r1.json\n"
          ]
        },
        {
          "output_type": "stream",
          "name": "stderr",
          "text": [
            "Setting `pad_token_id` to `eos_token_id`:151645 for open-end generation.\n"
          ]
        },
        {
          "output_type": "stream",
          "name": "stdout",
          "text": [
            "  ✔ prompt3: infer_img() full-res ok\n",
            " Saved results to /content/drive/MyDrive/RQ1_Experiments/results/InternVL3-8B/RQ1_InternVL3-8B_8B_country_L2_prompt3_r1.json\n",
            "  ✔ prompt4: infer_img() full-res ok\n",
            " Saved results to /content/drive/MyDrive/RQ1_Experiments/results/InternVL3-8B/RQ1_InternVL3-8B_8B_country_L2_prompt4_r1.json\n",
            "------------------------------------------------------\n",
            "\n",
            "Processing 99/360: /content/drive/MyDrive/RQ1_Experiments/RQ1_Data_Batch1/Asia/Iran/Asia_Iran_photo_cb4e6ba490dbaf14146a91afc0c4b244654f5dea_TOP.jpg\n"
          ]
        },
        {
          "output_type": "stream",
          "name": "stderr",
          "text": [
            "Setting `pad_token_id` to `eos_token_id`:151645 for open-end generation.\n",
            "Setting `pad_token_id` to `eos_token_id`:151645 for open-end generation.\n"
          ]
        },
        {
          "output_type": "stream",
          "name": "stdout",
          "text": [
            "  ✔ prompt1: infer_img() full-res ok\n",
            " Saved results to /content/drive/MyDrive/RQ1_Experiments/results/InternVL3-8B/RQ1_InternVL3-8B_8B_country_L2_prompt1_r1.json\n"
          ]
        },
        {
          "output_type": "stream",
          "name": "stderr",
          "text": [
            "Setting `pad_token_id` to `eos_token_id`:151645 for open-end generation.\n"
          ]
        },
        {
          "output_type": "stream",
          "name": "stdout",
          "text": [
            "  ✔ prompt2: infer_img() full-res ok\n",
            " Saved results to /content/drive/MyDrive/RQ1_Experiments/results/InternVL3-8B/RQ1_InternVL3-8B_8B_country_L2_prompt2_r1.json\n"
          ]
        },
        {
          "output_type": "stream",
          "name": "stderr",
          "text": [
            "Setting `pad_token_id` to `eos_token_id`:151645 for open-end generation.\n"
          ]
        },
        {
          "output_type": "stream",
          "name": "stdout",
          "text": [
            "  ✔ prompt3: infer_img() full-res ok\n",
            " Saved results to /content/drive/MyDrive/RQ1_Experiments/results/InternVL3-8B/RQ1_InternVL3-8B_8B_country_L2_prompt3_r1.json\n",
            "  ✔ prompt4: infer_img() full-res ok\n",
            " Saved results to /content/drive/MyDrive/RQ1_Experiments/results/InternVL3-8B/RQ1_InternVL3-8B_8B_country_L2_prompt4_r1.json\n",
            "------------------------------------------------------\n",
            "\n",
            "Processing 100/360: /content/drive/MyDrive/RQ1_Experiments/RQ1_Data_Batch1/Asia/Iran/Asia_Iran_photo_ce911e80ce8d79d19bc25df5ced7495090fa88c7_TOP.jpg\n"
          ]
        },
        {
          "output_type": "stream",
          "name": "stderr",
          "text": [
            "Setting `pad_token_id` to `eos_token_id`:151645 for open-end generation.\n",
            "Setting `pad_token_id` to `eos_token_id`:151645 for open-end generation.\n"
          ]
        },
        {
          "output_type": "stream",
          "name": "stdout",
          "text": [
            "  ✔ prompt1: infer_img() full-res ok\n",
            " Saved results to /content/drive/MyDrive/RQ1_Experiments/results/InternVL3-8B/RQ1_InternVL3-8B_8B_country_L2_prompt1_r1.json\n"
          ]
        },
        {
          "output_type": "stream",
          "name": "stderr",
          "text": [
            "Setting `pad_token_id` to `eos_token_id`:151645 for open-end generation.\n"
          ]
        },
        {
          "output_type": "stream",
          "name": "stdout",
          "text": [
            "  ✔ prompt2: infer_img() full-res ok\n",
            " Saved results to /content/drive/MyDrive/RQ1_Experiments/results/InternVL3-8B/RQ1_InternVL3-8B_8B_country_L2_prompt2_r1.json\n"
          ]
        },
        {
          "output_type": "stream",
          "name": "stderr",
          "text": [
            "Setting `pad_token_id` to `eos_token_id`:151645 for open-end generation.\n"
          ]
        },
        {
          "output_type": "stream",
          "name": "stdout",
          "text": [
            "  ✔ prompt3: infer_img() full-res ok\n",
            " Saved results to /content/drive/MyDrive/RQ1_Experiments/results/InternVL3-8B/RQ1_InternVL3-8B_8B_country_L2_prompt3_r1.json\n",
            "  ✔ prompt4: infer_img() full-res ok\n",
            " Saved results to /content/drive/MyDrive/RQ1_Experiments/results/InternVL3-8B/RQ1_InternVL3-8B_8B_country_L2_prompt4_r1.json\n",
            "------------------------------------------------------\n",
            "\n",
            "Processing 101/360: /content/drive/MyDrive/RQ1_Experiments/RQ1_Data_Batch1/Asia/Iran/Asia_Iran_photo_e6caf6338d8d3f3d34916ef0c9afc4b0635effe4_TOP.jpg\n"
          ]
        },
        {
          "output_type": "stream",
          "name": "stderr",
          "text": [
            "Setting `pad_token_id` to `eos_token_id`:151645 for open-end generation.\n",
            "Setting `pad_token_id` to `eos_token_id`:151645 for open-end generation.\n"
          ]
        },
        {
          "output_type": "stream",
          "name": "stdout",
          "text": [
            "  ✔ prompt1: infer_img() full-res ok\n",
            " Saved results to /content/drive/MyDrive/RQ1_Experiments/results/InternVL3-8B/RQ1_InternVL3-8B_8B_country_L2_prompt1_r1.json\n"
          ]
        },
        {
          "output_type": "stream",
          "name": "stderr",
          "text": [
            "Setting `pad_token_id` to `eos_token_id`:151645 for open-end generation.\n"
          ]
        },
        {
          "output_type": "stream",
          "name": "stdout",
          "text": [
            "  ✔ prompt2: infer_img() full-res ok\n",
            " Saved results to /content/drive/MyDrive/RQ1_Experiments/results/InternVL3-8B/RQ1_InternVL3-8B_8B_country_L2_prompt2_r1.json\n"
          ]
        },
        {
          "output_type": "stream",
          "name": "stderr",
          "text": [
            "Setting `pad_token_id` to `eos_token_id`:151645 for open-end generation.\n"
          ]
        },
        {
          "output_type": "stream",
          "name": "stdout",
          "text": [
            "  ✔ prompt3: infer_img() full-res ok\n",
            " Saved results to /content/drive/MyDrive/RQ1_Experiments/results/InternVL3-8B/RQ1_InternVL3-8B_8B_country_L2_prompt3_r1.json\n",
            "  ✔ prompt4: infer_img() full-res ok\n",
            " Saved results to /content/drive/MyDrive/RQ1_Experiments/results/InternVL3-8B/RQ1_InternVL3-8B_8B_country_L2_prompt4_r1.json\n",
            "------------------------------------------------------\n",
            "\n",
            "Processing 102/360: /content/drive/MyDrive/RQ1_Experiments/RQ1_Data_Batch1/Asia/Iran/Asia_Iran_photo_fa551b797d5939add82bda2ccb7f5601e17cd0bf_TOP.jpg\n"
          ]
        },
        {
          "output_type": "stream",
          "name": "stderr",
          "text": [
            "Setting `pad_token_id` to `eos_token_id`:151645 for open-end generation.\n",
            "Setting `pad_token_id` to `eos_token_id`:151645 for open-end generation.\n"
          ]
        },
        {
          "output_type": "stream",
          "name": "stdout",
          "text": [
            "  ✔ prompt1: infer_img() full-res ok\n",
            " Saved results to /content/drive/MyDrive/RQ1_Experiments/results/InternVL3-8B/RQ1_InternVL3-8B_8B_country_L2_prompt1_r1.json\n"
          ]
        },
        {
          "output_type": "stream",
          "name": "stderr",
          "text": [
            "Setting `pad_token_id` to `eos_token_id`:151645 for open-end generation.\n"
          ]
        },
        {
          "output_type": "stream",
          "name": "stdout",
          "text": [
            "  ✔ prompt2: infer_img() full-res ok\n",
            " Saved results to /content/drive/MyDrive/RQ1_Experiments/results/InternVL3-8B/RQ1_InternVL3-8B_8B_country_L2_prompt2_r1.json\n"
          ]
        },
        {
          "output_type": "stream",
          "name": "stderr",
          "text": [
            "Setting `pad_token_id` to `eos_token_id`:151645 for open-end generation.\n"
          ]
        },
        {
          "output_type": "stream",
          "name": "stdout",
          "text": [
            "  ✔ prompt3: infer_img() full-res ok\n",
            " Saved results to /content/drive/MyDrive/RQ1_Experiments/results/InternVL3-8B/RQ1_InternVL3-8B_8B_country_L2_prompt3_r1.json\n",
            "  ✔ prompt4: infer_img() full-res ok\n",
            " Saved results to /content/drive/MyDrive/RQ1_Experiments/results/InternVL3-8B/RQ1_InternVL3-8B_8B_country_L2_prompt4_r1.json\n",
            "------------------------------------------------------\n",
            "\n",
            "Processing 103/360: /content/drive/MyDrive/RQ1_Experiments/RQ1_Data_Batch1/Asia/Israel/Asia_Israel_photo_18139d2e443cea10cee58f6be02e2380abc9d3ca_MIDDLE.jpg\n"
          ]
        },
        {
          "output_type": "stream",
          "name": "stderr",
          "text": [
            "Setting `pad_token_id` to `eos_token_id`:151645 for open-end generation.\n",
            "Setting `pad_token_id` to `eos_token_id`:151645 for open-end generation.\n"
          ]
        },
        {
          "output_type": "stream",
          "name": "stdout",
          "text": [
            "  ✔ prompt1: infer_img() full-res ok\n",
            " Saved results to /content/drive/MyDrive/RQ1_Experiments/results/InternVL3-8B/RQ1_InternVL3-8B_8B_country_L2_prompt1_r1.json\n"
          ]
        },
        {
          "output_type": "stream",
          "name": "stderr",
          "text": [
            "Setting `pad_token_id` to `eos_token_id`:151645 for open-end generation.\n"
          ]
        },
        {
          "output_type": "stream",
          "name": "stdout",
          "text": [
            "  ✔ prompt2: infer_img() full-res ok\n",
            " Saved results to /content/drive/MyDrive/RQ1_Experiments/results/InternVL3-8B/RQ1_InternVL3-8B_8B_country_L2_prompt2_r1.json\n"
          ]
        },
        {
          "output_type": "stream",
          "name": "stderr",
          "text": [
            "Setting `pad_token_id` to `eos_token_id`:151645 for open-end generation.\n"
          ]
        },
        {
          "output_type": "stream",
          "name": "stdout",
          "text": [
            "  ✔ prompt3: infer_img() full-res ok\n",
            " Saved results to /content/drive/MyDrive/RQ1_Experiments/results/InternVL3-8B/RQ1_InternVL3-8B_8B_country_L2_prompt3_r1.json\n",
            "  ✔ prompt4: infer_img() full-res ok\n",
            " Saved results to /content/drive/MyDrive/RQ1_Experiments/results/InternVL3-8B/RQ1_InternVL3-8B_8B_country_L2_prompt4_r1.json\n",
            "------------------------------------------------------\n",
            "\n",
            "Processing 104/360: /content/drive/MyDrive/RQ1_Experiments/RQ1_Data_Batch1/Asia/Israel/Asia_Israel_photo_26c1047ed05ba2fb2ee72fb4fd40a87921473059_MIDDLE.jpg\n"
          ]
        },
        {
          "output_type": "stream",
          "name": "stderr",
          "text": [
            "Setting `pad_token_id` to `eos_token_id`:151645 for open-end generation.\n",
            "Setting `pad_token_id` to `eos_token_id`:151645 for open-end generation.\n"
          ]
        },
        {
          "output_type": "stream",
          "name": "stdout",
          "text": [
            "  ✔ prompt1: infer_img() full-res ok\n",
            " Saved results to /content/drive/MyDrive/RQ1_Experiments/results/InternVL3-8B/RQ1_InternVL3-8B_8B_country_L2_prompt1_r1.json\n"
          ]
        },
        {
          "output_type": "stream",
          "name": "stderr",
          "text": [
            "Setting `pad_token_id` to `eos_token_id`:151645 for open-end generation.\n"
          ]
        },
        {
          "output_type": "stream",
          "name": "stdout",
          "text": [
            "  ✔ prompt2: infer_img() full-res ok\n",
            " Saved results to /content/drive/MyDrive/RQ1_Experiments/results/InternVL3-8B/RQ1_InternVL3-8B_8B_country_L2_prompt2_r1.json\n"
          ]
        },
        {
          "output_type": "stream",
          "name": "stderr",
          "text": [
            "Setting `pad_token_id` to `eos_token_id`:151645 for open-end generation.\n"
          ]
        },
        {
          "output_type": "stream",
          "name": "stdout",
          "text": [
            "  ✔ prompt3: infer_img() full-res ok\n",
            " Saved results to /content/drive/MyDrive/RQ1_Experiments/results/InternVL3-8B/RQ1_InternVL3-8B_8B_country_L2_prompt3_r1.json\n",
            "  ✔ prompt4: infer_img() full-res ok\n",
            " Saved results to /content/drive/MyDrive/RQ1_Experiments/results/InternVL3-8B/RQ1_InternVL3-8B_8B_country_L2_prompt4_r1.json\n",
            "------------------------------------------------------\n",
            "\n",
            "Processing 105/360: /content/drive/MyDrive/RQ1_Experiments/RQ1_Data_Batch1/Asia/Japan/Asia_Japan_photo_06a54f45f3d279e2aca65938c0986eab4e1103c5_TOP.jpg\n"
          ]
        },
        {
          "output_type": "stream",
          "name": "stderr",
          "text": [
            "Setting `pad_token_id` to `eos_token_id`:151645 for open-end generation.\n",
            "Setting `pad_token_id` to `eos_token_id`:151645 for open-end generation.\n"
          ]
        },
        {
          "output_type": "stream",
          "name": "stdout",
          "text": [
            "  ✔ prompt1: infer_img() full-res ok\n",
            " Saved results to /content/drive/MyDrive/RQ1_Experiments/results/InternVL3-8B/RQ1_InternVL3-8B_8B_country_L2_prompt1_r1.json\n"
          ]
        },
        {
          "output_type": "stream",
          "name": "stderr",
          "text": [
            "Setting `pad_token_id` to `eos_token_id`:151645 for open-end generation.\n"
          ]
        },
        {
          "output_type": "stream",
          "name": "stdout",
          "text": [
            "  ✔ prompt2: infer_img() full-res ok\n",
            " Saved results to /content/drive/MyDrive/RQ1_Experiments/results/InternVL3-8B/RQ1_InternVL3-8B_8B_country_L2_prompt2_r1.json\n"
          ]
        },
        {
          "output_type": "stream",
          "name": "stderr",
          "text": [
            "Setting `pad_token_id` to `eos_token_id`:151645 for open-end generation.\n"
          ]
        },
        {
          "output_type": "stream",
          "name": "stdout",
          "text": [
            "  ✔ prompt3: infer_img() full-res ok\n",
            " Saved results to /content/drive/MyDrive/RQ1_Experiments/results/InternVL3-8B/RQ1_InternVL3-8B_8B_country_L2_prompt3_r1.json\n",
            "  ✔ prompt4: infer_img() full-res ok\n",
            " Saved results to /content/drive/MyDrive/RQ1_Experiments/results/InternVL3-8B/RQ1_InternVL3-8B_8B_country_L2_prompt4_r1.json\n",
            "------------------------------------------------------\n",
            "\n",
            "Processing 106/360: /content/drive/MyDrive/RQ1_Experiments/RQ1_Data_Batch1/Asia/Japan/Asia_Japan_photo_67992d2e41e5b767898c4a95053b4e08e882b60e_TOP.jpg\n"
          ]
        },
        {
          "output_type": "stream",
          "name": "stderr",
          "text": [
            "Setting `pad_token_id` to `eos_token_id`:151645 for open-end generation.\n",
            "Setting `pad_token_id` to `eos_token_id`:151645 for open-end generation.\n"
          ]
        },
        {
          "output_type": "stream",
          "name": "stdout",
          "text": [
            "  ✔ prompt1: infer_img() full-res ok\n",
            " Saved results to /content/drive/MyDrive/RQ1_Experiments/results/InternVL3-8B/RQ1_InternVL3-8B_8B_country_L2_prompt1_r1.json\n"
          ]
        },
        {
          "output_type": "stream",
          "name": "stderr",
          "text": [
            "Setting `pad_token_id` to `eos_token_id`:151645 for open-end generation.\n"
          ]
        },
        {
          "output_type": "stream",
          "name": "stdout",
          "text": [
            "  ✔ prompt2: infer_img() full-res ok\n",
            " Saved results to /content/drive/MyDrive/RQ1_Experiments/results/InternVL3-8B/RQ1_InternVL3-8B_8B_country_L2_prompt2_r1.json\n"
          ]
        },
        {
          "output_type": "stream",
          "name": "stderr",
          "text": [
            "Setting `pad_token_id` to `eos_token_id`:151645 for open-end generation.\n"
          ]
        },
        {
          "output_type": "stream",
          "name": "stdout",
          "text": [
            "  ✔ prompt3: infer_img() full-res ok\n",
            " Saved results to /content/drive/MyDrive/RQ1_Experiments/results/InternVL3-8B/RQ1_InternVL3-8B_8B_country_L2_prompt3_r1.json\n",
            "  ✔ prompt4: infer_img() full-res ok\n",
            " Saved results to /content/drive/MyDrive/RQ1_Experiments/results/InternVL3-8B/RQ1_InternVL3-8B_8B_country_L2_prompt4_r1.json\n",
            "------------------------------------------------------\n",
            "\n",
            "Processing 107/360: /content/drive/MyDrive/RQ1_Experiments/RQ1_Data_Batch1/Asia/Jordan/Asia_Jordan_J1_MIDDLE.jpeg\n"
          ]
        },
        {
          "output_type": "stream",
          "name": "stderr",
          "text": [
            "Setting `pad_token_id` to `eos_token_id`:151645 for open-end generation.\n",
            "Setting `pad_token_id` to `eos_token_id`:151645 for open-end generation.\n"
          ]
        },
        {
          "output_type": "stream",
          "name": "stdout",
          "text": [
            "  ✔ prompt1: infer_img() full-res ok\n",
            " Saved results to /content/drive/MyDrive/RQ1_Experiments/results/InternVL3-8B/RQ1_InternVL3-8B_8B_country_L2_prompt1_r1.json\n"
          ]
        },
        {
          "output_type": "stream",
          "name": "stderr",
          "text": [
            "Setting `pad_token_id` to `eos_token_id`:151645 for open-end generation.\n"
          ]
        },
        {
          "output_type": "stream",
          "name": "stdout",
          "text": [
            "  ✔ prompt2: infer_img() full-res ok\n",
            " Saved results to /content/drive/MyDrive/RQ1_Experiments/results/InternVL3-8B/RQ1_InternVL3-8B_8B_country_L2_prompt2_r1.json\n"
          ]
        },
        {
          "output_type": "stream",
          "name": "stderr",
          "text": [
            "Setting `pad_token_id` to `eos_token_id`:151645 for open-end generation.\n"
          ]
        },
        {
          "output_type": "stream",
          "name": "stdout",
          "text": [
            "  ✔ prompt3: infer_img() full-res ok\n",
            " Saved results to /content/drive/MyDrive/RQ1_Experiments/results/InternVL3-8B/RQ1_InternVL3-8B_8B_country_L2_prompt3_r1.json\n",
            "  ✔ prompt4: infer_img() full-res ok\n",
            " Saved results to /content/drive/MyDrive/RQ1_Experiments/results/InternVL3-8B/RQ1_InternVL3-8B_8B_country_L2_prompt4_r1.json\n",
            "------------------------------------------------------\n",
            "\n",
            "Processing 108/360: /content/drive/MyDrive/RQ1_Experiments/RQ1_Data_Batch1/Asia/Jordan/Asia_Jordan_J2_MIDDLE.jpeg\n"
          ]
        },
        {
          "output_type": "stream",
          "name": "stderr",
          "text": [
            "Setting `pad_token_id` to `eos_token_id`:151645 for open-end generation.\n",
            "Setting `pad_token_id` to `eos_token_id`:151645 for open-end generation.\n"
          ]
        },
        {
          "output_type": "stream",
          "name": "stdout",
          "text": [
            "  ✔ prompt1: infer_img() full-res ok\n",
            " Saved results to /content/drive/MyDrive/RQ1_Experiments/results/InternVL3-8B/RQ1_InternVL3-8B_8B_country_L2_prompt1_r1.json\n"
          ]
        },
        {
          "output_type": "stream",
          "name": "stderr",
          "text": [
            "Setting `pad_token_id` to `eos_token_id`:151645 for open-end generation.\n"
          ]
        },
        {
          "output_type": "stream",
          "name": "stdout",
          "text": [
            "  ✔ prompt2: infer_img() full-res ok\n",
            " Saved results to /content/drive/MyDrive/RQ1_Experiments/results/InternVL3-8B/RQ1_InternVL3-8B_8B_country_L2_prompt2_r1.json\n"
          ]
        },
        {
          "output_type": "stream",
          "name": "stderr",
          "text": [
            "Setting `pad_token_id` to `eos_token_id`:151645 for open-end generation.\n"
          ]
        },
        {
          "output_type": "stream",
          "name": "stdout",
          "text": [
            "  ✔ prompt3: infer_img() full-res ok\n",
            " Saved results to /content/drive/MyDrive/RQ1_Experiments/results/InternVL3-8B/RQ1_InternVL3-8B_8B_country_L2_prompt3_r1.json\n",
            "  ✔ prompt4: infer_img() full-res ok\n",
            " Saved results to /content/drive/MyDrive/RQ1_Experiments/results/InternVL3-8B/RQ1_InternVL3-8B_8B_country_L2_prompt4_r1.json\n",
            "------------------------------------------------------\n",
            "\n",
            "Processing 109/360: /content/drive/MyDrive/RQ1_Experiments/RQ1_Data_Batch1/Asia/Jordan/Asia_Jordan_J3_MIDDLE.jpeg\n"
          ]
        },
        {
          "output_type": "stream",
          "name": "stderr",
          "text": [
            "Setting `pad_token_id` to `eos_token_id`:151645 for open-end generation.\n",
            "Setting `pad_token_id` to `eos_token_id`:151645 for open-end generation.\n"
          ]
        },
        {
          "output_type": "stream",
          "name": "stdout",
          "text": [
            "  ✔ prompt1: infer_img() full-res ok\n",
            " Saved results to /content/drive/MyDrive/RQ1_Experiments/results/InternVL3-8B/RQ1_InternVL3-8B_8B_country_L2_prompt1_r1.json\n"
          ]
        },
        {
          "output_type": "stream",
          "name": "stderr",
          "text": [
            "Setting `pad_token_id` to `eos_token_id`:151645 for open-end generation.\n"
          ]
        },
        {
          "output_type": "stream",
          "name": "stdout",
          "text": [
            "  ✔ prompt2: infer_img() full-res ok\n",
            " Saved results to /content/drive/MyDrive/RQ1_Experiments/results/InternVL3-8B/RQ1_InternVL3-8B_8B_country_L2_prompt2_r1.json\n"
          ]
        },
        {
          "output_type": "stream",
          "name": "stderr",
          "text": [
            "Setting `pad_token_id` to `eos_token_id`:151645 for open-end generation.\n"
          ]
        },
        {
          "output_type": "stream",
          "name": "stdout",
          "text": [
            "  ✔ prompt3: infer_img() full-res ok\n",
            " Saved results to /content/drive/MyDrive/RQ1_Experiments/results/InternVL3-8B/RQ1_InternVL3-8B_8B_country_L2_prompt3_r1.json\n",
            "  ✔ prompt4: infer_img() full-res ok\n",
            " Saved results to /content/drive/MyDrive/RQ1_Experiments/results/InternVL3-8B/RQ1_InternVL3-8B_8B_country_L2_prompt4_r1.json\n",
            "------------------------------------------------------\n",
            "\n",
            "Processing 110/360: /content/drive/MyDrive/RQ1_Experiments/RQ1_Data_Batch1/Asia/Jordan/Asia_Jordan_J4_MIDDLE.jpg\n"
          ]
        },
        {
          "output_type": "stream",
          "name": "stderr",
          "text": [
            "Setting `pad_token_id` to `eos_token_id`:151645 for open-end generation.\n",
            "Setting `pad_token_id` to `eos_token_id`:151645 for open-end generation.\n"
          ]
        },
        {
          "output_type": "stream",
          "name": "stdout",
          "text": [
            "  ✔ prompt1: infer_img() full-res ok\n",
            " Saved results to /content/drive/MyDrive/RQ1_Experiments/results/InternVL3-8B/RQ1_InternVL3-8B_8B_country_L2_prompt1_r1.json\n"
          ]
        },
        {
          "output_type": "stream",
          "name": "stderr",
          "text": [
            "Setting `pad_token_id` to `eos_token_id`:151645 for open-end generation.\n"
          ]
        },
        {
          "output_type": "stream",
          "name": "stdout",
          "text": [
            "  ✔ prompt2: infer_img() full-res ok\n",
            " Saved results to /content/drive/MyDrive/RQ1_Experiments/results/InternVL3-8B/RQ1_InternVL3-8B_8B_country_L2_prompt2_r1.json\n"
          ]
        },
        {
          "output_type": "stream",
          "name": "stderr",
          "text": [
            "Setting `pad_token_id` to `eos_token_id`:151645 for open-end generation.\n"
          ]
        },
        {
          "output_type": "stream",
          "name": "stdout",
          "text": [
            "  ✔ prompt3: infer_img() full-res ok\n",
            " Saved results to /content/drive/MyDrive/RQ1_Experiments/results/InternVL3-8B/RQ1_InternVL3-8B_8B_country_L2_prompt3_r1.json\n",
            "  ✔ prompt4: infer_img() full-res ok\n",
            " Saved results to /content/drive/MyDrive/RQ1_Experiments/results/InternVL3-8B/RQ1_InternVL3-8B_8B_country_L2_prompt4_r1.json\n",
            "------------------------------------------------------\n",
            "\n",
            "Processing 111/360: /content/drive/MyDrive/RQ1_Experiments/RQ1_Data_Batch1/Asia/Jordan/Asia_Jordan_J5_MIDDLE.JPG\n"
          ]
        },
        {
          "output_type": "stream",
          "name": "stderr",
          "text": [
            "Setting `pad_token_id` to `eos_token_id`:151645 for open-end generation.\n",
            "Setting `pad_token_id` to `eos_token_id`:151645 for open-end generation.\n"
          ]
        },
        {
          "output_type": "stream",
          "name": "stdout",
          "text": [
            "  ✔ prompt1: infer_img() full-res ok\n",
            " Saved results to /content/drive/MyDrive/RQ1_Experiments/results/InternVL3-8B/RQ1_InternVL3-8B_8B_country_L2_prompt1_r1.json\n"
          ]
        },
        {
          "output_type": "stream",
          "name": "stderr",
          "text": [
            "Setting `pad_token_id` to `eos_token_id`:151645 for open-end generation.\n"
          ]
        },
        {
          "output_type": "stream",
          "name": "stdout",
          "text": [
            "  ✔ prompt2: infer_img() full-res ok\n",
            " Saved results to /content/drive/MyDrive/RQ1_Experiments/results/InternVL3-8B/RQ1_InternVL3-8B_8B_country_L2_prompt2_r1.json\n"
          ]
        },
        {
          "output_type": "stream",
          "name": "stderr",
          "text": [
            "Setting `pad_token_id` to `eos_token_id`:151645 for open-end generation.\n"
          ]
        },
        {
          "output_type": "stream",
          "name": "stdout",
          "text": [
            "  ✔ prompt3: infer_img() full-res ok\n",
            " Saved results to /content/drive/MyDrive/RQ1_Experiments/results/InternVL3-8B/RQ1_InternVL3-8B_8B_country_L2_prompt3_r1.json\n",
            "  ✔ prompt4: infer_img() full-res ok\n",
            " Saved results to /content/drive/MyDrive/RQ1_Experiments/results/InternVL3-8B/RQ1_InternVL3-8B_8B_country_L2_prompt4_r1.json\n",
            "------------------------------------------------------\n",
            "\n",
            "Processing 112/360: /content/drive/MyDrive/RQ1_Experiments/RQ1_Data_Batch1/Asia/Kazakhstan/Asia_Kazakhstan_KS1_MIDDLE.jpg\n"
          ]
        },
        {
          "output_type": "stream",
          "name": "stderr",
          "text": [
            "Setting `pad_token_id` to `eos_token_id`:151645 for open-end generation.\n",
            "Setting `pad_token_id` to `eos_token_id`:151645 for open-end generation.\n"
          ]
        },
        {
          "output_type": "stream",
          "name": "stdout",
          "text": [
            "  ✔ prompt1: infer_img() full-res ok\n",
            " Saved results to /content/drive/MyDrive/RQ1_Experiments/results/InternVL3-8B/RQ1_InternVL3-8B_8B_country_L2_prompt1_r1.json\n"
          ]
        },
        {
          "output_type": "stream",
          "name": "stderr",
          "text": [
            "Setting `pad_token_id` to `eos_token_id`:151645 for open-end generation.\n"
          ]
        },
        {
          "output_type": "stream",
          "name": "stdout",
          "text": [
            "  ✔ prompt2: infer_img() full-res ok\n",
            " Saved results to /content/drive/MyDrive/RQ1_Experiments/results/InternVL3-8B/RQ1_InternVL3-8B_8B_country_L2_prompt2_r1.json\n"
          ]
        },
        {
          "output_type": "stream",
          "name": "stderr",
          "text": [
            "Setting `pad_token_id` to `eos_token_id`:151645 for open-end generation.\n"
          ]
        },
        {
          "output_type": "stream",
          "name": "stdout",
          "text": [
            "  ✔ prompt3: infer_img() full-res ok\n",
            " Saved results to /content/drive/MyDrive/RQ1_Experiments/results/InternVL3-8B/RQ1_InternVL3-8B_8B_country_L2_prompt3_r1.json\n",
            "  ✔ prompt4: infer_img() full-res ok\n",
            " Saved results to /content/drive/MyDrive/RQ1_Experiments/results/InternVL3-8B/RQ1_InternVL3-8B_8B_country_L2_prompt4_r1.json\n",
            "------------------------------------------------------\n",
            "\n",
            "Processing 113/360: /content/drive/MyDrive/RQ1_Experiments/RQ1_Data_Batch1/Asia/Kazakhstan/Asia_Kazakhstan_KS2_MIDDLE.jpg\n"
          ]
        },
        {
          "output_type": "stream",
          "name": "stderr",
          "text": [
            "Setting `pad_token_id` to `eos_token_id`:151645 for open-end generation.\n",
            "Setting `pad_token_id` to `eos_token_id`:151645 for open-end generation.\n"
          ]
        },
        {
          "output_type": "stream",
          "name": "stdout",
          "text": [
            "  ✔ prompt1: infer_img() full-res ok\n",
            " Saved results to /content/drive/MyDrive/RQ1_Experiments/results/InternVL3-8B/RQ1_InternVL3-8B_8B_country_L2_prompt1_r1.json\n"
          ]
        },
        {
          "output_type": "stream",
          "name": "stderr",
          "text": [
            "Setting `pad_token_id` to `eos_token_id`:151645 for open-end generation.\n"
          ]
        },
        {
          "output_type": "stream",
          "name": "stdout",
          "text": [
            "  ✔ prompt2: infer_img() full-res ok\n",
            " Saved results to /content/drive/MyDrive/RQ1_Experiments/results/InternVL3-8B/RQ1_InternVL3-8B_8B_country_L2_prompt2_r1.json\n"
          ]
        },
        {
          "output_type": "stream",
          "name": "stderr",
          "text": [
            "Setting `pad_token_id` to `eos_token_id`:151645 for open-end generation.\n"
          ]
        },
        {
          "output_type": "stream",
          "name": "stdout",
          "text": [
            "  ✔ prompt3: infer_img() full-res ok\n",
            " Saved results to /content/drive/MyDrive/RQ1_Experiments/results/InternVL3-8B/RQ1_InternVL3-8B_8B_country_L2_prompt3_r1.json\n",
            "  ✔ prompt4: infer_img() full-res ok\n",
            " Saved results to /content/drive/MyDrive/RQ1_Experiments/results/InternVL3-8B/RQ1_InternVL3-8B_8B_country_L2_prompt4_r1.json\n",
            "------------------------------------------------------\n",
            "\n",
            "Processing 114/360: /content/drive/MyDrive/RQ1_Experiments/RQ1_Data_Batch1/Asia/Kazakhstan/Asia_Kazakhstan_KS3_MIDDLE.jpg\n"
          ]
        },
        {
          "output_type": "stream",
          "name": "stderr",
          "text": [
            "Setting `pad_token_id` to `eos_token_id`:151645 for open-end generation.\n",
            "Setting `pad_token_id` to `eos_token_id`:151645 for open-end generation.\n"
          ]
        },
        {
          "output_type": "stream",
          "name": "stdout",
          "text": [
            "  ✔ prompt1: infer_img() full-res ok\n",
            " Saved results to /content/drive/MyDrive/RQ1_Experiments/results/InternVL3-8B/RQ1_InternVL3-8B_8B_country_L2_prompt1_r1.json\n"
          ]
        },
        {
          "output_type": "stream",
          "name": "stderr",
          "text": [
            "Setting `pad_token_id` to `eos_token_id`:151645 for open-end generation.\n"
          ]
        },
        {
          "output_type": "stream",
          "name": "stdout",
          "text": [
            "  ✔ prompt2: infer_img() full-res ok\n",
            " Saved results to /content/drive/MyDrive/RQ1_Experiments/results/InternVL3-8B/RQ1_InternVL3-8B_8B_country_L2_prompt2_r1.json\n"
          ]
        },
        {
          "output_type": "stream",
          "name": "stderr",
          "text": [
            "Setting `pad_token_id` to `eos_token_id`:151645 for open-end generation.\n"
          ]
        },
        {
          "output_type": "stream",
          "name": "stdout",
          "text": [
            "  ✔ prompt3: infer_img() full-res ok\n",
            " Saved results to /content/drive/MyDrive/RQ1_Experiments/results/InternVL3-8B/RQ1_InternVL3-8B_8B_country_L2_prompt3_r1.json\n",
            "  ✔ prompt4: infer_img() full-res ok\n",
            " Saved results to /content/drive/MyDrive/RQ1_Experiments/results/InternVL3-8B/RQ1_InternVL3-8B_8B_country_L2_prompt4_r1.json\n",
            "------------------------------------------------------\n",
            "\n",
            "Processing 115/360: /content/drive/MyDrive/RQ1_Experiments/RQ1_Data_Batch1/Asia/Kazakhstan/Asia_Kazakhstan_KS4_MIDDLE.jpg\n"
          ]
        },
        {
          "output_type": "stream",
          "name": "stderr",
          "text": [
            "Setting `pad_token_id` to `eos_token_id`:151645 for open-end generation.\n",
            "Setting `pad_token_id` to `eos_token_id`:151645 for open-end generation.\n"
          ]
        },
        {
          "output_type": "stream",
          "name": "stdout",
          "text": [
            "  ✔ prompt1: infer_img() full-res ok\n",
            " Saved results to /content/drive/MyDrive/RQ1_Experiments/results/InternVL3-8B/RQ1_InternVL3-8B_8B_country_L2_prompt1_r1.json\n"
          ]
        },
        {
          "output_type": "stream",
          "name": "stderr",
          "text": [
            "Setting `pad_token_id` to `eos_token_id`:151645 for open-end generation.\n"
          ]
        },
        {
          "output_type": "stream",
          "name": "stdout",
          "text": [
            "  ✔ prompt2: infer_img() full-res ok\n",
            " Saved results to /content/drive/MyDrive/RQ1_Experiments/results/InternVL3-8B/RQ1_InternVL3-8B_8B_country_L2_prompt2_r1.json\n"
          ]
        },
        {
          "output_type": "stream",
          "name": "stderr",
          "text": [
            "Setting `pad_token_id` to `eos_token_id`:151645 for open-end generation.\n"
          ]
        },
        {
          "output_type": "stream",
          "name": "stdout",
          "text": [
            "  ✔ prompt3: infer_img() full-res ok\n",
            " Saved results to /content/drive/MyDrive/RQ1_Experiments/results/InternVL3-8B/RQ1_InternVL3-8B_8B_country_L2_prompt3_r1.json\n",
            "  ✔ prompt4: infer_img() full-res ok\n",
            " Saved results to /content/drive/MyDrive/RQ1_Experiments/results/InternVL3-8B/RQ1_InternVL3-8B_8B_country_L2_prompt4_r1.json\n",
            "------------------------------------------------------\n",
            "\n",
            "Processing 116/360: /content/drive/MyDrive/RQ1_Experiments/RQ1_Data_Batch1/Asia/Kuwait/Asia_Kuwait_K1_LAST.jpg\n"
          ]
        },
        {
          "output_type": "stream",
          "name": "stderr",
          "text": [
            "Setting `pad_token_id` to `eos_token_id`:151645 for open-end generation.\n",
            "Setting `pad_token_id` to `eos_token_id`:151645 for open-end generation.\n"
          ]
        },
        {
          "output_type": "stream",
          "name": "stdout",
          "text": [
            "  ✔ prompt1: infer_img() full-res ok\n",
            " Saved results to /content/drive/MyDrive/RQ1_Experiments/results/InternVL3-8B/RQ1_InternVL3-8B_8B_country_L2_prompt1_r1.json\n"
          ]
        },
        {
          "output_type": "stream",
          "name": "stderr",
          "text": [
            "Setting `pad_token_id` to `eos_token_id`:151645 for open-end generation.\n"
          ]
        },
        {
          "output_type": "stream",
          "name": "stdout",
          "text": [
            "  ✔ prompt2: infer_img() full-res ok\n",
            " Saved results to /content/drive/MyDrive/RQ1_Experiments/results/InternVL3-8B/RQ1_InternVL3-8B_8B_country_L2_prompt2_r1.json\n"
          ]
        },
        {
          "output_type": "stream",
          "name": "stderr",
          "text": [
            "Setting `pad_token_id` to `eos_token_id`:151645 for open-end generation.\n"
          ]
        },
        {
          "output_type": "stream",
          "name": "stdout",
          "text": [
            "  ✔ prompt3: infer_img() full-res ok\n",
            " Saved results to /content/drive/MyDrive/RQ1_Experiments/results/InternVL3-8B/RQ1_InternVL3-8B_8B_country_L2_prompt3_r1.json\n",
            "  ✔ prompt4: infer_img() full-res ok\n",
            " Saved results to /content/drive/MyDrive/RQ1_Experiments/results/InternVL3-8B/RQ1_InternVL3-8B_8B_country_L2_prompt4_r1.json\n",
            "------------------------------------------------------\n",
            "\n",
            "Processing 117/360: /content/drive/MyDrive/RQ1_Experiments/RQ1_Data_Batch1/Asia/Kuwait/Asia_Kuwait_K2_LAST.JPG\n"
          ]
        },
        {
          "output_type": "stream",
          "name": "stderr",
          "text": [
            "Setting `pad_token_id` to `eos_token_id`:151645 for open-end generation.\n",
            "Setting `pad_token_id` to `eos_token_id`:151645 for open-end generation.\n"
          ]
        },
        {
          "output_type": "stream",
          "name": "stdout",
          "text": [
            "  ✔ prompt1: infer_img() full-res ok\n",
            " Saved results to /content/drive/MyDrive/RQ1_Experiments/results/InternVL3-8B/RQ1_InternVL3-8B_8B_country_L2_prompt1_r1.json\n"
          ]
        },
        {
          "output_type": "stream",
          "name": "stderr",
          "text": [
            "Setting `pad_token_id` to `eos_token_id`:151645 for open-end generation.\n"
          ]
        },
        {
          "output_type": "stream",
          "name": "stdout",
          "text": [
            "  ✔ prompt2: infer_img() full-res ok\n",
            " Saved results to /content/drive/MyDrive/RQ1_Experiments/results/InternVL3-8B/RQ1_InternVL3-8B_8B_country_L2_prompt2_r1.json\n"
          ]
        },
        {
          "output_type": "stream",
          "name": "stderr",
          "text": [
            "Setting `pad_token_id` to `eos_token_id`:151645 for open-end generation.\n"
          ]
        },
        {
          "output_type": "stream",
          "name": "stdout",
          "text": [
            "  ✔ prompt3: infer_img() full-res ok\n",
            " Saved results to /content/drive/MyDrive/RQ1_Experiments/results/InternVL3-8B/RQ1_InternVL3-8B_8B_country_L2_prompt3_r1.json\n",
            "  ✔ prompt4: infer_img() full-res ok\n",
            " Saved results to /content/drive/MyDrive/RQ1_Experiments/results/InternVL3-8B/RQ1_InternVL3-8B_8B_country_L2_prompt4_r1.json\n",
            "------------------------------------------------------\n",
            "\n",
            "Processing 118/360: /content/drive/MyDrive/RQ1_Experiments/RQ1_Data_Batch1/Asia/Kuwait/Asia_Kuwait_K3_LAST.JPG\n"
          ]
        },
        {
          "output_type": "stream",
          "name": "stderr",
          "text": [
            "Setting `pad_token_id` to `eos_token_id`:151645 for open-end generation.\n",
            "Setting `pad_token_id` to `eos_token_id`:151645 for open-end generation.\n"
          ]
        },
        {
          "output_type": "stream",
          "name": "stdout",
          "text": [
            "  ✔ prompt1: infer_img() full-res ok\n",
            " Saved results to /content/drive/MyDrive/RQ1_Experiments/results/InternVL3-8B/RQ1_InternVL3-8B_8B_country_L2_prompt1_r1.json\n"
          ]
        },
        {
          "output_type": "stream",
          "name": "stderr",
          "text": [
            "Setting `pad_token_id` to `eos_token_id`:151645 for open-end generation.\n"
          ]
        },
        {
          "output_type": "stream",
          "name": "stdout",
          "text": [
            "  ✔ prompt2: infer_img() full-res ok\n",
            " Saved results to /content/drive/MyDrive/RQ1_Experiments/results/InternVL3-8B/RQ1_InternVL3-8B_8B_country_L2_prompt2_r1.json\n"
          ]
        },
        {
          "output_type": "stream",
          "name": "stderr",
          "text": [
            "Setting `pad_token_id` to `eos_token_id`:151645 for open-end generation.\n"
          ]
        },
        {
          "output_type": "stream",
          "name": "stdout",
          "text": [
            "  ✔ prompt3: infer_img() full-res ok\n",
            " Saved results to /content/drive/MyDrive/RQ1_Experiments/results/InternVL3-8B/RQ1_InternVL3-8B_8B_country_L2_prompt3_r1.json\n",
            "  ✔ prompt4: infer_img() full-res ok\n",
            " Saved results to /content/drive/MyDrive/RQ1_Experiments/results/InternVL3-8B/RQ1_InternVL3-8B_8B_country_L2_prompt4_r1.json\n",
            "------------------------------------------------------\n",
            "\n",
            "Processing 119/360: /content/drive/MyDrive/RQ1_Experiments/RQ1_Data_Batch1/Asia/Kuwait/Asia_Kuwait_K4_LAST.jpg\n"
          ]
        },
        {
          "output_type": "stream",
          "name": "stderr",
          "text": [
            "Setting `pad_token_id` to `eos_token_id`:151645 for open-end generation.\n",
            "Setting `pad_token_id` to `eos_token_id`:151645 for open-end generation.\n"
          ]
        },
        {
          "output_type": "stream",
          "name": "stdout",
          "text": [
            "  ✔ prompt1: infer_img() full-res ok\n",
            " Saved results to /content/drive/MyDrive/RQ1_Experiments/results/InternVL3-8B/RQ1_InternVL3-8B_8B_country_L2_prompt1_r1.json\n"
          ]
        },
        {
          "output_type": "stream",
          "name": "stderr",
          "text": [
            "Setting `pad_token_id` to `eos_token_id`:151645 for open-end generation.\n"
          ]
        },
        {
          "output_type": "stream",
          "name": "stdout",
          "text": [
            "  ✔ prompt2: infer_img() full-res ok\n",
            " Saved results to /content/drive/MyDrive/RQ1_Experiments/results/InternVL3-8B/RQ1_InternVL3-8B_8B_country_L2_prompt2_r1.json\n"
          ]
        },
        {
          "output_type": "stream",
          "name": "stderr",
          "text": [
            "Setting `pad_token_id` to `eos_token_id`:151645 for open-end generation.\n"
          ]
        },
        {
          "output_type": "stream",
          "name": "stdout",
          "text": [
            "  ✔ prompt3: infer_img() full-res ok\n",
            " Saved results to /content/drive/MyDrive/RQ1_Experiments/results/InternVL3-8B/RQ1_InternVL3-8B_8B_country_L2_prompt3_r1.json\n",
            "  ✔ prompt4: infer_img() full-res ok\n",
            " Saved results to /content/drive/MyDrive/RQ1_Experiments/results/InternVL3-8B/RQ1_InternVL3-8B_8B_country_L2_prompt4_r1.json\n",
            "------------------------------------------------------\n",
            "\n",
            "Processing 120/360: /content/drive/MyDrive/RQ1_Experiments/RQ1_Data_Batch1/Asia/Kuwait/Asia_Kuwait_K5_LAST.jpg\n"
          ]
        },
        {
          "output_type": "stream",
          "name": "stderr",
          "text": [
            "Setting `pad_token_id` to `eos_token_id`:151645 for open-end generation.\n",
            "Setting `pad_token_id` to `eos_token_id`:151645 for open-end generation.\n"
          ]
        },
        {
          "output_type": "stream",
          "name": "stdout",
          "text": [
            "  ✔ prompt1: infer_img() full-res ok\n",
            " Saved results to /content/drive/MyDrive/RQ1_Experiments/results/InternVL3-8B/RQ1_InternVL3-8B_8B_country_L2_prompt1_r1.json\n"
          ]
        },
        {
          "output_type": "stream",
          "name": "stderr",
          "text": [
            "Setting `pad_token_id` to `eos_token_id`:151645 for open-end generation.\n"
          ]
        },
        {
          "output_type": "stream",
          "name": "stdout",
          "text": [
            "  ✔ prompt2: infer_img() full-res ok\n",
            " Saved results to /content/drive/MyDrive/RQ1_Experiments/results/InternVL3-8B/RQ1_InternVL3-8B_8B_country_L2_prompt2_r1.json\n"
          ]
        },
        {
          "output_type": "stream",
          "name": "stderr",
          "text": [
            "Setting `pad_token_id` to `eos_token_id`:151645 for open-end generation.\n"
          ]
        },
        {
          "output_type": "stream",
          "name": "stdout",
          "text": [
            "  ✔ prompt3: infer_img() full-res ok\n",
            " Saved results to /content/drive/MyDrive/RQ1_Experiments/results/InternVL3-8B/RQ1_InternVL3-8B_8B_country_L2_prompt3_r1.json\n",
            "  ✔ prompt4: infer_img() full-res ok\n",
            " Saved results to /content/drive/MyDrive/RQ1_Experiments/results/InternVL3-8B/RQ1_InternVL3-8B_8B_country_L2_prompt4_r1.json\n",
            "------------------------------------------------------\n",
            "\n",
            "Processing 121/360: /content/drive/MyDrive/RQ1_Experiments/RQ1_Data_Batch1/Asia/Kuwait/Asia_Kuwait_K6_LAST.jpg\n"
          ]
        },
        {
          "output_type": "stream",
          "name": "stderr",
          "text": [
            "Setting `pad_token_id` to `eos_token_id`:151645 for open-end generation.\n",
            "Setting `pad_token_id` to `eos_token_id`:151645 for open-end generation.\n"
          ]
        },
        {
          "output_type": "stream",
          "name": "stdout",
          "text": [
            "  ✔ prompt1: infer_img() full-res ok\n",
            " Saved results to /content/drive/MyDrive/RQ1_Experiments/results/InternVL3-8B/RQ1_InternVL3-8B_8B_country_L2_prompt1_r1.json\n"
          ]
        },
        {
          "output_type": "stream",
          "name": "stderr",
          "text": [
            "Setting `pad_token_id` to `eos_token_id`:151645 for open-end generation.\n"
          ]
        },
        {
          "output_type": "stream",
          "name": "stdout",
          "text": [
            "  ✔ prompt2: infer_img() full-res ok\n",
            " Saved results to /content/drive/MyDrive/RQ1_Experiments/results/InternVL3-8B/RQ1_InternVL3-8B_8B_country_L2_prompt2_r1.json\n"
          ]
        },
        {
          "output_type": "stream",
          "name": "stderr",
          "text": [
            "Setting `pad_token_id` to `eos_token_id`:151645 for open-end generation.\n"
          ]
        },
        {
          "output_type": "stream",
          "name": "stdout",
          "text": [
            "  ✔ prompt3: infer_img() full-res ok\n",
            " Saved results to /content/drive/MyDrive/RQ1_Experiments/results/InternVL3-8B/RQ1_InternVL3-8B_8B_country_L2_prompt3_r1.json\n",
            "  ✔ prompt4: infer_img() full-res ok\n",
            " Saved results to /content/drive/MyDrive/RQ1_Experiments/results/InternVL3-8B/RQ1_InternVL3-8B_8B_country_L2_prompt4_r1.json\n",
            "------------------------------------------------------\n",
            "\n",
            "Processing 122/360: /content/drive/MyDrive/RQ1_Experiments/RQ1_Data_Batch1/Asia/Kuwait/Asia_Kuwait_K7_LAST.jpg\n"
          ]
        },
        {
          "output_type": "stream",
          "name": "stderr",
          "text": [
            "Setting `pad_token_id` to `eos_token_id`:151645 for open-end generation.\n",
            "Setting `pad_token_id` to `eos_token_id`:151645 for open-end generation.\n"
          ]
        },
        {
          "output_type": "stream",
          "name": "stdout",
          "text": [
            "  ✔ prompt1: infer_img() full-res ok\n",
            " Saved results to /content/drive/MyDrive/RQ1_Experiments/results/InternVL3-8B/RQ1_InternVL3-8B_8B_country_L2_prompt1_r1.json\n"
          ]
        },
        {
          "output_type": "stream",
          "name": "stderr",
          "text": [
            "Setting `pad_token_id` to `eos_token_id`:151645 for open-end generation.\n"
          ]
        },
        {
          "output_type": "stream",
          "name": "stdout",
          "text": [
            "  ✔ prompt2: infer_img() full-res ok\n",
            " Saved results to /content/drive/MyDrive/RQ1_Experiments/results/InternVL3-8B/RQ1_InternVL3-8B_8B_country_L2_prompt2_r1.json\n"
          ]
        },
        {
          "output_type": "stream",
          "name": "stderr",
          "text": [
            "Setting `pad_token_id` to `eos_token_id`:151645 for open-end generation.\n"
          ]
        },
        {
          "output_type": "stream",
          "name": "stdout",
          "text": [
            "  ✔ prompt3: infer_img() full-res ok\n",
            " Saved results to /content/drive/MyDrive/RQ1_Experiments/results/InternVL3-8B/RQ1_InternVL3-8B_8B_country_L2_prompt3_r1.json\n",
            "  ✔ prompt4: infer_img() full-res ok\n",
            " Saved results to /content/drive/MyDrive/RQ1_Experiments/results/InternVL3-8B/RQ1_InternVL3-8B_8B_country_L2_prompt4_r1.json\n",
            "------------------------------------------------------\n",
            "\n",
            "Processing 123/360: /content/drive/MyDrive/RQ1_Experiments/RQ1_Data_Batch1/Asia/Kyrgyzstan/Asia_Kyrgyzstan_KS1_MIDDLE.jpg\n"
          ]
        },
        {
          "output_type": "stream",
          "name": "stderr",
          "text": [
            "Setting `pad_token_id` to `eos_token_id`:151645 for open-end generation.\n",
            "Setting `pad_token_id` to `eos_token_id`:151645 for open-end generation.\n"
          ]
        },
        {
          "output_type": "stream",
          "name": "stdout",
          "text": [
            "  ✔ prompt1: infer_img() full-res ok\n",
            " Saved results to /content/drive/MyDrive/RQ1_Experiments/results/InternVL3-8B/RQ1_InternVL3-8B_8B_country_L2_prompt1_r1.json\n"
          ]
        },
        {
          "output_type": "stream",
          "name": "stderr",
          "text": [
            "Setting `pad_token_id` to `eos_token_id`:151645 for open-end generation.\n"
          ]
        },
        {
          "output_type": "stream",
          "name": "stdout",
          "text": [
            "  ✔ prompt2: infer_img() full-res ok\n",
            " Saved results to /content/drive/MyDrive/RQ1_Experiments/results/InternVL3-8B/RQ1_InternVL3-8B_8B_country_L2_prompt2_r1.json\n"
          ]
        },
        {
          "output_type": "stream",
          "name": "stderr",
          "text": [
            "Setting `pad_token_id` to `eos_token_id`:151645 for open-end generation.\n"
          ]
        },
        {
          "output_type": "stream",
          "name": "stdout",
          "text": [
            "  ✔ prompt3: infer_img() full-res ok\n",
            " Saved results to /content/drive/MyDrive/RQ1_Experiments/results/InternVL3-8B/RQ1_InternVL3-8B_8B_country_L2_prompt3_r1.json\n",
            "  ✔ prompt4: infer_img() full-res ok\n",
            " Saved results to /content/drive/MyDrive/RQ1_Experiments/results/InternVL3-8B/RQ1_InternVL3-8B_8B_country_L2_prompt4_r1.json\n",
            "------------------------------------------------------\n",
            "\n",
            "Processing 124/360: /content/drive/MyDrive/RQ1_Experiments/RQ1_Data_Batch1/Asia/Kyrgyzstan/Asia_Kyrgyzstan_KS2_MIDDLE.jpg\n"
          ]
        },
        {
          "output_type": "stream",
          "name": "stderr",
          "text": [
            "Setting `pad_token_id` to `eos_token_id`:151645 for open-end generation.\n",
            "Setting `pad_token_id` to `eos_token_id`:151645 for open-end generation.\n"
          ]
        },
        {
          "output_type": "stream",
          "name": "stdout",
          "text": [
            "  ✔ prompt1: infer_img() full-res ok\n",
            " Saved results to /content/drive/MyDrive/RQ1_Experiments/results/InternVL3-8B/RQ1_InternVL3-8B_8B_country_L2_prompt1_r1.json\n"
          ]
        },
        {
          "output_type": "stream",
          "name": "stderr",
          "text": [
            "Setting `pad_token_id` to `eos_token_id`:151645 for open-end generation.\n"
          ]
        },
        {
          "output_type": "stream",
          "name": "stdout",
          "text": [
            "  ✔ prompt2: infer_img() full-res ok\n",
            " Saved results to /content/drive/MyDrive/RQ1_Experiments/results/InternVL3-8B/RQ1_InternVL3-8B_8B_country_L2_prompt2_r1.json\n"
          ]
        },
        {
          "output_type": "stream",
          "name": "stderr",
          "text": [
            "Setting `pad_token_id` to `eos_token_id`:151645 for open-end generation.\n"
          ]
        },
        {
          "output_type": "stream",
          "name": "stdout",
          "text": [
            "  ✔ prompt3: infer_img() full-res ok\n",
            " Saved results to /content/drive/MyDrive/RQ1_Experiments/results/InternVL3-8B/RQ1_InternVL3-8B_8B_country_L2_prompt3_r1.json\n",
            "  ✔ prompt4: infer_img() full-res ok\n",
            " Saved results to /content/drive/MyDrive/RQ1_Experiments/results/InternVL3-8B/RQ1_InternVL3-8B_8B_country_L2_prompt4_r1.json\n",
            "------------------------------------------------------\n",
            "\n",
            "Processing 125/360: /content/drive/MyDrive/RQ1_Experiments/RQ1_Data_Batch1/Asia/Kyrgyzstan/Asia_Kyrgyzstan_KS3_MIDDLE.jpg\n"
          ]
        },
        {
          "output_type": "stream",
          "name": "stderr",
          "text": [
            "Setting `pad_token_id` to `eos_token_id`:151645 for open-end generation.\n",
            "Setting `pad_token_id` to `eos_token_id`:151645 for open-end generation.\n"
          ]
        },
        {
          "output_type": "stream",
          "name": "stdout",
          "text": [
            "  ✔ prompt1: infer_img() full-res ok\n",
            " Saved results to /content/drive/MyDrive/RQ1_Experiments/results/InternVL3-8B/RQ1_InternVL3-8B_8B_country_L2_prompt1_r1.json\n"
          ]
        },
        {
          "output_type": "stream",
          "name": "stderr",
          "text": [
            "Setting `pad_token_id` to `eos_token_id`:151645 for open-end generation.\n"
          ]
        },
        {
          "output_type": "stream",
          "name": "stdout",
          "text": [
            "  ✔ prompt2: infer_img() full-res ok\n",
            " Saved results to /content/drive/MyDrive/RQ1_Experiments/results/InternVL3-8B/RQ1_InternVL3-8B_8B_country_L2_prompt2_r1.json\n"
          ]
        },
        {
          "output_type": "stream",
          "name": "stderr",
          "text": [
            "Setting `pad_token_id` to `eos_token_id`:151645 for open-end generation.\n"
          ]
        },
        {
          "output_type": "stream",
          "name": "stdout",
          "text": [
            "  ✔ prompt3: infer_img() full-res ok\n",
            " Saved results to /content/drive/MyDrive/RQ1_Experiments/results/InternVL3-8B/RQ1_InternVL3-8B_8B_country_L2_prompt3_r1.json\n",
            "  ✔ prompt4: infer_img() full-res ok\n",
            " Saved results to /content/drive/MyDrive/RQ1_Experiments/results/InternVL3-8B/RQ1_InternVL3-8B_8B_country_L2_prompt4_r1.json\n",
            "------------------------------------------------------\n",
            "\n",
            "Processing 126/360: /content/drive/MyDrive/RQ1_Experiments/RQ1_Data_Batch1/Asia/Kyrgyzstan/Asia_Kyrgyzstan_KS4_MIDDLE.jpg\n"
          ]
        },
        {
          "output_type": "stream",
          "name": "stderr",
          "text": [
            "Setting `pad_token_id` to `eos_token_id`:151645 for open-end generation.\n",
            "Setting `pad_token_id` to `eos_token_id`:151645 for open-end generation.\n"
          ]
        },
        {
          "output_type": "stream",
          "name": "stdout",
          "text": [
            "  ✔ prompt1: infer_img() full-res ok\n",
            " Saved results to /content/drive/MyDrive/RQ1_Experiments/results/InternVL3-8B/RQ1_InternVL3-8B_8B_country_L2_prompt1_r1.json\n"
          ]
        },
        {
          "output_type": "stream",
          "name": "stderr",
          "text": [
            "Setting `pad_token_id` to `eos_token_id`:151645 for open-end generation.\n"
          ]
        },
        {
          "output_type": "stream",
          "name": "stdout",
          "text": [
            "  ✔ prompt2: infer_img() full-res ok\n",
            " Saved results to /content/drive/MyDrive/RQ1_Experiments/results/InternVL3-8B/RQ1_InternVL3-8B_8B_country_L2_prompt2_r1.json\n"
          ]
        },
        {
          "output_type": "stream",
          "name": "stderr",
          "text": [
            "Setting `pad_token_id` to `eos_token_id`:151645 for open-end generation.\n"
          ]
        },
        {
          "output_type": "stream",
          "name": "stdout",
          "text": [
            "  ✔ prompt3: infer_img() full-res ok\n",
            " Saved results to /content/drive/MyDrive/RQ1_Experiments/results/InternVL3-8B/RQ1_InternVL3-8B_8B_country_L2_prompt3_r1.json\n",
            "  ✔ prompt4: infer_img() full-res ok\n",
            " Saved results to /content/drive/MyDrive/RQ1_Experiments/results/InternVL3-8B/RQ1_InternVL3-8B_8B_country_L2_prompt4_r1.json\n",
            "------------------------------------------------------\n",
            "\n",
            "Processing 127/360: /content/drive/MyDrive/RQ1_Experiments/RQ1_Data_Batch1/Asia/Kyrgyzstan/Asia_Kyrgyzstan_KS5_MIDDLE.jpg\n"
          ]
        },
        {
          "output_type": "stream",
          "name": "stderr",
          "text": [
            "Setting `pad_token_id` to `eos_token_id`:151645 for open-end generation.\n",
            "Setting `pad_token_id` to `eos_token_id`:151645 for open-end generation.\n"
          ]
        },
        {
          "output_type": "stream",
          "name": "stdout",
          "text": [
            "  ✔ prompt1: infer_img() full-res ok\n",
            " Saved results to /content/drive/MyDrive/RQ1_Experiments/results/InternVL3-8B/RQ1_InternVL3-8B_8B_country_L2_prompt1_r1.json\n"
          ]
        },
        {
          "output_type": "stream",
          "name": "stderr",
          "text": [
            "Setting `pad_token_id` to `eos_token_id`:151645 for open-end generation.\n"
          ]
        },
        {
          "output_type": "stream",
          "name": "stdout",
          "text": [
            "  ✔ prompt2: infer_img() full-res ok\n",
            " Saved results to /content/drive/MyDrive/RQ1_Experiments/results/InternVL3-8B/RQ1_InternVL3-8B_8B_country_L2_prompt2_r1.json\n"
          ]
        },
        {
          "output_type": "stream",
          "name": "stderr",
          "text": [
            "Setting `pad_token_id` to `eos_token_id`:151645 for open-end generation.\n"
          ]
        },
        {
          "output_type": "stream",
          "name": "stdout",
          "text": [
            "  ✔ prompt3: infer_img() full-res ok\n",
            " Saved results to /content/drive/MyDrive/RQ1_Experiments/results/InternVL3-8B/RQ1_InternVL3-8B_8B_country_L2_prompt3_r1.json\n",
            "  ✔ prompt4: infer_img() full-res ok\n",
            " Saved results to /content/drive/MyDrive/RQ1_Experiments/results/InternVL3-8B/RQ1_InternVL3-8B_8B_country_L2_prompt4_r1.json\n",
            "------------------------------------------------------\n",
            "\n",
            "Processing 128/360: /content/drive/MyDrive/RQ1_Experiments/RQ1_Data_Batch1/Asia/Kyrgyzstan/Asia_Kyrgyzstan_KS6_MIDDLE.jpg\n"
          ]
        },
        {
          "output_type": "stream",
          "name": "stderr",
          "text": [
            "Setting `pad_token_id` to `eos_token_id`:151645 for open-end generation.\n",
            "Setting `pad_token_id` to `eos_token_id`:151645 for open-end generation.\n"
          ]
        },
        {
          "output_type": "stream",
          "name": "stdout",
          "text": [
            "  ✔ prompt1: infer_img() full-res ok\n",
            " Saved results to /content/drive/MyDrive/RQ1_Experiments/results/InternVL3-8B/RQ1_InternVL3-8B_8B_country_L2_prompt1_r1.json\n"
          ]
        },
        {
          "output_type": "stream",
          "name": "stderr",
          "text": [
            "Setting `pad_token_id` to `eos_token_id`:151645 for open-end generation.\n"
          ]
        },
        {
          "output_type": "stream",
          "name": "stdout",
          "text": [
            "  ✔ prompt2: infer_img() full-res ok\n",
            " Saved results to /content/drive/MyDrive/RQ1_Experiments/results/InternVL3-8B/RQ1_InternVL3-8B_8B_country_L2_prompt2_r1.json\n"
          ]
        },
        {
          "output_type": "stream",
          "name": "stderr",
          "text": [
            "Setting `pad_token_id` to `eos_token_id`:151645 for open-end generation.\n"
          ]
        },
        {
          "output_type": "stream",
          "name": "stdout",
          "text": [
            "  ✔ prompt3: infer_img() full-res ok\n",
            " Saved results to /content/drive/MyDrive/RQ1_Experiments/results/InternVL3-8B/RQ1_InternVL3-8B_8B_country_L2_prompt3_r1.json\n",
            "  ✔ prompt4: infer_img() full-res ok\n",
            " Saved results to /content/drive/MyDrive/RQ1_Experiments/results/InternVL3-8B/RQ1_InternVL3-8B_8B_country_L2_prompt4_r1.json\n",
            "------------------------------------------------------\n",
            "\n",
            "Processing 129/360: /content/drive/MyDrive/RQ1_Experiments/RQ1_Data_Batch1/Asia/Kyrgyzstan/Asia_Kyrgyzstan_KS7_MIDDLE.PNG\n"
          ]
        },
        {
          "output_type": "stream",
          "name": "stderr",
          "text": [
            "Setting `pad_token_id` to `eos_token_id`:151645 for open-end generation.\n",
            "Setting `pad_token_id` to `eos_token_id`:151645 for open-end generation.\n"
          ]
        },
        {
          "output_type": "stream",
          "name": "stdout",
          "text": [
            "  ✔ prompt1: infer_img() full-res ok\n",
            " Saved results to /content/drive/MyDrive/RQ1_Experiments/results/InternVL3-8B/RQ1_InternVL3-8B_8B_country_L2_prompt1_r1.json\n"
          ]
        },
        {
          "output_type": "stream",
          "name": "stderr",
          "text": [
            "Setting `pad_token_id` to `eos_token_id`:151645 for open-end generation.\n"
          ]
        },
        {
          "output_type": "stream",
          "name": "stdout",
          "text": [
            "  ✔ prompt2: infer_img() full-res ok\n",
            " Saved results to /content/drive/MyDrive/RQ1_Experiments/results/InternVL3-8B/RQ1_InternVL3-8B_8B_country_L2_prompt2_r1.json\n"
          ]
        },
        {
          "output_type": "stream",
          "name": "stderr",
          "text": [
            "Setting `pad_token_id` to `eos_token_id`:151645 for open-end generation.\n"
          ]
        },
        {
          "output_type": "stream",
          "name": "stdout",
          "text": [
            "  ✔ prompt3: infer_img() full-res ok\n",
            " Saved results to /content/drive/MyDrive/RQ1_Experiments/results/InternVL3-8B/RQ1_InternVL3-8B_8B_country_L2_prompt3_r1.json\n",
            "  ✔ prompt4: infer_img() full-res ok\n",
            " Saved results to /content/drive/MyDrive/RQ1_Experiments/results/InternVL3-8B/RQ1_InternVL3-8B_8B_country_L2_prompt4_r1.json\n",
            "------------------------------------------------------\n",
            "\n",
            "Processing 130/360: /content/drive/MyDrive/RQ1_Experiments/RQ1_Data_Batch1/Asia/Malaysia/Asia_Malaysia_photo_2106db10e167bb0f1e96ed82859c2baba0ede69a_TOP.jpg\n"
          ]
        },
        {
          "output_type": "stream",
          "name": "stderr",
          "text": [
            "Setting `pad_token_id` to `eos_token_id`:151645 for open-end generation.\n",
            "Setting `pad_token_id` to `eos_token_id`:151645 for open-end generation.\n"
          ]
        },
        {
          "output_type": "stream",
          "name": "stdout",
          "text": [
            "  ✔ prompt1: infer_img() full-res ok\n",
            " Saved results to /content/drive/MyDrive/RQ1_Experiments/results/InternVL3-8B/RQ1_InternVL3-8B_8B_country_L2_prompt1_r1.json\n"
          ]
        },
        {
          "output_type": "stream",
          "name": "stderr",
          "text": [
            "Setting `pad_token_id` to `eos_token_id`:151645 for open-end generation.\n"
          ]
        },
        {
          "output_type": "stream",
          "name": "stdout",
          "text": [
            "  ✔ prompt2: infer_img() full-res ok\n",
            " Saved results to /content/drive/MyDrive/RQ1_Experiments/results/InternVL3-8B/RQ1_InternVL3-8B_8B_country_L2_prompt2_r1.json\n"
          ]
        },
        {
          "output_type": "stream",
          "name": "stderr",
          "text": [
            "Setting `pad_token_id` to `eos_token_id`:151645 for open-end generation.\n"
          ]
        },
        {
          "output_type": "stream",
          "name": "stdout",
          "text": [
            "  ✔ prompt3: infer_img() full-res ok\n",
            " Saved results to /content/drive/MyDrive/RQ1_Experiments/results/InternVL3-8B/RQ1_InternVL3-8B_8B_country_L2_prompt3_r1.json\n",
            "  ✔ prompt4: infer_img() full-res ok\n",
            " Saved results to /content/drive/MyDrive/RQ1_Experiments/results/InternVL3-8B/RQ1_InternVL3-8B_8B_country_L2_prompt4_r1.json\n",
            "------------------------------------------------------\n",
            "\n",
            "Processing 131/360: /content/drive/MyDrive/RQ1_Experiments/RQ1_Data_Batch1/Asia/Malaysia/Asia_Malaysia_photo_2796a95715c44f41de81b64f61a37552831c0e91_TOP.jpg\n"
          ]
        },
        {
          "output_type": "stream",
          "name": "stderr",
          "text": [
            "Setting `pad_token_id` to `eos_token_id`:151645 for open-end generation.\n",
            "Setting `pad_token_id` to `eos_token_id`:151645 for open-end generation.\n"
          ]
        },
        {
          "output_type": "stream",
          "name": "stdout",
          "text": [
            "  ✔ prompt1: infer_img() full-res ok\n",
            " Saved results to /content/drive/MyDrive/RQ1_Experiments/results/InternVL3-8B/RQ1_InternVL3-8B_8B_country_L2_prompt1_r1.json\n"
          ]
        },
        {
          "output_type": "stream",
          "name": "stderr",
          "text": [
            "Setting `pad_token_id` to `eos_token_id`:151645 for open-end generation.\n"
          ]
        },
        {
          "output_type": "stream",
          "name": "stdout",
          "text": [
            "  ✔ prompt2: infer_img() full-res ok\n",
            " Saved results to /content/drive/MyDrive/RQ1_Experiments/results/InternVL3-8B/RQ1_InternVL3-8B_8B_country_L2_prompt2_r1.json\n"
          ]
        },
        {
          "output_type": "stream",
          "name": "stderr",
          "text": [
            "Setting `pad_token_id` to `eos_token_id`:151645 for open-end generation.\n"
          ]
        },
        {
          "output_type": "stream",
          "name": "stdout",
          "text": [
            "  ✔ prompt3: infer_img() full-res ok\n",
            " Saved results to /content/drive/MyDrive/RQ1_Experiments/results/InternVL3-8B/RQ1_InternVL3-8B_8B_country_L2_prompt3_r1.json\n",
            "  ✔ prompt4: infer_img() full-res ok\n",
            " Saved results to /content/drive/MyDrive/RQ1_Experiments/results/InternVL3-8B/RQ1_InternVL3-8B_8B_country_L2_prompt4_r1.json\n",
            "------------------------------------------------------\n",
            "\n",
            "Processing 132/360: /content/drive/MyDrive/RQ1_Experiments/RQ1_Data_Batch1/Asia/Malaysia/Asia_Malaysia_photo_779439174012b4a46a14d087aa3f0aa20ea2b264_TOP.jpg\n"
          ]
        },
        {
          "output_type": "stream",
          "name": "stderr",
          "text": [
            "Setting `pad_token_id` to `eos_token_id`:151645 for open-end generation.\n",
            "Setting `pad_token_id` to `eos_token_id`:151645 for open-end generation.\n"
          ]
        },
        {
          "output_type": "stream",
          "name": "stdout",
          "text": [
            "  ✔ prompt1: infer_img() full-res ok\n",
            " Saved results to /content/drive/MyDrive/RQ1_Experiments/results/InternVL3-8B/RQ1_InternVL3-8B_8B_country_L2_prompt1_r1.json\n"
          ]
        },
        {
          "output_type": "stream",
          "name": "stderr",
          "text": [
            "Setting `pad_token_id` to `eos_token_id`:151645 for open-end generation.\n"
          ]
        },
        {
          "output_type": "stream",
          "name": "stdout",
          "text": [
            "  ✔ prompt2: infer_img() full-res ok\n",
            " Saved results to /content/drive/MyDrive/RQ1_Experiments/results/InternVL3-8B/RQ1_InternVL3-8B_8B_country_L2_prompt2_r1.json\n"
          ]
        },
        {
          "output_type": "stream",
          "name": "stderr",
          "text": [
            "Setting `pad_token_id` to `eos_token_id`:151645 for open-end generation.\n"
          ]
        },
        {
          "output_type": "stream",
          "name": "stdout",
          "text": [
            "  ✔ prompt3: infer_img() full-res ok\n",
            " Saved results to /content/drive/MyDrive/RQ1_Experiments/results/InternVL3-8B/RQ1_InternVL3-8B_8B_country_L2_prompt3_r1.json\n",
            "  ✔ prompt4: infer_img() full-res ok\n",
            " Saved results to /content/drive/MyDrive/RQ1_Experiments/results/InternVL3-8B/RQ1_InternVL3-8B_8B_country_L2_prompt4_r1.json\n",
            "------------------------------------------------------\n",
            "\n",
            "Processing 133/360: /content/drive/MyDrive/RQ1_Experiments/RQ1_Data_Batch1/Asia/Malaysia/Asia_Malaysia_photo_797ecb961ef100d4e8bf5566ab214aa3023b20ed_TOP.jpg\n"
          ]
        },
        {
          "output_type": "stream",
          "name": "stderr",
          "text": [
            "Setting `pad_token_id` to `eos_token_id`:151645 for open-end generation.\n",
            "Setting `pad_token_id` to `eos_token_id`:151645 for open-end generation.\n"
          ]
        },
        {
          "output_type": "stream",
          "name": "stdout",
          "text": [
            "  ✔ prompt1: infer_img() full-res ok\n",
            " Saved results to /content/drive/MyDrive/RQ1_Experiments/results/InternVL3-8B/RQ1_InternVL3-8B_8B_country_L2_prompt1_r1.json\n"
          ]
        },
        {
          "output_type": "stream",
          "name": "stderr",
          "text": [
            "Setting `pad_token_id` to `eos_token_id`:151645 for open-end generation.\n"
          ]
        },
        {
          "output_type": "stream",
          "name": "stdout",
          "text": [
            "  ✔ prompt2: infer_img() full-res ok\n",
            " Saved results to /content/drive/MyDrive/RQ1_Experiments/results/InternVL3-8B/RQ1_InternVL3-8B_8B_country_L2_prompt2_r1.json\n"
          ]
        },
        {
          "output_type": "stream",
          "name": "stderr",
          "text": [
            "Setting `pad_token_id` to `eos_token_id`:151645 for open-end generation.\n"
          ]
        },
        {
          "output_type": "stream",
          "name": "stdout",
          "text": [
            "  ✔ prompt3: infer_img() full-res ok\n",
            " Saved results to /content/drive/MyDrive/RQ1_Experiments/results/InternVL3-8B/RQ1_InternVL3-8B_8B_country_L2_prompt3_r1.json\n",
            "  ✔ prompt4: infer_img() full-res ok\n",
            " Saved results to /content/drive/MyDrive/RQ1_Experiments/results/InternVL3-8B/RQ1_InternVL3-8B_8B_country_L2_prompt4_r1.json\n",
            "------------------------------------------------------\n",
            "\n",
            "Processing 134/360: /content/drive/MyDrive/RQ1_Experiments/RQ1_Data_Batch1/Asia/Malaysia/Asia_Malaysia_photo_84b53d74822d80749b4797a05c9085efae19bf16_TOP.jpg\n"
          ]
        },
        {
          "output_type": "stream",
          "name": "stderr",
          "text": [
            "Setting `pad_token_id` to `eos_token_id`:151645 for open-end generation.\n",
            "Setting `pad_token_id` to `eos_token_id`:151645 for open-end generation.\n"
          ]
        },
        {
          "output_type": "stream",
          "name": "stdout",
          "text": [
            "  ✔ prompt1: infer_img() full-res ok\n",
            " Saved results to /content/drive/MyDrive/RQ1_Experiments/results/InternVL3-8B/RQ1_InternVL3-8B_8B_country_L2_prompt1_r1.json\n"
          ]
        },
        {
          "output_type": "stream",
          "name": "stderr",
          "text": [
            "Setting `pad_token_id` to `eos_token_id`:151645 for open-end generation.\n"
          ]
        },
        {
          "output_type": "stream",
          "name": "stdout",
          "text": [
            "  ✔ prompt2: infer_img() full-res ok\n",
            " Saved results to /content/drive/MyDrive/RQ1_Experiments/results/InternVL3-8B/RQ1_InternVL3-8B_8B_country_L2_prompt2_r1.json\n"
          ]
        },
        {
          "output_type": "stream",
          "name": "stderr",
          "text": [
            "Setting `pad_token_id` to `eos_token_id`:151645 for open-end generation.\n"
          ]
        },
        {
          "output_type": "stream",
          "name": "stdout",
          "text": [
            "  ✔ prompt3: infer_img() full-res ok\n",
            " Saved results to /content/drive/MyDrive/RQ1_Experiments/results/InternVL3-8B/RQ1_InternVL3-8B_8B_country_L2_prompt3_r1.json\n",
            "  ✔ prompt4: infer_img() full-res ok\n",
            " Saved results to /content/drive/MyDrive/RQ1_Experiments/results/InternVL3-8B/RQ1_InternVL3-8B_8B_country_L2_prompt4_r1.json\n",
            "------------------------------------------------------\n",
            "\n",
            "Processing 135/360: /content/drive/MyDrive/RQ1_Experiments/RQ1_Data_Batch1/Asia/Malaysia/Asia_Malaysia_photo_9425f3e01bab0d5164f26982508b3d7514dc06ac_TOP.jpg\n"
          ]
        },
        {
          "output_type": "stream",
          "name": "stderr",
          "text": [
            "Setting `pad_token_id` to `eos_token_id`:151645 for open-end generation.\n",
            "Setting `pad_token_id` to `eos_token_id`:151645 for open-end generation.\n"
          ]
        },
        {
          "output_type": "stream",
          "name": "stdout",
          "text": [
            "  ✔ prompt1: infer_img() full-res ok\n",
            " Saved results to /content/drive/MyDrive/RQ1_Experiments/results/InternVL3-8B/RQ1_InternVL3-8B_8B_country_L2_prompt1_r1.json\n"
          ]
        },
        {
          "output_type": "stream",
          "name": "stderr",
          "text": [
            "Setting `pad_token_id` to `eos_token_id`:151645 for open-end generation.\n"
          ]
        },
        {
          "output_type": "stream",
          "name": "stdout",
          "text": [
            "  ✔ prompt2: infer_img() full-res ok\n",
            " Saved results to /content/drive/MyDrive/RQ1_Experiments/results/InternVL3-8B/RQ1_InternVL3-8B_8B_country_L2_prompt2_r1.json\n"
          ]
        },
        {
          "output_type": "stream",
          "name": "stderr",
          "text": [
            "Setting `pad_token_id` to `eos_token_id`:151645 for open-end generation.\n"
          ]
        },
        {
          "output_type": "stream",
          "name": "stdout",
          "text": [
            "  ✔ prompt3: infer_img() full-res ok\n",
            " Saved results to /content/drive/MyDrive/RQ1_Experiments/results/InternVL3-8B/RQ1_InternVL3-8B_8B_country_L2_prompt3_r1.json\n",
            "  ✔ prompt4: infer_img() full-res ok\n",
            " Saved results to /content/drive/MyDrive/RQ1_Experiments/results/InternVL3-8B/RQ1_InternVL3-8B_8B_country_L2_prompt4_r1.json\n",
            "------------------------------------------------------\n",
            "\n",
            "Processing 136/360: /content/drive/MyDrive/RQ1_Experiments/RQ1_Data_Batch1/Asia/Malaysia/Asia_Malaysia_photo_b0bd1ce9489b70401b4b523fca32150442a288ea_TOP.jpg\n"
          ]
        },
        {
          "output_type": "stream",
          "name": "stderr",
          "text": [
            "Setting `pad_token_id` to `eos_token_id`:151645 for open-end generation.\n",
            "Setting `pad_token_id` to `eos_token_id`:151645 for open-end generation.\n"
          ]
        },
        {
          "output_type": "stream",
          "name": "stdout",
          "text": [
            "  ✔ prompt1: infer_img() full-res ok\n",
            " Saved results to /content/drive/MyDrive/RQ1_Experiments/results/InternVL3-8B/RQ1_InternVL3-8B_8B_country_L2_prompt1_r1.json\n"
          ]
        },
        {
          "output_type": "stream",
          "name": "stderr",
          "text": [
            "Setting `pad_token_id` to `eos_token_id`:151645 for open-end generation.\n"
          ]
        },
        {
          "output_type": "stream",
          "name": "stdout",
          "text": [
            "  ✔ prompt2: infer_img() full-res ok\n",
            " Saved results to /content/drive/MyDrive/RQ1_Experiments/results/InternVL3-8B/RQ1_InternVL3-8B_8B_country_L2_prompt2_r1.json\n"
          ]
        },
        {
          "output_type": "stream",
          "name": "stderr",
          "text": [
            "Setting `pad_token_id` to `eos_token_id`:151645 for open-end generation.\n"
          ]
        },
        {
          "output_type": "stream",
          "name": "stdout",
          "text": [
            "  ✔ prompt3: infer_img() full-res ok\n",
            " Saved results to /content/drive/MyDrive/RQ1_Experiments/results/InternVL3-8B/RQ1_InternVL3-8B_8B_country_L2_prompt3_r1.json\n",
            "  ✔ prompt4: infer_img() full-res ok\n",
            " Saved results to /content/drive/MyDrive/RQ1_Experiments/results/InternVL3-8B/RQ1_InternVL3-8B_8B_country_L2_prompt4_r1.json\n",
            "------------------------------------------------------\n",
            "\n",
            "Processing 137/360: /content/drive/MyDrive/RQ1_Experiments/RQ1_Data_Batch1/Asia/Mongolia/Asia_Mongolia_M1_LAST.JPG\n"
          ]
        },
        {
          "output_type": "stream",
          "name": "stderr",
          "text": [
            "Setting `pad_token_id` to `eos_token_id`:151645 for open-end generation.\n",
            "Setting `pad_token_id` to `eos_token_id`:151645 for open-end generation.\n"
          ]
        },
        {
          "output_type": "stream",
          "name": "stdout",
          "text": [
            "  ✔ prompt1: infer_img() full-res ok\n",
            " Saved results to /content/drive/MyDrive/RQ1_Experiments/results/InternVL3-8B/RQ1_InternVL3-8B_8B_country_L2_prompt1_r1.json\n"
          ]
        },
        {
          "output_type": "stream",
          "name": "stderr",
          "text": [
            "Setting `pad_token_id` to `eos_token_id`:151645 for open-end generation.\n"
          ]
        },
        {
          "output_type": "stream",
          "name": "stdout",
          "text": [
            "  ✔ prompt2: infer_img() full-res ok\n",
            " Saved results to /content/drive/MyDrive/RQ1_Experiments/results/InternVL3-8B/RQ1_InternVL3-8B_8B_country_L2_prompt2_r1.json\n"
          ]
        },
        {
          "output_type": "stream",
          "name": "stderr",
          "text": [
            "Setting `pad_token_id` to `eos_token_id`:151645 for open-end generation.\n"
          ]
        },
        {
          "output_type": "stream",
          "name": "stdout",
          "text": [
            "  ✔ prompt3: infer_img() full-res ok\n",
            " Saved results to /content/drive/MyDrive/RQ1_Experiments/results/InternVL3-8B/RQ1_InternVL3-8B_8B_country_L2_prompt3_r1.json\n",
            "  ✔ prompt4: infer_img() full-res ok\n",
            " Saved results to /content/drive/MyDrive/RQ1_Experiments/results/InternVL3-8B/RQ1_InternVL3-8B_8B_country_L2_prompt4_r1.json\n",
            "------------------------------------------------------\n",
            "\n",
            "Processing 138/360: /content/drive/MyDrive/RQ1_Experiments/RQ1_Data_Batch1/Asia/Mongolia/Asia_Mongolia_M2_LAST.JPG\n"
          ]
        },
        {
          "output_type": "stream",
          "name": "stderr",
          "text": [
            "Setting `pad_token_id` to `eos_token_id`:151645 for open-end generation.\n",
            "Setting `pad_token_id` to `eos_token_id`:151645 for open-end generation.\n"
          ]
        },
        {
          "output_type": "stream",
          "name": "stdout",
          "text": [
            "  ✔ prompt1: infer_img() full-res ok\n",
            " Saved results to /content/drive/MyDrive/RQ1_Experiments/results/InternVL3-8B/RQ1_InternVL3-8B_8B_country_L2_prompt1_r1.json\n"
          ]
        },
        {
          "output_type": "stream",
          "name": "stderr",
          "text": [
            "Setting `pad_token_id` to `eos_token_id`:151645 for open-end generation.\n"
          ]
        },
        {
          "output_type": "stream",
          "name": "stdout",
          "text": [
            "  ✔ prompt2: infer_img() full-res ok\n",
            " Saved results to /content/drive/MyDrive/RQ1_Experiments/results/InternVL3-8B/RQ1_InternVL3-8B_8B_country_L2_prompt2_r1.json\n"
          ]
        },
        {
          "output_type": "stream",
          "name": "stderr",
          "text": [
            "Setting `pad_token_id` to `eos_token_id`:151645 for open-end generation.\n"
          ]
        },
        {
          "output_type": "stream",
          "name": "stdout",
          "text": [
            "  ✔ prompt3: infer_img() full-res ok\n",
            " Saved results to /content/drive/MyDrive/RQ1_Experiments/results/InternVL3-8B/RQ1_InternVL3-8B_8B_country_L2_prompt3_r1.json\n",
            "  ✔ prompt4: infer_img() full-res ok\n",
            " Saved results to /content/drive/MyDrive/RQ1_Experiments/results/InternVL3-8B/RQ1_InternVL3-8B_8B_country_L2_prompt4_r1.json\n",
            "------------------------------------------------------\n",
            "\n",
            "Processing 139/360: /content/drive/MyDrive/RQ1_Experiments/RQ1_Data_Batch1/Asia/Mongolia/Asia_Mongolia_M3_LAST.JPG\n"
          ]
        },
        {
          "output_type": "stream",
          "name": "stderr",
          "text": [
            "Setting `pad_token_id` to `eos_token_id`:151645 for open-end generation.\n",
            "Setting `pad_token_id` to `eos_token_id`:151645 for open-end generation.\n"
          ]
        },
        {
          "output_type": "stream",
          "name": "stdout",
          "text": [
            "  ✔ prompt1: infer_img() full-res ok\n",
            " Saved results to /content/drive/MyDrive/RQ1_Experiments/results/InternVL3-8B/RQ1_InternVL3-8B_8B_country_L2_prompt1_r1.json\n"
          ]
        },
        {
          "output_type": "stream",
          "name": "stderr",
          "text": [
            "Setting `pad_token_id` to `eos_token_id`:151645 for open-end generation.\n"
          ]
        },
        {
          "output_type": "stream",
          "name": "stdout",
          "text": [
            "  ✔ prompt2: infer_img() full-res ok\n",
            " Saved results to /content/drive/MyDrive/RQ1_Experiments/results/InternVL3-8B/RQ1_InternVL3-8B_8B_country_L2_prompt2_r1.json\n"
          ]
        },
        {
          "output_type": "stream",
          "name": "stderr",
          "text": [
            "Setting `pad_token_id` to `eos_token_id`:151645 for open-end generation.\n"
          ]
        },
        {
          "output_type": "stream",
          "name": "stdout",
          "text": [
            "  ✔ prompt3: infer_img() full-res ok\n",
            " Saved results to /content/drive/MyDrive/RQ1_Experiments/results/InternVL3-8B/RQ1_InternVL3-8B_8B_country_L2_prompt3_r1.json\n",
            "  ✔ prompt4: infer_img() full-res ok\n",
            " Saved results to /content/drive/MyDrive/RQ1_Experiments/results/InternVL3-8B/RQ1_InternVL3-8B_8B_country_L2_prompt4_r1.json\n",
            "------------------------------------------------------\n",
            "\n",
            "Processing 140/360: /content/drive/MyDrive/RQ1_Experiments/RQ1_Data_Batch1/Asia/Mongolia/Asia_Mongolia_M4_LAST.JPG\n"
          ]
        },
        {
          "output_type": "stream",
          "name": "stderr",
          "text": [
            "Setting `pad_token_id` to `eos_token_id`:151645 for open-end generation.\n",
            "Setting `pad_token_id` to `eos_token_id`:151645 for open-end generation.\n"
          ]
        },
        {
          "output_type": "stream",
          "name": "stdout",
          "text": [
            "  ✔ prompt1: infer_img() full-res ok\n",
            " Saved results to /content/drive/MyDrive/RQ1_Experiments/results/InternVL3-8B/RQ1_InternVL3-8B_8B_country_L2_prompt1_r1.json\n"
          ]
        },
        {
          "output_type": "stream",
          "name": "stderr",
          "text": [
            "Setting `pad_token_id` to `eos_token_id`:151645 for open-end generation.\n"
          ]
        },
        {
          "output_type": "stream",
          "name": "stdout",
          "text": [
            "  ✔ prompt2: infer_img() full-res ok\n",
            " Saved results to /content/drive/MyDrive/RQ1_Experiments/results/InternVL3-8B/RQ1_InternVL3-8B_8B_country_L2_prompt2_r1.json\n"
          ]
        },
        {
          "output_type": "stream",
          "name": "stderr",
          "text": [
            "Setting `pad_token_id` to `eos_token_id`:151645 for open-end generation.\n"
          ]
        },
        {
          "output_type": "stream",
          "name": "stdout",
          "text": [
            "  ✔ prompt3: infer_img() full-res ok\n",
            " Saved results to /content/drive/MyDrive/RQ1_Experiments/results/InternVL3-8B/RQ1_InternVL3-8B_8B_country_L2_prompt3_r1.json\n",
            "  ✔ prompt4: infer_img() full-res ok\n",
            " Saved results to /content/drive/MyDrive/RQ1_Experiments/results/InternVL3-8B/RQ1_InternVL3-8B_8B_country_L2_prompt4_r1.json\n",
            "------------------------------------------------------\n",
            "\n",
            "Processing 141/360: /content/drive/MyDrive/RQ1_Experiments/RQ1_Data_Batch1/Asia/Mongolia/Asia_Mongolia_M_LAST.jpg\n"
          ]
        },
        {
          "output_type": "stream",
          "name": "stderr",
          "text": [
            "Setting `pad_token_id` to `eos_token_id`:151645 for open-end generation.\n",
            "Setting `pad_token_id` to `eos_token_id`:151645 for open-end generation.\n"
          ]
        },
        {
          "output_type": "stream",
          "name": "stdout",
          "text": [
            "  ✔ prompt1: infer_img() full-res ok\n",
            " Saved results to /content/drive/MyDrive/RQ1_Experiments/results/InternVL3-8B/RQ1_InternVL3-8B_8B_country_L2_prompt1_r1.json\n"
          ]
        },
        {
          "output_type": "stream",
          "name": "stderr",
          "text": [
            "Setting `pad_token_id` to `eos_token_id`:151645 for open-end generation.\n"
          ]
        },
        {
          "output_type": "stream",
          "name": "stdout",
          "text": [
            "  ✔ prompt2: infer_img() full-res ok\n",
            " Saved results to /content/drive/MyDrive/RQ1_Experiments/results/InternVL3-8B/RQ1_InternVL3-8B_8B_country_L2_prompt2_r1.json\n"
          ]
        },
        {
          "output_type": "stream",
          "name": "stderr",
          "text": [
            "Setting `pad_token_id` to `eos_token_id`:151645 for open-end generation.\n"
          ]
        },
        {
          "output_type": "stream",
          "name": "stdout",
          "text": [
            "  ✔ prompt3: infer_img() full-res ok\n",
            " Saved results to /content/drive/MyDrive/RQ1_Experiments/results/InternVL3-8B/RQ1_InternVL3-8B_8B_country_L2_prompt3_r1.json\n",
            "  ✔ prompt4: infer_img() full-res ok\n",
            " Saved results to /content/drive/MyDrive/RQ1_Experiments/results/InternVL3-8B/RQ1_InternVL3-8B_8B_country_L2_prompt4_r1.json\n",
            "------------------------------------------------------\n",
            "\n",
            "Processing 142/360: /content/drive/MyDrive/RQ1_Experiments/RQ1_Data_Batch1/Asia/Oman/Asia_Oman_O1_LAST.jpg\n"
          ]
        },
        {
          "output_type": "stream",
          "name": "stderr",
          "text": [
            "Setting `pad_token_id` to `eos_token_id`:151645 for open-end generation.\n",
            "Setting `pad_token_id` to `eos_token_id`:151645 for open-end generation.\n"
          ]
        },
        {
          "output_type": "stream",
          "name": "stdout",
          "text": [
            "  ✔ prompt1: infer_img() full-res ok\n",
            " Saved results to /content/drive/MyDrive/RQ1_Experiments/results/InternVL3-8B/RQ1_InternVL3-8B_8B_country_L2_prompt1_r1.json\n"
          ]
        },
        {
          "output_type": "stream",
          "name": "stderr",
          "text": [
            "Setting `pad_token_id` to `eos_token_id`:151645 for open-end generation.\n"
          ]
        },
        {
          "output_type": "stream",
          "name": "stdout",
          "text": [
            "  ✔ prompt2: infer_img() full-res ok\n",
            " Saved results to /content/drive/MyDrive/RQ1_Experiments/results/InternVL3-8B/RQ1_InternVL3-8B_8B_country_L2_prompt2_r1.json\n"
          ]
        },
        {
          "output_type": "stream",
          "name": "stderr",
          "text": [
            "Setting `pad_token_id` to `eos_token_id`:151645 for open-end generation.\n"
          ]
        },
        {
          "output_type": "stream",
          "name": "stdout",
          "text": [
            "  ✔ prompt3: infer_img() full-res ok\n",
            " Saved results to /content/drive/MyDrive/RQ1_Experiments/results/InternVL3-8B/RQ1_InternVL3-8B_8B_country_L2_prompt3_r1.json\n",
            "  ✔ prompt4: infer_img() full-res ok\n",
            " Saved results to /content/drive/MyDrive/RQ1_Experiments/results/InternVL3-8B/RQ1_InternVL3-8B_8B_country_L2_prompt4_r1.json\n",
            "------------------------------------------------------\n",
            "\n",
            "Processing 143/360: /content/drive/MyDrive/RQ1_Experiments/RQ1_Data_Batch1/Asia/Qatar/Asia_Qatar_Q1_LAST.jpg\n"
          ]
        },
        {
          "output_type": "stream",
          "name": "stderr",
          "text": [
            "Setting `pad_token_id` to `eos_token_id`:151645 for open-end generation.\n",
            "Setting `pad_token_id` to `eos_token_id`:151645 for open-end generation.\n"
          ]
        },
        {
          "output_type": "stream",
          "name": "stdout",
          "text": [
            "  ✔ prompt1: infer_img() full-res ok\n",
            " Saved results to /content/drive/MyDrive/RQ1_Experiments/results/InternVL3-8B/RQ1_InternVL3-8B_8B_country_L2_prompt1_r1.json\n"
          ]
        },
        {
          "output_type": "stream",
          "name": "stderr",
          "text": [
            "Setting `pad_token_id` to `eos_token_id`:151645 for open-end generation.\n"
          ]
        },
        {
          "output_type": "stream",
          "name": "stdout",
          "text": [
            "  ✔ prompt2: infer_img() full-res ok\n",
            " Saved results to /content/drive/MyDrive/RQ1_Experiments/results/InternVL3-8B/RQ1_InternVL3-8B_8B_country_L2_prompt2_r1.json\n"
          ]
        },
        {
          "output_type": "stream",
          "name": "stderr",
          "text": [
            "Setting `pad_token_id` to `eos_token_id`:151645 for open-end generation.\n"
          ]
        },
        {
          "output_type": "stream",
          "name": "stdout",
          "text": [
            "  ✔ prompt3: infer_img() full-res ok\n",
            " Saved results to /content/drive/MyDrive/RQ1_Experiments/results/InternVL3-8B/RQ1_InternVL3-8B_8B_country_L2_prompt3_r1.json\n",
            "  ✔ prompt4: infer_img() full-res ok\n",
            " Saved results to /content/drive/MyDrive/RQ1_Experiments/results/InternVL3-8B/RQ1_InternVL3-8B_8B_country_L2_prompt4_r1.json\n",
            "------------------------------------------------------\n",
            "\n",
            "Processing 144/360: /content/drive/MyDrive/RQ1_Experiments/RQ1_Data_Batch1/Asia/Qatar/Asia_Qatar_Q2_LAST.jpg\n"
          ]
        },
        {
          "output_type": "stream",
          "name": "stderr",
          "text": [
            "Setting `pad_token_id` to `eos_token_id`:151645 for open-end generation.\n",
            "Setting `pad_token_id` to `eos_token_id`:151645 for open-end generation.\n"
          ]
        },
        {
          "output_type": "stream",
          "name": "stdout",
          "text": [
            "  ✔ prompt1: infer_img() full-res ok\n",
            " Saved results to /content/drive/MyDrive/RQ1_Experiments/results/InternVL3-8B/RQ1_InternVL3-8B_8B_country_L2_prompt1_r1.json\n"
          ]
        },
        {
          "output_type": "stream",
          "name": "stderr",
          "text": [
            "Setting `pad_token_id` to `eos_token_id`:151645 for open-end generation.\n"
          ]
        },
        {
          "output_type": "stream",
          "name": "stdout",
          "text": [
            "  ✔ prompt2: infer_img() full-res ok\n",
            " Saved results to /content/drive/MyDrive/RQ1_Experiments/results/InternVL3-8B/RQ1_InternVL3-8B_8B_country_L2_prompt2_r1.json\n"
          ]
        },
        {
          "output_type": "stream",
          "name": "stderr",
          "text": [
            "Setting `pad_token_id` to `eos_token_id`:151645 for open-end generation.\n"
          ]
        },
        {
          "output_type": "stream",
          "name": "stdout",
          "text": [
            "  ✔ prompt3: infer_img() full-res ok\n",
            " Saved results to /content/drive/MyDrive/RQ1_Experiments/results/InternVL3-8B/RQ1_InternVL3-8B_8B_country_L2_prompt3_r1.json\n",
            "  ✔ prompt4: infer_img() full-res ok\n",
            " Saved results to /content/drive/MyDrive/RQ1_Experiments/results/InternVL3-8B/RQ1_InternVL3-8B_8B_country_L2_prompt4_r1.json\n",
            "------------------------------------------------------\n",
            "\n",
            "Processing 145/360: /content/drive/MyDrive/RQ1_Experiments/RQ1_Data_Batch1/Asia/South Korea/Asia_South Korea_photo_92c2554a098a8e5f208a383c18a0ff3bec9d41fb_TOP.jpg\n"
          ]
        },
        {
          "output_type": "stream",
          "name": "stderr",
          "text": [
            "Setting `pad_token_id` to `eos_token_id`:151645 for open-end generation.\n",
            "Setting `pad_token_id` to `eos_token_id`:151645 for open-end generation.\n"
          ]
        },
        {
          "output_type": "stream",
          "name": "stdout",
          "text": [
            "  ✔ prompt1: infer_img() full-res ok\n",
            " Saved results to /content/drive/MyDrive/RQ1_Experiments/results/InternVL3-8B/RQ1_InternVL3-8B_8B_country_L2_prompt1_r1.json\n"
          ]
        },
        {
          "output_type": "stream",
          "name": "stderr",
          "text": [
            "Setting `pad_token_id` to `eos_token_id`:151645 for open-end generation.\n"
          ]
        },
        {
          "output_type": "stream",
          "name": "stdout",
          "text": [
            "  ✔ prompt2: infer_img() full-res ok\n",
            " Saved results to /content/drive/MyDrive/RQ1_Experiments/results/InternVL3-8B/RQ1_InternVL3-8B_8B_country_L2_prompt2_r1.json\n"
          ]
        },
        {
          "output_type": "stream",
          "name": "stderr",
          "text": [
            "Setting `pad_token_id` to `eos_token_id`:151645 for open-end generation.\n"
          ]
        },
        {
          "output_type": "stream",
          "name": "stdout",
          "text": [
            "  ✔ prompt3: infer_img() full-res ok\n",
            " Saved results to /content/drive/MyDrive/RQ1_Experiments/results/InternVL3-8B/RQ1_InternVL3-8B_8B_country_L2_prompt3_r1.json\n",
            "  ✔ prompt4: infer_img() full-res ok\n",
            " Saved results to /content/drive/MyDrive/RQ1_Experiments/results/InternVL3-8B/RQ1_InternVL3-8B_8B_country_L2_prompt4_r1.json\n",
            "------------------------------------------------------\n",
            "\n",
            "Processing 146/360: /content/drive/MyDrive/RQ1_Experiments/RQ1_Data_Batch1/Asia/South Korea/Asia_South Korea_photo_a591201e1a6e506f6d415812c82f1039f16a515c_TOP.jpg\n"
          ]
        },
        {
          "output_type": "stream",
          "name": "stderr",
          "text": [
            "Setting `pad_token_id` to `eos_token_id`:151645 for open-end generation.\n",
            "Setting `pad_token_id` to `eos_token_id`:151645 for open-end generation.\n"
          ]
        },
        {
          "output_type": "stream",
          "name": "stdout",
          "text": [
            "  ✔ prompt1: infer_img() full-res ok\n",
            " Saved results to /content/drive/MyDrive/RQ1_Experiments/results/InternVL3-8B/RQ1_InternVL3-8B_8B_country_L2_prompt1_r1.json\n"
          ]
        },
        {
          "output_type": "stream",
          "name": "stderr",
          "text": [
            "Setting `pad_token_id` to `eos_token_id`:151645 for open-end generation.\n"
          ]
        },
        {
          "output_type": "stream",
          "name": "stdout",
          "text": [
            "  ✔ prompt2: infer_img() full-res ok\n",
            " Saved results to /content/drive/MyDrive/RQ1_Experiments/results/InternVL3-8B/RQ1_InternVL3-8B_8B_country_L2_prompt2_r1.json\n"
          ]
        },
        {
          "output_type": "stream",
          "name": "stderr",
          "text": [
            "Setting `pad_token_id` to `eos_token_id`:151645 for open-end generation.\n"
          ]
        },
        {
          "output_type": "stream",
          "name": "stdout",
          "text": [
            "  ✔ prompt3: infer_img() full-res ok\n",
            " Saved results to /content/drive/MyDrive/RQ1_Experiments/results/InternVL3-8B/RQ1_InternVL3-8B_8B_country_L2_prompt3_r1.json\n",
            "  ✔ prompt4: infer_img() full-res ok\n",
            " Saved results to /content/drive/MyDrive/RQ1_Experiments/results/InternVL3-8B/RQ1_InternVL3-8B_8B_country_L2_prompt4_r1.json\n",
            "------------------------------------------------------\n",
            "\n",
            "Processing 147/360: /content/drive/MyDrive/RQ1_Experiments/RQ1_Data_Batch1/Asia/South Korea/Asia_South Korea_photo_bffe7e9c9d03a574a8440d04c2c1f5a21e63b421_TOP.jpg\n"
          ]
        },
        {
          "output_type": "stream",
          "name": "stderr",
          "text": [
            "Setting `pad_token_id` to `eos_token_id`:151645 for open-end generation.\n",
            "Setting `pad_token_id` to `eos_token_id`:151645 for open-end generation.\n"
          ]
        },
        {
          "output_type": "stream",
          "name": "stdout",
          "text": [
            "  ✔ prompt1: infer_img() full-res ok\n",
            " Saved results to /content/drive/MyDrive/RQ1_Experiments/results/InternVL3-8B/RQ1_InternVL3-8B_8B_country_L2_prompt1_r1.json\n"
          ]
        },
        {
          "output_type": "stream",
          "name": "stderr",
          "text": [
            "Setting `pad_token_id` to `eos_token_id`:151645 for open-end generation.\n"
          ]
        },
        {
          "output_type": "stream",
          "name": "stdout",
          "text": [
            "  ✔ prompt2: infer_img() full-res ok\n",
            " Saved results to /content/drive/MyDrive/RQ1_Experiments/results/InternVL3-8B/RQ1_InternVL3-8B_8B_country_L2_prompt2_r1.json\n"
          ]
        },
        {
          "output_type": "stream",
          "name": "stderr",
          "text": [
            "Setting `pad_token_id` to `eos_token_id`:151645 for open-end generation.\n"
          ]
        },
        {
          "output_type": "stream",
          "name": "stdout",
          "text": [
            "  ✔ prompt3: infer_img() full-res ok\n",
            " Saved results to /content/drive/MyDrive/RQ1_Experiments/results/InternVL3-8B/RQ1_InternVL3-8B_8B_country_L2_prompt3_r1.json\n",
            "  ✔ prompt4: infer_img() full-res ok\n",
            " Saved results to /content/drive/MyDrive/RQ1_Experiments/results/InternVL3-8B/RQ1_InternVL3-8B_8B_country_L2_prompt4_r1.json\n",
            "------------------------------------------------------\n",
            "\n",
            "Processing 148/360: /content/drive/MyDrive/RQ1_Experiments/RQ1_Data_Batch1/Asia/South Korea/Asia_South Korea_photo_e891acc039e53a86a638ad8bb8ab695cc3d82ac5_TOP.jpg\n"
          ]
        },
        {
          "output_type": "stream",
          "name": "stderr",
          "text": [
            "Setting `pad_token_id` to `eos_token_id`:151645 for open-end generation.\n",
            "Setting `pad_token_id` to `eos_token_id`:151645 for open-end generation.\n"
          ]
        },
        {
          "output_type": "stream",
          "name": "stdout",
          "text": [
            "  ✔ prompt1: infer_img() full-res ok\n",
            " Saved results to /content/drive/MyDrive/RQ1_Experiments/results/InternVL3-8B/RQ1_InternVL3-8B_8B_country_L2_prompt1_r1.json\n"
          ]
        },
        {
          "output_type": "stream",
          "name": "stderr",
          "text": [
            "Setting `pad_token_id` to `eos_token_id`:151645 for open-end generation.\n"
          ]
        },
        {
          "output_type": "stream",
          "name": "stdout",
          "text": [
            "  ✔ prompt2: infer_img() full-res ok\n",
            " Saved results to /content/drive/MyDrive/RQ1_Experiments/results/InternVL3-8B/RQ1_InternVL3-8B_8B_country_L2_prompt2_r1.json\n"
          ]
        },
        {
          "output_type": "stream",
          "name": "stderr",
          "text": [
            "Setting `pad_token_id` to `eos_token_id`:151645 for open-end generation.\n"
          ]
        },
        {
          "output_type": "stream",
          "name": "stdout",
          "text": [
            "  ✔ prompt3: infer_img() full-res ok\n",
            " Saved results to /content/drive/MyDrive/RQ1_Experiments/results/InternVL3-8B/RQ1_InternVL3-8B_8B_country_L2_prompt3_r1.json\n",
            "  ✔ prompt4: infer_img() full-res ok\n",
            " Saved results to /content/drive/MyDrive/RQ1_Experiments/results/InternVL3-8B/RQ1_InternVL3-8B_8B_country_L2_prompt4_r1.json\n",
            "------------------------------------------------------\n",
            "\n",
            "Processing 149/360: /content/drive/MyDrive/RQ1_Experiments/RQ1_Data_Batch1/Asia/Taiwan/Asia_Taiwan_photo_1b442859483ed8752d463d62d84980bc4aa06979_TOP.jpg\n"
          ]
        },
        {
          "output_type": "stream",
          "name": "stderr",
          "text": [
            "Setting `pad_token_id` to `eos_token_id`:151645 for open-end generation.\n",
            "Setting `pad_token_id` to `eos_token_id`:151645 for open-end generation.\n"
          ]
        },
        {
          "output_type": "stream",
          "name": "stdout",
          "text": [
            "  ✔ prompt1: infer_img() full-res ok\n",
            " Saved results to /content/drive/MyDrive/RQ1_Experiments/results/InternVL3-8B/RQ1_InternVL3-8B_8B_country_L2_prompt1_r1.json\n"
          ]
        },
        {
          "output_type": "stream",
          "name": "stderr",
          "text": [
            "Setting `pad_token_id` to `eos_token_id`:151645 for open-end generation.\n"
          ]
        },
        {
          "output_type": "stream",
          "name": "stdout",
          "text": [
            "  ✔ prompt2: infer_img() full-res ok\n",
            " Saved results to /content/drive/MyDrive/RQ1_Experiments/results/InternVL3-8B/RQ1_InternVL3-8B_8B_country_L2_prompt2_r1.json\n"
          ]
        },
        {
          "output_type": "stream",
          "name": "stderr",
          "text": [
            "Setting `pad_token_id` to `eos_token_id`:151645 for open-end generation.\n"
          ]
        },
        {
          "output_type": "stream",
          "name": "stdout",
          "text": [
            "  ✔ prompt3: infer_img() full-res ok\n",
            " Saved results to /content/drive/MyDrive/RQ1_Experiments/results/InternVL3-8B/RQ1_InternVL3-8B_8B_country_L2_prompt3_r1.json\n",
            "  ✔ prompt4: infer_img() full-res ok\n",
            " Saved results to /content/drive/MyDrive/RQ1_Experiments/results/InternVL3-8B/RQ1_InternVL3-8B_8B_country_L2_prompt4_r1.json\n",
            "------------------------------------------------------\n",
            "\n",
            "Processing 150/360: /content/drive/MyDrive/RQ1_Experiments/RQ1_Data_Batch1/Asia/Taiwan/Asia_Taiwan_photo_1df3f9614350ff030b4cb523385fa5952f7349ce_TOP.jpg\n"
          ]
        },
        {
          "output_type": "stream",
          "name": "stderr",
          "text": [
            "Setting `pad_token_id` to `eos_token_id`:151645 for open-end generation.\n",
            "Setting `pad_token_id` to `eos_token_id`:151645 for open-end generation.\n"
          ]
        },
        {
          "output_type": "stream",
          "name": "stdout",
          "text": [
            "  ✔ prompt1: infer_img() full-res ok\n",
            " Saved results to /content/drive/MyDrive/RQ1_Experiments/results/InternVL3-8B/RQ1_InternVL3-8B_8B_country_L2_prompt1_r1.json\n"
          ]
        },
        {
          "output_type": "stream",
          "name": "stderr",
          "text": [
            "Setting `pad_token_id` to `eos_token_id`:151645 for open-end generation.\n"
          ]
        },
        {
          "output_type": "stream",
          "name": "stdout",
          "text": [
            "  ✔ prompt2: infer_img() full-res ok\n",
            " Saved results to /content/drive/MyDrive/RQ1_Experiments/results/InternVL3-8B/RQ1_InternVL3-8B_8B_country_L2_prompt2_r1.json\n"
          ]
        },
        {
          "output_type": "stream",
          "name": "stderr",
          "text": [
            "Setting `pad_token_id` to `eos_token_id`:151645 for open-end generation.\n"
          ]
        },
        {
          "output_type": "stream",
          "name": "stdout",
          "text": [
            "  ✔ prompt3: infer_img() full-res ok\n",
            " Saved results to /content/drive/MyDrive/RQ1_Experiments/results/InternVL3-8B/RQ1_InternVL3-8B_8B_country_L2_prompt3_r1.json\n",
            "  ✔ prompt4: infer_img() full-res ok\n",
            " Saved results to /content/drive/MyDrive/RQ1_Experiments/results/InternVL3-8B/RQ1_InternVL3-8B_8B_country_L2_prompt4_r1.json\n",
            "------------------------------------------------------\n",
            "\n",
            "Processing 151/360: /content/drive/MyDrive/RQ1_Experiments/RQ1_Data_Batch1/Asia/Thailand/Asia_Thailand_photo_3f16e64220c6d121e51ac6f40b5c432122219bcd_TOP.jpg\n"
          ]
        },
        {
          "output_type": "stream",
          "name": "stderr",
          "text": [
            "Setting `pad_token_id` to `eos_token_id`:151645 for open-end generation.\n",
            "Setting `pad_token_id` to `eos_token_id`:151645 for open-end generation.\n"
          ]
        },
        {
          "output_type": "stream",
          "name": "stdout",
          "text": [
            "  ✔ prompt1: infer_img() full-res ok\n",
            " Saved results to /content/drive/MyDrive/RQ1_Experiments/results/InternVL3-8B/RQ1_InternVL3-8B_8B_country_L2_prompt1_r1.json\n"
          ]
        },
        {
          "output_type": "stream",
          "name": "stderr",
          "text": [
            "Setting `pad_token_id` to `eos_token_id`:151645 for open-end generation.\n"
          ]
        },
        {
          "output_type": "stream",
          "name": "stdout",
          "text": [
            "  ✔ prompt2: infer_img() full-res ok\n",
            " Saved results to /content/drive/MyDrive/RQ1_Experiments/results/InternVL3-8B/RQ1_InternVL3-8B_8B_country_L2_prompt2_r1.json\n"
          ]
        },
        {
          "output_type": "stream",
          "name": "stderr",
          "text": [
            "Setting `pad_token_id` to `eos_token_id`:151645 for open-end generation.\n"
          ]
        },
        {
          "output_type": "stream",
          "name": "stdout",
          "text": [
            "  ✔ prompt3: infer_img() full-res ok\n",
            " Saved results to /content/drive/MyDrive/RQ1_Experiments/results/InternVL3-8B/RQ1_InternVL3-8B_8B_country_L2_prompt3_r1.json\n",
            "  ✔ prompt4: infer_img() full-res ok\n",
            " Saved results to /content/drive/MyDrive/RQ1_Experiments/results/InternVL3-8B/RQ1_InternVL3-8B_8B_country_L2_prompt4_r1.json\n",
            "------------------------------------------------------\n",
            "\n",
            "Processing 152/360: /content/drive/MyDrive/RQ1_Experiments/RQ1_Data_Batch1/Asia/Thailand/Asia_Thailand_photo_4a17a5310c4c25f0807f10564c7c84a5d38b82d1_TOP.jpg\n"
          ]
        },
        {
          "output_type": "stream",
          "name": "stderr",
          "text": [
            "Setting `pad_token_id` to `eos_token_id`:151645 for open-end generation.\n",
            "Setting `pad_token_id` to `eos_token_id`:151645 for open-end generation.\n"
          ]
        },
        {
          "output_type": "stream",
          "name": "stdout",
          "text": [
            "  ✔ prompt1: infer_img() full-res ok\n",
            " Saved results to /content/drive/MyDrive/RQ1_Experiments/results/InternVL3-8B/RQ1_InternVL3-8B_8B_country_L2_prompt1_r1.json\n"
          ]
        },
        {
          "output_type": "stream",
          "name": "stderr",
          "text": [
            "Setting `pad_token_id` to `eos_token_id`:151645 for open-end generation.\n"
          ]
        },
        {
          "output_type": "stream",
          "name": "stdout",
          "text": [
            "  ✔ prompt2: infer_img() full-res ok\n",
            " Saved results to /content/drive/MyDrive/RQ1_Experiments/results/InternVL3-8B/RQ1_InternVL3-8B_8B_country_L2_prompt2_r1.json\n"
          ]
        },
        {
          "output_type": "stream",
          "name": "stderr",
          "text": [
            "Setting `pad_token_id` to `eos_token_id`:151645 for open-end generation.\n"
          ]
        },
        {
          "output_type": "stream",
          "name": "stdout",
          "text": [
            "  ✔ prompt3: infer_img() full-res ok\n",
            " Saved results to /content/drive/MyDrive/RQ1_Experiments/results/InternVL3-8B/RQ1_InternVL3-8B_8B_country_L2_prompt3_r1.json\n",
            "  ✔ prompt4: infer_img() full-res ok\n",
            " Saved results to /content/drive/MyDrive/RQ1_Experiments/results/InternVL3-8B/RQ1_InternVL3-8B_8B_country_L2_prompt4_r1.json\n",
            "------------------------------------------------------\n",
            "\n",
            "Processing 153/360: /content/drive/MyDrive/RQ1_Experiments/RQ1_Data_Batch1/Asia/Thailand/Asia_Thailand_photo_4ded577868f5b3c33a85386e3448d0c4e02d056e_TOP.jpg\n"
          ]
        },
        {
          "output_type": "stream",
          "name": "stderr",
          "text": [
            "Setting `pad_token_id` to `eos_token_id`:151645 for open-end generation.\n",
            "Setting `pad_token_id` to `eos_token_id`:151645 for open-end generation.\n"
          ]
        },
        {
          "output_type": "stream",
          "name": "stdout",
          "text": [
            "  ✔ prompt1: infer_img() full-res ok\n",
            " Saved results to /content/drive/MyDrive/RQ1_Experiments/results/InternVL3-8B/RQ1_InternVL3-8B_8B_country_L2_prompt1_r1.json\n"
          ]
        },
        {
          "output_type": "stream",
          "name": "stderr",
          "text": [
            "Setting `pad_token_id` to `eos_token_id`:151645 for open-end generation.\n"
          ]
        },
        {
          "output_type": "stream",
          "name": "stdout",
          "text": [
            "  ✔ prompt2: infer_img() full-res ok\n",
            " Saved results to /content/drive/MyDrive/RQ1_Experiments/results/InternVL3-8B/RQ1_InternVL3-8B_8B_country_L2_prompt2_r1.json\n"
          ]
        },
        {
          "output_type": "stream",
          "name": "stderr",
          "text": [
            "Setting `pad_token_id` to `eos_token_id`:151645 for open-end generation.\n"
          ]
        },
        {
          "output_type": "stream",
          "name": "stdout",
          "text": [
            "  ✔ prompt3: infer_img() full-res ok\n",
            " Saved results to /content/drive/MyDrive/RQ1_Experiments/results/InternVL3-8B/RQ1_InternVL3-8B_8B_country_L2_prompt3_r1.json\n",
            "  ✔ prompt4: infer_img() full-res ok\n",
            " Saved results to /content/drive/MyDrive/RQ1_Experiments/results/InternVL3-8B/RQ1_InternVL3-8B_8B_country_L2_prompt4_r1.json\n",
            "------------------------------------------------------\n",
            "\n",
            "Processing 154/360: /content/drive/MyDrive/RQ1_Experiments/RQ1_Data_Batch1/Europe/Faroe Islands/Europe_Faroe Islands_FI1_LAST.jpg\n"
          ]
        },
        {
          "output_type": "stream",
          "name": "stderr",
          "text": [
            "Setting `pad_token_id` to `eos_token_id`:151645 for open-end generation.\n",
            "Setting `pad_token_id` to `eos_token_id`:151645 for open-end generation.\n"
          ]
        },
        {
          "output_type": "stream",
          "name": "stdout",
          "text": [
            "  ✔ prompt1: infer_img() full-res ok\n",
            " Saved results to /content/drive/MyDrive/RQ1_Experiments/results/InternVL3-8B/RQ1_InternVL3-8B_8B_country_L2_prompt1_r1.json\n"
          ]
        },
        {
          "output_type": "stream",
          "name": "stderr",
          "text": [
            "Setting `pad_token_id` to `eos_token_id`:151645 for open-end generation.\n"
          ]
        },
        {
          "output_type": "stream",
          "name": "stdout",
          "text": [
            "  ✔ prompt2: infer_img() full-res ok\n",
            " Saved results to /content/drive/MyDrive/RQ1_Experiments/results/InternVL3-8B/RQ1_InternVL3-8B_8B_country_L2_prompt2_r1.json\n"
          ]
        },
        {
          "output_type": "stream",
          "name": "stderr",
          "text": [
            "Setting `pad_token_id` to `eos_token_id`:151645 for open-end generation.\n"
          ]
        },
        {
          "output_type": "stream",
          "name": "stdout",
          "text": [
            "  ✔ prompt3: infer_img() full-res ok\n",
            " Saved results to /content/drive/MyDrive/RQ1_Experiments/results/InternVL3-8B/RQ1_InternVL3-8B_8B_country_L2_prompt3_r1.json\n",
            "  ✔ prompt4: infer_img() full-res ok\n",
            " Saved results to /content/drive/MyDrive/RQ1_Experiments/results/InternVL3-8B/RQ1_InternVL3-8B_8B_country_L2_prompt4_r1.json\n",
            "------------------------------------------------------\n",
            "\n",
            "Processing 155/360: /content/drive/MyDrive/RQ1_Experiments/RQ1_Data_Batch1/Europe/Faroe Islands/Europe_Faroe Islands_FI2_LAST.jpg\n"
          ]
        },
        {
          "output_type": "stream",
          "name": "stderr",
          "text": [
            "Setting `pad_token_id` to `eos_token_id`:151645 for open-end generation.\n",
            "Setting `pad_token_id` to `eos_token_id`:151645 for open-end generation.\n"
          ]
        },
        {
          "output_type": "stream",
          "name": "stdout",
          "text": [
            "  ✔ prompt1: infer_img() full-res ok\n",
            " Saved results to /content/drive/MyDrive/RQ1_Experiments/results/InternVL3-8B/RQ1_InternVL3-8B_8B_country_L2_prompt1_r1.json\n"
          ]
        },
        {
          "output_type": "stream",
          "name": "stderr",
          "text": [
            "Setting `pad_token_id` to `eos_token_id`:151645 for open-end generation.\n"
          ]
        },
        {
          "output_type": "stream",
          "name": "stdout",
          "text": [
            "  ✔ prompt2: infer_img() full-res ok\n",
            " Saved results to /content/drive/MyDrive/RQ1_Experiments/results/InternVL3-8B/RQ1_InternVL3-8B_8B_country_L2_prompt2_r1.json\n"
          ]
        },
        {
          "output_type": "stream",
          "name": "stderr",
          "text": [
            "Setting `pad_token_id` to `eos_token_id`:151645 for open-end generation.\n"
          ]
        },
        {
          "output_type": "stream",
          "name": "stdout",
          "text": [
            "  ✔ prompt3: infer_img() full-res ok\n",
            " Saved results to /content/drive/MyDrive/RQ1_Experiments/results/InternVL3-8B/RQ1_InternVL3-8B_8B_country_L2_prompt3_r1.json\n",
            "  ✔ prompt4: infer_img() full-res ok\n",
            " Saved results to /content/drive/MyDrive/RQ1_Experiments/results/InternVL3-8B/RQ1_InternVL3-8B_8B_country_L2_prompt4_r1.json\n",
            "------------------------------------------------------\n",
            "\n",
            "Processing 156/360: /content/drive/MyDrive/RQ1_Experiments/RQ1_Data_Batch1/Europe/Gibraltar/Europe_Gibraltar_GIB1_LAST.png\n"
          ]
        },
        {
          "output_type": "stream",
          "name": "stderr",
          "text": [
            "Setting `pad_token_id` to `eos_token_id`:151645 for open-end generation.\n",
            "Setting `pad_token_id` to `eos_token_id`:151645 for open-end generation.\n"
          ]
        },
        {
          "output_type": "stream",
          "name": "stdout",
          "text": [
            "  ✔ prompt1: infer_img() full-res ok\n",
            " Saved results to /content/drive/MyDrive/RQ1_Experiments/results/InternVL3-8B/RQ1_InternVL3-8B_8B_country_L2_prompt1_r1.json\n"
          ]
        },
        {
          "output_type": "stream",
          "name": "stderr",
          "text": [
            "Setting `pad_token_id` to `eos_token_id`:151645 for open-end generation.\n"
          ]
        },
        {
          "output_type": "stream",
          "name": "stdout",
          "text": [
            "  ✔ prompt2: infer_img() full-res ok\n",
            " Saved results to /content/drive/MyDrive/RQ1_Experiments/results/InternVL3-8B/RQ1_InternVL3-8B_8B_country_L2_prompt2_r1.json\n"
          ]
        },
        {
          "output_type": "stream",
          "name": "stderr",
          "text": [
            "Setting `pad_token_id` to `eos_token_id`:151645 for open-end generation.\n"
          ]
        },
        {
          "output_type": "stream",
          "name": "stdout",
          "text": [
            "  ✔ prompt3: infer_img() full-res ok\n",
            " Saved results to /content/drive/MyDrive/RQ1_Experiments/results/InternVL3-8B/RQ1_InternVL3-8B_8B_country_L2_prompt3_r1.json\n",
            "  ✔ prompt4: infer_img() full-res ok\n",
            " Saved results to /content/drive/MyDrive/RQ1_Experiments/results/InternVL3-8B/RQ1_InternVL3-8B_8B_country_L2_prompt4_r1.json\n",
            "------------------------------------------------------\n",
            "\n",
            "Processing 157/360: /content/drive/MyDrive/RQ1_Experiments/RQ1_Data_Batch1/Europe/Gibraltar/Europe_Gibraltar_GIB2_LAST.png\n"
          ]
        },
        {
          "output_type": "stream",
          "name": "stderr",
          "text": [
            "Setting `pad_token_id` to `eos_token_id`:151645 for open-end generation.\n",
            "Setting `pad_token_id` to `eos_token_id`:151645 for open-end generation.\n"
          ]
        },
        {
          "output_type": "stream",
          "name": "stdout",
          "text": [
            "  ✔ prompt1: infer_img() full-res ok\n",
            " Saved results to /content/drive/MyDrive/RQ1_Experiments/results/InternVL3-8B/RQ1_InternVL3-8B_8B_country_L2_prompt1_r1.json\n"
          ]
        },
        {
          "output_type": "stream",
          "name": "stderr",
          "text": [
            "Setting `pad_token_id` to `eos_token_id`:151645 for open-end generation.\n"
          ]
        },
        {
          "output_type": "stream",
          "name": "stdout",
          "text": [
            "  ✔ prompt2: infer_img() full-res ok\n",
            " Saved results to /content/drive/MyDrive/RQ1_Experiments/results/InternVL3-8B/RQ1_InternVL3-8B_8B_country_L2_prompt2_r1.json\n"
          ]
        },
        {
          "output_type": "stream",
          "name": "stderr",
          "text": [
            "Setting `pad_token_id` to `eos_token_id`:151645 for open-end generation.\n"
          ]
        },
        {
          "output_type": "stream",
          "name": "stdout",
          "text": [
            "  ✔ prompt3: infer_img() full-res ok\n",
            " Saved results to /content/drive/MyDrive/RQ1_Experiments/results/InternVL3-8B/RQ1_InternVL3-8B_8B_country_L2_prompt3_r1.json\n",
            "  ✔ prompt4: infer_img() full-res ok\n",
            " Saved results to /content/drive/MyDrive/RQ1_Experiments/results/InternVL3-8B/RQ1_InternVL3-8B_8B_country_L2_prompt4_r1.json\n",
            "------------------------------------------------------\n",
            "\n",
            "Processing 158/360: /content/drive/MyDrive/RQ1_Experiments/RQ1_Data_Batch1/Europe/Gibraltar/Europe_Gibraltar_GIB3_LAST.jpg\n"
          ]
        },
        {
          "output_type": "stream",
          "name": "stderr",
          "text": [
            "Setting `pad_token_id` to `eos_token_id`:151645 for open-end generation.\n",
            "Setting `pad_token_id` to `eos_token_id`:151645 for open-end generation.\n"
          ]
        },
        {
          "output_type": "stream",
          "name": "stdout",
          "text": [
            "  ✔ prompt1: infer_img() full-res ok\n",
            " Saved results to /content/drive/MyDrive/RQ1_Experiments/results/InternVL3-8B/RQ1_InternVL3-8B_8B_country_L2_prompt1_r1.json\n"
          ]
        },
        {
          "output_type": "stream",
          "name": "stderr",
          "text": [
            "Setting `pad_token_id` to `eos_token_id`:151645 for open-end generation.\n"
          ]
        },
        {
          "output_type": "stream",
          "name": "stdout",
          "text": [
            "  ✔ prompt2: infer_img() full-res ok\n",
            " Saved results to /content/drive/MyDrive/RQ1_Experiments/results/InternVL3-8B/RQ1_InternVL3-8B_8B_country_L2_prompt2_r1.json\n"
          ]
        },
        {
          "output_type": "stream",
          "name": "stderr",
          "text": [
            "Setting `pad_token_id` to `eos_token_id`:151645 for open-end generation.\n"
          ]
        },
        {
          "output_type": "stream",
          "name": "stdout",
          "text": [
            "  ✔ prompt3: infer_img() full-res ok\n",
            " Saved results to /content/drive/MyDrive/RQ1_Experiments/results/InternVL3-8B/RQ1_InternVL3-8B_8B_country_L2_prompt3_r1.json\n",
            "  ✔ prompt4: infer_img() full-res ok\n",
            " Saved results to /content/drive/MyDrive/RQ1_Experiments/results/InternVL3-8B/RQ1_InternVL3-8B_8B_country_L2_prompt4_r1.json\n",
            "------------------------------------------------------\n",
            "\n",
            "Processing 159/360: /content/drive/MyDrive/RQ1_Experiments/RQ1_Data_Batch1/Europe/Iceland/Europe_Iceland_IL10_LAST.jpg\n"
          ]
        },
        {
          "output_type": "stream",
          "name": "stderr",
          "text": [
            "Setting `pad_token_id` to `eos_token_id`:151645 for open-end generation.\n",
            "Setting `pad_token_id` to `eos_token_id`:151645 for open-end generation.\n"
          ]
        },
        {
          "output_type": "stream",
          "name": "stdout",
          "text": [
            "  ✔ prompt1: infer_img() full-res ok\n",
            " Saved results to /content/drive/MyDrive/RQ1_Experiments/results/InternVL3-8B/RQ1_InternVL3-8B_8B_country_L2_prompt1_r1.json\n"
          ]
        },
        {
          "output_type": "stream",
          "name": "stderr",
          "text": [
            "Setting `pad_token_id` to `eos_token_id`:151645 for open-end generation.\n"
          ]
        },
        {
          "output_type": "stream",
          "name": "stdout",
          "text": [
            "  ✔ prompt2: infer_img() full-res ok\n",
            " Saved results to /content/drive/MyDrive/RQ1_Experiments/results/InternVL3-8B/RQ1_InternVL3-8B_8B_country_L2_prompt2_r1.json\n"
          ]
        },
        {
          "output_type": "stream",
          "name": "stderr",
          "text": [
            "Setting `pad_token_id` to `eos_token_id`:151645 for open-end generation.\n"
          ]
        },
        {
          "output_type": "stream",
          "name": "stdout",
          "text": [
            "  ✔ prompt3: infer_img() full-res ok\n",
            " Saved results to /content/drive/MyDrive/RQ1_Experiments/results/InternVL3-8B/RQ1_InternVL3-8B_8B_country_L2_prompt3_r1.json\n",
            "  ✔ prompt4: infer_img() full-res ok\n",
            " Saved results to /content/drive/MyDrive/RQ1_Experiments/results/InternVL3-8B/RQ1_InternVL3-8B_8B_country_L2_prompt4_r1.json\n",
            "------------------------------------------------------\n",
            "\n",
            "Processing 160/360: /content/drive/MyDrive/RQ1_Experiments/RQ1_Data_Batch1/Europe/Iceland/Europe_Iceland_IL11_LAST.jpg\n"
          ]
        },
        {
          "output_type": "stream",
          "name": "stderr",
          "text": [
            "Setting `pad_token_id` to `eos_token_id`:151645 for open-end generation.\n",
            "Setting `pad_token_id` to `eos_token_id`:151645 for open-end generation.\n"
          ]
        },
        {
          "output_type": "stream",
          "name": "stdout",
          "text": [
            "  ✔ prompt1: infer_img() full-res ok\n",
            " Saved results to /content/drive/MyDrive/RQ1_Experiments/results/InternVL3-8B/RQ1_InternVL3-8B_8B_country_L2_prompt1_r1.json\n"
          ]
        },
        {
          "output_type": "stream",
          "name": "stderr",
          "text": [
            "Setting `pad_token_id` to `eos_token_id`:151645 for open-end generation.\n"
          ]
        },
        {
          "output_type": "stream",
          "name": "stdout",
          "text": [
            "  ✔ prompt2: infer_img() full-res ok\n",
            " Saved results to /content/drive/MyDrive/RQ1_Experiments/results/InternVL3-8B/RQ1_InternVL3-8B_8B_country_L2_prompt2_r1.json\n"
          ]
        },
        {
          "output_type": "stream",
          "name": "stderr",
          "text": [
            "Setting `pad_token_id` to `eos_token_id`:151645 for open-end generation.\n"
          ]
        },
        {
          "output_type": "stream",
          "name": "stdout",
          "text": [
            "  ✔ prompt3: infer_img() full-res ok\n",
            " Saved results to /content/drive/MyDrive/RQ1_Experiments/results/InternVL3-8B/RQ1_InternVL3-8B_8B_country_L2_prompt3_r1.json\n",
            "  ✔ prompt4: infer_img() full-res ok\n",
            " Saved results to /content/drive/MyDrive/RQ1_Experiments/results/InternVL3-8B/RQ1_InternVL3-8B_8B_country_L2_prompt4_r1.json\n",
            "------------------------------------------------------\n",
            "\n",
            "Processing 161/360: /content/drive/MyDrive/RQ1_Experiments/RQ1_Data_Batch1/Europe/Iceland/Europe_Iceland_IL1_LAST.png\n"
          ]
        },
        {
          "output_type": "stream",
          "name": "stderr",
          "text": [
            "Setting `pad_token_id` to `eos_token_id`:151645 for open-end generation.\n",
            "Setting `pad_token_id` to `eos_token_id`:151645 for open-end generation.\n"
          ]
        },
        {
          "output_type": "stream",
          "name": "stdout",
          "text": [
            "  ✔ prompt1: infer_img() full-res ok\n",
            " Saved results to /content/drive/MyDrive/RQ1_Experiments/results/InternVL3-8B/RQ1_InternVL3-8B_8B_country_L2_prompt1_r1.json\n"
          ]
        },
        {
          "output_type": "stream",
          "name": "stderr",
          "text": [
            "Setting `pad_token_id` to `eos_token_id`:151645 for open-end generation.\n"
          ]
        },
        {
          "output_type": "stream",
          "name": "stdout",
          "text": [
            "  ✔ prompt2: infer_img() full-res ok\n",
            " Saved results to /content/drive/MyDrive/RQ1_Experiments/results/InternVL3-8B/RQ1_InternVL3-8B_8B_country_L2_prompt2_r1.json\n"
          ]
        },
        {
          "output_type": "stream",
          "name": "stderr",
          "text": [
            "Setting `pad_token_id` to `eos_token_id`:151645 for open-end generation.\n"
          ]
        },
        {
          "output_type": "stream",
          "name": "stdout",
          "text": [
            "  ✔ prompt3: infer_img() full-res ok\n",
            " Saved results to /content/drive/MyDrive/RQ1_Experiments/results/InternVL3-8B/RQ1_InternVL3-8B_8B_country_L2_prompt3_r1.json\n",
            "  ✔ prompt4: infer_img() full-res ok\n",
            " Saved results to /content/drive/MyDrive/RQ1_Experiments/results/InternVL3-8B/RQ1_InternVL3-8B_8B_country_L2_prompt4_r1.json\n",
            "------------------------------------------------------\n",
            "\n",
            "Processing 162/360: /content/drive/MyDrive/RQ1_Experiments/RQ1_Data_Batch1/Europe/Iceland/Europe_Iceland_IL2_LAST.jpg\n"
          ]
        },
        {
          "output_type": "stream",
          "name": "stderr",
          "text": [
            "Setting `pad_token_id` to `eos_token_id`:151645 for open-end generation.\n",
            "Setting `pad_token_id` to `eos_token_id`:151645 for open-end generation.\n"
          ]
        },
        {
          "output_type": "stream",
          "name": "stdout",
          "text": [
            "  ✔ prompt1: infer_img() full-res ok\n",
            " Saved results to /content/drive/MyDrive/RQ1_Experiments/results/InternVL3-8B/RQ1_InternVL3-8B_8B_country_L2_prompt1_r1.json\n"
          ]
        },
        {
          "output_type": "stream",
          "name": "stderr",
          "text": [
            "Setting `pad_token_id` to `eos_token_id`:151645 for open-end generation.\n"
          ]
        },
        {
          "output_type": "stream",
          "name": "stdout",
          "text": [
            "  ✔ prompt2: infer_img() full-res ok\n",
            " Saved results to /content/drive/MyDrive/RQ1_Experiments/results/InternVL3-8B/RQ1_InternVL3-8B_8B_country_L2_prompt2_r1.json\n"
          ]
        },
        {
          "output_type": "stream",
          "name": "stderr",
          "text": [
            "Setting `pad_token_id` to `eos_token_id`:151645 for open-end generation.\n"
          ]
        },
        {
          "output_type": "stream",
          "name": "stdout",
          "text": [
            "  ✔ prompt3: infer_img() full-res ok\n",
            " Saved results to /content/drive/MyDrive/RQ1_Experiments/results/InternVL3-8B/RQ1_InternVL3-8B_8B_country_L2_prompt3_r1.json\n",
            "  ✔ prompt4: infer_img() full-res ok\n",
            " Saved results to /content/drive/MyDrive/RQ1_Experiments/results/InternVL3-8B/RQ1_InternVL3-8B_8B_country_L2_prompt4_r1.json\n",
            "------------------------------------------------------\n",
            "\n",
            "Processing 163/360: /content/drive/MyDrive/RQ1_Experiments/RQ1_Data_Batch1/Europe/Iceland/Europe_Iceland_IL3_LAST.JPG\n"
          ]
        },
        {
          "output_type": "stream",
          "name": "stderr",
          "text": [
            "Setting `pad_token_id` to `eos_token_id`:151645 for open-end generation.\n",
            "Setting `pad_token_id` to `eos_token_id`:151645 for open-end generation.\n"
          ]
        },
        {
          "output_type": "stream",
          "name": "stdout",
          "text": [
            "  ✔ prompt1: infer_img() full-res ok\n",
            " Saved results to /content/drive/MyDrive/RQ1_Experiments/results/InternVL3-8B/RQ1_InternVL3-8B_8B_country_L2_prompt1_r1.json\n"
          ]
        },
        {
          "output_type": "stream",
          "name": "stderr",
          "text": [
            "Setting `pad_token_id` to `eos_token_id`:151645 for open-end generation.\n"
          ]
        },
        {
          "output_type": "stream",
          "name": "stdout",
          "text": [
            "  ✔ prompt2: infer_img() full-res ok\n",
            " Saved results to /content/drive/MyDrive/RQ1_Experiments/results/InternVL3-8B/RQ1_InternVL3-8B_8B_country_L2_prompt2_r1.json\n"
          ]
        },
        {
          "output_type": "stream",
          "name": "stderr",
          "text": [
            "Setting `pad_token_id` to `eos_token_id`:151645 for open-end generation.\n"
          ]
        },
        {
          "output_type": "stream",
          "name": "stdout",
          "text": [
            "  ✔ prompt3: infer_img() full-res ok\n",
            " Saved results to /content/drive/MyDrive/RQ1_Experiments/results/InternVL3-8B/RQ1_InternVL3-8B_8B_country_L2_prompt3_r1.json\n",
            "  ✔ prompt4: infer_img() full-res ok\n",
            " Saved results to /content/drive/MyDrive/RQ1_Experiments/results/InternVL3-8B/RQ1_InternVL3-8B_8B_country_L2_prompt4_r1.json\n",
            "------------------------------------------------------\n",
            "\n",
            "Processing 164/360: /content/drive/MyDrive/RQ1_Experiments/RQ1_Data_Batch1/Europe/Iceland/Europe_Iceland_IL4_LAST.jpg\n"
          ]
        },
        {
          "output_type": "stream",
          "name": "stderr",
          "text": [
            "Setting `pad_token_id` to `eos_token_id`:151645 for open-end generation.\n",
            "Setting `pad_token_id` to `eos_token_id`:151645 for open-end generation.\n"
          ]
        },
        {
          "output_type": "stream",
          "name": "stdout",
          "text": [
            "  ✔ prompt1: infer_img() full-res ok\n",
            " Saved results to /content/drive/MyDrive/RQ1_Experiments/results/InternVL3-8B/RQ1_InternVL3-8B_8B_country_L2_prompt1_r1.json\n"
          ]
        },
        {
          "output_type": "stream",
          "name": "stderr",
          "text": [
            "Setting `pad_token_id` to `eos_token_id`:151645 for open-end generation.\n"
          ]
        },
        {
          "output_type": "stream",
          "name": "stdout",
          "text": [
            "  ✔ prompt2: infer_img() full-res ok\n",
            " Saved results to /content/drive/MyDrive/RQ1_Experiments/results/InternVL3-8B/RQ1_InternVL3-8B_8B_country_L2_prompt2_r1.json\n"
          ]
        },
        {
          "output_type": "stream",
          "name": "stderr",
          "text": [
            "Setting `pad_token_id` to `eos_token_id`:151645 for open-end generation.\n"
          ]
        },
        {
          "output_type": "stream",
          "name": "stdout",
          "text": [
            "  ✔ prompt3: infer_img() full-res ok\n",
            " Saved results to /content/drive/MyDrive/RQ1_Experiments/results/InternVL3-8B/RQ1_InternVL3-8B_8B_country_L2_prompt3_r1.json\n",
            "  ✔ prompt4: infer_img() full-res ok\n",
            " Saved results to /content/drive/MyDrive/RQ1_Experiments/results/InternVL3-8B/RQ1_InternVL3-8B_8B_country_L2_prompt4_r1.json\n",
            "------------------------------------------------------\n",
            "\n",
            "Processing 165/360: /content/drive/MyDrive/RQ1_Experiments/RQ1_Data_Batch1/Europe/Iceland/Europe_Iceland_IL5_LAST.jpg\n"
          ]
        },
        {
          "output_type": "stream",
          "name": "stderr",
          "text": [
            "Setting `pad_token_id` to `eos_token_id`:151645 for open-end generation.\n",
            "Setting `pad_token_id` to `eos_token_id`:151645 for open-end generation.\n"
          ]
        },
        {
          "output_type": "stream",
          "name": "stdout",
          "text": [
            "  ✔ prompt1: infer_img() full-res ok\n",
            " Saved results to /content/drive/MyDrive/RQ1_Experiments/results/InternVL3-8B/RQ1_InternVL3-8B_8B_country_L2_prompt1_r1.json\n"
          ]
        },
        {
          "output_type": "stream",
          "name": "stderr",
          "text": [
            "Setting `pad_token_id` to `eos_token_id`:151645 for open-end generation.\n"
          ]
        },
        {
          "output_type": "stream",
          "name": "stdout",
          "text": [
            "  ✔ prompt2: infer_img() full-res ok\n",
            " Saved results to /content/drive/MyDrive/RQ1_Experiments/results/InternVL3-8B/RQ1_InternVL3-8B_8B_country_L2_prompt2_r1.json\n"
          ]
        },
        {
          "output_type": "stream",
          "name": "stderr",
          "text": [
            "Setting `pad_token_id` to `eos_token_id`:151645 for open-end generation.\n"
          ]
        },
        {
          "output_type": "stream",
          "name": "stdout",
          "text": [
            "  ✔ prompt3: infer_img() full-res ok\n",
            " Saved results to /content/drive/MyDrive/RQ1_Experiments/results/InternVL3-8B/RQ1_InternVL3-8B_8B_country_L2_prompt3_r1.json\n",
            "  ✔ prompt4: infer_img() full-res ok\n",
            " Saved results to /content/drive/MyDrive/RQ1_Experiments/results/InternVL3-8B/RQ1_InternVL3-8B_8B_country_L2_prompt4_r1.json\n",
            "------------------------------------------------------\n",
            "\n",
            "Processing 166/360: /content/drive/MyDrive/RQ1_Experiments/RQ1_Data_Batch1/Europe/Iceland/Europe_Iceland_IL6_LAST.jpg\n"
          ]
        },
        {
          "output_type": "stream",
          "name": "stderr",
          "text": [
            "Setting `pad_token_id` to `eos_token_id`:151645 for open-end generation.\n",
            "Setting `pad_token_id` to `eos_token_id`:151645 for open-end generation.\n"
          ]
        },
        {
          "output_type": "stream",
          "name": "stdout",
          "text": [
            "  ✔ prompt1: infer_img() full-res ok\n",
            " Saved results to /content/drive/MyDrive/RQ1_Experiments/results/InternVL3-8B/RQ1_InternVL3-8B_8B_country_L2_prompt1_r1.json\n"
          ]
        },
        {
          "output_type": "stream",
          "name": "stderr",
          "text": [
            "Setting `pad_token_id` to `eos_token_id`:151645 for open-end generation.\n"
          ]
        },
        {
          "output_type": "stream",
          "name": "stdout",
          "text": [
            "  ✔ prompt2: infer_img() full-res ok\n",
            " Saved results to /content/drive/MyDrive/RQ1_Experiments/results/InternVL3-8B/RQ1_InternVL3-8B_8B_country_L2_prompt2_r1.json\n"
          ]
        },
        {
          "output_type": "stream",
          "name": "stderr",
          "text": [
            "Setting `pad_token_id` to `eos_token_id`:151645 for open-end generation.\n"
          ]
        },
        {
          "output_type": "stream",
          "name": "stdout",
          "text": [
            "  ✔ prompt3: infer_img() full-res ok\n",
            " Saved results to /content/drive/MyDrive/RQ1_Experiments/results/InternVL3-8B/RQ1_InternVL3-8B_8B_country_L2_prompt3_r1.json\n",
            "  ✔ prompt4: infer_img() full-res ok\n",
            " Saved results to /content/drive/MyDrive/RQ1_Experiments/results/InternVL3-8B/RQ1_InternVL3-8B_8B_country_L2_prompt4_r1.json\n",
            "------------------------------------------------------\n",
            "\n",
            "Processing 167/360: /content/drive/MyDrive/RQ1_Experiments/RQ1_Data_Batch1/Europe/Iceland/Europe_Iceland_IL7_LAST.jpg\n"
          ]
        },
        {
          "output_type": "stream",
          "name": "stderr",
          "text": [
            "Setting `pad_token_id` to `eos_token_id`:151645 for open-end generation.\n",
            "Setting `pad_token_id` to `eos_token_id`:151645 for open-end generation.\n"
          ]
        },
        {
          "output_type": "stream",
          "name": "stdout",
          "text": [
            "  ✔ prompt1: infer_img() full-res ok\n",
            " Saved results to /content/drive/MyDrive/RQ1_Experiments/results/InternVL3-8B/RQ1_InternVL3-8B_8B_country_L2_prompt1_r1.json\n"
          ]
        },
        {
          "output_type": "stream",
          "name": "stderr",
          "text": [
            "Setting `pad_token_id` to `eos_token_id`:151645 for open-end generation.\n"
          ]
        },
        {
          "output_type": "stream",
          "name": "stdout",
          "text": [
            "  ✔ prompt2: infer_img() full-res ok\n",
            " Saved results to /content/drive/MyDrive/RQ1_Experiments/results/InternVL3-8B/RQ1_InternVL3-8B_8B_country_L2_prompt2_r1.json\n"
          ]
        },
        {
          "output_type": "stream",
          "name": "stderr",
          "text": [
            "Setting `pad_token_id` to `eos_token_id`:151645 for open-end generation.\n"
          ]
        },
        {
          "output_type": "stream",
          "name": "stdout",
          "text": [
            "  ✔ prompt3: infer_img() full-res ok\n",
            " Saved results to /content/drive/MyDrive/RQ1_Experiments/results/InternVL3-8B/RQ1_InternVL3-8B_8B_country_L2_prompt3_r1.json\n",
            "  ✔ prompt4: infer_img() full-res ok\n",
            " Saved results to /content/drive/MyDrive/RQ1_Experiments/results/InternVL3-8B/RQ1_InternVL3-8B_8B_country_L2_prompt4_r1.json\n",
            "------------------------------------------------------\n",
            "\n",
            "Processing 168/360: /content/drive/MyDrive/RQ1_Experiments/RQ1_Data_Batch1/Europe/Iceland/Europe_Iceland_IL8_LAST.jpg\n"
          ]
        },
        {
          "output_type": "stream",
          "name": "stderr",
          "text": [
            "Setting `pad_token_id` to `eos_token_id`:151645 for open-end generation.\n",
            "Setting `pad_token_id` to `eos_token_id`:151645 for open-end generation.\n"
          ]
        },
        {
          "output_type": "stream",
          "name": "stdout",
          "text": [
            "  ✔ prompt1: infer_img() full-res ok\n",
            " Saved results to /content/drive/MyDrive/RQ1_Experiments/results/InternVL3-8B/RQ1_InternVL3-8B_8B_country_L2_prompt1_r1.json\n"
          ]
        },
        {
          "output_type": "stream",
          "name": "stderr",
          "text": [
            "Setting `pad_token_id` to `eos_token_id`:151645 for open-end generation.\n"
          ]
        },
        {
          "output_type": "stream",
          "name": "stdout",
          "text": [
            "  ✔ prompt2: infer_img() full-res ok\n",
            " Saved results to /content/drive/MyDrive/RQ1_Experiments/results/InternVL3-8B/RQ1_InternVL3-8B_8B_country_L2_prompt2_r1.json\n"
          ]
        },
        {
          "output_type": "stream",
          "name": "stderr",
          "text": [
            "Setting `pad_token_id` to `eos_token_id`:151645 for open-end generation.\n"
          ]
        },
        {
          "output_type": "stream",
          "name": "stdout",
          "text": [
            "  ✔ prompt3: infer_img() full-res ok\n",
            " Saved results to /content/drive/MyDrive/RQ1_Experiments/results/InternVL3-8B/RQ1_InternVL3-8B_8B_country_L2_prompt3_r1.json\n",
            "  ✔ prompt4: infer_img() full-res ok\n",
            " Saved results to /content/drive/MyDrive/RQ1_Experiments/results/InternVL3-8B/RQ1_InternVL3-8B_8B_country_L2_prompt4_r1.json\n",
            "------------------------------------------------------\n",
            "\n",
            "Processing 169/360: /content/drive/MyDrive/RQ1_Experiments/RQ1_Data_Batch1/Europe/Iceland/Europe_Iceland_IL9_LAST.jpg\n"
          ]
        },
        {
          "output_type": "stream",
          "name": "stderr",
          "text": [
            "Setting `pad_token_id` to `eos_token_id`:151645 for open-end generation.\n",
            "Setting `pad_token_id` to `eos_token_id`:151645 for open-end generation.\n"
          ]
        },
        {
          "output_type": "stream",
          "name": "stdout",
          "text": [
            "  ✔ prompt1: infer_img() full-res ok\n",
            " Saved results to /content/drive/MyDrive/RQ1_Experiments/results/InternVL3-8B/RQ1_InternVL3-8B_8B_country_L2_prompt1_r1.json\n"
          ]
        },
        {
          "output_type": "stream",
          "name": "stderr",
          "text": [
            "Setting `pad_token_id` to `eos_token_id`:151645 for open-end generation.\n"
          ]
        },
        {
          "output_type": "stream",
          "name": "stdout",
          "text": [
            "  ✔ prompt2: infer_img() full-res ok\n",
            " Saved results to /content/drive/MyDrive/RQ1_Experiments/results/InternVL3-8B/RQ1_InternVL3-8B_8B_country_L2_prompt2_r1.json\n"
          ]
        },
        {
          "output_type": "stream",
          "name": "stderr",
          "text": [
            "Setting `pad_token_id` to `eos_token_id`:151645 for open-end generation.\n"
          ]
        },
        {
          "output_type": "stream",
          "name": "stdout",
          "text": [
            "  ✔ prompt3: infer_img() full-res ok\n",
            " Saved results to /content/drive/MyDrive/RQ1_Experiments/results/InternVL3-8B/RQ1_InternVL3-8B_8B_country_L2_prompt3_r1.json\n",
            "  ✔ prompt4: infer_img() full-res ok\n",
            " Saved results to /content/drive/MyDrive/RQ1_Experiments/results/InternVL3-8B/RQ1_InternVL3-8B_8B_country_L2_prompt4_r1.json\n",
            "------------------------------------------------------\n",
            "\n",
            "Processing 170/360: /content/drive/MyDrive/RQ1_Experiments/RQ1_Data_Batch1/Europe/Ireland/Europe_Ireland_IRL1_MIDDLE.jpg\n"
          ]
        },
        {
          "output_type": "stream",
          "name": "stderr",
          "text": [
            "Setting `pad_token_id` to `eos_token_id`:151645 for open-end generation.\n",
            "Setting `pad_token_id` to `eos_token_id`:151645 for open-end generation.\n"
          ]
        },
        {
          "output_type": "stream",
          "name": "stdout",
          "text": [
            "  ✔ prompt1: infer_img() full-res ok\n",
            " Saved results to /content/drive/MyDrive/RQ1_Experiments/results/InternVL3-8B/RQ1_InternVL3-8B_8B_country_L2_prompt1_r1.json\n"
          ]
        },
        {
          "output_type": "stream",
          "name": "stderr",
          "text": [
            "Setting `pad_token_id` to `eos_token_id`:151645 for open-end generation.\n"
          ]
        },
        {
          "output_type": "stream",
          "name": "stdout",
          "text": [
            "  ✔ prompt2: infer_img() full-res ok\n",
            " Saved results to /content/drive/MyDrive/RQ1_Experiments/results/InternVL3-8B/RQ1_InternVL3-8B_8B_country_L2_prompt2_r1.json\n"
          ]
        },
        {
          "output_type": "stream",
          "name": "stderr",
          "text": [
            "Setting `pad_token_id` to `eos_token_id`:151645 for open-end generation.\n"
          ]
        },
        {
          "output_type": "stream",
          "name": "stdout",
          "text": [
            "  ✔ prompt3: infer_img() full-res ok\n",
            " Saved results to /content/drive/MyDrive/RQ1_Experiments/results/InternVL3-8B/RQ1_InternVL3-8B_8B_country_L2_prompt3_r1.json\n",
            "  ✔ prompt4: infer_img() full-res ok\n",
            " Saved results to /content/drive/MyDrive/RQ1_Experiments/results/InternVL3-8B/RQ1_InternVL3-8B_8B_country_L2_prompt4_r1.json\n",
            "------------------------------------------------------\n",
            "\n",
            "Processing 171/360: /content/drive/MyDrive/RQ1_Experiments/RQ1_Data_Batch1/Europe/Ireland/Europe_Ireland_IRL2_MIDDLE.jpg\n"
          ]
        },
        {
          "output_type": "stream",
          "name": "stderr",
          "text": [
            "Setting `pad_token_id` to `eos_token_id`:151645 for open-end generation.\n",
            "Setting `pad_token_id` to `eos_token_id`:151645 for open-end generation.\n"
          ]
        },
        {
          "output_type": "stream",
          "name": "stdout",
          "text": [
            "  ✔ prompt1: infer_img() full-res ok\n",
            " Saved results to /content/drive/MyDrive/RQ1_Experiments/results/InternVL3-8B/RQ1_InternVL3-8B_8B_country_L2_prompt1_r1.json\n"
          ]
        },
        {
          "output_type": "stream",
          "name": "stderr",
          "text": [
            "Setting `pad_token_id` to `eos_token_id`:151645 for open-end generation.\n"
          ]
        },
        {
          "output_type": "stream",
          "name": "stdout",
          "text": [
            "  ✔ prompt2: infer_img() full-res ok\n",
            " Saved results to /content/drive/MyDrive/RQ1_Experiments/results/InternVL3-8B/RQ1_InternVL3-8B_8B_country_L2_prompt2_r1.json\n"
          ]
        },
        {
          "output_type": "stream",
          "name": "stderr",
          "text": [
            "Setting `pad_token_id` to `eos_token_id`:151645 for open-end generation.\n"
          ]
        },
        {
          "output_type": "stream",
          "name": "stdout",
          "text": [
            "  ✔ prompt3: infer_img() full-res ok\n",
            " Saved results to /content/drive/MyDrive/RQ1_Experiments/results/InternVL3-8B/RQ1_InternVL3-8B_8B_country_L2_prompt3_r1.json\n",
            "  ✔ prompt4: infer_img() full-res ok\n",
            " Saved results to /content/drive/MyDrive/RQ1_Experiments/results/InternVL3-8B/RQ1_InternVL3-8B_8B_country_L2_prompt4_r1.json\n",
            "------------------------------------------------------\n",
            "\n",
            "Processing 172/360: /content/drive/MyDrive/RQ1_Experiments/RQ1_Data_Batch1/Europe/Ireland/Europe_Ireland_IRL3_MIDDLE.jpg\n"
          ]
        },
        {
          "output_type": "stream",
          "name": "stderr",
          "text": [
            "Setting `pad_token_id` to `eos_token_id`:151645 for open-end generation.\n",
            "Setting `pad_token_id` to `eos_token_id`:151645 for open-end generation.\n"
          ]
        },
        {
          "output_type": "stream",
          "name": "stdout",
          "text": [
            "  ✔ prompt1: infer_img() full-res ok\n",
            " Saved results to /content/drive/MyDrive/RQ1_Experiments/results/InternVL3-8B/RQ1_InternVL3-8B_8B_country_L2_prompt1_r1.json\n"
          ]
        },
        {
          "output_type": "stream",
          "name": "stderr",
          "text": [
            "Setting `pad_token_id` to `eos_token_id`:151645 for open-end generation.\n"
          ]
        },
        {
          "output_type": "stream",
          "name": "stdout",
          "text": [
            "  ✔ prompt2: infer_img() full-res ok\n",
            " Saved results to /content/drive/MyDrive/RQ1_Experiments/results/InternVL3-8B/RQ1_InternVL3-8B_8B_country_L2_prompt2_r1.json\n"
          ]
        },
        {
          "output_type": "stream",
          "name": "stderr",
          "text": [
            "Setting `pad_token_id` to `eos_token_id`:151645 for open-end generation.\n"
          ]
        },
        {
          "output_type": "stream",
          "name": "stdout",
          "text": [
            "  ✔ prompt3: infer_img() full-res ok\n",
            " Saved results to /content/drive/MyDrive/RQ1_Experiments/results/InternVL3-8B/RQ1_InternVL3-8B_8B_country_L2_prompt3_r1.json\n",
            "  ✔ prompt4: infer_img() full-res ok\n",
            " Saved results to /content/drive/MyDrive/RQ1_Experiments/results/InternVL3-8B/RQ1_InternVL3-8B_8B_country_L2_prompt4_r1.json\n",
            "------------------------------------------------------\n",
            "\n",
            "Processing 173/360: /content/drive/MyDrive/RQ1_Experiments/RQ1_Data_Batch1/Europe/Ireland/Europe_Ireland_IRL4_MIDDLE.jpg\n"
          ]
        },
        {
          "output_type": "stream",
          "name": "stderr",
          "text": [
            "Setting `pad_token_id` to `eos_token_id`:151645 for open-end generation.\n",
            "Setting `pad_token_id` to `eos_token_id`:151645 for open-end generation.\n"
          ]
        },
        {
          "output_type": "stream",
          "name": "stdout",
          "text": [
            "  ✔ prompt1: infer_img() full-res ok\n",
            " Saved results to /content/drive/MyDrive/RQ1_Experiments/results/InternVL3-8B/RQ1_InternVL3-8B_8B_country_L2_prompt1_r1.json\n"
          ]
        },
        {
          "output_type": "stream",
          "name": "stderr",
          "text": [
            "Setting `pad_token_id` to `eos_token_id`:151645 for open-end generation.\n"
          ]
        },
        {
          "output_type": "stream",
          "name": "stdout",
          "text": [
            "  ✔ prompt2: infer_img() full-res ok\n",
            " Saved results to /content/drive/MyDrive/RQ1_Experiments/results/InternVL3-8B/RQ1_InternVL3-8B_8B_country_L2_prompt2_r1.json\n"
          ]
        },
        {
          "output_type": "stream",
          "name": "stderr",
          "text": [
            "Setting `pad_token_id` to `eos_token_id`:151645 for open-end generation.\n"
          ]
        },
        {
          "output_type": "stream",
          "name": "stdout",
          "text": [
            "  ✔ prompt3: infer_img() full-res ok\n",
            " Saved results to /content/drive/MyDrive/RQ1_Experiments/results/InternVL3-8B/RQ1_InternVL3-8B_8B_country_L2_prompt3_r1.json\n",
            "  ✔ prompt4: infer_img() full-res ok\n",
            " Saved results to /content/drive/MyDrive/RQ1_Experiments/results/InternVL3-8B/RQ1_InternVL3-8B_8B_country_L2_prompt4_r1.json\n",
            "------------------------------------------------------\n",
            "\n",
            "Processing 174/360: /content/drive/MyDrive/RQ1_Experiments/RQ1_Data_Batch1/Europe/Ireland/Europe_Ireland_IRL5_MIDDLE.jpg\n"
          ]
        },
        {
          "output_type": "stream",
          "name": "stderr",
          "text": [
            "Setting `pad_token_id` to `eos_token_id`:151645 for open-end generation.\n",
            "Setting `pad_token_id` to `eos_token_id`:151645 for open-end generation.\n"
          ]
        },
        {
          "output_type": "stream",
          "name": "stdout",
          "text": [
            "  ✔ prompt1: infer_img() full-res ok\n",
            " Saved results to /content/drive/MyDrive/RQ1_Experiments/results/InternVL3-8B/RQ1_InternVL3-8B_8B_country_L2_prompt1_r1.json\n"
          ]
        },
        {
          "output_type": "stream",
          "name": "stderr",
          "text": [
            "Setting `pad_token_id` to `eos_token_id`:151645 for open-end generation.\n"
          ]
        },
        {
          "output_type": "stream",
          "name": "stdout",
          "text": [
            "  ✔ prompt2: infer_img() full-res ok\n",
            " Saved results to /content/drive/MyDrive/RQ1_Experiments/results/InternVL3-8B/RQ1_InternVL3-8B_8B_country_L2_prompt2_r1.json\n"
          ]
        },
        {
          "output_type": "stream",
          "name": "stderr",
          "text": [
            "Setting `pad_token_id` to `eos_token_id`:151645 for open-end generation.\n"
          ]
        },
        {
          "output_type": "stream",
          "name": "stdout",
          "text": [
            "  ✔ prompt3: infer_img() full-res ok\n",
            " Saved results to /content/drive/MyDrive/RQ1_Experiments/results/InternVL3-8B/RQ1_InternVL3-8B_8B_country_L2_prompt3_r1.json\n",
            "  ✔ prompt4: infer_img() full-res ok\n",
            " Saved results to /content/drive/MyDrive/RQ1_Experiments/results/InternVL3-8B/RQ1_InternVL3-8B_8B_country_L2_prompt4_r1.json\n",
            "------------------------------------------------------\n",
            "\n",
            "Processing 175/360: /content/drive/MyDrive/RQ1_Experiments/RQ1_Data_Batch1/Europe/Ireland/Europe_Ireland_IRL6_MIDDLE.jpg\n"
          ]
        },
        {
          "output_type": "stream",
          "name": "stderr",
          "text": [
            "Setting `pad_token_id` to `eos_token_id`:151645 for open-end generation.\n",
            "Setting `pad_token_id` to `eos_token_id`:151645 for open-end generation.\n"
          ]
        },
        {
          "output_type": "stream",
          "name": "stdout",
          "text": [
            "  ✔ prompt1: infer_img() full-res ok\n",
            " Saved results to /content/drive/MyDrive/RQ1_Experiments/results/InternVL3-8B/RQ1_InternVL3-8B_8B_country_L2_prompt1_r1.json\n"
          ]
        },
        {
          "output_type": "stream",
          "name": "stderr",
          "text": [
            "Setting `pad_token_id` to `eos_token_id`:151645 for open-end generation.\n"
          ]
        },
        {
          "output_type": "stream",
          "name": "stdout",
          "text": [
            "  ✔ prompt2: infer_img() full-res ok\n",
            " Saved results to /content/drive/MyDrive/RQ1_Experiments/results/InternVL3-8B/RQ1_InternVL3-8B_8B_country_L2_prompt2_r1.json\n"
          ]
        },
        {
          "output_type": "stream",
          "name": "stderr",
          "text": [
            "Setting `pad_token_id` to `eos_token_id`:151645 for open-end generation.\n"
          ]
        },
        {
          "output_type": "stream",
          "name": "stdout",
          "text": [
            "  ✔ prompt3: infer_img() full-res ok\n",
            " Saved results to /content/drive/MyDrive/RQ1_Experiments/results/InternVL3-8B/RQ1_InternVL3-8B_8B_country_L2_prompt3_r1.json\n",
            "  ✔ prompt4: infer_img() full-res ok\n",
            " Saved results to /content/drive/MyDrive/RQ1_Experiments/results/InternVL3-8B/RQ1_InternVL3-8B_8B_country_L2_prompt4_r1.json\n",
            "------------------------------------------------------\n",
            "\n",
            "Processing 176/360: /content/drive/MyDrive/RQ1_Experiments/RQ1_Data_Batch1/Europe/Ireland/Europe_Ireland_IRL7_MIDDLE.jpg\n"
          ]
        },
        {
          "output_type": "stream",
          "name": "stderr",
          "text": [
            "Setting `pad_token_id` to `eos_token_id`:151645 for open-end generation.\n",
            "Setting `pad_token_id` to `eos_token_id`:151645 for open-end generation.\n"
          ]
        },
        {
          "output_type": "stream",
          "name": "stdout",
          "text": [
            "  ✔ prompt1: infer_img() full-res ok\n",
            " Saved results to /content/drive/MyDrive/RQ1_Experiments/results/InternVL3-8B/RQ1_InternVL3-8B_8B_country_L2_prompt1_r1.json\n"
          ]
        },
        {
          "output_type": "stream",
          "name": "stderr",
          "text": [
            "Setting `pad_token_id` to `eos_token_id`:151645 for open-end generation.\n"
          ]
        },
        {
          "output_type": "stream",
          "name": "stdout",
          "text": [
            "  ✔ prompt2: infer_img() full-res ok\n",
            " Saved results to /content/drive/MyDrive/RQ1_Experiments/results/InternVL3-8B/RQ1_InternVL3-8B_8B_country_L2_prompt2_r1.json\n"
          ]
        },
        {
          "output_type": "stream",
          "name": "stderr",
          "text": [
            "Setting `pad_token_id` to `eos_token_id`:151645 for open-end generation.\n"
          ]
        },
        {
          "output_type": "stream",
          "name": "stdout",
          "text": [
            "  ✔ prompt3: infer_img() full-res ok\n",
            " Saved results to /content/drive/MyDrive/RQ1_Experiments/results/InternVL3-8B/RQ1_InternVL3-8B_8B_country_L2_prompt3_r1.json\n",
            "  ✔ prompt4: infer_img() full-res ok\n",
            " Saved results to /content/drive/MyDrive/RQ1_Experiments/results/InternVL3-8B/RQ1_InternVL3-8B_8B_country_L2_prompt4_r1.json\n",
            "------------------------------------------------------\n",
            "\n",
            "Processing 177/360: /content/drive/MyDrive/RQ1_Experiments/RQ1_Data_Batch1/Europe/Latvia/Europe_Latvia_L1_LAST.JPG\n"
          ]
        },
        {
          "output_type": "stream",
          "name": "stderr",
          "text": [
            "Setting `pad_token_id` to `eos_token_id`:151645 for open-end generation.\n",
            "Setting `pad_token_id` to `eos_token_id`:151645 for open-end generation.\n"
          ]
        },
        {
          "output_type": "stream",
          "name": "stdout",
          "text": [
            "  ✔ prompt1: infer_img() full-res ok\n",
            " Saved results to /content/drive/MyDrive/RQ1_Experiments/results/InternVL3-8B/RQ1_InternVL3-8B_8B_country_L2_prompt1_r1.json\n"
          ]
        },
        {
          "output_type": "stream",
          "name": "stderr",
          "text": [
            "Setting `pad_token_id` to `eos_token_id`:151645 for open-end generation.\n"
          ]
        },
        {
          "output_type": "stream",
          "name": "stdout",
          "text": [
            "  ✔ prompt2: infer_img() full-res ok\n",
            " Saved results to /content/drive/MyDrive/RQ1_Experiments/results/InternVL3-8B/RQ1_InternVL3-8B_8B_country_L2_prompt2_r1.json\n"
          ]
        },
        {
          "output_type": "stream",
          "name": "stderr",
          "text": [
            "Setting `pad_token_id` to `eos_token_id`:151645 for open-end generation.\n"
          ]
        },
        {
          "output_type": "stream",
          "name": "stdout",
          "text": [
            "  ✔ prompt3: infer_img() full-res ok\n",
            " Saved results to /content/drive/MyDrive/RQ1_Experiments/results/InternVL3-8B/RQ1_InternVL3-8B_8B_country_L2_prompt3_r1.json\n",
            "  ✔ prompt4: infer_img() full-res ok\n",
            " Saved results to /content/drive/MyDrive/RQ1_Experiments/results/InternVL3-8B/RQ1_InternVL3-8B_8B_country_L2_prompt4_r1.json\n",
            "------------------------------------------------------\n",
            "\n",
            "Processing 178/360: /content/drive/MyDrive/RQ1_Experiments/RQ1_Data_Batch1/Europe/Latvia/Europe_Latvia_L2_LAST.JPG\n"
          ]
        },
        {
          "output_type": "stream",
          "name": "stderr",
          "text": [
            "Setting `pad_token_id` to `eos_token_id`:151645 for open-end generation.\n",
            "Setting `pad_token_id` to `eos_token_id`:151645 for open-end generation.\n"
          ]
        },
        {
          "output_type": "stream",
          "name": "stdout",
          "text": [
            "  ✔ prompt1: infer_img() full-res ok\n",
            " Saved results to /content/drive/MyDrive/RQ1_Experiments/results/InternVL3-8B/RQ1_InternVL3-8B_8B_country_L2_prompt1_r1.json\n"
          ]
        },
        {
          "output_type": "stream",
          "name": "stderr",
          "text": [
            "Setting `pad_token_id` to `eos_token_id`:151645 for open-end generation.\n"
          ]
        },
        {
          "output_type": "stream",
          "name": "stdout",
          "text": [
            "  ✔ prompt2: infer_img() full-res ok\n",
            " Saved results to /content/drive/MyDrive/RQ1_Experiments/results/InternVL3-8B/RQ1_InternVL3-8B_8B_country_L2_prompt2_r1.json\n"
          ]
        },
        {
          "output_type": "stream",
          "name": "stderr",
          "text": [
            "Setting `pad_token_id` to `eos_token_id`:151645 for open-end generation.\n"
          ]
        },
        {
          "output_type": "stream",
          "name": "stdout",
          "text": [
            "  ✔ prompt3: infer_img() full-res ok\n",
            " Saved results to /content/drive/MyDrive/RQ1_Experiments/results/InternVL3-8B/RQ1_InternVL3-8B_8B_country_L2_prompt3_r1.json\n",
            "  ✔ prompt4: infer_img() full-res ok\n",
            " Saved results to /content/drive/MyDrive/RQ1_Experiments/results/InternVL3-8B/RQ1_InternVL3-8B_8B_country_L2_prompt4_r1.json\n",
            "------------------------------------------------------\n",
            "\n",
            "Processing 179/360: /content/drive/MyDrive/RQ1_Experiments/RQ1_Data_Batch1/Europe/Latvia/Europe_Latvia_L3_LAST.JPG\n"
          ]
        },
        {
          "output_type": "stream",
          "name": "stderr",
          "text": [
            "Setting `pad_token_id` to `eos_token_id`:151645 for open-end generation.\n",
            "Setting `pad_token_id` to `eos_token_id`:151645 for open-end generation.\n"
          ]
        },
        {
          "output_type": "stream",
          "name": "stdout",
          "text": [
            "  ✔ prompt1: infer_img() full-res ok\n",
            " Saved results to /content/drive/MyDrive/RQ1_Experiments/results/InternVL3-8B/RQ1_InternVL3-8B_8B_country_L2_prompt1_r1.json\n"
          ]
        },
        {
          "output_type": "stream",
          "name": "stderr",
          "text": [
            "Setting `pad_token_id` to `eos_token_id`:151645 for open-end generation.\n"
          ]
        },
        {
          "output_type": "stream",
          "name": "stdout",
          "text": [
            "  ✔ prompt2: infer_img() full-res ok\n",
            " Saved results to /content/drive/MyDrive/RQ1_Experiments/results/InternVL3-8B/RQ1_InternVL3-8B_8B_country_L2_prompt2_r1.json\n"
          ]
        },
        {
          "output_type": "stream",
          "name": "stderr",
          "text": [
            "Setting `pad_token_id` to `eos_token_id`:151645 for open-end generation.\n"
          ]
        },
        {
          "output_type": "stream",
          "name": "stdout",
          "text": [
            "  ✔ prompt3: infer_img() full-res ok\n",
            " Saved results to /content/drive/MyDrive/RQ1_Experiments/results/InternVL3-8B/RQ1_InternVL3-8B_8B_country_L2_prompt3_r1.json\n",
            "  ✔ prompt4: infer_img() full-res ok\n",
            " Saved results to /content/drive/MyDrive/RQ1_Experiments/results/InternVL3-8B/RQ1_InternVL3-8B_8B_country_L2_prompt4_r1.json\n",
            "------------------------------------------------------\n",
            "\n",
            "Processing 180/360: /content/drive/MyDrive/RQ1_Experiments/RQ1_Data_Batch1/Europe/Latvia/Europe_Latvia_L4_LAST.png\n"
          ]
        },
        {
          "output_type": "stream",
          "name": "stderr",
          "text": [
            "Setting `pad_token_id` to `eos_token_id`:151645 for open-end generation.\n",
            "Setting `pad_token_id` to `eos_token_id`:151645 for open-end generation.\n"
          ]
        },
        {
          "output_type": "stream",
          "name": "stdout",
          "text": [
            "  ✔ prompt1: infer_img() full-res ok\n",
            " Saved results to /content/drive/MyDrive/RQ1_Experiments/results/InternVL3-8B/RQ1_InternVL3-8B_8B_country_L2_prompt1_r1.json\n"
          ]
        },
        {
          "output_type": "stream",
          "name": "stderr",
          "text": [
            "Setting `pad_token_id` to `eos_token_id`:151645 for open-end generation.\n"
          ]
        },
        {
          "output_type": "stream",
          "name": "stdout",
          "text": [
            "  ✔ prompt2: infer_img() full-res ok\n",
            " Saved results to /content/drive/MyDrive/RQ1_Experiments/results/InternVL3-8B/RQ1_InternVL3-8B_8B_country_L2_prompt2_r1.json\n"
          ]
        },
        {
          "output_type": "stream",
          "name": "stderr",
          "text": [
            "Setting `pad_token_id` to `eos_token_id`:151645 for open-end generation.\n"
          ]
        },
        {
          "output_type": "stream",
          "name": "stdout",
          "text": [
            "  ✔ prompt3: infer_img() full-res ok\n",
            " Saved results to /content/drive/MyDrive/RQ1_Experiments/results/InternVL3-8B/RQ1_InternVL3-8B_8B_country_L2_prompt3_r1.json\n",
            "  ✔ prompt4: infer_img() full-res ok\n",
            " Saved results to /content/drive/MyDrive/RQ1_Experiments/results/InternVL3-8B/RQ1_InternVL3-8B_8B_country_L2_prompt4_r1.json\n",
            "------------------------------------------------------\n",
            "\n",
            "Processing 181/360: /content/drive/MyDrive/RQ1_Experiments/RQ1_Data_Batch1/Europe/Latvia/Europe_Latvia_L5_LAST.jpg\n"
          ]
        },
        {
          "output_type": "stream",
          "name": "stderr",
          "text": [
            "Setting `pad_token_id` to `eos_token_id`:151645 for open-end generation.\n",
            "Setting `pad_token_id` to `eos_token_id`:151645 for open-end generation.\n"
          ]
        },
        {
          "output_type": "stream",
          "name": "stdout",
          "text": [
            "  ✔ prompt1: infer_img() full-res ok\n",
            " Saved results to /content/drive/MyDrive/RQ1_Experiments/results/InternVL3-8B/RQ1_InternVL3-8B_8B_country_L2_prompt1_r1.json\n"
          ]
        },
        {
          "output_type": "stream",
          "name": "stderr",
          "text": [
            "Setting `pad_token_id` to `eos_token_id`:151645 for open-end generation.\n"
          ]
        },
        {
          "output_type": "stream",
          "name": "stdout",
          "text": [
            "  ✔ prompt2: infer_img() full-res ok\n",
            " Saved results to /content/drive/MyDrive/RQ1_Experiments/results/InternVL3-8B/RQ1_InternVL3-8B_8B_country_L2_prompt2_r1.json\n"
          ]
        },
        {
          "output_type": "stream",
          "name": "stderr",
          "text": [
            "Setting `pad_token_id` to `eos_token_id`:151645 for open-end generation.\n"
          ]
        },
        {
          "output_type": "stream",
          "name": "stdout",
          "text": [
            "  ✔ prompt3: infer_img() full-res ok\n",
            " Saved results to /content/drive/MyDrive/RQ1_Experiments/results/InternVL3-8B/RQ1_InternVL3-8B_8B_country_L2_prompt3_r1.json\n",
            "  ✔ prompt4: infer_img() full-res ok\n",
            " Saved results to /content/drive/MyDrive/RQ1_Experiments/results/InternVL3-8B/RQ1_InternVL3-8B_8B_country_L2_prompt4_r1.json\n",
            "------------------------------------------------------\n",
            "\n",
            "Processing 182/360: /content/drive/MyDrive/RQ1_Experiments/RQ1_Data_Batch1/Europe/Latvia/Europe_Latvia_L6_LAST.png\n"
          ]
        },
        {
          "output_type": "stream",
          "name": "stderr",
          "text": [
            "Setting `pad_token_id` to `eos_token_id`:151645 for open-end generation.\n",
            "Setting `pad_token_id` to `eos_token_id`:151645 for open-end generation.\n"
          ]
        },
        {
          "output_type": "stream",
          "name": "stdout",
          "text": [
            "  ✔ prompt1: infer_img() full-res ok\n",
            " Saved results to /content/drive/MyDrive/RQ1_Experiments/results/InternVL3-8B/RQ1_InternVL3-8B_8B_country_L2_prompt1_r1.json\n"
          ]
        },
        {
          "output_type": "stream",
          "name": "stderr",
          "text": [
            "Setting `pad_token_id` to `eos_token_id`:151645 for open-end generation.\n"
          ]
        },
        {
          "output_type": "stream",
          "name": "stdout",
          "text": [
            "  ✔ prompt2: infer_img() full-res ok\n",
            " Saved results to /content/drive/MyDrive/RQ1_Experiments/results/InternVL3-8B/RQ1_InternVL3-8B_8B_country_L2_prompt2_r1.json\n"
          ]
        },
        {
          "output_type": "stream",
          "name": "stderr",
          "text": [
            "Setting `pad_token_id` to `eos_token_id`:151645 for open-end generation.\n"
          ]
        },
        {
          "output_type": "stream",
          "name": "stdout",
          "text": [
            "  ✔ prompt3: infer_img() full-res ok\n",
            " Saved results to /content/drive/MyDrive/RQ1_Experiments/results/InternVL3-8B/RQ1_InternVL3-8B_8B_country_L2_prompt3_r1.json\n",
            "  ✔ prompt4: infer_img() full-res ok\n",
            " Saved results to /content/drive/MyDrive/RQ1_Experiments/results/InternVL3-8B/RQ1_InternVL3-8B_8B_country_L2_prompt4_r1.json\n",
            "------------------------------------------------------\n",
            "\n",
            "Processing 183/360: /content/drive/MyDrive/RQ1_Experiments/RQ1_Data_Batch1/Europe/Latvia/Europe_Latvia_L7_LAST.jpg\n"
          ]
        },
        {
          "output_type": "stream",
          "name": "stderr",
          "text": [
            "Setting `pad_token_id` to `eos_token_id`:151645 for open-end generation.\n",
            "Setting `pad_token_id` to `eos_token_id`:151645 for open-end generation.\n"
          ]
        },
        {
          "output_type": "stream",
          "name": "stdout",
          "text": [
            "  ✔ prompt1: infer_img() full-res ok\n",
            " Saved results to /content/drive/MyDrive/RQ1_Experiments/results/InternVL3-8B/RQ1_InternVL3-8B_8B_country_L2_prompt1_r1.json\n"
          ]
        },
        {
          "output_type": "stream",
          "name": "stderr",
          "text": [
            "Setting `pad_token_id` to `eos_token_id`:151645 for open-end generation.\n"
          ]
        },
        {
          "output_type": "stream",
          "name": "stdout",
          "text": [
            "  ✔ prompt2: infer_img() full-res ok\n",
            " Saved results to /content/drive/MyDrive/RQ1_Experiments/results/InternVL3-8B/RQ1_InternVL3-8B_8B_country_L2_prompt2_r1.json\n"
          ]
        },
        {
          "output_type": "stream",
          "name": "stderr",
          "text": [
            "Setting `pad_token_id` to `eos_token_id`:151645 for open-end generation.\n"
          ]
        },
        {
          "output_type": "stream",
          "name": "stdout",
          "text": [
            "  ✔ prompt3: infer_img() full-res ok\n",
            " Saved results to /content/drive/MyDrive/RQ1_Experiments/results/InternVL3-8B/RQ1_InternVL3-8B_8B_country_L2_prompt3_r1.json\n",
            "  ✔ prompt4: infer_img() full-res ok\n",
            " Saved results to /content/drive/MyDrive/RQ1_Experiments/results/InternVL3-8B/RQ1_InternVL3-8B_8B_country_L2_prompt4_r1.json\n",
            "------------------------------------------------------\n",
            "\n",
            "Processing 184/360: /content/drive/MyDrive/RQ1_Experiments/RQ1_Data_Batch1/Europe/Latvia/Europe_Latvia_L8_LAST.jpg\n"
          ]
        },
        {
          "output_type": "stream",
          "name": "stderr",
          "text": [
            "Setting `pad_token_id` to `eos_token_id`:151645 for open-end generation.\n",
            "Setting `pad_token_id` to `eos_token_id`:151645 for open-end generation.\n"
          ]
        },
        {
          "output_type": "stream",
          "name": "stdout",
          "text": [
            "  ✔ prompt1: infer_img() full-res ok\n",
            " Saved results to /content/drive/MyDrive/RQ1_Experiments/results/InternVL3-8B/RQ1_InternVL3-8B_8B_country_L2_prompt1_r1.json\n"
          ]
        },
        {
          "output_type": "stream",
          "name": "stderr",
          "text": [
            "Setting `pad_token_id` to `eos_token_id`:151645 for open-end generation.\n"
          ]
        },
        {
          "output_type": "stream",
          "name": "stdout",
          "text": [
            "  ✔ prompt2: infer_img() full-res ok\n",
            " Saved results to /content/drive/MyDrive/RQ1_Experiments/results/InternVL3-8B/RQ1_InternVL3-8B_8B_country_L2_prompt2_r1.json\n"
          ]
        },
        {
          "output_type": "stream",
          "name": "stderr",
          "text": [
            "Setting `pad_token_id` to `eos_token_id`:151645 for open-end generation.\n"
          ]
        },
        {
          "output_type": "stream",
          "name": "stdout",
          "text": [
            "  ✔ prompt3: infer_img() full-res ok\n",
            " Saved results to /content/drive/MyDrive/RQ1_Experiments/results/InternVL3-8B/RQ1_InternVL3-8B_8B_country_L2_prompt3_r1.json\n",
            "  ✔ prompt4: infer_img() full-res ok\n",
            " Saved results to /content/drive/MyDrive/RQ1_Experiments/results/InternVL3-8B/RQ1_InternVL3-8B_8B_country_L2_prompt4_r1.json\n",
            "------------------------------------------------------\n",
            "\n",
            "Processing 185/360: /content/drive/MyDrive/RQ1_Experiments/RQ1_Data_Batch1/Europe/Netherlands/Europe_Netherlands_photo_0acc303d41a4878dab681ca40b72e151b1d37877_TOP.jpg\n"
          ]
        },
        {
          "output_type": "stream",
          "name": "stderr",
          "text": [
            "Setting `pad_token_id` to `eos_token_id`:151645 for open-end generation.\n",
            "Setting `pad_token_id` to `eos_token_id`:151645 for open-end generation.\n"
          ]
        },
        {
          "output_type": "stream",
          "name": "stdout",
          "text": [
            "  ✔ prompt1: infer_img() full-res ok\n",
            " Saved results to /content/drive/MyDrive/RQ1_Experiments/results/InternVL3-8B/RQ1_InternVL3-8B_8B_country_L2_prompt1_r1.json\n"
          ]
        },
        {
          "output_type": "stream",
          "name": "stderr",
          "text": [
            "Setting `pad_token_id` to `eos_token_id`:151645 for open-end generation.\n"
          ]
        },
        {
          "output_type": "stream",
          "name": "stdout",
          "text": [
            "  ✔ prompt2: infer_img() full-res ok\n",
            " Saved results to /content/drive/MyDrive/RQ1_Experiments/results/InternVL3-8B/RQ1_InternVL3-8B_8B_country_L2_prompt2_r1.json\n"
          ]
        },
        {
          "output_type": "stream",
          "name": "stderr",
          "text": [
            "Setting `pad_token_id` to `eos_token_id`:151645 for open-end generation.\n"
          ]
        },
        {
          "output_type": "stream",
          "name": "stdout",
          "text": [
            "  ✔ prompt3: infer_img() full-res ok\n",
            " Saved results to /content/drive/MyDrive/RQ1_Experiments/results/InternVL3-8B/RQ1_InternVL3-8B_8B_country_L2_prompt3_r1.json\n",
            "  ✔ prompt4: infer_img() full-res ok\n",
            " Saved results to /content/drive/MyDrive/RQ1_Experiments/results/InternVL3-8B/RQ1_InternVL3-8B_8B_country_L2_prompt4_r1.json\n",
            "------------------------------------------------------\n",
            "\n",
            "Processing 186/360: /content/drive/MyDrive/RQ1_Experiments/RQ1_Data_Batch1/Europe/Netherlands/Europe_Netherlands_photo_0cfb771f39148e6470d1dbb0ff110923ac705951_TOP.jpg\n"
          ]
        },
        {
          "output_type": "stream",
          "name": "stderr",
          "text": [
            "Setting `pad_token_id` to `eos_token_id`:151645 for open-end generation.\n",
            "Setting `pad_token_id` to `eos_token_id`:151645 for open-end generation.\n"
          ]
        },
        {
          "output_type": "stream",
          "name": "stdout",
          "text": [
            "  ✔ prompt1: infer_img() full-res ok\n",
            " Saved results to /content/drive/MyDrive/RQ1_Experiments/results/InternVL3-8B/RQ1_InternVL3-8B_8B_country_L2_prompt1_r1.json\n"
          ]
        },
        {
          "output_type": "stream",
          "name": "stderr",
          "text": [
            "Setting `pad_token_id` to `eos_token_id`:151645 for open-end generation.\n"
          ]
        },
        {
          "output_type": "stream",
          "name": "stdout",
          "text": [
            "  ✔ prompt2: infer_img() full-res ok\n",
            " Saved results to /content/drive/MyDrive/RQ1_Experiments/results/InternVL3-8B/RQ1_InternVL3-8B_8B_country_L2_prompt2_r1.json\n"
          ]
        },
        {
          "output_type": "stream",
          "name": "stderr",
          "text": [
            "Setting `pad_token_id` to `eos_token_id`:151645 for open-end generation.\n"
          ]
        },
        {
          "output_type": "stream",
          "name": "stdout",
          "text": [
            "  ✔ prompt3: infer_img() full-res ok\n",
            " Saved results to /content/drive/MyDrive/RQ1_Experiments/results/InternVL3-8B/RQ1_InternVL3-8B_8B_country_L2_prompt3_r1.json\n",
            "  ✔ prompt4: infer_img() full-res ok\n",
            " Saved results to /content/drive/MyDrive/RQ1_Experiments/results/InternVL3-8B/RQ1_InternVL3-8B_8B_country_L2_prompt4_r1.json\n",
            "------------------------------------------------------\n",
            "\n",
            "Processing 187/360: /content/drive/MyDrive/RQ1_Experiments/RQ1_Data_Batch1/Europe/Netherlands/Europe_Netherlands_photo_0dacf6fede368e6fc99918fc04dfb0e01f2c73e7_TOP.jpg\n"
          ]
        },
        {
          "output_type": "stream",
          "name": "stderr",
          "text": [
            "Setting `pad_token_id` to `eos_token_id`:151645 for open-end generation.\n",
            "Setting `pad_token_id` to `eos_token_id`:151645 for open-end generation.\n"
          ]
        },
        {
          "output_type": "stream",
          "name": "stdout",
          "text": [
            "  ✔ prompt1: infer_img() full-res ok\n",
            " Saved results to /content/drive/MyDrive/RQ1_Experiments/results/InternVL3-8B/RQ1_InternVL3-8B_8B_country_L2_prompt1_r1.json\n"
          ]
        },
        {
          "output_type": "stream",
          "name": "stderr",
          "text": [
            "Setting `pad_token_id` to `eos_token_id`:151645 for open-end generation.\n"
          ]
        },
        {
          "output_type": "stream",
          "name": "stdout",
          "text": [
            "  ✔ prompt2: infer_img() full-res ok\n",
            " Saved results to /content/drive/MyDrive/RQ1_Experiments/results/InternVL3-8B/RQ1_InternVL3-8B_8B_country_L2_prompt2_r1.json\n"
          ]
        },
        {
          "output_type": "stream",
          "name": "stderr",
          "text": [
            "Setting `pad_token_id` to `eos_token_id`:151645 for open-end generation.\n"
          ]
        },
        {
          "output_type": "stream",
          "name": "stdout",
          "text": [
            "  ✔ prompt3: infer_img() full-res ok\n",
            " Saved results to /content/drive/MyDrive/RQ1_Experiments/results/InternVL3-8B/RQ1_InternVL3-8B_8B_country_L2_prompt3_r1.json\n",
            "  ✔ prompt4: infer_img() full-res ok\n",
            " Saved results to /content/drive/MyDrive/RQ1_Experiments/results/InternVL3-8B/RQ1_InternVL3-8B_8B_country_L2_prompt4_r1.json\n",
            "------------------------------------------------------\n",
            "\n",
            "Processing 188/360: /content/drive/MyDrive/RQ1_Experiments/RQ1_Data_Batch1/Europe/Netherlands/Europe_Netherlands_photo_2906cbd55c848dce242462ace6878c2ed5bf107b_TOP.jpg\n"
          ]
        },
        {
          "output_type": "stream",
          "name": "stderr",
          "text": [
            "Setting `pad_token_id` to `eos_token_id`:151645 for open-end generation.\n",
            "Setting `pad_token_id` to `eos_token_id`:151645 for open-end generation.\n"
          ]
        },
        {
          "output_type": "stream",
          "name": "stdout",
          "text": [
            "  ✔ prompt1: infer_img() full-res ok\n",
            " Saved results to /content/drive/MyDrive/RQ1_Experiments/results/InternVL3-8B/RQ1_InternVL3-8B_8B_country_L2_prompt1_r1.json\n"
          ]
        },
        {
          "output_type": "stream",
          "name": "stderr",
          "text": [
            "Setting `pad_token_id` to `eos_token_id`:151645 for open-end generation.\n"
          ]
        },
        {
          "output_type": "stream",
          "name": "stdout",
          "text": [
            "  ✔ prompt2: infer_img() full-res ok\n",
            " Saved results to /content/drive/MyDrive/RQ1_Experiments/results/InternVL3-8B/RQ1_InternVL3-8B_8B_country_L2_prompt2_r1.json\n"
          ]
        },
        {
          "output_type": "stream",
          "name": "stderr",
          "text": [
            "Setting `pad_token_id` to `eos_token_id`:151645 for open-end generation.\n"
          ]
        },
        {
          "output_type": "stream",
          "name": "stdout",
          "text": [
            "  ✔ prompt3: infer_img() full-res ok\n",
            " Saved results to /content/drive/MyDrive/RQ1_Experiments/results/InternVL3-8B/RQ1_InternVL3-8B_8B_country_L2_prompt3_r1.json\n",
            "  ✔ prompt4: infer_img() full-res ok\n",
            " Saved results to /content/drive/MyDrive/RQ1_Experiments/results/InternVL3-8B/RQ1_InternVL3-8B_8B_country_L2_prompt4_r1.json\n",
            "------------------------------------------------------\n",
            "\n",
            "Processing 189/360: /content/drive/MyDrive/RQ1_Experiments/RQ1_Data_Batch1/Europe/Netherlands/Europe_Netherlands_photo_4c6bdc35361d1c31adf41c2894c6f44f7a34f82d_TOP.jpg\n"
          ]
        },
        {
          "output_type": "stream",
          "name": "stderr",
          "text": [
            "Setting `pad_token_id` to `eos_token_id`:151645 for open-end generation.\n",
            "Setting `pad_token_id` to `eos_token_id`:151645 for open-end generation.\n"
          ]
        },
        {
          "output_type": "stream",
          "name": "stdout",
          "text": [
            "  ✔ prompt1: infer_img() full-res ok\n",
            " Saved results to /content/drive/MyDrive/RQ1_Experiments/results/InternVL3-8B/RQ1_InternVL3-8B_8B_country_L2_prompt1_r1.json\n"
          ]
        },
        {
          "output_type": "stream",
          "name": "stderr",
          "text": [
            "Setting `pad_token_id` to `eos_token_id`:151645 for open-end generation.\n"
          ]
        },
        {
          "output_type": "stream",
          "name": "stdout",
          "text": [
            "  ✔ prompt2: infer_img() full-res ok\n",
            " Saved results to /content/drive/MyDrive/RQ1_Experiments/results/InternVL3-8B/RQ1_InternVL3-8B_8B_country_L2_prompt2_r1.json\n"
          ]
        },
        {
          "output_type": "stream",
          "name": "stderr",
          "text": [
            "Setting `pad_token_id` to `eos_token_id`:151645 for open-end generation.\n"
          ]
        },
        {
          "output_type": "stream",
          "name": "stdout",
          "text": [
            "  ✔ prompt3: infer_img() full-res ok\n",
            " Saved results to /content/drive/MyDrive/RQ1_Experiments/results/InternVL3-8B/RQ1_InternVL3-8B_8B_country_L2_prompt3_r1.json\n",
            "  ✔ prompt4: infer_img() full-res ok\n",
            " Saved results to /content/drive/MyDrive/RQ1_Experiments/results/InternVL3-8B/RQ1_InternVL3-8B_8B_country_L2_prompt4_r1.json\n",
            "------------------------------------------------------\n",
            "\n",
            "Processing 190/360: /content/drive/MyDrive/RQ1_Experiments/RQ1_Data_Batch1/Europe/Netherlands/Europe_Netherlands_photo_5c96dfa959cc580b97844238c9a7d5257280dd67_TOP.jpg\n"
          ]
        },
        {
          "output_type": "stream",
          "name": "stderr",
          "text": [
            "Setting `pad_token_id` to `eos_token_id`:151645 for open-end generation.\n",
            "Setting `pad_token_id` to `eos_token_id`:151645 for open-end generation.\n"
          ]
        },
        {
          "output_type": "stream",
          "name": "stdout",
          "text": [
            "  ✔ prompt1: infer_img() full-res ok\n",
            " Saved results to /content/drive/MyDrive/RQ1_Experiments/results/InternVL3-8B/RQ1_InternVL3-8B_8B_country_L2_prompt1_r1.json\n"
          ]
        },
        {
          "output_type": "stream",
          "name": "stderr",
          "text": [
            "Setting `pad_token_id` to `eos_token_id`:151645 for open-end generation.\n"
          ]
        },
        {
          "output_type": "stream",
          "name": "stdout",
          "text": [
            "  ✔ prompt2: infer_img() full-res ok\n",
            " Saved results to /content/drive/MyDrive/RQ1_Experiments/results/InternVL3-8B/RQ1_InternVL3-8B_8B_country_L2_prompt2_r1.json\n"
          ]
        }
      ],
      "execution_count": null
    },
    {
      "cell_type": "markdown",
      "source": [
        "### Download the zip file"
      ],
      "metadata": {
        "id": "K7bLfCc8-W_G"
      }
    },
    {
      "cell_type": "code",
      "source": [
        "archive = \"/content/results.tar.gz\"\n",
        "src_dir = \"/content/drive/MyDrive/RQ1_Experiments/results\"\n",
        "\n",
        "!tar -czf \"{archive}\" -C \"$(dirname \"{src_dir}\")\" \"$(basename \"{src_dir}\")\"\n",
        "\n",
        "from google.colab import files\n",
        "files.download(archive)\n"
      ],
      "metadata": {
        "trusted": true,
        "_kg_hide-output": false,
        "id": "ddh_UP4rfG00",
        "colab": {
          "base_uri": "https://localhost:8080/",
          "height": 86
        },
        "outputId": "a9d8c0ac-3fa4-4b93-85f1-47023dcbf8fa"
      },
      "outputs": [
        {
          "output_type": "stream",
          "name": "stdout",
          "text": [
            "tar: results/InternVL3-8B/RQ1_InternVL3-8B_8B_continent_prompt1_r1.json: file changed as we read it\n",
            "tar: results/InternVL3-8B/RQ1_InternVL3-8B_8B_continent_prompt2_r1.json: file changed as we read it\n",
            "tar: results/InternVL3-8B/RQ1_InternVL3-8B_8B_continent_prompt3_r1.json: file changed as we read it\n",
            "tar: results/InternVL3-8B/RQ1_InternVL3-8B_8B_continent_prompt4_r1.json: file changed as we read it\n"
          ]
        },
        {
          "output_type": "display_data",
          "data": {
            "text/plain": [
              "<IPython.core.display.Javascript object>"
            ],
            "application/javascript": [
              "\n",
              "    async function download(id, filename, size) {\n",
              "      if (!google.colab.kernel.accessAllowed) {\n",
              "        return;\n",
              "      }\n",
              "      const div = document.createElement('div');\n",
              "      const label = document.createElement('label');\n",
              "      label.textContent = `Downloading \"${filename}\": `;\n",
              "      div.appendChild(label);\n",
              "      const progress = document.createElement('progress');\n",
              "      progress.max = size;\n",
              "      div.appendChild(progress);\n",
              "      document.body.appendChild(div);\n",
              "\n",
              "      const buffers = [];\n",
              "      let downloaded = 0;\n",
              "\n",
              "      const channel = await google.colab.kernel.comms.open(id);\n",
              "      // Send a message to notify the kernel that we're ready.\n",
              "      channel.send({})\n",
              "\n",
              "      for await (const message of channel.messages) {\n",
              "        // Send a message to notify the kernel that we're ready.\n",
              "        channel.send({})\n",
              "        if (message.buffers) {\n",
              "          for (const buffer of message.buffers) {\n",
              "            buffers.push(buffer);\n",
              "            downloaded += buffer.byteLength;\n",
              "            progress.value = downloaded;\n",
              "          }\n",
              "        }\n",
              "      }\n",
              "      const blob = new Blob(buffers, {type: 'application/binary'});\n",
              "      const a = document.createElement('a');\n",
              "      a.href = window.URL.createObjectURL(blob);\n",
              "      a.download = filename;\n",
              "      div.appendChild(a);\n",
              "      a.click();\n",
              "      div.remove();\n",
              "    }\n",
              "  "
            ]
          },
          "metadata": {}
        },
        {
          "output_type": "display_data",
          "data": {
            "text/plain": [
              "<IPython.core.display.Javascript object>"
            ],
            "application/javascript": [
              "download(\"download_0783a9e9-b842-4975-ab6b-9d5e5323b5b2\", \"results.tar.gz\", 293615)"
            ]
          },
          "metadata": {}
        }
      ],
      "execution_count": null
    }
  ]
}