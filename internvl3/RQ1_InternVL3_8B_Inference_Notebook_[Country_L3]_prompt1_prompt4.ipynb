{
  "metadata": {
    "kernelspec": {
      "name": "python3",
      "display_name": "Python 3"
    },
    "language_info": {
      "name": "python",
      "version": "3.11.11",
      "mimetype": "text/x-python",
      "codemirror_mode": {
        "name": "ipython",
        "version": 3
      },
      "pygments_lexer": "ipython3",
      "nbconvert_exporter": "python",
      "file_extension": ".py"
    },
    "colab": {
      "provenance": [],
      "gpuType": "A100",
      "toc_visible": true
    },
    "accelerator": "GPU",
    "kaggle": {
      "accelerator": "nvidiaTeslaT4",
      "dataSources": [
        {
          "sourceId": 11683782,
          "sourceType": "datasetVersion",
          "datasetId": 7333143
        }
      ],
      "dockerImageVersionId": 31011,
      "isInternetEnabled": true,
      "language": "python",
      "sourceType": "notebook",
      "isGpuEnabled": true
    },
    "widgets": {
      "application/vnd.jupyter.widget-state+json": {
        "bcef8bfb65f94d42afcfc33e91e3bdd4": {
          "model_module": "@jupyter-widgets/controls",
          "model_name": "HBoxModel",
          "model_module_version": "1.5.0",
          "state": {
            "_dom_classes": [],
            "_model_module": "@jupyter-widgets/controls",
            "_model_module_version": "1.5.0",
            "_model_name": "HBoxModel",
            "_view_count": null,
            "_view_module": "@jupyter-widgets/controls",
            "_view_module_version": "1.5.0",
            "_view_name": "HBoxView",
            "box_style": "",
            "children": [
              "IPY_MODEL_503f40d168d14f3e99f58b1840b2c361",
              "IPY_MODEL_1cad886231b54d51b28e0c90b817de26",
              "IPY_MODEL_cd0fa4b0611845d5a0e0bba438f34c46"
            ],
            "layout": "IPY_MODEL_372abb28be3441b1a41af0e619944646"
          }
        },
        "503f40d168d14f3e99f58b1840b2c361": {
          "model_module": "@jupyter-widgets/controls",
          "model_name": "HTMLModel",
          "model_module_version": "1.5.0",
          "state": {
            "_dom_classes": [],
            "_model_module": "@jupyter-widgets/controls",
            "_model_module_version": "1.5.0",
            "_model_name": "HTMLModel",
            "_view_count": null,
            "_view_module": "@jupyter-widgets/controls",
            "_view_module_version": "1.5.0",
            "_view_name": "HTMLView",
            "description": "",
            "description_tooltip": null,
            "layout": "IPY_MODEL_0bf66e450163489eaffb607b72b95f3a",
            "placeholder": "​",
            "style": "IPY_MODEL_477da7a191534f338069b885f2070229",
            "value": "Loading checkpoint shards: 100%"
          }
        },
        "1cad886231b54d51b28e0c90b817de26": {
          "model_module": "@jupyter-widgets/controls",
          "model_name": "FloatProgressModel",
          "model_module_version": "1.5.0",
          "state": {
            "_dom_classes": [],
            "_model_module": "@jupyter-widgets/controls",
            "_model_module_version": "1.5.0",
            "_model_name": "FloatProgressModel",
            "_view_count": null,
            "_view_module": "@jupyter-widgets/controls",
            "_view_module_version": "1.5.0",
            "_view_name": "ProgressView",
            "bar_style": "success",
            "description": "",
            "description_tooltip": null,
            "layout": "IPY_MODEL_1a592b6ad3d54b41aac2fd038ba8d041",
            "max": 4,
            "min": 0,
            "orientation": "horizontal",
            "style": "IPY_MODEL_20623ea7744c4805b7877475df255e99",
            "value": 4
          }
        },
        "cd0fa4b0611845d5a0e0bba438f34c46": {
          "model_module": "@jupyter-widgets/controls",
          "model_name": "HTMLModel",
          "model_module_version": "1.5.0",
          "state": {
            "_dom_classes": [],
            "_model_module": "@jupyter-widgets/controls",
            "_model_module_version": "1.5.0",
            "_model_name": "HTMLModel",
            "_view_count": null,
            "_view_module": "@jupyter-widgets/controls",
            "_view_module_version": "1.5.0",
            "_view_name": "HTMLView",
            "description": "",
            "description_tooltip": null,
            "layout": "IPY_MODEL_a6346d1327b540dfbb9cb80cf2e3ea44",
            "placeholder": "​",
            "style": "IPY_MODEL_fa468132e2f042f3852440e795869d28",
            "value": " 4/4 [00:00&lt;00:00,  7.84it/s]"
          }
        },
        "372abb28be3441b1a41af0e619944646": {
          "model_module": "@jupyter-widgets/base",
          "model_name": "LayoutModel",
          "model_module_version": "1.2.0",
          "state": {
            "_model_module": "@jupyter-widgets/base",
            "_model_module_version": "1.2.0",
            "_model_name": "LayoutModel",
            "_view_count": null,
            "_view_module": "@jupyter-widgets/base",
            "_view_module_version": "1.2.0",
            "_view_name": "LayoutView",
            "align_content": null,
            "align_items": null,
            "align_self": null,
            "border": null,
            "bottom": null,
            "display": null,
            "flex": null,
            "flex_flow": null,
            "grid_area": null,
            "grid_auto_columns": null,
            "grid_auto_flow": null,
            "grid_auto_rows": null,
            "grid_column": null,
            "grid_gap": null,
            "grid_row": null,
            "grid_template_areas": null,
            "grid_template_columns": null,
            "grid_template_rows": null,
            "height": null,
            "justify_content": null,
            "justify_items": null,
            "left": null,
            "margin": null,
            "max_height": null,
            "max_width": null,
            "min_height": null,
            "min_width": null,
            "object_fit": null,
            "object_position": null,
            "order": null,
            "overflow": null,
            "overflow_x": null,
            "overflow_y": null,
            "padding": null,
            "right": null,
            "top": null,
            "visibility": null,
            "width": null
          }
        },
        "0bf66e450163489eaffb607b72b95f3a": {
          "model_module": "@jupyter-widgets/base",
          "model_name": "LayoutModel",
          "model_module_version": "1.2.0",
          "state": {
            "_model_module": "@jupyter-widgets/base",
            "_model_module_version": "1.2.0",
            "_model_name": "LayoutModel",
            "_view_count": null,
            "_view_module": "@jupyter-widgets/base",
            "_view_module_version": "1.2.0",
            "_view_name": "LayoutView",
            "align_content": null,
            "align_items": null,
            "align_self": null,
            "border": null,
            "bottom": null,
            "display": null,
            "flex": null,
            "flex_flow": null,
            "grid_area": null,
            "grid_auto_columns": null,
            "grid_auto_flow": null,
            "grid_auto_rows": null,
            "grid_column": null,
            "grid_gap": null,
            "grid_row": null,
            "grid_template_areas": null,
            "grid_template_columns": null,
            "grid_template_rows": null,
            "height": null,
            "justify_content": null,
            "justify_items": null,
            "left": null,
            "margin": null,
            "max_height": null,
            "max_width": null,
            "min_height": null,
            "min_width": null,
            "object_fit": null,
            "object_position": null,
            "order": null,
            "overflow": null,
            "overflow_x": null,
            "overflow_y": null,
            "padding": null,
            "right": null,
            "top": null,
            "visibility": null,
            "width": null
          }
        },
        "477da7a191534f338069b885f2070229": {
          "model_module": "@jupyter-widgets/controls",
          "model_name": "DescriptionStyleModel",
          "model_module_version": "1.5.0",
          "state": {
            "_model_module": "@jupyter-widgets/controls",
            "_model_module_version": "1.5.0",
            "_model_name": "DescriptionStyleModel",
            "_view_count": null,
            "_view_module": "@jupyter-widgets/base",
            "_view_module_version": "1.2.0",
            "_view_name": "StyleView",
            "description_width": ""
          }
        },
        "1a592b6ad3d54b41aac2fd038ba8d041": {
          "model_module": "@jupyter-widgets/base",
          "model_name": "LayoutModel",
          "model_module_version": "1.2.0",
          "state": {
            "_model_module": "@jupyter-widgets/base",
            "_model_module_version": "1.2.0",
            "_model_name": "LayoutModel",
            "_view_count": null,
            "_view_module": "@jupyter-widgets/base",
            "_view_module_version": "1.2.0",
            "_view_name": "LayoutView",
            "align_content": null,
            "align_items": null,
            "align_self": null,
            "border": null,
            "bottom": null,
            "display": null,
            "flex": null,
            "flex_flow": null,
            "grid_area": null,
            "grid_auto_columns": null,
            "grid_auto_flow": null,
            "grid_auto_rows": null,
            "grid_column": null,
            "grid_gap": null,
            "grid_row": null,
            "grid_template_areas": null,
            "grid_template_columns": null,
            "grid_template_rows": null,
            "height": null,
            "justify_content": null,
            "justify_items": null,
            "left": null,
            "margin": null,
            "max_height": null,
            "max_width": null,
            "min_height": null,
            "min_width": null,
            "object_fit": null,
            "object_position": null,
            "order": null,
            "overflow": null,
            "overflow_x": null,
            "overflow_y": null,
            "padding": null,
            "right": null,
            "top": null,
            "visibility": null,
            "width": null
          }
        },
        "20623ea7744c4805b7877475df255e99": {
          "model_module": "@jupyter-widgets/controls",
          "model_name": "ProgressStyleModel",
          "model_module_version": "1.5.0",
          "state": {
            "_model_module": "@jupyter-widgets/controls",
            "_model_module_version": "1.5.0",
            "_model_name": "ProgressStyleModel",
            "_view_count": null,
            "_view_module": "@jupyter-widgets/base",
            "_view_module_version": "1.2.0",
            "_view_name": "StyleView",
            "bar_color": null,
            "description_width": ""
          }
        },
        "a6346d1327b540dfbb9cb80cf2e3ea44": {
          "model_module": "@jupyter-widgets/base",
          "model_name": "LayoutModel",
          "model_module_version": "1.2.0",
          "state": {
            "_model_module": "@jupyter-widgets/base",
            "_model_module_version": "1.2.0",
            "_model_name": "LayoutModel",
            "_view_count": null,
            "_view_module": "@jupyter-widgets/base",
            "_view_module_version": "1.2.0",
            "_view_name": "LayoutView",
            "align_content": null,
            "align_items": null,
            "align_self": null,
            "border": null,
            "bottom": null,
            "display": null,
            "flex": null,
            "flex_flow": null,
            "grid_area": null,
            "grid_auto_columns": null,
            "grid_auto_flow": null,
            "grid_auto_rows": null,
            "grid_column": null,
            "grid_gap": null,
            "grid_row": null,
            "grid_template_areas": null,
            "grid_template_columns": null,
            "grid_template_rows": null,
            "height": null,
            "justify_content": null,
            "justify_items": null,
            "left": null,
            "margin": null,
            "max_height": null,
            "max_width": null,
            "min_height": null,
            "min_width": null,
            "object_fit": null,
            "object_position": null,
            "order": null,
            "overflow": null,
            "overflow_x": null,
            "overflow_y": null,
            "padding": null,
            "right": null,
            "top": null,
            "visibility": null,
            "width": null
          }
        },
        "fa468132e2f042f3852440e795869d28": {
          "model_module": "@jupyter-widgets/controls",
          "model_name": "DescriptionStyleModel",
          "model_module_version": "1.5.0",
          "state": {
            "_model_module": "@jupyter-widgets/controls",
            "_model_module_version": "1.5.0",
            "_model_name": "DescriptionStyleModel",
            "_view_count": null,
            "_view_module": "@jupyter-widgets/base",
            "_view_module_version": "1.2.0",
            "_view_name": "StyleView",
            "description_width": ""
          }
        }
      }
    }
  },
  "nbformat_minor": 0,
  "nbformat": 4,
  "cells": [
    {
      "cell_type": "markdown",
      "source": [
        "# Inference Notebook Template"
      ],
      "metadata": {
        "id": "CAIJIOZYqNvk"
      }
    },
    {
      "cell_type": "markdown",
      "source": [
        "Country Level 3 (L3) means-\n",
        "\n",
        "* With Continent as cue\n",
        "* With Explicit Country list"
      ],
      "metadata": {
        "id": "FI7w45YnbC3G"
      }
    },
    {
      "cell_type": "code",
      "source": [
        "import os\n",
        "os.environ[\"PYTORCH_CUDA_ALLOC_CONF\"]=\"expandable_segments:True\""
      ],
      "metadata": {
        "id": "asuwu-Pv8Y_j",
        "trusted": true,
        "execution": {
          "iopub.status.busy": "2025-10-06T09:47:09.782288Z",
          "iopub.execute_input": "2025-10-06T09:47:09.782542Z",
          "iopub.status.idle": "2025-10-06T09:47:09.792500Z",
          "shell.execute_reply.started": "2025-10-06T09:47:09.782518Z",
          "shell.execute_reply": "2025-10-06T09:47:09.791703Z"
        },
        "collapsed": true,
        "jupyter": {
          "outputs_hidden": true
        }
      },
      "outputs": [],
      "execution_count": 1
    },
    {
      "cell_type": "markdown",
      "source": [
        "🔨 TO BE MODIFIED 🔨"
      ],
      "metadata": {
        "id": "u0joxjB6AULA"
      }
    },
    {
      "cell_type": "code",
      "source": [
        "# TO BE MODIFIED\n",
        "\n",
        "\n",
        "!pip install git+https://github.com/huggingface/transformers.git"
      ],
      "metadata": {
        "id": "pr-3EqXMv8Dd",
        "trusted": true,
        "colab": {
          "base_uri": "https://localhost:8080/"
        },
        "outputId": "83ac71aa-7bf5-4327-d8bd-5484821ba798"
      },
      "outputs": [
        {
          "output_type": "stream",
          "name": "stdout",
          "text": [
            "Collecting git+https://github.com/huggingface/transformers.git\n",
            "  Cloning https://github.com/huggingface/transformers.git to /tmp/pip-req-build-a2q73jsu\n",
            "  Running command git clone --filter=blob:none --quiet https://github.com/huggingface/transformers.git /tmp/pip-req-build-a2q73jsu\n",
            "  Resolved https://github.com/huggingface/transformers.git to commit 76fc50a1527a7db593a6057903b749598f7000a9\n",
            "  Installing build dependencies ... \u001b[?25l\u001b[?25hdone\n",
            "  Getting requirements to build wheel ... \u001b[?25l\u001b[?25hdone\n",
            "  Preparing metadata (pyproject.toml) ... \u001b[?25l\u001b[?25hdone\n",
            "Requirement already satisfied: filelock in /usr/local/lib/python3.12/dist-packages (from transformers==5.0.0.dev0) (3.20.0)\n",
            "Collecting huggingface-hub==1.0.0.rc6 (from transformers==5.0.0.dev0)\n",
            "  Downloading huggingface_hub-1.0.0rc6-py3-none-any.whl.metadata (14 kB)\n",
            "Requirement already satisfied: numpy>=1.17 in /usr/local/lib/python3.12/dist-packages (from transformers==5.0.0.dev0) (2.0.2)\n",
            "Requirement already satisfied: packaging>=20.0 in /usr/local/lib/python3.12/dist-packages (from transformers==5.0.0.dev0) (25.0)\n",
            "Requirement already satisfied: pyyaml>=5.1 in /usr/local/lib/python3.12/dist-packages (from transformers==5.0.0.dev0) (6.0.3)\n",
            "Requirement already satisfied: regex!=2019.12.17 in /usr/local/lib/python3.12/dist-packages (from transformers==5.0.0.dev0) (2024.11.6)\n",
            "Requirement already satisfied: requests in /usr/local/lib/python3.12/dist-packages (from transformers==5.0.0.dev0) (2.32.4)\n",
            "Requirement already satisfied: tokenizers<=0.23.0,>=0.22.0 in /usr/local/lib/python3.12/dist-packages (from transformers==5.0.0.dev0) (0.22.1)\n",
            "Collecting typer-slim (from transformers==5.0.0.dev0)\n",
            "  Downloading typer_slim-0.20.0-py3-none-any.whl.metadata (16 kB)\n",
            "Requirement already satisfied: safetensors>=0.4.3 in /usr/local/lib/python3.12/dist-packages (from transformers==5.0.0.dev0) (0.6.2)\n",
            "Requirement already satisfied: tqdm>=4.27 in /usr/local/lib/python3.12/dist-packages (from transformers==5.0.0.dev0) (4.67.1)\n",
            "Requirement already satisfied: fsspec>=2023.5.0 in /usr/local/lib/python3.12/dist-packages (from huggingface-hub==1.0.0.rc6->transformers==5.0.0.dev0) (2025.3.0)\n",
            "Requirement already satisfied: httpx<1,>=0.23.0 in /usr/local/lib/python3.12/dist-packages (from huggingface-hub==1.0.0.rc6->transformers==5.0.0.dev0) (0.28.1)\n",
            "Requirement already satisfied: typing-extensions>=3.7.4.3 in /usr/local/lib/python3.12/dist-packages (from huggingface-hub==1.0.0.rc6->transformers==5.0.0.dev0) (4.15.0)\n",
            "Requirement already satisfied: hf-xet<2.0.0,>=1.1.3 in /usr/local/lib/python3.12/dist-packages (from huggingface-hub==1.0.0.rc6->transformers==5.0.0.dev0) (1.2.0)\n",
            "Requirement already satisfied: charset_normalizer<4,>=2 in /usr/local/lib/python3.12/dist-packages (from requests->transformers==5.0.0.dev0) (3.4.4)\n",
            "Requirement already satisfied: idna<4,>=2.5 in /usr/local/lib/python3.12/dist-packages (from requests->transformers==5.0.0.dev0) (3.11)\n",
            "Requirement already satisfied: urllib3<3,>=1.21.1 in /usr/local/lib/python3.12/dist-packages (from requests->transformers==5.0.0.dev0) (2.5.0)\n",
            "Requirement already satisfied: certifi>=2017.4.17 in /usr/local/lib/python3.12/dist-packages (from requests->transformers==5.0.0.dev0) (2025.10.5)\n",
            "Requirement already satisfied: click>=8.0.0 in /usr/local/lib/python3.12/dist-packages (from typer-slim->transformers==5.0.0.dev0) (8.3.0)\n",
            "Requirement already satisfied: anyio in /usr/local/lib/python3.12/dist-packages (from httpx<1,>=0.23.0->huggingface-hub==1.0.0.rc6->transformers==5.0.0.dev0) (4.11.0)\n",
            "Requirement already satisfied: httpcore==1.* in /usr/local/lib/python3.12/dist-packages (from httpx<1,>=0.23.0->huggingface-hub==1.0.0.rc6->transformers==5.0.0.dev0) (1.0.9)\n",
            "Requirement already satisfied: h11>=0.16 in /usr/local/lib/python3.12/dist-packages (from httpcore==1.*->httpx<1,>=0.23.0->huggingface-hub==1.0.0.rc6->transformers==5.0.0.dev0) (0.16.0)\n",
            "Requirement already satisfied: sniffio>=1.1 in /usr/local/lib/python3.12/dist-packages (from anyio->httpx<1,>=0.23.0->huggingface-hub==1.0.0.rc6->transformers==5.0.0.dev0) (1.3.1)\n",
            "Downloading huggingface_hub-1.0.0rc6-py3-none-any.whl (502 kB)\n",
            "\u001b[2K   \u001b[90m━━━━━━━━━━━━━━━━━━━━━━━━━━━━━━━━━━━━━━━━\u001b[0m \u001b[32m502.0/502.0 kB\u001b[0m \u001b[31m11.9 MB/s\u001b[0m eta \u001b[36m0:00:00\u001b[0m\n",
            "\u001b[?25hDownloading typer_slim-0.20.0-py3-none-any.whl (47 kB)\n",
            "\u001b[2K   \u001b[90m━━━━━━━━━━━━━━━━━━━━━━━━━━━━━━━━━━━━━━━━\u001b[0m \u001b[32m47.1/47.1 kB\u001b[0m \u001b[31m5.1 MB/s\u001b[0m eta \u001b[36m0:00:00\u001b[0m\n",
            "\u001b[?25hBuilding wheels for collected packages: transformers\n",
            "  Building wheel for transformers (pyproject.toml) ... \u001b[?25l\u001b[?25hdone\n",
            "  Created wheel for transformers: filename=transformers-5.0.0.dev0-py3-none-any.whl size=11349228 sha256=3cf69a9212a04c3906a675725d8bef74c816fb565eba56212e5c89a6f069806b\n",
            "  Stored in directory: /tmp/pip-ephem-wheel-cache-yshm8kok/wheels/54/cb/3f/83103de5575c534436d6a4686686dead458238dfaf1147e98d\n",
            "Successfully built transformers\n",
            "Installing collected packages: typer-slim, huggingface-hub, transformers\n",
            "  Attempting uninstall: huggingface-hub\n",
            "    Found existing installation: huggingface-hub 0.36.0\n",
            "    Uninstalling huggingface-hub-0.36.0:\n",
            "      Successfully uninstalled huggingface-hub-0.36.0\n",
            "  Attempting uninstall: transformers\n",
            "    Found existing installation: transformers 4.57.1\n",
            "    Uninstalling transformers-4.57.1:\n",
            "      Successfully uninstalled transformers-4.57.1\n",
            "\u001b[31mERROR: pip's dependency resolver does not currently take into account all the packages that are installed. This behaviour is the source of the following dependency conflicts.\n",
            "sentence-transformers 5.1.2 requires transformers<5.0.0,>=4.41.0, but you have transformers 5.0.0.dev0 which is incompatible.\u001b[0m\u001b[31m\n",
            "\u001b[0mSuccessfully installed huggingface-hub-1.0.0rc6 transformers-5.0.0.dev0 typer-slim-0.20.0\n"
          ]
        }
      ],
      "execution_count": 2
    },
    {
      "cell_type": "code",
      "source": [
        "from google.colab import drive\n",
        "drive.mount('/content/drive')\n"
      ],
      "metadata": {
        "colab": {
          "base_uri": "https://localhost:8080/"
        },
        "id": "ddHgu4dcI6dX",
        "outputId": "2da2f527-aad8-4fe7-8276-94504623532d"
      },
      "execution_count": 3,
      "outputs": [
        {
          "output_type": "stream",
          "name": "stdout",
          "text": [
            "Mounted at /content/drive\n"
          ]
        }
      ]
    },
    {
      "cell_type": "markdown",
      "source": [
        "## 📚 Helper: Save any results dict to JSON"
      ],
      "metadata": {
        "id": "xdjznrW9qc0Q"
      }
    },
    {
      "cell_type": "code",
      "source": [
        "import json, os\n",
        "\n",
        "\n",
        "def save_results(data: dict,\n",
        "                 model_name: str,\n",
        "                 variant: str,\n",
        "                 task: str,\n",
        "                 task_level: str,\n",
        "                 prompt_level: str,\n",
        "                 run_count: str,\n",
        "                 output_dir: str = \"/content/drive/MyDrive/RQ1_Experiments/results\"):\n",
        "    \"\"\"\n",
        "    Writes one JSON per prompt level (resilient for long runs).\n",
        "    Includes task_level so L2/L3 files never collide.\n",
        "    \"\"\"\n",
        "    model_dir = os.path.join(output_dir, model_name)\n",
        "    os.makedirs(model_dir, exist_ok=True)\n",
        "    fname    = f\"RQ1_{model_name}_{variant}_{task}_{task_level}_{prompt_level}_{run_count}.json\"\n",
        "    out_path = os.path.join(model_dir, fname)\n",
        "    with open(out_path, \"w\", encoding=\"utf-8\") as f:\n",
        "        json.dump(data, f, indent=4, ensure_ascii=False)\n",
        "    print(f\" Saved results to {out_path}\")\n",
        "\n"
      ],
      "metadata": {
        "id": "kN3sPhxbncaV",
        "trusted": true
      },
      "outputs": [],
      "execution_count": 17
    },
    {
      "cell_type": "markdown",
      "source": [
        "🔨 TO BE MODIFIED 🔨"
      ],
      "metadata": {
        "id": "pAcIsMuWAYUR"
      }
    },
    {
      "cell_type": "markdown",
      "source": [
        "### **Config**"
      ],
      "metadata": {
        "id": "FxQgmVxbK1eR"
      }
    },
    {
      "cell_type": "code",
      "source": [
        "MODEL_NAME   = 'InternVL3-8B'\n",
        "VARIANT      = '8B'\n",
        "RUN_COUNT    = 'r1'\n",
        "PROMPT_LEVEL = 'prompt1'        # will be overridden in the loop per prompt\n",
        "\n",
        "\n",
        "folder_path  = \"/content/drive/MyDrive/RQ1_Experiments/RQ1_Data_Batch1\"\n",
        "\n",
        "TASK = 'country'\n",
        "TASK_LEVEL = 'L3'\n",
        "\n",
        "# output root in Drive\n",
        "OUTPUT_DIR = \"/content/drive/MyDrive/RQ1_Experiments/results\"\n",
        "\n",
        "# Generation settings\n",
        "GEN_TEMPERATURE     = 0.3\n",
        "GEN_MAX_NEW_TOKENS  = 1024\n",
        "GEN_DO_SAMPLE       = False\n",
        "\n",
        "# InternVL3 vision tiling\n",
        "IMAGE_SIZE     = 448\n",
        "MAX_NUM_TILES  = 4\n",
        "FALLBACK_TILES = 3\n",
        "\n",
        "# Quantization: use \"none\" first. If OOM on load, set to \"bnb-8bit\".\n",
        "QUANTIZATION = \"none\"   # \"none\" | \"bnb-8bit\"\n"
      ],
      "metadata": {
        "id": "RQ4eV-fDff2R",
        "trusted": true
      },
      "outputs": [],
      "execution_count": 18
    },
    {
      "cell_type": "markdown",
      "source": [
        "### **Dataset discovery**"
      ],
      "metadata": {
        "id": "JZ9tQcqkLICQ"
      }
    },
    {
      "cell_type": "code",
      "source": [
        "import os\n",
        "\n",
        "def get_all_file_paths(root_dir):\n",
        "    file_paths = []\n",
        "    stack = [root_dir]\n",
        "    while stack:\n",
        "        current_dir = stack.pop()\n",
        "        with os.scandir(current_dir) as it:\n",
        "            for entry in it:\n",
        "                if entry.is_file() and entry.name.lower().endswith((\".jpg\",\".jpeg\",\".png\",\".webp\",\".bmp\")):\n",
        "                    file_paths.append(entry.path)\n",
        "                elif entry.is_dir():\n",
        "                    stack.append(entry.path)\n",
        "    return sorted(file_paths)\n",
        "\n",
        "assert os.path.exists(folder_path), f\"folder_path does not exist: {folder_path}\"\n",
        "image_paths = get_all_file_paths(folder_path)\n",
        "print(f\"Found {len(image_paths)} files.\")\n"
      ],
      "metadata": {
        "id": "hpauBMfqal3H",
        "trusted": true,
        "colab": {
          "base_uri": "https://localhost:8080/"
        },
        "outputId": "284ed7c3-31e0-48ce-8c6a-a10408747cc2"
      },
      "outputs": [
        {
          "output_type": "stream",
          "name": "stdout",
          "text": [
            "Found 360 files.\n"
          ]
        }
      ],
      "execution_count": 19
    },
    {
      "cell_type": "code",
      "source": [
        "print(image_paths)"
      ],
      "metadata": {
        "id": "jift23JybmLq",
        "trusted": true,
        "colab": {
          "base_uri": "https://localhost:8080/"
        },
        "outputId": "2e158d3f-e29a-477f-c940-7ca8976198b4"
      },
      "outputs": [
        {
          "output_type": "stream",
          "name": "stdout",
          "text": [
            "['/content/drive/MyDrive/RQ1_Experiments/RQ1_Data_Batch1/Africa/Benin/Africa_Benin_B1_MIDDLE.png', '/content/drive/MyDrive/RQ1_Experiments/RQ1_Data_Batch1/Africa/Benin/Africa_Benin_B3_MIDDLE.png', '/content/drive/MyDrive/RQ1_Experiments/RQ1_Data_Batch1/Africa/Benin/Africa_Benin_B4_MIDDLE.png', '/content/drive/MyDrive/RQ1_Experiments/RQ1_Data_Batch1/Africa/Benin/Africa_Benin_B7_MIDDLE.png', '/content/drive/MyDrive/RQ1_Experiments/RQ1_Data_Batch1/Africa/Benin/Africa_Benin_B8_MIDDLE.png', '/content/drive/MyDrive/RQ1_Experiments/RQ1_Data_Batch1/Africa/Benin/Africa_Benin_B9_MIDDLE.png', '/content/drive/MyDrive/RQ1_Experiments/RQ1_Data_Batch1/Africa/Cape Verde/Africa_Cape Verde_CV1_LAST.PNG', '/content/drive/MyDrive/RQ1_Experiments/RQ1_Data_Batch1/Africa/Cape Verde/Africa_Cape Verde_CV2_LAST.png', '/content/drive/MyDrive/RQ1_Experiments/RQ1_Data_Batch1/Africa/Cape Verde/Africa_Cape Verde_CV3_LAST.JPG', '/content/drive/MyDrive/RQ1_Experiments/RQ1_Data_Batch1/Africa/Cape Verde/Africa_Cape Verde_CV4_LAST.jpg', '/content/drive/MyDrive/RQ1_Experiments/RQ1_Data_Batch1/Africa/Cape Verde/Africa_Cape Verde_CV5_LAST.PNG', '/content/drive/MyDrive/RQ1_Experiments/RQ1_Data_Batch1/Africa/Eritrea/Africa_Eritrea_ER1_LAST.jpg', '/content/drive/MyDrive/RQ1_Experiments/RQ1_Data_Batch1/Africa/Eritrea/Africa_Eritrea_ER2_LAST.jpg', '/content/drive/MyDrive/RQ1_Experiments/RQ1_Data_Batch1/Africa/Eritrea/Africa_Eritrea_ER3_LAST.jpg', '/content/drive/MyDrive/RQ1_Experiments/RQ1_Data_Batch1/Africa/Eritrea/Africa_Eritrea_ER4_LAST.png', '/content/drive/MyDrive/RQ1_Experiments/RQ1_Data_Batch1/Africa/Eritrea/Africa_Eritrea_ER5_LAST.jpg', '/content/drive/MyDrive/RQ1_Experiments/RQ1_Data_Batch1/Africa/Eritrea/Africa_Eritrea_ER6_LAST.jpg', '/content/drive/MyDrive/RQ1_Experiments/RQ1_Data_Batch1/Africa/Eswatini/Africa_Eswatini_E1_LAST.JPG', '/content/drive/MyDrive/RQ1_Experiments/RQ1_Data_Batch1/Africa/Ethiopia/Africa_Ethiopia_E1_TOP.png', '/content/drive/MyDrive/RQ1_Experiments/RQ1_Data_Batch1/Africa/Ethiopia/Africa_Ethiopia_E2_TOP.png', '/content/drive/MyDrive/RQ1_Experiments/RQ1_Data_Batch1/Africa/Ethiopia/Africa_Ethiopia_E3_TOP.png', '/content/drive/MyDrive/RQ1_Experiments/RQ1_Data_Batch1/Africa/Ethiopia/Africa_Ethiopia_E4_TOP.png', '/content/drive/MyDrive/RQ1_Experiments/RQ1_Data_Batch1/Africa/Gambia/Africa_Gambia_G1_LAST.jpg', '/content/drive/MyDrive/RQ1_Experiments/RQ1_Data_Batch1/Africa/Malawi/Africa_Malawi_MW1_MIDDLE.JPG', '/content/drive/MyDrive/RQ1_Experiments/RQ1_Data_Batch1/Africa/Malawi/Africa_Malawi_MW2_MIDDLE.JPG', '/content/drive/MyDrive/RQ1_Experiments/RQ1_Data_Batch1/Africa/Malawi/Africa_Malawi_MW3_MIDDLE.JPG', '/content/drive/MyDrive/RQ1_Experiments/RQ1_Data_Batch1/Africa/Malawi/Africa_Malawi_MW4_MIDDLE.JPG', '/content/drive/MyDrive/RQ1_Experiments/RQ1_Data_Batch1/Africa/Morroco/Africa_Morroco_M1_TOP.png', '/content/drive/MyDrive/RQ1_Experiments/RQ1_Data_Batch1/Africa/Morroco/Africa_Morroco_M2_TOP.png', '/content/drive/MyDrive/RQ1_Experiments/RQ1_Data_Batch1/Africa/Morroco/Africa_Morroco_M3_TOP.png', '/content/drive/MyDrive/RQ1_Experiments/RQ1_Data_Batch1/Africa/Morroco/Africa_Morroco_M5J_TOP.png', '/content/drive/MyDrive/RQ1_Experiments/RQ1_Data_Batch1/Africa/Morroco/Africa_Morroco_M5_TOP.png', '/content/drive/MyDrive/RQ1_Experiments/RQ1_Data_Batch1/Africa/Morroco/Africa_Morroco_M8_TOP.png', '/content/drive/MyDrive/RQ1_Experiments/RQ1_Data_Batch1/Africa/Morroco/Africa_Morroco_M9_TOP.png', '/content/drive/MyDrive/RQ1_Experiments/RQ1_Data_Batch1/Africa/Rwanda/Africa_Rwanda_RW1_MIDDLE.JPG', '/content/drive/MyDrive/RQ1_Experiments/RQ1_Data_Batch1/Africa/Rwanda/Africa_Rwanda_RW2_MIDDLE.PNG', '/content/drive/MyDrive/RQ1_Experiments/RQ1_Data_Batch1/Africa/Senegal/Africa_Senegal_FTY_TOP.png', '/content/drive/MyDrive/RQ1_Experiments/RQ1_Data_Batch1/Africa/Senegal/Africa_Senegal_SNHYUU_TOP.png', '/content/drive/MyDrive/RQ1_Experiments/RQ1_Data_Batch1/Africa/Senegal/Africa_Senegal_SNJU_TOP.png', '/content/drive/MyDrive/RQ1_Experiments/RQ1_Data_Batch1/Africa/Senegal/Africa_Senegal_SNY7_TOP.png', '/content/drive/MyDrive/RQ1_Experiments/RQ1_Data_Batch1/Africa/South Africa/Africa_South Africa_S2_TOP.png', '/content/drive/MyDrive/RQ1_Experiments/RQ1_Data_Batch1/Africa/South Africa/Africa_South Africa_S54_TOP.png', '/content/drive/MyDrive/RQ1_Experiments/RQ1_Data_Batch1/Africa/South Africa/Africa_South Africa_S56_TOP.png', '/content/drive/MyDrive/RQ1_Experiments/RQ1_Data_Batch1/Africa/South Africa/Africa_South Africa_S57_TOP.png', '/content/drive/MyDrive/RQ1_Experiments/RQ1_Data_Batch1/Africa/South Africa/Africa_South Africa_S59_TOP.png', '/content/drive/MyDrive/RQ1_Experiments/RQ1_Data_Batch1/Africa/South Africa/Africa_South Africa_S67_TOP.png', '/content/drive/MyDrive/RQ1_Experiments/RQ1_Data_Batch1/Africa/South Africa/Africa_South Africa_S87_TOP.png', '/content/drive/MyDrive/RQ1_Experiments/RQ1_Data_Batch1/Africa/Sudan/Africa_Sudan_DERTT_TOP.png', '/content/drive/MyDrive/RQ1_Experiments/RQ1_Data_Batch1/Africa/Sudan/Africa_Sudan_SS1_TOP.PNG', '/content/drive/MyDrive/RQ1_Experiments/RQ1_Data_Batch1/Africa/Sudan/Africa_Sudan_SS2_TOP.png', '/content/drive/MyDrive/RQ1_Experiments/RQ1_Data_Batch1/Africa/Sudan/Africa_Sudan_SS3_TOP.PNG', '/content/drive/MyDrive/RQ1_Experiments/RQ1_Data_Batch1/Africa/Sudan/Africa_Sudan_SS4_TOP.png', '/content/drive/MyDrive/RQ1_Experiments/RQ1_Data_Batch1/Africa/Sudan/Africa_Sudan_SUDRTT_TOP.png', '/content/drive/MyDrive/RQ1_Experiments/RQ1_Data_Batch1/Africa/Sudan/Africa_Sudan_SUGHH_TOP.png', '/content/drive/MyDrive/RQ1_Experiments/RQ1_Data_Batch1/Africa/Sudan/Africa_Sudan_SUKII_TOP.png', '/content/drive/MyDrive/RQ1_Experiments/RQ1_Data_Batch1/Africa/Sudan/Africa_Sudan_SUTI_TOP.png', '/content/drive/MyDrive/RQ1_Experiments/RQ1_Data_Batch1/Africa/Zimbabwe/Africa_Zimbabwe_ZIM1_MIDDLE.png', '/content/drive/MyDrive/RQ1_Experiments/RQ1_Data_Batch1/Africa/Zimbabwe/Africa_Zimbabwe_ZIM2_MIDDLE.png', '/content/drive/MyDrive/RQ1_Experiments/RQ1_Data_Batch1/Africa/Zimbabwe/Africa_Zimbabwe_ZIM3_MIDDLE.png', '/content/drive/MyDrive/RQ1_Experiments/RQ1_Data_Batch1/Africa/Zimbabwe/Africa_Zimbabwe_ZIM4_MIDDLE.png', '/content/drive/MyDrive/RQ1_Experiments/RQ1_Data_Batch1/Asia/Azerbaijan/Asia_Azerbaijan_AJ1_MIDDLE.jpg', '/content/drive/MyDrive/RQ1_Experiments/RQ1_Data_Batch1/Asia/Azerbaijan/Asia_Azerbaijan_AJ2_MIDDLE.jpg', '/content/drive/MyDrive/RQ1_Experiments/RQ1_Data_Batch1/Asia/Bhutan/Asia_Bhutan_BT1_LAST.jpg', '/content/drive/MyDrive/RQ1_Experiments/RQ1_Data_Batch1/Asia/Bhutan/Asia_Bhutan_BT2_LAST.jpg', '/content/drive/MyDrive/RQ1_Experiments/RQ1_Data_Batch1/Asia/Bhutan/Asia_Bhutan_BT3_LAST.JPG', '/content/drive/MyDrive/RQ1_Experiments/RQ1_Data_Batch1/Asia/Bhutan/Asia_Bhutan_BT4_LAST.jpg', '/content/drive/MyDrive/RQ1_Experiments/RQ1_Data_Batch1/Asia/Bhutan/Asia_Bhutan_BT5_LAST.jpg', '/content/drive/MyDrive/RQ1_Experiments/RQ1_Data_Batch1/Asia/Bhutan/Asia_Bhutan_BT6_LAST.jpg', '/content/drive/MyDrive/RQ1_Experiments/RQ1_Data_Batch1/Asia/Bhutan/Asia_Bhutan_BT7_LAST.jpg', '/content/drive/MyDrive/RQ1_Experiments/RQ1_Data_Batch1/Asia/Cambodia/Asia_Cambodia_C1_MIDDLE.jpg', '/content/drive/MyDrive/RQ1_Experiments/RQ1_Data_Batch1/Asia/Cambodia/Asia_Cambodia_C2_MIDDLE.jpg', '/content/drive/MyDrive/RQ1_Experiments/RQ1_Data_Batch1/Asia/Cambodia/Asia_Cambodia_C3_MIDDLE.jpg', '/content/drive/MyDrive/RQ1_Experiments/RQ1_Data_Batch1/Asia/Cambodia/Asia_Cambodia_C4_MIDDLE.jpeg', '/content/drive/MyDrive/RQ1_Experiments/RQ1_Data_Batch1/Asia/China/Asia_China_photo_060139e9d31209b5b9faec190d3667881e0d89fb_TOP.jpg', '/content/drive/MyDrive/RQ1_Experiments/RQ1_Data_Batch1/Asia/China/Asia_China_photo_0b8e1f833d9e2e70faf55dad1f070656ec0574b6_TOP.jpg', '/content/drive/MyDrive/RQ1_Experiments/RQ1_Data_Batch1/Asia/China/Asia_China_photo_189f1d7c5bab94934d189e2ca3ba0b923f96f983_TOP.jpg', '/content/drive/MyDrive/RQ1_Experiments/RQ1_Data_Batch1/Asia/China/Asia_China_photo_1bf10cdecb8c414a8a6e8ca509205fd64d59823b_TOP.jpg', '/content/drive/MyDrive/RQ1_Experiments/RQ1_Data_Batch1/Asia/China/Asia_China_photo_3a52b1ea95225e28c560c4995339bfee14247335_TOP.jpg', '/content/drive/MyDrive/RQ1_Experiments/RQ1_Data_Batch1/Asia/China/Asia_China_photo_41e996c991bbef7508711c93d7549281f35a9f59_TOP.jpg', '/content/drive/MyDrive/RQ1_Experiments/RQ1_Data_Batch1/Asia/China/Asia_China_photo_48e604d9da848f7c05f5bce29a93f3aa9f533a51_TOP.jpg', '/content/drive/MyDrive/RQ1_Experiments/RQ1_Data_Batch1/Asia/China/Asia_China_photo_73e93182aad5840f8199a0cc9c53ad81ae42b52c_TOP.jpg', '/content/drive/MyDrive/RQ1_Experiments/RQ1_Data_Batch1/Asia/China/Asia_China_photo_7918448abf7479ef8bd75140595da0de8ce0248e_TOP.jpg', '/content/drive/MyDrive/RQ1_Experiments/RQ1_Data_Batch1/Asia/China/Asia_China_photo_8dafe2684059db3626bb1ec65178684a4ed929bf_TOP.jpg', '/content/drive/MyDrive/RQ1_Experiments/RQ1_Data_Batch1/Asia/China/Asia_China_photo_b196f14dc2701c21b023a6ac7ec8135de536fa76_TOP.jpg', '/content/drive/MyDrive/RQ1_Experiments/RQ1_Data_Batch1/Asia/China/Asia_China_photo_b828aa2dc8c3703612f1bb1de3f7fdd9d9317b18_TOP.jpg', '/content/drive/MyDrive/RQ1_Experiments/RQ1_Data_Batch1/Asia/India/Asia_India_photo_04e1efee6ade79b20d849ae792b755d73b272885_TOP.jpg', '/content/drive/MyDrive/RQ1_Experiments/RQ1_Data_Batch1/Asia/India/Asia_India_photo_449ab0899a59be212624bb189af8db2ce1c0c840_TOP.jpg', '/content/drive/MyDrive/RQ1_Experiments/RQ1_Data_Batch1/Asia/India/Asia_India_photo_4cbf400360349173df7f85497a55b5f3e05efc73_TOP.jpg', '/content/drive/MyDrive/RQ1_Experiments/RQ1_Data_Batch1/Asia/India/Asia_India_photo_5330250b8c011663b241aad769af116d5662c5e6_TOP.jpg', '/content/drive/MyDrive/RQ1_Experiments/RQ1_Data_Batch1/Asia/Iran/Asia_Iran_photo_122b989ef652bbf9f48ac7b92643dcb5a26a065c_TOP.jpg', '/content/drive/MyDrive/RQ1_Experiments/RQ1_Data_Batch1/Asia/Iran/Asia_Iran_photo_1c6ecc88ebd3ee21aff5672c259b1c413d3d7404_TOP.jpg', '/content/drive/MyDrive/RQ1_Experiments/RQ1_Data_Batch1/Asia/Iran/Asia_Iran_photo_5f854af669aec6c09017bccaeb26790f47b600ac_TOP.jpg', '/content/drive/MyDrive/RQ1_Experiments/RQ1_Data_Batch1/Asia/Iran/Asia_Iran_photo_70bbf486cafbc2abc010d5d67da107fdcce66664_TOP.jpg', '/content/drive/MyDrive/RQ1_Experiments/RQ1_Data_Batch1/Asia/Iran/Asia_Iran_photo_7782ff61d56c90e3e93166287a24a48b4759db95_TOP.jpg', '/content/drive/MyDrive/RQ1_Experiments/RQ1_Data_Batch1/Asia/Iran/Asia_Iran_photo_8bd57bd02fc2955c9a305eb7bbfbd95f3f5094a8_TOP.jpg', '/content/drive/MyDrive/RQ1_Experiments/RQ1_Data_Batch1/Asia/Iran/Asia_Iran_photo_965cc87a78fb1e22881cd1c1003d6d69b0a9c11a_TOP.jpg', '/content/drive/MyDrive/RQ1_Experiments/RQ1_Data_Batch1/Asia/Iran/Asia_Iran_photo_a992d97c867ad7aa24ad73b9349cddec9b61bc45_TOP.jpg', '/content/drive/MyDrive/RQ1_Experiments/RQ1_Data_Batch1/Asia/Iran/Asia_Iran_photo_b6c3b7f0c64fd769a2f7b562fde6040a32adff3e_TOP.jpg', '/content/drive/MyDrive/RQ1_Experiments/RQ1_Data_Batch1/Asia/Iran/Asia_Iran_photo_cb4e6ba490dbaf14146a91afc0c4b244654f5dea_TOP.jpg', '/content/drive/MyDrive/RQ1_Experiments/RQ1_Data_Batch1/Asia/Iran/Asia_Iran_photo_ce911e80ce8d79d19bc25df5ced7495090fa88c7_TOP.jpg', '/content/drive/MyDrive/RQ1_Experiments/RQ1_Data_Batch1/Asia/Iran/Asia_Iran_photo_e6caf6338d8d3f3d34916ef0c9afc4b0635effe4_TOP.jpg', '/content/drive/MyDrive/RQ1_Experiments/RQ1_Data_Batch1/Asia/Iran/Asia_Iran_photo_fa551b797d5939add82bda2ccb7f5601e17cd0bf_TOP.jpg', '/content/drive/MyDrive/RQ1_Experiments/RQ1_Data_Batch1/Asia/Israel/Asia_Israel_photo_18139d2e443cea10cee58f6be02e2380abc9d3ca_MIDDLE.jpg', '/content/drive/MyDrive/RQ1_Experiments/RQ1_Data_Batch1/Asia/Israel/Asia_Israel_photo_26c1047ed05ba2fb2ee72fb4fd40a87921473059_MIDDLE.jpg', '/content/drive/MyDrive/RQ1_Experiments/RQ1_Data_Batch1/Asia/Japan/Asia_Japan_photo_06a54f45f3d279e2aca65938c0986eab4e1103c5_TOP.jpg', '/content/drive/MyDrive/RQ1_Experiments/RQ1_Data_Batch1/Asia/Japan/Asia_Japan_photo_67992d2e41e5b767898c4a95053b4e08e882b60e_TOP.jpg', '/content/drive/MyDrive/RQ1_Experiments/RQ1_Data_Batch1/Asia/Jordan/Asia_Jordan_J1_MIDDLE.jpeg', '/content/drive/MyDrive/RQ1_Experiments/RQ1_Data_Batch1/Asia/Jordan/Asia_Jordan_J2_MIDDLE.jpeg', '/content/drive/MyDrive/RQ1_Experiments/RQ1_Data_Batch1/Asia/Jordan/Asia_Jordan_J3_MIDDLE.jpeg', '/content/drive/MyDrive/RQ1_Experiments/RQ1_Data_Batch1/Asia/Jordan/Asia_Jordan_J4_MIDDLE.jpg', '/content/drive/MyDrive/RQ1_Experiments/RQ1_Data_Batch1/Asia/Jordan/Asia_Jordan_J5_MIDDLE.JPG', '/content/drive/MyDrive/RQ1_Experiments/RQ1_Data_Batch1/Asia/Kazakhstan/Asia_Kazakhstan_KS1_MIDDLE.jpg', '/content/drive/MyDrive/RQ1_Experiments/RQ1_Data_Batch1/Asia/Kazakhstan/Asia_Kazakhstan_KS2_MIDDLE.jpg', '/content/drive/MyDrive/RQ1_Experiments/RQ1_Data_Batch1/Asia/Kazakhstan/Asia_Kazakhstan_KS3_MIDDLE.jpg', '/content/drive/MyDrive/RQ1_Experiments/RQ1_Data_Batch1/Asia/Kazakhstan/Asia_Kazakhstan_KS4_MIDDLE.jpg', '/content/drive/MyDrive/RQ1_Experiments/RQ1_Data_Batch1/Asia/Kuwait/Asia_Kuwait_K1_LAST.jpg', '/content/drive/MyDrive/RQ1_Experiments/RQ1_Data_Batch1/Asia/Kuwait/Asia_Kuwait_K2_LAST.JPG', '/content/drive/MyDrive/RQ1_Experiments/RQ1_Data_Batch1/Asia/Kuwait/Asia_Kuwait_K3_LAST.JPG', '/content/drive/MyDrive/RQ1_Experiments/RQ1_Data_Batch1/Asia/Kuwait/Asia_Kuwait_K4_LAST.jpg', '/content/drive/MyDrive/RQ1_Experiments/RQ1_Data_Batch1/Asia/Kuwait/Asia_Kuwait_K5_LAST.jpg', '/content/drive/MyDrive/RQ1_Experiments/RQ1_Data_Batch1/Asia/Kuwait/Asia_Kuwait_K6_LAST.jpg', '/content/drive/MyDrive/RQ1_Experiments/RQ1_Data_Batch1/Asia/Kuwait/Asia_Kuwait_K7_LAST.jpg', '/content/drive/MyDrive/RQ1_Experiments/RQ1_Data_Batch1/Asia/Kyrgyzstan/Asia_Kyrgyzstan_KS1_MIDDLE.jpg', '/content/drive/MyDrive/RQ1_Experiments/RQ1_Data_Batch1/Asia/Kyrgyzstan/Asia_Kyrgyzstan_KS2_MIDDLE.jpg', '/content/drive/MyDrive/RQ1_Experiments/RQ1_Data_Batch1/Asia/Kyrgyzstan/Asia_Kyrgyzstan_KS3_MIDDLE.jpg', '/content/drive/MyDrive/RQ1_Experiments/RQ1_Data_Batch1/Asia/Kyrgyzstan/Asia_Kyrgyzstan_KS4_MIDDLE.jpg', '/content/drive/MyDrive/RQ1_Experiments/RQ1_Data_Batch1/Asia/Kyrgyzstan/Asia_Kyrgyzstan_KS5_MIDDLE.jpg', '/content/drive/MyDrive/RQ1_Experiments/RQ1_Data_Batch1/Asia/Kyrgyzstan/Asia_Kyrgyzstan_KS6_MIDDLE.jpg', '/content/drive/MyDrive/RQ1_Experiments/RQ1_Data_Batch1/Asia/Kyrgyzstan/Asia_Kyrgyzstan_KS7_MIDDLE.PNG', '/content/drive/MyDrive/RQ1_Experiments/RQ1_Data_Batch1/Asia/Malaysia/Asia_Malaysia_photo_2106db10e167bb0f1e96ed82859c2baba0ede69a_TOP.jpg', '/content/drive/MyDrive/RQ1_Experiments/RQ1_Data_Batch1/Asia/Malaysia/Asia_Malaysia_photo_2796a95715c44f41de81b64f61a37552831c0e91_TOP.jpg', '/content/drive/MyDrive/RQ1_Experiments/RQ1_Data_Batch1/Asia/Malaysia/Asia_Malaysia_photo_779439174012b4a46a14d087aa3f0aa20ea2b264_TOP.jpg', '/content/drive/MyDrive/RQ1_Experiments/RQ1_Data_Batch1/Asia/Malaysia/Asia_Malaysia_photo_797ecb961ef100d4e8bf5566ab214aa3023b20ed_TOP.jpg', '/content/drive/MyDrive/RQ1_Experiments/RQ1_Data_Batch1/Asia/Malaysia/Asia_Malaysia_photo_84b53d74822d80749b4797a05c9085efae19bf16_TOP.jpg', '/content/drive/MyDrive/RQ1_Experiments/RQ1_Data_Batch1/Asia/Malaysia/Asia_Malaysia_photo_9425f3e01bab0d5164f26982508b3d7514dc06ac_TOP.jpg', '/content/drive/MyDrive/RQ1_Experiments/RQ1_Data_Batch1/Asia/Malaysia/Asia_Malaysia_photo_b0bd1ce9489b70401b4b523fca32150442a288ea_TOP.jpg', '/content/drive/MyDrive/RQ1_Experiments/RQ1_Data_Batch1/Asia/Mongolia/Asia_Mongolia_M1_LAST.JPG', '/content/drive/MyDrive/RQ1_Experiments/RQ1_Data_Batch1/Asia/Mongolia/Asia_Mongolia_M2_LAST.JPG', '/content/drive/MyDrive/RQ1_Experiments/RQ1_Data_Batch1/Asia/Mongolia/Asia_Mongolia_M3_LAST.JPG', '/content/drive/MyDrive/RQ1_Experiments/RQ1_Data_Batch1/Asia/Mongolia/Asia_Mongolia_M4_LAST.JPG', '/content/drive/MyDrive/RQ1_Experiments/RQ1_Data_Batch1/Asia/Mongolia/Asia_Mongolia_M_LAST.jpg', '/content/drive/MyDrive/RQ1_Experiments/RQ1_Data_Batch1/Asia/Oman/Asia_Oman_O1_LAST.jpg', '/content/drive/MyDrive/RQ1_Experiments/RQ1_Data_Batch1/Asia/Qatar/Asia_Qatar_Q1_LAST.jpg', '/content/drive/MyDrive/RQ1_Experiments/RQ1_Data_Batch1/Asia/Qatar/Asia_Qatar_Q2_LAST.jpg', '/content/drive/MyDrive/RQ1_Experiments/RQ1_Data_Batch1/Asia/South Korea/Asia_South Korea_photo_92c2554a098a8e5f208a383c18a0ff3bec9d41fb_TOP.jpg', '/content/drive/MyDrive/RQ1_Experiments/RQ1_Data_Batch1/Asia/South Korea/Asia_South Korea_photo_a591201e1a6e506f6d415812c82f1039f16a515c_TOP.jpg', '/content/drive/MyDrive/RQ1_Experiments/RQ1_Data_Batch1/Asia/South Korea/Asia_South Korea_photo_bffe7e9c9d03a574a8440d04c2c1f5a21e63b421_TOP.jpg', '/content/drive/MyDrive/RQ1_Experiments/RQ1_Data_Batch1/Asia/South Korea/Asia_South Korea_photo_e891acc039e53a86a638ad8bb8ab695cc3d82ac5_TOP.jpg', '/content/drive/MyDrive/RQ1_Experiments/RQ1_Data_Batch1/Asia/Taiwan/Asia_Taiwan_photo_1b442859483ed8752d463d62d84980bc4aa06979_TOP.jpg', '/content/drive/MyDrive/RQ1_Experiments/RQ1_Data_Batch1/Asia/Taiwan/Asia_Taiwan_photo_1df3f9614350ff030b4cb523385fa5952f7349ce_TOP.jpg', '/content/drive/MyDrive/RQ1_Experiments/RQ1_Data_Batch1/Asia/Thailand/Asia_Thailand_photo_3f16e64220c6d121e51ac6f40b5c432122219bcd_TOP.jpg', '/content/drive/MyDrive/RQ1_Experiments/RQ1_Data_Batch1/Asia/Thailand/Asia_Thailand_photo_4a17a5310c4c25f0807f10564c7c84a5d38b82d1_TOP.jpg', '/content/drive/MyDrive/RQ1_Experiments/RQ1_Data_Batch1/Asia/Thailand/Asia_Thailand_photo_4ded577868f5b3c33a85386e3448d0c4e02d056e_TOP.jpg', '/content/drive/MyDrive/RQ1_Experiments/RQ1_Data_Batch1/Europe/Faroe Islands/Europe_Faroe Islands_FI1_LAST.jpg', '/content/drive/MyDrive/RQ1_Experiments/RQ1_Data_Batch1/Europe/Faroe Islands/Europe_Faroe Islands_FI2_LAST.jpg', '/content/drive/MyDrive/RQ1_Experiments/RQ1_Data_Batch1/Europe/Gibraltar/Europe_Gibraltar_GIB1_LAST.png', '/content/drive/MyDrive/RQ1_Experiments/RQ1_Data_Batch1/Europe/Gibraltar/Europe_Gibraltar_GIB2_LAST.png', '/content/drive/MyDrive/RQ1_Experiments/RQ1_Data_Batch1/Europe/Gibraltar/Europe_Gibraltar_GIB3_LAST.jpg', '/content/drive/MyDrive/RQ1_Experiments/RQ1_Data_Batch1/Europe/Iceland/Europe_Iceland_IL10_LAST.jpg', '/content/drive/MyDrive/RQ1_Experiments/RQ1_Data_Batch1/Europe/Iceland/Europe_Iceland_IL11_LAST.jpg', '/content/drive/MyDrive/RQ1_Experiments/RQ1_Data_Batch1/Europe/Iceland/Europe_Iceland_IL1_LAST.png', '/content/drive/MyDrive/RQ1_Experiments/RQ1_Data_Batch1/Europe/Iceland/Europe_Iceland_IL2_LAST.jpg', '/content/drive/MyDrive/RQ1_Experiments/RQ1_Data_Batch1/Europe/Iceland/Europe_Iceland_IL3_LAST.JPG', '/content/drive/MyDrive/RQ1_Experiments/RQ1_Data_Batch1/Europe/Iceland/Europe_Iceland_IL4_LAST.jpg', '/content/drive/MyDrive/RQ1_Experiments/RQ1_Data_Batch1/Europe/Iceland/Europe_Iceland_IL5_LAST.jpg', '/content/drive/MyDrive/RQ1_Experiments/RQ1_Data_Batch1/Europe/Iceland/Europe_Iceland_IL6_LAST.jpg', '/content/drive/MyDrive/RQ1_Experiments/RQ1_Data_Batch1/Europe/Iceland/Europe_Iceland_IL7_LAST.jpg', '/content/drive/MyDrive/RQ1_Experiments/RQ1_Data_Batch1/Europe/Iceland/Europe_Iceland_IL8_LAST.jpg', '/content/drive/MyDrive/RQ1_Experiments/RQ1_Data_Batch1/Europe/Iceland/Europe_Iceland_IL9_LAST.jpg', '/content/drive/MyDrive/RQ1_Experiments/RQ1_Data_Batch1/Europe/Ireland/Europe_Ireland_IRL1_MIDDLE.jpg', '/content/drive/MyDrive/RQ1_Experiments/RQ1_Data_Batch1/Europe/Ireland/Europe_Ireland_IRL2_MIDDLE.jpg', '/content/drive/MyDrive/RQ1_Experiments/RQ1_Data_Batch1/Europe/Ireland/Europe_Ireland_IRL3_MIDDLE.jpg', '/content/drive/MyDrive/RQ1_Experiments/RQ1_Data_Batch1/Europe/Ireland/Europe_Ireland_IRL4_MIDDLE.jpg', '/content/drive/MyDrive/RQ1_Experiments/RQ1_Data_Batch1/Europe/Ireland/Europe_Ireland_IRL5_MIDDLE.jpg', '/content/drive/MyDrive/RQ1_Experiments/RQ1_Data_Batch1/Europe/Ireland/Europe_Ireland_IRL6_MIDDLE.jpg', '/content/drive/MyDrive/RQ1_Experiments/RQ1_Data_Batch1/Europe/Ireland/Europe_Ireland_IRL7_MIDDLE.jpg', '/content/drive/MyDrive/RQ1_Experiments/RQ1_Data_Batch1/Europe/Latvia/Europe_Latvia_L1_LAST.JPG', '/content/drive/MyDrive/RQ1_Experiments/RQ1_Data_Batch1/Europe/Latvia/Europe_Latvia_L2_LAST.JPG', '/content/drive/MyDrive/RQ1_Experiments/RQ1_Data_Batch1/Europe/Latvia/Europe_Latvia_L3_LAST.JPG', '/content/drive/MyDrive/RQ1_Experiments/RQ1_Data_Batch1/Europe/Latvia/Europe_Latvia_L4_LAST.png', '/content/drive/MyDrive/RQ1_Experiments/RQ1_Data_Batch1/Europe/Latvia/Europe_Latvia_L5_LAST.jpg', '/content/drive/MyDrive/RQ1_Experiments/RQ1_Data_Batch1/Europe/Latvia/Europe_Latvia_L6_LAST.png', '/content/drive/MyDrive/RQ1_Experiments/RQ1_Data_Batch1/Europe/Latvia/Europe_Latvia_L7_LAST.jpg', '/content/drive/MyDrive/RQ1_Experiments/RQ1_Data_Batch1/Europe/Latvia/Europe_Latvia_L8_LAST.jpg', '/content/drive/MyDrive/RQ1_Experiments/RQ1_Data_Batch1/Europe/Netherlands/Europe_Netherlands_photo_0acc303d41a4878dab681ca40b72e151b1d37877_TOP.jpg', '/content/drive/MyDrive/RQ1_Experiments/RQ1_Data_Batch1/Europe/Netherlands/Europe_Netherlands_photo_0cfb771f39148e6470d1dbb0ff110923ac705951_TOP.jpg', '/content/drive/MyDrive/RQ1_Experiments/RQ1_Data_Batch1/Europe/Netherlands/Europe_Netherlands_photo_0dacf6fede368e6fc99918fc04dfb0e01f2c73e7_TOP.jpg', '/content/drive/MyDrive/RQ1_Experiments/RQ1_Data_Batch1/Europe/Netherlands/Europe_Netherlands_photo_2906cbd55c848dce242462ace6878c2ed5bf107b_TOP.jpg', '/content/drive/MyDrive/RQ1_Experiments/RQ1_Data_Batch1/Europe/Netherlands/Europe_Netherlands_photo_4c6bdc35361d1c31adf41c2894c6f44f7a34f82d_TOP.jpg', '/content/drive/MyDrive/RQ1_Experiments/RQ1_Data_Batch1/Europe/Netherlands/Europe_Netherlands_photo_5c96dfa959cc580b97844238c9a7d5257280dd67_TOP.jpg', '/content/drive/MyDrive/RQ1_Experiments/RQ1_Data_Batch1/Europe/Netherlands/Europe_Netherlands_photo_5d1df1eb19ce102e8d68dc33e7ed8b8d781d5f50_TOP.jpg', '/content/drive/MyDrive/RQ1_Experiments/RQ1_Data_Batch1/Europe/Netherlands/Europe_Netherlands_photo_84b9f078fb7c9cdbbd54a9035cfe60d14d30136d_TOP.jpg', '/content/drive/MyDrive/RQ1_Experiments/RQ1_Data_Batch1/Europe/Netherlands/Europe_Netherlands_photo_882b0fbf1521770629ca406b595b473f725256b7_TOP.jpg', '/content/drive/MyDrive/RQ1_Experiments/RQ1_Data_Batch1/Europe/Netherlands/Europe_Netherlands_photo_8ce238520399b58cf8971fcfcb60a0f1ca3da0c2_TOP.jpg', '/content/drive/MyDrive/RQ1_Experiments/RQ1_Data_Batch1/Europe/Norway/Europe_Norway_photo_04d08a6f1780e88bb35e60cb192c7d042e1f9c49_MIDDLE.jpg', '/content/drive/MyDrive/RQ1_Experiments/RQ1_Data_Batch1/Europe/Norway/Europe_Norway_photo_06861959654e851c30353ada467fe07a639200c6_MIDDLE.jpg', '/content/drive/MyDrive/RQ1_Experiments/RQ1_Data_Batch1/Europe/Norway/Europe_Norway_photo_14ea272e6e5afc8a5ec19f74e96f99e6635ec473_MIDDLE.jpg', '/content/drive/MyDrive/RQ1_Experiments/RQ1_Data_Batch1/Europe/Norway/Europe_Norway_photo_1bc0aba114ef9404632c93140b4fad3b0800b251_MIDDLE.jpg', '/content/drive/MyDrive/RQ1_Experiments/RQ1_Data_Batch1/Europe/Norway/Europe_Norway_photo_7f5675007af9dcb1312f0ffeab012619552c897c_MIDDLE.jpg', '/content/drive/MyDrive/RQ1_Experiments/RQ1_Data_Batch1/Europe/Norway/Europe_Norway_photo_bdf4782be1f1daaee7eaa114dc293ca373768bdd_MIDDLE.jpg', '/content/drive/MyDrive/RQ1_Experiments/RQ1_Data_Batch1/Europe/Norway/Europe_Norway_photo_d0640503617c09330aa35f976a6fd8df6fd15cce_MIDDLE.jpg', '/content/drive/MyDrive/RQ1_Experiments/RQ1_Data_Batch1/Europe/Portugal/Europe_Portugal_photo_36b0f977c9b3f3bba500e3c842d9233929b80304_MIDDLE.jpg', '/content/drive/MyDrive/RQ1_Experiments/RQ1_Data_Batch1/Europe/Portugal/Europe_Portugal_photo_67eb13d864625871ade916c61ead8af2f4deec19_MIDDLE.jpg', '/content/drive/MyDrive/RQ1_Experiments/RQ1_Data_Batch1/Europe/Portugal/Europe_Portugal_photo_8da41a847150654cd77df6882175ea0d17b7dd7b_MIDDLE.jpg', '/content/drive/MyDrive/RQ1_Experiments/RQ1_Data_Batch1/Europe/Romania/Europe_Romania_photo_1be2ff09ebbc0f9d9858238815e7c78357bf3070_TOP.jpg', '/content/drive/MyDrive/RQ1_Experiments/RQ1_Data_Batch1/Europe/Russia/Europe_Russia_photo_6da70ba43cbabd64768db9cf1f43c81b8ab76984_TOP.jpg', '/content/drive/MyDrive/RQ1_Experiments/RQ1_Data_Batch1/Europe/Spain/Europe_Spain_photo_591cbab8b81c643e3b824d6be46423985276ca3b_TOP.jpg', '/content/drive/MyDrive/RQ1_Experiments/RQ1_Data_Batch1/Europe/Sweden/Europe_Sweden_photo_1ede928a3955a82ceb72226a503b0f230f4c8c7b_TOP.jpg', '/content/drive/MyDrive/RQ1_Experiments/RQ1_Data_Batch1/Europe/Sweden/Europe_Sweden_photo_961eccade9ed21d90c161a4110ac42e37f20473c_TOP.jpg', '/content/drive/MyDrive/RQ1_Experiments/RQ1_Data_Batch1/Europe/Sweden/Europe_Sweden_photo_af433761d60c02a9af1ed13bbb34466b7f72bb6e_TOP.jpg', '/content/drive/MyDrive/RQ1_Experiments/RQ1_Data_Batch1/Europe/Sweden/Europe_Sweden_photo_e741a0884c47e3c2e714cb8df280aace52b98b9b_TOP.jpg', '/content/drive/MyDrive/RQ1_Experiments/RQ1_Data_Batch1/Europe/Sweden/Europe_Sweden_photo_f655978f0cddc602b112e15926cc010dbd85ca44_TOP.jpg', '/content/drive/MyDrive/RQ1_Experiments/RQ1_Data_Batch1/Europe/Sweden/Europe_Sweden_photo_fbee4e08cb072edd167b7006513d0083abe62c30_TOP.jpg', '/content/drive/MyDrive/RQ1_Experiments/RQ1_Data_Batch1/Europe/Switzerland/Europe_Switzerland_photo_07f0ad42bc36d757a424771cbc1e7ee47ef42996_MIDDLE.jpg', '/content/drive/MyDrive/RQ1_Experiments/RQ1_Data_Batch1/Europe/Switzerland/Europe_Switzerland_photo_10ba404b5b0c141fc856a24b24ed07854bf95d5c_MIDDLE.jpg', '/content/drive/MyDrive/RQ1_Experiments/RQ1_Data_Batch1/Europe/Switzerland/Europe_Switzerland_photo_49aaa10f3b55e3ebbdce9e504c5899a9da30543f_MIDDLE.jpg', '/content/drive/MyDrive/RQ1_Experiments/RQ1_Data_Batch1/Europe/Switzerland/Europe_Switzerland_photo_7e627e7f37e0968ff782dabc97bfd5615705853b_MIDDLE.jpg', '/content/drive/MyDrive/RQ1_Experiments/RQ1_Data_Batch1/Europe/Switzerland/Europe_Switzerland_photo_e36b5b10ee207d590e9a7a8356ee01e70fb2b2db_MIDDLE.jpg', '/content/drive/MyDrive/RQ1_Experiments/RQ1_Data_Batch1/Europe/Ukraine/Europe_Ukraine_photo_29939b9d7e93fdda81d1bb35f4efce2fa8fb1e77_TOP.jpg', '/content/drive/MyDrive/RQ1_Experiments/RQ1_Data_Batch1/Europe/Ukraine/Europe_Ukraine_photo_775550d4d5a976c759511139c6d4882c3bb1b49b_TOP.jpg', '/content/drive/MyDrive/RQ1_Experiments/RQ1_Data_Batch1/Europe/Ukraine/Europe_Ukraine_photo_8262953330bb986d1b5c960a4350ff36d1b105bb_TOP.jpg', '/content/drive/MyDrive/RQ1_Experiments/RQ1_Data_Batch1/Europe/Ukraine/Europe_Ukraine_photo_86944ebcf302a56ddf185c8031426fc33eaa3c35_TOP.jpg', '/content/drive/MyDrive/RQ1_Experiments/RQ1_Data_Batch1/Europe/United Kingdom/Europe_United Kingdom_photo_0ca2884e5423b7ed1b979d88345b1a6f30559e54_TOP.jpg', '/content/drive/MyDrive/RQ1_Experiments/RQ1_Data_Batch1/Europe/United Kingdom/Europe_United Kingdom_photo_11d1b8ab8ef7f10cc609a64ec41517aaa943093c_TOP.jpg', '/content/drive/MyDrive/RQ1_Experiments/RQ1_Data_Batch1/Europe/United Kingdom/Europe_United Kingdom_photo_2a2e09dc8a04264f47d4e6b45dace21ce9c612f5_TOP.jpg', '/content/drive/MyDrive/RQ1_Experiments/RQ1_Data_Batch1/Europe/United Kingdom/Europe_United Kingdom_photo_2cabb1ede73758a53aeb39ebc399e65110185664_TOP.jpg', '/content/drive/MyDrive/RQ1_Experiments/RQ1_Data_Batch1/Europe/United Kingdom/Europe_United Kingdom_photo_3bf2a463f251a434db7604c8a26440129aa3a68c_TOP.jpg', '/content/drive/MyDrive/RQ1_Experiments/RQ1_Data_Batch1/Europe/United Kingdom/Europe_United Kingdom_photo_3dbb8eb1cf4495c626ed7d7099d364cb15d447aa_TOP.jpg', '/content/drive/MyDrive/RQ1_Experiments/RQ1_Data_Batch1/Europe/United Kingdom/Europe_United Kingdom_photo_3e364710f4ccfd8320cd282cdf05627f6203b1eb_TOP.jpg', '/content/drive/MyDrive/RQ1_Experiments/RQ1_Data_Batch1/Europe/United Kingdom/Europe_United Kingdom_photo_4af084e73911723f506c3d4ea9bdb0ce30b92db7_TOP.jpg', '/content/drive/MyDrive/RQ1_Experiments/RQ1_Data_Batch1/Europe/United Kingdom/Europe_United Kingdom_photo_4e8688f62fda04bd6253e2bf683a5d7d5f8b6124_TOP.jpg', '/content/drive/MyDrive/RQ1_Experiments/RQ1_Data_Batch1/Europe/United Kingdom/Europe_United Kingdom_photo_5b1b4b616719559d49599d30a76ad5d447c7f92c_TOP.jpg', '/content/drive/MyDrive/RQ1_Experiments/RQ1_Data_Batch1/Europe/United Kingdom/Europe_United Kingdom_photo_6e97136d2bc49909c195c354e709a7206ab9855f_TOP.jpg', '/content/drive/MyDrive/RQ1_Experiments/RQ1_Data_Batch1/Europe/United Kingdom/Europe_United Kingdom_photo_7ddfeb78833edc91642091b29385ce29d07eb398_TOP.jpg', '/content/drive/MyDrive/RQ1_Experiments/RQ1_Data_Batch1/Europe/United Kingdom/Europe_United Kingdom_photo_7e44b6630293b90f9afe4c0198371d0a4f54d842_TOP.jpg', '/content/drive/MyDrive/RQ1_Experiments/RQ1_Data_Batch1/Europe/United Kingdom/Europe_United Kingdom_photo_8eca4d7f70a08abe118d1b860c3f0a4ff6db7398_TOP.jpg', '/content/drive/MyDrive/RQ1_Experiments/RQ1_Data_Batch1/Europe/United Kingdom/Europe_United Kingdom_photo_8f0f76651e397cf53667033e22678090dae8fdc2_TOP.jpg', '/content/drive/MyDrive/RQ1_Experiments/RQ1_Data_Batch1/Europe/United Kingdom/Europe_United Kingdom_photo_9ad762b4a61865c50225b7e486e420eddaecf8a3_TOP.jpg', '/content/drive/MyDrive/RQ1_Experiments/RQ1_Data_Batch1/Europe/United Kingdom/Europe_United Kingdom_photo_9e6fad4492623c1a26e3e01b4a8a749b2171988c_TOP.jpg', '/content/drive/MyDrive/RQ1_Experiments/RQ1_Data_Batch1/Europe/United Kingdom/Europe_United Kingdom_photo_9e988bb890b7f3b35d6e42f5b82badbcab162833_TOP.jpg', '/content/drive/MyDrive/RQ1_Experiments/RQ1_Data_Batch1/Europe/United Kingdom/Europe_United Kingdom_photo_9fc04ccd634f5419b2e41fc3fc022390db872d29_TOP.jpg', '/content/drive/MyDrive/RQ1_Experiments/RQ1_Data_Batch1/North America/Aruba/North America_Aruba_AR1_MIDDLE.jpg', '/content/drive/MyDrive/RQ1_Experiments/RQ1_Data_Batch1/North America/Aruba/North America_Aruba_AR2_MIDDLE.jpg', '/content/drive/MyDrive/RQ1_Experiments/RQ1_Data_Batch1/North America/Aruba/North America_Aruba_AR3_MIDDLE.jpg', '/content/drive/MyDrive/RQ1_Experiments/RQ1_Data_Batch1/North America/Aruba/North America_Aruba_AR4_MIDDLE.jpg', '/content/drive/MyDrive/RQ1_Experiments/RQ1_Data_Batch1/North America/Aruba/North America_Aruba_AR5_MIDDLE.jpg', '/content/drive/MyDrive/RQ1_Experiments/RQ1_Data_Batch1/North America/Aruba/North America_Aruba_AR6_MIDDLE.jpg', '/content/drive/MyDrive/RQ1_Experiments/RQ1_Data_Batch1/North America/Aruba/North America_Aruba_AR7_MIDDLE.png', '/content/drive/MyDrive/RQ1_Experiments/RQ1_Data_Batch1/North America/Aruba/North America_Aruba_AR8_MIDDLE.jpg', '/content/drive/MyDrive/RQ1_Experiments/RQ1_Data_Batch1/North America/Aruba/North America_Aruba_AR9_MIDDLE.jpg', '/content/drive/MyDrive/RQ1_Experiments/RQ1_Data_Batch1/North America/Bermuda/North America_Bermuda_B1_LAST.jpg', '/content/drive/MyDrive/RQ1_Experiments/RQ1_Data_Batch1/North America/Bermuda/North America_Bermuda_B2_LAST.jpg', '/content/drive/MyDrive/RQ1_Experiments/RQ1_Data_Batch1/North America/Bermuda/North America_Bermuda_B3_LAST.jpg', '/content/drive/MyDrive/RQ1_Experiments/RQ1_Data_Batch1/North America/Bermuda/North America_Bermuda_B4_LAST.jpg', '/content/drive/MyDrive/RQ1_Experiments/RQ1_Data_Batch1/North America/Canada/North America_Canada_photo_1b7b3966a986008596f03b2a43ddc1d5c9407668_TOP.jpg', '/content/drive/MyDrive/RQ1_Experiments/RQ1_Data_Batch1/North America/Canada/North America_Canada_photo_8bda6cace7446c4bafa660cd777952f400a9c700_TOP.jpg', '/content/drive/MyDrive/RQ1_Experiments/RQ1_Data_Batch1/North America/Canada/North America_Canada_photo_9970c795b7cb6d97cfec845a7a5d583e2dcf532a_TOP.jpg', '/content/drive/MyDrive/RQ1_Experiments/RQ1_Data_Batch1/North America/Cuba/North America_Cuba_photo_0d0f7046b8ce243441bb95646cad78ef1c2d1028_TOP.jpg', '/content/drive/MyDrive/RQ1_Experiments/RQ1_Data_Batch1/North America/Cuba/North America_Cuba_photo_442c93cfdfbe67f3a7955c5390115be3b6072f0c_TOP.jpg', '/content/drive/MyDrive/RQ1_Experiments/RQ1_Data_Batch1/North America/Cuba/North America_Cuba_photo_58aadea5f1e920c7642e27aa2a8bd127fec698c9_TOP.jpg', '/content/drive/MyDrive/RQ1_Experiments/RQ1_Data_Batch1/North America/Cuba/North America_Cuba_photo_81d65b319ece316ee39cd51c07ce48ac323d1751_TOP.jpg', '/content/drive/MyDrive/RQ1_Experiments/RQ1_Data_Batch1/North America/Dominica/North America_Dominica_D1_LAST.png', '/content/drive/MyDrive/RQ1_Experiments/RQ1_Data_Batch1/North America/Dominica/North America_Dominica_D2_LAST.png', '/content/drive/MyDrive/RQ1_Experiments/RQ1_Data_Batch1/North America/Dominica/North America_Dominica_D3_LAST.png', '/content/drive/MyDrive/RQ1_Experiments/RQ1_Data_Batch1/North America/Dominica/North America_Dominica_D4_LAST.jpg', '/content/drive/MyDrive/RQ1_Experiments/RQ1_Data_Batch1/North America/Dominica/North America_Dominica_D5_LAST.png', '/content/drive/MyDrive/RQ1_Experiments/RQ1_Data_Batch1/North America/Dominica/North America_Dominica_D6_LAST.png', '/content/drive/MyDrive/RQ1_Experiments/RQ1_Data_Batch1/North America/Dominica/North America_Dominica_D7_LAST.png', '/content/drive/MyDrive/RQ1_Experiments/RQ1_Data_Batch1/North America/Dominica/North America_Dominica_D8_LAST.png', '/content/drive/MyDrive/RQ1_Experiments/RQ1_Data_Batch1/North America/Dominica/North America_Dominica_D9_LAST.png', '/content/drive/MyDrive/RQ1_Experiments/RQ1_Data_Batch1/North America/Greenland/North America_Greenland_G1_LAST.jpg', '/content/drive/MyDrive/RQ1_Experiments/RQ1_Data_Batch1/North America/Greenland/North America_Greenland_G2_LAST.jpg', '/content/drive/MyDrive/RQ1_Experiments/RQ1_Data_Batch1/North America/Greenland/North America_Greenland_G3_LAST.jpg', '/content/drive/MyDrive/RQ1_Experiments/RQ1_Data_Batch1/North America/Greenland/North America_Greenland_G4_LAST.jpg', '/content/drive/MyDrive/RQ1_Experiments/RQ1_Data_Batch1/North America/Greenland/North America_Greenland_G5_LAST.jpg', '/content/drive/MyDrive/RQ1_Experiments/RQ1_Data_Batch1/North America/Greenland/North America_Greenland_G6_LAST.jpg', '/content/drive/MyDrive/RQ1_Experiments/RQ1_Data_Batch1/North America/Greenland/North America_Greenland_G7_LAST.jpg', '/content/drive/MyDrive/RQ1_Experiments/RQ1_Data_Batch1/North America/Greenland/North America_Greenland_G8_LAST.jpeg', '/content/drive/MyDrive/RQ1_Experiments/RQ1_Data_Batch1/North America/Greenland/North America_Greenland_G9_LAST.jpeg', '/content/drive/MyDrive/RQ1_Experiments/RQ1_Data_Batch1/North America/Mexico/North America_Mexico_photo_0626b6c0c63fd82e0f08199586476e8fb6560d9e_TOP.jpg', '/content/drive/MyDrive/RQ1_Experiments/RQ1_Data_Batch1/North America/Mexico/North America_Mexico_photo_0d1d16eca9915c123979316f4cf8f966657e7dc5_TOP.jpg', '/content/drive/MyDrive/RQ1_Experiments/RQ1_Data_Batch1/North America/Mexico/North America_Mexico_photo_3fb2d172b689954e1fa8c9c504a6822de03e0b17_TOP.jpg', '/content/drive/MyDrive/RQ1_Experiments/RQ1_Data_Batch1/North America/Mexico/North America_Mexico_photo_54651902768c2a754f0809ef6858ac840aefdd23_TOP.jpg', '/content/drive/MyDrive/RQ1_Experiments/RQ1_Data_Batch1/North America/Mexico/North America_Mexico_photo_599b5385d65889f1e9076de1adad8fed9e13140c_TOP.jpg', '/content/drive/MyDrive/RQ1_Experiments/RQ1_Data_Batch1/North America/Mexico/North America_Mexico_photo_83fd57feddc8b76a6c05e992ea6a1a2c402a6ca3_TOP.jpg', '/content/drive/MyDrive/RQ1_Experiments/RQ1_Data_Batch1/North America/Mexico/North America_Mexico_photo_985d481f816e5e57ddfc4828ea7173d7fe5e179c_TOP.jpg', '/content/drive/MyDrive/RQ1_Experiments/RQ1_Data_Batch1/North America/Mexico/North America_Mexico_photo_99b97d8c7c5fcb2e976c9eb4e5e38c438dcdd74d_TOP.jpg', '/content/drive/MyDrive/RQ1_Experiments/RQ1_Data_Batch1/North America/Mexico/North America_Mexico_photo_a4849ab488121eb38868851930613ff5f6adb35d_TOP.jpg', '/content/drive/MyDrive/RQ1_Experiments/RQ1_Data_Batch1/North America/Mexico/North America_Mexico_photo_b6822571b90254f67e6a41ef8a28e199b010501d_TOP.jpg', '/content/drive/MyDrive/RQ1_Experiments/RQ1_Data_Batch1/North America/Mexico/North America_Mexico_photo_be7c61b77f0dc5ee0a2b7ed541b4e3cc525917be_TOP.jpg', '/content/drive/MyDrive/RQ1_Experiments/RQ1_Data_Batch1/North America/Mexico/North America_Mexico_photo_c45d96baf6331abd5d1205fc8832c302b884d42d_TOP.jpg', '/content/drive/MyDrive/RQ1_Experiments/RQ1_Data_Batch1/North America/Mexico/North America_Mexico_photo_c7f813f75215b1cce845cd77f0fc1c290655b1da_TOP.jpg', '/content/drive/MyDrive/RQ1_Experiments/RQ1_Data_Batch1/North America/Mexico/North America_Mexico_photo_cc8b100fada9fe55dfd4b366623393c9799afa51_TOP.jpg', '/content/drive/MyDrive/RQ1_Experiments/RQ1_Data_Batch1/North America/Mexico/North America_Mexico_photo_d373a3cf149d668a711326408fd1e421da506aac_TOP.jpg', '/content/drive/MyDrive/RQ1_Experiments/RQ1_Data_Batch1/North America/Mexico/North America_Mexico_photo_e2e4b2894f176163dbfdbcca50e2579b2ac8a3ab_TOP.jpg', '/content/drive/MyDrive/RQ1_Experiments/RQ1_Data_Batch1/North America/Mexico/North America_Mexico_photo_e3b5e27a4690a8c8e1dcf44d9b154c37598acbf9_TOP.jpg', '/content/drive/MyDrive/RQ1_Experiments/RQ1_Data_Batch1/North America/Mexico/North America_Mexico_photo_e6928fa4ac2c9257374ff7ee60b94b2a2da51c65_TOP.jpg', '/content/drive/MyDrive/RQ1_Experiments/RQ1_Data_Batch1/North America/Mexico/North America_Mexico_photo_f670cb59e061866ab23a2d45dbdc97ce58f9cebc_TOP.jpg', '/content/drive/MyDrive/RQ1_Experiments/RQ1_Data_Batch1/North America/Panama/North America_Panama_photo_1692de2f698c2f730c0f2c839b56d35db1bc205b_MIDDLE.jpg', '/content/drive/MyDrive/RQ1_Experiments/RQ1_Data_Batch1/North America/Panama/North America_Panama_photo_3ec658b1b49c9bda4a0ed486990d91669160d8c6_MIDDLE.jpg', '/content/drive/MyDrive/RQ1_Experiments/RQ1_Data_Batch1/North America/Panama/North America_Panama_photo_702afb3d7324aa29d71693b44480a166c02e8fd1_MIDDLE.jpg', '/content/drive/MyDrive/RQ1_Experiments/RQ1_Data_Batch1/North America/United States/North America_United States_photo_2c144fe4475a9026cfb649dbd9267c84d37ae778_TOP.jpg', '/content/drive/MyDrive/RQ1_Experiments/RQ1_Data_Batch1/North America/United States/North America_United States_photo_3cf3db14b5360a71c56354d91a2b4747704fd201_TOP.jpg', '/content/drive/MyDrive/RQ1_Experiments/RQ1_Data_Batch1/North America/United States/North America_United States_photo_5d8e0e2bb3d8e45b82d8728cea9405165d098c5b_TOP.jpg', '/content/drive/MyDrive/RQ1_Experiments/RQ1_Data_Batch1/North America/United States/North America_United States_photo_5e1807b741b8764e9d3364e892fa7eece8e458da_TOP.jpg', '/content/drive/MyDrive/RQ1_Experiments/RQ1_Data_Batch1/North America/United States/North America_United States_photo_7e12f5e7c34950b362f04e37b790954e44b91fad_TOP.jpg', '/content/drive/MyDrive/RQ1_Experiments/RQ1_Data_Batch1/North America/United States/North America_United States_photo_9b6433ba62ca18929a889d532aec6cb62fe868d2_TOP.jpg', '/content/drive/MyDrive/RQ1_Experiments/RQ1_Data_Batch1/North America/United States/North America_United States_photo_9f631ef8598a0cbdd728293da0d44dd872de04c9_TOP.jpg', '/content/drive/MyDrive/RQ1_Experiments/RQ1_Data_Batch1/South America/Argentina/South America_Argentina_AT1_TOP.jpg', '/content/drive/MyDrive/RQ1_Experiments/RQ1_Data_Batch1/South America/Argentina/South America_Argentina_AT2_TOP.jpg', '/content/drive/MyDrive/RQ1_Experiments/RQ1_Data_Batch1/South America/Argentina/South America_Argentina_AT3_TOP.jpg', '/content/drive/MyDrive/RQ1_Experiments/RQ1_Data_Batch1/South America/Argentina/South America_Argentina_AT4_TOP.jpg', '/content/drive/MyDrive/RQ1_Experiments/RQ1_Data_Batch1/South America/Argentina/South America_Argentina_AT5_TOP.PNG', '/content/drive/MyDrive/RQ1_Experiments/RQ1_Data_Batch1/South America/Argentina/South America_Argentina_AT6_TOP.PNG', '/content/drive/MyDrive/RQ1_Experiments/RQ1_Data_Batch1/South America/Argentina/South America_Argentina_AT7_TOP.jpg', '/content/drive/MyDrive/RQ1_Experiments/RQ1_Data_Batch1/South America/Argentina/South America_Argentina_AT8_TOP.jpg', '/content/drive/MyDrive/RQ1_Experiments/RQ1_Data_Batch1/South America/Bolivia/South America_Bolivia_B1_MIDDLE.jpg', '/content/drive/MyDrive/RQ1_Experiments/RQ1_Data_Batch1/South America/Bolivia/South America_Bolivia_B2_MIDDLE.jpg', '/content/drive/MyDrive/RQ1_Experiments/RQ1_Data_Batch1/South America/Bolivia/South America_Bolivia_B3_MIDDLE.jpg', '/content/drive/MyDrive/RQ1_Experiments/RQ1_Data_Batch1/South America/Bolivia/South America_Bolivia_B4_MIDDLE.jpg', '/content/drive/MyDrive/RQ1_Experiments/RQ1_Data_Batch1/South America/Bolivia/South America_Bolivia_B5_MIDDLE.png', '/content/drive/MyDrive/RQ1_Experiments/RQ1_Data_Batch1/South America/Bolivia/South America_Bolivia_B6_MIDDLE.jpg', '/content/drive/MyDrive/RQ1_Experiments/RQ1_Data_Batch1/South America/Brazil/South America_Brazil_BR1_TOP.jpg', '/content/drive/MyDrive/RQ1_Experiments/RQ1_Data_Batch1/South America/Brazil/South America_Brazil_BR2_TOP.jpg', '/content/drive/MyDrive/RQ1_Experiments/RQ1_Data_Batch1/South America/Brazil/South America_Brazil_BR3_TOP.jpg', '/content/drive/MyDrive/RQ1_Experiments/RQ1_Data_Batch1/South America/Brazil/South America_Brazil_BR4_TOP.jpg', '/content/drive/MyDrive/RQ1_Experiments/RQ1_Data_Batch1/South America/Brazil/South America_Brazil_BR5_TOP.webp', '/content/drive/MyDrive/RQ1_Experiments/RQ1_Data_Batch1/South America/Brazil/South America_Brazil_BR6_TOP.jpg', '/content/drive/MyDrive/RQ1_Experiments/RQ1_Data_Batch1/South America/Brazil/South America_Brazil_BR7_TOP.JPG', '/content/drive/MyDrive/RQ1_Experiments/RQ1_Data_Batch1/South America/Brazil/South America_Brazil_BR8_TOP.jpg', '/content/drive/MyDrive/RQ1_Experiments/RQ1_Data_Batch1/South America/Chile/South America_Chile_CH10_MIDDLE.JPG', '/content/drive/MyDrive/RQ1_Experiments/RQ1_Data_Batch1/South America/Chile/South America_Chile_CH11_MIDDLE.JPG', '/content/drive/MyDrive/RQ1_Experiments/RQ1_Data_Batch1/South America/Chile/South America_Chile_CH12_MIDDLE.jpeg', '/content/drive/MyDrive/RQ1_Experiments/RQ1_Data_Batch1/South America/Chile/South America_Chile_CH1_MIDDLE.png', '/content/drive/MyDrive/RQ1_Experiments/RQ1_Data_Batch1/South America/Chile/South America_Chile_CH2_MIDDLE.jpg', '/content/drive/MyDrive/RQ1_Experiments/RQ1_Data_Batch1/South America/Chile/South America_Chile_CH3_MIDDLE.jpeg', '/content/drive/MyDrive/RQ1_Experiments/RQ1_Data_Batch1/South America/Chile/South America_Chile_CH4_MIDDLE.jpeg', '/content/drive/MyDrive/RQ1_Experiments/RQ1_Data_Batch1/South America/Chile/South America_Chile_CH5_MIDDLE.jpg', '/content/drive/MyDrive/RQ1_Experiments/RQ1_Data_Batch1/South America/Chile/South America_Chile_CH6_MIDDLE.jpg', '/content/drive/MyDrive/RQ1_Experiments/RQ1_Data_Batch1/South America/Chile/South America_Chile_CH7_MIDDLE.JPG', '/content/drive/MyDrive/RQ1_Experiments/RQ1_Data_Batch1/South America/Chile/South America_Chile_CH8_MIDDLE.JPG', '/content/drive/MyDrive/RQ1_Experiments/RQ1_Data_Batch1/South America/Chile/South America_Chile_CH9_MIDDLE.JPG', '/content/drive/MyDrive/RQ1_Experiments/RQ1_Data_Batch1/South America/Colombia/South America_Colombia_CB1_TOP.png', '/content/drive/MyDrive/RQ1_Experiments/RQ1_Data_Batch1/South America/Colombia/South America_Colombia_CB2_TOP.png', '/content/drive/MyDrive/RQ1_Experiments/RQ1_Data_Batch1/South America/Colombia/South America_Colombia_CB3_TOP.png', '/content/drive/MyDrive/RQ1_Experiments/RQ1_Data_Batch1/South America/Colombia/South America_Colombia_CB4_TOP.png', '/content/drive/MyDrive/RQ1_Experiments/RQ1_Data_Batch1/South America/Paraguay/South America_Paraguay_P1_LAST.png', '/content/drive/MyDrive/RQ1_Experiments/RQ1_Data_Batch1/South America/Paraguay/South America_Paraguay_P2_LAST.jpg', '/content/drive/MyDrive/RQ1_Experiments/RQ1_Data_Batch1/South America/Peru/South America_Peru_PU1_TOP.png', '/content/drive/MyDrive/RQ1_Experiments/RQ1_Data_Batch1/South America/Peru/South America_Peru_PU2_TOP.png', '/content/drive/MyDrive/RQ1_Experiments/RQ1_Data_Batch1/South America/Peru/South America_Peru_PU3_TOP.JPG', '/content/drive/MyDrive/RQ1_Experiments/RQ1_Data_Batch1/South America/Peru/South America_Peru_PU4_TOP.png', '/content/drive/MyDrive/RQ1_Experiments/RQ1_Data_Batch1/South America/Peru/South America_Peru_PU5_TOP.jpg', '/content/drive/MyDrive/RQ1_Experiments/RQ1_Data_Batch1/South America/Peru/South America_Peru_PU6_TOP.PNG', '/content/drive/MyDrive/RQ1_Experiments/RQ1_Data_Batch1/South America/Peru/South America_Peru_PU7_TOP.PNG', '/content/drive/MyDrive/RQ1_Experiments/RQ1_Data_Batch1/South America/Uruguay/South America_Uruguay_U1_LAST.PNG', '/content/drive/MyDrive/RQ1_Experiments/RQ1_Data_Batch1/South America/Uruguay/South America_Uruguay_U2_LAST.PNG', '/content/drive/MyDrive/RQ1_Experiments/RQ1_Data_Batch1/South America/Uruguay/South America_Uruguay_U3_LAST.png', '/content/drive/MyDrive/RQ1_Experiments/RQ1_Data_Batch1/South America/Uruguay/South America_Uruguay_U4_LAST.JPG', '/content/drive/MyDrive/RQ1_Experiments/RQ1_Data_Batch1/South America/Uruguay/South America_Uruguay_U5_LAST.png']\n"
          ]
        }
      ],
      "execution_count": 20
    },
    {
      "cell_type": "markdown",
      "source": [
        "# Variant: InternVL3 8B\n",
        "\n",
        "https://huggingface.co/OpenGVLab/InternVL3-8B"
      ],
      "metadata": {
        "id": "LQ2IIDXCUnzZ"
      }
    },
    {
      "cell_type": "markdown",
      "source": [
        "## 1️⃣ Prompt"
      ],
      "metadata": {
        "id": "zItqEgtVqmmb"
      }
    },
    {
      "cell_type": "markdown",
      "source": [
        "🔨 TO BE MODIFIED 🔨"
      ],
      "metadata": {
        "id": "SVsrov5eAZva"
      }
    },
    {
      "cell_type": "code",
      "source": [
        "# L3 PROMPTS\n",
        "PROMPTS = {\n",
        "    \"prompt1\": \"\"\"Assume the image is from {given_continent}. Analyze it and answer two things:\n",
        "\n",
        "1) Which country is this most likely from? (choose from {country_list})\n",
        "\n",
        "2) What is the most suitable label: political expression, vandalism, decoration, cultural identity, or advertisement?\"\"\",\n",
        "\n",
        "    \"prompt2\": \"\"\"You are a cultural anthropologist viewing street visuals. Given that mural in image is located in {given_continent}, give these four pieces of info:\n",
        "\n",
        "- COUNTRY (choose exactly one: {country_list})\n",
        "- LABEL (choose exactly one: political expression / vandalism / decoration / cultural identity / advertisement)\n",
        "- CONFIDENCE (0–100%)\n",
        "- TOP CUE (2–3 sentences describing the key visual/cultural cue)\n",
        "\n",
        "Be concise and calibrate CONFIDENCE to how strongly the visual cues support your claims.\"\"\",\n",
        "\n",
        "    \"prompt3\": \"\"\"Moderate a brief debate among a Geographer, a Street Artist, and a Museum Curator about this image, assuming it originates from {given_continent}. For each expert, give:\n",
        "\n",
        "- ROLE: <role name>\n",
        "- COUNTRY (choose exactly one: {country_list})\n",
        "- LABEL (political expression / vandalism / decoration / cultural identity / advertisement)\n",
        "- SHORT_RATIONALE (one concise sentence)\n",
        "\n",
        "After the three positions, write a 2-paragraph moderator resolution:\n",
        "1) Compare the three rationales and state which COUNTRY and LABEL you choose and why (trade-offs).\n",
        "2) List 2 visual cues that were decisive and mention one alternative explanation you rejected.\n",
        "\n",
        "Finish with: COUNTRY and LABEL (each on its own line).\"\"\",\n",
        "\n",
        "    \"prompt4\": \"\"\"You are a cultural anthropologist & artist. Given that mural in image is located in {given_continent}, provide:\n",
        "\n",
        "- COUNTRY: two most likely countries (choose from: {country_list}) with percentages (sum ≈100), e.g. \"\"Iceland: 70%, Russia: 30%\"\"\n",
        "- WHY COUNTRY: 2–3 sentences explaining how visual cues suggest the chosen countries .\n",
        "\n",
        "- LABEL: choose from (political expression, vandalism, decoration, cultural identity, advertisement) and also assign probabilities for all five labels (sum ≈100)\n",
        "- WHY LABEL: 2–3 sentences linking cues to chosen label.\n",
        "\n",
        "- TOP CUES: list three concrete cues that were decisive (1–6 words each)\n",
        "- BIAS NOTE: 2–3 sentences reflecting how cultural bias might have affected the probability estimates.\n",
        "\n",
        "Constraints:\n",
        "- Avoid equal continent splits (e.g. 50/50). Show one as more likely.\n",
        "- Keep WHY COUNTRY and WHY LABEL tied to visible evidence (colors, symbols, technique, location clues etc).\"\"\"\n",
        "}\n",
        "PROMPT_ORDER = [\"prompt1\", \"prompt2\", \"prompt3\", \"prompt4\"]\n"
      ],
      "metadata": {
        "id": "B40bKt7o2xfi",
        "trusted": true,
        "execution": {
          "iopub.status.busy": "2025-10-06T09:49:16.075777Z",
          "iopub.execute_input": "2025-10-06T09:49:16.076284Z",
          "iopub.status.idle": "2025-10-06T09:49:16.085681Z",
          "shell.execute_reply.started": "2025-10-06T09:49:16.076259Z",
          "shell.execute_reply": "2025-10-06T09:49:16.085168Z"
        },
        "collapsed": true,
        "jupyter": {
          "outputs_hidden": true
        }
      },
      "outputs": [],
      "execution_count": 21
    },
    {
      "cell_type": "markdown",
      "source": [
        "## 2️⃣ Load Processor and Model"
      ],
      "metadata": {
        "id": "JVaJV9x3qwEK"
      }
    },
    {
      "cell_type": "code",
      "source": [
        "# from huggingface_hub import notebook_login\n",
        "# notebook_login()"
      ],
      "metadata": {
        "trusted": true,
        "execution": {
          "iopub.status.busy": "2025-10-06T09:49:16.086412Z",
          "iopub.execute_input": "2025-10-06T09:49:16.086615Z",
          "iopub.status.idle": "2025-10-06T09:49:16.097550Z",
          "shell.execute_reply.started": "2025-10-06T09:49:16.086592Z",
          "shell.execute_reply": "2025-10-06T09:49:16.096969Z"
        },
        "collapsed": true,
        "jupyter": {
          "outputs_hidden": true
        },
        "id": "7cneyVXcbC3L"
      },
      "outputs": [],
      "execution_count": null
    },
    {
      "cell_type": "markdown",
      "source": [
        "🔨 TO BE MODIFIED 🔨"
      ],
      "metadata": {
        "id": "brOecZXQAfke"
      }
    },
    {
      "cell_type": "code",
      "source": [
        "# TO BE MODIFIED\n",
        "\n",
        "from transformers import AutoModel, AutoTokenizer, AutoProcessor\n",
        "import torch, os\n",
        "from PIL import Image\n",
        "import torchvision.transforms as T\n",
        "from torchvision.transforms.functional import InterpolationMode\n",
        "\n",
        "repo_id = \"OpenGVLab/InternVL3-8B\"\n",
        "\n",
        "model = AutoModel.from_pretrained(\n",
        "    repo_id,\n",
        "    torch_dtype=torch.bfloat16,\n",
        "    low_cpu_mem_usage=True,\n",
        "    use_flash_attn=True,\n",
        "    trust_remote_code=True\n",
        ").eval().cuda()\n",
        "\n",
        "processor = AutoProcessor.from_pretrained(\n",
        "    repo_id,\n",
        "    trust_remote_code=True\n",
        ")\n",
        "\n",
        "tokenizer = AutoTokenizer.from_pretrained(repo_id, trust_remote_code=True, use_fast=True)\n",
        "\n"
      ],
      "metadata": {
        "id": "3tvxJAFoEnAV",
        "trusted": true,
        "execution": {
          "iopub.status.busy": "2025-10-06T09:49:16.099509Z",
          "iopub.execute_input": "2025-10-06T09:49:16.100054Z",
          "iopub.status.idle": "2025-10-06T09:52:07.251956Z",
          "shell.execute_reply.started": "2025-10-06T09:49:16.100009Z",
          "shell.execute_reply": "2025-10-06T09:52:07.251406Z"
        },
        "collapsed": true,
        "jupyter": {
          "outputs_hidden": true
        },
        "colab": {
          "base_uri": "https://localhost:8080/",
          "height": 84,
          "referenced_widgets": [
            "bcef8bfb65f94d42afcfc33e91e3bdd4",
            "503f40d168d14f3e99f58b1840b2c361",
            "1cad886231b54d51b28e0c90b817de26",
            "cd0fa4b0611845d5a0e0bba438f34c46",
            "372abb28be3441b1a41af0e619944646",
            "0bf66e450163489eaffb607b72b95f3a",
            "477da7a191534f338069b885f2070229",
            "1a592b6ad3d54b41aac2fd038ba8d041",
            "20623ea7744c4805b7877475df255e99",
            "a6346d1327b540dfbb9cb80cf2e3ea44",
            "fa468132e2f042f3852440e795869d28"
          ]
        },
        "outputId": "44949b66-bcd7-4d6c-f09c-70707e79cff9"
      },
      "outputs": [
        {
          "output_type": "stream",
          "name": "stderr",
          "text": [
            "Unrecognized keys in `rope_parameters` for 'rope_type'='dynamic': {'rope_theta'}\n"
          ]
        },
        {
          "output_type": "display_data",
          "data": {
            "text/plain": [
              "Loading checkpoint shards:   0%|          | 0/4 [00:00<?, ?it/s]"
            ],
            "application/vnd.jupyter.widget-view+json": {
              "version_major": 2,
              "version_minor": 0,
              "model_id": "bcef8bfb65f94d42afcfc33e91e3bdd4"
            }
          },
          "metadata": {}
        },
        {
          "output_type": "stream",
          "name": "stderr",
          "text": [
            "Unrecognized keys in `rope_parameters` for 'rope_type'='dynamic': {'rope_theta'}\n"
          ]
        }
      ],
      "execution_count": 22
    },
    {
      "cell_type": "markdown",
      "source": [
        "## 3️⃣ Inference"
      ],
      "metadata": {
        "id": "ZTm4tA4aVzrZ"
      }
    },
    {
      "cell_type": "code",
      "source": [
        "import tempfile"
      ],
      "metadata": {
        "trusted": true,
        "execution": {
          "iopub.status.busy": "2025-10-06T09:52:07.269875Z",
          "iopub.execute_input": "2025-10-06T09:52:07.270108Z",
          "iopub.status.idle": "2025-10-06T09:52:07.280278Z",
          "shell.execute_reply.started": "2025-10-06T09:52:07.270083Z",
          "shell.execute_reply": "2025-10-06T09:52:07.279644Z"
        },
        "collapsed": true,
        "jupyter": {
          "outputs_hidden": true
        },
        "id": "ydgITTVCbC3M"
      },
      "outputs": [],
      "execution_count": null
    },
    {
      "cell_type": "markdown",
      "source": [
        "🔨 TO BE MODIFIED 🔨"
      ],
      "metadata": {
        "id": "mz8Nuj3rAbPJ"
      }
    },
    {
      "cell_type": "code",
      "source": [
        "import numpy as np\n",
        "import tempfile\n",
        "from PIL import Image\n",
        "\n",
        "def infer_img(image_path: str, prompt: str):\n",
        "    if not os.path.exists(image_path):\n",
        "        raise FileNotFoundError(f\"Image not found: {image_path}\")\n",
        "\n",
        "    # Build question with the correct image token\n",
        "    question = prompt if \"<image>\" in prompt else \"<image>\\n\" + prompt\n",
        "\n",
        "    # Read & minimally preprocess to a single 448x448 tile\n",
        "    img = Image.open(image_path).convert(\"RGB\").resize((448, 448))\n",
        "    arr = np.array(img, dtype=np.float32) / 255.0\n",
        "    # ImageNet normalize inline\n",
        "    arr[..., 0] = (arr[..., 0] - 0.485) / 0.229\n",
        "    arr[..., 1] = (arr[..., 1] - 0.456) / 0.224\n",
        "    arr[..., 2] = (arr[..., 2] - 0.406) / 0.225\n",
        "    pixel_values = torch.from_numpy(arr).permute(2, 0, 1).unsqueeze(0)  # [1,3,448,448]\n",
        "    pixel_values = pixel_values.to(torch.bfloat16)\n",
        "    if any(p.is_cuda for p in model.parameters()):\n",
        "        pixel_values = pixel_values.cuda()\n",
        "\n",
        "    # Generation config\n",
        "    gen_cfg = dict(\n",
        "        max_new_tokens=GEN_MAX_NEW_TOKENS,\n",
        "        do_sample=GEN_DO_SAMPLE,\n",
        "        temperature=GEN_TEMPERATURE\n",
        "    )\n",
        "\n",
        "    # InternVL3 chat API\n",
        "    with torch.inference_mode():\n",
        "        response = model.chat(\n",
        "            tokenizer,\n",
        "            pixel_values,\n",
        "            question,\n",
        "            gen_cfg,\n",
        "            history=None,\n",
        "            return_history=False\n",
        "        )\n",
        "\n",
        "    return response.strip()\n"
      ],
      "metadata": {
        "id": "PXP5HfxLEj7H",
        "trusted": true,
        "execution": {
          "iopub.status.busy": "2025-10-06T09:52:07.281177Z",
          "iopub.execute_input": "2025-10-06T09:52:07.281389Z",
          "iopub.status.idle": "2025-10-06T09:52:07.293162Z",
          "shell.execute_reply.started": "2025-10-06T09:52:07.281375Z",
          "shell.execute_reply": "2025-10-06T09:52:07.292457Z"
        },
        "collapsed": true,
        "jupyter": {
          "outputs_hidden": true
        }
      },
      "outputs": [],
      "execution_count": 23
    },
    {
      "cell_type": "markdown",
      "source": [
        "## 4️⃣ Package & Save to JSON"
      ],
      "metadata": {
        "id": "1JmXUoS8WBwk"
      }
    },
    {
      "cell_type": "code",
      "source": [
        "import os, re\n",
        "from copy import deepcopy\n",
        "\n",
        "def extract_location_from_path(path):\n",
        "    \"\"\"\n",
        "    From any path where the filename encodes location, e.g.:\n",
        "      .../dir/Continent_Country_filename.ext\n",
        "      .../dir/Continent_Country_City_filename.ext\n",
        "    Returns (continent, country, city_or_None, continent_dir)\n",
        "    \"\"\"\n",
        "    if not path:\n",
        "        raise ValueError(\"Empty path provided\")\n",
        "\n",
        "    basename = os.path.basename(path)\n",
        "    stem, _ext = os.path.splitext(basename)\n",
        "\n",
        "    tokens = stem.split('_')\n",
        "\n",
        "    if len(tokens) < 2:\n",
        "        raise ValueError(f\"Filename does not contain continent and country tokens: {basename!r}\")\n",
        "\n",
        "    continent = tokens[0]\n",
        "    country   = tokens[1]\n",
        "    city = None\n",
        "\n",
        "    tier_re = re.compile(r'^(?:tier|t)?\\d+$', re.IGNORECASE)\n",
        "    filename_marker_re = re.compile(r'^(?:img|image|photo|scan|picture|pic)\\d*$', re.IGNORECASE)\n",
        "\n",
        "    if len(tokens) >= 4:\n",
        "        cand = tokens[2]\n",
        "        if (re.search(r'[A-Za-z]', cand)\n",
        "            and not re.search(r'\\d', cand)\n",
        "            and not tier_re.match(cand)\n",
        "            and not filename_marker_re.match(cand)):\n",
        "            city = cand\n",
        "    elif len(tokens) == 3:\n",
        "        cand = tokens[2]\n",
        "        if (re.search(r'[A-Za-z]', cand)\n",
        "            and not re.search(r'\\d', cand)\n",
        "            and not tier_re.match(cand)\n",
        "            and not filename_marker_re.match(cand)):\n",
        "            city = cand\n",
        "\n",
        "    # find a parent dir literally named as the continent (best effort)\n",
        "    continent_dir = None\n",
        "    abs_parent = os.path.abspath(os.path.dirname(path))\n",
        "    cur = abs_parent\n",
        "    while True:\n",
        "        if os.path.basename(cur) == continent:\n",
        "            continent_dir = cur\n",
        "            break\n",
        "        parent = os.path.dirname(cur)\n",
        "        if parent == cur:\n",
        "            break\n",
        "        cur = parent\n",
        "    if continent_dir is None:\n",
        "        fallback = os.path.join(abs_parent, continent)\n",
        "        continent_dir = \"/\" + fallback.lstrip(os.sep)\n",
        "\n",
        "    return continent, country, city, continent_dir\n",
        "\n",
        "\n",
        "# Data: 9 countries per continent (TOP(3), MIDDLE(3), LAST(3))\n",
        "CONTINENT_COUNTRIES = {\n",
        "    \"Africa\": [\n",
        "        \"Nigeria\", \"South Africa\", \"Egypt\",    # TOP (3)\n",
        "        \"Seychelles\", \"Comoros\", \"Cape Verde\", # MIDDLE (3)\n",
        "        \"Mozambique\", \"Rwanda\", \"Botswana\"     # LAST (3)\n",
        "    ],\n",
        "    \"Asia\": [\n",
        "        \"China\", \"India\", \"Indonesia\",\n",
        "        \"United Arab Emirates\", \"Singapore\", \"Israel\",\n",
        "        \"Timor-Leste\", \"Maldives\", \"Brunei\"\n",
        "    ],\n",
        "    \"Europe\": [\n",
        "        \"Russia\", \"Germany\", \"United Kingdom\",\n",
        "        \"Denmark\", \"Lithuania\", \"Slovakia\",\n",
        "        \"Monaco\", \"Gibraltar\", \"San Marino\"\n",
        "    ],\n",
        "    \"North America\": [\n",
        "        \"United States\", \"Mexico\", \"Canada\",\n",
        "        \"Saint Lucia\", \"Guyana\", \"Bahamas\",\n",
        "        \"British Virgin Islands\", \"Anguilla\", \"Montserrat\"\n",
        "    ],\n",
        "    \"South America\": [\n",
        "        \"Brazil\", \"Argentina\", \"Colombia\",\n",
        "        \"Venezuela\", \"Chile\", \"Ecuador\",\n",
        "        \"Paraguay\", \"Uruguay\", \"Falkland Islands\"\n",
        "    ],\n",
        "    # Added so get_countries never raises for these\n",
        "    \"Oceania\": [\n",
        "        \"Australia\", \"New Zealand\", \"Papua New Guinea\",\n",
        "        \"Fiji\", \"Samoa\", \"Tonga\",\n",
        "        \"Vanuatu\", \"Solomon Islands\", \"Kiribati\"\n",
        "    ],\n",
        "    \"Antarctica\": [\n",
        "        # intentionally empty — no sovereign states\n",
        "    ],\n",
        "}\n",
        "\n",
        "# Normalization helpers\n",
        "def _norm(s: str) -> str:\n",
        "    \"\"\"\n",
        "    Minimal normalizer used for matching:\n",
        "      - lowercases and removes non-alphanumeric characters.\n",
        "    Use this to compare filename tokens to canonical country names.\n",
        "    \"\"\"\n",
        "    return re.sub(r'[^a-z0-9]', '', (s or '').lower())\n",
        "\n",
        "def get_countries(continent: str, image_path: str = None):\n",
        "    \"\"\"\n",
        "    Return the continent's country list (copy) and optionally apply filename-based replacement.\n",
        "\n",
        "    Behavior:\n",
        "      - continent: case-insensitive continent name (e.g. \"Africa\").\n",
        "      - image_path: optional filename like \"Continent_Country_..._[TOP|MIDDLE|LAST].ext\".\n",
        "        * The country token is taken from the SECOND underscore-separated token (parts[1]).\n",
        "        * If that country is NOT already in the continent list, the function replaces the\n",
        "          country at the group index with the parsed country:\n",
        "            TOP    -> index 2\n",
        "            MIDDLE -> index 5\n",
        "            LAST   -> index 8\n",
        "          (If tag is missing the function uses index 5 by current logic.)\n",
        "    Returns:\n",
        "      (countries_list_copy, info_dict)\n",
        "        - countries_list_copy: a shallow copy of the continent list with any replacement applied.\n",
        "        - info_dict: { used_continent, filename_country, tag, matched, added, removed, index }\n",
        "    Raises:\n",
        "      ValueError: if the provided continent is not recognized.\n",
        "    \"\"\"\n",
        "    cont_key = next((k for k in CONTINENT_COUNTRIES if _norm(k) == _norm(continent)), None)\n",
        "    if not cont_key:\n",
        "        raise ValueError(f\"Unknown continent: {continent!r}\")\n",
        "\n",
        "    arr = deepcopy(CONTINENT_COUNTRIES[cont_key])\n",
        "    info = {\"used_continent\": cont_key, \"filename_country\": None, \"tag\": None,\n",
        "            \"matched\": None, \"added\": None, \"removed\": None, \"index\": None}\n",
        "\n",
        "    if not image_path:\n",
        "        return arr, info\n",
        "\n",
        "    base = os.path.basename(image_path)\n",
        "    name, _ = os.path.splitext(base)\n",
        "    parts = name.split('_')\n",
        "    if len(parts) < 2:\n",
        "        return arr, info  # can't parse a country token\n",
        "\n",
        "    # country is the second token (parts[1]) per filename convention\n",
        "    country_token = parts[1]\n",
        "    # detect tag if last token is TOP/MIDDLE/LAST\n",
        "    tag = parts[-1].upper() if parts[-1].upper() in (\"TOP\", \"MIDDLE\", \"LAST\") else None\n",
        "\n",
        "    # build display country from single token: replace dashes with space and title-case\n",
        "    display_country = country_token.replace('-', ' ').title()\n",
        "    info[\"filename_country\"] = display_country\n",
        "    info[\"tag\"] = tag\n",
        "\n",
        "    # check if already present (using normalization)\n",
        "    for c in arr:\n",
        "        if _norm(c) == _norm(display_country):\n",
        "            info[\"matched\"] = c\n",
        "            return arr, info  # already exists — no change\n",
        "\n",
        "    # Not present: replace at group index\n",
        "    tag_to_idx = {\"TOP\": 2, \"MIDDLE\": 5, \"LAST\": 8}\n",
        "    remove_idx = tag_to_idx.get(tag, 5)\n",
        "    remove_idx = max(0, min(remove_idx, len(arr) - 1))\n",
        "\n",
        "    removed = arr.pop(remove_idx)\n",
        "    arr.insert(remove_idx, display_country)\n",
        "\n",
        "    info[\"added\"] = display_country\n",
        "    info[\"removed\"] = removed\n",
        "    info[\"index\"] = remove_idx\n",
        "    return arr, info\n"
      ],
      "metadata": {
        "trusted": true,
        "execution": {
          "iopub.status.busy": "2025-10-06T09:52:07.293902Z",
          "iopub.execute_input": "2025-10-06T09:52:07.294152Z",
          "iopub.status.idle": "2025-10-06T09:52:07.311558Z",
          "shell.execute_reply.started": "2025-10-06T09:52:07.294133Z",
          "shell.execute_reply": "2025-10-06T09:52:07.310985Z"
        },
        "collapsed": true,
        "jupyter": {
          "outputs_hidden": true
        },
        "id": "UyLpgSInbC3M"
      },
      "outputs": [],
      "execution_count": 15
    },
    {
      "cell_type": "code",
      "source": [
        "import re, json, os, torch, tempfile\n",
        "import numpy as np\n",
        "from PIL import Image\n",
        "\n",
        "def strip_code_fence(s: str) -> str:\n",
        "    \"\"\"\n",
        "    Remove leading/trailing triple-backtick fences (and any 'json' marker)\n",
        "    and trim whitespace.\n",
        "    \"\"\"\n",
        "    if not isinstance(s, str):\n",
        "        return s\n",
        "    s = s.strip()\n",
        "    s = re.sub(r\"^```(?:\\s*json)?\\s*\", \"\", s, flags=re.I)\n",
        "    s = re.sub(r\"```$\", \"\", s)\n",
        "    return s.strip()\n",
        "\n",
        "def try_parse_json_from_string(s: str):\n",
        "    \"\"\"\n",
        "    Try to parse JSON from a string. Returns (parsed_obj, error_message).\n",
        "    If parsing fails, parsed_obj is None and error_message contains info.\n",
        "    \"\"\"\n",
        "    cleaned = strip_code_fence(s)\n",
        "    try:\n",
        "        return json.loads(cleaned), None\n",
        "    except json.JSONDecodeError:\n",
        "        # fallback: try extracting first {...} or [...] substring\n",
        "        m = re.search(r\"(\\{(?:.|\\s)*\\}|\\[(?:.|\\s)*\\])\", cleaned)\n",
        "        if m:\n",
        "            try:\n",
        "                return json.loads(m.group(1)), None\n",
        "            except json.JSONDecodeError as e:\n",
        "                return None, f\"JSON decode failed for extracted substring: {e}\"\n",
        "        return None, \"no JSON found or JSON invalid\"\n",
        "\n",
        "def normalize(parsed):\n",
        "    \"\"\"\n",
        "    Normalize parsed JSON:\n",
        "      - if list of one dict -> return that dict\n",
        "      - if list of many -> return {\"json_list\": parsed}\n",
        "      - otherwise return parsed as-is\n",
        "    \"\"\"\n",
        "    if isinstance(parsed, list):\n",
        "        if len(parsed) == 1 and isinstance(parsed[0], dict):\n",
        "            return parsed[0]\n",
        "        return {\"json_list\": parsed}\n",
        "    return parsed\n",
        "\n",
        "# keep one results array per prompt (saves one file per prompt level)\n",
        "results_per_prompt = {pl: [] for pl in PROMPT_ORDER}\n",
        "\n",
        "for i, image_path in enumerate(image_paths, start=1):\n",
        "    print(f\"\\nProcessing {i}/{len(image_paths)}: {image_path}\")\n",
        "\n",
        "    # Parse location from filename; skip file if it doesn't match expected pattern\n",
        "    try:\n",
        "        continent, country_token, city, continent_dir = extract_location_from_path(image_path)\n",
        "    except Exception as e:\n",
        "        print(f\" ⚠️ Skipping {image_path!r}: {e}\")\n",
        "        continue\n",
        "\n",
        "    # Build explicit country list for this continent (with filename-aware replacement)\n",
        "    try:\n",
        "        countries, info = get_countries(continent, image_path)\n",
        "        country_list = \", \".join(countries)\n",
        "    except Exception as e:\n",
        "        print(f\" ⚠️ Could not list countries for {continent!r}: {e}\")\n",
        "        country_list = \"\"\n",
        "\n",
        "    # Optional dataset hints\n",
        "    parts = image_path.split(os.sep)\n",
        "    dataset_continents = {\"Africa\",\"Asia\",\"Europe\",\"North America\",\"South America\",\"Oceania\",\"Antarctica\"}\n",
        "    dataset_continent = next((p for p in parts if p in dataset_continents), None)\n",
        "    dataset_country = None\n",
        "    if dataset_continent:\n",
        "        try:\n",
        "            idx = parts.index(dataset_continent)\n",
        "            dataset_country = parts[idx+1] if idx+1 < len(parts) else None\n",
        "        except ValueError:\n",
        "            pass\n",
        "    dataset_split_hint = next((p for p in parts if p.upper() in {\"TOP\",\"MIDDLE\",\"LAST\"}), None)\n",
        "\n",
        "    # 4) Run all L3 prompts for this image\n",
        "    for pl in PROMPT_ORDER:\n",
        "        PROMPT_LEVEL = pl\n",
        "        prompt_text = PROMPTS[pl].format(\n",
        "            given_continent=continent,\n",
        "            country_list=country_list\n",
        "        )\n",
        "        print(f\"\\n  ➤ [{pl}] prompt:\\n{prompt_text}\\n\")\n",
        "\n",
        "        warn = None\n",
        "        try:\n",
        "            raw_output = infer_img(image_path, prompt_text)\n",
        "            print(f\"  ✔ {pl}: infer_img() full-res ok\")\n",
        "        except RuntimeError as e:\n",
        "            msg = str(e).lower()\n",
        "            if \"cuda out of memory\" in msg:\n",
        "                torch.cuda.empty_cache()\n",
        "                print(f\"  ⚠ {pl}: OOM on full-res. Resizing to 448 and retrying…\")\n",
        "                try:\n",
        "                    img = Image.open(image_path).convert(\"RGB\").resize((448, 448))\n",
        "                    with tempfile.NamedTemporaryFile(suffix=\".jpg\", delete=False) as tmp:\n",
        "                        tmp_path = tmp.name\n",
        "                        img.save(tmp_path, format=\"JPEG\")\n",
        "                    raw_output = infer_img(tmp_path, prompt_text)\n",
        "                    print(f\"  ✔ {pl}: infer_img() resized ok\")\n",
        "                    warn = \"OOM_resized\"\n",
        "                except Exception as e2:\n",
        "                    print(f\"  ❌ {pl}: failed after resize: {e2}\")\n",
        "                    raw_output = None\n",
        "                    warn = \"no_output\"\n",
        "            else:\n",
        "                print(f\"  ❌ {pl}: runtime error: {e}\")\n",
        "                raw_output = None\n",
        "                warn = \"no_output\"\n",
        "        except Exception as e:\n",
        "            print(f\"  ❌ {pl}: unexpected error: {e}\")\n",
        "            raw_output = None\n",
        "            warn = \"no_output\"\n",
        "\n",
        "        # 5) Normalize output into a single value\n",
        "        if raw_output is None:\n",
        "            output_value = None\n",
        "            warn = warn or \"no_output\"\n",
        "        elif isinstance(raw_output, (dict, list)):\n",
        "            output_value = normalize(raw_output)\n",
        "        else:\n",
        "            parsed, perr = try_parse_json_from_string(raw_output)\n",
        "            if parsed is not None:\n",
        "                output_value = normalize(parsed)\n",
        "            else:\n",
        "                output_value = raw_output\n",
        "                if not warn:\n",
        "                    warn = f\"json_parse_failed: {perr}\" if perr else \"json_parse_failed\"\n",
        "\n",
        "        # 6) Record + save (per prompt level file)\n",
        "        rec = {\n",
        "            \"image_path\":         image_path,\n",
        "            \"model\":              MODEL_NAME,\n",
        "            \"variant\":            VARIANT,\n",
        "            \"task\":               TASK,\n",
        "            \"task_level\":         TASK_LEVEL,\n",
        "            \"prompt_set\":         \"RQ1\",\n",
        "            \"prompt_level\":       PROMPT_LEVEL,\n",
        "            \"run_count\":          RUN_COUNT,\n",
        "            \"prompt\":             prompt_text,\n",
        "            \"output\":             output_value,\n",
        "\n",
        "            \"dataset_continent\":  dataset_continent,\n",
        "            \"dataset_country\":    dataset_country,\n",
        "            \"dataset_split_hint\": dataset_split_hint,\n",
        "\n",
        "            \"temperature\":        GEN_TEMPERATURE,\n",
        "            \"max_new_tokens\":     GEN_MAX_NEW_TOKENS,\n",
        "            \"do_sample\":          GEN_DO_SAMPLE,\n",
        "            \"model_repo\":         \"OpenGVLab/InternVL3-8B\",\n",
        "            \"image_size\":         IMAGE_SIZE,\n",
        "            \"device\":             (\"cuda\" if any(p.is_cuda for p in model.parameters()) else \"cpu\"),\n",
        "            \"dtype\":              str(next(model.parameters()).dtype).replace(\"torch.\", \"\"),\n",
        "            \"warning\":            warn\n",
        "        }\n",
        "        results_per_prompt[pl].append(rec)\n",
        "\n",
        "        # persist frequently (one file per prompt level)\n",
        "        save_results(\n",
        "            results_per_prompt[pl],\n",
        "            MODEL_NAME, VARIANT, TASK,\n",
        "            TASK_LEVEL,\n",
        "            pl,\n",
        "            RUN_COUNT,\n",
        "            output_dir=OUTPUT_DIR\n",
        "        )\n",
        "\n",
        "    torch.cuda.empty_cache()\n",
        "    print(\"\\n------------------------------------------------------\")\n",
        "\n",
        "print(\"✅ Done.\")\n"
      ],
      "metadata": {
        "id": "_1d3F2vJycoR",
        "trusted": true,
        "execution": {
          "iopub.status.busy": "2025-10-06T09:58:35.371886Z",
          "iopub.execute_input": "2025-10-06T09:58:35.372622Z",
          "iopub.status.idle": "2025-10-06T09:59:52.988064Z",
          "shell.execute_reply.started": "2025-10-06T09:58:35.372598Z",
          "shell.execute_reply": "2025-10-06T09:59:52.986797Z"
        },
        "jupyter": {
          "outputs_hidden": true
        },
        "colab": {
          "base_uri": "https://localhost:8080/"
        },
        "outputId": "b98ea3ea-aad6-4c7b-9a43-985ccf73b815"
      },
      "outputs": [
        {
          "output_type": "stream",
          "name": "stderr",
          "text": [
            "Setting `pad_token_id` to `eos_token_id`:151645 for open-end generation.\n"
          ]
        },
        {
          "output_type": "stream",
          "name": "stdout",
          "text": [
            "\n",
            "Processing 1/360: /content/drive/MyDrive/RQ1_Experiments/RQ1_Data_Batch1/Africa/Benin/Africa_Benin_B1_MIDDLE.png\n",
            "\n",
            "  ➤ [prompt1] prompt:\n",
            "Assume the image is from Africa. Analyze it and answer two things:\n",
            "\n",
            "1) Which country is this most likely from? (choose from Nigeria, South Africa, Egypt, Seychelles, Comoros, Benin, Mozambique, Rwanda, Botswana)\n",
            "\n",
            "2) What is the most suitable label: political expression, vandalism, decoration, cultural identity, or advertisement?\n",
            "\n",
            "  ✔ prompt1: infer_img() full-res ok\n"
          ]
        },
        {
          "output_type": "stream",
          "name": "stderr",
          "text": [
            "Setting `pad_token_id` to `eos_token_id`:151645 for open-end generation.\n"
          ]
        },
        {
          "output_type": "stream",
          "name": "stdout",
          "text": [
            " Saved results to /content/drive/MyDrive/RQ1_Experiments/results/InternVL3-8B/RQ1_InternVL3-8B_8B_country_L3_prompt1_r1.json\n",
            "\n",
            "  ➤ [prompt2] prompt:\n",
            "You are a cultural anthropologist viewing street visuals. Given that mural in image is located in Africa, give these four pieces of info:\n",
            "\n",
            "- COUNTRY (choose exactly one: Nigeria, South Africa, Egypt, Seychelles, Comoros, Benin, Mozambique, Rwanda, Botswana)\n",
            "- LABEL (choose exactly one: political expression / vandalism / decoration / cultural identity / advertisement)\n",
            "- CONFIDENCE (0–100%)\n",
            "- TOP CUE (2–3 sentences describing the key visual/cultural cue)\n",
            "\n",
            "Be concise and calibrate CONFIDENCE to how strongly the visual cues support your claims.\n",
            "\n",
            "  ✔ prompt2: infer_img() full-res ok\n"
          ]
        },
        {
          "output_type": "stream",
          "name": "stderr",
          "text": [
            "Setting `pad_token_id` to `eos_token_id`:151645 for open-end generation.\n"
          ]
        },
        {
          "output_type": "stream",
          "name": "stdout",
          "text": [
            " Saved results to /content/drive/MyDrive/RQ1_Experiments/results/InternVL3-8B/RQ1_InternVL3-8B_8B_country_L3_prompt2_r1.json\n",
            "\n",
            "  ➤ [prompt3] prompt:\n",
            "Moderate a brief debate among a Geographer, a Street Artist, and a Museum Curator about this image, assuming it originates from Africa. For each expert, give:\n",
            "\n",
            "- ROLE: <role name>\n",
            "- COUNTRY (choose exactly one: Nigeria, South Africa, Egypt, Seychelles, Comoros, Benin, Mozambique, Rwanda, Botswana)\n",
            "- LABEL (political expression / vandalism / decoration / cultural identity / advertisement)\n",
            "- SHORT_RATIONALE (one concise sentence)\n",
            "\n",
            "After the three positions, write a 2-paragraph moderator resolution:\n",
            "1) Compare the three rationales and state which COUNTRY and LABEL you choose and why (trade-offs).\n",
            "2) List 2 visual cues that were decisive and mention one alternative explanation you rejected.\n",
            "\n",
            "Finish with: COUNTRY and LABEL (each on its own line).\n",
            "\n",
            "  ✔ prompt3: infer_img() full-res ok\n"
          ]
        },
        {
          "output_type": "stream",
          "name": "stderr",
          "text": [
            "Setting `pad_token_id` to `eos_token_id`:151645 for open-end generation.\n"
          ]
        },
        {
          "output_type": "stream",
          "name": "stdout",
          "text": [
            " Saved results to /content/drive/MyDrive/RQ1_Experiments/results/InternVL3-8B/RQ1_InternVL3-8B_8B_country_L3_prompt3_r1.json\n",
            "\n",
            "  ➤ [prompt4] prompt:\n",
            "You are a cultural anthropologist & artist. Given that mural in image is located in Africa, provide:\n",
            "\n",
            "- COUNTRY: two most likely countries (choose from: Nigeria, South Africa, Egypt, Seychelles, Comoros, Benin, Mozambique, Rwanda, Botswana) with percentages (sum ≈100), e.g. \"\"Iceland: 70%, Russia: 30%\"\"\n",
            "- WHY COUNTRY: 2–3 sentences explaining how visual cues suggest the chosen countries .\n",
            "\n",
            "- LABEL: choose from (political expression, vandalism, decoration, cultural identity, advertisement) and also assign probabilities for all five labels (sum ≈100)\n",
            "- WHY LABEL: 2–3 sentences linking cues to chosen label.\n",
            "\n",
            "- TOP CUES: list three concrete cues that were decisive (1–6 words each)\n",
            "- BIAS NOTE: 2–3 sentences reflecting how cultural bias might have affected the probability estimates.\n",
            "\n",
            "Constraints:\n",
            "- Avoid equal continent splits (e.g. 50/50). Show one as more likely.\n",
            "- Keep WHY COUNTRY and WHY LABEL tied to visible evidence (colors, symbols, technique, location clues etc).\n",
            "\n",
            "  ✔ prompt4: infer_img() full-res ok\n",
            " Saved results to /content/drive/MyDrive/RQ1_Experiments/results/InternVL3-8B/RQ1_InternVL3-8B_8B_country_L3_prompt4_r1.json\n",
            "\n",
            "------------------------------------------------------\n",
            "\n",
            "Processing 2/360: /content/drive/MyDrive/RQ1_Experiments/RQ1_Data_Batch1/Africa/Benin/Africa_Benin_B3_MIDDLE.png\n",
            "\n",
            "  ➤ [prompt1] prompt:\n",
            "Assume the image is from Africa. Analyze it and answer two things:\n",
            "\n",
            "1) Which country is this most likely from? (choose from Nigeria, South Africa, Egypt, Seychelles, Comoros, Benin, Mozambique, Rwanda, Botswana)\n",
            "\n",
            "2) What is the most suitable label: political expression, vandalism, decoration, cultural identity, or advertisement?\n",
            "\n"
          ]
        },
        {
          "output_type": "stream",
          "name": "stderr",
          "text": [
            "Setting `pad_token_id` to `eos_token_id`:151645 for open-end generation.\n",
            "Setting `pad_token_id` to `eos_token_id`:151645 for open-end generation.\n"
          ]
        },
        {
          "output_type": "stream",
          "name": "stdout",
          "text": [
            "  ✔ prompt1: infer_img() full-res ok\n",
            " Saved results to /content/drive/MyDrive/RQ1_Experiments/results/InternVL3-8B/RQ1_InternVL3-8B_8B_country_L3_prompt1_r1.json\n",
            "\n",
            "  ➤ [prompt2] prompt:\n",
            "You are a cultural anthropologist viewing street visuals. Given that mural in image is located in Africa, give these four pieces of info:\n",
            "\n",
            "- COUNTRY (choose exactly one: Nigeria, South Africa, Egypt, Seychelles, Comoros, Benin, Mozambique, Rwanda, Botswana)\n",
            "- LABEL (choose exactly one: political expression / vandalism / decoration / cultural identity / advertisement)\n",
            "- CONFIDENCE (0–100%)\n",
            "- TOP CUE (2–3 sentences describing the key visual/cultural cue)\n",
            "\n",
            "Be concise and calibrate CONFIDENCE to how strongly the visual cues support your claims.\n",
            "\n"
          ]
        },
        {
          "output_type": "stream",
          "name": "stderr",
          "text": [
            "Setting `pad_token_id` to `eos_token_id`:151645 for open-end generation.\n"
          ]
        },
        {
          "output_type": "stream",
          "name": "stdout",
          "text": [
            "  ✔ prompt2: infer_img() full-res ok\n",
            " Saved results to /content/drive/MyDrive/RQ1_Experiments/results/InternVL3-8B/RQ1_InternVL3-8B_8B_country_L3_prompt2_r1.json\n",
            "\n",
            "  ➤ [prompt3] prompt:\n",
            "Moderate a brief debate among a Geographer, a Street Artist, and a Museum Curator about this image, assuming it originates from Africa. For each expert, give:\n",
            "\n",
            "- ROLE: <role name>\n",
            "- COUNTRY (choose exactly one: Nigeria, South Africa, Egypt, Seychelles, Comoros, Benin, Mozambique, Rwanda, Botswana)\n",
            "- LABEL (political expression / vandalism / decoration / cultural identity / advertisement)\n",
            "- SHORT_RATIONALE (one concise sentence)\n",
            "\n",
            "After the three positions, write a 2-paragraph moderator resolution:\n",
            "1) Compare the three rationales and state which COUNTRY and LABEL you choose and why (trade-offs).\n",
            "2) List 2 visual cues that were decisive and mention one alternative explanation you rejected.\n",
            "\n",
            "Finish with: COUNTRY and LABEL (each on its own line).\n",
            "\n"
          ]
        },
        {
          "output_type": "stream",
          "name": "stderr",
          "text": [
            "Setting `pad_token_id` to `eos_token_id`:151645 for open-end generation.\n"
          ]
        },
        {
          "output_type": "stream",
          "name": "stdout",
          "text": [
            "  ✔ prompt3: infer_img() full-res ok\n",
            " Saved results to /content/drive/MyDrive/RQ1_Experiments/results/InternVL3-8B/RQ1_InternVL3-8B_8B_country_L3_prompt3_r1.json\n",
            "\n",
            "  ➤ [prompt4] prompt:\n",
            "You are a cultural anthropologist & artist. Given that mural in image is located in Africa, provide:\n",
            "\n",
            "- COUNTRY: two most likely countries (choose from: Nigeria, South Africa, Egypt, Seychelles, Comoros, Benin, Mozambique, Rwanda, Botswana) with percentages (sum ≈100), e.g. \"\"Iceland: 70%, Russia: 30%\"\"\n",
            "- WHY COUNTRY: 2–3 sentences explaining how visual cues suggest the chosen countries .\n",
            "\n",
            "- LABEL: choose from (political expression, vandalism, decoration, cultural identity, advertisement) and also assign probabilities for all five labels (sum ≈100)\n",
            "- WHY LABEL: 2–3 sentences linking cues to chosen label.\n",
            "\n",
            "- TOP CUES: list three concrete cues that were decisive (1–6 words each)\n",
            "- BIAS NOTE: 2–3 sentences reflecting how cultural bias might have affected the probability estimates.\n",
            "\n",
            "Constraints:\n",
            "- Avoid equal continent splits (e.g. 50/50). Show one as more likely.\n",
            "- Keep WHY COUNTRY and WHY LABEL tied to visible evidence (colors, symbols, technique, location clues etc).\n",
            "\n"
          ]
        },
        {
          "output_type": "stream",
          "name": "stderr",
          "text": [
            "Setting `pad_token_id` to `eos_token_id`:151645 for open-end generation.\n"
          ]
        },
        {
          "output_type": "stream",
          "name": "stdout",
          "text": [
            "  ✔ prompt4: infer_img() full-res ok\n",
            " Saved results to /content/drive/MyDrive/RQ1_Experiments/results/InternVL3-8B/RQ1_InternVL3-8B_8B_country_L3_prompt4_r1.json\n",
            "\n",
            "------------------------------------------------------\n",
            "\n",
            "Processing 3/360: /content/drive/MyDrive/RQ1_Experiments/RQ1_Data_Batch1/Africa/Benin/Africa_Benin_B4_MIDDLE.png\n",
            "\n",
            "  ➤ [prompt1] prompt:\n",
            "Assume the image is from Africa. Analyze it and answer two things:\n",
            "\n",
            "1) Which country is this most likely from? (choose from Nigeria, South Africa, Egypt, Seychelles, Comoros, Benin, Mozambique, Rwanda, Botswana)\n",
            "\n",
            "2) What is the most suitable label: political expression, vandalism, decoration, cultural identity, or advertisement?\n",
            "\n"
          ]
        },
        {
          "output_type": "stream",
          "name": "stderr",
          "text": [
            "Setting `pad_token_id` to `eos_token_id`:151645 for open-end generation.\n"
          ]
        },
        {
          "output_type": "stream",
          "name": "stdout",
          "text": [
            "  ✔ prompt1: infer_img() full-res ok\n",
            " Saved results to /content/drive/MyDrive/RQ1_Experiments/results/InternVL3-8B/RQ1_InternVL3-8B_8B_country_L3_prompt1_r1.json\n",
            "\n",
            "  ➤ [prompt2] prompt:\n",
            "You are a cultural anthropologist viewing street visuals. Given that mural in image is located in Africa, give these four pieces of info:\n",
            "\n",
            "- COUNTRY (choose exactly one: Nigeria, South Africa, Egypt, Seychelles, Comoros, Benin, Mozambique, Rwanda, Botswana)\n",
            "- LABEL (choose exactly one: political expression / vandalism / decoration / cultural identity / advertisement)\n",
            "- CONFIDENCE (0–100%)\n",
            "- TOP CUE (2–3 sentences describing the key visual/cultural cue)\n",
            "\n",
            "Be concise and calibrate CONFIDENCE to how strongly the visual cues support your claims.\n",
            "\n"
          ]
        },
        {
          "output_type": "stream",
          "name": "stderr",
          "text": [
            "Setting `pad_token_id` to `eos_token_id`:151645 for open-end generation.\n"
          ]
        },
        {
          "output_type": "stream",
          "name": "stdout",
          "text": [
            "  ✔ prompt2: infer_img() full-res ok\n",
            " Saved results to /content/drive/MyDrive/RQ1_Experiments/results/InternVL3-8B/RQ1_InternVL3-8B_8B_country_L3_prompt2_r1.json\n",
            "\n",
            "  ➤ [prompt3] prompt:\n",
            "Moderate a brief debate among a Geographer, a Street Artist, and a Museum Curator about this image, assuming it originates from Africa. For each expert, give:\n",
            "\n",
            "- ROLE: <role name>\n",
            "- COUNTRY (choose exactly one: Nigeria, South Africa, Egypt, Seychelles, Comoros, Benin, Mozambique, Rwanda, Botswana)\n",
            "- LABEL (political expression / vandalism / decoration / cultural identity / advertisement)\n",
            "- SHORT_RATIONALE (one concise sentence)\n",
            "\n",
            "After the three positions, write a 2-paragraph moderator resolution:\n",
            "1) Compare the three rationales and state which COUNTRY and LABEL you choose and why (trade-offs).\n",
            "2) List 2 visual cues that were decisive and mention one alternative explanation you rejected.\n",
            "\n",
            "Finish with: COUNTRY and LABEL (each on its own line).\n",
            "\n"
          ]
        },
        {
          "output_type": "stream",
          "name": "stderr",
          "text": [
            "Setting `pad_token_id` to `eos_token_id`:151645 for open-end generation.\n"
          ]
        },
        {
          "output_type": "stream",
          "name": "stdout",
          "text": [
            "  ✔ prompt3: infer_img() full-res ok\n",
            " Saved results to /content/drive/MyDrive/RQ1_Experiments/results/InternVL3-8B/RQ1_InternVL3-8B_8B_country_L3_prompt3_r1.json\n",
            "\n",
            "  ➤ [prompt4] prompt:\n",
            "You are a cultural anthropologist & artist. Given that mural in image is located in Africa, provide:\n",
            "\n",
            "- COUNTRY: two most likely countries (choose from: Nigeria, South Africa, Egypt, Seychelles, Comoros, Benin, Mozambique, Rwanda, Botswana) with percentages (sum ≈100), e.g. \"\"Iceland: 70%, Russia: 30%\"\"\n",
            "- WHY COUNTRY: 2–3 sentences explaining how visual cues suggest the chosen countries .\n",
            "\n",
            "- LABEL: choose from (political expression, vandalism, decoration, cultural identity, advertisement) and also assign probabilities for all five labels (sum ≈100)\n",
            "- WHY LABEL: 2–3 sentences linking cues to chosen label.\n",
            "\n",
            "- TOP CUES: list three concrete cues that were decisive (1–6 words each)\n",
            "- BIAS NOTE: 2–3 sentences reflecting how cultural bias might have affected the probability estimates.\n",
            "\n",
            "Constraints:\n",
            "- Avoid equal continent splits (e.g. 50/50). Show one as more likely.\n",
            "- Keep WHY COUNTRY and WHY LABEL tied to visible evidence (colors, symbols, technique, location clues etc).\n",
            "\n",
            "  ✔ prompt4: infer_img() full-res ok\n",
            " Saved results to /content/drive/MyDrive/RQ1_Experiments/results/InternVL3-8B/RQ1_InternVL3-8B_8B_country_L3_prompt4_r1.json\n",
            "\n",
            "------------------------------------------------------\n",
            "\n",
            "Processing 4/360: /content/drive/MyDrive/RQ1_Experiments/RQ1_Data_Batch1/Africa/Benin/Africa_Benin_B7_MIDDLE.png\n",
            "\n",
            "  ➤ [prompt1] prompt:\n",
            "Assume the image is from Africa. Analyze it and answer two things:\n",
            "\n",
            "1) Which country is this most likely from? (choose from Nigeria, South Africa, Egypt, Seychelles, Comoros, Benin, Mozambique, Rwanda, Botswana)\n",
            "\n",
            "2) What is the most suitable label: political expression, vandalism, decoration, cultural identity, or advertisement?\n",
            "\n"
          ]
        },
        {
          "output_type": "stream",
          "name": "stderr",
          "text": [
            "Setting `pad_token_id` to `eos_token_id`:151645 for open-end generation.\n",
            "Setting `pad_token_id` to `eos_token_id`:151645 for open-end generation.\n"
          ]
        },
        {
          "output_type": "stream",
          "name": "stdout",
          "text": [
            "  ✔ prompt1: infer_img() full-res ok\n",
            " Saved results to /content/drive/MyDrive/RQ1_Experiments/results/InternVL3-8B/RQ1_InternVL3-8B_8B_country_L3_prompt1_r1.json\n",
            "\n",
            "  ➤ [prompt2] prompt:\n",
            "You are a cultural anthropologist viewing street visuals. Given that mural in image is located in Africa, give these four pieces of info:\n",
            "\n",
            "- COUNTRY (choose exactly one: Nigeria, South Africa, Egypt, Seychelles, Comoros, Benin, Mozambique, Rwanda, Botswana)\n",
            "- LABEL (choose exactly one: political expression / vandalism / decoration / cultural identity / advertisement)\n",
            "- CONFIDENCE (0–100%)\n",
            "- TOP CUE (2–3 sentences describing the key visual/cultural cue)\n",
            "\n",
            "Be concise and calibrate CONFIDENCE to how strongly the visual cues support your claims.\n",
            "\n"
          ]
        },
        {
          "output_type": "stream",
          "name": "stderr",
          "text": [
            "Setting `pad_token_id` to `eos_token_id`:151645 for open-end generation.\n"
          ]
        },
        {
          "output_type": "stream",
          "name": "stdout",
          "text": [
            "  ✔ prompt2: infer_img() full-res ok\n",
            " Saved results to /content/drive/MyDrive/RQ1_Experiments/results/InternVL3-8B/RQ1_InternVL3-8B_8B_country_L3_prompt2_r1.json\n",
            "\n",
            "  ➤ [prompt3] prompt:\n",
            "Moderate a brief debate among a Geographer, a Street Artist, and a Museum Curator about this image, assuming it originates from Africa. For each expert, give:\n",
            "\n",
            "- ROLE: <role name>\n",
            "- COUNTRY (choose exactly one: Nigeria, South Africa, Egypt, Seychelles, Comoros, Benin, Mozambique, Rwanda, Botswana)\n",
            "- LABEL (political expression / vandalism / decoration / cultural identity / advertisement)\n",
            "- SHORT_RATIONALE (one concise sentence)\n",
            "\n",
            "After the three positions, write a 2-paragraph moderator resolution:\n",
            "1) Compare the three rationales and state which COUNTRY and LABEL you choose and why (trade-offs).\n",
            "2) List 2 visual cues that were decisive and mention one alternative explanation you rejected.\n",
            "\n",
            "Finish with: COUNTRY and LABEL (each on its own line).\n",
            "\n"
          ]
        },
        {
          "output_type": "stream",
          "name": "stderr",
          "text": [
            "Setting `pad_token_id` to `eos_token_id`:151645 for open-end generation.\n"
          ]
        },
        {
          "output_type": "stream",
          "name": "stdout",
          "text": [
            "  ✔ prompt3: infer_img() full-res ok\n",
            " Saved results to /content/drive/MyDrive/RQ1_Experiments/results/InternVL3-8B/RQ1_InternVL3-8B_8B_country_L3_prompt3_r1.json\n",
            "\n",
            "  ➤ [prompt4] prompt:\n",
            "You are a cultural anthropologist & artist. Given that mural in image is located in Africa, provide:\n",
            "\n",
            "- COUNTRY: two most likely countries (choose from: Nigeria, South Africa, Egypt, Seychelles, Comoros, Benin, Mozambique, Rwanda, Botswana) with percentages (sum ≈100), e.g. \"\"Iceland: 70%, Russia: 30%\"\"\n",
            "- WHY COUNTRY: 2–3 sentences explaining how visual cues suggest the chosen countries .\n",
            "\n",
            "- LABEL: choose from (political expression, vandalism, decoration, cultural identity, advertisement) and also assign probabilities for all five labels (sum ≈100)\n",
            "- WHY LABEL: 2–3 sentences linking cues to chosen label.\n",
            "\n",
            "- TOP CUES: list three concrete cues that were decisive (1–6 words each)\n",
            "- BIAS NOTE: 2–3 sentences reflecting how cultural bias might have affected the probability estimates.\n",
            "\n",
            "Constraints:\n",
            "- Avoid equal continent splits (e.g. 50/50). Show one as more likely.\n",
            "- Keep WHY COUNTRY and WHY LABEL tied to visible evidence (colors, symbols, technique, location clues etc).\n",
            "\n",
            "  ✔ prompt4: infer_img() full-res ok\n",
            " Saved results to /content/drive/MyDrive/RQ1_Experiments/results/InternVL3-8B/RQ1_InternVL3-8B_8B_country_L3_prompt4_r1.json\n",
            "\n",
            "------------------------------------------------------\n",
            "\n",
            "Processing 5/360: /content/drive/MyDrive/RQ1_Experiments/RQ1_Data_Batch1/Africa/Benin/Africa_Benin_B8_MIDDLE.png\n",
            "\n",
            "  ➤ [prompt1] prompt:\n",
            "Assume the image is from Africa. Analyze it and answer two things:\n",
            "\n",
            "1) Which country is this most likely from? (choose from Nigeria, South Africa, Egypt, Seychelles, Comoros, Benin, Mozambique, Rwanda, Botswana)\n",
            "\n",
            "2) What is the most suitable label: political expression, vandalism, decoration, cultural identity, or advertisement?\n",
            "\n"
          ]
        },
        {
          "output_type": "stream",
          "name": "stderr",
          "text": [
            "Setting `pad_token_id` to `eos_token_id`:151645 for open-end generation.\n",
            "Setting `pad_token_id` to `eos_token_id`:151645 for open-end generation.\n"
          ]
        },
        {
          "output_type": "stream",
          "name": "stdout",
          "text": [
            "  ✔ prompt1: infer_img() full-res ok\n",
            " Saved results to /content/drive/MyDrive/RQ1_Experiments/results/InternVL3-8B/RQ1_InternVL3-8B_8B_country_L3_prompt1_r1.json\n",
            "\n",
            "  ➤ [prompt2] prompt:\n",
            "You are a cultural anthropologist viewing street visuals. Given that mural in image is located in Africa, give these four pieces of info:\n",
            "\n",
            "- COUNTRY (choose exactly one: Nigeria, South Africa, Egypt, Seychelles, Comoros, Benin, Mozambique, Rwanda, Botswana)\n",
            "- LABEL (choose exactly one: political expression / vandalism / decoration / cultural identity / advertisement)\n",
            "- CONFIDENCE (0–100%)\n",
            "- TOP CUE (2–3 sentences describing the key visual/cultural cue)\n",
            "\n",
            "Be concise and calibrate CONFIDENCE to how strongly the visual cues support your claims.\n",
            "\n"
          ]
        },
        {
          "output_type": "stream",
          "name": "stderr",
          "text": [
            "Setting `pad_token_id` to `eos_token_id`:151645 for open-end generation.\n"
          ]
        },
        {
          "output_type": "stream",
          "name": "stdout",
          "text": [
            "  ✔ prompt2: infer_img() full-res ok\n",
            " Saved results to /content/drive/MyDrive/RQ1_Experiments/results/InternVL3-8B/RQ1_InternVL3-8B_8B_country_L3_prompt2_r1.json\n",
            "\n",
            "  ➤ [prompt3] prompt:\n",
            "Moderate a brief debate among a Geographer, a Street Artist, and a Museum Curator about this image, assuming it originates from Africa. For each expert, give:\n",
            "\n",
            "- ROLE: <role name>\n",
            "- COUNTRY (choose exactly one: Nigeria, South Africa, Egypt, Seychelles, Comoros, Benin, Mozambique, Rwanda, Botswana)\n",
            "- LABEL (political expression / vandalism / decoration / cultural identity / advertisement)\n",
            "- SHORT_RATIONALE (one concise sentence)\n",
            "\n",
            "After the three positions, write a 2-paragraph moderator resolution:\n",
            "1) Compare the three rationales and state which COUNTRY and LABEL you choose and why (trade-offs).\n",
            "2) List 2 visual cues that were decisive and mention one alternative explanation you rejected.\n",
            "\n",
            "Finish with: COUNTRY and LABEL (each on its own line).\n",
            "\n"
          ]
        },
        {
          "output_type": "stream",
          "name": "stderr",
          "text": [
            "Setting `pad_token_id` to `eos_token_id`:151645 for open-end generation.\n"
          ]
        },
        {
          "output_type": "stream",
          "name": "stdout",
          "text": [
            "  ✔ prompt3: infer_img() full-res ok\n",
            " Saved results to /content/drive/MyDrive/RQ1_Experiments/results/InternVL3-8B/RQ1_InternVL3-8B_8B_country_L3_prompt3_r1.json\n",
            "\n",
            "  ➤ [prompt4] prompt:\n",
            "You are a cultural anthropologist & artist. Given that mural in image is located in Africa, provide:\n",
            "\n",
            "- COUNTRY: two most likely countries (choose from: Nigeria, South Africa, Egypt, Seychelles, Comoros, Benin, Mozambique, Rwanda, Botswana) with percentages (sum ≈100), e.g. \"\"Iceland: 70%, Russia: 30%\"\"\n",
            "- WHY COUNTRY: 2–3 sentences explaining how visual cues suggest the chosen countries .\n",
            "\n",
            "- LABEL: choose from (political expression, vandalism, decoration, cultural identity, advertisement) and also assign probabilities for all five labels (sum ≈100)\n",
            "- WHY LABEL: 2–3 sentences linking cues to chosen label.\n",
            "\n",
            "- TOP CUES: list three concrete cues that were decisive (1–6 words each)\n",
            "- BIAS NOTE: 2–3 sentences reflecting how cultural bias might have affected the probability estimates.\n",
            "\n",
            "Constraints:\n",
            "- Avoid equal continent splits (e.g. 50/50). Show one as more likely.\n",
            "- Keep WHY COUNTRY and WHY LABEL tied to visible evidence (colors, symbols, technique, location clues etc).\n",
            "\n",
            "  ✔ prompt4: infer_img() full-res ok\n",
            " Saved results to /content/drive/MyDrive/RQ1_Experiments/results/InternVL3-8B/RQ1_InternVL3-8B_8B_country_L3_prompt4_r1.json\n",
            "\n",
            "------------------------------------------------------\n",
            "\n",
            "Processing 6/360: /content/drive/MyDrive/RQ1_Experiments/RQ1_Data_Batch1/Africa/Benin/Africa_Benin_B9_MIDDLE.png\n",
            "\n",
            "  ➤ [prompt1] prompt:\n",
            "Assume the image is from Africa. Analyze it and answer two things:\n",
            "\n",
            "1) Which country is this most likely from? (choose from Nigeria, South Africa, Egypt, Seychelles, Comoros, Benin, Mozambique, Rwanda, Botswana)\n",
            "\n",
            "2) What is the most suitable label: political expression, vandalism, decoration, cultural identity, or advertisement?\n",
            "\n"
          ]
        },
        {
          "output_type": "stream",
          "name": "stderr",
          "text": [
            "Setting `pad_token_id` to `eos_token_id`:151645 for open-end generation.\n",
            "Setting `pad_token_id` to `eos_token_id`:151645 for open-end generation.\n"
          ]
        },
        {
          "output_type": "stream",
          "name": "stdout",
          "text": [
            "  ✔ prompt1: infer_img() full-res ok\n",
            " Saved results to /content/drive/MyDrive/RQ1_Experiments/results/InternVL3-8B/RQ1_InternVL3-8B_8B_country_L3_prompt1_r1.json\n",
            "\n",
            "  ➤ [prompt2] prompt:\n",
            "You are a cultural anthropologist viewing street visuals. Given that mural in image is located in Africa, give these four pieces of info:\n",
            "\n",
            "- COUNTRY (choose exactly one: Nigeria, South Africa, Egypt, Seychelles, Comoros, Benin, Mozambique, Rwanda, Botswana)\n",
            "- LABEL (choose exactly one: political expression / vandalism / decoration / cultural identity / advertisement)\n",
            "- CONFIDENCE (0–100%)\n",
            "- TOP CUE (2–3 sentences describing the key visual/cultural cue)\n",
            "\n",
            "Be concise and calibrate CONFIDENCE to how strongly the visual cues support your claims.\n",
            "\n"
          ]
        },
        {
          "output_type": "stream",
          "name": "stderr",
          "text": [
            "Setting `pad_token_id` to `eos_token_id`:151645 for open-end generation.\n"
          ]
        },
        {
          "output_type": "stream",
          "name": "stdout",
          "text": [
            "  ✔ prompt2: infer_img() full-res ok\n",
            " Saved results to /content/drive/MyDrive/RQ1_Experiments/results/InternVL3-8B/RQ1_InternVL3-8B_8B_country_L3_prompt2_r1.json\n",
            "\n",
            "  ➤ [prompt3] prompt:\n",
            "Moderate a brief debate among a Geographer, a Street Artist, and a Museum Curator about this image, assuming it originates from Africa. For each expert, give:\n",
            "\n",
            "- ROLE: <role name>\n",
            "- COUNTRY (choose exactly one: Nigeria, South Africa, Egypt, Seychelles, Comoros, Benin, Mozambique, Rwanda, Botswana)\n",
            "- LABEL (political expression / vandalism / decoration / cultural identity / advertisement)\n",
            "- SHORT_RATIONALE (one concise sentence)\n",
            "\n",
            "After the three positions, write a 2-paragraph moderator resolution:\n",
            "1) Compare the three rationales and state which COUNTRY and LABEL you choose and why (trade-offs).\n",
            "2) List 2 visual cues that were decisive and mention one alternative explanation you rejected.\n",
            "\n",
            "Finish with: COUNTRY and LABEL (each on its own line).\n",
            "\n"
          ]
        },
        {
          "output_type": "stream",
          "name": "stderr",
          "text": [
            "Setting `pad_token_id` to `eos_token_id`:151645 for open-end generation.\n"
          ]
        },
        {
          "output_type": "stream",
          "name": "stdout",
          "text": [
            "  ✔ prompt3: infer_img() full-res ok\n",
            " Saved results to /content/drive/MyDrive/RQ1_Experiments/results/InternVL3-8B/RQ1_InternVL3-8B_8B_country_L3_prompt3_r1.json\n",
            "\n",
            "  ➤ [prompt4] prompt:\n",
            "You are a cultural anthropologist & artist. Given that mural in image is located in Africa, provide:\n",
            "\n",
            "- COUNTRY: two most likely countries (choose from: Nigeria, South Africa, Egypt, Seychelles, Comoros, Benin, Mozambique, Rwanda, Botswana) with percentages (sum ≈100), e.g. \"\"Iceland: 70%, Russia: 30%\"\"\n",
            "- WHY COUNTRY: 2–3 sentences explaining how visual cues suggest the chosen countries .\n",
            "\n",
            "- LABEL: choose from (political expression, vandalism, decoration, cultural identity, advertisement) and also assign probabilities for all five labels (sum ≈100)\n",
            "- WHY LABEL: 2–3 sentences linking cues to chosen label.\n",
            "\n",
            "- TOP CUES: list three concrete cues that were decisive (1–6 words each)\n",
            "- BIAS NOTE: 2–3 sentences reflecting how cultural bias might have affected the probability estimates.\n",
            "\n",
            "Constraints:\n",
            "- Avoid equal continent splits (e.g. 50/50). Show one as more likely.\n",
            "- Keep WHY COUNTRY and WHY LABEL tied to visible evidence (colors, symbols, technique, location clues etc).\n",
            "\n",
            "  ✔ prompt4: infer_img() full-res ok\n",
            " Saved results to /content/drive/MyDrive/RQ1_Experiments/results/InternVL3-8B/RQ1_InternVL3-8B_8B_country_L3_prompt4_r1.json\n",
            "\n",
            "------------------------------------------------------\n",
            "\n",
            "Processing 7/360: /content/drive/MyDrive/RQ1_Experiments/RQ1_Data_Batch1/Africa/Cape Verde/Africa_Cape Verde_CV1_LAST.PNG\n",
            "\n",
            "  ➤ [prompt1] prompt:\n",
            "Assume the image is from Africa. Analyze it and answer two things:\n",
            "\n",
            "1) Which country is this most likely from? (choose from Nigeria, South Africa, Egypt, Seychelles, Comoros, Cape Verde, Mozambique, Rwanda, Botswana)\n",
            "\n",
            "2) What is the most suitable label: political expression, vandalism, decoration, cultural identity, or advertisement?\n",
            "\n"
          ]
        },
        {
          "output_type": "stream",
          "name": "stderr",
          "text": [
            "Setting `pad_token_id` to `eos_token_id`:151645 for open-end generation.\n",
            "Setting `pad_token_id` to `eos_token_id`:151645 for open-end generation.\n"
          ]
        },
        {
          "output_type": "stream",
          "name": "stdout",
          "text": [
            "  ✔ prompt1: infer_img() full-res ok\n",
            " Saved results to /content/drive/MyDrive/RQ1_Experiments/results/InternVL3-8B/RQ1_InternVL3-8B_8B_country_L3_prompt1_r1.json\n",
            "\n",
            "  ➤ [prompt2] prompt:\n",
            "You are a cultural anthropologist viewing street visuals. Given that mural in image is located in Africa, give these four pieces of info:\n",
            "\n",
            "- COUNTRY (choose exactly one: Nigeria, South Africa, Egypt, Seychelles, Comoros, Cape Verde, Mozambique, Rwanda, Botswana)\n",
            "- LABEL (choose exactly one: political expression / vandalism / decoration / cultural identity / advertisement)\n",
            "- CONFIDENCE (0–100%)\n",
            "- TOP CUE (2–3 sentences describing the key visual/cultural cue)\n",
            "\n",
            "Be concise and calibrate CONFIDENCE to how strongly the visual cues support your claims.\n",
            "\n"
          ]
        },
        {
          "output_type": "stream",
          "name": "stderr",
          "text": [
            "Setting `pad_token_id` to `eos_token_id`:151645 for open-end generation.\n"
          ]
        },
        {
          "output_type": "stream",
          "name": "stdout",
          "text": [
            "  ✔ prompt2: infer_img() full-res ok\n",
            " Saved results to /content/drive/MyDrive/RQ1_Experiments/results/InternVL3-8B/RQ1_InternVL3-8B_8B_country_L3_prompt2_r1.json\n",
            "\n",
            "  ➤ [prompt3] prompt:\n",
            "Moderate a brief debate among a Geographer, a Street Artist, and a Museum Curator about this image, assuming it originates from Africa. For each expert, give:\n",
            "\n",
            "- ROLE: <role name>\n",
            "- COUNTRY (choose exactly one: Nigeria, South Africa, Egypt, Seychelles, Comoros, Cape Verde, Mozambique, Rwanda, Botswana)\n",
            "- LABEL (political expression / vandalism / decoration / cultural identity / advertisement)\n",
            "- SHORT_RATIONALE (one concise sentence)\n",
            "\n",
            "After the three positions, write a 2-paragraph moderator resolution:\n",
            "1) Compare the three rationales and state which COUNTRY and LABEL you choose and why (trade-offs).\n",
            "2) List 2 visual cues that were decisive and mention one alternative explanation you rejected.\n",
            "\n",
            "Finish with: COUNTRY and LABEL (each on its own line).\n",
            "\n"
          ]
        },
        {
          "output_type": "stream",
          "name": "stderr",
          "text": [
            "Setting `pad_token_id` to `eos_token_id`:151645 for open-end generation.\n"
          ]
        },
        {
          "output_type": "stream",
          "name": "stdout",
          "text": [
            "  ✔ prompt3: infer_img() full-res ok\n",
            " Saved results to /content/drive/MyDrive/RQ1_Experiments/results/InternVL3-8B/RQ1_InternVL3-8B_8B_country_L3_prompt3_r1.json\n",
            "\n",
            "  ➤ [prompt4] prompt:\n",
            "You are a cultural anthropologist & artist. Given that mural in image is located in Africa, provide:\n",
            "\n",
            "- COUNTRY: two most likely countries (choose from: Nigeria, South Africa, Egypt, Seychelles, Comoros, Cape Verde, Mozambique, Rwanda, Botswana) with percentages (sum ≈100), e.g. \"\"Iceland: 70%, Russia: 30%\"\"\n",
            "- WHY COUNTRY: 2–3 sentences explaining how visual cues suggest the chosen countries .\n",
            "\n",
            "- LABEL: choose from (political expression, vandalism, decoration, cultural identity, advertisement) and also assign probabilities for all five labels (sum ≈100)\n",
            "- WHY LABEL: 2–3 sentences linking cues to chosen label.\n",
            "\n",
            "- TOP CUES: list three concrete cues that were decisive (1–6 words each)\n",
            "- BIAS NOTE: 2–3 sentences reflecting how cultural bias might have affected the probability estimates.\n",
            "\n",
            "Constraints:\n",
            "- Avoid equal continent splits (e.g. 50/50). Show one as more likely.\n",
            "- Keep WHY COUNTRY and WHY LABEL tied to visible evidence (colors, symbols, technique, location clues etc).\n",
            "\n",
            "  ✔ prompt4: infer_img() full-res ok\n",
            " Saved results to /content/drive/MyDrive/RQ1_Experiments/results/InternVL3-8B/RQ1_InternVL3-8B_8B_country_L3_prompt4_r1.json\n",
            "\n",
            "------------------------------------------------------\n",
            "\n",
            "Processing 8/360: /content/drive/MyDrive/RQ1_Experiments/RQ1_Data_Batch1/Africa/Cape Verde/Africa_Cape Verde_CV2_LAST.png\n",
            "\n",
            "  ➤ [prompt1] prompt:\n",
            "Assume the image is from Africa. Analyze it and answer two things:\n",
            "\n",
            "1) Which country is this most likely from? (choose from Nigeria, South Africa, Egypt, Seychelles, Comoros, Cape Verde, Mozambique, Rwanda, Botswana)\n",
            "\n",
            "2) What is the most suitable label: political expression, vandalism, decoration, cultural identity, or advertisement?\n",
            "\n"
          ]
        },
        {
          "output_type": "stream",
          "name": "stderr",
          "text": [
            "Setting `pad_token_id` to `eos_token_id`:151645 for open-end generation.\n",
            "Setting `pad_token_id` to `eos_token_id`:151645 for open-end generation.\n"
          ]
        },
        {
          "output_type": "stream",
          "name": "stdout",
          "text": [
            "  ✔ prompt1: infer_img() full-res ok\n",
            " Saved results to /content/drive/MyDrive/RQ1_Experiments/results/InternVL3-8B/RQ1_InternVL3-8B_8B_country_L3_prompt1_r1.json\n",
            "\n",
            "  ➤ [prompt2] prompt:\n",
            "You are a cultural anthropologist viewing street visuals. Given that mural in image is located in Africa, give these four pieces of info:\n",
            "\n",
            "- COUNTRY (choose exactly one: Nigeria, South Africa, Egypt, Seychelles, Comoros, Cape Verde, Mozambique, Rwanda, Botswana)\n",
            "- LABEL (choose exactly one: political expression / vandalism / decoration / cultural identity / advertisement)\n",
            "- CONFIDENCE (0–100%)\n",
            "- TOP CUE (2–3 sentences describing the key visual/cultural cue)\n",
            "\n",
            "Be concise and calibrate CONFIDENCE to how strongly the visual cues support your claims.\n",
            "\n"
          ]
        },
        {
          "output_type": "stream",
          "name": "stderr",
          "text": [
            "Setting `pad_token_id` to `eos_token_id`:151645 for open-end generation.\n"
          ]
        },
        {
          "output_type": "stream",
          "name": "stdout",
          "text": [
            "  ✔ prompt2: infer_img() full-res ok\n",
            " Saved results to /content/drive/MyDrive/RQ1_Experiments/results/InternVL3-8B/RQ1_InternVL3-8B_8B_country_L3_prompt2_r1.json\n",
            "\n",
            "  ➤ [prompt3] prompt:\n",
            "Moderate a brief debate among a Geographer, a Street Artist, and a Museum Curator about this image, assuming it originates from Africa. For each expert, give:\n",
            "\n",
            "- ROLE: <role name>\n",
            "- COUNTRY (choose exactly one: Nigeria, South Africa, Egypt, Seychelles, Comoros, Cape Verde, Mozambique, Rwanda, Botswana)\n",
            "- LABEL (political expression / vandalism / decoration / cultural identity / advertisement)\n",
            "- SHORT_RATIONALE (one concise sentence)\n",
            "\n",
            "After the three positions, write a 2-paragraph moderator resolution:\n",
            "1) Compare the three rationales and state which COUNTRY and LABEL you choose and why (trade-offs).\n",
            "2) List 2 visual cues that were decisive and mention one alternative explanation you rejected.\n",
            "\n",
            "Finish with: COUNTRY and LABEL (each on its own line).\n",
            "\n"
          ]
        },
        {
          "output_type": "stream",
          "name": "stderr",
          "text": [
            "Setting `pad_token_id` to `eos_token_id`:151645 for open-end generation.\n"
          ]
        },
        {
          "output_type": "stream",
          "name": "stdout",
          "text": [
            "  ✔ prompt3: infer_img() full-res ok\n",
            " Saved results to /content/drive/MyDrive/RQ1_Experiments/results/InternVL3-8B/RQ1_InternVL3-8B_8B_country_L3_prompt3_r1.json\n",
            "\n",
            "  ➤ [prompt4] prompt:\n",
            "You are a cultural anthropologist & artist. Given that mural in image is located in Africa, provide:\n",
            "\n",
            "- COUNTRY: two most likely countries (choose from: Nigeria, South Africa, Egypt, Seychelles, Comoros, Cape Verde, Mozambique, Rwanda, Botswana) with percentages (sum ≈100), e.g. \"\"Iceland: 70%, Russia: 30%\"\"\n",
            "- WHY COUNTRY: 2–3 sentences explaining how visual cues suggest the chosen countries .\n",
            "\n",
            "- LABEL: choose from (political expression, vandalism, decoration, cultural identity, advertisement) and also assign probabilities for all five labels (sum ≈100)\n",
            "- WHY LABEL: 2–3 sentences linking cues to chosen label.\n",
            "\n",
            "- TOP CUES: list three concrete cues that were decisive (1–6 words each)\n",
            "- BIAS NOTE: 2–3 sentences reflecting how cultural bias might have affected the probability estimates.\n",
            "\n",
            "Constraints:\n",
            "- Avoid equal continent splits (e.g. 50/50). Show one as more likely.\n",
            "- Keep WHY COUNTRY and WHY LABEL tied to visible evidence (colors, symbols, technique, location clues etc).\n",
            "\n",
            "  ✔ prompt4: infer_img() full-res ok\n",
            " Saved results to /content/drive/MyDrive/RQ1_Experiments/results/InternVL3-8B/RQ1_InternVL3-8B_8B_country_L3_prompt4_r1.json\n",
            "\n",
            "------------------------------------------------------\n",
            "\n",
            "Processing 9/360: /content/drive/MyDrive/RQ1_Experiments/RQ1_Data_Batch1/Africa/Cape Verde/Africa_Cape Verde_CV3_LAST.JPG\n",
            "\n",
            "  ➤ [prompt1] prompt:\n",
            "Assume the image is from Africa. Analyze it and answer two things:\n",
            "\n",
            "1) Which country is this most likely from? (choose from Nigeria, South Africa, Egypt, Seychelles, Comoros, Cape Verde, Mozambique, Rwanda, Botswana)\n",
            "\n",
            "2) What is the most suitable label: political expression, vandalism, decoration, cultural identity, or advertisement?\n",
            "\n"
          ]
        },
        {
          "output_type": "stream",
          "name": "stderr",
          "text": [
            "Setting `pad_token_id` to `eos_token_id`:151645 for open-end generation.\n",
            "Setting `pad_token_id` to `eos_token_id`:151645 for open-end generation.\n"
          ]
        },
        {
          "output_type": "stream",
          "name": "stdout",
          "text": [
            "  ✔ prompt1: infer_img() full-res ok\n",
            " Saved results to /content/drive/MyDrive/RQ1_Experiments/results/InternVL3-8B/RQ1_InternVL3-8B_8B_country_L3_prompt1_r1.json\n",
            "\n",
            "  ➤ [prompt2] prompt:\n",
            "You are a cultural anthropologist viewing street visuals. Given that mural in image is located in Africa, give these four pieces of info:\n",
            "\n",
            "- COUNTRY (choose exactly one: Nigeria, South Africa, Egypt, Seychelles, Comoros, Cape Verde, Mozambique, Rwanda, Botswana)\n",
            "- LABEL (choose exactly one: political expression / vandalism / decoration / cultural identity / advertisement)\n",
            "- CONFIDENCE (0–100%)\n",
            "- TOP CUE (2–3 sentences describing the key visual/cultural cue)\n",
            "\n",
            "Be concise and calibrate CONFIDENCE to how strongly the visual cues support your claims.\n",
            "\n"
          ]
        },
        {
          "output_type": "stream",
          "name": "stderr",
          "text": [
            "Setting `pad_token_id` to `eos_token_id`:151645 for open-end generation.\n"
          ]
        },
        {
          "output_type": "stream",
          "name": "stdout",
          "text": [
            "  ✔ prompt2: infer_img() full-res ok\n",
            " Saved results to /content/drive/MyDrive/RQ1_Experiments/results/InternVL3-8B/RQ1_InternVL3-8B_8B_country_L3_prompt2_r1.json\n",
            "\n",
            "  ➤ [prompt3] prompt:\n",
            "Moderate a brief debate among a Geographer, a Street Artist, and a Museum Curator about this image, assuming it originates from Africa. For each expert, give:\n",
            "\n",
            "- ROLE: <role name>\n",
            "- COUNTRY (choose exactly one: Nigeria, South Africa, Egypt, Seychelles, Comoros, Cape Verde, Mozambique, Rwanda, Botswana)\n",
            "- LABEL (political expression / vandalism / decoration / cultural identity / advertisement)\n",
            "- SHORT_RATIONALE (one concise sentence)\n",
            "\n",
            "After the three positions, write a 2-paragraph moderator resolution:\n",
            "1) Compare the three rationales and state which COUNTRY and LABEL you choose and why (trade-offs).\n",
            "2) List 2 visual cues that were decisive and mention one alternative explanation you rejected.\n",
            "\n",
            "Finish with: COUNTRY and LABEL (each on its own line).\n",
            "\n"
          ]
        },
        {
          "output_type": "stream",
          "name": "stderr",
          "text": [
            "Setting `pad_token_id` to `eos_token_id`:151645 for open-end generation.\n"
          ]
        },
        {
          "output_type": "stream",
          "name": "stdout",
          "text": [
            "  ✔ prompt3: infer_img() full-res ok\n",
            " Saved results to /content/drive/MyDrive/RQ1_Experiments/results/InternVL3-8B/RQ1_InternVL3-8B_8B_country_L3_prompt3_r1.json\n",
            "\n",
            "  ➤ [prompt4] prompt:\n",
            "You are a cultural anthropologist & artist. Given that mural in image is located in Africa, provide:\n",
            "\n",
            "- COUNTRY: two most likely countries (choose from: Nigeria, South Africa, Egypt, Seychelles, Comoros, Cape Verde, Mozambique, Rwanda, Botswana) with percentages (sum ≈100), e.g. \"\"Iceland: 70%, Russia: 30%\"\"\n",
            "- WHY COUNTRY: 2–3 sentences explaining how visual cues suggest the chosen countries .\n",
            "\n",
            "- LABEL: choose from (political expression, vandalism, decoration, cultural identity, advertisement) and also assign probabilities for all five labels (sum ≈100)\n",
            "- WHY LABEL: 2–3 sentences linking cues to chosen label.\n",
            "\n",
            "- TOP CUES: list three concrete cues that were decisive (1–6 words each)\n",
            "- BIAS NOTE: 2–3 sentences reflecting how cultural bias might have affected the probability estimates.\n",
            "\n",
            "Constraints:\n",
            "- Avoid equal continent splits (e.g. 50/50). Show one as more likely.\n",
            "- Keep WHY COUNTRY and WHY LABEL tied to visible evidence (colors, symbols, technique, location clues etc).\n",
            "\n",
            "  ✔ prompt4: infer_img() full-res ok\n",
            " Saved results to /content/drive/MyDrive/RQ1_Experiments/results/InternVL3-8B/RQ1_InternVL3-8B_8B_country_L3_prompt4_r1.json\n",
            "\n",
            "------------------------------------------------------\n",
            "\n",
            "Processing 10/360: /content/drive/MyDrive/RQ1_Experiments/RQ1_Data_Batch1/Africa/Cape Verde/Africa_Cape Verde_CV4_LAST.jpg\n",
            "\n",
            "  ➤ [prompt1] prompt:\n",
            "Assume the image is from Africa. Analyze it and answer two things:\n",
            "\n",
            "1) Which country is this most likely from? (choose from Nigeria, South Africa, Egypt, Seychelles, Comoros, Cape Verde, Mozambique, Rwanda, Botswana)\n",
            "\n",
            "2) What is the most suitable label: political expression, vandalism, decoration, cultural identity, or advertisement?\n",
            "\n"
          ]
        },
        {
          "output_type": "stream",
          "name": "stderr",
          "text": [
            "Setting `pad_token_id` to `eos_token_id`:151645 for open-end generation.\n",
            "Setting `pad_token_id` to `eos_token_id`:151645 for open-end generation.\n"
          ]
        },
        {
          "output_type": "stream",
          "name": "stdout",
          "text": [
            "  ✔ prompt1: infer_img() full-res ok\n",
            " Saved results to /content/drive/MyDrive/RQ1_Experiments/results/InternVL3-8B/RQ1_InternVL3-8B_8B_country_L3_prompt1_r1.json\n",
            "\n",
            "  ➤ [prompt2] prompt:\n",
            "You are a cultural anthropologist viewing street visuals. Given that mural in image is located in Africa, give these four pieces of info:\n",
            "\n",
            "- COUNTRY (choose exactly one: Nigeria, South Africa, Egypt, Seychelles, Comoros, Cape Verde, Mozambique, Rwanda, Botswana)\n",
            "- LABEL (choose exactly one: political expression / vandalism / decoration / cultural identity / advertisement)\n",
            "- CONFIDENCE (0–100%)\n",
            "- TOP CUE (2–3 sentences describing the key visual/cultural cue)\n",
            "\n",
            "Be concise and calibrate CONFIDENCE to how strongly the visual cues support your claims.\n",
            "\n"
          ]
        },
        {
          "output_type": "stream",
          "name": "stderr",
          "text": [
            "Setting `pad_token_id` to `eos_token_id`:151645 for open-end generation.\n"
          ]
        },
        {
          "output_type": "stream",
          "name": "stdout",
          "text": [
            "  ✔ prompt2: infer_img() full-res ok\n",
            " Saved results to /content/drive/MyDrive/RQ1_Experiments/results/InternVL3-8B/RQ1_InternVL3-8B_8B_country_L3_prompt2_r1.json\n",
            "\n",
            "  ➤ [prompt3] prompt:\n",
            "Moderate a brief debate among a Geographer, a Street Artist, and a Museum Curator about this image, assuming it originates from Africa. For each expert, give:\n",
            "\n",
            "- ROLE: <role name>\n",
            "- COUNTRY (choose exactly one: Nigeria, South Africa, Egypt, Seychelles, Comoros, Cape Verde, Mozambique, Rwanda, Botswana)\n",
            "- LABEL (political expression / vandalism / decoration / cultural identity / advertisement)\n",
            "- SHORT_RATIONALE (one concise sentence)\n",
            "\n",
            "After the three positions, write a 2-paragraph moderator resolution:\n",
            "1) Compare the three rationales and state which COUNTRY and LABEL you choose and why (trade-offs).\n",
            "2) List 2 visual cues that were decisive and mention one alternative explanation you rejected.\n",
            "\n",
            "Finish with: COUNTRY and LABEL (each on its own line).\n",
            "\n"
          ]
        },
        {
          "output_type": "stream",
          "name": "stderr",
          "text": [
            "Setting `pad_token_id` to `eos_token_id`:151645 for open-end generation.\n"
          ]
        },
        {
          "output_type": "stream",
          "name": "stdout",
          "text": [
            "  ✔ prompt3: infer_img() full-res ok\n",
            " Saved results to /content/drive/MyDrive/RQ1_Experiments/results/InternVL3-8B/RQ1_InternVL3-8B_8B_country_L3_prompt3_r1.json\n",
            "\n",
            "  ➤ [prompt4] prompt:\n",
            "You are a cultural anthropologist & artist. Given that mural in image is located in Africa, provide:\n",
            "\n",
            "- COUNTRY: two most likely countries (choose from: Nigeria, South Africa, Egypt, Seychelles, Comoros, Cape Verde, Mozambique, Rwanda, Botswana) with percentages (sum ≈100), e.g. \"\"Iceland: 70%, Russia: 30%\"\"\n",
            "- WHY COUNTRY: 2–3 sentences explaining how visual cues suggest the chosen countries .\n",
            "\n",
            "- LABEL: choose from (political expression, vandalism, decoration, cultural identity, advertisement) and also assign probabilities for all five labels (sum ≈100)\n",
            "- WHY LABEL: 2–3 sentences linking cues to chosen label.\n",
            "\n",
            "- TOP CUES: list three concrete cues that were decisive (1–6 words each)\n",
            "- BIAS NOTE: 2–3 sentences reflecting how cultural bias might have affected the probability estimates.\n",
            "\n",
            "Constraints:\n",
            "- Avoid equal continent splits (e.g. 50/50). Show one as more likely.\n",
            "- Keep WHY COUNTRY and WHY LABEL tied to visible evidence (colors, symbols, technique, location clues etc).\n",
            "\n",
            "  ✔ prompt4: infer_img() full-res ok\n",
            " Saved results to /content/drive/MyDrive/RQ1_Experiments/results/InternVL3-8B/RQ1_InternVL3-8B_8B_country_L3_prompt4_r1.json\n",
            "\n",
            "------------------------------------------------------\n",
            "\n",
            "Processing 11/360: /content/drive/MyDrive/RQ1_Experiments/RQ1_Data_Batch1/Africa/Cape Verde/Africa_Cape Verde_CV5_LAST.PNG\n",
            "\n",
            "  ➤ [prompt1] prompt:\n",
            "Assume the image is from Africa. Analyze it and answer two things:\n",
            "\n",
            "1) Which country is this most likely from? (choose from Nigeria, South Africa, Egypt, Seychelles, Comoros, Cape Verde, Mozambique, Rwanda, Botswana)\n",
            "\n",
            "2) What is the most suitable label: political expression, vandalism, decoration, cultural identity, or advertisement?\n",
            "\n"
          ]
        },
        {
          "output_type": "stream",
          "name": "stderr",
          "text": [
            "Setting `pad_token_id` to `eos_token_id`:151645 for open-end generation.\n",
            "Setting `pad_token_id` to `eos_token_id`:151645 for open-end generation.\n"
          ]
        },
        {
          "output_type": "stream",
          "name": "stdout",
          "text": [
            "  ✔ prompt1: infer_img() full-res ok\n",
            " Saved results to /content/drive/MyDrive/RQ1_Experiments/results/InternVL3-8B/RQ1_InternVL3-8B_8B_country_L3_prompt1_r1.json\n",
            "\n",
            "  ➤ [prompt2] prompt:\n",
            "You are a cultural anthropologist viewing street visuals. Given that mural in image is located in Africa, give these four pieces of info:\n",
            "\n",
            "- COUNTRY (choose exactly one: Nigeria, South Africa, Egypt, Seychelles, Comoros, Cape Verde, Mozambique, Rwanda, Botswana)\n",
            "- LABEL (choose exactly one: political expression / vandalism / decoration / cultural identity / advertisement)\n",
            "- CONFIDENCE (0–100%)\n",
            "- TOP CUE (2–3 sentences describing the key visual/cultural cue)\n",
            "\n",
            "Be concise and calibrate CONFIDENCE to how strongly the visual cues support your claims.\n",
            "\n"
          ]
        },
        {
          "output_type": "stream",
          "name": "stderr",
          "text": [
            "Setting `pad_token_id` to `eos_token_id`:151645 for open-end generation.\n"
          ]
        },
        {
          "output_type": "stream",
          "name": "stdout",
          "text": [
            "  ✔ prompt2: infer_img() full-res ok\n",
            " Saved results to /content/drive/MyDrive/RQ1_Experiments/results/InternVL3-8B/RQ1_InternVL3-8B_8B_country_L3_prompt2_r1.json\n",
            "\n",
            "  ➤ [prompt3] prompt:\n",
            "Moderate a brief debate among a Geographer, a Street Artist, and a Museum Curator about this image, assuming it originates from Africa. For each expert, give:\n",
            "\n",
            "- ROLE: <role name>\n",
            "- COUNTRY (choose exactly one: Nigeria, South Africa, Egypt, Seychelles, Comoros, Cape Verde, Mozambique, Rwanda, Botswana)\n",
            "- LABEL (political expression / vandalism / decoration / cultural identity / advertisement)\n",
            "- SHORT_RATIONALE (one concise sentence)\n",
            "\n",
            "After the three positions, write a 2-paragraph moderator resolution:\n",
            "1) Compare the three rationales and state which COUNTRY and LABEL you choose and why (trade-offs).\n",
            "2) List 2 visual cues that were decisive and mention one alternative explanation you rejected.\n",
            "\n",
            "Finish with: COUNTRY and LABEL (each on its own line).\n",
            "\n"
          ]
        },
        {
          "output_type": "stream",
          "name": "stderr",
          "text": [
            "Setting `pad_token_id` to `eos_token_id`:151645 for open-end generation.\n"
          ]
        },
        {
          "output_type": "stream",
          "name": "stdout",
          "text": [
            "  ✔ prompt3: infer_img() full-res ok\n",
            " Saved results to /content/drive/MyDrive/RQ1_Experiments/results/InternVL3-8B/RQ1_InternVL3-8B_8B_country_L3_prompt3_r1.json\n",
            "\n",
            "  ➤ [prompt4] prompt:\n",
            "You are a cultural anthropologist & artist. Given that mural in image is located in Africa, provide:\n",
            "\n",
            "- COUNTRY: two most likely countries (choose from: Nigeria, South Africa, Egypt, Seychelles, Comoros, Cape Verde, Mozambique, Rwanda, Botswana) with percentages (sum ≈100), e.g. \"\"Iceland: 70%, Russia: 30%\"\"\n",
            "- WHY COUNTRY: 2–3 sentences explaining how visual cues suggest the chosen countries .\n",
            "\n",
            "- LABEL: choose from (political expression, vandalism, decoration, cultural identity, advertisement) and also assign probabilities for all five labels (sum ≈100)\n",
            "- WHY LABEL: 2–3 sentences linking cues to chosen label.\n",
            "\n",
            "- TOP CUES: list three concrete cues that were decisive (1–6 words each)\n",
            "- BIAS NOTE: 2–3 sentences reflecting how cultural bias might have affected the probability estimates.\n",
            "\n",
            "Constraints:\n",
            "- Avoid equal continent splits (e.g. 50/50). Show one as more likely.\n",
            "- Keep WHY COUNTRY and WHY LABEL tied to visible evidence (colors, symbols, technique, location clues etc).\n",
            "\n",
            "  ✔ prompt4: infer_img() full-res ok\n",
            " Saved results to /content/drive/MyDrive/RQ1_Experiments/results/InternVL3-8B/RQ1_InternVL3-8B_8B_country_L3_prompt4_r1.json\n",
            "\n",
            "------------------------------------------------------\n",
            "\n",
            "Processing 12/360: /content/drive/MyDrive/RQ1_Experiments/RQ1_Data_Batch1/Africa/Eritrea/Africa_Eritrea_ER1_LAST.jpg\n",
            "\n",
            "  ➤ [prompt1] prompt:\n",
            "Assume the image is from Africa. Analyze it and answer two things:\n",
            "\n",
            "1) Which country is this most likely from? (choose from Nigeria, South Africa, Egypt, Seychelles, Comoros, Cape Verde, Mozambique, Rwanda, Eritrea)\n",
            "\n",
            "2) What is the most suitable label: political expression, vandalism, decoration, cultural identity, or advertisement?\n",
            "\n"
          ]
        },
        {
          "output_type": "stream",
          "name": "stderr",
          "text": [
            "Setting `pad_token_id` to `eos_token_id`:151645 for open-end generation.\n",
            "Setting `pad_token_id` to `eos_token_id`:151645 for open-end generation.\n"
          ]
        },
        {
          "output_type": "stream",
          "name": "stdout",
          "text": [
            "  ✔ prompt1: infer_img() full-res ok\n",
            " Saved results to /content/drive/MyDrive/RQ1_Experiments/results/InternVL3-8B/RQ1_InternVL3-8B_8B_country_L3_prompt1_r1.json\n",
            "\n",
            "  ➤ [prompt2] prompt:\n",
            "You are a cultural anthropologist viewing street visuals. Given that mural in image is located in Africa, give these four pieces of info:\n",
            "\n",
            "- COUNTRY (choose exactly one: Nigeria, South Africa, Egypt, Seychelles, Comoros, Cape Verde, Mozambique, Rwanda, Eritrea)\n",
            "- LABEL (choose exactly one: political expression / vandalism / decoration / cultural identity / advertisement)\n",
            "- CONFIDENCE (0–100%)\n",
            "- TOP CUE (2–3 sentences describing the key visual/cultural cue)\n",
            "\n",
            "Be concise and calibrate CONFIDENCE to how strongly the visual cues support your claims.\n",
            "\n"
          ]
        },
        {
          "output_type": "stream",
          "name": "stderr",
          "text": [
            "Setting `pad_token_id` to `eos_token_id`:151645 for open-end generation.\n"
          ]
        },
        {
          "output_type": "stream",
          "name": "stdout",
          "text": [
            "  ✔ prompt2: infer_img() full-res ok\n",
            " Saved results to /content/drive/MyDrive/RQ1_Experiments/results/InternVL3-8B/RQ1_InternVL3-8B_8B_country_L3_prompt2_r1.json\n",
            "\n",
            "  ➤ [prompt3] prompt:\n",
            "Moderate a brief debate among a Geographer, a Street Artist, and a Museum Curator about this image, assuming it originates from Africa. For each expert, give:\n",
            "\n",
            "- ROLE: <role name>\n",
            "- COUNTRY (choose exactly one: Nigeria, South Africa, Egypt, Seychelles, Comoros, Cape Verde, Mozambique, Rwanda, Eritrea)\n",
            "- LABEL (political expression / vandalism / decoration / cultural identity / advertisement)\n",
            "- SHORT_RATIONALE (one concise sentence)\n",
            "\n",
            "After the three positions, write a 2-paragraph moderator resolution:\n",
            "1) Compare the three rationales and state which COUNTRY and LABEL you choose and why (trade-offs).\n",
            "2) List 2 visual cues that were decisive and mention one alternative explanation you rejected.\n",
            "\n",
            "Finish with: COUNTRY and LABEL (each on its own line).\n",
            "\n"
          ]
        },
        {
          "output_type": "stream",
          "name": "stderr",
          "text": [
            "Setting `pad_token_id` to `eos_token_id`:151645 for open-end generation.\n"
          ]
        },
        {
          "output_type": "stream",
          "name": "stdout",
          "text": [
            "  ✔ prompt3: infer_img() full-res ok\n",
            " Saved results to /content/drive/MyDrive/RQ1_Experiments/results/InternVL3-8B/RQ1_InternVL3-8B_8B_country_L3_prompt3_r1.json\n",
            "\n",
            "  ➤ [prompt4] prompt:\n",
            "You are a cultural anthropologist & artist. Given that mural in image is located in Africa, provide:\n",
            "\n",
            "- COUNTRY: two most likely countries (choose from: Nigeria, South Africa, Egypt, Seychelles, Comoros, Cape Verde, Mozambique, Rwanda, Eritrea) with percentages (sum ≈100), e.g. \"\"Iceland: 70%, Russia: 30%\"\"\n",
            "- WHY COUNTRY: 2–3 sentences explaining how visual cues suggest the chosen countries .\n",
            "\n",
            "- LABEL: choose from (political expression, vandalism, decoration, cultural identity, advertisement) and also assign probabilities for all five labels (sum ≈100)\n",
            "- WHY LABEL: 2–3 sentences linking cues to chosen label.\n",
            "\n",
            "- TOP CUES: list three concrete cues that were decisive (1–6 words each)\n",
            "- BIAS NOTE: 2–3 sentences reflecting how cultural bias might have affected the probability estimates.\n",
            "\n",
            "Constraints:\n",
            "- Avoid equal continent splits (e.g. 50/50). Show one as more likely.\n",
            "- Keep WHY COUNTRY and WHY LABEL tied to visible evidence (colors, symbols, technique, location clues etc).\n",
            "\n",
            "  ✔ prompt4: infer_img() full-res ok\n",
            " Saved results to /content/drive/MyDrive/RQ1_Experiments/results/InternVL3-8B/RQ1_InternVL3-8B_8B_country_L3_prompt4_r1.json\n",
            "\n",
            "------------------------------------------------------\n",
            "\n",
            "Processing 13/360: /content/drive/MyDrive/RQ1_Experiments/RQ1_Data_Batch1/Africa/Eritrea/Africa_Eritrea_ER2_LAST.jpg\n",
            "\n",
            "  ➤ [prompt1] prompt:\n",
            "Assume the image is from Africa. Analyze it and answer two things:\n",
            "\n",
            "1) Which country is this most likely from? (choose from Nigeria, South Africa, Egypt, Seychelles, Comoros, Cape Verde, Mozambique, Rwanda, Eritrea)\n",
            "\n",
            "2) What is the most suitable label: political expression, vandalism, decoration, cultural identity, or advertisement?\n",
            "\n"
          ]
        },
        {
          "output_type": "stream",
          "name": "stderr",
          "text": [
            "Setting `pad_token_id` to `eos_token_id`:151645 for open-end generation.\n",
            "Setting `pad_token_id` to `eos_token_id`:151645 for open-end generation.\n"
          ]
        },
        {
          "output_type": "stream",
          "name": "stdout",
          "text": [
            "  ✔ prompt1: infer_img() full-res ok\n",
            " Saved results to /content/drive/MyDrive/RQ1_Experiments/results/InternVL3-8B/RQ1_InternVL3-8B_8B_country_L3_prompt1_r1.json\n",
            "\n",
            "  ➤ [prompt2] prompt:\n",
            "You are a cultural anthropologist viewing street visuals. Given that mural in image is located in Africa, give these four pieces of info:\n",
            "\n",
            "- COUNTRY (choose exactly one: Nigeria, South Africa, Egypt, Seychelles, Comoros, Cape Verde, Mozambique, Rwanda, Eritrea)\n",
            "- LABEL (choose exactly one: political expression / vandalism / decoration / cultural identity / advertisement)\n",
            "- CONFIDENCE (0–100%)\n",
            "- TOP CUE (2–3 sentences describing the key visual/cultural cue)\n",
            "\n",
            "Be concise and calibrate CONFIDENCE to how strongly the visual cues support your claims.\n",
            "\n"
          ]
        },
        {
          "output_type": "stream",
          "name": "stderr",
          "text": [
            "Setting `pad_token_id` to `eos_token_id`:151645 for open-end generation.\n"
          ]
        },
        {
          "output_type": "stream",
          "name": "stdout",
          "text": [
            "  ✔ prompt2: infer_img() full-res ok\n",
            " Saved results to /content/drive/MyDrive/RQ1_Experiments/results/InternVL3-8B/RQ1_InternVL3-8B_8B_country_L3_prompt2_r1.json\n",
            "\n",
            "  ➤ [prompt3] prompt:\n",
            "Moderate a brief debate among a Geographer, a Street Artist, and a Museum Curator about this image, assuming it originates from Africa. For each expert, give:\n",
            "\n",
            "- ROLE: <role name>\n",
            "- COUNTRY (choose exactly one: Nigeria, South Africa, Egypt, Seychelles, Comoros, Cape Verde, Mozambique, Rwanda, Eritrea)\n",
            "- LABEL (political expression / vandalism / decoration / cultural identity / advertisement)\n",
            "- SHORT_RATIONALE (one concise sentence)\n",
            "\n",
            "After the three positions, write a 2-paragraph moderator resolution:\n",
            "1) Compare the three rationales and state which COUNTRY and LABEL you choose and why (trade-offs).\n",
            "2) List 2 visual cues that were decisive and mention one alternative explanation you rejected.\n",
            "\n",
            "Finish with: COUNTRY and LABEL (each on its own line).\n",
            "\n"
          ]
        },
        {
          "output_type": "stream",
          "name": "stderr",
          "text": [
            "Setting `pad_token_id` to `eos_token_id`:151645 for open-end generation.\n"
          ]
        },
        {
          "output_type": "stream",
          "name": "stdout",
          "text": [
            "  ✔ prompt3: infer_img() full-res ok\n",
            " Saved results to /content/drive/MyDrive/RQ1_Experiments/results/InternVL3-8B/RQ1_InternVL3-8B_8B_country_L3_prompt3_r1.json\n",
            "\n",
            "  ➤ [prompt4] prompt:\n",
            "You are a cultural anthropologist & artist. Given that mural in image is located in Africa, provide:\n",
            "\n",
            "- COUNTRY: two most likely countries (choose from: Nigeria, South Africa, Egypt, Seychelles, Comoros, Cape Verde, Mozambique, Rwanda, Eritrea) with percentages (sum ≈100), e.g. \"\"Iceland: 70%, Russia: 30%\"\"\n",
            "- WHY COUNTRY: 2–3 sentences explaining how visual cues suggest the chosen countries .\n",
            "\n",
            "- LABEL: choose from (political expression, vandalism, decoration, cultural identity, advertisement) and also assign probabilities for all five labels (sum ≈100)\n",
            "- WHY LABEL: 2–3 sentences linking cues to chosen label.\n",
            "\n",
            "- TOP CUES: list three concrete cues that were decisive (1–6 words each)\n",
            "- BIAS NOTE: 2–3 sentences reflecting how cultural bias might have affected the probability estimates.\n",
            "\n",
            "Constraints:\n",
            "- Avoid equal continent splits (e.g. 50/50). Show one as more likely.\n",
            "- Keep WHY COUNTRY and WHY LABEL tied to visible evidence (colors, symbols, technique, location clues etc).\n",
            "\n",
            "  ✔ prompt4: infer_img() full-res ok\n",
            " Saved results to /content/drive/MyDrive/RQ1_Experiments/results/InternVL3-8B/RQ1_InternVL3-8B_8B_country_L3_prompt4_r1.json\n",
            "\n",
            "------------------------------------------------------\n",
            "\n",
            "Processing 14/360: /content/drive/MyDrive/RQ1_Experiments/RQ1_Data_Batch1/Africa/Eritrea/Africa_Eritrea_ER3_LAST.jpg\n",
            "\n",
            "  ➤ [prompt1] prompt:\n",
            "Assume the image is from Africa. Analyze it and answer two things:\n",
            "\n",
            "1) Which country is this most likely from? (choose from Nigeria, South Africa, Egypt, Seychelles, Comoros, Cape Verde, Mozambique, Rwanda, Eritrea)\n",
            "\n",
            "2) What is the most suitable label: political expression, vandalism, decoration, cultural identity, or advertisement?\n",
            "\n"
          ]
        },
        {
          "output_type": "stream",
          "name": "stderr",
          "text": [
            "Setting `pad_token_id` to `eos_token_id`:151645 for open-end generation.\n",
            "Setting `pad_token_id` to `eos_token_id`:151645 for open-end generation.\n"
          ]
        },
        {
          "output_type": "stream",
          "name": "stdout",
          "text": [
            "  ✔ prompt1: infer_img() full-res ok\n",
            " Saved results to /content/drive/MyDrive/RQ1_Experiments/results/InternVL3-8B/RQ1_InternVL3-8B_8B_country_L3_prompt1_r1.json\n",
            "\n",
            "  ➤ [prompt2] prompt:\n",
            "You are a cultural anthropologist viewing street visuals. Given that mural in image is located in Africa, give these four pieces of info:\n",
            "\n",
            "- COUNTRY (choose exactly one: Nigeria, South Africa, Egypt, Seychelles, Comoros, Cape Verde, Mozambique, Rwanda, Eritrea)\n",
            "- LABEL (choose exactly one: political expression / vandalism / decoration / cultural identity / advertisement)\n",
            "- CONFIDENCE (0–100%)\n",
            "- TOP CUE (2–3 sentences describing the key visual/cultural cue)\n",
            "\n",
            "Be concise and calibrate CONFIDENCE to how strongly the visual cues support your claims.\n",
            "\n"
          ]
        },
        {
          "output_type": "stream",
          "name": "stderr",
          "text": [
            "Setting `pad_token_id` to `eos_token_id`:151645 for open-end generation.\n"
          ]
        },
        {
          "output_type": "stream",
          "name": "stdout",
          "text": [
            "  ✔ prompt2: infer_img() full-res ok\n",
            " Saved results to /content/drive/MyDrive/RQ1_Experiments/results/InternVL3-8B/RQ1_InternVL3-8B_8B_country_L3_prompt2_r1.json\n",
            "\n",
            "  ➤ [prompt3] prompt:\n",
            "Moderate a brief debate among a Geographer, a Street Artist, and a Museum Curator about this image, assuming it originates from Africa. For each expert, give:\n",
            "\n",
            "- ROLE: <role name>\n",
            "- COUNTRY (choose exactly one: Nigeria, South Africa, Egypt, Seychelles, Comoros, Cape Verde, Mozambique, Rwanda, Eritrea)\n",
            "- LABEL (political expression / vandalism / decoration / cultural identity / advertisement)\n",
            "- SHORT_RATIONALE (one concise sentence)\n",
            "\n",
            "After the three positions, write a 2-paragraph moderator resolution:\n",
            "1) Compare the three rationales and state which COUNTRY and LABEL you choose and why (trade-offs).\n",
            "2) List 2 visual cues that were decisive and mention one alternative explanation you rejected.\n",
            "\n",
            "Finish with: COUNTRY and LABEL (each on its own line).\n",
            "\n"
          ]
        },
        {
          "output_type": "stream",
          "name": "stderr",
          "text": [
            "Setting `pad_token_id` to `eos_token_id`:151645 for open-end generation.\n"
          ]
        },
        {
          "output_type": "stream",
          "name": "stdout",
          "text": [
            "  ✔ prompt3: infer_img() full-res ok\n",
            " Saved results to /content/drive/MyDrive/RQ1_Experiments/results/InternVL3-8B/RQ1_InternVL3-8B_8B_country_L3_prompt3_r1.json\n",
            "\n",
            "  ➤ [prompt4] prompt:\n",
            "You are a cultural anthropologist & artist. Given that mural in image is located in Africa, provide:\n",
            "\n",
            "- COUNTRY: two most likely countries (choose from: Nigeria, South Africa, Egypt, Seychelles, Comoros, Cape Verde, Mozambique, Rwanda, Eritrea) with percentages (sum ≈100), e.g. \"\"Iceland: 70%, Russia: 30%\"\"\n",
            "- WHY COUNTRY: 2–3 sentences explaining how visual cues suggest the chosen countries .\n",
            "\n",
            "- LABEL: choose from (political expression, vandalism, decoration, cultural identity, advertisement) and also assign probabilities for all five labels (sum ≈100)\n",
            "- WHY LABEL: 2–3 sentences linking cues to chosen label.\n",
            "\n",
            "- TOP CUES: list three concrete cues that were decisive (1–6 words each)\n",
            "- BIAS NOTE: 2–3 sentences reflecting how cultural bias might have affected the probability estimates.\n",
            "\n",
            "Constraints:\n",
            "- Avoid equal continent splits (e.g. 50/50). Show one as more likely.\n",
            "- Keep WHY COUNTRY and WHY LABEL tied to visible evidence (colors, symbols, technique, location clues etc).\n",
            "\n",
            "  ✔ prompt4: infer_img() full-res ok\n",
            " Saved results to /content/drive/MyDrive/RQ1_Experiments/results/InternVL3-8B/RQ1_InternVL3-8B_8B_country_L3_prompt4_r1.json\n",
            "\n",
            "------------------------------------------------------\n",
            "\n",
            "Processing 15/360: /content/drive/MyDrive/RQ1_Experiments/RQ1_Data_Batch1/Africa/Eritrea/Africa_Eritrea_ER4_LAST.png\n",
            "\n",
            "  ➤ [prompt1] prompt:\n",
            "Assume the image is from Africa. Analyze it and answer two things:\n",
            "\n",
            "1) Which country is this most likely from? (choose from Nigeria, South Africa, Egypt, Seychelles, Comoros, Cape Verde, Mozambique, Rwanda, Eritrea)\n",
            "\n",
            "2) What is the most suitable label: political expression, vandalism, decoration, cultural identity, or advertisement?\n",
            "\n"
          ]
        },
        {
          "output_type": "stream",
          "name": "stderr",
          "text": [
            "Setting `pad_token_id` to `eos_token_id`:151645 for open-end generation.\n",
            "Setting `pad_token_id` to `eos_token_id`:151645 for open-end generation.\n"
          ]
        },
        {
          "output_type": "stream",
          "name": "stdout",
          "text": [
            "  ✔ prompt1: infer_img() full-res ok\n",
            " Saved results to /content/drive/MyDrive/RQ1_Experiments/results/InternVL3-8B/RQ1_InternVL3-8B_8B_country_L3_prompt1_r1.json\n",
            "\n",
            "  ➤ [prompt2] prompt:\n",
            "You are a cultural anthropologist viewing street visuals. Given that mural in image is located in Africa, give these four pieces of info:\n",
            "\n",
            "- COUNTRY (choose exactly one: Nigeria, South Africa, Egypt, Seychelles, Comoros, Cape Verde, Mozambique, Rwanda, Eritrea)\n",
            "- LABEL (choose exactly one: political expression / vandalism / decoration / cultural identity / advertisement)\n",
            "- CONFIDENCE (0–100%)\n",
            "- TOP CUE (2–3 sentences describing the key visual/cultural cue)\n",
            "\n",
            "Be concise and calibrate CONFIDENCE to how strongly the visual cues support your claims.\n",
            "\n"
          ]
        },
        {
          "output_type": "stream",
          "name": "stderr",
          "text": [
            "Setting `pad_token_id` to `eos_token_id`:151645 for open-end generation.\n"
          ]
        },
        {
          "output_type": "stream",
          "name": "stdout",
          "text": [
            "  ✔ prompt2: infer_img() full-res ok\n",
            " Saved results to /content/drive/MyDrive/RQ1_Experiments/results/InternVL3-8B/RQ1_InternVL3-8B_8B_country_L3_prompt2_r1.json\n",
            "\n",
            "  ➤ [prompt3] prompt:\n",
            "Moderate a brief debate among a Geographer, a Street Artist, and a Museum Curator about this image, assuming it originates from Africa. For each expert, give:\n",
            "\n",
            "- ROLE: <role name>\n",
            "- COUNTRY (choose exactly one: Nigeria, South Africa, Egypt, Seychelles, Comoros, Cape Verde, Mozambique, Rwanda, Eritrea)\n",
            "- LABEL (political expression / vandalism / decoration / cultural identity / advertisement)\n",
            "- SHORT_RATIONALE (one concise sentence)\n",
            "\n",
            "After the three positions, write a 2-paragraph moderator resolution:\n",
            "1) Compare the three rationales and state which COUNTRY and LABEL you choose and why (trade-offs).\n",
            "2) List 2 visual cues that were decisive and mention one alternative explanation you rejected.\n",
            "\n",
            "Finish with: COUNTRY and LABEL (each on its own line).\n",
            "\n"
          ]
        },
        {
          "output_type": "stream",
          "name": "stderr",
          "text": [
            "Setting `pad_token_id` to `eos_token_id`:151645 for open-end generation.\n"
          ]
        },
        {
          "output_type": "stream",
          "name": "stdout",
          "text": [
            "  ✔ prompt3: infer_img() full-res ok\n",
            " Saved results to /content/drive/MyDrive/RQ1_Experiments/results/InternVL3-8B/RQ1_InternVL3-8B_8B_country_L3_prompt3_r1.json\n",
            "\n",
            "  ➤ [prompt4] prompt:\n",
            "You are a cultural anthropologist & artist. Given that mural in image is located in Africa, provide:\n",
            "\n",
            "- COUNTRY: two most likely countries (choose from: Nigeria, South Africa, Egypt, Seychelles, Comoros, Cape Verde, Mozambique, Rwanda, Eritrea) with percentages (sum ≈100), e.g. \"\"Iceland: 70%, Russia: 30%\"\"\n",
            "- WHY COUNTRY: 2–3 sentences explaining how visual cues suggest the chosen countries .\n",
            "\n",
            "- LABEL: choose from (political expression, vandalism, decoration, cultural identity, advertisement) and also assign probabilities for all five labels (sum ≈100)\n",
            "- WHY LABEL: 2–3 sentences linking cues to chosen label.\n",
            "\n",
            "- TOP CUES: list three concrete cues that were decisive (1–6 words each)\n",
            "- BIAS NOTE: 2–3 sentences reflecting how cultural bias might have affected the probability estimates.\n",
            "\n",
            "Constraints:\n",
            "- Avoid equal continent splits (e.g. 50/50). Show one as more likely.\n",
            "- Keep WHY COUNTRY and WHY LABEL tied to visible evidence (colors, symbols, technique, location clues etc).\n",
            "\n",
            "  ✔ prompt4: infer_img() full-res ok\n",
            " Saved results to /content/drive/MyDrive/RQ1_Experiments/results/InternVL3-8B/RQ1_InternVL3-8B_8B_country_L3_prompt4_r1.json\n",
            "\n",
            "------------------------------------------------------\n",
            "\n",
            "Processing 16/360: /content/drive/MyDrive/RQ1_Experiments/RQ1_Data_Batch1/Africa/Eritrea/Africa_Eritrea_ER5_LAST.jpg\n",
            "\n",
            "  ➤ [prompt1] prompt:\n",
            "Assume the image is from Africa. Analyze it and answer two things:\n",
            "\n",
            "1) Which country is this most likely from? (choose from Nigeria, South Africa, Egypt, Seychelles, Comoros, Cape Verde, Mozambique, Rwanda, Eritrea)\n",
            "\n",
            "2) What is the most suitable label: political expression, vandalism, decoration, cultural identity, or advertisement?\n",
            "\n"
          ]
        },
        {
          "output_type": "stream",
          "name": "stderr",
          "text": [
            "Setting `pad_token_id` to `eos_token_id`:151645 for open-end generation.\n",
            "Setting `pad_token_id` to `eos_token_id`:151645 for open-end generation.\n"
          ]
        },
        {
          "output_type": "stream",
          "name": "stdout",
          "text": [
            "  ✔ prompt1: infer_img() full-res ok\n",
            " Saved results to /content/drive/MyDrive/RQ1_Experiments/results/InternVL3-8B/RQ1_InternVL3-8B_8B_country_L3_prompt1_r1.json\n",
            "\n",
            "  ➤ [prompt2] prompt:\n",
            "You are a cultural anthropologist viewing street visuals. Given that mural in image is located in Africa, give these four pieces of info:\n",
            "\n",
            "- COUNTRY (choose exactly one: Nigeria, South Africa, Egypt, Seychelles, Comoros, Cape Verde, Mozambique, Rwanda, Eritrea)\n",
            "- LABEL (choose exactly one: political expression / vandalism / decoration / cultural identity / advertisement)\n",
            "- CONFIDENCE (0–100%)\n",
            "- TOP CUE (2–3 sentences describing the key visual/cultural cue)\n",
            "\n",
            "Be concise and calibrate CONFIDENCE to how strongly the visual cues support your claims.\n",
            "\n"
          ]
        },
        {
          "output_type": "stream",
          "name": "stderr",
          "text": [
            "Setting `pad_token_id` to `eos_token_id`:151645 for open-end generation.\n"
          ]
        },
        {
          "output_type": "stream",
          "name": "stdout",
          "text": [
            "  ✔ prompt2: infer_img() full-res ok\n",
            " Saved results to /content/drive/MyDrive/RQ1_Experiments/results/InternVL3-8B/RQ1_InternVL3-8B_8B_country_L3_prompt2_r1.json\n",
            "\n",
            "  ➤ [prompt3] prompt:\n",
            "Moderate a brief debate among a Geographer, a Street Artist, and a Museum Curator about this image, assuming it originates from Africa. For each expert, give:\n",
            "\n",
            "- ROLE: <role name>\n",
            "- COUNTRY (choose exactly one: Nigeria, South Africa, Egypt, Seychelles, Comoros, Cape Verde, Mozambique, Rwanda, Eritrea)\n",
            "- LABEL (political expression / vandalism / decoration / cultural identity / advertisement)\n",
            "- SHORT_RATIONALE (one concise sentence)\n",
            "\n",
            "After the three positions, write a 2-paragraph moderator resolution:\n",
            "1) Compare the three rationales and state which COUNTRY and LABEL you choose and why (trade-offs).\n",
            "2) List 2 visual cues that were decisive and mention one alternative explanation you rejected.\n",
            "\n",
            "Finish with: COUNTRY and LABEL (each on its own line).\n",
            "\n"
          ]
        },
        {
          "output_type": "stream",
          "name": "stderr",
          "text": [
            "Setting `pad_token_id` to `eos_token_id`:151645 for open-end generation.\n"
          ]
        },
        {
          "output_type": "stream",
          "name": "stdout",
          "text": [
            "  ✔ prompt3: infer_img() full-res ok\n",
            " Saved results to /content/drive/MyDrive/RQ1_Experiments/results/InternVL3-8B/RQ1_InternVL3-8B_8B_country_L3_prompt3_r1.json\n",
            "\n",
            "  ➤ [prompt4] prompt:\n",
            "You are a cultural anthropologist & artist. Given that mural in image is located in Africa, provide:\n",
            "\n",
            "- COUNTRY: two most likely countries (choose from: Nigeria, South Africa, Egypt, Seychelles, Comoros, Cape Verde, Mozambique, Rwanda, Eritrea) with percentages (sum ≈100), e.g. \"\"Iceland: 70%, Russia: 30%\"\"\n",
            "- WHY COUNTRY: 2–3 sentences explaining how visual cues suggest the chosen countries .\n",
            "\n",
            "- LABEL: choose from (political expression, vandalism, decoration, cultural identity, advertisement) and also assign probabilities for all five labels (sum ≈100)\n",
            "- WHY LABEL: 2–3 sentences linking cues to chosen label.\n",
            "\n",
            "- TOP CUES: list three concrete cues that were decisive (1–6 words each)\n",
            "- BIAS NOTE: 2–3 sentences reflecting how cultural bias might have affected the probability estimates.\n",
            "\n",
            "Constraints:\n",
            "- Avoid equal continent splits (e.g. 50/50). Show one as more likely.\n",
            "- Keep WHY COUNTRY and WHY LABEL tied to visible evidence (colors, symbols, technique, location clues etc).\n",
            "\n",
            "  ✔ prompt4: infer_img() full-res ok\n",
            " Saved results to /content/drive/MyDrive/RQ1_Experiments/results/InternVL3-8B/RQ1_InternVL3-8B_8B_country_L3_prompt4_r1.json\n",
            "\n",
            "------------------------------------------------------\n",
            "\n",
            "Processing 17/360: /content/drive/MyDrive/RQ1_Experiments/RQ1_Data_Batch1/Africa/Eritrea/Africa_Eritrea_ER6_LAST.jpg\n",
            "\n",
            "  ➤ [prompt1] prompt:\n",
            "Assume the image is from Africa. Analyze it and answer two things:\n",
            "\n",
            "1) Which country is this most likely from? (choose from Nigeria, South Africa, Egypt, Seychelles, Comoros, Cape Verde, Mozambique, Rwanda, Eritrea)\n",
            "\n",
            "2) What is the most suitable label: political expression, vandalism, decoration, cultural identity, or advertisement?\n",
            "\n"
          ]
        },
        {
          "output_type": "stream",
          "name": "stderr",
          "text": [
            "Setting `pad_token_id` to `eos_token_id`:151645 for open-end generation.\n",
            "Setting `pad_token_id` to `eos_token_id`:151645 for open-end generation.\n"
          ]
        },
        {
          "output_type": "stream",
          "name": "stdout",
          "text": [
            "  ✔ prompt1: infer_img() full-res ok\n",
            " Saved results to /content/drive/MyDrive/RQ1_Experiments/results/InternVL3-8B/RQ1_InternVL3-8B_8B_country_L3_prompt1_r1.json\n",
            "\n",
            "  ➤ [prompt2] prompt:\n",
            "You are a cultural anthropologist viewing street visuals. Given that mural in image is located in Africa, give these four pieces of info:\n",
            "\n",
            "- COUNTRY (choose exactly one: Nigeria, South Africa, Egypt, Seychelles, Comoros, Cape Verde, Mozambique, Rwanda, Eritrea)\n",
            "- LABEL (choose exactly one: political expression / vandalism / decoration / cultural identity / advertisement)\n",
            "- CONFIDENCE (0–100%)\n",
            "- TOP CUE (2–3 sentences describing the key visual/cultural cue)\n",
            "\n",
            "Be concise and calibrate CONFIDENCE to how strongly the visual cues support your claims.\n",
            "\n"
          ]
        },
        {
          "output_type": "stream",
          "name": "stderr",
          "text": [
            "Setting `pad_token_id` to `eos_token_id`:151645 for open-end generation.\n"
          ]
        },
        {
          "output_type": "stream",
          "name": "stdout",
          "text": [
            "  ✔ prompt2: infer_img() full-res ok\n",
            " Saved results to /content/drive/MyDrive/RQ1_Experiments/results/InternVL3-8B/RQ1_InternVL3-8B_8B_country_L3_prompt2_r1.json\n",
            "\n",
            "  ➤ [prompt3] prompt:\n",
            "Moderate a brief debate among a Geographer, a Street Artist, and a Museum Curator about this image, assuming it originates from Africa. For each expert, give:\n",
            "\n",
            "- ROLE: <role name>\n",
            "- COUNTRY (choose exactly one: Nigeria, South Africa, Egypt, Seychelles, Comoros, Cape Verde, Mozambique, Rwanda, Eritrea)\n",
            "- LABEL (political expression / vandalism / decoration / cultural identity / advertisement)\n",
            "- SHORT_RATIONALE (one concise sentence)\n",
            "\n",
            "After the three positions, write a 2-paragraph moderator resolution:\n",
            "1) Compare the three rationales and state which COUNTRY and LABEL you choose and why (trade-offs).\n",
            "2) List 2 visual cues that were decisive and mention one alternative explanation you rejected.\n",
            "\n",
            "Finish with: COUNTRY and LABEL (each on its own line).\n",
            "\n"
          ]
        },
        {
          "output_type": "stream",
          "name": "stderr",
          "text": [
            "Setting `pad_token_id` to `eos_token_id`:151645 for open-end generation.\n"
          ]
        },
        {
          "output_type": "stream",
          "name": "stdout",
          "text": [
            "  ✔ prompt3: infer_img() full-res ok\n",
            " Saved results to /content/drive/MyDrive/RQ1_Experiments/results/InternVL3-8B/RQ1_InternVL3-8B_8B_country_L3_prompt3_r1.json\n",
            "\n",
            "  ➤ [prompt4] prompt:\n",
            "You are a cultural anthropologist & artist. Given that mural in image is located in Africa, provide:\n",
            "\n",
            "- COUNTRY: two most likely countries (choose from: Nigeria, South Africa, Egypt, Seychelles, Comoros, Cape Verde, Mozambique, Rwanda, Eritrea) with percentages (sum ≈100), e.g. \"\"Iceland: 70%, Russia: 30%\"\"\n",
            "- WHY COUNTRY: 2–3 sentences explaining how visual cues suggest the chosen countries .\n",
            "\n",
            "- LABEL: choose from (political expression, vandalism, decoration, cultural identity, advertisement) and also assign probabilities for all five labels (sum ≈100)\n",
            "- WHY LABEL: 2–3 sentences linking cues to chosen label.\n",
            "\n",
            "- TOP CUES: list three concrete cues that were decisive (1–6 words each)\n",
            "- BIAS NOTE: 2–3 sentences reflecting how cultural bias might have affected the probability estimates.\n",
            "\n",
            "Constraints:\n",
            "- Avoid equal continent splits (e.g. 50/50). Show one as more likely.\n",
            "- Keep WHY COUNTRY and WHY LABEL tied to visible evidence (colors, symbols, technique, location clues etc).\n",
            "\n",
            "  ✔ prompt4: infer_img() full-res ok\n",
            " Saved results to /content/drive/MyDrive/RQ1_Experiments/results/InternVL3-8B/RQ1_InternVL3-8B_8B_country_L3_prompt4_r1.json\n",
            "\n",
            "------------------------------------------------------\n",
            "\n",
            "Processing 18/360: /content/drive/MyDrive/RQ1_Experiments/RQ1_Data_Batch1/Africa/Eswatini/Africa_Eswatini_E1_LAST.JPG\n",
            "\n",
            "  ➤ [prompt1] prompt:\n",
            "Assume the image is from Africa. Analyze it and answer two things:\n",
            "\n",
            "1) Which country is this most likely from? (choose from Nigeria, South Africa, Egypt, Seychelles, Comoros, Cape Verde, Mozambique, Rwanda, Eswatini)\n",
            "\n",
            "2) What is the most suitable label: political expression, vandalism, decoration, cultural identity, or advertisement?\n",
            "\n"
          ]
        },
        {
          "output_type": "stream",
          "name": "stderr",
          "text": [
            "Setting `pad_token_id` to `eos_token_id`:151645 for open-end generation.\n",
            "Setting `pad_token_id` to `eos_token_id`:151645 for open-end generation.\n"
          ]
        },
        {
          "output_type": "stream",
          "name": "stdout",
          "text": [
            "  ✔ prompt1: infer_img() full-res ok\n",
            " Saved results to /content/drive/MyDrive/RQ1_Experiments/results/InternVL3-8B/RQ1_InternVL3-8B_8B_country_L3_prompt1_r1.json\n",
            "\n",
            "  ➤ [prompt2] prompt:\n",
            "You are a cultural anthropologist viewing street visuals. Given that mural in image is located in Africa, give these four pieces of info:\n",
            "\n",
            "- COUNTRY (choose exactly one: Nigeria, South Africa, Egypt, Seychelles, Comoros, Cape Verde, Mozambique, Rwanda, Eswatini)\n",
            "- LABEL (choose exactly one: political expression / vandalism / decoration / cultural identity / advertisement)\n",
            "- CONFIDENCE (0–100%)\n",
            "- TOP CUE (2–3 sentences describing the key visual/cultural cue)\n",
            "\n",
            "Be concise and calibrate CONFIDENCE to how strongly the visual cues support your claims.\n",
            "\n"
          ]
        },
        {
          "output_type": "stream",
          "name": "stderr",
          "text": [
            "Setting `pad_token_id` to `eos_token_id`:151645 for open-end generation.\n"
          ]
        },
        {
          "output_type": "stream",
          "name": "stdout",
          "text": [
            "  ✔ prompt2: infer_img() full-res ok\n",
            " Saved results to /content/drive/MyDrive/RQ1_Experiments/results/InternVL3-8B/RQ1_InternVL3-8B_8B_country_L3_prompt2_r1.json\n",
            "\n",
            "  ➤ [prompt3] prompt:\n",
            "Moderate a brief debate among a Geographer, a Street Artist, and a Museum Curator about this image, assuming it originates from Africa. For each expert, give:\n",
            "\n",
            "- ROLE: <role name>\n",
            "- COUNTRY (choose exactly one: Nigeria, South Africa, Egypt, Seychelles, Comoros, Cape Verde, Mozambique, Rwanda, Eswatini)\n",
            "- LABEL (political expression / vandalism / decoration / cultural identity / advertisement)\n",
            "- SHORT_RATIONALE (one concise sentence)\n",
            "\n",
            "After the three positions, write a 2-paragraph moderator resolution:\n",
            "1) Compare the three rationales and state which COUNTRY and LABEL you choose and why (trade-offs).\n",
            "2) List 2 visual cues that were decisive and mention one alternative explanation you rejected.\n",
            "\n",
            "Finish with: COUNTRY and LABEL (each on its own line).\n",
            "\n"
          ]
        },
        {
          "output_type": "stream",
          "name": "stderr",
          "text": [
            "Setting `pad_token_id` to `eos_token_id`:151645 for open-end generation.\n"
          ]
        },
        {
          "output_type": "stream",
          "name": "stdout",
          "text": [
            "  ✔ prompt3: infer_img() full-res ok\n",
            " Saved results to /content/drive/MyDrive/RQ1_Experiments/results/InternVL3-8B/RQ1_InternVL3-8B_8B_country_L3_prompt3_r1.json\n",
            "\n",
            "  ➤ [prompt4] prompt:\n",
            "You are a cultural anthropologist & artist. Given that mural in image is located in Africa, provide:\n",
            "\n",
            "- COUNTRY: two most likely countries (choose from: Nigeria, South Africa, Egypt, Seychelles, Comoros, Cape Verde, Mozambique, Rwanda, Eswatini) with percentages (sum ≈100), e.g. \"\"Iceland: 70%, Russia: 30%\"\"\n",
            "- WHY COUNTRY: 2–3 sentences explaining how visual cues suggest the chosen countries .\n",
            "\n",
            "- LABEL: choose from (political expression, vandalism, decoration, cultural identity, advertisement) and also assign probabilities for all five labels (sum ≈100)\n",
            "- WHY LABEL: 2–3 sentences linking cues to chosen label.\n",
            "\n",
            "- TOP CUES: list three concrete cues that were decisive (1–6 words each)\n",
            "- BIAS NOTE: 2–3 sentences reflecting how cultural bias might have affected the probability estimates.\n",
            "\n",
            "Constraints:\n",
            "- Avoid equal continent splits (e.g. 50/50). Show one as more likely.\n",
            "- Keep WHY COUNTRY and WHY LABEL tied to visible evidence (colors, symbols, technique, location clues etc).\n",
            "\n",
            "  ✔ prompt4: infer_img() full-res ok\n",
            " Saved results to /content/drive/MyDrive/RQ1_Experiments/results/InternVL3-8B/RQ1_InternVL3-8B_8B_country_L3_prompt4_r1.json\n",
            "\n",
            "------------------------------------------------------\n",
            "\n",
            "Processing 19/360: /content/drive/MyDrive/RQ1_Experiments/RQ1_Data_Batch1/Africa/Ethiopia/Africa_Ethiopia_E1_TOP.png\n",
            "\n",
            "  ➤ [prompt1] prompt:\n",
            "Assume the image is from Africa. Analyze it and answer two things:\n",
            "\n",
            "1) Which country is this most likely from? (choose from Nigeria, South Africa, Ethiopia, Seychelles, Comoros, Cape Verde, Mozambique, Rwanda, Botswana)\n",
            "\n",
            "2) What is the most suitable label: political expression, vandalism, decoration, cultural identity, or advertisement?\n",
            "\n"
          ]
        },
        {
          "output_type": "stream",
          "name": "stderr",
          "text": [
            "Setting `pad_token_id` to `eos_token_id`:151645 for open-end generation.\n",
            "Setting `pad_token_id` to `eos_token_id`:151645 for open-end generation.\n"
          ]
        },
        {
          "output_type": "stream",
          "name": "stdout",
          "text": [
            "  ✔ prompt1: infer_img() full-res ok\n",
            " Saved results to /content/drive/MyDrive/RQ1_Experiments/results/InternVL3-8B/RQ1_InternVL3-8B_8B_country_L3_prompt1_r1.json\n",
            "\n",
            "  ➤ [prompt2] prompt:\n",
            "You are a cultural anthropologist viewing street visuals. Given that mural in image is located in Africa, give these four pieces of info:\n",
            "\n",
            "- COUNTRY (choose exactly one: Nigeria, South Africa, Ethiopia, Seychelles, Comoros, Cape Verde, Mozambique, Rwanda, Botswana)\n",
            "- LABEL (choose exactly one: political expression / vandalism / decoration / cultural identity / advertisement)\n",
            "- CONFIDENCE (0–100%)\n",
            "- TOP CUE (2–3 sentences describing the key visual/cultural cue)\n",
            "\n",
            "Be concise and calibrate CONFIDENCE to how strongly the visual cues support your claims.\n",
            "\n"
          ]
        },
        {
          "output_type": "stream",
          "name": "stderr",
          "text": [
            "Setting `pad_token_id` to `eos_token_id`:151645 for open-end generation.\n"
          ]
        },
        {
          "output_type": "stream",
          "name": "stdout",
          "text": [
            "  ✔ prompt2: infer_img() full-res ok\n",
            " Saved results to /content/drive/MyDrive/RQ1_Experiments/results/InternVL3-8B/RQ1_InternVL3-8B_8B_country_L3_prompt2_r1.json\n",
            "\n",
            "  ➤ [prompt3] prompt:\n",
            "Moderate a brief debate among a Geographer, a Street Artist, and a Museum Curator about this image, assuming it originates from Africa. For each expert, give:\n",
            "\n",
            "- ROLE: <role name>\n",
            "- COUNTRY (choose exactly one: Nigeria, South Africa, Ethiopia, Seychelles, Comoros, Cape Verde, Mozambique, Rwanda, Botswana)\n",
            "- LABEL (political expression / vandalism / decoration / cultural identity / advertisement)\n",
            "- SHORT_RATIONALE (one concise sentence)\n",
            "\n",
            "After the three positions, write a 2-paragraph moderator resolution:\n",
            "1) Compare the three rationales and state which COUNTRY and LABEL you choose and why (trade-offs).\n",
            "2) List 2 visual cues that were decisive and mention one alternative explanation you rejected.\n",
            "\n",
            "Finish with: COUNTRY and LABEL (each on its own line).\n",
            "\n"
          ]
        },
        {
          "output_type": "stream",
          "name": "stderr",
          "text": [
            "Setting `pad_token_id` to `eos_token_id`:151645 for open-end generation.\n"
          ]
        },
        {
          "output_type": "stream",
          "name": "stdout",
          "text": [
            "  ✔ prompt3: infer_img() full-res ok\n",
            " Saved results to /content/drive/MyDrive/RQ1_Experiments/results/InternVL3-8B/RQ1_InternVL3-8B_8B_country_L3_prompt3_r1.json\n",
            "\n",
            "  ➤ [prompt4] prompt:\n",
            "You are a cultural anthropologist & artist. Given that mural in image is located in Africa, provide:\n",
            "\n",
            "- COUNTRY: two most likely countries (choose from: Nigeria, South Africa, Ethiopia, Seychelles, Comoros, Cape Verde, Mozambique, Rwanda, Botswana) with percentages (sum ≈100), e.g. \"\"Iceland: 70%, Russia: 30%\"\"\n",
            "- WHY COUNTRY: 2–3 sentences explaining how visual cues suggest the chosen countries .\n",
            "\n",
            "- LABEL: choose from (political expression, vandalism, decoration, cultural identity, advertisement) and also assign probabilities for all five labels (sum ≈100)\n",
            "- WHY LABEL: 2–3 sentences linking cues to chosen label.\n",
            "\n",
            "- TOP CUES: list three concrete cues that were decisive (1–6 words each)\n",
            "- BIAS NOTE: 2–3 sentences reflecting how cultural bias might have affected the probability estimates.\n",
            "\n",
            "Constraints:\n",
            "- Avoid equal continent splits (e.g. 50/50). Show one as more likely.\n",
            "- Keep WHY COUNTRY and WHY LABEL tied to visible evidence (colors, symbols, technique, location clues etc).\n",
            "\n",
            "  ✔ prompt4: infer_img() full-res ok\n",
            " Saved results to /content/drive/MyDrive/RQ1_Experiments/results/InternVL3-8B/RQ1_InternVL3-8B_8B_country_L3_prompt4_r1.json\n",
            "\n",
            "------------------------------------------------------\n",
            "\n",
            "Processing 20/360: /content/drive/MyDrive/RQ1_Experiments/RQ1_Data_Batch1/Africa/Ethiopia/Africa_Ethiopia_E2_TOP.png\n",
            "\n",
            "  ➤ [prompt1] prompt:\n",
            "Assume the image is from Africa. Analyze it and answer two things:\n",
            "\n",
            "1) Which country is this most likely from? (choose from Nigeria, South Africa, Ethiopia, Seychelles, Comoros, Cape Verde, Mozambique, Rwanda, Botswana)\n",
            "\n",
            "2) What is the most suitable label: political expression, vandalism, decoration, cultural identity, or advertisement?\n",
            "\n"
          ]
        },
        {
          "output_type": "stream",
          "name": "stderr",
          "text": [
            "Setting `pad_token_id` to `eos_token_id`:151645 for open-end generation.\n",
            "Setting `pad_token_id` to `eos_token_id`:151645 for open-end generation.\n"
          ]
        },
        {
          "output_type": "stream",
          "name": "stdout",
          "text": [
            "  ✔ prompt1: infer_img() full-res ok\n",
            " Saved results to /content/drive/MyDrive/RQ1_Experiments/results/InternVL3-8B/RQ1_InternVL3-8B_8B_country_L3_prompt1_r1.json\n",
            "\n",
            "  ➤ [prompt2] prompt:\n",
            "You are a cultural anthropologist viewing street visuals. Given that mural in image is located in Africa, give these four pieces of info:\n",
            "\n",
            "- COUNTRY (choose exactly one: Nigeria, South Africa, Ethiopia, Seychelles, Comoros, Cape Verde, Mozambique, Rwanda, Botswana)\n",
            "- LABEL (choose exactly one: political expression / vandalism / decoration / cultural identity / advertisement)\n",
            "- CONFIDENCE (0–100%)\n",
            "- TOP CUE (2–3 sentences describing the key visual/cultural cue)\n",
            "\n",
            "Be concise and calibrate CONFIDENCE to how strongly the visual cues support your claims.\n",
            "\n"
          ]
        },
        {
          "output_type": "stream",
          "name": "stderr",
          "text": [
            "Setting `pad_token_id` to `eos_token_id`:151645 for open-end generation.\n"
          ]
        },
        {
          "output_type": "stream",
          "name": "stdout",
          "text": [
            "  ✔ prompt2: infer_img() full-res ok\n",
            " Saved results to /content/drive/MyDrive/RQ1_Experiments/results/InternVL3-8B/RQ1_InternVL3-8B_8B_country_L3_prompt2_r1.json\n",
            "\n",
            "  ➤ [prompt3] prompt:\n",
            "Moderate a brief debate among a Geographer, a Street Artist, and a Museum Curator about this image, assuming it originates from Africa. For each expert, give:\n",
            "\n",
            "- ROLE: <role name>\n",
            "- COUNTRY (choose exactly one: Nigeria, South Africa, Ethiopia, Seychelles, Comoros, Cape Verde, Mozambique, Rwanda, Botswana)\n",
            "- LABEL (political expression / vandalism / decoration / cultural identity / advertisement)\n",
            "- SHORT_RATIONALE (one concise sentence)\n",
            "\n",
            "After the three positions, write a 2-paragraph moderator resolution:\n",
            "1) Compare the three rationales and state which COUNTRY and LABEL you choose and why (trade-offs).\n",
            "2) List 2 visual cues that were decisive and mention one alternative explanation you rejected.\n",
            "\n",
            "Finish with: COUNTRY and LABEL (each on its own line).\n",
            "\n"
          ]
        },
        {
          "output_type": "stream",
          "name": "stderr",
          "text": [
            "Setting `pad_token_id` to `eos_token_id`:151645 for open-end generation.\n"
          ]
        },
        {
          "output_type": "stream",
          "name": "stdout",
          "text": [
            "  ✔ prompt3: infer_img() full-res ok\n",
            " Saved results to /content/drive/MyDrive/RQ1_Experiments/results/InternVL3-8B/RQ1_InternVL3-8B_8B_country_L3_prompt3_r1.json\n",
            "\n",
            "  ➤ [prompt4] prompt:\n",
            "You are a cultural anthropologist & artist. Given that mural in image is located in Africa, provide:\n",
            "\n",
            "- COUNTRY: two most likely countries (choose from: Nigeria, South Africa, Ethiopia, Seychelles, Comoros, Cape Verde, Mozambique, Rwanda, Botswana) with percentages (sum ≈100), e.g. \"\"Iceland: 70%, Russia: 30%\"\"\n",
            "- WHY COUNTRY: 2–3 sentences explaining how visual cues suggest the chosen countries .\n",
            "\n",
            "- LABEL: choose from (political expression, vandalism, decoration, cultural identity, advertisement) and also assign probabilities for all five labels (sum ≈100)\n",
            "- WHY LABEL: 2–3 sentences linking cues to chosen label.\n",
            "\n",
            "- TOP CUES: list three concrete cues that were decisive (1–6 words each)\n",
            "- BIAS NOTE: 2–3 sentences reflecting how cultural bias might have affected the probability estimates.\n",
            "\n",
            "Constraints:\n",
            "- Avoid equal continent splits (e.g. 50/50). Show one as more likely.\n",
            "- Keep WHY COUNTRY and WHY LABEL tied to visible evidence (colors, symbols, technique, location clues etc).\n",
            "\n",
            "  ✔ prompt4: infer_img() full-res ok\n",
            " Saved results to /content/drive/MyDrive/RQ1_Experiments/results/InternVL3-8B/RQ1_InternVL3-8B_8B_country_L3_prompt4_r1.json\n",
            "\n",
            "------------------------------------------------------\n",
            "\n",
            "Processing 21/360: /content/drive/MyDrive/RQ1_Experiments/RQ1_Data_Batch1/Africa/Ethiopia/Africa_Ethiopia_E3_TOP.png\n",
            "\n",
            "  ➤ [prompt1] prompt:\n",
            "Assume the image is from Africa. Analyze it and answer two things:\n",
            "\n",
            "1) Which country is this most likely from? (choose from Nigeria, South Africa, Ethiopia, Seychelles, Comoros, Cape Verde, Mozambique, Rwanda, Botswana)\n",
            "\n",
            "2) What is the most suitable label: political expression, vandalism, decoration, cultural identity, or advertisement?\n",
            "\n"
          ]
        },
        {
          "output_type": "stream",
          "name": "stderr",
          "text": [
            "Setting `pad_token_id` to `eos_token_id`:151645 for open-end generation.\n",
            "Setting `pad_token_id` to `eos_token_id`:151645 for open-end generation.\n"
          ]
        },
        {
          "output_type": "stream",
          "name": "stdout",
          "text": [
            "  ✔ prompt1: infer_img() full-res ok\n",
            " Saved results to /content/drive/MyDrive/RQ1_Experiments/results/InternVL3-8B/RQ1_InternVL3-8B_8B_country_L3_prompt1_r1.json\n",
            "\n",
            "  ➤ [prompt2] prompt:\n",
            "You are a cultural anthropologist viewing street visuals. Given that mural in image is located in Africa, give these four pieces of info:\n",
            "\n",
            "- COUNTRY (choose exactly one: Nigeria, South Africa, Ethiopia, Seychelles, Comoros, Cape Verde, Mozambique, Rwanda, Botswana)\n",
            "- LABEL (choose exactly one: political expression / vandalism / decoration / cultural identity / advertisement)\n",
            "- CONFIDENCE (0–100%)\n",
            "- TOP CUE (2–3 sentences describing the key visual/cultural cue)\n",
            "\n",
            "Be concise and calibrate CONFIDENCE to how strongly the visual cues support your claims.\n",
            "\n"
          ]
        },
        {
          "output_type": "stream",
          "name": "stderr",
          "text": [
            "Setting `pad_token_id` to `eos_token_id`:151645 for open-end generation.\n"
          ]
        },
        {
          "output_type": "stream",
          "name": "stdout",
          "text": [
            "  ✔ prompt2: infer_img() full-res ok\n",
            " Saved results to /content/drive/MyDrive/RQ1_Experiments/results/InternVL3-8B/RQ1_InternVL3-8B_8B_country_L3_prompt2_r1.json\n",
            "\n",
            "  ➤ [prompt3] prompt:\n",
            "Moderate a brief debate among a Geographer, a Street Artist, and a Museum Curator about this image, assuming it originates from Africa. For each expert, give:\n",
            "\n",
            "- ROLE: <role name>\n",
            "- COUNTRY (choose exactly one: Nigeria, South Africa, Ethiopia, Seychelles, Comoros, Cape Verde, Mozambique, Rwanda, Botswana)\n",
            "- LABEL (political expression / vandalism / decoration / cultural identity / advertisement)\n",
            "- SHORT_RATIONALE (one concise sentence)\n",
            "\n",
            "After the three positions, write a 2-paragraph moderator resolution:\n",
            "1) Compare the three rationales and state which COUNTRY and LABEL you choose and why (trade-offs).\n",
            "2) List 2 visual cues that were decisive and mention one alternative explanation you rejected.\n",
            "\n",
            "Finish with: COUNTRY and LABEL (each on its own line).\n",
            "\n"
          ]
        },
        {
          "output_type": "stream",
          "name": "stderr",
          "text": [
            "Setting `pad_token_id` to `eos_token_id`:151645 for open-end generation.\n"
          ]
        },
        {
          "output_type": "stream",
          "name": "stdout",
          "text": [
            "  ✔ prompt3: infer_img() full-res ok\n",
            " Saved results to /content/drive/MyDrive/RQ1_Experiments/results/InternVL3-8B/RQ1_InternVL3-8B_8B_country_L3_prompt3_r1.json\n",
            "\n",
            "  ➤ [prompt4] prompt:\n",
            "You are a cultural anthropologist & artist. Given that mural in image is located in Africa, provide:\n",
            "\n",
            "- COUNTRY: two most likely countries (choose from: Nigeria, South Africa, Ethiopia, Seychelles, Comoros, Cape Verde, Mozambique, Rwanda, Botswana) with percentages (sum ≈100), e.g. \"\"Iceland: 70%, Russia: 30%\"\"\n",
            "- WHY COUNTRY: 2–3 sentences explaining how visual cues suggest the chosen countries .\n",
            "\n",
            "- LABEL: choose from (political expression, vandalism, decoration, cultural identity, advertisement) and also assign probabilities for all five labels (sum ≈100)\n",
            "- WHY LABEL: 2–3 sentences linking cues to chosen label.\n",
            "\n",
            "- TOP CUES: list three concrete cues that were decisive (1–6 words each)\n",
            "- BIAS NOTE: 2–3 sentences reflecting how cultural bias might have affected the probability estimates.\n",
            "\n",
            "Constraints:\n",
            "- Avoid equal continent splits (e.g. 50/50). Show one as more likely.\n",
            "- Keep WHY COUNTRY and WHY LABEL tied to visible evidence (colors, symbols, technique, location clues etc).\n",
            "\n",
            "  ✔ prompt4: infer_img() full-res ok\n",
            " Saved results to /content/drive/MyDrive/RQ1_Experiments/results/InternVL3-8B/RQ1_InternVL3-8B_8B_country_L3_prompt4_r1.json\n",
            "\n",
            "------------------------------------------------------\n",
            "\n",
            "Processing 22/360: /content/drive/MyDrive/RQ1_Experiments/RQ1_Data_Batch1/Africa/Ethiopia/Africa_Ethiopia_E4_TOP.png\n",
            "\n",
            "  ➤ [prompt1] prompt:\n",
            "Assume the image is from Africa. Analyze it and answer two things:\n",
            "\n",
            "1) Which country is this most likely from? (choose from Nigeria, South Africa, Ethiopia, Seychelles, Comoros, Cape Verde, Mozambique, Rwanda, Botswana)\n",
            "\n",
            "2) What is the most suitable label: political expression, vandalism, decoration, cultural identity, or advertisement?\n",
            "\n"
          ]
        },
        {
          "output_type": "stream",
          "name": "stderr",
          "text": [
            "Setting `pad_token_id` to `eos_token_id`:151645 for open-end generation.\n",
            "Setting `pad_token_id` to `eos_token_id`:151645 for open-end generation.\n"
          ]
        },
        {
          "output_type": "stream",
          "name": "stdout",
          "text": [
            "  ✔ prompt1: infer_img() full-res ok\n",
            " Saved results to /content/drive/MyDrive/RQ1_Experiments/results/InternVL3-8B/RQ1_InternVL3-8B_8B_country_L3_prompt1_r1.json\n",
            "\n",
            "  ➤ [prompt2] prompt:\n",
            "You are a cultural anthropologist viewing street visuals. Given that mural in image is located in Africa, give these four pieces of info:\n",
            "\n",
            "- COUNTRY (choose exactly one: Nigeria, South Africa, Ethiopia, Seychelles, Comoros, Cape Verde, Mozambique, Rwanda, Botswana)\n",
            "- LABEL (choose exactly one: political expression / vandalism / decoration / cultural identity / advertisement)\n",
            "- CONFIDENCE (0–100%)\n",
            "- TOP CUE (2–3 sentences describing the key visual/cultural cue)\n",
            "\n",
            "Be concise and calibrate CONFIDENCE to how strongly the visual cues support your claims.\n",
            "\n"
          ]
        },
        {
          "output_type": "stream",
          "name": "stderr",
          "text": [
            "Setting `pad_token_id` to `eos_token_id`:151645 for open-end generation.\n"
          ]
        },
        {
          "output_type": "stream",
          "name": "stdout",
          "text": [
            "  ✔ prompt2: infer_img() full-res ok\n",
            " Saved results to /content/drive/MyDrive/RQ1_Experiments/results/InternVL3-8B/RQ1_InternVL3-8B_8B_country_L3_prompt2_r1.json\n",
            "\n",
            "  ➤ [prompt3] prompt:\n",
            "Moderate a brief debate among a Geographer, a Street Artist, and a Museum Curator about this image, assuming it originates from Africa. For each expert, give:\n",
            "\n",
            "- ROLE: <role name>\n",
            "- COUNTRY (choose exactly one: Nigeria, South Africa, Ethiopia, Seychelles, Comoros, Cape Verde, Mozambique, Rwanda, Botswana)\n",
            "- LABEL (political expression / vandalism / decoration / cultural identity / advertisement)\n",
            "- SHORT_RATIONALE (one concise sentence)\n",
            "\n",
            "After the three positions, write a 2-paragraph moderator resolution:\n",
            "1) Compare the three rationales and state which COUNTRY and LABEL you choose and why (trade-offs).\n",
            "2) List 2 visual cues that were decisive and mention one alternative explanation you rejected.\n",
            "\n",
            "Finish with: COUNTRY and LABEL (each on its own line).\n",
            "\n"
          ]
        },
        {
          "output_type": "stream",
          "name": "stderr",
          "text": [
            "Setting `pad_token_id` to `eos_token_id`:151645 for open-end generation.\n"
          ]
        },
        {
          "output_type": "stream",
          "name": "stdout",
          "text": [
            "  ✔ prompt3: infer_img() full-res ok\n",
            " Saved results to /content/drive/MyDrive/RQ1_Experiments/results/InternVL3-8B/RQ1_InternVL3-8B_8B_country_L3_prompt3_r1.json\n",
            "\n",
            "  ➤ [prompt4] prompt:\n",
            "You are a cultural anthropologist & artist. Given that mural in image is located in Africa, provide:\n",
            "\n",
            "- COUNTRY: two most likely countries (choose from: Nigeria, South Africa, Ethiopia, Seychelles, Comoros, Cape Verde, Mozambique, Rwanda, Botswana) with percentages (sum ≈100), e.g. \"\"Iceland: 70%, Russia: 30%\"\"\n",
            "- WHY COUNTRY: 2–3 sentences explaining how visual cues suggest the chosen countries .\n",
            "\n",
            "- LABEL: choose from (political expression, vandalism, decoration, cultural identity, advertisement) and also assign probabilities for all five labels (sum ≈100)\n",
            "- WHY LABEL: 2–3 sentences linking cues to chosen label.\n",
            "\n",
            "- TOP CUES: list three concrete cues that were decisive (1–6 words each)\n",
            "- BIAS NOTE: 2–3 sentences reflecting how cultural bias might have affected the probability estimates.\n",
            "\n",
            "Constraints:\n",
            "- Avoid equal continent splits (e.g. 50/50). Show one as more likely.\n",
            "- Keep WHY COUNTRY and WHY LABEL tied to visible evidence (colors, symbols, technique, location clues etc).\n",
            "\n",
            "  ✔ prompt4: infer_img() full-res ok\n",
            " Saved results to /content/drive/MyDrive/RQ1_Experiments/results/InternVL3-8B/RQ1_InternVL3-8B_8B_country_L3_prompt4_r1.json\n",
            "\n",
            "------------------------------------------------------\n",
            "\n",
            "Processing 23/360: /content/drive/MyDrive/RQ1_Experiments/RQ1_Data_Batch1/Africa/Gambia/Africa_Gambia_G1_LAST.jpg\n",
            "\n",
            "  ➤ [prompt1] prompt:\n",
            "Assume the image is from Africa. Analyze it and answer two things:\n",
            "\n",
            "1) Which country is this most likely from? (choose from Nigeria, South Africa, Egypt, Seychelles, Comoros, Cape Verde, Mozambique, Rwanda, Gambia)\n",
            "\n",
            "2) What is the most suitable label: political expression, vandalism, decoration, cultural identity, or advertisement?\n",
            "\n"
          ]
        },
        {
          "output_type": "stream",
          "name": "stderr",
          "text": [
            "Setting `pad_token_id` to `eos_token_id`:151645 for open-end generation.\n",
            "Setting `pad_token_id` to `eos_token_id`:151645 for open-end generation.\n"
          ]
        },
        {
          "output_type": "stream",
          "name": "stdout",
          "text": [
            "  ✔ prompt1: infer_img() full-res ok\n",
            " Saved results to /content/drive/MyDrive/RQ1_Experiments/results/InternVL3-8B/RQ1_InternVL3-8B_8B_country_L3_prompt1_r1.json\n",
            "\n",
            "  ➤ [prompt2] prompt:\n",
            "You are a cultural anthropologist viewing street visuals. Given that mural in image is located in Africa, give these four pieces of info:\n",
            "\n",
            "- COUNTRY (choose exactly one: Nigeria, South Africa, Egypt, Seychelles, Comoros, Cape Verde, Mozambique, Rwanda, Gambia)\n",
            "- LABEL (choose exactly one: political expression / vandalism / decoration / cultural identity / advertisement)\n",
            "- CONFIDENCE (0–100%)\n",
            "- TOP CUE (2–3 sentences describing the key visual/cultural cue)\n",
            "\n",
            "Be concise and calibrate CONFIDENCE to how strongly the visual cues support your claims.\n",
            "\n"
          ]
        },
        {
          "output_type": "stream",
          "name": "stderr",
          "text": [
            "Setting `pad_token_id` to `eos_token_id`:151645 for open-end generation.\n"
          ]
        },
        {
          "output_type": "stream",
          "name": "stdout",
          "text": [
            "  ✔ prompt2: infer_img() full-res ok\n",
            " Saved results to /content/drive/MyDrive/RQ1_Experiments/results/InternVL3-8B/RQ1_InternVL3-8B_8B_country_L3_prompt2_r1.json\n",
            "\n",
            "  ➤ [prompt3] prompt:\n",
            "Moderate a brief debate among a Geographer, a Street Artist, and a Museum Curator about this image, assuming it originates from Africa. For each expert, give:\n",
            "\n",
            "- ROLE: <role name>\n",
            "- COUNTRY (choose exactly one: Nigeria, South Africa, Egypt, Seychelles, Comoros, Cape Verde, Mozambique, Rwanda, Gambia)\n",
            "- LABEL (political expression / vandalism / decoration / cultural identity / advertisement)\n",
            "- SHORT_RATIONALE (one concise sentence)\n",
            "\n",
            "After the three positions, write a 2-paragraph moderator resolution:\n",
            "1) Compare the three rationales and state which COUNTRY and LABEL you choose and why (trade-offs).\n",
            "2) List 2 visual cues that were decisive and mention one alternative explanation you rejected.\n",
            "\n",
            "Finish with: COUNTRY and LABEL (each on its own line).\n",
            "\n"
          ]
        },
        {
          "output_type": "stream",
          "name": "stderr",
          "text": [
            "Setting `pad_token_id` to `eos_token_id`:151645 for open-end generation.\n"
          ]
        },
        {
          "output_type": "stream",
          "name": "stdout",
          "text": [
            "  ✔ prompt3: infer_img() full-res ok\n",
            " Saved results to /content/drive/MyDrive/RQ1_Experiments/results/InternVL3-8B/RQ1_InternVL3-8B_8B_country_L3_prompt3_r1.json\n",
            "\n",
            "  ➤ [prompt4] prompt:\n",
            "You are a cultural anthropologist & artist. Given that mural in image is located in Africa, provide:\n",
            "\n",
            "- COUNTRY: two most likely countries (choose from: Nigeria, South Africa, Egypt, Seychelles, Comoros, Cape Verde, Mozambique, Rwanda, Gambia) with percentages (sum ≈100), e.g. \"\"Iceland: 70%, Russia: 30%\"\"\n",
            "- WHY COUNTRY: 2–3 sentences explaining how visual cues suggest the chosen countries .\n",
            "\n",
            "- LABEL: choose from (political expression, vandalism, decoration, cultural identity, advertisement) and also assign probabilities for all five labels (sum ≈100)\n",
            "- WHY LABEL: 2–3 sentences linking cues to chosen label.\n",
            "\n",
            "- TOP CUES: list three concrete cues that were decisive (1–6 words each)\n",
            "- BIAS NOTE: 2–3 sentences reflecting how cultural bias might have affected the probability estimates.\n",
            "\n",
            "Constraints:\n",
            "- Avoid equal continent splits (e.g. 50/50). Show one as more likely.\n",
            "- Keep WHY COUNTRY and WHY LABEL tied to visible evidence (colors, symbols, technique, location clues etc).\n",
            "\n",
            "  ✔ prompt4: infer_img() full-res ok\n",
            " Saved results to /content/drive/MyDrive/RQ1_Experiments/results/InternVL3-8B/RQ1_InternVL3-8B_8B_country_L3_prompt4_r1.json\n",
            "\n",
            "------------------------------------------------------\n",
            "\n",
            "Processing 24/360: /content/drive/MyDrive/RQ1_Experiments/RQ1_Data_Batch1/Africa/Malawi/Africa_Malawi_MW1_MIDDLE.JPG\n",
            "\n",
            "  ➤ [prompt1] prompt:\n",
            "Assume the image is from Africa. Analyze it and answer two things:\n",
            "\n",
            "1) Which country is this most likely from? (choose from Nigeria, South Africa, Egypt, Seychelles, Comoros, Malawi, Mozambique, Rwanda, Botswana)\n",
            "\n",
            "2) What is the most suitable label: political expression, vandalism, decoration, cultural identity, or advertisement?\n",
            "\n"
          ]
        },
        {
          "output_type": "stream",
          "name": "stderr",
          "text": [
            "Setting `pad_token_id` to `eos_token_id`:151645 for open-end generation.\n",
            "Setting `pad_token_id` to `eos_token_id`:151645 for open-end generation.\n"
          ]
        },
        {
          "output_type": "stream",
          "name": "stdout",
          "text": [
            "  ✔ prompt1: infer_img() full-res ok\n",
            " Saved results to /content/drive/MyDrive/RQ1_Experiments/results/InternVL3-8B/RQ1_InternVL3-8B_8B_country_L3_prompt1_r1.json\n",
            "\n",
            "  ➤ [prompt2] prompt:\n",
            "You are a cultural anthropologist viewing street visuals. Given that mural in image is located in Africa, give these four pieces of info:\n",
            "\n",
            "- COUNTRY (choose exactly one: Nigeria, South Africa, Egypt, Seychelles, Comoros, Malawi, Mozambique, Rwanda, Botswana)\n",
            "- LABEL (choose exactly one: political expression / vandalism / decoration / cultural identity / advertisement)\n",
            "- CONFIDENCE (0–100%)\n",
            "- TOP CUE (2–3 sentences describing the key visual/cultural cue)\n",
            "\n",
            "Be concise and calibrate CONFIDENCE to how strongly the visual cues support your claims.\n",
            "\n"
          ]
        },
        {
          "output_type": "stream",
          "name": "stderr",
          "text": [
            "Setting `pad_token_id` to `eos_token_id`:151645 for open-end generation.\n"
          ]
        },
        {
          "output_type": "stream",
          "name": "stdout",
          "text": [
            "  ✔ prompt2: infer_img() full-res ok\n",
            " Saved results to /content/drive/MyDrive/RQ1_Experiments/results/InternVL3-8B/RQ1_InternVL3-8B_8B_country_L3_prompt2_r1.json\n",
            "\n",
            "  ➤ [prompt3] prompt:\n",
            "Moderate a brief debate among a Geographer, a Street Artist, and a Museum Curator about this image, assuming it originates from Africa. For each expert, give:\n",
            "\n",
            "- ROLE: <role name>\n",
            "- COUNTRY (choose exactly one: Nigeria, South Africa, Egypt, Seychelles, Comoros, Malawi, Mozambique, Rwanda, Botswana)\n",
            "- LABEL (political expression / vandalism / decoration / cultural identity / advertisement)\n",
            "- SHORT_RATIONALE (one concise sentence)\n",
            "\n",
            "After the three positions, write a 2-paragraph moderator resolution:\n",
            "1) Compare the three rationales and state which COUNTRY and LABEL you choose and why (trade-offs).\n",
            "2) List 2 visual cues that were decisive and mention one alternative explanation you rejected.\n",
            "\n",
            "Finish with: COUNTRY and LABEL (each on its own line).\n",
            "\n"
          ]
        },
        {
          "output_type": "stream",
          "name": "stderr",
          "text": [
            "Setting `pad_token_id` to `eos_token_id`:151645 for open-end generation.\n"
          ]
        },
        {
          "output_type": "stream",
          "name": "stdout",
          "text": [
            "  ✔ prompt3: infer_img() full-res ok\n",
            " Saved results to /content/drive/MyDrive/RQ1_Experiments/results/InternVL3-8B/RQ1_InternVL3-8B_8B_country_L3_prompt3_r1.json\n",
            "\n",
            "  ➤ [prompt4] prompt:\n",
            "You are a cultural anthropologist & artist. Given that mural in image is located in Africa, provide:\n",
            "\n",
            "- COUNTRY: two most likely countries (choose from: Nigeria, South Africa, Egypt, Seychelles, Comoros, Malawi, Mozambique, Rwanda, Botswana) with percentages (sum ≈100), e.g. \"\"Iceland: 70%, Russia: 30%\"\"\n",
            "- WHY COUNTRY: 2–3 sentences explaining how visual cues suggest the chosen countries .\n",
            "\n",
            "- LABEL: choose from (political expression, vandalism, decoration, cultural identity, advertisement) and also assign probabilities for all five labels (sum ≈100)\n",
            "- WHY LABEL: 2–3 sentences linking cues to chosen label.\n",
            "\n",
            "- TOP CUES: list three concrete cues that were decisive (1–6 words each)\n",
            "- BIAS NOTE: 2–3 sentences reflecting how cultural bias might have affected the probability estimates.\n",
            "\n",
            "Constraints:\n",
            "- Avoid equal continent splits (e.g. 50/50). Show one as more likely.\n",
            "- Keep WHY COUNTRY and WHY LABEL tied to visible evidence (colors, symbols, technique, location clues etc).\n",
            "\n",
            "  ✔ prompt4: infer_img() full-res ok\n",
            " Saved results to /content/drive/MyDrive/RQ1_Experiments/results/InternVL3-8B/RQ1_InternVL3-8B_8B_country_L3_prompt4_r1.json\n",
            "\n",
            "------------------------------------------------------\n",
            "\n",
            "Processing 25/360: /content/drive/MyDrive/RQ1_Experiments/RQ1_Data_Batch1/Africa/Malawi/Africa_Malawi_MW2_MIDDLE.JPG\n",
            "\n",
            "  ➤ [prompt1] prompt:\n",
            "Assume the image is from Africa. Analyze it and answer two things:\n",
            "\n",
            "1) Which country is this most likely from? (choose from Nigeria, South Africa, Egypt, Seychelles, Comoros, Malawi, Mozambique, Rwanda, Botswana)\n",
            "\n",
            "2) What is the most suitable label: political expression, vandalism, decoration, cultural identity, or advertisement?\n",
            "\n"
          ]
        },
        {
          "output_type": "stream",
          "name": "stderr",
          "text": [
            "Setting `pad_token_id` to `eos_token_id`:151645 for open-end generation.\n",
            "Setting `pad_token_id` to `eos_token_id`:151645 for open-end generation.\n"
          ]
        },
        {
          "output_type": "stream",
          "name": "stdout",
          "text": [
            "  ✔ prompt1: infer_img() full-res ok\n",
            " Saved results to /content/drive/MyDrive/RQ1_Experiments/results/InternVL3-8B/RQ1_InternVL3-8B_8B_country_L3_prompt1_r1.json\n",
            "\n",
            "  ➤ [prompt2] prompt:\n",
            "You are a cultural anthropologist viewing street visuals. Given that mural in image is located in Africa, give these four pieces of info:\n",
            "\n",
            "- COUNTRY (choose exactly one: Nigeria, South Africa, Egypt, Seychelles, Comoros, Malawi, Mozambique, Rwanda, Botswana)\n",
            "- LABEL (choose exactly one: political expression / vandalism / decoration / cultural identity / advertisement)\n",
            "- CONFIDENCE (0–100%)\n",
            "- TOP CUE (2–3 sentences describing the key visual/cultural cue)\n",
            "\n",
            "Be concise and calibrate CONFIDENCE to how strongly the visual cues support your claims.\n",
            "\n"
          ]
        },
        {
          "output_type": "stream",
          "name": "stderr",
          "text": [
            "Setting `pad_token_id` to `eos_token_id`:151645 for open-end generation.\n"
          ]
        },
        {
          "output_type": "stream",
          "name": "stdout",
          "text": [
            "  ✔ prompt2: infer_img() full-res ok\n",
            " Saved results to /content/drive/MyDrive/RQ1_Experiments/results/InternVL3-8B/RQ1_InternVL3-8B_8B_country_L3_prompt2_r1.json\n",
            "\n",
            "  ➤ [prompt3] prompt:\n",
            "Moderate a brief debate among a Geographer, a Street Artist, and a Museum Curator about this image, assuming it originates from Africa. For each expert, give:\n",
            "\n",
            "- ROLE: <role name>\n",
            "- COUNTRY (choose exactly one: Nigeria, South Africa, Egypt, Seychelles, Comoros, Malawi, Mozambique, Rwanda, Botswana)\n",
            "- LABEL (political expression / vandalism / decoration / cultural identity / advertisement)\n",
            "- SHORT_RATIONALE (one concise sentence)\n",
            "\n",
            "After the three positions, write a 2-paragraph moderator resolution:\n",
            "1) Compare the three rationales and state which COUNTRY and LABEL you choose and why (trade-offs).\n",
            "2) List 2 visual cues that were decisive and mention one alternative explanation you rejected.\n",
            "\n",
            "Finish with: COUNTRY and LABEL (each on its own line).\n",
            "\n"
          ]
        },
        {
          "output_type": "stream",
          "name": "stderr",
          "text": [
            "Setting `pad_token_id` to `eos_token_id`:151645 for open-end generation.\n"
          ]
        },
        {
          "output_type": "stream",
          "name": "stdout",
          "text": [
            "  ✔ prompt3: infer_img() full-res ok\n",
            " Saved results to /content/drive/MyDrive/RQ1_Experiments/results/InternVL3-8B/RQ1_InternVL3-8B_8B_country_L3_prompt3_r1.json\n",
            "\n",
            "  ➤ [prompt4] prompt:\n",
            "You are a cultural anthropologist & artist. Given that mural in image is located in Africa, provide:\n",
            "\n",
            "- COUNTRY: two most likely countries (choose from: Nigeria, South Africa, Egypt, Seychelles, Comoros, Malawi, Mozambique, Rwanda, Botswana) with percentages (sum ≈100), e.g. \"\"Iceland: 70%, Russia: 30%\"\"\n",
            "- WHY COUNTRY: 2–3 sentences explaining how visual cues suggest the chosen countries .\n",
            "\n",
            "- LABEL: choose from (political expression, vandalism, decoration, cultural identity, advertisement) and also assign probabilities for all five labels (sum ≈100)\n",
            "- WHY LABEL: 2–3 sentences linking cues to chosen label.\n",
            "\n",
            "- TOP CUES: list three concrete cues that were decisive (1–6 words each)\n",
            "- BIAS NOTE: 2–3 sentences reflecting how cultural bias might have affected the probability estimates.\n",
            "\n",
            "Constraints:\n",
            "- Avoid equal continent splits (e.g. 50/50). Show one as more likely.\n",
            "- Keep WHY COUNTRY and WHY LABEL tied to visible evidence (colors, symbols, technique, location clues etc).\n",
            "\n",
            "  ✔ prompt4: infer_img() full-res ok\n",
            " Saved results to /content/drive/MyDrive/RQ1_Experiments/results/InternVL3-8B/RQ1_InternVL3-8B_8B_country_L3_prompt4_r1.json\n",
            "\n",
            "------------------------------------------------------\n",
            "\n",
            "Processing 26/360: /content/drive/MyDrive/RQ1_Experiments/RQ1_Data_Batch1/Africa/Malawi/Africa_Malawi_MW3_MIDDLE.JPG\n",
            "\n",
            "  ➤ [prompt1] prompt:\n",
            "Assume the image is from Africa. Analyze it and answer two things:\n",
            "\n",
            "1) Which country is this most likely from? (choose from Nigeria, South Africa, Egypt, Seychelles, Comoros, Malawi, Mozambique, Rwanda, Botswana)\n",
            "\n",
            "2) What is the most suitable label: political expression, vandalism, decoration, cultural identity, or advertisement?\n",
            "\n"
          ]
        },
        {
          "output_type": "stream",
          "name": "stderr",
          "text": [
            "Setting `pad_token_id` to `eos_token_id`:151645 for open-end generation.\n",
            "Setting `pad_token_id` to `eos_token_id`:151645 for open-end generation.\n"
          ]
        },
        {
          "output_type": "stream",
          "name": "stdout",
          "text": [
            "  ✔ prompt1: infer_img() full-res ok\n",
            " Saved results to /content/drive/MyDrive/RQ1_Experiments/results/InternVL3-8B/RQ1_InternVL3-8B_8B_country_L3_prompt1_r1.json\n",
            "\n",
            "  ➤ [prompt2] prompt:\n",
            "You are a cultural anthropologist viewing street visuals. Given that mural in image is located in Africa, give these four pieces of info:\n",
            "\n",
            "- COUNTRY (choose exactly one: Nigeria, South Africa, Egypt, Seychelles, Comoros, Malawi, Mozambique, Rwanda, Botswana)\n",
            "- LABEL (choose exactly one: political expression / vandalism / decoration / cultural identity / advertisement)\n",
            "- CONFIDENCE (0–100%)\n",
            "- TOP CUE (2–3 sentences describing the key visual/cultural cue)\n",
            "\n",
            "Be concise and calibrate CONFIDENCE to how strongly the visual cues support your claims.\n",
            "\n"
          ]
        },
        {
          "output_type": "stream",
          "name": "stderr",
          "text": [
            "Setting `pad_token_id` to `eos_token_id`:151645 for open-end generation.\n"
          ]
        },
        {
          "output_type": "stream",
          "name": "stdout",
          "text": [
            "  ✔ prompt2: infer_img() full-res ok\n",
            " Saved results to /content/drive/MyDrive/RQ1_Experiments/results/InternVL3-8B/RQ1_InternVL3-8B_8B_country_L3_prompt2_r1.json\n",
            "\n",
            "  ➤ [prompt3] prompt:\n",
            "Moderate a brief debate among a Geographer, a Street Artist, and a Museum Curator about this image, assuming it originates from Africa. For each expert, give:\n",
            "\n",
            "- ROLE: <role name>\n",
            "- COUNTRY (choose exactly one: Nigeria, South Africa, Egypt, Seychelles, Comoros, Malawi, Mozambique, Rwanda, Botswana)\n",
            "- LABEL (political expression / vandalism / decoration / cultural identity / advertisement)\n",
            "- SHORT_RATIONALE (one concise sentence)\n",
            "\n",
            "After the three positions, write a 2-paragraph moderator resolution:\n",
            "1) Compare the three rationales and state which COUNTRY and LABEL you choose and why (trade-offs).\n",
            "2) List 2 visual cues that were decisive and mention one alternative explanation you rejected.\n",
            "\n",
            "Finish with: COUNTRY and LABEL (each on its own line).\n",
            "\n"
          ]
        },
        {
          "output_type": "stream",
          "name": "stderr",
          "text": [
            "Setting `pad_token_id` to `eos_token_id`:151645 for open-end generation.\n"
          ]
        },
        {
          "output_type": "stream",
          "name": "stdout",
          "text": [
            "  ✔ prompt3: infer_img() full-res ok\n",
            " Saved results to /content/drive/MyDrive/RQ1_Experiments/results/InternVL3-8B/RQ1_InternVL3-8B_8B_country_L3_prompt3_r1.json\n",
            "\n",
            "  ➤ [prompt4] prompt:\n",
            "You are a cultural anthropologist & artist. Given that mural in image is located in Africa, provide:\n",
            "\n",
            "- COUNTRY: two most likely countries (choose from: Nigeria, South Africa, Egypt, Seychelles, Comoros, Malawi, Mozambique, Rwanda, Botswana) with percentages (sum ≈100), e.g. \"\"Iceland: 70%, Russia: 30%\"\"\n",
            "- WHY COUNTRY: 2–3 sentences explaining how visual cues suggest the chosen countries .\n",
            "\n",
            "- LABEL: choose from (political expression, vandalism, decoration, cultural identity, advertisement) and also assign probabilities for all five labels (sum ≈100)\n",
            "- WHY LABEL: 2–3 sentences linking cues to chosen label.\n",
            "\n",
            "- TOP CUES: list three concrete cues that were decisive (1–6 words each)\n",
            "- BIAS NOTE: 2–3 sentences reflecting how cultural bias might have affected the probability estimates.\n",
            "\n",
            "Constraints:\n",
            "- Avoid equal continent splits (e.g. 50/50). Show one as more likely.\n",
            "- Keep WHY COUNTRY and WHY LABEL tied to visible evidence (colors, symbols, technique, location clues etc).\n",
            "\n",
            "  ✔ prompt4: infer_img() full-res ok\n",
            " Saved results to /content/drive/MyDrive/RQ1_Experiments/results/InternVL3-8B/RQ1_InternVL3-8B_8B_country_L3_prompt4_r1.json\n",
            "\n",
            "------------------------------------------------------\n",
            "\n",
            "Processing 27/360: /content/drive/MyDrive/RQ1_Experiments/RQ1_Data_Batch1/Africa/Malawi/Africa_Malawi_MW4_MIDDLE.JPG\n",
            "\n",
            "  ➤ [prompt1] prompt:\n",
            "Assume the image is from Africa. Analyze it and answer two things:\n",
            "\n",
            "1) Which country is this most likely from? (choose from Nigeria, South Africa, Egypt, Seychelles, Comoros, Malawi, Mozambique, Rwanda, Botswana)\n",
            "\n",
            "2) What is the most suitable label: political expression, vandalism, decoration, cultural identity, or advertisement?\n",
            "\n"
          ]
        },
        {
          "output_type": "stream",
          "name": "stderr",
          "text": [
            "Setting `pad_token_id` to `eos_token_id`:151645 for open-end generation.\n",
            "Setting `pad_token_id` to `eos_token_id`:151645 for open-end generation.\n"
          ]
        },
        {
          "output_type": "stream",
          "name": "stdout",
          "text": [
            "  ✔ prompt1: infer_img() full-res ok\n",
            " Saved results to /content/drive/MyDrive/RQ1_Experiments/results/InternVL3-8B/RQ1_InternVL3-8B_8B_country_L3_prompt1_r1.json\n",
            "\n",
            "  ➤ [prompt2] prompt:\n",
            "You are a cultural anthropologist viewing street visuals. Given that mural in image is located in Africa, give these four pieces of info:\n",
            "\n",
            "- COUNTRY (choose exactly one: Nigeria, South Africa, Egypt, Seychelles, Comoros, Malawi, Mozambique, Rwanda, Botswana)\n",
            "- LABEL (choose exactly one: political expression / vandalism / decoration / cultural identity / advertisement)\n",
            "- CONFIDENCE (0–100%)\n",
            "- TOP CUE (2–3 sentences describing the key visual/cultural cue)\n",
            "\n",
            "Be concise and calibrate CONFIDENCE to how strongly the visual cues support your claims.\n",
            "\n"
          ]
        },
        {
          "output_type": "stream",
          "name": "stderr",
          "text": [
            "Setting `pad_token_id` to `eos_token_id`:151645 for open-end generation.\n"
          ]
        },
        {
          "output_type": "stream",
          "name": "stdout",
          "text": [
            "  ✔ prompt2: infer_img() full-res ok\n",
            " Saved results to /content/drive/MyDrive/RQ1_Experiments/results/InternVL3-8B/RQ1_InternVL3-8B_8B_country_L3_prompt2_r1.json\n",
            "\n",
            "  ➤ [prompt3] prompt:\n",
            "Moderate a brief debate among a Geographer, a Street Artist, and a Museum Curator about this image, assuming it originates from Africa. For each expert, give:\n",
            "\n",
            "- ROLE: <role name>\n",
            "- COUNTRY (choose exactly one: Nigeria, South Africa, Egypt, Seychelles, Comoros, Malawi, Mozambique, Rwanda, Botswana)\n",
            "- LABEL (political expression / vandalism / decoration / cultural identity / advertisement)\n",
            "- SHORT_RATIONALE (one concise sentence)\n",
            "\n",
            "After the three positions, write a 2-paragraph moderator resolution:\n",
            "1) Compare the three rationales and state which COUNTRY and LABEL you choose and why (trade-offs).\n",
            "2) List 2 visual cues that were decisive and mention one alternative explanation you rejected.\n",
            "\n",
            "Finish with: COUNTRY and LABEL (each on its own line).\n",
            "\n"
          ]
        },
        {
          "output_type": "stream",
          "name": "stderr",
          "text": [
            "Setting `pad_token_id` to `eos_token_id`:151645 for open-end generation.\n"
          ]
        },
        {
          "output_type": "stream",
          "name": "stdout",
          "text": [
            "  ✔ prompt3: infer_img() full-res ok\n",
            " Saved results to /content/drive/MyDrive/RQ1_Experiments/results/InternVL3-8B/RQ1_InternVL3-8B_8B_country_L3_prompt3_r1.json\n",
            "\n",
            "  ➤ [prompt4] prompt:\n",
            "You are a cultural anthropologist & artist. Given that mural in image is located in Africa, provide:\n",
            "\n",
            "- COUNTRY: two most likely countries (choose from: Nigeria, South Africa, Egypt, Seychelles, Comoros, Malawi, Mozambique, Rwanda, Botswana) with percentages (sum ≈100), e.g. \"\"Iceland: 70%, Russia: 30%\"\"\n",
            "- WHY COUNTRY: 2–3 sentences explaining how visual cues suggest the chosen countries .\n",
            "\n",
            "- LABEL: choose from (political expression, vandalism, decoration, cultural identity, advertisement) and also assign probabilities for all five labels (sum ≈100)\n",
            "- WHY LABEL: 2–3 sentences linking cues to chosen label.\n",
            "\n",
            "- TOP CUES: list three concrete cues that were decisive (1–6 words each)\n",
            "- BIAS NOTE: 2–3 sentences reflecting how cultural bias might have affected the probability estimates.\n",
            "\n",
            "Constraints:\n",
            "- Avoid equal continent splits (e.g. 50/50). Show one as more likely.\n",
            "- Keep WHY COUNTRY and WHY LABEL tied to visible evidence (colors, symbols, technique, location clues etc).\n",
            "\n",
            "  ✔ prompt4: infer_img() full-res ok\n",
            " Saved results to /content/drive/MyDrive/RQ1_Experiments/results/InternVL3-8B/RQ1_InternVL3-8B_8B_country_L3_prompt4_r1.json\n",
            "\n",
            "------------------------------------------------------\n",
            "\n",
            "Processing 28/360: /content/drive/MyDrive/RQ1_Experiments/RQ1_Data_Batch1/Africa/Morroco/Africa_Morroco_M1_TOP.png\n",
            "\n",
            "  ➤ [prompt1] prompt:\n",
            "Assume the image is from Africa. Analyze it and answer two things:\n",
            "\n",
            "1) Which country is this most likely from? (choose from Nigeria, South Africa, Morroco, Seychelles, Comoros, Cape Verde, Mozambique, Rwanda, Botswana)\n",
            "\n",
            "2) What is the most suitable label: political expression, vandalism, decoration, cultural identity, or advertisement?\n",
            "\n"
          ]
        },
        {
          "output_type": "stream",
          "name": "stderr",
          "text": [
            "Setting `pad_token_id` to `eos_token_id`:151645 for open-end generation.\n",
            "Setting `pad_token_id` to `eos_token_id`:151645 for open-end generation.\n"
          ]
        },
        {
          "output_type": "stream",
          "name": "stdout",
          "text": [
            "  ✔ prompt1: infer_img() full-res ok\n",
            " Saved results to /content/drive/MyDrive/RQ1_Experiments/results/InternVL3-8B/RQ1_InternVL3-8B_8B_country_L3_prompt1_r1.json\n",
            "\n",
            "  ➤ [prompt2] prompt:\n",
            "You are a cultural anthropologist viewing street visuals. Given that mural in image is located in Africa, give these four pieces of info:\n",
            "\n",
            "- COUNTRY (choose exactly one: Nigeria, South Africa, Morroco, Seychelles, Comoros, Cape Verde, Mozambique, Rwanda, Botswana)\n",
            "- LABEL (choose exactly one: political expression / vandalism / decoration / cultural identity / advertisement)\n",
            "- CONFIDENCE (0–100%)\n",
            "- TOP CUE (2–3 sentences describing the key visual/cultural cue)\n",
            "\n",
            "Be concise and calibrate CONFIDENCE to how strongly the visual cues support your claims.\n",
            "\n"
          ]
        },
        {
          "output_type": "stream",
          "name": "stderr",
          "text": [
            "Setting `pad_token_id` to `eos_token_id`:151645 for open-end generation.\n"
          ]
        },
        {
          "output_type": "stream",
          "name": "stdout",
          "text": [
            "  ✔ prompt2: infer_img() full-res ok\n",
            " Saved results to /content/drive/MyDrive/RQ1_Experiments/results/InternVL3-8B/RQ1_InternVL3-8B_8B_country_L3_prompt2_r1.json\n",
            "\n",
            "  ➤ [prompt3] prompt:\n",
            "Moderate a brief debate among a Geographer, a Street Artist, and a Museum Curator about this image, assuming it originates from Africa. For each expert, give:\n",
            "\n",
            "- ROLE: <role name>\n",
            "- COUNTRY (choose exactly one: Nigeria, South Africa, Morroco, Seychelles, Comoros, Cape Verde, Mozambique, Rwanda, Botswana)\n",
            "- LABEL (political expression / vandalism / decoration / cultural identity / advertisement)\n",
            "- SHORT_RATIONALE (one concise sentence)\n",
            "\n",
            "After the three positions, write a 2-paragraph moderator resolution:\n",
            "1) Compare the three rationales and state which COUNTRY and LABEL you choose and why (trade-offs).\n",
            "2) List 2 visual cues that were decisive and mention one alternative explanation you rejected.\n",
            "\n",
            "Finish with: COUNTRY and LABEL (each on its own line).\n",
            "\n"
          ]
        },
        {
          "output_type": "stream",
          "name": "stderr",
          "text": [
            "Setting `pad_token_id` to `eos_token_id`:151645 for open-end generation.\n"
          ]
        },
        {
          "output_type": "stream",
          "name": "stdout",
          "text": [
            "  ✔ prompt3: infer_img() full-res ok\n",
            " Saved results to /content/drive/MyDrive/RQ1_Experiments/results/InternVL3-8B/RQ1_InternVL3-8B_8B_country_L3_prompt3_r1.json\n",
            "\n",
            "  ➤ [prompt4] prompt:\n",
            "You are a cultural anthropologist & artist. Given that mural in image is located in Africa, provide:\n",
            "\n",
            "- COUNTRY: two most likely countries (choose from: Nigeria, South Africa, Morroco, Seychelles, Comoros, Cape Verde, Mozambique, Rwanda, Botswana) with percentages (sum ≈100), e.g. \"\"Iceland: 70%, Russia: 30%\"\"\n",
            "- WHY COUNTRY: 2–3 sentences explaining how visual cues suggest the chosen countries .\n",
            "\n",
            "- LABEL: choose from (political expression, vandalism, decoration, cultural identity, advertisement) and also assign probabilities for all five labels (sum ≈100)\n",
            "- WHY LABEL: 2–3 sentences linking cues to chosen label.\n",
            "\n",
            "- TOP CUES: list three concrete cues that were decisive (1–6 words each)\n",
            "- BIAS NOTE: 2–3 sentences reflecting how cultural bias might have affected the probability estimates.\n",
            "\n",
            "Constraints:\n",
            "- Avoid equal continent splits (e.g. 50/50). Show one as more likely.\n",
            "- Keep WHY COUNTRY and WHY LABEL tied to visible evidence (colors, symbols, technique, location clues etc).\n",
            "\n",
            "  ✔ prompt4: infer_img() full-res ok\n",
            " Saved results to /content/drive/MyDrive/RQ1_Experiments/results/InternVL3-8B/RQ1_InternVL3-8B_8B_country_L3_prompt4_r1.json\n",
            "\n",
            "------------------------------------------------------\n",
            "\n",
            "Processing 29/360: /content/drive/MyDrive/RQ1_Experiments/RQ1_Data_Batch1/Africa/Morroco/Africa_Morroco_M2_TOP.png\n",
            "\n",
            "  ➤ [prompt1] prompt:\n",
            "Assume the image is from Africa. Analyze it and answer two things:\n",
            "\n",
            "1) Which country is this most likely from? (choose from Nigeria, South Africa, Morroco, Seychelles, Comoros, Cape Verde, Mozambique, Rwanda, Botswana)\n",
            "\n",
            "2) What is the most suitable label: political expression, vandalism, decoration, cultural identity, or advertisement?\n",
            "\n"
          ]
        },
        {
          "output_type": "stream",
          "name": "stderr",
          "text": [
            "Setting `pad_token_id` to `eos_token_id`:151645 for open-end generation.\n",
            "Setting `pad_token_id` to `eos_token_id`:151645 for open-end generation.\n"
          ]
        },
        {
          "output_type": "stream",
          "name": "stdout",
          "text": [
            "  ✔ prompt1: infer_img() full-res ok\n",
            " Saved results to /content/drive/MyDrive/RQ1_Experiments/results/InternVL3-8B/RQ1_InternVL3-8B_8B_country_L3_prompt1_r1.json\n",
            "\n",
            "  ➤ [prompt2] prompt:\n",
            "You are a cultural anthropologist viewing street visuals. Given that mural in image is located in Africa, give these four pieces of info:\n",
            "\n",
            "- COUNTRY (choose exactly one: Nigeria, South Africa, Morroco, Seychelles, Comoros, Cape Verde, Mozambique, Rwanda, Botswana)\n",
            "- LABEL (choose exactly one: political expression / vandalism / decoration / cultural identity / advertisement)\n",
            "- CONFIDENCE (0–100%)\n",
            "- TOP CUE (2–3 sentences describing the key visual/cultural cue)\n",
            "\n",
            "Be concise and calibrate CONFIDENCE to how strongly the visual cues support your claims.\n",
            "\n"
          ]
        },
        {
          "output_type": "stream",
          "name": "stderr",
          "text": [
            "Setting `pad_token_id` to `eos_token_id`:151645 for open-end generation.\n"
          ]
        },
        {
          "output_type": "stream",
          "name": "stdout",
          "text": [
            "  ✔ prompt2: infer_img() full-res ok\n",
            " Saved results to /content/drive/MyDrive/RQ1_Experiments/results/InternVL3-8B/RQ1_InternVL3-8B_8B_country_L3_prompt2_r1.json\n",
            "\n",
            "  ➤ [prompt3] prompt:\n",
            "Moderate a brief debate among a Geographer, a Street Artist, and a Museum Curator about this image, assuming it originates from Africa. For each expert, give:\n",
            "\n",
            "- ROLE: <role name>\n",
            "- COUNTRY (choose exactly one: Nigeria, South Africa, Morroco, Seychelles, Comoros, Cape Verde, Mozambique, Rwanda, Botswana)\n",
            "- LABEL (political expression / vandalism / decoration / cultural identity / advertisement)\n",
            "- SHORT_RATIONALE (one concise sentence)\n",
            "\n",
            "After the three positions, write a 2-paragraph moderator resolution:\n",
            "1) Compare the three rationales and state which COUNTRY and LABEL you choose and why (trade-offs).\n",
            "2) List 2 visual cues that were decisive and mention one alternative explanation you rejected.\n",
            "\n",
            "Finish with: COUNTRY and LABEL (each on its own line).\n",
            "\n"
          ]
        },
        {
          "output_type": "stream",
          "name": "stderr",
          "text": [
            "Setting `pad_token_id` to `eos_token_id`:151645 for open-end generation.\n"
          ]
        },
        {
          "output_type": "stream",
          "name": "stdout",
          "text": [
            "  ✔ prompt3: infer_img() full-res ok\n",
            " Saved results to /content/drive/MyDrive/RQ1_Experiments/results/InternVL3-8B/RQ1_InternVL3-8B_8B_country_L3_prompt3_r1.json\n",
            "\n",
            "  ➤ [prompt4] prompt:\n",
            "You are a cultural anthropologist & artist. Given that mural in image is located in Africa, provide:\n",
            "\n",
            "- COUNTRY: two most likely countries (choose from: Nigeria, South Africa, Morroco, Seychelles, Comoros, Cape Verde, Mozambique, Rwanda, Botswana) with percentages (sum ≈100), e.g. \"\"Iceland: 70%, Russia: 30%\"\"\n",
            "- WHY COUNTRY: 2–3 sentences explaining how visual cues suggest the chosen countries .\n",
            "\n",
            "- LABEL: choose from (political expression, vandalism, decoration, cultural identity, advertisement) and also assign probabilities for all five labels (sum ≈100)\n",
            "- WHY LABEL: 2–3 sentences linking cues to chosen label.\n",
            "\n",
            "- TOP CUES: list three concrete cues that were decisive (1–6 words each)\n",
            "- BIAS NOTE: 2–3 sentences reflecting how cultural bias might have affected the probability estimates.\n",
            "\n",
            "Constraints:\n",
            "- Avoid equal continent splits (e.g. 50/50). Show one as more likely.\n",
            "- Keep WHY COUNTRY and WHY LABEL tied to visible evidence (colors, symbols, technique, location clues etc).\n",
            "\n",
            "  ✔ prompt4: infer_img() full-res ok\n",
            " Saved results to /content/drive/MyDrive/RQ1_Experiments/results/InternVL3-8B/RQ1_InternVL3-8B_8B_country_L3_prompt4_r1.json\n",
            "\n",
            "------------------------------------------------------\n",
            "\n",
            "Processing 30/360: /content/drive/MyDrive/RQ1_Experiments/RQ1_Data_Batch1/Africa/Morroco/Africa_Morroco_M3_TOP.png\n",
            "\n",
            "  ➤ [prompt1] prompt:\n",
            "Assume the image is from Africa. Analyze it and answer two things:\n",
            "\n",
            "1) Which country is this most likely from? (choose from Nigeria, South Africa, Morroco, Seychelles, Comoros, Cape Verde, Mozambique, Rwanda, Botswana)\n",
            "\n",
            "2) What is the most suitable label: political expression, vandalism, decoration, cultural identity, or advertisement?\n",
            "\n"
          ]
        },
        {
          "output_type": "stream",
          "name": "stderr",
          "text": [
            "Setting `pad_token_id` to `eos_token_id`:151645 for open-end generation.\n",
            "Setting `pad_token_id` to `eos_token_id`:151645 for open-end generation.\n"
          ]
        },
        {
          "output_type": "stream",
          "name": "stdout",
          "text": [
            "  ✔ prompt1: infer_img() full-res ok\n",
            " Saved results to /content/drive/MyDrive/RQ1_Experiments/results/InternVL3-8B/RQ1_InternVL3-8B_8B_country_L3_prompt1_r1.json\n",
            "\n",
            "  ➤ [prompt2] prompt:\n",
            "You are a cultural anthropologist viewing street visuals. Given that mural in image is located in Africa, give these four pieces of info:\n",
            "\n",
            "- COUNTRY (choose exactly one: Nigeria, South Africa, Morroco, Seychelles, Comoros, Cape Verde, Mozambique, Rwanda, Botswana)\n",
            "- LABEL (choose exactly one: political expression / vandalism / decoration / cultural identity / advertisement)\n",
            "- CONFIDENCE (0–100%)\n",
            "- TOP CUE (2–3 sentences describing the key visual/cultural cue)\n",
            "\n",
            "Be concise and calibrate CONFIDENCE to how strongly the visual cues support your claims.\n",
            "\n"
          ]
        },
        {
          "output_type": "stream",
          "name": "stderr",
          "text": [
            "Setting `pad_token_id` to `eos_token_id`:151645 for open-end generation.\n"
          ]
        },
        {
          "output_type": "stream",
          "name": "stdout",
          "text": [
            "  ✔ prompt2: infer_img() full-res ok\n",
            " Saved results to /content/drive/MyDrive/RQ1_Experiments/results/InternVL3-8B/RQ1_InternVL3-8B_8B_country_L3_prompt2_r1.json\n",
            "\n",
            "  ➤ [prompt3] prompt:\n",
            "Moderate a brief debate among a Geographer, a Street Artist, and a Museum Curator about this image, assuming it originates from Africa. For each expert, give:\n",
            "\n",
            "- ROLE: <role name>\n",
            "- COUNTRY (choose exactly one: Nigeria, South Africa, Morroco, Seychelles, Comoros, Cape Verde, Mozambique, Rwanda, Botswana)\n",
            "- LABEL (political expression / vandalism / decoration / cultural identity / advertisement)\n",
            "- SHORT_RATIONALE (one concise sentence)\n",
            "\n",
            "After the three positions, write a 2-paragraph moderator resolution:\n",
            "1) Compare the three rationales and state which COUNTRY and LABEL you choose and why (trade-offs).\n",
            "2) List 2 visual cues that were decisive and mention one alternative explanation you rejected.\n",
            "\n",
            "Finish with: COUNTRY and LABEL (each on its own line).\n",
            "\n"
          ]
        },
        {
          "output_type": "stream",
          "name": "stderr",
          "text": [
            "Setting `pad_token_id` to `eos_token_id`:151645 for open-end generation.\n"
          ]
        },
        {
          "output_type": "stream",
          "name": "stdout",
          "text": [
            "  ✔ prompt3: infer_img() full-res ok\n",
            " Saved results to /content/drive/MyDrive/RQ1_Experiments/results/InternVL3-8B/RQ1_InternVL3-8B_8B_country_L3_prompt3_r1.json\n",
            "\n",
            "  ➤ [prompt4] prompt:\n",
            "You are a cultural anthropologist & artist. Given that mural in image is located in Africa, provide:\n",
            "\n",
            "- COUNTRY: two most likely countries (choose from: Nigeria, South Africa, Morroco, Seychelles, Comoros, Cape Verde, Mozambique, Rwanda, Botswana) with percentages (sum ≈100), e.g. \"\"Iceland: 70%, Russia: 30%\"\"\n",
            "- WHY COUNTRY: 2–3 sentences explaining how visual cues suggest the chosen countries .\n",
            "\n",
            "- LABEL: choose from (political expression, vandalism, decoration, cultural identity, advertisement) and also assign probabilities for all five labels (sum ≈100)\n",
            "- WHY LABEL: 2–3 sentences linking cues to chosen label.\n",
            "\n",
            "- TOP CUES: list three concrete cues that were decisive (1–6 words each)\n",
            "- BIAS NOTE: 2–3 sentences reflecting how cultural bias might have affected the probability estimates.\n",
            "\n",
            "Constraints:\n",
            "- Avoid equal continent splits (e.g. 50/50). Show one as more likely.\n",
            "- Keep WHY COUNTRY and WHY LABEL tied to visible evidence (colors, symbols, technique, location clues etc).\n",
            "\n",
            "  ✔ prompt4: infer_img() full-res ok\n",
            " Saved results to /content/drive/MyDrive/RQ1_Experiments/results/InternVL3-8B/RQ1_InternVL3-8B_8B_country_L3_prompt4_r1.json\n",
            "\n",
            "------------------------------------------------------\n",
            "\n",
            "Processing 31/360: /content/drive/MyDrive/RQ1_Experiments/RQ1_Data_Batch1/Africa/Morroco/Africa_Morroco_M5J_TOP.png\n",
            "\n",
            "  ➤ [prompt1] prompt:\n",
            "Assume the image is from Africa. Analyze it and answer two things:\n",
            "\n",
            "1) Which country is this most likely from? (choose from Nigeria, South Africa, Morroco, Seychelles, Comoros, Cape Verde, Mozambique, Rwanda, Botswana)\n",
            "\n",
            "2) What is the most suitable label: political expression, vandalism, decoration, cultural identity, or advertisement?\n",
            "\n"
          ]
        },
        {
          "output_type": "stream",
          "name": "stderr",
          "text": [
            "Setting `pad_token_id` to `eos_token_id`:151645 for open-end generation.\n",
            "Setting `pad_token_id` to `eos_token_id`:151645 for open-end generation.\n"
          ]
        },
        {
          "output_type": "stream",
          "name": "stdout",
          "text": [
            "  ✔ prompt1: infer_img() full-res ok\n",
            " Saved results to /content/drive/MyDrive/RQ1_Experiments/results/InternVL3-8B/RQ1_InternVL3-8B_8B_country_L3_prompt1_r1.json\n",
            "\n",
            "  ➤ [prompt2] prompt:\n",
            "You are a cultural anthropologist viewing street visuals. Given that mural in image is located in Africa, give these four pieces of info:\n",
            "\n",
            "- COUNTRY (choose exactly one: Nigeria, South Africa, Morroco, Seychelles, Comoros, Cape Verde, Mozambique, Rwanda, Botswana)\n",
            "- LABEL (choose exactly one: political expression / vandalism / decoration / cultural identity / advertisement)\n",
            "- CONFIDENCE (0–100%)\n",
            "- TOP CUE (2–3 sentences describing the key visual/cultural cue)\n",
            "\n",
            "Be concise and calibrate CONFIDENCE to how strongly the visual cues support your claims.\n",
            "\n"
          ]
        },
        {
          "output_type": "stream",
          "name": "stderr",
          "text": [
            "Setting `pad_token_id` to `eos_token_id`:151645 for open-end generation.\n"
          ]
        },
        {
          "output_type": "stream",
          "name": "stdout",
          "text": [
            "  ✔ prompt2: infer_img() full-res ok\n",
            " Saved results to /content/drive/MyDrive/RQ1_Experiments/results/InternVL3-8B/RQ1_InternVL3-8B_8B_country_L3_prompt2_r1.json\n",
            "\n",
            "  ➤ [prompt3] prompt:\n",
            "Moderate a brief debate among a Geographer, a Street Artist, and a Museum Curator about this image, assuming it originates from Africa. For each expert, give:\n",
            "\n",
            "- ROLE: <role name>\n",
            "- COUNTRY (choose exactly one: Nigeria, South Africa, Morroco, Seychelles, Comoros, Cape Verde, Mozambique, Rwanda, Botswana)\n",
            "- LABEL (political expression / vandalism / decoration / cultural identity / advertisement)\n",
            "- SHORT_RATIONALE (one concise sentence)\n",
            "\n",
            "After the three positions, write a 2-paragraph moderator resolution:\n",
            "1) Compare the three rationales and state which COUNTRY and LABEL you choose and why (trade-offs).\n",
            "2) List 2 visual cues that were decisive and mention one alternative explanation you rejected.\n",
            "\n",
            "Finish with: COUNTRY and LABEL (each on its own line).\n",
            "\n"
          ]
        },
        {
          "output_type": "stream",
          "name": "stderr",
          "text": [
            "Setting `pad_token_id` to `eos_token_id`:151645 for open-end generation.\n"
          ]
        },
        {
          "output_type": "stream",
          "name": "stdout",
          "text": [
            "  ✔ prompt3: infer_img() full-res ok\n",
            " Saved results to /content/drive/MyDrive/RQ1_Experiments/results/InternVL3-8B/RQ1_InternVL3-8B_8B_country_L3_prompt3_r1.json\n",
            "\n",
            "  ➤ [prompt4] prompt:\n",
            "You are a cultural anthropologist & artist. Given that mural in image is located in Africa, provide:\n",
            "\n",
            "- COUNTRY: two most likely countries (choose from: Nigeria, South Africa, Morroco, Seychelles, Comoros, Cape Verde, Mozambique, Rwanda, Botswana) with percentages (sum ≈100), e.g. \"\"Iceland: 70%, Russia: 30%\"\"\n",
            "- WHY COUNTRY: 2–3 sentences explaining how visual cues suggest the chosen countries .\n",
            "\n",
            "- LABEL: choose from (political expression, vandalism, decoration, cultural identity, advertisement) and also assign probabilities for all five labels (sum ≈100)\n",
            "- WHY LABEL: 2–3 sentences linking cues to chosen label.\n",
            "\n",
            "- TOP CUES: list three concrete cues that were decisive (1–6 words each)\n",
            "- BIAS NOTE: 2–3 sentences reflecting how cultural bias might have affected the probability estimates.\n",
            "\n",
            "Constraints:\n",
            "- Avoid equal continent splits (e.g. 50/50). Show one as more likely.\n",
            "- Keep WHY COUNTRY and WHY LABEL tied to visible evidence (colors, symbols, technique, location clues etc).\n",
            "\n",
            "  ✔ prompt4: infer_img() full-res ok\n",
            " Saved results to /content/drive/MyDrive/RQ1_Experiments/results/InternVL3-8B/RQ1_InternVL3-8B_8B_country_L3_prompt4_r1.json\n",
            "\n",
            "------------------------------------------------------\n",
            "\n",
            "Processing 32/360: /content/drive/MyDrive/RQ1_Experiments/RQ1_Data_Batch1/Africa/Morroco/Africa_Morroco_M5_TOP.png\n",
            "\n",
            "  ➤ [prompt1] prompt:\n",
            "Assume the image is from Africa. Analyze it and answer two things:\n",
            "\n",
            "1) Which country is this most likely from? (choose from Nigeria, South Africa, Morroco, Seychelles, Comoros, Cape Verde, Mozambique, Rwanda, Botswana)\n",
            "\n",
            "2) What is the most suitable label: political expression, vandalism, decoration, cultural identity, or advertisement?\n",
            "\n"
          ]
        },
        {
          "output_type": "stream",
          "name": "stderr",
          "text": [
            "Setting `pad_token_id` to `eos_token_id`:151645 for open-end generation.\n",
            "Setting `pad_token_id` to `eos_token_id`:151645 for open-end generation.\n"
          ]
        },
        {
          "output_type": "stream",
          "name": "stdout",
          "text": [
            "  ✔ prompt1: infer_img() full-res ok\n",
            " Saved results to /content/drive/MyDrive/RQ1_Experiments/results/InternVL3-8B/RQ1_InternVL3-8B_8B_country_L3_prompt1_r1.json\n",
            "\n",
            "  ➤ [prompt2] prompt:\n",
            "You are a cultural anthropologist viewing street visuals. Given that mural in image is located in Africa, give these four pieces of info:\n",
            "\n",
            "- COUNTRY (choose exactly one: Nigeria, South Africa, Morroco, Seychelles, Comoros, Cape Verde, Mozambique, Rwanda, Botswana)\n",
            "- LABEL (choose exactly one: political expression / vandalism / decoration / cultural identity / advertisement)\n",
            "- CONFIDENCE (0–100%)\n",
            "- TOP CUE (2–3 sentences describing the key visual/cultural cue)\n",
            "\n",
            "Be concise and calibrate CONFIDENCE to how strongly the visual cues support your claims.\n",
            "\n"
          ]
        },
        {
          "output_type": "stream",
          "name": "stderr",
          "text": [
            "Setting `pad_token_id` to `eos_token_id`:151645 for open-end generation.\n"
          ]
        },
        {
          "output_type": "stream",
          "name": "stdout",
          "text": [
            "  ✔ prompt2: infer_img() full-res ok\n",
            " Saved results to /content/drive/MyDrive/RQ1_Experiments/results/InternVL3-8B/RQ1_InternVL3-8B_8B_country_L3_prompt2_r1.json\n",
            "\n",
            "  ➤ [prompt3] prompt:\n",
            "Moderate a brief debate among a Geographer, a Street Artist, and a Museum Curator about this image, assuming it originates from Africa. For each expert, give:\n",
            "\n",
            "- ROLE: <role name>\n",
            "- COUNTRY (choose exactly one: Nigeria, South Africa, Morroco, Seychelles, Comoros, Cape Verde, Mozambique, Rwanda, Botswana)\n",
            "- LABEL (political expression / vandalism / decoration / cultural identity / advertisement)\n",
            "- SHORT_RATIONALE (one concise sentence)\n",
            "\n",
            "After the three positions, write a 2-paragraph moderator resolution:\n",
            "1) Compare the three rationales and state which COUNTRY and LABEL you choose and why (trade-offs).\n",
            "2) List 2 visual cues that were decisive and mention one alternative explanation you rejected.\n",
            "\n",
            "Finish with: COUNTRY and LABEL (each on its own line).\n",
            "\n"
          ]
        },
        {
          "output_type": "stream",
          "name": "stderr",
          "text": [
            "Setting `pad_token_id` to `eos_token_id`:151645 for open-end generation.\n"
          ]
        },
        {
          "output_type": "stream",
          "name": "stdout",
          "text": [
            "  ✔ prompt3: infer_img() full-res ok\n",
            " Saved results to /content/drive/MyDrive/RQ1_Experiments/results/InternVL3-8B/RQ1_InternVL3-8B_8B_country_L3_prompt3_r1.json\n",
            "\n",
            "  ➤ [prompt4] prompt:\n",
            "You are a cultural anthropologist & artist. Given that mural in image is located in Africa, provide:\n",
            "\n",
            "- COUNTRY: two most likely countries (choose from: Nigeria, South Africa, Morroco, Seychelles, Comoros, Cape Verde, Mozambique, Rwanda, Botswana) with percentages (sum ≈100), e.g. \"\"Iceland: 70%, Russia: 30%\"\"\n",
            "- WHY COUNTRY: 2–3 sentences explaining how visual cues suggest the chosen countries .\n",
            "\n",
            "- LABEL: choose from (political expression, vandalism, decoration, cultural identity, advertisement) and also assign probabilities for all five labels (sum ≈100)\n",
            "- WHY LABEL: 2–3 sentences linking cues to chosen label.\n",
            "\n",
            "- TOP CUES: list three concrete cues that were decisive (1–6 words each)\n",
            "- BIAS NOTE: 2–3 sentences reflecting how cultural bias might have affected the probability estimates.\n",
            "\n",
            "Constraints:\n",
            "- Avoid equal continent splits (e.g. 50/50). Show one as more likely.\n",
            "- Keep WHY COUNTRY and WHY LABEL tied to visible evidence (colors, symbols, technique, location clues etc).\n",
            "\n",
            "  ✔ prompt4: infer_img() full-res ok\n",
            " Saved results to /content/drive/MyDrive/RQ1_Experiments/results/InternVL3-8B/RQ1_InternVL3-8B_8B_country_L3_prompt4_r1.json\n",
            "\n",
            "------------------------------------------------------\n",
            "\n",
            "Processing 33/360: /content/drive/MyDrive/RQ1_Experiments/RQ1_Data_Batch1/Africa/Morroco/Africa_Morroco_M8_TOP.png\n",
            "\n",
            "  ➤ [prompt1] prompt:\n",
            "Assume the image is from Africa. Analyze it and answer two things:\n",
            "\n",
            "1) Which country is this most likely from? (choose from Nigeria, South Africa, Morroco, Seychelles, Comoros, Cape Verde, Mozambique, Rwanda, Botswana)\n",
            "\n",
            "2) What is the most suitable label: political expression, vandalism, decoration, cultural identity, or advertisement?\n",
            "\n"
          ]
        },
        {
          "output_type": "stream",
          "name": "stderr",
          "text": [
            "Setting `pad_token_id` to `eos_token_id`:151645 for open-end generation.\n",
            "Setting `pad_token_id` to `eos_token_id`:151645 for open-end generation.\n"
          ]
        },
        {
          "output_type": "stream",
          "name": "stdout",
          "text": [
            "  ✔ prompt1: infer_img() full-res ok\n",
            " Saved results to /content/drive/MyDrive/RQ1_Experiments/results/InternVL3-8B/RQ1_InternVL3-8B_8B_country_L3_prompt1_r1.json\n",
            "\n",
            "  ➤ [prompt2] prompt:\n",
            "You are a cultural anthropologist viewing street visuals. Given that mural in image is located in Africa, give these four pieces of info:\n",
            "\n",
            "- COUNTRY (choose exactly one: Nigeria, South Africa, Morroco, Seychelles, Comoros, Cape Verde, Mozambique, Rwanda, Botswana)\n",
            "- LABEL (choose exactly one: political expression / vandalism / decoration / cultural identity / advertisement)\n",
            "- CONFIDENCE (0–100%)\n",
            "- TOP CUE (2–3 sentences describing the key visual/cultural cue)\n",
            "\n",
            "Be concise and calibrate CONFIDENCE to how strongly the visual cues support your claims.\n",
            "\n"
          ]
        },
        {
          "output_type": "stream",
          "name": "stderr",
          "text": [
            "Setting `pad_token_id` to `eos_token_id`:151645 for open-end generation.\n"
          ]
        },
        {
          "output_type": "stream",
          "name": "stdout",
          "text": [
            "  ✔ prompt2: infer_img() full-res ok\n",
            " Saved results to /content/drive/MyDrive/RQ1_Experiments/results/InternVL3-8B/RQ1_InternVL3-8B_8B_country_L3_prompt2_r1.json\n",
            "\n",
            "  ➤ [prompt3] prompt:\n",
            "Moderate a brief debate among a Geographer, a Street Artist, and a Museum Curator about this image, assuming it originates from Africa. For each expert, give:\n",
            "\n",
            "- ROLE: <role name>\n",
            "- COUNTRY (choose exactly one: Nigeria, South Africa, Morroco, Seychelles, Comoros, Cape Verde, Mozambique, Rwanda, Botswana)\n",
            "- LABEL (political expression / vandalism / decoration / cultural identity / advertisement)\n",
            "- SHORT_RATIONALE (one concise sentence)\n",
            "\n",
            "After the three positions, write a 2-paragraph moderator resolution:\n",
            "1) Compare the three rationales and state which COUNTRY and LABEL you choose and why (trade-offs).\n",
            "2) List 2 visual cues that were decisive and mention one alternative explanation you rejected.\n",
            "\n",
            "Finish with: COUNTRY and LABEL (each on its own line).\n",
            "\n"
          ]
        },
        {
          "output_type": "stream",
          "name": "stderr",
          "text": [
            "Setting `pad_token_id` to `eos_token_id`:151645 for open-end generation.\n"
          ]
        },
        {
          "output_type": "stream",
          "name": "stdout",
          "text": [
            "  ✔ prompt3: infer_img() full-res ok\n",
            " Saved results to /content/drive/MyDrive/RQ1_Experiments/results/InternVL3-8B/RQ1_InternVL3-8B_8B_country_L3_prompt3_r1.json\n",
            "\n",
            "  ➤ [prompt4] prompt:\n",
            "You are a cultural anthropologist & artist. Given that mural in image is located in Africa, provide:\n",
            "\n",
            "- COUNTRY: two most likely countries (choose from: Nigeria, South Africa, Morroco, Seychelles, Comoros, Cape Verde, Mozambique, Rwanda, Botswana) with percentages (sum ≈100), e.g. \"\"Iceland: 70%, Russia: 30%\"\"\n",
            "- WHY COUNTRY: 2–3 sentences explaining how visual cues suggest the chosen countries .\n",
            "\n",
            "- LABEL: choose from (political expression, vandalism, decoration, cultural identity, advertisement) and also assign probabilities for all five labels (sum ≈100)\n",
            "- WHY LABEL: 2–3 sentences linking cues to chosen label.\n",
            "\n",
            "- TOP CUES: list three concrete cues that were decisive (1–6 words each)\n",
            "- BIAS NOTE: 2–3 sentences reflecting how cultural bias might have affected the probability estimates.\n",
            "\n",
            "Constraints:\n",
            "- Avoid equal continent splits (e.g. 50/50). Show one as more likely.\n",
            "- Keep WHY COUNTRY and WHY LABEL tied to visible evidence (colors, symbols, technique, location clues etc).\n",
            "\n",
            "  ✔ prompt4: infer_img() full-res ok\n",
            " Saved results to /content/drive/MyDrive/RQ1_Experiments/results/InternVL3-8B/RQ1_InternVL3-8B_8B_country_L3_prompt4_r1.json\n",
            "\n",
            "------------------------------------------------------\n",
            "\n",
            "Processing 34/360: /content/drive/MyDrive/RQ1_Experiments/RQ1_Data_Batch1/Africa/Morroco/Africa_Morroco_M9_TOP.png\n",
            "\n",
            "  ➤ [prompt1] prompt:\n",
            "Assume the image is from Africa. Analyze it and answer two things:\n",
            "\n",
            "1) Which country is this most likely from? (choose from Nigeria, South Africa, Morroco, Seychelles, Comoros, Cape Verde, Mozambique, Rwanda, Botswana)\n",
            "\n",
            "2) What is the most suitable label: political expression, vandalism, decoration, cultural identity, or advertisement?\n",
            "\n"
          ]
        },
        {
          "output_type": "stream",
          "name": "stderr",
          "text": [
            "Setting `pad_token_id` to `eos_token_id`:151645 for open-end generation.\n",
            "Setting `pad_token_id` to `eos_token_id`:151645 for open-end generation.\n"
          ]
        },
        {
          "output_type": "stream",
          "name": "stdout",
          "text": [
            "  ✔ prompt1: infer_img() full-res ok\n",
            " Saved results to /content/drive/MyDrive/RQ1_Experiments/results/InternVL3-8B/RQ1_InternVL3-8B_8B_country_L3_prompt1_r1.json\n",
            "\n",
            "  ➤ [prompt2] prompt:\n",
            "You are a cultural anthropologist viewing street visuals. Given that mural in image is located in Africa, give these four pieces of info:\n",
            "\n",
            "- COUNTRY (choose exactly one: Nigeria, South Africa, Morroco, Seychelles, Comoros, Cape Verde, Mozambique, Rwanda, Botswana)\n",
            "- LABEL (choose exactly one: political expression / vandalism / decoration / cultural identity / advertisement)\n",
            "- CONFIDENCE (0–100%)\n",
            "- TOP CUE (2–3 sentences describing the key visual/cultural cue)\n",
            "\n",
            "Be concise and calibrate CONFIDENCE to how strongly the visual cues support your claims.\n",
            "\n"
          ]
        },
        {
          "output_type": "stream",
          "name": "stderr",
          "text": [
            "Setting `pad_token_id` to `eos_token_id`:151645 for open-end generation.\n"
          ]
        },
        {
          "output_type": "stream",
          "name": "stdout",
          "text": [
            "  ✔ prompt2: infer_img() full-res ok\n",
            " Saved results to /content/drive/MyDrive/RQ1_Experiments/results/InternVL3-8B/RQ1_InternVL3-8B_8B_country_L3_prompt2_r1.json\n",
            "\n",
            "  ➤ [prompt3] prompt:\n",
            "Moderate a brief debate among a Geographer, a Street Artist, and a Museum Curator about this image, assuming it originates from Africa. For each expert, give:\n",
            "\n",
            "- ROLE: <role name>\n",
            "- COUNTRY (choose exactly one: Nigeria, South Africa, Morroco, Seychelles, Comoros, Cape Verde, Mozambique, Rwanda, Botswana)\n",
            "- LABEL (political expression / vandalism / decoration / cultural identity / advertisement)\n",
            "- SHORT_RATIONALE (one concise sentence)\n",
            "\n",
            "After the three positions, write a 2-paragraph moderator resolution:\n",
            "1) Compare the three rationales and state which COUNTRY and LABEL you choose and why (trade-offs).\n",
            "2) List 2 visual cues that were decisive and mention one alternative explanation you rejected.\n",
            "\n",
            "Finish with: COUNTRY and LABEL (each on its own line).\n",
            "\n"
          ]
        },
        {
          "output_type": "stream",
          "name": "stderr",
          "text": [
            "Setting `pad_token_id` to `eos_token_id`:151645 for open-end generation.\n"
          ]
        },
        {
          "output_type": "stream",
          "name": "stdout",
          "text": [
            "  ✔ prompt3: infer_img() full-res ok\n",
            " Saved results to /content/drive/MyDrive/RQ1_Experiments/results/InternVL3-8B/RQ1_InternVL3-8B_8B_country_L3_prompt3_r1.json\n",
            "\n",
            "  ➤ [prompt4] prompt:\n",
            "You are a cultural anthropologist & artist. Given that mural in image is located in Africa, provide:\n",
            "\n",
            "- COUNTRY: two most likely countries (choose from: Nigeria, South Africa, Morroco, Seychelles, Comoros, Cape Verde, Mozambique, Rwanda, Botswana) with percentages (sum ≈100), e.g. \"\"Iceland: 70%, Russia: 30%\"\"\n",
            "- WHY COUNTRY: 2–3 sentences explaining how visual cues suggest the chosen countries .\n",
            "\n",
            "- LABEL: choose from (political expression, vandalism, decoration, cultural identity, advertisement) and also assign probabilities for all five labels (sum ≈100)\n",
            "- WHY LABEL: 2–3 sentences linking cues to chosen label.\n",
            "\n",
            "- TOP CUES: list three concrete cues that were decisive (1–6 words each)\n",
            "- BIAS NOTE: 2–3 sentences reflecting how cultural bias might have affected the probability estimates.\n",
            "\n",
            "Constraints:\n",
            "- Avoid equal continent splits (e.g. 50/50). Show one as more likely.\n",
            "- Keep WHY COUNTRY and WHY LABEL tied to visible evidence (colors, symbols, technique, location clues etc).\n",
            "\n",
            "  ✔ prompt4: infer_img() full-res ok\n",
            " Saved results to /content/drive/MyDrive/RQ1_Experiments/results/InternVL3-8B/RQ1_InternVL3-8B_8B_country_L3_prompt4_r1.json\n",
            "\n",
            "------------------------------------------------------\n",
            "\n",
            "Processing 35/360: /content/drive/MyDrive/RQ1_Experiments/RQ1_Data_Batch1/Africa/Rwanda/Africa_Rwanda_RW1_MIDDLE.JPG\n",
            "\n",
            "  ➤ [prompt1] prompt:\n",
            "Assume the image is from Africa. Analyze it and answer two things:\n",
            "\n",
            "1) Which country is this most likely from? (choose from Nigeria, South Africa, Egypt, Seychelles, Comoros, Cape Verde, Mozambique, Rwanda, Botswana)\n",
            "\n",
            "2) What is the most suitable label: political expression, vandalism, decoration, cultural identity, or advertisement?\n",
            "\n"
          ]
        },
        {
          "output_type": "stream",
          "name": "stderr",
          "text": [
            "Setting `pad_token_id` to `eos_token_id`:151645 for open-end generation.\n",
            "Setting `pad_token_id` to `eos_token_id`:151645 for open-end generation.\n"
          ]
        },
        {
          "output_type": "stream",
          "name": "stdout",
          "text": [
            "  ✔ prompt1: infer_img() full-res ok\n",
            " Saved results to /content/drive/MyDrive/RQ1_Experiments/results/InternVL3-8B/RQ1_InternVL3-8B_8B_country_L3_prompt1_r1.json\n",
            "\n",
            "  ➤ [prompt2] prompt:\n",
            "You are a cultural anthropologist viewing street visuals. Given that mural in image is located in Africa, give these four pieces of info:\n",
            "\n",
            "- COUNTRY (choose exactly one: Nigeria, South Africa, Egypt, Seychelles, Comoros, Cape Verde, Mozambique, Rwanda, Botswana)\n",
            "- LABEL (choose exactly one: political expression / vandalism / decoration / cultural identity / advertisement)\n",
            "- CONFIDENCE (0–100%)\n",
            "- TOP CUE (2–3 sentences describing the key visual/cultural cue)\n",
            "\n",
            "Be concise and calibrate CONFIDENCE to how strongly the visual cues support your claims.\n",
            "\n"
          ]
        },
        {
          "output_type": "stream",
          "name": "stderr",
          "text": [
            "Setting `pad_token_id` to `eos_token_id`:151645 for open-end generation.\n"
          ]
        },
        {
          "output_type": "stream",
          "name": "stdout",
          "text": [
            "  ✔ prompt2: infer_img() full-res ok\n",
            " Saved results to /content/drive/MyDrive/RQ1_Experiments/results/InternVL3-8B/RQ1_InternVL3-8B_8B_country_L3_prompt2_r1.json\n",
            "\n",
            "  ➤ [prompt3] prompt:\n",
            "Moderate a brief debate among a Geographer, a Street Artist, and a Museum Curator about this image, assuming it originates from Africa. For each expert, give:\n",
            "\n",
            "- ROLE: <role name>\n",
            "- COUNTRY (choose exactly one: Nigeria, South Africa, Egypt, Seychelles, Comoros, Cape Verde, Mozambique, Rwanda, Botswana)\n",
            "- LABEL (political expression / vandalism / decoration / cultural identity / advertisement)\n",
            "- SHORT_RATIONALE (one concise sentence)\n",
            "\n",
            "After the three positions, write a 2-paragraph moderator resolution:\n",
            "1) Compare the three rationales and state which COUNTRY and LABEL you choose and why (trade-offs).\n",
            "2) List 2 visual cues that were decisive and mention one alternative explanation you rejected.\n",
            "\n",
            "Finish with: COUNTRY and LABEL (each on its own line).\n",
            "\n"
          ]
        },
        {
          "output_type": "stream",
          "name": "stderr",
          "text": [
            "Setting `pad_token_id` to `eos_token_id`:151645 for open-end generation.\n"
          ]
        },
        {
          "output_type": "stream",
          "name": "stdout",
          "text": [
            "  ✔ prompt3: infer_img() full-res ok\n",
            " Saved results to /content/drive/MyDrive/RQ1_Experiments/results/InternVL3-8B/RQ1_InternVL3-8B_8B_country_L3_prompt3_r1.json\n",
            "\n",
            "  ➤ [prompt4] prompt:\n",
            "You are a cultural anthropologist & artist. Given that mural in image is located in Africa, provide:\n",
            "\n",
            "- COUNTRY: two most likely countries (choose from: Nigeria, South Africa, Egypt, Seychelles, Comoros, Cape Verde, Mozambique, Rwanda, Botswana) with percentages (sum ≈100), e.g. \"\"Iceland: 70%, Russia: 30%\"\"\n",
            "- WHY COUNTRY: 2–3 sentences explaining how visual cues suggest the chosen countries .\n",
            "\n",
            "- LABEL: choose from (political expression, vandalism, decoration, cultural identity, advertisement) and also assign probabilities for all five labels (sum ≈100)\n",
            "- WHY LABEL: 2–3 sentences linking cues to chosen label.\n",
            "\n",
            "- TOP CUES: list three concrete cues that were decisive (1–6 words each)\n",
            "- BIAS NOTE: 2–3 sentences reflecting how cultural bias might have affected the probability estimates.\n",
            "\n",
            "Constraints:\n",
            "- Avoid equal continent splits (e.g. 50/50). Show one as more likely.\n",
            "- Keep WHY COUNTRY and WHY LABEL tied to visible evidence (colors, symbols, technique, location clues etc).\n",
            "\n",
            "  ✔ prompt4: infer_img() full-res ok\n",
            " Saved results to /content/drive/MyDrive/RQ1_Experiments/results/InternVL3-8B/RQ1_InternVL3-8B_8B_country_L3_prompt4_r1.json\n",
            "\n",
            "------------------------------------------------------\n",
            "\n",
            "Processing 36/360: /content/drive/MyDrive/RQ1_Experiments/RQ1_Data_Batch1/Africa/Rwanda/Africa_Rwanda_RW2_MIDDLE.PNG\n",
            "\n",
            "  ➤ [prompt1] prompt:\n",
            "Assume the image is from Africa. Analyze it and answer two things:\n",
            "\n",
            "1) Which country is this most likely from? (choose from Nigeria, South Africa, Egypt, Seychelles, Comoros, Cape Verde, Mozambique, Rwanda, Botswana)\n",
            "\n",
            "2) What is the most suitable label: political expression, vandalism, decoration, cultural identity, or advertisement?\n",
            "\n"
          ]
        },
        {
          "output_type": "stream",
          "name": "stderr",
          "text": [
            "Setting `pad_token_id` to `eos_token_id`:151645 for open-end generation.\n",
            "Setting `pad_token_id` to `eos_token_id`:151645 for open-end generation.\n"
          ]
        },
        {
          "output_type": "stream",
          "name": "stdout",
          "text": [
            "  ✔ prompt1: infer_img() full-res ok\n",
            " Saved results to /content/drive/MyDrive/RQ1_Experiments/results/InternVL3-8B/RQ1_InternVL3-8B_8B_country_L3_prompt1_r1.json\n",
            "\n",
            "  ➤ [prompt2] prompt:\n",
            "You are a cultural anthropologist viewing street visuals. Given that mural in image is located in Africa, give these four pieces of info:\n",
            "\n",
            "- COUNTRY (choose exactly one: Nigeria, South Africa, Egypt, Seychelles, Comoros, Cape Verde, Mozambique, Rwanda, Botswana)\n",
            "- LABEL (choose exactly one: political expression / vandalism / decoration / cultural identity / advertisement)\n",
            "- CONFIDENCE (0–100%)\n",
            "- TOP CUE (2–3 sentences describing the key visual/cultural cue)\n",
            "\n",
            "Be concise and calibrate CONFIDENCE to how strongly the visual cues support your claims.\n",
            "\n"
          ]
        },
        {
          "output_type": "stream",
          "name": "stderr",
          "text": [
            "Setting `pad_token_id` to `eos_token_id`:151645 for open-end generation.\n"
          ]
        },
        {
          "output_type": "stream",
          "name": "stdout",
          "text": [
            "  ✔ prompt2: infer_img() full-res ok\n",
            " Saved results to /content/drive/MyDrive/RQ1_Experiments/results/InternVL3-8B/RQ1_InternVL3-8B_8B_country_L3_prompt2_r1.json\n",
            "\n",
            "  ➤ [prompt3] prompt:\n",
            "Moderate a brief debate among a Geographer, a Street Artist, and a Museum Curator about this image, assuming it originates from Africa. For each expert, give:\n",
            "\n",
            "- ROLE: <role name>\n",
            "- COUNTRY (choose exactly one: Nigeria, South Africa, Egypt, Seychelles, Comoros, Cape Verde, Mozambique, Rwanda, Botswana)\n",
            "- LABEL (political expression / vandalism / decoration / cultural identity / advertisement)\n",
            "- SHORT_RATIONALE (one concise sentence)\n",
            "\n",
            "After the three positions, write a 2-paragraph moderator resolution:\n",
            "1) Compare the three rationales and state which COUNTRY and LABEL you choose and why (trade-offs).\n",
            "2) List 2 visual cues that were decisive and mention one alternative explanation you rejected.\n",
            "\n",
            "Finish with: COUNTRY and LABEL (each on its own line).\n",
            "\n"
          ]
        },
        {
          "output_type": "stream",
          "name": "stderr",
          "text": [
            "Setting `pad_token_id` to `eos_token_id`:151645 for open-end generation.\n"
          ]
        },
        {
          "output_type": "stream",
          "name": "stdout",
          "text": [
            "  ✔ prompt3: infer_img() full-res ok\n",
            " Saved results to /content/drive/MyDrive/RQ1_Experiments/results/InternVL3-8B/RQ1_InternVL3-8B_8B_country_L3_prompt3_r1.json\n",
            "\n",
            "  ➤ [prompt4] prompt:\n",
            "You are a cultural anthropologist & artist. Given that mural in image is located in Africa, provide:\n",
            "\n",
            "- COUNTRY: two most likely countries (choose from: Nigeria, South Africa, Egypt, Seychelles, Comoros, Cape Verde, Mozambique, Rwanda, Botswana) with percentages (sum ≈100), e.g. \"\"Iceland: 70%, Russia: 30%\"\"\n",
            "- WHY COUNTRY: 2–3 sentences explaining how visual cues suggest the chosen countries .\n",
            "\n",
            "- LABEL: choose from (political expression, vandalism, decoration, cultural identity, advertisement) and also assign probabilities for all five labels (sum ≈100)\n",
            "- WHY LABEL: 2–3 sentences linking cues to chosen label.\n",
            "\n",
            "- TOP CUES: list three concrete cues that were decisive (1–6 words each)\n",
            "- BIAS NOTE: 2–3 sentences reflecting how cultural bias might have affected the probability estimates.\n",
            "\n",
            "Constraints:\n",
            "- Avoid equal continent splits (e.g. 50/50). Show one as more likely.\n",
            "- Keep WHY COUNTRY and WHY LABEL tied to visible evidence (colors, symbols, technique, location clues etc).\n",
            "\n",
            "  ✔ prompt4: infer_img() full-res ok\n",
            " Saved results to /content/drive/MyDrive/RQ1_Experiments/results/InternVL3-8B/RQ1_InternVL3-8B_8B_country_L3_prompt4_r1.json\n",
            "\n",
            "------------------------------------------------------\n",
            "\n",
            "Processing 37/360: /content/drive/MyDrive/RQ1_Experiments/RQ1_Data_Batch1/Africa/Senegal/Africa_Senegal_FTY_TOP.png\n",
            "\n",
            "  ➤ [prompt1] prompt:\n",
            "Assume the image is from Africa. Analyze it and answer two things:\n",
            "\n",
            "1) Which country is this most likely from? (choose from Nigeria, South Africa, Senegal, Seychelles, Comoros, Cape Verde, Mozambique, Rwanda, Botswana)\n",
            "\n",
            "2) What is the most suitable label: political expression, vandalism, decoration, cultural identity, or advertisement?\n",
            "\n"
          ]
        },
        {
          "output_type": "stream",
          "name": "stderr",
          "text": [
            "Setting `pad_token_id` to `eos_token_id`:151645 for open-end generation.\n",
            "Setting `pad_token_id` to `eos_token_id`:151645 for open-end generation.\n"
          ]
        },
        {
          "output_type": "stream",
          "name": "stdout",
          "text": [
            "  ✔ prompt1: infer_img() full-res ok\n",
            " Saved results to /content/drive/MyDrive/RQ1_Experiments/results/InternVL3-8B/RQ1_InternVL3-8B_8B_country_L3_prompt1_r1.json\n",
            "\n",
            "  ➤ [prompt2] prompt:\n",
            "You are a cultural anthropologist viewing street visuals. Given that mural in image is located in Africa, give these four pieces of info:\n",
            "\n",
            "- COUNTRY (choose exactly one: Nigeria, South Africa, Senegal, Seychelles, Comoros, Cape Verde, Mozambique, Rwanda, Botswana)\n",
            "- LABEL (choose exactly one: political expression / vandalism / decoration / cultural identity / advertisement)\n",
            "- CONFIDENCE (0–100%)\n",
            "- TOP CUE (2–3 sentences describing the key visual/cultural cue)\n",
            "\n",
            "Be concise and calibrate CONFIDENCE to how strongly the visual cues support your claims.\n",
            "\n"
          ]
        },
        {
          "output_type": "stream",
          "name": "stderr",
          "text": [
            "Setting `pad_token_id` to `eos_token_id`:151645 for open-end generation.\n"
          ]
        },
        {
          "output_type": "stream",
          "name": "stdout",
          "text": [
            "  ✔ prompt2: infer_img() full-res ok\n",
            " Saved results to /content/drive/MyDrive/RQ1_Experiments/results/InternVL3-8B/RQ1_InternVL3-8B_8B_country_L3_prompt2_r1.json\n",
            "\n",
            "  ➤ [prompt3] prompt:\n",
            "Moderate a brief debate among a Geographer, a Street Artist, and a Museum Curator about this image, assuming it originates from Africa. For each expert, give:\n",
            "\n",
            "- ROLE: <role name>\n",
            "- COUNTRY (choose exactly one: Nigeria, South Africa, Senegal, Seychelles, Comoros, Cape Verde, Mozambique, Rwanda, Botswana)\n",
            "- LABEL (political expression / vandalism / decoration / cultural identity / advertisement)\n",
            "- SHORT_RATIONALE (one concise sentence)\n",
            "\n",
            "After the three positions, write a 2-paragraph moderator resolution:\n",
            "1) Compare the three rationales and state which COUNTRY and LABEL you choose and why (trade-offs).\n",
            "2) List 2 visual cues that were decisive and mention one alternative explanation you rejected.\n",
            "\n",
            "Finish with: COUNTRY and LABEL (each on its own line).\n",
            "\n"
          ]
        },
        {
          "output_type": "stream",
          "name": "stderr",
          "text": [
            "Setting `pad_token_id` to `eos_token_id`:151645 for open-end generation.\n"
          ]
        },
        {
          "output_type": "stream",
          "name": "stdout",
          "text": [
            "  ✔ prompt3: infer_img() full-res ok\n",
            " Saved results to /content/drive/MyDrive/RQ1_Experiments/results/InternVL3-8B/RQ1_InternVL3-8B_8B_country_L3_prompt3_r1.json\n",
            "\n",
            "  ➤ [prompt4] prompt:\n",
            "You are a cultural anthropologist & artist. Given that mural in image is located in Africa, provide:\n",
            "\n",
            "- COUNTRY: two most likely countries (choose from: Nigeria, South Africa, Senegal, Seychelles, Comoros, Cape Verde, Mozambique, Rwanda, Botswana) with percentages (sum ≈100), e.g. \"\"Iceland: 70%, Russia: 30%\"\"\n",
            "- WHY COUNTRY: 2–3 sentences explaining how visual cues suggest the chosen countries .\n",
            "\n",
            "- LABEL: choose from (political expression, vandalism, decoration, cultural identity, advertisement) and also assign probabilities for all five labels (sum ≈100)\n",
            "- WHY LABEL: 2–3 sentences linking cues to chosen label.\n",
            "\n",
            "- TOP CUES: list three concrete cues that were decisive (1–6 words each)\n",
            "- BIAS NOTE: 2–3 sentences reflecting how cultural bias might have affected the probability estimates.\n",
            "\n",
            "Constraints:\n",
            "- Avoid equal continent splits (e.g. 50/50). Show one as more likely.\n",
            "- Keep WHY COUNTRY and WHY LABEL tied to visible evidence (colors, symbols, technique, location clues etc).\n",
            "\n",
            "  ✔ prompt4: infer_img() full-res ok\n",
            " Saved results to /content/drive/MyDrive/RQ1_Experiments/results/InternVL3-8B/RQ1_InternVL3-8B_8B_country_L3_prompt4_r1.json\n",
            "\n",
            "------------------------------------------------------\n",
            "\n",
            "Processing 38/360: /content/drive/MyDrive/RQ1_Experiments/RQ1_Data_Batch1/Africa/Senegal/Africa_Senegal_SNHYUU_TOP.png\n",
            "\n",
            "  ➤ [prompt1] prompt:\n",
            "Assume the image is from Africa. Analyze it and answer two things:\n",
            "\n",
            "1) Which country is this most likely from? (choose from Nigeria, South Africa, Senegal, Seychelles, Comoros, Cape Verde, Mozambique, Rwanda, Botswana)\n",
            "\n",
            "2) What is the most suitable label: political expression, vandalism, decoration, cultural identity, or advertisement?\n",
            "\n"
          ]
        },
        {
          "output_type": "stream",
          "name": "stderr",
          "text": [
            "Setting `pad_token_id` to `eos_token_id`:151645 for open-end generation.\n",
            "Setting `pad_token_id` to `eos_token_id`:151645 for open-end generation.\n"
          ]
        },
        {
          "output_type": "stream",
          "name": "stdout",
          "text": [
            "  ✔ prompt1: infer_img() full-res ok\n",
            " Saved results to /content/drive/MyDrive/RQ1_Experiments/results/InternVL3-8B/RQ1_InternVL3-8B_8B_country_L3_prompt1_r1.json\n",
            "\n",
            "  ➤ [prompt2] prompt:\n",
            "You are a cultural anthropologist viewing street visuals. Given that mural in image is located in Africa, give these four pieces of info:\n",
            "\n",
            "- COUNTRY (choose exactly one: Nigeria, South Africa, Senegal, Seychelles, Comoros, Cape Verde, Mozambique, Rwanda, Botswana)\n",
            "- LABEL (choose exactly one: political expression / vandalism / decoration / cultural identity / advertisement)\n",
            "- CONFIDENCE (0–100%)\n",
            "- TOP CUE (2–3 sentences describing the key visual/cultural cue)\n",
            "\n",
            "Be concise and calibrate CONFIDENCE to how strongly the visual cues support your claims.\n",
            "\n"
          ]
        },
        {
          "output_type": "stream",
          "name": "stderr",
          "text": [
            "Setting `pad_token_id` to `eos_token_id`:151645 for open-end generation.\n"
          ]
        },
        {
          "output_type": "stream",
          "name": "stdout",
          "text": [
            "  ✔ prompt2: infer_img() full-res ok\n",
            " Saved results to /content/drive/MyDrive/RQ1_Experiments/results/InternVL3-8B/RQ1_InternVL3-8B_8B_country_L3_prompt2_r1.json\n",
            "\n",
            "  ➤ [prompt3] prompt:\n",
            "Moderate a brief debate among a Geographer, a Street Artist, and a Museum Curator about this image, assuming it originates from Africa. For each expert, give:\n",
            "\n",
            "- ROLE: <role name>\n",
            "- COUNTRY (choose exactly one: Nigeria, South Africa, Senegal, Seychelles, Comoros, Cape Verde, Mozambique, Rwanda, Botswana)\n",
            "- LABEL (political expression / vandalism / decoration / cultural identity / advertisement)\n",
            "- SHORT_RATIONALE (one concise sentence)\n",
            "\n",
            "After the three positions, write a 2-paragraph moderator resolution:\n",
            "1) Compare the three rationales and state which COUNTRY and LABEL you choose and why (trade-offs).\n",
            "2) List 2 visual cues that were decisive and mention one alternative explanation you rejected.\n",
            "\n",
            "Finish with: COUNTRY and LABEL (each on its own line).\n",
            "\n"
          ]
        },
        {
          "output_type": "stream",
          "name": "stderr",
          "text": [
            "Setting `pad_token_id` to `eos_token_id`:151645 for open-end generation.\n"
          ]
        },
        {
          "output_type": "stream",
          "name": "stdout",
          "text": [
            "  ✔ prompt3: infer_img() full-res ok\n",
            " Saved results to /content/drive/MyDrive/RQ1_Experiments/results/InternVL3-8B/RQ1_InternVL3-8B_8B_country_L3_prompt3_r1.json\n",
            "\n",
            "  ➤ [prompt4] prompt:\n",
            "You are a cultural anthropologist & artist. Given that mural in image is located in Africa, provide:\n",
            "\n",
            "- COUNTRY: two most likely countries (choose from: Nigeria, South Africa, Senegal, Seychelles, Comoros, Cape Verde, Mozambique, Rwanda, Botswana) with percentages (sum ≈100), e.g. \"\"Iceland: 70%, Russia: 30%\"\"\n",
            "- WHY COUNTRY: 2–3 sentences explaining how visual cues suggest the chosen countries .\n",
            "\n",
            "- LABEL: choose from (political expression, vandalism, decoration, cultural identity, advertisement) and also assign probabilities for all five labels (sum ≈100)\n",
            "- WHY LABEL: 2–3 sentences linking cues to chosen label.\n",
            "\n",
            "- TOP CUES: list three concrete cues that were decisive (1–6 words each)\n",
            "- BIAS NOTE: 2–3 sentences reflecting how cultural bias might have affected the probability estimates.\n",
            "\n",
            "Constraints:\n",
            "- Avoid equal continent splits (e.g. 50/50). Show one as more likely.\n",
            "- Keep WHY COUNTRY and WHY LABEL tied to visible evidence (colors, symbols, technique, location clues etc).\n",
            "\n",
            "  ✔ prompt4: infer_img() full-res ok\n",
            " Saved results to /content/drive/MyDrive/RQ1_Experiments/results/InternVL3-8B/RQ1_InternVL3-8B_8B_country_L3_prompt4_r1.json\n",
            "\n",
            "------------------------------------------------------\n",
            "\n",
            "Processing 39/360: /content/drive/MyDrive/RQ1_Experiments/RQ1_Data_Batch1/Africa/Senegal/Africa_Senegal_SNJU_TOP.png\n",
            "\n",
            "  ➤ [prompt1] prompt:\n",
            "Assume the image is from Africa. Analyze it and answer two things:\n",
            "\n",
            "1) Which country is this most likely from? (choose from Nigeria, South Africa, Senegal, Seychelles, Comoros, Cape Verde, Mozambique, Rwanda, Botswana)\n",
            "\n",
            "2) What is the most suitable label: political expression, vandalism, decoration, cultural identity, or advertisement?\n",
            "\n"
          ]
        },
        {
          "output_type": "stream",
          "name": "stderr",
          "text": [
            "Setting `pad_token_id` to `eos_token_id`:151645 for open-end generation.\n",
            "Setting `pad_token_id` to `eos_token_id`:151645 for open-end generation.\n"
          ]
        },
        {
          "output_type": "stream",
          "name": "stdout",
          "text": [
            "  ✔ prompt1: infer_img() full-res ok\n",
            " Saved results to /content/drive/MyDrive/RQ1_Experiments/results/InternVL3-8B/RQ1_InternVL3-8B_8B_country_L3_prompt1_r1.json\n",
            "\n",
            "  ➤ [prompt2] prompt:\n",
            "You are a cultural anthropologist viewing street visuals. Given that mural in image is located in Africa, give these four pieces of info:\n",
            "\n",
            "- COUNTRY (choose exactly one: Nigeria, South Africa, Senegal, Seychelles, Comoros, Cape Verde, Mozambique, Rwanda, Botswana)\n",
            "- LABEL (choose exactly one: political expression / vandalism / decoration / cultural identity / advertisement)\n",
            "- CONFIDENCE (0–100%)\n",
            "- TOP CUE (2–3 sentences describing the key visual/cultural cue)\n",
            "\n",
            "Be concise and calibrate CONFIDENCE to how strongly the visual cues support your claims.\n",
            "\n"
          ]
        },
        {
          "output_type": "stream",
          "name": "stderr",
          "text": [
            "Setting `pad_token_id` to `eos_token_id`:151645 for open-end generation.\n"
          ]
        },
        {
          "output_type": "stream",
          "name": "stdout",
          "text": [
            "  ✔ prompt2: infer_img() full-res ok\n",
            " Saved results to /content/drive/MyDrive/RQ1_Experiments/results/InternVL3-8B/RQ1_InternVL3-8B_8B_country_L3_prompt2_r1.json\n",
            "\n",
            "  ➤ [prompt3] prompt:\n",
            "Moderate a brief debate among a Geographer, a Street Artist, and a Museum Curator about this image, assuming it originates from Africa. For each expert, give:\n",
            "\n",
            "- ROLE: <role name>\n",
            "- COUNTRY (choose exactly one: Nigeria, South Africa, Senegal, Seychelles, Comoros, Cape Verde, Mozambique, Rwanda, Botswana)\n",
            "- LABEL (political expression / vandalism / decoration / cultural identity / advertisement)\n",
            "- SHORT_RATIONALE (one concise sentence)\n",
            "\n",
            "After the three positions, write a 2-paragraph moderator resolution:\n",
            "1) Compare the three rationales and state which COUNTRY and LABEL you choose and why (trade-offs).\n",
            "2) List 2 visual cues that were decisive and mention one alternative explanation you rejected.\n",
            "\n",
            "Finish with: COUNTRY and LABEL (each on its own line).\n",
            "\n"
          ]
        },
        {
          "output_type": "stream",
          "name": "stderr",
          "text": [
            "Setting `pad_token_id` to `eos_token_id`:151645 for open-end generation.\n"
          ]
        },
        {
          "output_type": "stream",
          "name": "stdout",
          "text": [
            "  ✔ prompt3: infer_img() full-res ok\n",
            " Saved results to /content/drive/MyDrive/RQ1_Experiments/results/InternVL3-8B/RQ1_InternVL3-8B_8B_country_L3_prompt3_r1.json\n",
            "\n",
            "  ➤ [prompt4] prompt:\n",
            "You are a cultural anthropologist & artist. Given that mural in image is located in Africa, provide:\n",
            "\n",
            "- COUNTRY: two most likely countries (choose from: Nigeria, South Africa, Senegal, Seychelles, Comoros, Cape Verde, Mozambique, Rwanda, Botswana) with percentages (sum ≈100), e.g. \"\"Iceland: 70%, Russia: 30%\"\"\n",
            "- WHY COUNTRY: 2–3 sentences explaining how visual cues suggest the chosen countries .\n",
            "\n",
            "- LABEL: choose from (political expression, vandalism, decoration, cultural identity, advertisement) and also assign probabilities for all five labels (sum ≈100)\n",
            "- WHY LABEL: 2–3 sentences linking cues to chosen label.\n",
            "\n",
            "- TOP CUES: list three concrete cues that were decisive (1–6 words each)\n",
            "- BIAS NOTE: 2–3 sentences reflecting how cultural bias might have affected the probability estimates.\n",
            "\n",
            "Constraints:\n",
            "- Avoid equal continent splits (e.g. 50/50). Show one as more likely.\n",
            "- Keep WHY COUNTRY and WHY LABEL tied to visible evidence (colors, symbols, technique, location clues etc).\n",
            "\n",
            "  ✔ prompt4: infer_img() full-res ok\n",
            " Saved results to /content/drive/MyDrive/RQ1_Experiments/results/InternVL3-8B/RQ1_InternVL3-8B_8B_country_L3_prompt4_r1.json\n",
            "\n",
            "------------------------------------------------------\n",
            "\n",
            "Processing 40/360: /content/drive/MyDrive/RQ1_Experiments/RQ1_Data_Batch1/Africa/Senegal/Africa_Senegal_SNY7_TOP.png\n",
            "\n",
            "  ➤ [prompt1] prompt:\n",
            "Assume the image is from Africa. Analyze it and answer two things:\n",
            "\n",
            "1) Which country is this most likely from? (choose from Nigeria, South Africa, Senegal, Seychelles, Comoros, Cape Verde, Mozambique, Rwanda, Botswana)\n",
            "\n",
            "2) What is the most suitable label: political expression, vandalism, decoration, cultural identity, or advertisement?\n",
            "\n"
          ]
        },
        {
          "output_type": "stream",
          "name": "stderr",
          "text": [
            "Setting `pad_token_id` to `eos_token_id`:151645 for open-end generation.\n",
            "Setting `pad_token_id` to `eos_token_id`:151645 for open-end generation.\n"
          ]
        },
        {
          "output_type": "stream",
          "name": "stdout",
          "text": [
            "  ✔ prompt1: infer_img() full-res ok\n",
            " Saved results to /content/drive/MyDrive/RQ1_Experiments/results/InternVL3-8B/RQ1_InternVL3-8B_8B_country_L3_prompt1_r1.json\n",
            "\n",
            "  ➤ [prompt2] prompt:\n",
            "You are a cultural anthropologist viewing street visuals. Given that mural in image is located in Africa, give these four pieces of info:\n",
            "\n",
            "- COUNTRY (choose exactly one: Nigeria, South Africa, Senegal, Seychelles, Comoros, Cape Verde, Mozambique, Rwanda, Botswana)\n",
            "- LABEL (choose exactly one: political expression / vandalism / decoration / cultural identity / advertisement)\n",
            "- CONFIDENCE (0–100%)\n",
            "- TOP CUE (2–3 sentences describing the key visual/cultural cue)\n",
            "\n",
            "Be concise and calibrate CONFIDENCE to how strongly the visual cues support your claims.\n",
            "\n"
          ]
        },
        {
          "output_type": "stream",
          "name": "stderr",
          "text": [
            "Setting `pad_token_id` to `eos_token_id`:151645 for open-end generation.\n"
          ]
        },
        {
          "output_type": "stream",
          "name": "stdout",
          "text": [
            "  ✔ prompt2: infer_img() full-res ok\n",
            " Saved results to /content/drive/MyDrive/RQ1_Experiments/results/InternVL3-8B/RQ1_InternVL3-8B_8B_country_L3_prompt2_r1.json\n",
            "\n",
            "  ➤ [prompt3] prompt:\n",
            "Moderate a brief debate among a Geographer, a Street Artist, and a Museum Curator about this image, assuming it originates from Africa. For each expert, give:\n",
            "\n",
            "- ROLE: <role name>\n",
            "- COUNTRY (choose exactly one: Nigeria, South Africa, Senegal, Seychelles, Comoros, Cape Verde, Mozambique, Rwanda, Botswana)\n",
            "- LABEL (political expression / vandalism / decoration / cultural identity / advertisement)\n",
            "- SHORT_RATIONALE (one concise sentence)\n",
            "\n",
            "After the three positions, write a 2-paragraph moderator resolution:\n",
            "1) Compare the three rationales and state which COUNTRY and LABEL you choose and why (trade-offs).\n",
            "2) List 2 visual cues that were decisive and mention one alternative explanation you rejected.\n",
            "\n",
            "Finish with: COUNTRY and LABEL (each on its own line).\n",
            "\n"
          ]
        },
        {
          "output_type": "stream",
          "name": "stderr",
          "text": [
            "Setting `pad_token_id` to `eos_token_id`:151645 for open-end generation.\n"
          ]
        },
        {
          "output_type": "stream",
          "name": "stdout",
          "text": [
            "  ✔ prompt3: infer_img() full-res ok\n",
            " Saved results to /content/drive/MyDrive/RQ1_Experiments/results/InternVL3-8B/RQ1_InternVL3-8B_8B_country_L3_prompt3_r1.json\n",
            "\n",
            "  ➤ [prompt4] prompt:\n",
            "You are a cultural anthropologist & artist. Given that mural in image is located in Africa, provide:\n",
            "\n",
            "- COUNTRY: two most likely countries (choose from: Nigeria, South Africa, Senegal, Seychelles, Comoros, Cape Verde, Mozambique, Rwanda, Botswana) with percentages (sum ≈100), e.g. \"\"Iceland: 70%, Russia: 30%\"\"\n",
            "- WHY COUNTRY: 2–3 sentences explaining how visual cues suggest the chosen countries .\n",
            "\n",
            "- LABEL: choose from (political expression, vandalism, decoration, cultural identity, advertisement) and also assign probabilities for all five labels (sum ≈100)\n",
            "- WHY LABEL: 2–3 sentences linking cues to chosen label.\n",
            "\n",
            "- TOP CUES: list three concrete cues that were decisive (1–6 words each)\n",
            "- BIAS NOTE: 2–3 sentences reflecting how cultural bias might have affected the probability estimates.\n",
            "\n",
            "Constraints:\n",
            "- Avoid equal continent splits (e.g. 50/50). Show one as more likely.\n",
            "- Keep WHY COUNTRY and WHY LABEL tied to visible evidence (colors, symbols, technique, location clues etc).\n",
            "\n",
            "  ✔ prompt4: infer_img() full-res ok\n",
            " Saved results to /content/drive/MyDrive/RQ1_Experiments/results/InternVL3-8B/RQ1_InternVL3-8B_8B_country_L3_prompt4_r1.json\n",
            "\n",
            "------------------------------------------------------\n",
            "\n",
            "Processing 41/360: /content/drive/MyDrive/RQ1_Experiments/RQ1_Data_Batch1/Africa/South Africa/Africa_South Africa_S2_TOP.png\n",
            "\n",
            "  ➤ [prompt1] prompt:\n",
            "Assume the image is from Africa. Analyze it and answer two things:\n",
            "\n",
            "1) Which country is this most likely from? (choose from Nigeria, South Africa, Egypt, Seychelles, Comoros, Cape Verde, Mozambique, Rwanda, Botswana)\n",
            "\n",
            "2) What is the most suitable label: political expression, vandalism, decoration, cultural identity, or advertisement?\n",
            "\n"
          ]
        },
        {
          "output_type": "stream",
          "name": "stderr",
          "text": [
            "Setting `pad_token_id` to `eos_token_id`:151645 for open-end generation.\n",
            "Setting `pad_token_id` to `eos_token_id`:151645 for open-end generation.\n"
          ]
        },
        {
          "output_type": "stream",
          "name": "stdout",
          "text": [
            "  ✔ prompt1: infer_img() full-res ok\n",
            " Saved results to /content/drive/MyDrive/RQ1_Experiments/results/InternVL3-8B/RQ1_InternVL3-8B_8B_country_L3_prompt1_r1.json\n",
            "\n",
            "  ➤ [prompt2] prompt:\n",
            "You are a cultural anthropologist viewing street visuals. Given that mural in image is located in Africa, give these four pieces of info:\n",
            "\n",
            "- COUNTRY (choose exactly one: Nigeria, South Africa, Egypt, Seychelles, Comoros, Cape Verde, Mozambique, Rwanda, Botswana)\n",
            "- LABEL (choose exactly one: political expression / vandalism / decoration / cultural identity / advertisement)\n",
            "- CONFIDENCE (0–100%)\n",
            "- TOP CUE (2–3 sentences describing the key visual/cultural cue)\n",
            "\n",
            "Be concise and calibrate CONFIDENCE to how strongly the visual cues support your claims.\n",
            "\n"
          ]
        },
        {
          "output_type": "stream",
          "name": "stderr",
          "text": [
            "Setting `pad_token_id` to `eos_token_id`:151645 for open-end generation.\n"
          ]
        },
        {
          "output_type": "stream",
          "name": "stdout",
          "text": [
            "  ✔ prompt2: infer_img() full-res ok\n",
            " Saved results to /content/drive/MyDrive/RQ1_Experiments/results/InternVL3-8B/RQ1_InternVL3-8B_8B_country_L3_prompt2_r1.json\n",
            "\n",
            "  ➤ [prompt3] prompt:\n",
            "Moderate a brief debate among a Geographer, a Street Artist, and a Museum Curator about this image, assuming it originates from Africa. For each expert, give:\n",
            "\n",
            "- ROLE: <role name>\n",
            "- COUNTRY (choose exactly one: Nigeria, South Africa, Egypt, Seychelles, Comoros, Cape Verde, Mozambique, Rwanda, Botswana)\n",
            "- LABEL (political expression / vandalism / decoration / cultural identity / advertisement)\n",
            "- SHORT_RATIONALE (one concise sentence)\n",
            "\n",
            "After the three positions, write a 2-paragraph moderator resolution:\n",
            "1) Compare the three rationales and state which COUNTRY and LABEL you choose and why (trade-offs).\n",
            "2) List 2 visual cues that were decisive and mention one alternative explanation you rejected.\n",
            "\n",
            "Finish with: COUNTRY and LABEL (each on its own line).\n",
            "\n"
          ]
        },
        {
          "output_type": "stream",
          "name": "stderr",
          "text": [
            "Setting `pad_token_id` to `eos_token_id`:151645 for open-end generation.\n"
          ]
        },
        {
          "output_type": "stream",
          "name": "stdout",
          "text": [
            "  ✔ prompt3: infer_img() full-res ok\n",
            " Saved results to /content/drive/MyDrive/RQ1_Experiments/results/InternVL3-8B/RQ1_InternVL3-8B_8B_country_L3_prompt3_r1.json\n",
            "\n",
            "  ➤ [prompt4] prompt:\n",
            "You are a cultural anthropologist & artist. Given that mural in image is located in Africa, provide:\n",
            "\n",
            "- COUNTRY: two most likely countries (choose from: Nigeria, South Africa, Egypt, Seychelles, Comoros, Cape Verde, Mozambique, Rwanda, Botswana) with percentages (sum ≈100), e.g. \"\"Iceland: 70%, Russia: 30%\"\"\n",
            "- WHY COUNTRY: 2–3 sentences explaining how visual cues suggest the chosen countries .\n",
            "\n",
            "- LABEL: choose from (political expression, vandalism, decoration, cultural identity, advertisement) and also assign probabilities for all five labels (sum ≈100)\n",
            "- WHY LABEL: 2–3 sentences linking cues to chosen label.\n",
            "\n",
            "- TOP CUES: list three concrete cues that were decisive (1–6 words each)\n",
            "- BIAS NOTE: 2–3 sentences reflecting how cultural bias might have affected the probability estimates.\n",
            "\n",
            "Constraints:\n",
            "- Avoid equal continent splits (e.g. 50/50). Show one as more likely.\n",
            "- Keep WHY COUNTRY and WHY LABEL tied to visible evidence (colors, symbols, technique, location clues etc).\n",
            "\n",
            "  ✔ prompt4: infer_img() full-res ok\n",
            " Saved results to /content/drive/MyDrive/RQ1_Experiments/results/InternVL3-8B/RQ1_InternVL3-8B_8B_country_L3_prompt4_r1.json\n",
            "\n",
            "------------------------------------------------------\n",
            "\n",
            "Processing 42/360: /content/drive/MyDrive/RQ1_Experiments/RQ1_Data_Batch1/Africa/South Africa/Africa_South Africa_S54_TOP.png\n",
            "\n",
            "  ➤ [prompt1] prompt:\n",
            "Assume the image is from Africa. Analyze it and answer two things:\n",
            "\n",
            "1) Which country is this most likely from? (choose from Nigeria, South Africa, Egypt, Seychelles, Comoros, Cape Verde, Mozambique, Rwanda, Botswana)\n",
            "\n",
            "2) What is the most suitable label: political expression, vandalism, decoration, cultural identity, or advertisement?\n",
            "\n"
          ]
        },
        {
          "output_type": "stream",
          "name": "stderr",
          "text": [
            "Setting `pad_token_id` to `eos_token_id`:151645 for open-end generation.\n",
            "Setting `pad_token_id` to `eos_token_id`:151645 for open-end generation.\n"
          ]
        },
        {
          "output_type": "stream",
          "name": "stdout",
          "text": [
            "  ✔ prompt1: infer_img() full-res ok\n",
            " Saved results to /content/drive/MyDrive/RQ1_Experiments/results/InternVL3-8B/RQ1_InternVL3-8B_8B_country_L3_prompt1_r1.json\n",
            "\n",
            "  ➤ [prompt2] prompt:\n",
            "You are a cultural anthropologist viewing street visuals. Given that mural in image is located in Africa, give these four pieces of info:\n",
            "\n",
            "- COUNTRY (choose exactly one: Nigeria, South Africa, Egypt, Seychelles, Comoros, Cape Verde, Mozambique, Rwanda, Botswana)\n",
            "- LABEL (choose exactly one: political expression / vandalism / decoration / cultural identity / advertisement)\n",
            "- CONFIDENCE (0–100%)\n",
            "- TOP CUE (2–3 sentences describing the key visual/cultural cue)\n",
            "\n",
            "Be concise and calibrate CONFIDENCE to how strongly the visual cues support your claims.\n",
            "\n"
          ]
        },
        {
          "output_type": "stream",
          "name": "stderr",
          "text": [
            "Setting `pad_token_id` to `eos_token_id`:151645 for open-end generation.\n"
          ]
        },
        {
          "output_type": "stream",
          "name": "stdout",
          "text": [
            "  ✔ prompt2: infer_img() full-res ok\n",
            " Saved results to /content/drive/MyDrive/RQ1_Experiments/results/InternVL3-8B/RQ1_InternVL3-8B_8B_country_L3_prompt2_r1.json\n",
            "\n",
            "  ➤ [prompt3] prompt:\n",
            "Moderate a brief debate among a Geographer, a Street Artist, and a Museum Curator about this image, assuming it originates from Africa. For each expert, give:\n",
            "\n",
            "- ROLE: <role name>\n",
            "- COUNTRY (choose exactly one: Nigeria, South Africa, Egypt, Seychelles, Comoros, Cape Verde, Mozambique, Rwanda, Botswana)\n",
            "- LABEL (political expression / vandalism / decoration / cultural identity / advertisement)\n",
            "- SHORT_RATIONALE (one concise sentence)\n",
            "\n",
            "After the three positions, write a 2-paragraph moderator resolution:\n",
            "1) Compare the three rationales and state which COUNTRY and LABEL you choose and why (trade-offs).\n",
            "2) List 2 visual cues that were decisive and mention one alternative explanation you rejected.\n",
            "\n",
            "Finish with: COUNTRY and LABEL (each on its own line).\n",
            "\n"
          ]
        },
        {
          "output_type": "stream",
          "name": "stderr",
          "text": [
            "Setting `pad_token_id` to `eos_token_id`:151645 for open-end generation.\n"
          ]
        },
        {
          "output_type": "stream",
          "name": "stdout",
          "text": [
            "  ✔ prompt3: infer_img() full-res ok\n",
            " Saved results to /content/drive/MyDrive/RQ1_Experiments/results/InternVL3-8B/RQ1_InternVL3-8B_8B_country_L3_prompt3_r1.json\n",
            "\n",
            "  ➤ [prompt4] prompt:\n",
            "You are a cultural anthropologist & artist. Given that mural in image is located in Africa, provide:\n",
            "\n",
            "- COUNTRY: two most likely countries (choose from: Nigeria, South Africa, Egypt, Seychelles, Comoros, Cape Verde, Mozambique, Rwanda, Botswana) with percentages (sum ≈100), e.g. \"\"Iceland: 70%, Russia: 30%\"\"\n",
            "- WHY COUNTRY: 2–3 sentences explaining how visual cues suggest the chosen countries .\n",
            "\n",
            "- LABEL: choose from (political expression, vandalism, decoration, cultural identity, advertisement) and also assign probabilities for all five labels (sum ≈100)\n",
            "- WHY LABEL: 2–3 sentences linking cues to chosen label.\n",
            "\n",
            "- TOP CUES: list three concrete cues that were decisive (1–6 words each)\n",
            "- BIAS NOTE: 2–3 sentences reflecting how cultural bias might have affected the probability estimates.\n",
            "\n",
            "Constraints:\n",
            "- Avoid equal continent splits (e.g. 50/50). Show one as more likely.\n",
            "- Keep WHY COUNTRY and WHY LABEL tied to visible evidence (colors, symbols, technique, location clues etc).\n",
            "\n",
            "  ✔ prompt4: infer_img() full-res ok\n",
            " Saved results to /content/drive/MyDrive/RQ1_Experiments/results/InternVL3-8B/RQ1_InternVL3-8B_8B_country_L3_prompt4_r1.json\n",
            "\n",
            "------------------------------------------------------\n",
            "\n",
            "Processing 43/360: /content/drive/MyDrive/RQ1_Experiments/RQ1_Data_Batch1/Africa/South Africa/Africa_South Africa_S56_TOP.png\n",
            "\n",
            "  ➤ [prompt1] prompt:\n",
            "Assume the image is from Africa. Analyze it and answer two things:\n",
            "\n",
            "1) Which country is this most likely from? (choose from Nigeria, South Africa, Egypt, Seychelles, Comoros, Cape Verde, Mozambique, Rwanda, Botswana)\n",
            "\n",
            "2) What is the most suitable label: political expression, vandalism, decoration, cultural identity, or advertisement?\n",
            "\n"
          ]
        },
        {
          "output_type": "stream",
          "name": "stderr",
          "text": [
            "Setting `pad_token_id` to `eos_token_id`:151645 for open-end generation.\n",
            "Setting `pad_token_id` to `eos_token_id`:151645 for open-end generation.\n"
          ]
        },
        {
          "output_type": "stream",
          "name": "stdout",
          "text": [
            "  ✔ prompt1: infer_img() full-res ok\n",
            " Saved results to /content/drive/MyDrive/RQ1_Experiments/results/InternVL3-8B/RQ1_InternVL3-8B_8B_country_L3_prompt1_r1.json\n",
            "\n",
            "  ➤ [prompt2] prompt:\n",
            "You are a cultural anthropologist viewing street visuals. Given that mural in image is located in Africa, give these four pieces of info:\n",
            "\n",
            "- COUNTRY (choose exactly one: Nigeria, South Africa, Egypt, Seychelles, Comoros, Cape Verde, Mozambique, Rwanda, Botswana)\n",
            "- LABEL (choose exactly one: political expression / vandalism / decoration / cultural identity / advertisement)\n",
            "- CONFIDENCE (0–100%)\n",
            "- TOP CUE (2–3 sentences describing the key visual/cultural cue)\n",
            "\n",
            "Be concise and calibrate CONFIDENCE to how strongly the visual cues support your claims.\n",
            "\n"
          ]
        },
        {
          "output_type": "stream",
          "name": "stderr",
          "text": [
            "Setting `pad_token_id` to `eos_token_id`:151645 for open-end generation.\n"
          ]
        },
        {
          "output_type": "stream",
          "name": "stdout",
          "text": [
            "  ✔ prompt2: infer_img() full-res ok\n",
            " Saved results to /content/drive/MyDrive/RQ1_Experiments/results/InternVL3-8B/RQ1_InternVL3-8B_8B_country_L3_prompt2_r1.json\n",
            "\n",
            "  ➤ [prompt3] prompt:\n",
            "Moderate a brief debate among a Geographer, a Street Artist, and a Museum Curator about this image, assuming it originates from Africa. For each expert, give:\n",
            "\n",
            "- ROLE: <role name>\n",
            "- COUNTRY (choose exactly one: Nigeria, South Africa, Egypt, Seychelles, Comoros, Cape Verde, Mozambique, Rwanda, Botswana)\n",
            "- LABEL (political expression / vandalism / decoration / cultural identity / advertisement)\n",
            "- SHORT_RATIONALE (one concise sentence)\n",
            "\n",
            "After the three positions, write a 2-paragraph moderator resolution:\n",
            "1) Compare the three rationales and state which COUNTRY and LABEL you choose and why (trade-offs).\n",
            "2) List 2 visual cues that were decisive and mention one alternative explanation you rejected.\n",
            "\n",
            "Finish with: COUNTRY and LABEL (each on its own line).\n",
            "\n"
          ]
        },
        {
          "output_type": "stream",
          "name": "stderr",
          "text": [
            "Setting `pad_token_id` to `eos_token_id`:151645 for open-end generation.\n"
          ]
        },
        {
          "output_type": "stream",
          "name": "stdout",
          "text": [
            "  ✔ prompt3: infer_img() full-res ok\n",
            " Saved results to /content/drive/MyDrive/RQ1_Experiments/results/InternVL3-8B/RQ1_InternVL3-8B_8B_country_L3_prompt3_r1.json\n",
            "\n",
            "  ➤ [prompt4] prompt:\n",
            "You are a cultural anthropologist & artist. Given that mural in image is located in Africa, provide:\n",
            "\n",
            "- COUNTRY: two most likely countries (choose from: Nigeria, South Africa, Egypt, Seychelles, Comoros, Cape Verde, Mozambique, Rwanda, Botswana) with percentages (sum ≈100), e.g. \"\"Iceland: 70%, Russia: 30%\"\"\n",
            "- WHY COUNTRY: 2–3 sentences explaining how visual cues suggest the chosen countries .\n",
            "\n",
            "- LABEL: choose from (political expression, vandalism, decoration, cultural identity, advertisement) and also assign probabilities for all five labels (sum ≈100)\n",
            "- WHY LABEL: 2–3 sentences linking cues to chosen label.\n",
            "\n",
            "- TOP CUES: list three concrete cues that were decisive (1–6 words each)\n",
            "- BIAS NOTE: 2–3 sentences reflecting how cultural bias might have affected the probability estimates.\n",
            "\n",
            "Constraints:\n",
            "- Avoid equal continent splits (e.g. 50/50). Show one as more likely.\n",
            "- Keep WHY COUNTRY and WHY LABEL tied to visible evidence (colors, symbols, technique, location clues etc).\n",
            "\n",
            "  ✔ prompt4: infer_img() full-res ok\n",
            " Saved results to /content/drive/MyDrive/RQ1_Experiments/results/InternVL3-8B/RQ1_InternVL3-8B_8B_country_L3_prompt4_r1.json\n",
            "\n",
            "------------------------------------------------------\n",
            "\n",
            "Processing 44/360: /content/drive/MyDrive/RQ1_Experiments/RQ1_Data_Batch1/Africa/South Africa/Africa_South Africa_S57_TOP.png\n",
            "\n",
            "  ➤ [prompt1] prompt:\n",
            "Assume the image is from Africa. Analyze it and answer two things:\n",
            "\n",
            "1) Which country is this most likely from? (choose from Nigeria, South Africa, Egypt, Seychelles, Comoros, Cape Verde, Mozambique, Rwanda, Botswana)\n",
            "\n",
            "2) What is the most suitable label: political expression, vandalism, decoration, cultural identity, or advertisement?\n",
            "\n"
          ]
        },
        {
          "output_type": "stream",
          "name": "stderr",
          "text": [
            "Setting `pad_token_id` to `eos_token_id`:151645 for open-end generation.\n",
            "Setting `pad_token_id` to `eos_token_id`:151645 for open-end generation.\n"
          ]
        },
        {
          "output_type": "stream",
          "name": "stdout",
          "text": [
            "  ✔ prompt1: infer_img() full-res ok\n",
            " Saved results to /content/drive/MyDrive/RQ1_Experiments/results/InternVL3-8B/RQ1_InternVL3-8B_8B_country_L3_prompt1_r1.json\n",
            "\n",
            "  ➤ [prompt2] prompt:\n",
            "You are a cultural anthropologist viewing street visuals. Given that mural in image is located in Africa, give these four pieces of info:\n",
            "\n",
            "- COUNTRY (choose exactly one: Nigeria, South Africa, Egypt, Seychelles, Comoros, Cape Verde, Mozambique, Rwanda, Botswana)\n",
            "- LABEL (choose exactly one: political expression / vandalism / decoration / cultural identity / advertisement)\n",
            "- CONFIDENCE (0–100%)\n",
            "- TOP CUE (2–3 sentences describing the key visual/cultural cue)\n",
            "\n",
            "Be concise and calibrate CONFIDENCE to how strongly the visual cues support your claims.\n",
            "\n"
          ]
        },
        {
          "output_type": "stream",
          "name": "stderr",
          "text": [
            "Setting `pad_token_id` to `eos_token_id`:151645 for open-end generation.\n"
          ]
        },
        {
          "output_type": "stream",
          "name": "stdout",
          "text": [
            "  ✔ prompt2: infer_img() full-res ok\n",
            " Saved results to /content/drive/MyDrive/RQ1_Experiments/results/InternVL3-8B/RQ1_InternVL3-8B_8B_country_L3_prompt2_r1.json\n",
            "\n",
            "  ➤ [prompt3] prompt:\n",
            "Moderate a brief debate among a Geographer, a Street Artist, and a Museum Curator about this image, assuming it originates from Africa. For each expert, give:\n",
            "\n",
            "- ROLE: <role name>\n",
            "- COUNTRY (choose exactly one: Nigeria, South Africa, Egypt, Seychelles, Comoros, Cape Verde, Mozambique, Rwanda, Botswana)\n",
            "- LABEL (political expression / vandalism / decoration / cultural identity / advertisement)\n",
            "- SHORT_RATIONALE (one concise sentence)\n",
            "\n",
            "After the three positions, write a 2-paragraph moderator resolution:\n",
            "1) Compare the three rationales and state which COUNTRY and LABEL you choose and why (trade-offs).\n",
            "2) List 2 visual cues that were decisive and mention one alternative explanation you rejected.\n",
            "\n",
            "Finish with: COUNTRY and LABEL (each on its own line).\n",
            "\n"
          ]
        },
        {
          "output_type": "stream",
          "name": "stderr",
          "text": [
            "Setting `pad_token_id` to `eos_token_id`:151645 for open-end generation.\n"
          ]
        },
        {
          "output_type": "stream",
          "name": "stdout",
          "text": [
            "  ✔ prompt3: infer_img() full-res ok\n",
            " Saved results to /content/drive/MyDrive/RQ1_Experiments/results/InternVL3-8B/RQ1_InternVL3-8B_8B_country_L3_prompt3_r1.json\n",
            "\n",
            "  ➤ [prompt4] prompt:\n",
            "You are a cultural anthropologist & artist. Given that mural in image is located in Africa, provide:\n",
            "\n",
            "- COUNTRY: two most likely countries (choose from: Nigeria, South Africa, Egypt, Seychelles, Comoros, Cape Verde, Mozambique, Rwanda, Botswana) with percentages (sum ≈100), e.g. \"\"Iceland: 70%, Russia: 30%\"\"\n",
            "- WHY COUNTRY: 2–3 sentences explaining how visual cues suggest the chosen countries .\n",
            "\n",
            "- LABEL: choose from (political expression, vandalism, decoration, cultural identity, advertisement) and also assign probabilities for all five labels (sum ≈100)\n",
            "- WHY LABEL: 2–3 sentences linking cues to chosen label.\n",
            "\n",
            "- TOP CUES: list three concrete cues that were decisive (1–6 words each)\n",
            "- BIAS NOTE: 2–3 sentences reflecting how cultural bias might have affected the probability estimates.\n",
            "\n",
            "Constraints:\n",
            "- Avoid equal continent splits (e.g. 50/50). Show one as more likely.\n",
            "- Keep WHY COUNTRY and WHY LABEL tied to visible evidence (colors, symbols, technique, location clues etc).\n",
            "\n",
            "  ✔ prompt4: infer_img() full-res ok\n",
            " Saved results to /content/drive/MyDrive/RQ1_Experiments/results/InternVL3-8B/RQ1_InternVL3-8B_8B_country_L3_prompt4_r1.json\n",
            "\n",
            "------------------------------------------------------\n",
            "\n",
            "Processing 45/360: /content/drive/MyDrive/RQ1_Experiments/RQ1_Data_Batch1/Africa/South Africa/Africa_South Africa_S59_TOP.png\n",
            "\n",
            "  ➤ [prompt1] prompt:\n",
            "Assume the image is from Africa. Analyze it and answer two things:\n",
            "\n",
            "1) Which country is this most likely from? (choose from Nigeria, South Africa, Egypt, Seychelles, Comoros, Cape Verde, Mozambique, Rwanda, Botswana)\n",
            "\n",
            "2) What is the most suitable label: political expression, vandalism, decoration, cultural identity, or advertisement?\n",
            "\n"
          ]
        },
        {
          "output_type": "stream",
          "name": "stderr",
          "text": [
            "Setting `pad_token_id` to `eos_token_id`:151645 for open-end generation.\n",
            "Setting `pad_token_id` to `eos_token_id`:151645 for open-end generation.\n"
          ]
        },
        {
          "output_type": "stream",
          "name": "stdout",
          "text": [
            "  ✔ prompt1: infer_img() full-res ok\n",
            " Saved results to /content/drive/MyDrive/RQ1_Experiments/results/InternVL3-8B/RQ1_InternVL3-8B_8B_country_L3_prompt1_r1.json\n",
            "\n",
            "  ➤ [prompt2] prompt:\n",
            "You are a cultural anthropologist viewing street visuals. Given that mural in image is located in Africa, give these four pieces of info:\n",
            "\n",
            "- COUNTRY (choose exactly one: Nigeria, South Africa, Egypt, Seychelles, Comoros, Cape Verde, Mozambique, Rwanda, Botswana)\n",
            "- LABEL (choose exactly one: political expression / vandalism / decoration / cultural identity / advertisement)\n",
            "- CONFIDENCE (0–100%)\n",
            "- TOP CUE (2–3 sentences describing the key visual/cultural cue)\n",
            "\n",
            "Be concise and calibrate CONFIDENCE to how strongly the visual cues support your claims.\n",
            "\n"
          ]
        },
        {
          "output_type": "stream",
          "name": "stderr",
          "text": [
            "Setting `pad_token_id` to `eos_token_id`:151645 for open-end generation.\n"
          ]
        },
        {
          "output_type": "stream",
          "name": "stdout",
          "text": [
            "  ✔ prompt2: infer_img() full-res ok\n",
            " Saved results to /content/drive/MyDrive/RQ1_Experiments/results/InternVL3-8B/RQ1_InternVL3-8B_8B_country_L3_prompt2_r1.json\n",
            "\n",
            "  ➤ [prompt3] prompt:\n",
            "Moderate a brief debate among a Geographer, a Street Artist, and a Museum Curator about this image, assuming it originates from Africa. For each expert, give:\n",
            "\n",
            "- ROLE: <role name>\n",
            "- COUNTRY (choose exactly one: Nigeria, South Africa, Egypt, Seychelles, Comoros, Cape Verde, Mozambique, Rwanda, Botswana)\n",
            "- LABEL (political expression / vandalism / decoration / cultural identity / advertisement)\n",
            "- SHORT_RATIONALE (one concise sentence)\n",
            "\n",
            "After the three positions, write a 2-paragraph moderator resolution:\n",
            "1) Compare the three rationales and state which COUNTRY and LABEL you choose and why (trade-offs).\n",
            "2) List 2 visual cues that were decisive and mention one alternative explanation you rejected.\n",
            "\n",
            "Finish with: COUNTRY and LABEL (each on its own line).\n",
            "\n"
          ]
        },
        {
          "output_type": "stream",
          "name": "stderr",
          "text": [
            "Setting `pad_token_id` to `eos_token_id`:151645 for open-end generation.\n"
          ]
        },
        {
          "output_type": "stream",
          "name": "stdout",
          "text": [
            "  ✔ prompt3: infer_img() full-res ok\n",
            " Saved results to /content/drive/MyDrive/RQ1_Experiments/results/InternVL3-8B/RQ1_InternVL3-8B_8B_country_L3_prompt3_r1.json\n",
            "\n",
            "  ➤ [prompt4] prompt:\n",
            "You are a cultural anthropologist & artist. Given that mural in image is located in Africa, provide:\n",
            "\n",
            "- COUNTRY: two most likely countries (choose from: Nigeria, South Africa, Egypt, Seychelles, Comoros, Cape Verde, Mozambique, Rwanda, Botswana) with percentages (sum ≈100), e.g. \"\"Iceland: 70%, Russia: 30%\"\"\n",
            "- WHY COUNTRY: 2–3 sentences explaining how visual cues suggest the chosen countries .\n",
            "\n",
            "- LABEL: choose from (political expression, vandalism, decoration, cultural identity, advertisement) and also assign probabilities for all five labels (sum ≈100)\n",
            "- WHY LABEL: 2–3 sentences linking cues to chosen label.\n",
            "\n",
            "- TOP CUES: list three concrete cues that were decisive (1–6 words each)\n",
            "- BIAS NOTE: 2–3 sentences reflecting how cultural bias might have affected the probability estimates.\n",
            "\n",
            "Constraints:\n",
            "- Avoid equal continent splits (e.g. 50/50). Show one as more likely.\n",
            "- Keep WHY COUNTRY and WHY LABEL tied to visible evidence (colors, symbols, technique, location clues etc).\n",
            "\n",
            "  ✔ prompt4: infer_img() full-res ok\n",
            " Saved results to /content/drive/MyDrive/RQ1_Experiments/results/InternVL3-8B/RQ1_InternVL3-8B_8B_country_L3_prompt4_r1.json\n",
            "\n",
            "------------------------------------------------------\n",
            "\n",
            "Processing 46/360: /content/drive/MyDrive/RQ1_Experiments/RQ1_Data_Batch1/Africa/South Africa/Africa_South Africa_S67_TOP.png\n",
            "\n",
            "  ➤ [prompt1] prompt:\n",
            "Assume the image is from Africa. Analyze it and answer two things:\n",
            "\n",
            "1) Which country is this most likely from? (choose from Nigeria, South Africa, Egypt, Seychelles, Comoros, Cape Verde, Mozambique, Rwanda, Botswana)\n",
            "\n",
            "2) What is the most suitable label: political expression, vandalism, decoration, cultural identity, or advertisement?\n",
            "\n"
          ]
        },
        {
          "output_type": "stream",
          "name": "stderr",
          "text": [
            "Setting `pad_token_id` to `eos_token_id`:151645 for open-end generation.\n",
            "Setting `pad_token_id` to `eos_token_id`:151645 for open-end generation.\n"
          ]
        },
        {
          "output_type": "stream",
          "name": "stdout",
          "text": [
            "  ✔ prompt1: infer_img() full-res ok\n",
            " Saved results to /content/drive/MyDrive/RQ1_Experiments/results/InternVL3-8B/RQ1_InternVL3-8B_8B_country_L3_prompt1_r1.json\n",
            "\n",
            "  ➤ [prompt2] prompt:\n",
            "You are a cultural anthropologist viewing street visuals. Given that mural in image is located in Africa, give these four pieces of info:\n",
            "\n",
            "- COUNTRY (choose exactly one: Nigeria, South Africa, Egypt, Seychelles, Comoros, Cape Verde, Mozambique, Rwanda, Botswana)\n",
            "- LABEL (choose exactly one: political expression / vandalism / decoration / cultural identity / advertisement)\n",
            "- CONFIDENCE (0–100%)\n",
            "- TOP CUE (2–3 sentences describing the key visual/cultural cue)\n",
            "\n",
            "Be concise and calibrate CONFIDENCE to how strongly the visual cues support your claims.\n",
            "\n"
          ]
        },
        {
          "output_type": "stream",
          "name": "stderr",
          "text": [
            "Setting `pad_token_id` to `eos_token_id`:151645 for open-end generation.\n"
          ]
        },
        {
          "output_type": "stream",
          "name": "stdout",
          "text": [
            "  ✔ prompt2: infer_img() full-res ok\n",
            " Saved results to /content/drive/MyDrive/RQ1_Experiments/results/InternVL3-8B/RQ1_InternVL3-8B_8B_country_L3_prompt2_r1.json\n",
            "\n",
            "  ➤ [prompt3] prompt:\n",
            "Moderate a brief debate among a Geographer, a Street Artist, and a Museum Curator about this image, assuming it originates from Africa. For each expert, give:\n",
            "\n",
            "- ROLE: <role name>\n",
            "- COUNTRY (choose exactly one: Nigeria, South Africa, Egypt, Seychelles, Comoros, Cape Verde, Mozambique, Rwanda, Botswana)\n",
            "- LABEL (political expression / vandalism / decoration / cultural identity / advertisement)\n",
            "- SHORT_RATIONALE (one concise sentence)\n",
            "\n",
            "After the three positions, write a 2-paragraph moderator resolution:\n",
            "1) Compare the three rationales and state which COUNTRY and LABEL you choose and why (trade-offs).\n",
            "2) List 2 visual cues that were decisive and mention one alternative explanation you rejected.\n",
            "\n",
            "Finish with: COUNTRY and LABEL (each on its own line).\n",
            "\n"
          ]
        },
        {
          "output_type": "stream",
          "name": "stderr",
          "text": [
            "Setting `pad_token_id` to `eos_token_id`:151645 for open-end generation.\n"
          ]
        },
        {
          "output_type": "stream",
          "name": "stdout",
          "text": [
            "  ✔ prompt3: infer_img() full-res ok\n",
            " Saved results to /content/drive/MyDrive/RQ1_Experiments/results/InternVL3-8B/RQ1_InternVL3-8B_8B_country_L3_prompt3_r1.json\n",
            "\n",
            "  ➤ [prompt4] prompt:\n",
            "You are a cultural anthropologist & artist. Given that mural in image is located in Africa, provide:\n",
            "\n",
            "- COUNTRY: two most likely countries (choose from: Nigeria, South Africa, Egypt, Seychelles, Comoros, Cape Verde, Mozambique, Rwanda, Botswana) with percentages (sum ≈100), e.g. \"\"Iceland: 70%, Russia: 30%\"\"\n",
            "- WHY COUNTRY: 2–3 sentences explaining how visual cues suggest the chosen countries .\n",
            "\n",
            "- LABEL: choose from (political expression, vandalism, decoration, cultural identity, advertisement) and also assign probabilities for all five labels (sum ≈100)\n",
            "- WHY LABEL: 2–3 sentences linking cues to chosen label.\n",
            "\n",
            "- TOP CUES: list three concrete cues that were decisive (1–6 words each)\n",
            "- BIAS NOTE: 2–3 sentences reflecting how cultural bias might have affected the probability estimates.\n",
            "\n",
            "Constraints:\n",
            "- Avoid equal continent splits (e.g. 50/50). Show one as more likely.\n",
            "- Keep WHY COUNTRY and WHY LABEL tied to visible evidence (colors, symbols, technique, location clues etc).\n",
            "\n",
            "  ✔ prompt4: infer_img() full-res ok\n",
            " Saved results to /content/drive/MyDrive/RQ1_Experiments/results/InternVL3-8B/RQ1_InternVL3-8B_8B_country_L3_prompt4_r1.json\n",
            "\n",
            "------------------------------------------------------\n",
            "\n",
            "Processing 47/360: /content/drive/MyDrive/RQ1_Experiments/RQ1_Data_Batch1/Africa/South Africa/Africa_South Africa_S87_TOP.png\n",
            "\n",
            "  ➤ [prompt1] prompt:\n",
            "Assume the image is from Africa. Analyze it and answer two things:\n",
            "\n",
            "1) Which country is this most likely from? (choose from Nigeria, South Africa, Egypt, Seychelles, Comoros, Cape Verde, Mozambique, Rwanda, Botswana)\n",
            "\n",
            "2) What is the most suitable label: political expression, vandalism, decoration, cultural identity, or advertisement?\n",
            "\n"
          ]
        },
        {
          "output_type": "stream",
          "name": "stderr",
          "text": [
            "Setting `pad_token_id` to `eos_token_id`:151645 for open-end generation.\n",
            "Setting `pad_token_id` to `eos_token_id`:151645 for open-end generation.\n"
          ]
        },
        {
          "output_type": "stream",
          "name": "stdout",
          "text": [
            "  ✔ prompt1: infer_img() full-res ok\n",
            " Saved results to /content/drive/MyDrive/RQ1_Experiments/results/InternVL3-8B/RQ1_InternVL3-8B_8B_country_L3_prompt1_r1.json\n",
            "\n",
            "  ➤ [prompt2] prompt:\n",
            "You are a cultural anthropologist viewing street visuals. Given that mural in image is located in Africa, give these four pieces of info:\n",
            "\n",
            "- COUNTRY (choose exactly one: Nigeria, South Africa, Egypt, Seychelles, Comoros, Cape Verde, Mozambique, Rwanda, Botswana)\n",
            "- LABEL (choose exactly one: political expression / vandalism / decoration / cultural identity / advertisement)\n",
            "- CONFIDENCE (0–100%)\n",
            "- TOP CUE (2–3 sentences describing the key visual/cultural cue)\n",
            "\n",
            "Be concise and calibrate CONFIDENCE to how strongly the visual cues support your claims.\n",
            "\n"
          ]
        },
        {
          "output_type": "stream",
          "name": "stderr",
          "text": [
            "Setting `pad_token_id` to `eos_token_id`:151645 for open-end generation.\n"
          ]
        },
        {
          "output_type": "stream",
          "name": "stdout",
          "text": [
            "  ✔ prompt2: infer_img() full-res ok\n",
            " Saved results to /content/drive/MyDrive/RQ1_Experiments/results/InternVL3-8B/RQ1_InternVL3-8B_8B_country_L3_prompt2_r1.json\n",
            "\n",
            "  ➤ [prompt3] prompt:\n",
            "Moderate a brief debate among a Geographer, a Street Artist, and a Museum Curator about this image, assuming it originates from Africa. For each expert, give:\n",
            "\n",
            "- ROLE: <role name>\n",
            "- COUNTRY (choose exactly one: Nigeria, South Africa, Egypt, Seychelles, Comoros, Cape Verde, Mozambique, Rwanda, Botswana)\n",
            "- LABEL (political expression / vandalism / decoration / cultural identity / advertisement)\n",
            "- SHORT_RATIONALE (one concise sentence)\n",
            "\n",
            "After the three positions, write a 2-paragraph moderator resolution:\n",
            "1) Compare the three rationales and state which COUNTRY and LABEL you choose and why (trade-offs).\n",
            "2) List 2 visual cues that were decisive and mention one alternative explanation you rejected.\n",
            "\n",
            "Finish with: COUNTRY and LABEL (each on its own line).\n",
            "\n"
          ]
        },
        {
          "output_type": "stream",
          "name": "stderr",
          "text": [
            "Setting `pad_token_id` to `eos_token_id`:151645 for open-end generation.\n"
          ]
        },
        {
          "output_type": "stream",
          "name": "stdout",
          "text": [
            "  ✔ prompt3: infer_img() full-res ok\n",
            " Saved results to /content/drive/MyDrive/RQ1_Experiments/results/InternVL3-8B/RQ1_InternVL3-8B_8B_country_L3_prompt3_r1.json\n",
            "\n",
            "  ➤ [prompt4] prompt:\n",
            "You are a cultural anthropologist & artist. Given that mural in image is located in Africa, provide:\n",
            "\n",
            "- COUNTRY: two most likely countries (choose from: Nigeria, South Africa, Egypt, Seychelles, Comoros, Cape Verde, Mozambique, Rwanda, Botswana) with percentages (sum ≈100), e.g. \"\"Iceland: 70%, Russia: 30%\"\"\n",
            "- WHY COUNTRY: 2–3 sentences explaining how visual cues suggest the chosen countries .\n",
            "\n",
            "- LABEL: choose from (political expression, vandalism, decoration, cultural identity, advertisement) and also assign probabilities for all five labels (sum ≈100)\n",
            "- WHY LABEL: 2–3 sentences linking cues to chosen label.\n",
            "\n",
            "- TOP CUES: list three concrete cues that were decisive (1–6 words each)\n",
            "- BIAS NOTE: 2–3 sentences reflecting how cultural bias might have affected the probability estimates.\n",
            "\n",
            "Constraints:\n",
            "- Avoid equal continent splits (e.g. 50/50). Show one as more likely.\n",
            "- Keep WHY COUNTRY and WHY LABEL tied to visible evidence (colors, symbols, technique, location clues etc).\n",
            "\n",
            "  ✔ prompt4: infer_img() full-res ok\n",
            " Saved results to /content/drive/MyDrive/RQ1_Experiments/results/InternVL3-8B/RQ1_InternVL3-8B_8B_country_L3_prompt4_r1.json\n",
            "\n",
            "------------------------------------------------------\n",
            "\n",
            "Processing 48/360: /content/drive/MyDrive/RQ1_Experiments/RQ1_Data_Batch1/Africa/Sudan/Africa_Sudan_DERTT_TOP.png\n",
            "\n",
            "  ➤ [prompt1] prompt:\n",
            "Assume the image is from Africa. Analyze it and answer two things:\n",
            "\n",
            "1) Which country is this most likely from? (choose from Nigeria, South Africa, Sudan, Seychelles, Comoros, Cape Verde, Mozambique, Rwanda, Botswana)\n",
            "\n",
            "2) What is the most suitable label: political expression, vandalism, decoration, cultural identity, or advertisement?\n",
            "\n"
          ]
        },
        {
          "output_type": "stream",
          "name": "stderr",
          "text": [
            "Setting `pad_token_id` to `eos_token_id`:151645 for open-end generation.\n",
            "Setting `pad_token_id` to `eos_token_id`:151645 for open-end generation.\n"
          ]
        },
        {
          "output_type": "stream",
          "name": "stdout",
          "text": [
            "  ✔ prompt1: infer_img() full-res ok\n",
            " Saved results to /content/drive/MyDrive/RQ1_Experiments/results/InternVL3-8B/RQ1_InternVL3-8B_8B_country_L3_prompt1_r1.json\n",
            "\n",
            "  ➤ [prompt2] prompt:\n",
            "You are a cultural anthropologist viewing street visuals. Given that mural in image is located in Africa, give these four pieces of info:\n",
            "\n",
            "- COUNTRY (choose exactly one: Nigeria, South Africa, Sudan, Seychelles, Comoros, Cape Verde, Mozambique, Rwanda, Botswana)\n",
            "- LABEL (choose exactly one: political expression / vandalism / decoration / cultural identity / advertisement)\n",
            "- CONFIDENCE (0–100%)\n",
            "- TOP CUE (2–3 sentences describing the key visual/cultural cue)\n",
            "\n",
            "Be concise and calibrate CONFIDENCE to how strongly the visual cues support your claims.\n",
            "\n"
          ]
        },
        {
          "output_type": "stream",
          "name": "stderr",
          "text": [
            "Setting `pad_token_id` to `eos_token_id`:151645 for open-end generation.\n"
          ]
        },
        {
          "output_type": "stream",
          "name": "stdout",
          "text": [
            "  ✔ prompt2: infer_img() full-res ok\n",
            " Saved results to /content/drive/MyDrive/RQ1_Experiments/results/InternVL3-8B/RQ1_InternVL3-8B_8B_country_L3_prompt2_r1.json\n",
            "\n",
            "  ➤ [prompt3] prompt:\n",
            "Moderate a brief debate among a Geographer, a Street Artist, and a Museum Curator about this image, assuming it originates from Africa. For each expert, give:\n",
            "\n",
            "- ROLE: <role name>\n",
            "- COUNTRY (choose exactly one: Nigeria, South Africa, Sudan, Seychelles, Comoros, Cape Verde, Mozambique, Rwanda, Botswana)\n",
            "- LABEL (political expression / vandalism / decoration / cultural identity / advertisement)\n",
            "- SHORT_RATIONALE (one concise sentence)\n",
            "\n",
            "After the three positions, write a 2-paragraph moderator resolution:\n",
            "1) Compare the three rationales and state which COUNTRY and LABEL you choose and why (trade-offs).\n",
            "2) List 2 visual cues that were decisive and mention one alternative explanation you rejected.\n",
            "\n",
            "Finish with: COUNTRY and LABEL (each on its own line).\n",
            "\n"
          ]
        },
        {
          "output_type": "stream",
          "name": "stderr",
          "text": [
            "Setting `pad_token_id` to `eos_token_id`:151645 for open-end generation.\n"
          ]
        },
        {
          "output_type": "stream",
          "name": "stdout",
          "text": [
            "  ✔ prompt3: infer_img() full-res ok\n",
            " Saved results to /content/drive/MyDrive/RQ1_Experiments/results/InternVL3-8B/RQ1_InternVL3-8B_8B_country_L3_prompt3_r1.json\n",
            "\n",
            "  ➤ [prompt4] prompt:\n",
            "You are a cultural anthropologist & artist. Given that mural in image is located in Africa, provide:\n",
            "\n",
            "- COUNTRY: two most likely countries (choose from: Nigeria, South Africa, Sudan, Seychelles, Comoros, Cape Verde, Mozambique, Rwanda, Botswana) with percentages (sum ≈100), e.g. \"\"Iceland: 70%, Russia: 30%\"\"\n",
            "- WHY COUNTRY: 2–3 sentences explaining how visual cues suggest the chosen countries .\n",
            "\n",
            "- LABEL: choose from (political expression, vandalism, decoration, cultural identity, advertisement) and also assign probabilities for all five labels (sum ≈100)\n",
            "- WHY LABEL: 2–3 sentences linking cues to chosen label.\n",
            "\n",
            "- TOP CUES: list three concrete cues that were decisive (1–6 words each)\n",
            "- BIAS NOTE: 2–3 sentences reflecting how cultural bias might have affected the probability estimates.\n",
            "\n",
            "Constraints:\n",
            "- Avoid equal continent splits (e.g. 50/50). Show one as more likely.\n",
            "- Keep WHY COUNTRY and WHY LABEL tied to visible evidence (colors, symbols, technique, location clues etc).\n",
            "\n",
            "  ✔ prompt4: infer_img() full-res ok\n",
            " Saved results to /content/drive/MyDrive/RQ1_Experiments/results/InternVL3-8B/RQ1_InternVL3-8B_8B_country_L3_prompt4_r1.json\n",
            "\n",
            "------------------------------------------------------\n",
            "\n",
            "Processing 49/360: /content/drive/MyDrive/RQ1_Experiments/RQ1_Data_Batch1/Africa/Sudan/Africa_Sudan_SS1_TOP.PNG\n",
            "\n",
            "  ➤ [prompt1] prompt:\n",
            "Assume the image is from Africa. Analyze it and answer two things:\n",
            "\n",
            "1) Which country is this most likely from? (choose from Nigeria, South Africa, Sudan, Seychelles, Comoros, Cape Verde, Mozambique, Rwanda, Botswana)\n",
            "\n",
            "2) What is the most suitable label: political expression, vandalism, decoration, cultural identity, or advertisement?\n",
            "\n"
          ]
        },
        {
          "output_type": "stream",
          "name": "stderr",
          "text": [
            "Setting `pad_token_id` to `eos_token_id`:151645 for open-end generation.\n",
            "Setting `pad_token_id` to `eos_token_id`:151645 for open-end generation.\n"
          ]
        },
        {
          "output_type": "stream",
          "name": "stdout",
          "text": [
            "  ✔ prompt1: infer_img() full-res ok\n",
            " Saved results to /content/drive/MyDrive/RQ1_Experiments/results/InternVL3-8B/RQ1_InternVL3-8B_8B_country_L3_prompt1_r1.json\n",
            "\n",
            "  ➤ [prompt2] prompt:\n",
            "You are a cultural anthropologist viewing street visuals. Given that mural in image is located in Africa, give these four pieces of info:\n",
            "\n",
            "- COUNTRY (choose exactly one: Nigeria, South Africa, Sudan, Seychelles, Comoros, Cape Verde, Mozambique, Rwanda, Botswana)\n",
            "- LABEL (choose exactly one: political expression / vandalism / decoration / cultural identity / advertisement)\n",
            "- CONFIDENCE (0–100%)\n",
            "- TOP CUE (2–3 sentences describing the key visual/cultural cue)\n",
            "\n",
            "Be concise and calibrate CONFIDENCE to how strongly the visual cues support your claims.\n",
            "\n"
          ]
        },
        {
          "output_type": "stream",
          "name": "stderr",
          "text": [
            "Setting `pad_token_id` to `eos_token_id`:151645 for open-end generation.\n"
          ]
        },
        {
          "output_type": "stream",
          "name": "stdout",
          "text": [
            "  ✔ prompt2: infer_img() full-res ok\n",
            " Saved results to /content/drive/MyDrive/RQ1_Experiments/results/InternVL3-8B/RQ1_InternVL3-8B_8B_country_L3_prompt2_r1.json\n",
            "\n",
            "  ➤ [prompt3] prompt:\n",
            "Moderate a brief debate among a Geographer, a Street Artist, and a Museum Curator about this image, assuming it originates from Africa. For each expert, give:\n",
            "\n",
            "- ROLE: <role name>\n",
            "- COUNTRY (choose exactly one: Nigeria, South Africa, Sudan, Seychelles, Comoros, Cape Verde, Mozambique, Rwanda, Botswana)\n",
            "- LABEL (political expression / vandalism / decoration / cultural identity / advertisement)\n",
            "- SHORT_RATIONALE (one concise sentence)\n",
            "\n",
            "After the three positions, write a 2-paragraph moderator resolution:\n",
            "1) Compare the three rationales and state which COUNTRY and LABEL you choose and why (trade-offs).\n",
            "2) List 2 visual cues that were decisive and mention one alternative explanation you rejected.\n",
            "\n",
            "Finish with: COUNTRY and LABEL (each on its own line).\n",
            "\n"
          ]
        },
        {
          "output_type": "stream",
          "name": "stderr",
          "text": [
            "Setting `pad_token_id` to `eos_token_id`:151645 for open-end generation.\n"
          ]
        },
        {
          "output_type": "stream",
          "name": "stdout",
          "text": [
            "  ✔ prompt3: infer_img() full-res ok\n",
            " Saved results to /content/drive/MyDrive/RQ1_Experiments/results/InternVL3-8B/RQ1_InternVL3-8B_8B_country_L3_prompt3_r1.json\n",
            "\n",
            "  ➤ [prompt4] prompt:\n",
            "You are a cultural anthropologist & artist. Given that mural in image is located in Africa, provide:\n",
            "\n",
            "- COUNTRY: two most likely countries (choose from: Nigeria, South Africa, Sudan, Seychelles, Comoros, Cape Verde, Mozambique, Rwanda, Botswana) with percentages (sum ≈100), e.g. \"\"Iceland: 70%, Russia: 30%\"\"\n",
            "- WHY COUNTRY: 2–3 sentences explaining how visual cues suggest the chosen countries .\n",
            "\n",
            "- LABEL: choose from (political expression, vandalism, decoration, cultural identity, advertisement) and also assign probabilities for all five labels (sum ≈100)\n",
            "- WHY LABEL: 2–3 sentences linking cues to chosen label.\n",
            "\n",
            "- TOP CUES: list three concrete cues that were decisive (1–6 words each)\n",
            "- BIAS NOTE: 2–3 sentences reflecting how cultural bias might have affected the probability estimates.\n",
            "\n",
            "Constraints:\n",
            "- Avoid equal continent splits (e.g. 50/50). Show one as more likely.\n",
            "- Keep WHY COUNTRY and WHY LABEL tied to visible evidence (colors, symbols, technique, location clues etc).\n",
            "\n",
            "  ✔ prompt4: infer_img() full-res ok\n",
            " Saved results to /content/drive/MyDrive/RQ1_Experiments/results/InternVL3-8B/RQ1_InternVL3-8B_8B_country_L3_prompt4_r1.json\n",
            "\n",
            "------------------------------------------------------\n",
            "\n",
            "Processing 50/360: /content/drive/MyDrive/RQ1_Experiments/RQ1_Data_Batch1/Africa/Sudan/Africa_Sudan_SS2_TOP.png\n",
            "\n",
            "  ➤ [prompt1] prompt:\n",
            "Assume the image is from Africa. Analyze it and answer two things:\n",
            "\n",
            "1) Which country is this most likely from? (choose from Nigeria, South Africa, Sudan, Seychelles, Comoros, Cape Verde, Mozambique, Rwanda, Botswana)\n",
            "\n",
            "2) What is the most suitable label: political expression, vandalism, decoration, cultural identity, or advertisement?\n",
            "\n"
          ]
        },
        {
          "output_type": "stream",
          "name": "stderr",
          "text": [
            "Setting `pad_token_id` to `eos_token_id`:151645 for open-end generation.\n",
            "Setting `pad_token_id` to `eos_token_id`:151645 for open-end generation.\n"
          ]
        },
        {
          "output_type": "stream",
          "name": "stdout",
          "text": [
            "  ✔ prompt1: infer_img() full-res ok\n",
            " Saved results to /content/drive/MyDrive/RQ1_Experiments/results/InternVL3-8B/RQ1_InternVL3-8B_8B_country_L3_prompt1_r1.json\n",
            "\n",
            "  ➤ [prompt2] prompt:\n",
            "You are a cultural anthropologist viewing street visuals. Given that mural in image is located in Africa, give these four pieces of info:\n",
            "\n",
            "- COUNTRY (choose exactly one: Nigeria, South Africa, Sudan, Seychelles, Comoros, Cape Verde, Mozambique, Rwanda, Botswana)\n",
            "- LABEL (choose exactly one: political expression / vandalism / decoration / cultural identity / advertisement)\n",
            "- CONFIDENCE (0–100%)\n",
            "- TOP CUE (2–3 sentences describing the key visual/cultural cue)\n",
            "\n",
            "Be concise and calibrate CONFIDENCE to how strongly the visual cues support your claims.\n",
            "\n"
          ]
        },
        {
          "output_type": "stream",
          "name": "stderr",
          "text": [
            "Setting `pad_token_id` to `eos_token_id`:151645 for open-end generation.\n"
          ]
        },
        {
          "output_type": "stream",
          "name": "stdout",
          "text": [
            "  ✔ prompt2: infer_img() full-res ok\n",
            " Saved results to /content/drive/MyDrive/RQ1_Experiments/results/InternVL3-8B/RQ1_InternVL3-8B_8B_country_L3_prompt2_r1.json\n",
            "\n",
            "  ➤ [prompt3] prompt:\n",
            "Moderate a brief debate among a Geographer, a Street Artist, and a Museum Curator about this image, assuming it originates from Africa. For each expert, give:\n",
            "\n",
            "- ROLE: <role name>\n",
            "- COUNTRY (choose exactly one: Nigeria, South Africa, Sudan, Seychelles, Comoros, Cape Verde, Mozambique, Rwanda, Botswana)\n",
            "- LABEL (political expression / vandalism / decoration / cultural identity / advertisement)\n",
            "- SHORT_RATIONALE (one concise sentence)\n",
            "\n",
            "After the three positions, write a 2-paragraph moderator resolution:\n",
            "1) Compare the three rationales and state which COUNTRY and LABEL you choose and why (trade-offs).\n",
            "2) List 2 visual cues that were decisive and mention one alternative explanation you rejected.\n",
            "\n",
            "Finish with: COUNTRY and LABEL (each on its own line).\n",
            "\n"
          ]
        },
        {
          "output_type": "stream",
          "name": "stderr",
          "text": [
            "Setting `pad_token_id` to `eos_token_id`:151645 for open-end generation.\n"
          ]
        },
        {
          "output_type": "stream",
          "name": "stdout",
          "text": [
            "  ✔ prompt3: infer_img() full-res ok\n",
            " Saved results to /content/drive/MyDrive/RQ1_Experiments/results/InternVL3-8B/RQ1_InternVL3-8B_8B_country_L3_prompt3_r1.json\n",
            "\n",
            "  ➤ [prompt4] prompt:\n",
            "You are a cultural anthropologist & artist. Given that mural in image is located in Africa, provide:\n",
            "\n",
            "- COUNTRY: two most likely countries (choose from: Nigeria, South Africa, Sudan, Seychelles, Comoros, Cape Verde, Mozambique, Rwanda, Botswana) with percentages (sum ≈100), e.g. \"\"Iceland: 70%, Russia: 30%\"\"\n",
            "- WHY COUNTRY: 2–3 sentences explaining how visual cues suggest the chosen countries .\n",
            "\n",
            "- LABEL: choose from (political expression, vandalism, decoration, cultural identity, advertisement) and also assign probabilities for all five labels (sum ≈100)\n",
            "- WHY LABEL: 2–3 sentences linking cues to chosen label.\n",
            "\n",
            "- TOP CUES: list three concrete cues that were decisive (1–6 words each)\n",
            "- BIAS NOTE: 2–3 sentences reflecting how cultural bias might have affected the probability estimates.\n",
            "\n",
            "Constraints:\n",
            "- Avoid equal continent splits (e.g. 50/50). Show one as more likely.\n",
            "- Keep WHY COUNTRY and WHY LABEL tied to visible evidence (colors, symbols, technique, location clues etc).\n",
            "\n",
            "  ✔ prompt4: infer_img() full-res ok\n",
            " Saved results to /content/drive/MyDrive/RQ1_Experiments/results/InternVL3-8B/RQ1_InternVL3-8B_8B_country_L3_prompt4_r1.json\n",
            "\n",
            "------------------------------------------------------\n",
            "\n",
            "Processing 51/360: /content/drive/MyDrive/RQ1_Experiments/RQ1_Data_Batch1/Africa/Sudan/Africa_Sudan_SS3_TOP.PNG\n",
            "\n",
            "  ➤ [prompt1] prompt:\n",
            "Assume the image is from Africa. Analyze it and answer two things:\n",
            "\n",
            "1) Which country is this most likely from? (choose from Nigeria, South Africa, Sudan, Seychelles, Comoros, Cape Verde, Mozambique, Rwanda, Botswana)\n",
            "\n",
            "2) What is the most suitable label: political expression, vandalism, decoration, cultural identity, or advertisement?\n",
            "\n"
          ]
        },
        {
          "output_type": "stream",
          "name": "stderr",
          "text": [
            "Setting `pad_token_id` to `eos_token_id`:151645 for open-end generation.\n",
            "Setting `pad_token_id` to `eos_token_id`:151645 for open-end generation.\n"
          ]
        },
        {
          "output_type": "stream",
          "name": "stdout",
          "text": [
            "  ✔ prompt1: infer_img() full-res ok\n",
            " Saved results to /content/drive/MyDrive/RQ1_Experiments/results/InternVL3-8B/RQ1_InternVL3-8B_8B_country_L3_prompt1_r1.json\n",
            "\n",
            "  ➤ [prompt2] prompt:\n",
            "You are a cultural anthropologist viewing street visuals. Given that mural in image is located in Africa, give these four pieces of info:\n",
            "\n",
            "- COUNTRY (choose exactly one: Nigeria, South Africa, Sudan, Seychelles, Comoros, Cape Verde, Mozambique, Rwanda, Botswana)\n",
            "- LABEL (choose exactly one: political expression / vandalism / decoration / cultural identity / advertisement)\n",
            "- CONFIDENCE (0–100%)\n",
            "- TOP CUE (2–3 sentences describing the key visual/cultural cue)\n",
            "\n",
            "Be concise and calibrate CONFIDENCE to how strongly the visual cues support your claims.\n",
            "\n"
          ]
        },
        {
          "output_type": "stream",
          "name": "stderr",
          "text": [
            "Setting `pad_token_id` to `eos_token_id`:151645 for open-end generation.\n"
          ]
        },
        {
          "output_type": "stream",
          "name": "stdout",
          "text": [
            "  ✔ prompt2: infer_img() full-res ok\n",
            " Saved results to /content/drive/MyDrive/RQ1_Experiments/results/InternVL3-8B/RQ1_InternVL3-8B_8B_country_L3_prompt2_r1.json\n",
            "\n",
            "  ➤ [prompt3] prompt:\n",
            "Moderate a brief debate among a Geographer, a Street Artist, and a Museum Curator about this image, assuming it originates from Africa. For each expert, give:\n",
            "\n",
            "- ROLE: <role name>\n",
            "- COUNTRY (choose exactly one: Nigeria, South Africa, Sudan, Seychelles, Comoros, Cape Verde, Mozambique, Rwanda, Botswana)\n",
            "- LABEL (political expression / vandalism / decoration / cultural identity / advertisement)\n",
            "- SHORT_RATIONALE (one concise sentence)\n",
            "\n",
            "After the three positions, write a 2-paragraph moderator resolution:\n",
            "1) Compare the three rationales and state which COUNTRY and LABEL you choose and why (trade-offs).\n",
            "2) List 2 visual cues that were decisive and mention one alternative explanation you rejected.\n",
            "\n",
            "Finish with: COUNTRY and LABEL (each on its own line).\n",
            "\n"
          ]
        },
        {
          "output_type": "stream",
          "name": "stderr",
          "text": [
            "Setting `pad_token_id` to `eos_token_id`:151645 for open-end generation.\n"
          ]
        },
        {
          "output_type": "stream",
          "name": "stdout",
          "text": [
            "  ✔ prompt3: infer_img() full-res ok\n",
            " Saved results to /content/drive/MyDrive/RQ1_Experiments/results/InternVL3-8B/RQ1_InternVL3-8B_8B_country_L3_prompt3_r1.json\n",
            "\n",
            "  ➤ [prompt4] prompt:\n",
            "You are a cultural anthropologist & artist. Given that mural in image is located in Africa, provide:\n",
            "\n",
            "- COUNTRY: two most likely countries (choose from: Nigeria, South Africa, Sudan, Seychelles, Comoros, Cape Verde, Mozambique, Rwanda, Botswana) with percentages (sum ≈100), e.g. \"\"Iceland: 70%, Russia: 30%\"\"\n",
            "- WHY COUNTRY: 2–3 sentences explaining how visual cues suggest the chosen countries .\n",
            "\n",
            "- LABEL: choose from (political expression, vandalism, decoration, cultural identity, advertisement) and also assign probabilities for all five labels (sum ≈100)\n",
            "- WHY LABEL: 2–3 sentences linking cues to chosen label.\n",
            "\n",
            "- TOP CUES: list three concrete cues that were decisive (1–6 words each)\n",
            "- BIAS NOTE: 2–3 sentences reflecting how cultural bias might have affected the probability estimates.\n",
            "\n",
            "Constraints:\n",
            "- Avoid equal continent splits (e.g. 50/50). Show one as more likely.\n",
            "- Keep WHY COUNTRY and WHY LABEL tied to visible evidence (colors, symbols, technique, location clues etc).\n",
            "\n",
            "  ✔ prompt4: infer_img() full-res ok\n",
            " Saved results to /content/drive/MyDrive/RQ1_Experiments/results/InternVL3-8B/RQ1_InternVL3-8B_8B_country_L3_prompt4_r1.json\n",
            "\n",
            "------------------------------------------------------\n",
            "\n",
            "Processing 52/360: /content/drive/MyDrive/RQ1_Experiments/RQ1_Data_Batch1/Africa/Sudan/Africa_Sudan_SS4_TOP.png\n",
            "\n",
            "  ➤ [prompt1] prompt:\n",
            "Assume the image is from Africa. Analyze it and answer two things:\n",
            "\n",
            "1) Which country is this most likely from? (choose from Nigeria, South Africa, Sudan, Seychelles, Comoros, Cape Verde, Mozambique, Rwanda, Botswana)\n",
            "\n",
            "2) What is the most suitable label: political expression, vandalism, decoration, cultural identity, or advertisement?\n",
            "\n"
          ]
        },
        {
          "output_type": "stream",
          "name": "stderr",
          "text": [
            "Setting `pad_token_id` to `eos_token_id`:151645 for open-end generation.\n",
            "Setting `pad_token_id` to `eos_token_id`:151645 for open-end generation.\n"
          ]
        },
        {
          "output_type": "stream",
          "name": "stdout",
          "text": [
            "  ✔ prompt1: infer_img() full-res ok\n",
            " Saved results to /content/drive/MyDrive/RQ1_Experiments/results/InternVL3-8B/RQ1_InternVL3-8B_8B_country_L3_prompt1_r1.json\n",
            "\n",
            "  ➤ [prompt2] prompt:\n",
            "You are a cultural anthropologist viewing street visuals. Given that mural in image is located in Africa, give these four pieces of info:\n",
            "\n",
            "- COUNTRY (choose exactly one: Nigeria, South Africa, Sudan, Seychelles, Comoros, Cape Verde, Mozambique, Rwanda, Botswana)\n",
            "- LABEL (choose exactly one: political expression / vandalism / decoration / cultural identity / advertisement)\n",
            "- CONFIDENCE (0–100%)\n",
            "- TOP CUE (2–3 sentences describing the key visual/cultural cue)\n",
            "\n",
            "Be concise and calibrate CONFIDENCE to how strongly the visual cues support your claims.\n",
            "\n"
          ]
        },
        {
          "output_type": "stream",
          "name": "stderr",
          "text": [
            "Setting `pad_token_id` to `eos_token_id`:151645 for open-end generation.\n"
          ]
        },
        {
          "output_type": "stream",
          "name": "stdout",
          "text": [
            "  ✔ prompt2: infer_img() full-res ok\n",
            " Saved results to /content/drive/MyDrive/RQ1_Experiments/results/InternVL3-8B/RQ1_InternVL3-8B_8B_country_L3_prompt2_r1.json\n",
            "\n",
            "  ➤ [prompt3] prompt:\n",
            "Moderate a brief debate among a Geographer, a Street Artist, and a Museum Curator about this image, assuming it originates from Africa. For each expert, give:\n",
            "\n",
            "- ROLE: <role name>\n",
            "- COUNTRY (choose exactly one: Nigeria, South Africa, Sudan, Seychelles, Comoros, Cape Verde, Mozambique, Rwanda, Botswana)\n",
            "- LABEL (political expression / vandalism / decoration / cultural identity / advertisement)\n",
            "- SHORT_RATIONALE (one concise sentence)\n",
            "\n",
            "After the three positions, write a 2-paragraph moderator resolution:\n",
            "1) Compare the three rationales and state which COUNTRY and LABEL you choose and why (trade-offs).\n",
            "2) List 2 visual cues that were decisive and mention one alternative explanation you rejected.\n",
            "\n",
            "Finish with: COUNTRY and LABEL (each on its own line).\n",
            "\n"
          ]
        },
        {
          "output_type": "stream",
          "name": "stderr",
          "text": [
            "Setting `pad_token_id` to `eos_token_id`:151645 for open-end generation.\n"
          ]
        },
        {
          "output_type": "stream",
          "name": "stdout",
          "text": [
            "  ✔ prompt3: infer_img() full-res ok\n",
            " Saved results to /content/drive/MyDrive/RQ1_Experiments/results/InternVL3-8B/RQ1_InternVL3-8B_8B_country_L3_prompt3_r1.json\n",
            "\n",
            "  ➤ [prompt4] prompt:\n",
            "You are a cultural anthropologist & artist. Given that mural in image is located in Africa, provide:\n",
            "\n",
            "- COUNTRY: two most likely countries (choose from: Nigeria, South Africa, Sudan, Seychelles, Comoros, Cape Verde, Mozambique, Rwanda, Botswana) with percentages (sum ≈100), e.g. \"\"Iceland: 70%, Russia: 30%\"\"\n",
            "- WHY COUNTRY: 2–3 sentences explaining how visual cues suggest the chosen countries .\n",
            "\n",
            "- LABEL: choose from (political expression, vandalism, decoration, cultural identity, advertisement) and also assign probabilities for all five labels (sum ≈100)\n",
            "- WHY LABEL: 2–3 sentences linking cues to chosen label.\n",
            "\n",
            "- TOP CUES: list three concrete cues that were decisive (1–6 words each)\n",
            "- BIAS NOTE: 2–3 sentences reflecting how cultural bias might have affected the probability estimates.\n",
            "\n",
            "Constraints:\n",
            "- Avoid equal continent splits (e.g. 50/50). Show one as more likely.\n",
            "- Keep WHY COUNTRY and WHY LABEL tied to visible evidence (colors, symbols, technique, location clues etc).\n",
            "\n",
            "  ✔ prompt4: infer_img() full-res ok\n",
            " Saved results to /content/drive/MyDrive/RQ1_Experiments/results/InternVL3-8B/RQ1_InternVL3-8B_8B_country_L3_prompt4_r1.json\n",
            "\n",
            "------------------------------------------------------\n",
            "\n",
            "Processing 53/360: /content/drive/MyDrive/RQ1_Experiments/RQ1_Data_Batch1/Africa/Sudan/Africa_Sudan_SUDRTT_TOP.png\n",
            "\n",
            "  ➤ [prompt1] prompt:\n",
            "Assume the image is from Africa. Analyze it and answer two things:\n",
            "\n",
            "1) Which country is this most likely from? (choose from Nigeria, South Africa, Sudan, Seychelles, Comoros, Cape Verde, Mozambique, Rwanda, Botswana)\n",
            "\n",
            "2) What is the most suitable label: political expression, vandalism, decoration, cultural identity, or advertisement?\n",
            "\n"
          ]
        },
        {
          "output_type": "stream",
          "name": "stderr",
          "text": [
            "Setting `pad_token_id` to `eos_token_id`:151645 for open-end generation.\n",
            "Setting `pad_token_id` to `eos_token_id`:151645 for open-end generation.\n"
          ]
        },
        {
          "output_type": "stream",
          "name": "stdout",
          "text": [
            "  ✔ prompt1: infer_img() full-res ok\n",
            " Saved results to /content/drive/MyDrive/RQ1_Experiments/results/InternVL3-8B/RQ1_InternVL3-8B_8B_country_L3_prompt1_r1.json\n",
            "\n",
            "  ➤ [prompt2] prompt:\n",
            "You are a cultural anthropologist viewing street visuals. Given that mural in image is located in Africa, give these four pieces of info:\n",
            "\n",
            "- COUNTRY (choose exactly one: Nigeria, South Africa, Sudan, Seychelles, Comoros, Cape Verde, Mozambique, Rwanda, Botswana)\n",
            "- LABEL (choose exactly one: political expression / vandalism / decoration / cultural identity / advertisement)\n",
            "- CONFIDENCE (0–100%)\n",
            "- TOP CUE (2–3 sentences describing the key visual/cultural cue)\n",
            "\n",
            "Be concise and calibrate CONFIDENCE to how strongly the visual cues support your claims.\n",
            "\n"
          ]
        },
        {
          "output_type": "stream",
          "name": "stderr",
          "text": [
            "Setting `pad_token_id` to `eos_token_id`:151645 for open-end generation.\n"
          ]
        },
        {
          "output_type": "stream",
          "name": "stdout",
          "text": [
            "  ✔ prompt2: infer_img() full-res ok\n",
            " Saved results to /content/drive/MyDrive/RQ1_Experiments/results/InternVL3-8B/RQ1_InternVL3-8B_8B_country_L3_prompt2_r1.json\n",
            "\n",
            "  ➤ [prompt3] prompt:\n",
            "Moderate a brief debate among a Geographer, a Street Artist, and a Museum Curator about this image, assuming it originates from Africa. For each expert, give:\n",
            "\n",
            "- ROLE: <role name>\n",
            "- COUNTRY (choose exactly one: Nigeria, South Africa, Sudan, Seychelles, Comoros, Cape Verde, Mozambique, Rwanda, Botswana)\n",
            "- LABEL (political expression / vandalism / decoration / cultural identity / advertisement)\n",
            "- SHORT_RATIONALE (one concise sentence)\n",
            "\n",
            "After the three positions, write a 2-paragraph moderator resolution:\n",
            "1) Compare the three rationales and state which COUNTRY and LABEL you choose and why (trade-offs).\n",
            "2) List 2 visual cues that were decisive and mention one alternative explanation you rejected.\n",
            "\n",
            "Finish with: COUNTRY and LABEL (each on its own line).\n",
            "\n"
          ]
        },
        {
          "output_type": "stream",
          "name": "stderr",
          "text": [
            "Setting `pad_token_id` to `eos_token_id`:151645 for open-end generation.\n"
          ]
        },
        {
          "output_type": "stream",
          "name": "stdout",
          "text": [
            "  ✔ prompt3: infer_img() full-res ok\n",
            " Saved results to /content/drive/MyDrive/RQ1_Experiments/results/InternVL3-8B/RQ1_InternVL3-8B_8B_country_L3_prompt3_r1.json\n",
            "\n",
            "  ➤ [prompt4] prompt:\n",
            "You are a cultural anthropologist & artist. Given that mural in image is located in Africa, provide:\n",
            "\n",
            "- COUNTRY: two most likely countries (choose from: Nigeria, South Africa, Sudan, Seychelles, Comoros, Cape Verde, Mozambique, Rwanda, Botswana) with percentages (sum ≈100), e.g. \"\"Iceland: 70%, Russia: 30%\"\"\n",
            "- WHY COUNTRY: 2–3 sentences explaining how visual cues suggest the chosen countries .\n",
            "\n",
            "- LABEL: choose from (political expression, vandalism, decoration, cultural identity, advertisement) and also assign probabilities for all five labels (sum ≈100)\n",
            "- WHY LABEL: 2–3 sentences linking cues to chosen label.\n",
            "\n",
            "- TOP CUES: list three concrete cues that were decisive (1–6 words each)\n",
            "- BIAS NOTE: 2–3 sentences reflecting how cultural bias might have affected the probability estimates.\n",
            "\n",
            "Constraints:\n",
            "- Avoid equal continent splits (e.g. 50/50). Show one as more likely.\n",
            "- Keep WHY COUNTRY and WHY LABEL tied to visible evidence (colors, symbols, technique, location clues etc).\n",
            "\n",
            "  ✔ prompt4: infer_img() full-res ok\n",
            " Saved results to /content/drive/MyDrive/RQ1_Experiments/results/InternVL3-8B/RQ1_InternVL3-8B_8B_country_L3_prompt4_r1.json\n",
            "\n",
            "------------------------------------------------------\n",
            "\n",
            "Processing 54/360: /content/drive/MyDrive/RQ1_Experiments/RQ1_Data_Batch1/Africa/Sudan/Africa_Sudan_SUGHH_TOP.png\n",
            "\n",
            "  ➤ [prompt1] prompt:\n",
            "Assume the image is from Africa. Analyze it and answer two things:\n",
            "\n",
            "1) Which country is this most likely from? (choose from Nigeria, South Africa, Sudan, Seychelles, Comoros, Cape Verde, Mozambique, Rwanda, Botswana)\n",
            "\n",
            "2) What is the most suitable label: political expression, vandalism, decoration, cultural identity, or advertisement?\n",
            "\n"
          ]
        },
        {
          "output_type": "stream",
          "name": "stderr",
          "text": [
            "Setting `pad_token_id` to `eos_token_id`:151645 for open-end generation.\n",
            "Setting `pad_token_id` to `eos_token_id`:151645 for open-end generation.\n"
          ]
        },
        {
          "output_type": "stream",
          "name": "stdout",
          "text": [
            "  ✔ prompt1: infer_img() full-res ok\n",
            " Saved results to /content/drive/MyDrive/RQ1_Experiments/results/InternVL3-8B/RQ1_InternVL3-8B_8B_country_L3_prompt1_r1.json\n",
            "\n",
            "  ➤ [prompt2] prompt:\n",
            "You are a cultural anthropologist viewing street visuals. Given that mural in image is located in Africa, give these four pieces of info:\n",
            "\n",
            "- COUNTRY (choose exactly one: Nigeria, South Africa, Sudan, Seychelles, Comoros, Cape Verde, Mozambique, Rwanda, Botswana)\n",
            "- LABEL (choose exactly one: political expression / vandalism / decoration / cultural identity / advertisement)\n",
            "- CONFIDENCE (0–100%)\n",
            "- TOP CUE (2–3 sentences describing the key visual/cultural cue)\n",
            "\n",
            "Be concise and calibrate CONFIDENCE to how strongly the visual cues support your claims.\n",
            "\n"
          ]
        },
        {
          "output_type": "stream",
          "name": "stderr",
          "text": [
            "Setting `pad_token_id` to `eos_token_id`:151645 for open-end generation.\n"
          ]
        },
        {
          "output_type": "stream",
          "name": "stdout",
          "text": [
            "  ✔ prompt2: infer_img() full-res ok\n",
            " Saved results to /content/drive/MyDrive/RQ1_Experiments/results/InternVL3-8B/RQ1_InternVL3-8B_8B_country_L3_prompt2_r1.json\n",
            "\n",
            "  ➤ [prompt3] prompt:\n",
            "Moderate a brief debate among a Geographer, a Street Artist, and a Museum Curator about this image, assuming it originates from Africa. For each expert, give:\n",
            "\n",
            "- ROLE: <role name>\n",
            "- COUNTRY (choose exactly one: Nigeria, South Africa, Sudan, Seychelles, Comoros, Cape Verde, Mozambique, Rwanda, Botswana)\n",
            "- LABEL (political expression / vandalism / decoration / cultural identity / advertisement)\n",
            "- SHORT_RATIONALE (one concise sentence)\n",
            "\n",
            "After the three positions, write a 2-paragraph moderator resolution:\n",
            "1) Compare the three rationales and state which COUNTRY and LABEL you choose and why (trade-offs).\n",
            "2) List 2 visual cues that were decisive and mention one alternative explanation you rejected.\n",
            "\n",
            "Finish with: COUNTRY and LABEL (each on its own line).\n",
            "\n"
          ]
        },
        {
          "output_type": "stream",
          "name": "stderr",
          "text": [
            "Setting `pad_token_id` to `eos_token_id`:151645 for open-end generation.\n"
          ]
        },
        {
          "output_type": "stream",
          "name": "stdout",
          "text": [
            "  ✔ prompt3: infer_img() full-res ok\n",
            " Saved results to /content/drive/MyDrive/RQ1_Experiments/results/InternVL3-8B/RQ1_InternVL3-8B_8B_country_L3_prompt3_r1.json\n",
            "\n",
            "  ➤ [prompt4] prompt:\n",
            "You are a cultural anthropologist & artist. Given that mural in image is located in Africa, provide:\n",
            "\n",
            "- COUNTRY: two most likely countries (choose from: Nigeria, South Africa, Sudan, Seychelles, Comoros, Cape Verde, Mozambique, Rwanda, Botswana) with percentages (sum ≈100), e.g. \"\"Iceland: 70%, Russia: 30%\"\"\n",
            "- WHY COUNTRY: 2–3 sentences explaining how visual cues suggest the chosen countries .\n",
            "\n",
            "- LABEL: choose from (political expression, vandalism, decoration, cultural identity, advertisement) and also assign probabilities for all five labels (sum ≈100)\n",
            "- WHY LABEL: 2–3 sentences linking cues to chosen label.\n",
            "\n",
            "- TOP CUES: list three concrete cues that were decisive (1–6 words each)\n",
            "- BIAS NOTE: 2–3 sentences reflecting how cultural bias might have affected the probability estimates.\n",
            "\n",
            "Constraints:\n",
            "- Avoid equal continent splits (e.g. 50/50). Show one as more likely.\n",
            "- Keep WHY COUNTRY and WHY LABEL tied to visible evidence (colors, symbols, technique, location clues etc).\n",
            "\n",
            "  ✔ prompt4: infer_img() full-res ok\n",
            " Saved results to /content/drive/MyDrive/RQ1_Experiments/results/InternVL3-8B/RQ1_InternVL3-8B_8B_country_L3_prompt4_r1.json\n",
            "\n",
            "------------------------------------------------------\n",
            "\n",
            "Processing 55/360: /content/drive/MyDrive/RQ1_Experiments/RQ1_Data_Batch1/Africa/Sudan/Africa_Sudan_SUKII_TOP.png\n",
            "\n",
            "  ➤ [prompt1] prompt:\n",
            "Assume the image is from Africa. Analyze it and answer two things:\n",
            "\n",
            "1) Which country is this most likely from? (choose from Nigeria, South Africa, Sudan, Seychelles, Comoros, Cape Verde, Mozambique, Rwanda, Botswana)\n",
            "\n",
            "2) What is the most suitable label: political expression, vandalism, decoration, cultural identity, or advertisement?\n",
            "\n"
          ]
        },
        {
          "output_type": "stream",
          "name": "stderr",
          "text": [
            "Setting `pad_token_id` to `eos_token_id`:151645 for open-end generation.\n",
            "Setting `pad_token_id` to `eos_token_id`:151645 for open-end generation.\n"
          ]
        },
        {
          "output_type": "stream",
          "name": "stdout",
          "text": [
            "  ✔ prompt1: infer_img() full-res ok\n",
            " Saved results to /content/drive/MyDrive/RQ1_Experiments/results/InternVL3-8B/RQ1_InternVL3-8B_8B_country_L3_prompt1_r1.json\n",
            "\n",
            "  ➤ [prompt2] prompt:\n",
            "You are a cultural anthropologist viewing street visuals. Given that mural in image is located in Africa, give these four pieces of info:\n",
            "\n",
            "- COUNTRY (choose exactly one: Nigeria, South Africa, Sudan, Seychelles, Comoros, Cape Verde, Mozambique, Rwanda, Botswana)\n",
            "- LABEL (choose exactly one: political expression / vandalism / decoration / cultural identity / advertisement)\n",
            "- CONFIDENCE (0–100%)\n",
            "- TOP CUE (2–3 sentences describing the key visual/cultural cue)\n",
            "\n",
            "Be concise and calibrate CONFIDENCE to how strongly the visual cues support your claims.\n",
            "\n"
          ]
        },
        {
          "output_type": "stream",
          "name": "stderr",
          "text": [
            "Setting `pad_token_id` to `eos_token_id`:151645 for open-end generation.\n"
          ]
        },
        {
          "output_type": "stream",
          "name": "stdout",
          "text": [
            "  ✔ prompt2: infer_img() full-res ok\n",
            " Saved results to /content/drive/MyDrive/RQ1_Experiments/results/InternVL3-8B/RQ1_InternVL3-8B_8B_country_L3_prompt2_r1.json\n",
            "\n",
            "  ➤ [prompt3] prompt:\n",
            "Moderate a brief debate among a Geographer, a Street Artist, and a Museum Curator about this image, assuming it originates from Africa. For each expert, give:\n",
            "\n",
            "- ROLE: <role name>\n",
            "- COUNTRY (choose exactly one: Nigeria, South Africa, Sudan, Seychelles, Comoros, Cape Verde, Mozambique, Rwanda, Botswana)\n",
            "- LABEL (political expression / vandalism / decoration / cultural identity / advertisement)\n",
            "- SHORT_RATIONALE (one concise sentence)\n",
            "\n",
            "After the three positions, write a 2-paragraph moderator resolution:\n",
            "1) Compare the three rationales and state which COUNTRY and LABEL you choose and why (trade-offs).\n",
            "2) List 2 visual cues that were decisive and mention one alternative explanation you rejected.\n",
            "\n",
            "Finish with: COUNTRY and LABEL (each on its own line).\n",
            "\n"
          ]
        },
        {
          "output_type": "stream",
          "name": "stderr",
          "text": [
            "Setting `pad_token_id` to `eos_token_id`:151645 for open-end generation.\n"
          ]
        },
        {
          "output_type": "stream",
          "name": "stdout",
          "text": [
            "  ✔ prompt3: infer_img() full-res ok\n",
            " Saved results to /content/drive/MyDrive/RQ1_Experiments/results/InternVL3-8B/RQ1_InternVL3-8B_8B_country_L3_prompt3_r1.json\n",
            "\n",
            "  ➤ [prompt4] prompt:\n",
            "You are a cultural anthropologist & artist. Given that mural in image is located in Africa, provide:\n",
            "\n",
            "- COUNTRY: two most likely countries (choose from: Nigeria, South Africa, Sudan, Seychelles, Comoros, Cape Verde, Mozambique, Rwanda, Botswana) with percentages (sum ≈100), e.g. \"\"Iceland: 70%, Russia: 30%\"\"\n",
            "- WHY COUNTRY: 2–3 sentences explaining how visual cues suggest the chosen countries .\n",
            "\n",
            "- LABEL: choose from (political expression, vandalism, decoration, cultural identity, advertisement) and also assign probabilities for all five labels (sum ≈100)\n",
            "- WHY LABEL: 2–3 sentences linking cues to chosen label.\n",
            "\n",
            "- TOP CUES: list three concrete cues that were decisive (1–6 words each)\n",
            "- BIAS NOTE: 2–3 sentences reflecting how cultural bias might have affected the probability estimates.\n",
            "\n",
            "Constraints:\n",
            "- Avoid equal continent splits (e.g. 50/50). Show one as more likely.\n",
            "- Keep WHY COUNTRY and WHY LABEL tied to visible evidence (colors, symbols, technique, location clues etc).\n",
            "\n",
            "  ✔ prompt4: infer_img() full-res ok\n",
            " Saved results to /content/drive/MyDrive/RQ1_Experiments/results/InternVL3-8B/RQ1_InternVL3-8B_8B_country_L3_prompt4_r1.json\n",
            "\n",
            "------------------------------------------------------\n",
            "\n",
            "Processing 56/360: /content/drive/MyDrive/RQ1_Experiments/RQ1_Data_Batch1/Africa/Sudan/Africa_Sudan_SUTI_TOP.png\n",
            "\n",
            "  ➤ [prompt1] prompt:\n",
            "Assume the image is from Africa. Analyze it and answer two things:\n",
            "\n",
            "1) Which country is this most likely from? (choose from Nigeria, South Africa, Sudan, Seychelles, Comoros, Cape Verde, Mozambique, Rwanda, Botswana)\n",
            "\n",
            "2) What is the most suitable label: political expression, vandalism, decoration, cultural identity, or advertisement?\n",
            "\n"
          ]
        },
        {
          "output_type": "stream",
          "name": "stderr",
          "text": [
            "Setting `pad_token_id` to `eos_token_id`:151645 for open-end generation.\n",
            "Setting `pad_token_id` to `eos_token_id`:151645 for open-end generation.\n"
          ]
        },
        {
          "output_type": "stream",
          "name": "stdout",
          "text": [
            "  ✔ prompt1: infer_img() full-res ok\n",
            " Saved results to /content/drive/MyDrive/RQ1_Experiments/results/InternVL3-8B/RQ1_InternVL3-8B_8B_country_L3_prompt1_r1.json\n",
            "\n",
            "  ➤ [prompt2] prompt:\n",
            "You are a cultural anthropologist viewing street visuals. Given that mural in image is located in Africa, give these four pieces of info:\n",
            "\n",
            "- COUNTRY (choose exactly one: Nigeria, South Africa, Sudan, Seychelles, Comoros, Cape Verde, Mozambique, Rwanda, Botswana)\n",
            "- LABEL (choose exactly one: political expression / vandalism / decoration / cultural identity / advertisement)\n",
            "- CONFIDENCE (0–100%)\n",
            "- TOP CUE (2–3 sentences describing the key visual/cultural cue)\n",
            "\n",
            "Be concise and calibrate CONFIDENCE to how strongly the visual cues support your claims.\n",
            "\n"
          ]
        },
        {
          "output_type": "stream",
          "name": "stderr",
          "text": [
            "Setting `pad_token_id` to `eos_token_id`:151645 for open-end generation.\n"
          ]
        },
        {
          "output_type": "stream",
          "name": "stdout",
          "text": [
            "  ✔ prompt2: infer_img() full-res ok\n",
            " Saved results to /content/drive/MyDrive/RQ1_Experiments/results/InternVL3-8B/RQ1_InternVL3-8B_8B_country_L3_prompt2_r1.json\n",
            "\n",
            "  ➤ [prompt3] prompt:\n",
            "Moderate a brief debate among a Geographer, a Street Artist, and a Museum Curator about this image, assuming it originates from Africa. For each expert, give:\n",
            "\n",
            "- ROLE: <role name>\n",
            "- COUNTRY (choose exactly one: Nigeria, South Africa, Sudan, Seychelles, Comoros, Cape Verde, Mozambique, Rwanda, Botswana)\n",
            "- LABEL (political expression / vandalism / decoration / cultural identity / advertisement)\n",
            "- SHORT_RATIONALE (one concise sentence)\n",
            "\n",
            "After the three positions, write a 2-paragraph moderator resolution:\n",
            "1) Compare the three rationales and state which COUNTRY and LABEL you choose and why (trade-offs).\n",
            "2) List 2 visual cues that were decisive and mention one alternative explanation you rejected.\n",
            "\n",
            "Finish with: COUNTRY and LABEL (each on its own line).\n",
            "\n"
          ]
        },
        {
          "output_type": "stream",
          "name": "stderr",
          "text": [
            "Setting `pad_token_id` to `eos_token_id`:151645 for open-end generation.\n"
          ]
        },
        {
          "output_type": "stream",
          "name": "stdout",
          "text": [
            "  ✔ prompt3: infer_img() full-res ok\n",
            " Saved results to /content/drive/MyDrive/RQ1_Experiments/results/InternVL3-8B/RQ1_InternVL3-8B_8B_country_L3_prompt3_r1.json\n",
            "\n",
            "  ➤ [prompt4] prompt:\n",
            "You are a cultural anthropologist & artist. Given that mural in image is located in Africa, provide:\n",
            "\n",
            "- COUNTRY: two most likely countries (choose from: Nigeria, South Africa, Sudan, Seychelles, Comoros, Cape Verde, Mozambique, Rwanda, Botswana) with percentages (sum ≈100), e.g. \"\"Iceland: 70%, Russia: 30%\"\"\n",
            "- WHY COUNTRY: 2–3 sentences explaining how visual cues suggest the chosen countries .\n",
            "\n",
            "- LABEL: choose from (political expression, vandalism, decoration, cultural identity, advertisement) and also assign probabilities for all five labels (sum ≈100)\n",
            "- WHY LABEL: 2–3 sentences linking cues to chosen label.\n",
            "\n",
            "- TOP CUES: list three concrete cues that were decisive (1–6 words each)\n",
            "- BIAS NOTE: 2–3 sentences reflecting how cultural bias might have affected the probability estimates.\n",
            "\n",
            "Constraints:\n",
            "- Avoid equal continent splits (e.g. 50/50). Show one as more likely.\n",
            "- Keep WHY COUNTRY and WHY LABEL tied to visible evidence (colors, symbols, technique, location clues etc).\n",
            "\n",
            "  ✔ prompt4: infer_img() full-res ok\n",
            " Saved results to /content/drive/MyDrive/RQ1_Experiments/results/InternVL3-8B/RQ1_InternVL3-8B_8B_country_L3_prompt4_r1.json\n",
            "\n",
            "------------------------------------------------------\n",
            "\n",
            "Processing 57/360: /content/drive/MyDrive/RQ1_Experiments/RQ1_Data_Batch1/Africa/Zimbabwe/Africa_Zimbabwe_ZIM1_MIDDLE.png\n",
            "\n",
            "  ➤ [prompt1] prompt:\n",
            "Assume the image is from Africa. Analyze it and answer two things:\n",
            "\n",
            "1) Which country is this most likely from? (choose from Nigeria, South Africa, Egypt, Seychelles, Comoros, Zimbabwe, Mozambique, Rwanda, Botswana)\n",
            "\n",
            "2) What is the most suitable label: political expression, vandalism, decoration, cultural identity, or advertisement?\n",
            "\n"
          ]
        },
        {
          "output_type": "stream",
          "name": "stderr",
          "text": [
            "Setting `pad_token_id` to `eos_token_id`:151645 for open-end generation.\n",
            "Setting `pad_token_id` to `eos_token_id`:151645 for open-end generation.\n"
          ]
        },
        {
          "output_type": "stream",
          "name": "stdout",
          "text": [
            "  ✔ prompt1: infer_img() full-res ok\n",
            " Saved results to /content/drive/MyDrive/RQ1_Experiments/results/InternVL3-8B/RQ1_InternVL3-8B_8B_country_L3_prompt1_r1.json\n",
            "\n",
            "  ➤ [prompt2] prompt:\n",
            "You are a cultural anthropologist viewing street visuals. Given that mural in image is located in Africa, give these four pieces of info:\n",
            "\n",
            "- COUNTRY (choose exactly one: Nigeria, South Africa, Egypt, Seychelles, Comoros, Zimbabwe, Mozambique, Rwanda, Botswana)\n",
            "- LABEL (choose exactly one: political expression / vandalism / decoration / cultural identity / advertisement)\n",
            "- CONFIDENCE (0–100%)\n",
            "- TOP CUE (2–3 sentences describing the key visual/cultural cue)\n",
            "\n",
            "Be concise and calibrate CONFIDENCE to how strongly the visual cues support your claims.\n",
            "\n"
          ]
        },
        {
          "output_type": "stream",
          "name": "stderr",
          "text": [
            "Setting `pad_token_id` to `eos_token_id`:151645 for open-end generation.\n"
          ]
        },
        {
          "output_type": "stream",
          "name": "stdout",
          "text": [
            "  ✔ prompt2: infer_img() full-res ok\n",
            " Saved results to /content/drive/MyDrive/RQ1_Experiments/results/InternVL3-8B/RQ1_InternVL3-8B_8B_country_L3_prompt2_r1.json\n",
            "\n",
            "  ➤ [prompt3] prompt:\n",
            "Moderate a brief debate among a Geographer, a Street Artist, and a Museum Curator about this image, assuming it originates from Africa. For each expert, give:\n",
            "\n",
            "- ROLE: <role name>\n",
            "- COUNTRY (choose exactly one: Nigeria, South Africa, Egypt, Seychelles, Comoros, Zimbabwe, Mozambique, Rwanda, Botswana)\n",
            "- LABEL (political expression / vandalism / decoration / cultural identity / advertisement)\n",
            "- SHORT_RATIONALE (one concise sentence)\n",
            "\n",
            "After the three positions, write a 2-paragraph moderator resolution:\n",
            "1) Compare the three rationales and state which COUNTRY and LABEL you choose and why (trade-offs).\n",
            "2) List 2 visual cues that were decisive and mention one alternative explanation you rejected.\n",
            "\n",
            "Finish with: COUNTRY and LABEL (each on its own line).\n",
            "\n"
          ]
        },
        {
          "output_type": "stream",
          "name": "stderr",
          "text": [
            "Setting `pad_token_id` to `eos_token_id`:151645 for open-end generation.\n"
          ]
        },
        {
          "output_type": "stream",
          "name": "stdout",
          "text": [
            "  ✔ prompt3: infer_img() full-res ok\n",
            " Saved results to /content/drive/MyDrive/RQ1_Experiments/results/InternVL3-8B/RQ1_InternVL3-8B_8B_country_L3_prompt3_r1.json\n",
            "\n",
            "  ➤ [prompt4] prompt:\n",
            "You are a cultural anthropologist & artist. Given that mural in image is located in Africa, provide:\n",
            "\n",
            "- COUNTRY: two most likely countries (choose from: Nigeria, South Africa, Egypt, Seychelles, Comoros, Zimbabwe, Mozambique, Rwanda, Botswana) with percentages (sum ≈100), e.g. \"\"Iceland: 70%, Russia: 30%\"\"\n",
            "- WHY COUNTRY: 2–3 sentences explaining how visual cues suggest the chosen countries .\n",
            "\n",
            "- LABEL: choose from (political expression, vandalism, decoration, cultural identity, advertisement) and also assign probabilities for all five labels (sum ≈100)\n",
            "- WHY LABEL: 2–3 sentences linking cues to chosen label.\n",
            "\n",
            "- TOP CUES: list three concrete cues that were decisive (1–6 words each)\n",
            "- BIAS NOTE: 2–3 sentences reflecting how cultural bias might have affected the probability estimates.\n",
            "\n",
            "Constraints:\n",
            "- Avoid equal continent splits (e.g. 50/50). Show one as more likely.\n",
            "- Keep WHY COUNTRY and WHY LABEL tied to visible evidence (colors, symbols, technique, location clues etc).\n",
            "\n",
            "  ✔ prompt4: infer_img() full-res ok\n",
            " Saved results to /content/drive/MyDrive/RQ1_Experiments/results/InternVL3-8B/RQ1_InternVL3-8B_8B_country_L3_prompt4_r1.json\n",
            "\n",
            "------------------------------------------------------\n",
            "\n",
            "Processing 58/360: /content/drive/MyDrive/RQ1_Experiments/RQ1_Data_Batch1/Africa/Zimbabwe/Africa_Zimbabwe_ZIM2_MIDDLE.png\n",
            "\n",
            "  ➤ [prompt1] prompt:\n",
            "Assume the image is from Africa. Analyze it and answer two things:\n",
            "\n",
            "1) Which country is this most likely from? (choose from Nigeria, South Africa, Egypt, Seychelles, Comoros, Zimbabwe, Mozambique, Rwanda, Botswana)\n",
            "\n",
            "2) What is the most suitable label: political expression, vandalism, decoration, cultural identity, or advertisement?\n",
            "\n"
          ]
        },
        {
          "output_type": "stream",
          "name": "stderr",
          "text": [
            "Setting `pad_token_id` to `eos_token_id`:151645 for open-end generation.\n",
            "Setting `pad_token_id` to `eos_token_id`:151645 for open-end generation.\n"
          ]
        },
        {
          "output_type": "stream",
          "name": "stdout",
          "text": [
            "  ✔ prompt1: infer_img() full-res ok\n",
            " Saved results to /content/drive/MyDrive/RQ1_Experiments/results/InternVL3-8B/RQ1_InternVL3-8B_8B_country_L3_prompt1_r1.json\n",
            "\n",
            "  ➤ [prompt2] prompt:\n",
            "You are a cultural anthropologist viewing street visuals. Given that mural in image is located in Africa, give these four pieces of info:\n",
            "\n",
            "- COUNTRY (choose exactly one: Nigeria, South Africa, Egypt, Seychelles, Comoros, Zimbabwe, Mozambique, Rwanda, Botswana)\n",
            "- LABEL (choose exactly one: political expression / vandalism / decoration / cultural identity / advertisement)\n",
            "- CONFIDENCE (0–100%)\n",
            "- TOP CUE (2–3 sentences describing the key visual/cultural cue)\n",
            "\n",
            "Be concise and calibrate CONFIDENCE to how strongly the visual cues support your claims.\n",
            "\n"
          ]
        },
        {
          "output_type": "stream",
          "name": "stderr",
          "text": [
            "Setting `pad_token_id` to `eos_token_id`:151645 for open-end generation.\n"
          ]
        },
        {
          "output_type": "stream",
          "name": "stdout",
          "text": [
            "  ✔ prompt2: infer_img() full-res ok\n",
            " Saved results to /content/drive/MyDrive/RQ1_Experiments/results/InternVL3-8B/RQ1_InternVL3-8B_8B_country_L3_prompt2_r1.json\n",
            "\n",
            "  ➤ [prompt3] prompt:\n",
            "Moderate a brief debate among a Geographer, a Street Artist, and a Museum Curator about this image, assuming it originates from Africa. For each expert, give:\n",
            "\n",
            "- ROLE: <role name>\n",
            "- COUNTRY (choose exactly one: Nigeria, South Africa, Egypt, Seychelles, Comoros, Zimbabwe, Mozambique, Rwanda, Botswana)\n",
            "- LABEL (political expression / vandalism / decoration / cultural identity / advertisement)\n",
            "- SHORT_RATIONALE (one concise sentence)\n",
            "\n",
            "After the three positions, write a 2-paragraph moderator resolution:\n",
            "1) Compare the three rationales and state which COUNTRY and LABEL you choose and why (trade-offs).\n",
            "2) List 2 visual cues that were decisive and mention one alternative explanation you rejected.\n",
            "\n",
            "Finish with: COUNTRY and LABEL (each on its own line).\n",
            "\n"
          ]
        },
        {
          "output_type": "stream",
          "name": "stderr",
          "text": [
            "Setting `pad_token_id` to `eos_token_id`:151645 for open-end generation.\n"
          ]
        },
        {
          "output_type": "stream",
          "name": "stdout",
          "text": [
            "  ✔ prompt3: infer_img() full-res ok\n",
            " Saved results to /content/drive/MyDrive/RQ1_Experiments/results/InternVL3-8B/RQ1_InternVL3-8B_8B_country_L3_prompt3_r1.json\n",
            "\n",
            "  ➤ [prompt4] prompt:\n",
            "You are a cultural anthropologist & artist. Given that mural in image is located in Africa, provide:\n",
            "\n",
            "- COUNTRY: two most likely countries (choose from: Nigeria, South Africa, Egypt, Seychelles, Comoros, Zimbabwe, Mozambique, Rwanda, Botswana) with percentages (sum ≈100), e.g. \"\"Iceland: 70%, Russia: 30%\"\"\n",
            "- WHY COUNTRY: 2–3 sentences explaining how visual cues suggest the chosen countries .\n",
            "\n",
            "- LABEL: choose from (political expression, vandalism, decoration, cultural identity, advertisement) and also assign probabilities for all five labels (sum ≈100)\n",
            "- WHY LABEL: 2–3 sentences linking cues to chosen label.\n",
            "\n",
            "- TOP CUES: list three concrete cues that were decisive (1–6 words each)\n",
            "- BIAS NOTE: 2–3 sentences reflecting how cultural bias might have affected the probability estimates.\n",
            "\n",
            "Constraints:\n",
            "- Avoid equal continent splits (e.g. 50/50). Show one as more likely.\n",
            "- Keep WHY COUNTRY and WHY LABEL tied to visible evidence (colors, symbols, technique, location clues etc).\n",
            "\n",
            "  ✔ prompt4: infer_img() full-res ok\n",
            " Saved results to /content/drive/MyDrive/RQ1_Experiments/results/InternVL3-8B/RQ1_InternVL3-8B_8B_country_L3_prompt4_r1.json\n",
            "\n",
            "------------------------------------------------------\n",
            "\n",
            "Processing 59/360: /content/drive/MyDrive/RQ1_Experiments/RQ1_Data_Batch1/Africa/Zimbabwe/Africa_Zimbabwe_ZIM3_MIDDLE.png\n",
            "\n",
            "  ➤ [prompt1] prompt:\n",
            "Assume the image is from Africa. Analyze it and answer two things:\n",
            "\n",
            "1) Which country is this most likely from? (choose from Nigeria, South Africa, Egypt, Seychelles, Comoros, Zimbabwe, Mozambique, Rwanda, Botswana)\n",
            "\n",
            "2) What is the most suitable label: political expression, vandalism, decoration, cultural identity, or advertisement?\n",
            "\n"
          ]
        },
        {
          "output_type": "stream",
          "name": "stderr",
          "text": [
            "Setting `pad_token_id` to `eos_token_id`:151645 for open-end generation.\n",
            "Setting `pad_token_id` to `eos_token_id`:151645 for open-end generation.\n"
          ]
        },
        {
          "output_type": "stream",
          "name": "stdout",
          "text": [
            "  ✔ prompt1: infer_img() full-res ok\n",
            " Saved results to /content/drive/MyDrive/RQ1_Experiments/results/InternVL3-8B/RQ1_InternVL3-8B_8B_country_L3_prompt1_r1.json\n",
            "\n",
            "  ➤ [prompt2] prompt:\n",
            "You are a cultural anthropologist viewing street visuals. Given that mural in image is located in Africa, give these four pieces of info:\n",
            "\n",
            "- COUNTRY (choose exactly one: Nigeria, South Africa, Egypt, Seychelles, Comoros, Zimbabwe, Mozambique, Rwanda, Botswana)\n",
            "- LABEL (choose exactly one: political expression / vandalism / decoration / cultural identity / advertisement)\n",
            "- CONFIDENCE (0–100%)\n",
            "- TOP CUE (2–3 sentences describing the key visual/cultural cue)\n",
            "\n",
            "Be concise and calibrate CONFIDENCE to how strongly the visual cues support your claims.\n",
            "\n"
          ]
        },
        {
          "output_type": "stream",
          "name": "stderr",
          "text": [
            "Setting `pad_token_id` to `eos_token_id`:151645 for open-end generation.\n"
          ]
        },
        {
          "output_type": "stream",
          "name": "stdout",
          "text": [
            "  ✔ prompt2: infer_img() full-res ok\n",
            " Saved results to /content/drive/MyDrive/RQ1_Experiments/results/InternVL3-8B/RQ1_InternVL3-8B_8B_country_L3_prompt2_r1.json\n",
            "\n",
            "  ➤ [prompt3] prompt:\n",
            "Moderate a brief debate among a Geographer, a Street Artist, and a Museum Curator about this image, assuming it originates from Africa. For each expert, give:\n",
            "\n",
            "- ROLE: <role name>\n",
            "- COUNTRY (choose exactly one: Nigeria, South Africa, Egypt, Seychelles, Comoros, Zimbabwe, Mozambique, Rwanda, Botswana)\n",
            "- LABEL (political expression / vandalism / decoration / cultural identity / advertisement)\n",
            "- SHORT_RATIONALE (one concise sentence)\n",
            "\n",
            "After the three positions, write a 2-paragraph moderator resolution:\n",
            "1) Compare the three rationales and state which COUNTRY and LABEL you choose and why (trade-offs).\n",
            "2) List 2 visual cues that were decisive and mention one alternative explanation you rejected.\n",
            "\n",
            "Finish with: COUNTRY and LABEL (each on its own line).\n",
            "\n"
          ]
        },
        {
          "output_type": "stream",
          "name": "stderr",
          "text": [
            "Setting `pad_token_id` to `eos_token_id`:151645 for open-end generation.\n"
          ]
        },
        {
          "output_type": "stream",
          "name": "stdout",
          "text": [
            "  ✔ prompt3: infer_img() full-res ok\n",
            " Saved results to /content/drive/MyDrive/RQ1_Experiments/results/InternVL3-8B/RQ1_InternVL3-8B_8B_country_L3_prompt3_r1.json\n",
            "\n",
            "  ➤ [prompt4] prompt:\n",
            "You are a cultural anthropologist & artist. Given that mural in image is located in Africa, provide:\n",
            "\n",
            "- COUNTRY: two most likely countries (choose from: Nigeria, South Africa, Egypt, Seychelles, Comoros, Zimbabwe, Mozambique, Rwanda, Botswana) with percentages (sum ≈100), e.g. \"\"Iceland: 70%, Russia: 30%\"\"\n",
            "- WHY COUNTRY: 2–3 sentences explaining how visual cues suggest the chosen countries .\n",
            "\n",
            "- LABEL: choose from (political expression, vandalism, decoration, cultural identity, advertisement) and also assign probabilities for all five labels (sum ≈100)\n",
            "- WHY LABEL: 2–3 sentences linking cues to chosen label.\n",
            "\n",
            "- TOP CUES: list three concrete cues that were decisive (1–6 words each)\n",
            "- BIAS NOTE: 2–3 sentences reflecting how cultural bias might have affected the probability estimates.\n",
            "\n",
            "Constraints:\n",
            "- Avoid equal continent splits (e.g. 50/50). Show one as more likely.\n",
            "- Keep WHY COUNTRY and WHY LABEL tied to visible evidence (colors, symbols, technique, location clues etc).\n",
            "\n",
            "  ✔ prompt4: infer_img() full-res ok\n",
            " Saved results to /content/drive/MyDrive/RQ1_Experiments/results/InternVL3-8B/RQ1_InternVL3-8B_8B_country_L3_prompt4_r1.json\n",
            "\n",
            "------------------------------------------------------\n",
            "\n",
            "Processing 60/360: /content/drive/MyDrive/RQ1_Experiments/RQ1_Data_Batch1/Africa/Zimbabwe/Africa_Zimbabwe_ZIM4_MIDDLE.png\n",
            "\n",
            "  ➤ [prompt1] prompt:\n",
            "Assume the image is from Africa. Analyze it and answer two things:\n",
            "\n",
            "1) Which country is this most likely from? (choose from Nigeria, South Africa, Egypt, Seychelles, Comoros, Zimbabwe, Mozambique, Rwanda, Botswana)\n",
            "\n",
            "2) What is the most suitable label: political expression, vandalism, decoration, cultural identity, or advertisement?\n",
            "\n"
          ]
        },
        {
          "output_type": "stream",
          "name": "stderr",
          "text": [
            "Setting `pad_token_id` to `eos_token_id`:151645 for open-end generation.\n",
            "Setting `pad_token_id` to `eos_token_id`:151645 for open-end generation.\n"
          ]
        },
        {
          "output_type": "stream",
          "name": "stdout",
          "text": [
            "  ✔ prompt1: infer_img() full-res ok\n",
            " Saved results to /content/drive/MyDrive/RQ1_Experiments/results/InternVL3-8B/RQ1_InternVL3-8B_8B_country_L3_prompt1_r1.json\n",
            "\n",
            "  ➤ [prompt2] prompt:\n",
            "You are a cultural anthropologist viewing street visuals. Given that mural in image is located in Africa, give these four pieces of info:\n",
            "\n",
            "- COUNTRY (choose exactly one: Nigeria, South Africa, Egypt, Seychelles, Comoros, Zimbabwe, Mozambique, Rwanda, Botswana)\n",
            "- LABEL (choose exactly one: political expression / vandalism / decoration / cultural identity / advertisement)\n",
            "- CONFIDENCE (0–100%)\n",
            "- TOP CUE (2–3 sentences describing the key visual/cultural cue)\n",
            "\n",
            "Be concise and calibrate CONFIDENCE to how strongly the visual cues support your claims.\n",
            "\n"
          ]
        },
        {
          "output_type": "stream",
          "name": "stderr",
          "text": [
            "Setting `pad_token_id` to `eos_token_id`:151645 for open-end generation.\n"
          ]
        },
        {
          "output_type": "stream",
          "name": "stdout",
          "text": [
            "  ✔ prompt2: infer_img() full-res ok\n",
            " Saved results to /content/drive/MyDrive/RQ1_Experiments/results/InternVL3-8B/RQ1_InternVL3-8B_8B_country_L3_prompt2_r1.json\n",
            "\n",
            "  ➤ [prompt3] prompt:\n",
            "Moderate a brief debate among a Geographer, a Street Artist, and a Museum Curator about this image, assuming it originates from Africa. For each expert, give:\n",
            "\n",
            "- ROLE: <role name>\n",
            "- COUNTRY (choose exactly one: Nigeria, South Africa, Egypt, Seychelles, Comoros, Zimbabwe, Mozambique, Rwanda, Botswana)\n",
            "- LABEL (political expression / vandalism / decoration / cultural identity / advertisement)\n",
            "- SHORT_RATIONALE (one concise sentence)\n",
            "\n",
            "After the three positions, write a 2-paragraph moderator resolution:\n",
            "1) Compare the three rationales and state which COUNTRY and LABEL you choose and why (trade-offs).\n",
            "2) List 2 visual cues that were decisive and mention one alternative explanation you rejected.\n",
            "\n",
            "Finish with: COUNTRY and LABEL (each on its own line).\n",
            "\n"
          ]
        },
        {
          "output_type": "stream",
          "name": "stderr",
          "text": [
            "Setting `pad_token_id` to `eos_token_id`:151645 for open-end generation.\n"
          ]
        },
        {
          "output_type": "stream",
          "name": "stdout",
          "text": [
            "  ✔ prompt3: infer_img() full-res ok\n",
            " Saved results to /content/drive/MyDrive/RQ1_Experiments/results/InternVL3-8B/RQ1_InternVL3-8B_8B_country_L3_prompt3_r1.json\n",
            "\n",
            "  ➤ [prompt4] prompt:\n",
            "You are a cultural anthropologist & artist. Given that mural in image is located in Africa, provide:\n",
            "\n",
            "- COUNTRY: two most likely countries (choose from: Nigeria, South Africa, Egypt, Seychelles, Comoros, Zimbabwe, Mozambique, Rwanda, Botswana) with percentages (sum ≈100), e.g. \"\"Iceland: 70%, Russia: 30%\"\"\n",
            "- WHY COUNTRY: 2–3 sentences explaining how visual cues suggest the chosen countries .\n",
            "\n",
            "- LABEL: choose from (political expression, vandalism, decoration, cultural identity, advertisement) and also assign probabilities for all five labels (sum ≈100)\n",
            "- WHY LABEL: 2–3 sentences linking cues to chosen label.\n",
            "\n",
            "- TOP CUES: list three concrete cues that were decisive (1–6 words each)\n",
            "- BIAS NOTE: 2–3 sentences reflecting how cultural bias might have affected the probability estimates.\n",
            "\n",
            "Constraints:\n",
            "- Avoid equal continent splits (e.g. 50/50). Show one as more likely.\n",
            "- Keep WHY COUNTRY and WHY LABEL tied to visible evidence (colors, symbols, technique, location clues etc).\n",
            "\n",
            "  ✔ prompt4: infer_img() full-res ok\n",
            " Saved results to /content/drive/MyDrive/RQ1_Experiments/results/InternVL3-8B/RQ1_InternVL3-8B_8B_country_L3_prompt4_r1.json\n",
            "\n",
            "------------------------------------------------------\n",
            "\n",
            "Processing 61/360: /content/drive/MyDrive/RQ1_Experiments/RQ1_Data_Batch1/Asia/Azerbaijan/Asia_Azerbaijan_AJ1_MIDDLE.jpg\n",
            "\n",
            "  ➤ [prompt1] prompt:\n",
            "Assume the image is from Asia. Analyze it and answer two things:\n",
            "\n",
            "1) Which country is this most likely from? (choose from China, India, Indonesia, United Arab Emirates, Singapore, Azerbaijan, Timor-Leste, Maldives, Brunei)\n",
            "\n",
            "2) What is the most suitable label: political expression, vandalism, decoration, cultural identity, or advertisement?\n",
            "\n"
          ]
        },
        {
          "output_type": "stream",
          "name": "stderr",
          "text": [
            "Setting `pad_token_id` to `eos_token_id`:151645 for open-end generation.\n",
            "Setting `pad_token_id` to `eos_token_id`:151645 for open-end generation.\n"
          ]
        },
        {
          "output_type": "stream",
          "name": "stdout",
          "text": [
            "  ✔ prompt1: infer_img() full-res ok\n",
            " Saved results to /content/drive/MyDrive/RQ1_Experiments/results/InternVL3-8B/RQ1_InternVL3-8B_8B_country_L3_prompt1_r1.json\n",
            "\n",
            "  ➤ [prompt2] prompt:\n",
            "You are a cultural anthropologist viewing street visuals. Given that mural in image is located in Asia, give these four pieces of info:\n",
            "\n",
            "- COUNTRY (choose exactly one: China, India, Indonesia, United Arab Emirates, Singapore, Azerbaijan, Timor-Leste, Maldives, Brunei)\n",
            "- LABEL (choose exactly one: political expression / vandalism / decoration / cultural identity / advertisement)\n",
            "- CONFIDENCE (0–100%)\n",
            "- TOP CUE (2–3 sentences describing the key visual/cultural cue)\n",
            "\n",
            "Be concise and calibrate CONFIDENCE to how strongly the visual cues support your claims.\n",
            "\n"
          ]
        },
        {
          "output_type": "stream",
          "name": "stderr",
          "text": [
            "Setting `pad_token_id` to `eos_token_id`:151645 for open-end generation.\n"
          ]
        },
        {
          "output_type": "stream",
          "name": "stdout",
          "text": [
            "  ✔ prompt2: infer_img() full-res ok\n",
            " Saved results to /content/drive/MyDrive/RQ1_Experiments/results/InternVL3-8B/RQ1_InternVL3-8B_8B_country_L3_prompt2_r1.json\n",
            "\n",
            "  ➤ [prompt3] prompt:\n",
            "Moderate a brief debate among a Geographer, a Street Artist, and a Museum Curator about this image, assuming it originates from Asia. For each expert, give:\n",
            "\n",
            "- ROLE: <role name>\n",
            "- COUNTRY (choose exactly one: China, India, Indonesia, United Arab Emirates, Singapore, Azerbaijan, Timor-Leste, Maldives, Brunei)\n",
            "- LABEL (political expression / vandalism / decoration / cultural identity / advertisement)\n",
            "- SHORT_RATIONALE (one concise sentence)\n",
            "\n",
            "After the three positions, write a 2-paragraph moderator resolution:\n",
            "1) Compare the three rationales and state which COUNTRY and LABEL you choose and why (trade-offs).\n",
            "2) List 2 visual cues that were decisive and mention one alternative explanation you rejected.\n",
            "\n",
            "Finish with: COUNTRY and LABEL (each on its own line).\n",
            "\n"
          ]
        },
        {
          "output_type": "stream",
          "name": "stderr",
          "text": [
            "Setting `pad_token_id` to `eos_token_id`:151645 for open-end generation.\n"
          ]
        },
        {
          "output_type": "stream",
          "name": "stdout",
          "text": [
            "  ✔ prompt3: infer_img() full-res ok\n",
            " Saved results to /content/drive/MyDrive/RQ1_Experiments/results/InternVL3-8B/RQ1_InternVL3-8B_8B_country_L3_prompt3_r1.json\n",
            "\n",
            "  ➤ [prompt4] prompt:\n",
            "You are a cultural anthropologist & artist. Given that mural in image is located in Asia, provide:\n",
            "\n",
            "- COUNTRY: two most likely countries (choose from: China, India, Indonesia, United Arab Emirates, Singapore, Azerbaijan, Timor-Leste, Maldives, Brunei) with percentages (sum ≈100), e.g. \"\"Iceland: 70%, Russia: 30%\"\"\n",
            "- WHY COUNTRY: 2–3 sentences explaining how visual cues suggest the chosen countries .\n",
            "\n",
            "- LABEL: choose from (political expression, vandalism, decoration, cultural identity, advertisement) and also assign probabilities for all five labels (sum ≈100)\n",
            "- WHY LABEL: 2–3 sentences linking cues to chosen label.\n",
            "\n",
            "- TOP CUES: list three concrete cues that were decisive (1–6 words each)\n",
            "- BIAS NOTE: 2–3 sentences reflecting how cultural bias might have affected the probability estimates.\n",
            "\n",
            "Constraints:\n",
            "- Avoid equal continent splits (e.g. 50/50). Show one as more likely.\n",
            "- Keep WHY COUNTRY and WHY LABEL tied to visible evidence (colors, symbols, technique, location clues etc).\n",
            "\n",
            "  ✔ prompt4: infer_img() full-res ok\n",
            " Saved results to /content/drive/MyDrive/RQ1_Experiments/results/InternVL3-8B/RQ1_InternVL3-8B_8B_country_L3_prompt4_r1.json\n",
            "\n",
            "------------------------------------------------------\n",
            "\n",
            "Processing 62/360: /content/drive/MyDrive/RQ1_Experiments/RQ1_Data_Batch1/Asia/Azerbaijan/Asia_Azerbaijan_AJ2_MIDDLE.jpg\n",
            "\n",
            "  ➤ [prompt1] prompt:\n",
            "Assume the image is from Asia. Analyze it and answer two things:\n",
            "\n",
            "1) Which country is this most likely from? (choose from China, India, Indonesia, United Arab Emirates, Singapore, Azerbaijan, Timor-Leste, Maldives, Brunei)\n",
            "\n",
            "2) What is the most suitable label: political expression, vandalism, decoration, cultural identity, or advertisement?\n",
            "\n"
          ]
        },
        {
          "output_type": "stream",
          "name": "stderr",
          "text": [
            "Setting `pad_token_id` to `eos_token_id`:151645 for open-end generation.\n",
            "Setting `pad_token_id` to `eos_token_id`:151645 for open-end generation.\n"
          ]
        },
        {
          "output_type": "stream",
          "name": "stdout",
          "text": [
            "  ✔ prompt1: infer_img() full-res ok\n",
            " Saved results to /content/drive/MyDrive/RQ1_Experiments/results/InternVL3-8B/RQ1_InternVL3-8B_8B_country_L3_prompt1_r1.json\n",
            "\n",
            "  ➤ [prompt2] prompt:\n",
            "You are a cultural anthropologist viewing street visuals. Given that mural in image is located in Asia, give these four pieces of info:\n",
            "\n",
            "- COUNTRY (choose exactly one: China, India, Indonesia, United Arab Emirates, Singapore, Azerbaijan, Timor-Leste, Maldives, Brunei)\n",
            "- LABEL (choose exactly one: political expression / vandalism / decoration / cultural identity / advertisement)\n",
            "- CONFIDENCE (0–100%)\n",
            "- TOP CUE (2–3 sentences describing the key visual/cultural cue)\n",
            "\n",
            "Be concise and calibrate CONFIDENCE to how strongly the visual cues support your claims.\n",
            "\n"
          ]
        },
        {
          "output_type": "stream",
          "name": "stderr",
          "text": [
            "Setting `pad_token_id` to `eos_token_id`:151645 for open-end generation.\n"
          ]
        },
        {
          "output_type": "stream",
          "name": "stdout",
          "text": [
            "  ✔ prompt2: infer_img() full-res ok\n",
            " Saved results to /content/drive/MyDrive/RQ1_Experiments/results/InternVL3-8B/RQ1_InternVL3-8B_8B_country_L3_prompt2_r1.json\n",
            "\n",
            "  ➤ [prompt3] prompt:\n",
            "Moderate a brief debate among a Geographer, a Street Artist, and a Museum Curator about this image, assuming it originates from Asia. For each expert, give:\n",
            "\n",
            "- ROLE: <role name>\n",
            "- COUNTRY (choose exactly one: China, India, Indonesia, United Arab Emirates, Singapore, Azerbaijan, Timor-Leste, Maldives, Brunei)\n",
            "- LABEL (political expression / vandalism / decoration / cultural identity / advertisement)\n",
            "- SHORT_RATIONALE (one concise sentence)\n",
            "\n",
            "After the three positions, write a 2-paragraph moderator resolution:\n",
            "1) Compare the three rationales and state which COUNTRY and LABEL you choose and why (trade-offs).\n",
            "2) List 2 visual cues that were decisive and mention one alternative explanation you rejected.\n",
            "\n",
            "Finish with: COUNTRY and LABEL (each on its own line).\n",
            "\n"
          ]
        },
        {
          "output_type": "stream",
          "name": "stderr",
          "text": [
            "Setting `pad_token_id` to `eos_token_id`:151645 for open-end generation.\n"
          ]
        },
        {
          "output_type": "stream",
          "name": "stdout",
          "text": [
            "  ✔ prompt3: infer_img() full-res ok\n",
            " Saved results to /content/drive/MyDrive/RQ1_Experiments/results/InternVL3-8B/RQ1_InternVL3-8B_8B_country_L3_prompt3_r1.json\n",
            "\n",
            "  ➤ [prompt4] prompt:\n",
            "You are a cultural anthropologist & artist. Given that mural in image is located in Asia, provide:\n",
            "\n",
            "- COUNTRY: two most likely countries (choose from: China, India, Indonesia, United Arab Emirates, Singapore, Azerbaijan, Timor-Leste, Maldives, Brunei) with percentages (sum ≈100), e.g. \"\"Iceland: 70%, Russia: 30%\"\"\n",
            "- WHY COUNTRY: 2–3 sentences explaining how visual cues suggest the chosen countries .\n",
            "\n",
            "- LABEL: choose from (political expression, vandalism, decoration, cultural identity, advertisement) and also assign probabilities for all five labels (sum ≈100)\n",
            "- WHY LABEL: 2–3 sentences linking cues to chosen label.\n",
            "\n",
            "- TOP CUES: list three concrete cues that were decisive (1–6 words each)\n",
            "- BIAS NOTE: 2–3 sentences reflecting how cultural bias might have affected the probability estimates.\n",
            "\n",
            "Constraints:\n",
            "- Avoid equal continent splits (e.g. 50/50). Show one as more likely.\n",
            "- Keep WHY COUNTRY and WHY LABEL tied to visible evidence (colors, symbols, technique, location clues etc).\n",
            "\n",
            "  ✔ prompt4: infer_img() full-res ok\n",
            " Saved results to /content/drive/MyDrive/RQ1_Experiments/results/InternVL3-8B/RQ1_InternVL3-8B_8B_country_L3_prompt4_r1.json\n",
            "\n",
            "------------------------------------------------------\n",
            "\n",
            "Processing 63/360: /content/drive/MyDrive/RQ1_Experiments/RQ1_Data_Batch1/Asia/Bhutan/Asia_Bhutan_BT1_LAST.jpg\n",
            "\n",
            "  ➤ [prompt1] prompt:\n",
            "Assume the image is from Asia. Analyze it and answer two things:\n",
            "\n",
            "1) Which country is this most likely from? (choose from China, India, Indonesia, United Arab Emirates, Singapore, Israel, Timor-Leste, Maldives, Bhutan)\n",
            "\n",
            "2) What is the most suitable label: political expression, vandalism, decoration, cultural identity, or advertisement?\n",
            "\n"
          ]
        },
        {
          "output_type": "stream",
          "name": "stderr",
          "text": [
            "Setting `pad_token_id` to `eos_token_id`:151645 for open-end generation.\n",
            "Setting `pad_token_id` to `eos_token_id`:151645 for open-end generation.\n"
          ]
        },
        {
          "output_type": "stream",
          "name": "stdout",
          "text": [
            "  ✔ prompt1: infer_img() full-res ok\n",
            " Saved results to /content/drive/MyDrive/RQ1_Experiments/results/InternVL3-8B/RQ1_InternVL3-8B_8B_country_L3_prompt1_r1.json\n",
            "\n",
            "  ➤ [prompt2] prompt:\n",
            "You are a cultural anthropologist viewing street visuals. Given that mural in image is located in Asia, give these four pieces of info:\n",
            "\n",
            "- COUNTRY (choose exactly one: China, India, Indonesia, United Arab Emirates, Singapore, Israel, Timor-Leste, Maldives, Bhutan)\n",
            "- LABEL (choose exactly one: political expression / vandalism / decoration / cultural identity / advertisement)\n",
            "- CONFIDENCE (0–100%)\n",
            "- TOP CUE (2–3 sentences describing the key visual/cultural cue)\n",
            "\n",
            "Be concise and calibrate CONFIDENCE to how strongly the visual cues support your claims.\n",
            "\n"
          ]
        },
        {
          "output_type": "stream",
          "name": "stderr",
          "text": [
            "Setting `pad_token_id` to `eos_token_id`:151645 for open-end generation.\n"
          ]
        },
        {
          "output_type": "stream",
          "name": "stdout",
          "text": [
            "  ✔ prompt2: infer_img() full-res ok\n",
            " Saved results to /content/drive/MyDrive/RQ1_Experiments/results/InternVL3-8B/RQ1_InternVL3-8B_8B_country_L3_prompt2_r1.json\n",
            "\n",
            "  ➤ [prompt3] prompt:\n",
            "Moderate a brief debate among a Geographer, a Street Artist, and a Museum Curator about this image, assuming it originates from Asia. For each expert, give:\n",
            "\n",
            "- ROLE: <role name>\n",
            "- COUNTRY (choose exactly one: China, India, Indonesia, United Arab Emirates, Singapore, Israel, Timor-Leste, Maldives, Bhutan)\n",
            "- LABEL (political expression / vandalism / decoration / cultural identity / advertisement)\n",
            "- SHORT_RATIONALE (one concise sentence)\n",
            "\n",
            "After the three positions, write a 2-paragraph moderator resolution:\n",
            "1) Compare the three rationales and state which COUNTRY and LABEL you choose and why (trade-offs).\n",
            "2) List 2 visual cues that were decisive and mention one alternative explanation you rejected.\n",
            "\n",
            "Finish with: COUNTRY and LABEL (each on its own line).\n",
            "\n"
          ]
        },
        {
          "output_type": "stream",
          "name": "stderr",
          "text": [
            "Setting `pad_token_id` to `eos_token_id`:151645 for open-end generation.\n"
          ]
        },
        {
          "output_type": "stream",
          "name": "stdout",
          "text": [
            "  ✔ prompt3: infer_img() full-res ok\n",
            " Saved results to /content/drive/MyDrive/RQ1_Experiments/results/InternVL3-8B/RQ1_InternVL3-8B_8B_country_L3_prompt3_r1.json\n",
            "\n",
            "  ➤ [prompt4] prompt:\n",
            "You are a cultural anthropologist & artist. Given that mural in image is located in Asia, provide:\n",
            "\n",
            "- COUNTRY: two most likely countries (choose from: China, India, Indonesia, United Arab Emirates, Singapore, Israel, Timor-Leste, Maldives, Bhutan) with percentages (sum ≈100), e.g. \"\"Iceland: 70%, Russia: 30%\"\"\n",
            "- WHY COUNTRY: 2–3 sentences explaining how visual cues suggest the chosen countries .\n",
            "\n",
            "- LABEL: choose from (political expression, vandalism, decoration, cultural identity, advertisement) and also assign probabilities for all five labels (sum ≈100)\n",
            "- WHY LABEL: 2–3 sentences linking cues to chosen label.\n",
            "\n",
            "- TOP CUES: list three concrete cues that were decisive (1–6 words each)\n",
            "- BIAS NOTE: 2–3 sentences reflecting how cultural bias might have affected the probability estimates.\n",
            "\n",
            "Constraints:\n",
            "- Avoid equal continent splits (e.g. 50/50). Show one as more likely.\n",
            "- Keep WHY COUNTRY and WHY LABEL tied to visible evidence (colors, symbols, technique, location clues etc).\n",
            "\n",
            "  ✔ prompt4: infer_img() full-res ok\n",
            " Saved results to /content/drive/MyDrive/RQ1_Experiments/results/InternVL3-8B/RQ1_InternVL3-8B_8B_country_L3_prompt4_r1.json\n",
            "\n",
            "------------------------------------------------------\n",
            "\n",
            "Processing 64/360: /content/drive/MyDrive/RQ1_Experiments/RQ1_Data_Batch1/Asia/Bhutan/Asia_Bhutan_BT2_LAST.jpg\n",
            "\n",
            "  ➤ [prompt1] prompt:\n",
            "Assume the image is from Asia. Analyze it and answer two things:\n",
            "\n",
            "1) Which country is this most likely from? (choose from China, India, Indonesia, United Arab Emirates, Singapore, Israel, Timor-Leste, Maldives, Bhutan)\n",
            "\n",
            "2) What is the most suitable label: political expression, vandalism, decoration, cultural identity, or advertisement?\n",
            "\n"
          ]
        },
        {
          "output_type": "stream",
          "name": "stderr",
          "text": [
            "Setting `pad_token_id` to `eos_token_id`:151645 for open-end generation.\n",
            "Setting `pad_token_id` to `eos_token_id`:151645 for open-end generation.\n"
          ]
        },
        {
          "output_type": "stream",
          "name": "stdout",
          "text": [
            "  ✔ prompt1: infer_img() full-res ok\n",
            " Saved results to /content/drive/MyDrive/RQ1_Experiments/results/InternVL3-8B/RQ1_InternVL3-8B_8B_country_L3_prompt1_r1.json\n",
            "\n",
            "  ➤ [prompt2] prompt:\n",
            "You are a cultural anthropologist viewing street visuals. Given that mural in image is located in Asia, give these four pieces of info:\n",
            "\n",
            "- COUNTRY (choose exactly one: China, India, Indonesia, United Arab Emirates, Singapore, Israel, Timor-Leste, Maldives, Bhutan)\n",
            "- LABEL (choose exactly one: political expression / vandalism / decoration / cultural identity / advertisement)\n",
            "- CONFIDENCE (0–100%)\n",
            "- TOP CUE (2–3 sentences describing the key visual/cultural cue)\n",
            "\n",
            "Be concise and calibrate CONFIDENCE to how strongly the visual cues support your claims.\n",
            "\n"
          ]
        },
        {
          "output_type": "stream",
          "name": "stderr",
          "text": [
            "Setting `pad_token_id` to `eos_token_id`:151645 for open-end generation.\n"
          ]
        },
        {
          "output_type": "stream",
          "name": "stdout",
          "text": [
            "  ✔ prompt2: infer_img() full-res ok\n",
            " Saved results to /content/drive/MyDrive/RQ1_Experiments/results/InternVL3-8B/RQ1_InternVL3-8B_8B_country_L3_prompt2_r1.json\n",
            "\n",
            "  ➤ [prompt3] prompt:\n",
            "Moderate a brief debate among a Geographer, a Street Artist, and a Museum Curator about this image, assuming it originates from Asia. For each expert, give:\n",
            "\n",
            "- ROLE: <role name>\n",
            "- COUNTRY (choose exactly one: China, India, Indonesia, United Arab Emirates, Singapore, Israel, Timor-Leste, Maldives, Bhutan)\n",
            "- LABEL (political expression / vandalism / decoration / cultural identity / advertisement)\n",
            "- SHORT_RATIONALE (one concise sentence)\n",
            "\n",
            "After the three positions, write a 2-paragraph moderator resolution:\n",
            "1) Compare the three rationales and state which COUNTRY and LABEL you choose and why (trade-offs).\n",
            "2) List 2 visual cues that were decisive and mention one alternative explanation you rejected.\n",
            "\n",
            "Finish with: COUNTRY and LABEL (each on its own line).\n",
            "\n"
          ]
        },
        {
          "output_type": "stream",
          "name": "stderr",
          "text": [
            "Setting `pad_token_id` to `eos_token_id`:151645 for open-end generation.\n"
          ]
        },
        {
          "output_type": "stream",
          "name": "stdout",
          "text": [
            "  ✔ prompt3: infer_img() full-res ok\n",
            " Saved results to /content/drive/MyDrive/RQ1_Experiments/results/InternVL3-8B/RQ1_InternVL3-8B_8B_country_L3_prompt3_r1.json\n",
            "\n",
            "  ➤ [prompt4] prompt:\n",
            "You are a cultural anthropologist & artist. Given that mural in image is located in Asia, provide:\n",
            "\n",
            "- COUNTRY: two most likely countries (choose from: China, India, Indonesia, United Arab Emirates, Singapore, Israel, Timor-Leste, Maldives, Bhutan) with percentages (sum ≈100), e.g. \"\"Iceland: 70%, Russia: 30%\"\"\n",
            "- WHY COUNTRY: 2–3 sentences explaining how visual cues suggest the chosen countries .\n",
            "\n",
            "- LABEL: choose from (political expression, vandalism, decoration, cultural identity, advertisement) and also assign probabilities for all five labels (sum ≈100)\n",
            "- WHY LABEL: 2–3 sentences linking cues to chosen label.\n",
            "\n",
            "- TOP CUES: list three concrete cues that were decisive (1–6 words each)\n",
            "- BIAS NOTE: 2–3 sentences reflecting how cultural bias might have affected the probability estimates.\n",
            "\n",
            "Constraints:\n",
            "- Avoid equal continent splits (e.g. 50/50). Show one as more likely.\n",
            "- Keep WHY COUNTRY and WHY LABEL tied to visible evidence (colors, symbols, technique, location clues etc).\n",
            "\n",
            "  ✔ prompt4: infer_img() full-res ok\n",
            " Saved results to /content/drive/MyDrive/RQ1_Experiments/results/InternVL3-8B/RQ1_InternVL3-8B_8B_country_L3_prompt4_r1.json\n",
            "\n",
            "------------------------------------------------------\n",
            "\n",
            "Processing 65/360: /content/drive/MyDrive/RQ1_Experiments/RQ1_Data_Batch1/Asia/Bhutan/Asia_Bhutan_BT3_LAST.JPG\n",
            "\n",
            "  ➤ [prompt1] prompt:\n",
            "Assume the image is from Asia. Analyze it and answer two things:\n",
            "\n",
            "1) Which country is this most likely from? (choose from China, India, Indonesia, United Arab Emirates, Singapore, Israel, Timor-Leste, Maldives, Bhutan)\n",
            "\n",
            "2) What is the most suitable label: political expression, vandalism, decoration, cultural identity, or advertisement?\n",
            "\n"
          ]
        },
        {
          "output_type": "stream",
          "name": "stderr",
          "text": [
            "Setting `pad_token_id` to `eos_token_id`:151645 for open-end generation.\n",
            "Setting `pad_token_id` to `eos_token_id`:151645 for open-end generation.\n"
          ]
        },
        {
          "output_type": "stream",
          "name": "stdout",
          "text": [
            "  ✔ prompt1: infer_img() full-res ok\n",
            " Saved results to /content/drive/MyDrive/RQ1_Experiments/results/InternVL3-8B/RQ1_InternVL3-8B_8B_country_L3_prompt1_r1.json\n",
            "\n",
            "  ➤ [prompt2] prompt:\n",
            "You are a cultural anthropologist viewing street visuals. Given that mural in image is located in Asia, give these four pieces of info:\n",
            "\n",
            "- COUNTRY (choose exactly one: China, India, Indonesia, United Arab Emirates, Singapore, Israel, Timor-Leste, Maldives, Bhutan)\n",
            "- LABEL (choose exactly one: political expression / vandalism / decoration / cultural identity / advertisement)\n",
            "- CONFIDENCE (0–100%)\n",
            "- TOP CUE (2–3 sentences describing the key visual/cultural cue)\n",
            "\n",
            "Be concise and calibrate CONFIDENCE to how strongly the visual cues support your claims.\n",
            "\n"
          ]
        },
        {
          "output_type": "stream",
          "name": "stderr",
          "text": [
            "Setting `pad_token_id` to `eos_token_id`:151645 for open-end generation.\n"
          ]
        },
        {
          "output_type": "stream",
          "name": "stdout",
          "text": [
            "  ✔ prompt2: infer_img() full-res ok\n",
            " Saved results to /content/drive/MyDrive/RQ1_Experiments/results/InternVL3-8B/RQ1_InternVL3-8B_8B_country_L3_prompt2_r1.json\n",
            "\n",
            "  ➤ [prompt3] prompt:\n",
            "Moderate a brief debate among a Geographer, a Street Artist, and a Museum Curator about this image, assuming it originates from Asia. For each expert, give:\n",
            "\n",
            "- ROLE: <role name>\n",
            "- COUNTRY (choose exactly one: China, India, Indonesia, United Arab Emirates, Singapore, Israel, Timor-Leste, Maldives, Bhutan)\n",
            "- LABEL (political expression / vandalism / decoration / cultural identity / advertisement)\n",
            "- SHORT_RATIONALE (one concise sentence)\n",
            "\n",
            "After the three positions, write a 2-paragraph moderator resolution:\n",
            "1) Compare the three rationales and state which COUNTRY and LABEL you choose and why (trade-offs).\n",
            "2) List 2 visual cues that were decisive and mention one alternative explanation you rejected.\n",
            "\n",
            "Finish with: COUNTRY and LABEL (each on its own line).\n",
            "\n"
          ]
        },
        {
          "output_type": "stream",
          "name": "stderr",
          "text": [
            "Setting `pad_token_id` to `eos_token_id`:151645 for open-end generation.\n"
          ]
        },
        {
          "output_type": "stream",
          "name": "stdout",
          "text": [
            "  ✔ prompt3: infer_img() full-res ok\n",
            " Saved results to /content/drive/MyDrive/RQ1_Experiments/results/InternVL3-8B/RQ1_InternVL3-8B_8B_country_L3_prompt3_r1.json\n",
            "\n",
            "  ➤ [prompt4] prompt:\n",
            "You are a cultural anthropologist & artist. Given that mural in image is located in Asia, provide:\n",
            "\n",
            "- COUNTRY: two most likely countries (choose from: China, India, Indonesia, United Arab Emirates, Singapore, Israel, Timor-Leste, Maldives, Bhutan) with percentages (sum ≈100), e.g. \"\"Iceland: 70%, Russia: 30%\"\"\n",
            "- WHY COUNTRY: 2–3 sentences explaining how visual cues suggest the chosen countries .\n",
            "\n",
            "- LABEL: choose from (political expression, vandalism, decoration, cultural identity, advertisement) and also assign probabilities for all five labels (sum ≈100)\n",
            "- WHY LABEL: 2–3 sentences linking cues to chosen label.\n",
            "\n",
            "- TOP CUES: list three concrete cues that were decisive (1–6 words each)\n",
            "- BIAS NOTE: 2–3 sentences reflecting how cultural bias might have affected the probability estimates.\n",
            "\n",
            "Constraints:\n",
            "- Avoid equal continent splits (e.g. 50/50). Show one as more likely.\n",
            "- Keep WHY COUNTRY and WHY LABEL tied to visible evidence (colors, symbols, technique, location clues etc).\n",
            "\n",
            "  ✔ prompt4: infer_img() full-res ok\n",
            " Saved results to /content/drive/MyDrive/RQ1_Experiments/results/InternVL3-8B/RQ1_InternVL3-8B_8B_country_L3_prompt4_r1.json\n",
            "\n",
            "------------------------------------------------------\n",
            "\n",
            "Processing 66/360: /content/drive/MyDrive/RQ1_Experiments/RQ1_Data_Batch1/Asia/Bhutan/Asia_Bhutan_BT4_LAST.jpg\n",
            "\n",
            "  ➤ [prompt1] prompt:\n",
            "Assume the image is from Asia. Analyze it and answer two things:\n",
            "\n",
            "1) Which country is this most likely from? (choose from China, India, Indonesia, United Arab Emirates, Singapore, Israel, Timor-Leste, Maldives, Bhutan)\n",
            "\n",
            "2) What is the most suitable label: political expression, vandalism, decoration, cultural identity, or advertisement?\n",
            "\n"
          ]
        },
        {
          "output_type": "stream",
          "name": "stderr",
          "text": [
            "Setting `pad_token_id` to `eos_token_id`:151645 for open-end generation.\n",
            "Setting `pad_token_id` to `eos_token_id`:151645 for open-end generation.\n"
          ]
        },
        {
          "output_type": "stream",
          "name": "stdout",
          "text": [
            "  ✔ prompt1: infer_img() full-res ok\n",
            " Saved results to /content/drive/MyDrive/RQ1_Experiments/results/InternVL3-8B/RQ1_InternVL3-8B_8B_country_L3_prompt1_r1.json\n",
            "\n",
            "  ➤ [prompt2] prompt:\n",
            "You are a cultural anthropologist viewing street visuals. Given that mural in image is located in Asia, give these four pieces of info:\n",
            "\n",
            "- COUNTRY (choose exactly one: China, India, Indonesia, United Arab Emirates, Singapore, Israel, Timor-Leste, Maldives, Bhutan)\n",
            "- LABEL (choose exactly one: political expression / vandalism / decoration / cultural identity / advertisement)\n",
            "- CONFIDENCE (0–100%)\n",
            "- TOP CUE (2–3 sentences describing the key visual/cultural cue)\n",
            "\n",
            "Be concise and calibrate CONFIDENCE to how strongly the visual cues support your claims.\n",
            "\n"
          ]
        },
        {
          "output_type": "stream",
          "name": "stderr",
          "text": [
            "Setting `pad_token_id` to `eos_token_id`:151645 for open-end generation.\n"
          ]
        },
        {
          "output_type": "stream",
          "name": "stdout",
          "text": [
            "  ✔ prompt2: infer_img() full-res ok\n",
            " Saved results to /content/drive/MyDrive/RQ1_Experiments/results/InternVL3-8B/RQ1_InternVL3-8B_8B_country_L3_prompt2_r1.json\n",
            "\n",
            "  ➤ [prompt3] prompt:\n",
            "Moderate a brief debate among a Geographer, a Street Artist, and a Museum Curator about this image, assuming it originates from Asia. For each expert, give:\n",
            "\n",
            "- ROLE: <role name>\n",
            "- COUNTRY (choose exactly one: China, India, Indonesia, United Arab Emirates, Singapore, Israel, Timor-Leste, Maldives, Bhutan)\n",
            "- LABEL (political expression / vandalism / decoration / cultural identity / advertisement)\n",
            "- SHORT_RATIONALE (one concise sentence)\n",
            "\n",
            "After the three positions, write a 2-paragraph moderator resolution:\n",
            "1) Compare the three rationales and state which COUNTRY and LABEL you choose and why (trade-offs).\n",
            "2) List 2 visual cues that were decisive and mention one alternative explanation you rejected.\n",
            "\n",
            "Finish with: COUNTRY and LABEL (each on its own line).\n",
            "\n"
          ]
        },
        {
          "output_type": "stream",
          "name": "stderr",
          "text": [
            "Setting `pad_token_id` to `eos_token_id`:151645 for open-end generation.\n"
          ]
        },
        {
          "output_type": "stream",
          "name": "stdout",
          "text": [
            "  ✔ prompt3: infer_img() full-res ok\n",
            " Saved results to /content/drive/MyDrive/RQ1_Experiments/results/InternVL3-8B/RQ1_InternVL3-8B_8B_country_L3_prompt3_r1.json\n",
            "\n",
            "  ➤ [prompt4] prompt:\n",
            "You are a cultural anthropologist & artist. Given that mural in image is located in Asia, provide:\n",
            "\n",
            "- COUNTRY: two most likely countries (choose from: China, India, Indonesia, United Arab Emirates, Singapore, Israel, Timor-Leste, Maldives, Bhutan) with percentages (sum ≈100), e.g. \"\"Iceland: 70%, Russia: 30%\"\"\n",
            "- WHY COUNTRY: 2–3 sentences explaining how visual cues suggest the chosen countries .\n",
            "\n",
            "- LABEL: choose from (political expression, vandalism, decoration, cultural identity, advertisement) and also assign probabilities for all five labels (sum ≈100)\n",
            "- WHY LABEL: 2–3 sentences linking cues to chosen label.\n",
            "\n",
            "- TOP CUES: list three concrete cues that were decisive (1–6 words each)\n",
            "- BIAS NOTE: 2–3 sentences reflecting how cultural bias might have affected the probability estimates.\n",
            "\n",
            "Constraints:\n",
            "- Avoid equal continent splits (e.g. 50/50). Show one as more likely.\n",
            "- Keep WHY COUNTRY and WHY LABEL tied to visible evidence (colors, symbols, technique, location clues etc).\n",
            "\n",
            "  ✔ prompt4: infer_img() full-res ok\n",
            " Saved results to /content/drive/MyDrive/RQ1_Experiments/results/InternVL3-8B/RQ1_InternVL3-8B_8B_country_L3_prompt4_r1.json\n",
            "\n",
            "------------------------------------------------------\n",
            "\n",
            "Processing 67/360: /content/drive/MyDrive/RQ1_Experiments/RQ1_Data_Batch1/Asia/Bhutan/Asia_Bhutan_BT5_LAST.jpg\n",
            "\n",
            "  ➤ [prompt1] prompt:\n",
            "Assume the image is from Asia. Analyze it and answer two things:\n",
            "\n",
            "1) Which country is this most likely from? (choose from China, India, Indonesia, United Arab Emirates, Singapore, Israel, Timor-Leste, Maldives, Bhutan)\n",
            "\n",
            "2) What is the most suitable label: political expression, vandalism, decoration, cultural identity, or advertisement?\n",
            "\n"
          ]
        },
        {
          "output_type": "stream",
          "name": "stderr",
          "text": [
            "Setting `pad_token_id` to `eos_token_id`:151645 for open-end generation.\n",
            "Setting `pad_token_id` to `eos_token_id`:151645 for open-end generation.\n"
          ]
        },
        {
          "output_type": "stream",
          "name": "stdout",
          "text": [
            "  ✔ prompt1: infer_img() full-res ok\n",
            " Saved results to /content/drive/MyDrive/RQ1_Experiments/results/InternVL3-8B/RQ1_InternVL3-8B_8B_country_L3_prompt1_r1.json\n",
            "\n",
            "  ➤ [prompt2] prompt:\n",
            "You are a cultural anthropologist viewing street visuals. Given that mural in image is located in Asia, give these four pieces of info:\n",
            "\n",
            "- COUNTRY (choose exactly one: China, India, Indonesia, United Arab Emirates, Singapore, Israel, Timor-Leste, Maldives, Bhutan)\n",
            "- LABEL (choose exactly one: political expression / vandalism / decoration / cultural identity / advertisement)\n",
            "- CONFIDENCE (0–100%)\n",
            "- TOP CUE (2–3 sentences describing the key visual/cultural cue)\n",
            "\n",
            "Be concise and calibrate CONFIDENCE to how strongly the visual cues support your claims.\n",
            "\n"
          ]
        },
        {
          "output_type": "stream",
          "name": "stderr",
          "text": [
            "Setting `pad_token_id` to `eos_token_id`:151645 for open-end generation.\n"
          ]
        },
        {
          "output_type": "stream",
          "name": "stdout",
          "text": [
            "  ✔ prompt2: infer_img() full-res ok\n",
            " Saved results to /content/drive/MyDrive/RQ1_Experiments/results/InternVL3-8B/RQ1_InternVL3-8B_8B_country_L3_prompt2_r1.json\n",
            "\n",
            "  ➤ [prompt3] prompt:\n",
            "Moderate a brief debate among a Geographer, a Street Artist, and a Museum Curator about this image, assuming it originates from Asia. For each expert, give:\n",
            "\n",
            "- ROLE: <role name>\n",
            "- COUNTRY (choose exactly one: China, India, Indonesia, United Arab Emirates, Singapore, Israel, Timor-Leste, Maldives, Bhutan)\n",
            "- LABEL (political expression / vandalism / decoration / cultural identity / advertisement)\n",
            "- SHORT_RATIONALE (one concise sentence)\n",
            "\n",
            "After the three positions, write a 2-paragraph moderator resolution:\n",
            "1) Compare the three rationales and state which COUNTRY and LABEL you choose and why (trade-offs).\n",
            "2) List 2 visual cues that were decisive and mention one alternative explanation you rejected.\n",
            "\n",
            "Finish with: COUNTRY and LABEL (each on its own line).\n",
            "\n"
          ]
        },
        {
          "output_type": "stream",
          "name": "stderr",
          "text": [
            "Setting `pad_token_id` to `eos_token_id`:151645 for open-end generation.\n"
          ]
        },
        {
          "output_type": "stream",
          "name": "stdout",
          "text": [
            "  ✔ prompt3: infer_img() full-res ok\n",
            " Saved results to /content/drive/MyDrive/RQ1_Experiments/results/InternVL3-8B/RQ1_InternVL3-8B_8B_country_L3_prompt3_r1.json\n",
            "\n",
            "  ➤ [prompt4] prompt:\n",
            "You are a cultural anthropologist & artist. Given that mural in image is located in Asia, provide:\n",
            "\n",
            "- COUNTRY: two most likely countries (choose from: China, India, Indonesia, United Arab Emirates, Singapore, Israel, Timor-Leste, Maldives, Bhutan) with percentages (sum ≈100), e.g. \"\"Iceland: 70%, Russia: 30%\"\"\n",
            "- WHY COUNTRY: 2–3 sentences explaining how visual cues suggest the chosen countries .\n",
            "\n",
            "- LABEL: choose from (political expression, vandalism, decoration, cultural identity, advertisement) and also assign probabilities for all five labels (sum ≈100)\n",
            "- WHY LABEL: 2–3 sentences linking cues to chosen label.\n",
            "\n",
            "- TOP CUES: list three concrete cues that were decisive (1–6 words each)\n",
            "- BIAS NOTE: 2–3 sentences reflecting how cultural bias might have affected the probability estimates.\n",
            "\n",
            "Constraints:\n",
            "- Avoid equal continent splits (e.g. 50/50). Show one as more likely.\n",
            "- Keep WHY COUNTRY and WHY LABEL tied to visible evidence (colors, symbols, technique, location clues etc).\n",
            "\n",
            "  ✔ prompt4: infer_img() full-res ok\n",
            " Saved results to /content/drive/MyDrive/RQ1_Experiments/results/InternVL3-8B/RQ1_InternVL3-8B_8B_country_L3_prompt4_r1.json\n",
            "\n",
            "------------------------------------------------------\n",
            "\n",
            "Processing 68/360: /content/drive/MyDrive/RQ1_Experiments/RQ1_Data_Batch1/Asia/Bhutan/Asia_Bhutan_BT6_LAST.jpg\n",
            "\n",
            "  ➤ [prompt1] prompt:\n",
            "Assume the image is from Asia. Analyze it and answer two things:\n",
            "\n",
            "1) Which country is this most likely from? (choose from China, India, Indonesia, United Arab Emirates, Singapore, Israel, Timor-Leste, Maldives, Bhutan)\n",
            "\n",
            "2) What is the most suitable label: political expression, vandalism, decoration, cultural identity, or advertisement?\n",
            "\n"
          ]
        },
        {
          "output_type": "stream",
          "name": "stderr",
          "text": [
            "Setting `pad_token_id` to `eos_token_id`:151645 for open-end generation.\n",
            "Setting `pad_token_id` to `eos_token_id`:151645 for open-end generation.\n"
          ]
        },
        {
          "output_type": "stream",
          "name": "stdout",
          "text": [
            "  ✔ prompt1: infer_img() full-res ok\n",
            " Saved results to /content/drive/MyDrive/RQ1_Experiments/results/InternVL3-8B/RQ1_InternVL3-8B_8B_country_L3_prompt1_r1.json\n",
            "\n",
            "  ➤ [prompt2] prompt:\n",
            "You are a cultural anthropologist viewing street visuals. Given that mural in image is located in Asia, give these four pieces of info:\n",
            "\n",
            "- COUNTRY (choose exactly one: China, India, Indonesia, United Arab Emirates, Singapore, Israel, Timor-Leste, Maldives, Bhutan)\n",
            "- LABEL (choose exactly one: political expression / vandalism / decoration / cultural identity / advertisement)\n",
            "- CONFIDENCE (0–100%)\n",
            "- TOP CUE (2–3 sentences describing the key visual/cultural cue)\n",
            "\n",
            "Be concise and calibrate CONFIDENCE to how strongly the visual cues support your claims.\n",
            "\n"
          ]
        },
        {
          "output_type": "stream",
          "name": "stderr",
          "text": [
            "Setting `pad_token_id` to `eos_token_id`:151645 for open-end generation.\n"
          ]
        },
        {
          "output_type": "stream",
          "name": "stdout",
          "text": [
            "  ✔ prompt2: infer_img() full-res ok\n",
            " Saved results to /content/drive/MyDrive/RQ1_Experiments/results/InternVL3-8B/RQ1_InternVL3-8B_8B_country_L3_prompt2_r1.json\n",
            "\n",
            "  ➤ [prompt3] prompt:\n",
            "Moderate a brief debate among a Geographer, a Street Artist, and a Museum Curator about this image, assuming it originates from Asia. For each expert, give:\n",
            "\n",
            "- ROLE: <role name>\n",
            "- COUNTRY (choose exactly one: China, India, Indonesia, United Arab Emirates, Singapore, Israel, Timor-Leste, Maldives, Bhutan)\n",
            "- LABEL (political expression / vandalism / decoration / cultural identity / advertisement)\n",
            "- SHORT_RATIONALE (one concise sentence)\n",
            "\n",
            "After the three positions, write a 2-paragraph moderator resolution:\n",
            "1) Compare the three rationales and state which COUNTRY and LABEL you choose and why (trade-offs).\n",
            "2) List 2 visual cues that were decisive and mention one alternative explanation you rejected.\n",
            "\n",
            "Finish with: COUNTRY and LABEL (each on its own line).\n",
            "\n"
          ]
        },
        {
          "output_type": "stream",
          "name": "stderr",
          "text": [
            "Setting `pad_token_id` to `eos_token_id`:151645 for open-end generation.\n"
          ]
        },
        {
          "output_type": "stream",
          "name": "stdout",
          "text": [
            "  ✔ prompt3: infer_img() full-res ok\n",
            " Saved results to /content/drive/MyDrive/RQ1_Experiments/results/InternVL3-8B/RQ1_InternVL3-8B_8B_country_L3_prompt3_r1.json\n",
            "\n",
            "  ➤ [prompt4] prompt:\n",
            "You are a cultural anthropologist & artist. Given that mural in image is located in Asia, provide:\n",
            "\n",
            "- COUNTRY: two most likely countries (choose from: China, India, Indonesia, United Arab Emirates, Singapore, Israel, Timor-Leste, Maldives, Bhutan) with percentages (sum ≈100), e.g. \"\"Iceland: 70%, Russia: 30%\"\"\n",
            "- WHY COUNTRY: 2–3 sentences explaining how visual cues suggest the chosen countries .\n",
            "\n",
            "- LABEL: choose from (political expression, vandalism, decoration, cultural identity, advertisement) and also assign probabilities for all five labels (sum ≈100)\n",
            "- WHY LABEL: 2–3 sentences linking cues to chosen label.\n",
            "\n",
            "- TOP CUES: list three concrete cues that were decisive (1–6 words each)\n",
            "- BIAS NOTE: 2–3 sentences reflecting how cultural bias might have affected the probability estimates.\n",
            "\n",
            "Constraints:\n",
            "- Avoid equal continent splits (e.g. 50/50). Show one as more likely.\n",
            "- Keep WHY COUNTRY and WHY LABEL tied to visible evidence (colors, symbols, technique, location clues etc).\n",
            "\n",
            "  ✔ prompt4: infer_img() full-res ok\n",
            " Saved results to /content/drive/MyDrive/RQ1_Experiments/results/InternVL3-8B/RQ1_InternVL3-8B_8B_country_L3_prompt4_r1.json\n",
            "\n",
            "------------------------------------------------------\n",
            "\n",
            "Processing 69/360: /content/drive/MyDrive/RQ1_Experiments/RQ1_Data_Batch1/Asia/Bhutan/Asia_Bhutan_BT7_LAST.jpg\n",
            "\n",
            "  ➤ [prompt1] prompt:\n",
            "Assume the image is from Asia. Analyze it and answer two things:\n",
            "\n",
            "1) Which country is this most likely from? (choose from China, India, Indonesia, United Arab Emirates, Singapore, Israel, Timor-Leste, Maldives, Bhutan)\n",
            "\n",
            "2) What is the most suitable label: political expression, vandalism, decoration, cultural identity, or advertisement?\n",
            "\n"
          ]
        },
        {
          "output_type": "stream",
          "name": "stderr",
          "text": [
            "Setting `pad_token_id` to `eos_token_id`:151645 for open-end generation.\n",
            "Setting `pad_token_id` to `eos_token_id`:151645 for open-end generation.\n"
          ]
        },
        {
          "output_type": "stream",
          "name": "stdout",
          "text": [
            "  ✔ prompt1: infer_img() full-res ok\n",
            " Saved results to /content/drive/MyDrive/RQ1_Experiments/results/InternVL3-8B/RQ1_InternVL3-8B_8B_country_L3_prompt1_r1.json\n",
            "\n",
            "  ➤ [prompt2] prompt:\n",
            "You are a cultural anthropologist viewing street visuals. Given that mural in image is located in Asia, give these four pieces of info:\n",
            "\n",
            "- COUNTRY (choose exactly one: China, India, Indonesia, United Arab Emirates, Singapore, Israel, Timor-Leste, Maldives, Bhutan)\n",
            "- LABEL (choose exactly one: political expression / vandalism / decoration / cultural identity / advertisement)\n",
            "- CONFIDENCE (0–100%)\n",
            "- TOP CUE (2–3 sentences describing the key visual/cultural cue)\n",
            "\n",
            "Be concise and calibrate CONFIDENCE to how strongly the visual cues support your claims.\n",
            "\n"
          ]
        },
        {
          "output_type": "stream",
          "name": "stderr",
          "text": [
            "Setting `pad_token_id` to `eos_token_id`:151645 for open-end generation.\n"
          ]
        },
        {
          "output_type": "stream",
          "name": "stdout",
          "text": [
            "  ✔ prompt2: infer_img() full-res ok\n",
            " Saved results to /content/drive/MyDrive/RQ1_Experiments/results/InternVL3-8B/RQ1_InternVL3-8B_8B_country_L3_prompt2_r1.json\n",
            "\n",
            "  ➤ [prompt3] prompt:\n",
            "Moderate a brief debate among a Geographer, a Street Artist, and a Museum Curator about this image, assuming it originates from Asia. For each expert, give:\n",
            "\n",
            "- ROLE: <role name>\n",
            "- COUNTRY (choose exactly one: China, India, Indonesia, United Arab Emirates, Singapore, Israel, Timor-Leste, Maldives, Bhutan)\n",
            "- LABEL (political expression / vandalism / decoration / cultural identity / advertisement)\n",
            "- SHORT_RATIONALE (one concise sentence)\n",
            "\n",
            "After the three positions, write a 2-paragraph moderator resolution:\n",
            "1) Compare the three rationales and state which COUNTRY and LABEL you choose and why (trade-offs).\n",
            "2) List 2 visual cues that were decisive and mention one alternative explanation you rejected.\n",
            "\n",
            "Finish with: COUNTRY and LABEL (each on its own line).\n",
            "\n"
          ]
        },
        {
          "output_type": "stream",
          "name": "stderr",
          "text": [
            "Setting `pad_token_id` to `eos_token_id`:151645 for open-end generation.\n"
          ]
        },
        {
          "output_type": "stream",
          "name": "stdout",
          "text": [
            "  ✔ prompt3: infer_img() full-res ok\n",
            " Saved results to /content/drive/MyDrive/RQ1_Experiments/results/InternVL3-8B/RQ1_InternVL3-8B_8B_country_L3_prompt3_r1.json\n",
            "\n",
            "  ➤ [prompt4] prompt:\n",
            "You are a cultural anthropologist & artist. Given that mural in image is located in Asia, provide:\n",
            "\n",
            "- COUNTRY: two most likely countries (choose from: China, India, Indonesia, United Arab Emirates, Singapore, Israel, Timor-Leste, Maldives, Bhutan) with percentages (sum ≈100), e.g. \"\"Iceland: 70%, Russia: 30%\"\"\n",
            "- WHY COUNTRY: 2–3 sentences explaining how visual cues suggest the chosen countries .\n",
            "\n",
            "- LABEL: choose from (political expression, vandalism, decoration, cultural identity, advertisement) and also assign probabilities for all five labels (sum ≈100)\n",
            "- WHY LABEL: 2–3 sentences linking cues to chosen label.\n",
            "\n",
            "- TOP CUES: list three concrete cues that were decisive (1–6 words each)\n",
            "- BIAS NOTE: 2–3 sentences reflecting how cultural bias might have affected the probability estimates.\n",
            "\n",
            "Constraints:\n",
            "- Avoid equal continent splits (e.g. 50/50). Show one as more likely.\n",
            "- Keep WHY COUNTRY and WHY LABEL tied to visible evidence (colors, symbols, technique, location clues etc).\n",
            "\n",
            "  ✔ prompt4: infer_img() full-res ok\n",
            " Saved results to /content/drive/MyDrive/RQ1_Experiments/results/InternVL3-8B/RQ1_InternVL3-8B_8B_country_L3_prompt4_r1.json\n",
            "\n",
            "------------------------------------------------------\n",
            "\n",
            "Processing 70/360: /content/drive/MyDrive/RQ1_Experiments/RQ1_Data_Batch1/Asia/Cambodia/Asia_Cambodia_C1_MIDDLE.jpg\n",
            "\n",
            "  ➤ [prompt1] prompt:\n",
            "Assume the image is from Asia. Analyze it and answer two things:\n",
            "\n",
            "1) Which country is this most likely from? (choose from China, India, Indonesia, United Arab Emirates, Singapore, Cambodia, Timor-Leste, Maldives, Brunei)\n",
            "\n",
            "2) What is the most suitable label: political expression, vandalism, decoration, cultural identity, or advertisement?\n",
            "\n"
          ]
        },
        {
          "output_type": "stream",
          "name": "stderr",
          "text": [
            "Setting `pad_token_id` to `eos_token_id`:151645 for open-end generation.\n",
            "Setting `pad_token_id` to `eos_token_id`:151645 for open-end generation.\n"
          ]
        },
        {
          "output_type": "stream",
          "name": "stdout",
          "text": [
            "  ✔ prompt1: infer_img() full-res ok\n",
            " Saved results to /content/drive/MyDrive/RQ1_Experiments/results/InternVL3-8B/RQ1_InternVL3-8B_8B_country_L3_prompt1_r1.json\n",
            "\n",
            "  ➤ [prompt2] prompt:\n",
            "You are a cultural anthropologist viewing street visuals. Given that mural in image is located in Asia, give these four pieces of info:\n",
            "\n",
            "- COUNTRY (choose exactly one: China, India, Indonesia, United Arab Emirates, Singapore, Cambodia, Timor-Leste, Maldives, Brunei)\n",
            "- LABEL (choose exactly one: political expression / vandalism / decoration / cultural identity / advertisement)\n",
            "- CONFIDENCE (0–100%)\n",
            "- TOP CUE (2–3 sentences describing the key visual/cultural cue)\n",
            "\n",
            "Be concise and calibrate CONFIDENCE to how strongly the visual cues support your claims.\n",
            "\n"
          ]
        },
        {
          "output_type": "stream",
          "name": "stderr",
          "text": [
            "Setting `pad_token_id` to `eos_token_id`:151645 for open-end generation.\n"
          ]
        },
        {
          "output_type": "stream",
          "name": "stdout",
          "text": [
            "  ✔ prompt2: infer_img() full-res ok\n",
            " Saved results to /content/drive/MyDrive/RQ1_Experiments/results/InternVL3-8B/RQ1_InternVL3-8B_8B_country_L3_prompt2_r1.json\n",
            "\n",
            "  ➤ [prompt3] prompt:\n",
            "Moderate a brief debate among a Geographer, a Street Artist, and a Museum Curator about this image, assuming it originates from Asia. For each expert, give:\n",
            "\n",
            "- ROLE: <role name>\n",
            "- COUNTRY (choose exactly one: China, India, Indonesia, United Arab Emirates, Singapore, Cambodia, Timor-Leste, Maldives, Brunei)\n",
            "- LABEL (political expression / vandalism / decoration / cultural identity / advertisement)\n",
            "- SHORT_RATIONALE (one concise sentence)\n",
            "\n",
            "After the three positions, write a 2-paragraph moderator resolution:\n",
            "1) Compare the three rationales and state which COUNTRY and LABEL you choose and why (trade-offs).\n",
            "2) List 2 visual cues that were decisive and mention one alternative explanation you rejected.\n",
            "\n",
            "Finish with: COUNTRY and LABEL (each on its own line).\n",
            "\n"
          ]
        },
        {
          "output_type": "stream",
          "name": "stderr",
          "text": [
            "Setting `pad_token_id` to `eos_token_id`:151645 for open-end generation.\n"
          ]
        },
        {
          "output_type": "stream",
          "name": "stdout",
          "text": [
            "  ✔ prompt3: infer_img() full-res ok\n",
            " Saved results to /content/drive/MyDrive/RQ1_Experiments/results/InternVL3-8B/RQ1_InternVL3-8B_8B_country_L3_prompt3_r1.json\n",
            "\n",
            "  ➤ [prompt4] prompt:\n",
            "You are a cultural anthropologist & artist. Given that mural in image is located in Asia, provide:\n",
            "\n",
            "- COUNTRY: two most likely countries (choose from: China, India, Indonesia, United Arab Emirates, Singapore, Cambodia, Timor-Leste, Maldives, Brunei) with percentages (sum ≈100), e.g. \"\"Iceland: 70%, Russia: 30%\"\"\n",
            "- WHY COUNTRY: 2–3 sentences explaining how visual cues suggest the chosen countries .\n",
            "\n",
            "- LABEL: choose from (political expression, vandalism, decoration, cultural identity, advertisement) and also assign probabilities for all five labels (sum ≈100)\n",
            "- WHY LABEL: 2–3 sentences linking cues to chosen label.\n",
            "\n",
            "- TOP CUES: list three concrete cues that were decisive (1–6 words each)\n",
            "- BIAS NOTE: 2–3 sentences reflecting how cultural bias might have affected the probability estimates.\n",
            "\n",
            "Constraints:\n",
            "- Avoid equal continent splits (e.g. 50/50). Show one as more likely.\n",
            "- Keep WHY COUNTRY and WHY LABEL tied to visible evidence (colors, symbols, technique, location clues etc).\n",
            "\n",
            "  ✔ prompt4: infer_img() full-res ok\n",
            " Saved results to /content/drive/MyDrive/RQ1_Experiments/results/InternVL3-8B/RQ1_InternVL3-8B_8B_country_L3_prompt4_r1.json\n",
            "\n",
            "------------------------------------------------------\n",
            "\n",
            "Processing 71/360: /content/drive/MyDrive/RQ1_Experiments/RQ1_Data_Batch1/Asia/Cambodia/Asia_Cambodia_C2_MIDDLE.jpg\n",
            "\n",
            "  ➤ [prompt1] prompt:\n",
            "Assume the image is from Asia. Analyze it and answer two things:\n",
            "\n",
            "1) Which country is this most likely from? (choose from China, India, Indonesia, United Arab Emirates, Singapore, Cambodia, Timor-Leste, Maldives, Brunei)\n",
            "\n",
            "2) What is the most suitable label: political expression, vandalism, decoration, cultural identity, or advertisement?\n",
            "\n"
          ]
        },
        {
          "output_type": "stream",
          "name": "stderr",
          "text": [
            "Setting `pad_token_id` to `eos_token_id`:151645 for open-end generation.\n",
            "Setting `pad_token_id` to `eos_token_id`:151645 for open-end generation.\n"
          ]
        },
        {
          "output_type": "stream",
          "name": "stdout",
          "text": [
            "  ✔ prompt1: infer_img() full-res ok\n",
            " Saved results to /content/drive/MyDrive/RQ1_Experiments/results/InternVL3-8B/RQ1_InternVL3-8B_8B_country_L3_prompt1_r1.json\n",
            "\n",
            "  ➤ [prompt2] prompt:\n",
            "You are a cultural anthropologist viewing street visuals. Given that mural in image is located in Asia, give these four pieces of info:\n",
            "\n",
            "- COUNTRY (choose exactly one: China, India, Indonesia, United Arab Emirates, Singapore, Cambodia, Timor-Leste, Maldives, Brunei)\n",
            "- LABEL (choose exactly one: political expression / vandalism / decoration / cultural identity / advertisement)\n",
            "- CONFIDENCE (0–100%)\n",
            "- TOP CUE (2–3 sentences describing the key visual/cultural cue)\n",
            "\n",
            "Be concise and calibrate CONFIDENCE to how strongly the visual cues support your claims.\n",
            "\n"
          ]
        },
        {
          "output_type": "stream",
          "name": "stderr",
          "text": [
            "Setting `pad_token_id` to `eos_token_id`:151645 for open-end generation.\n"
          ]
        },
        {
          "output_type": "stream",
          "name": "stdout",
          "text": [
            "  ✔ prompt2: infer_img() full-res ok\n",
            " Saved results to /content/drive/MyDrive/RQ1_Experiments/results/InternVL3-8B/RQ1_InternVL3-8B_8B_country_L3_prompt2_r1.json\n",
            "\n",
            "  ➤ [prompt3] prompt:\n",
            "Moderate a brief debate among a Geographer, a Street Artist, and a Museum Curator about this image, assuming it originates from Asia. For each expert, give:\n",
            "\n",
            "- ROLE: <role name>\n",
            "- COUNTRY (choose exactly one: China, India, Indonesia, United Arab Emirates, Singapore, Cambodia, Timor-Leste, Maldives, Brunei)\n",
            "- LABEL (political expression / vandalism / decoration / cultural identity / advertisement)\n",
            "- SHORT_RATIONALE (one concise sentence)\n",
            "\n",
            "After the three positions, write a 2-paragraph moderator resolution:\n",
            "1) Compare the three rationales and state which COUNTRY and LABEL you choose and why (trade-offs).\n",
            "2) List 2 visual cues that were decisive and mention one alternative explanation you rejected.\n",
            "\n",
            "Finish with: COUNTRY and LABEL (each on its own line).\n",
            "\n"
          ]
        },
        {
          "output_type": "stream",
          "name": "stderr",
          "text": [
            "Setting `pad_token_id` to `eos_token_id`:151645 for open-end generation.\n"
          ]
        },
        {
          "output_type": "stream",
          "name": "stdout",
          "text": [
            "  ✔ prompt3: infer_img() full-res ok\n",
            " Saved results to /content/drive/MyDrive/RQ1_Experiments/results/InternVL3-8B/RQ1_InternVL3-8B_8B_country_L3_prompt3_r1.json\n",
            "\n",
            "  ➤ [prompt4] prompt:\n",
            "You are a cultural anthropologist & artist. Given that mural in image is located in Asia, provide:\n",
            "\n",
            "- COUNTRY: two most likely countries (choose from: China, India, Indonesia, United Arab Emirates, Singapore, Cambodia, Timor-Leste, Maldives, Brunei) with percentages (sum ≈100), e.g. \"\"Iceland: 70%, Russia: 30%\"\"\n",
            "- WHY COUNTRY: 2–3 sentences explaining how visual cues suggest the chosen countries .\n",
            "\n",
            "- LABEL: choose from (political expression, vandalism, decoration, cultural identity, advertisement) and also assign probabilities for all five labels (sum ≈100)\n",
            "- WHY LABEL: 2–3 sentences linking cues to chosen label.\n",
            "\n",
            "- TOP CUES: list three concrete cues that were decisive (1–6 words each)\n",
            "- BIAS NOTE: 2–3 sentences reflecting how cultural bias might have affected the probability estimates.\n",
            "\n",
            "Constraints:\n",
            "- Avoid equal continent splits (e.g. 50/50). Show one as more likely.\n",
            "- Keep WHY COUNTRY and WHY LABEL tied to visible evidence (colors, symbols, technique, location clues etc).\n",
            "\n",
            "  ✔ prompt4: infer_img() full-res ok\n",
            " Saved results to /content/drive/MyDrive/RQ1_Experiments/results/InternVL3-8B/RQ1_InternVL3-8B_8B_country_L3_prompt4_r1.json\n",
            "\n",
            "------------------------------------------------------\n",
            "\n",
            "Processing 72/360: /content/drive/MyDrive/RQ1_Experiments/RQ1_Data_Batch1/Asia/Cambodia/Asia_Cambodia_C3_MIDDLE.jpg\n",
            "\n",
            "  ➤ [prompt1] prompt:\n",
            "Assume the image is from Asia. Analyze it and answer two things:\n",
            "\n",
            "1) Which country is this most likely from? (choose from China, India, Indonesia, United Arab Emirates, Singapore, Cambodia, Timor-Leste, Maldives, Brunei)\n",
            "\n",
            "2) What is the most suitable label: political expression, vandalism, decoration, cultural identity, or advertisement?\n",
            "\n"
          ]
        },
        {
          "output_type": "stream",
          "name": "stderr",
          "text": [
            "Setting `pad_token_id` to `eos_token_id`:151645 for open-end generation.\n",
            "Setting `pad_token_id` to `eos_token_id`:151645 for open-end generation.\n"
          ]
        },
        {
          "output_type": "stream",
          "name": "stdout",
          "text": [
            "  ✔ prompt1: infer_img() full-res ok\n",
            " Saved results to /content/drive/MyDrive/RQ1_Experiments/results/InternVL3-8B/RQ1_InternVL3-8B_8B_country_L3_prompt1_r1.json\n",
            "\n",
            "  ➤ [prompt2] prompt:\n",
            "You are a cultural anthropologist viewing street visuals. Given that mural in image is located in Asia, give these four pieces of info:\n",
            "\n",
            "- COUNTRY (choose exactly one: China, India, Indonesia, United Arab Emirates, Singapore, Cambodia, Timor-Leste, Maldives, Brunei)\n",
            "- LABEL (choose exactly one: political expression / vandalism / decoration / cultural identity / advertisement)\n",
            "- CONFIDENCE (0–100%)\n",
            "- TOP CUE (2–3 sentences describing the key visual/cultural cue)\n",
            "\n",
            "Be concise and calibrate CONFIDENCE to how strongly the visual cues support your claims.\n",
            "\n"
          ]
        },
        {
          "output_type": "stream",
          "name": "stderr",
          "text": [
            "Setting `pad_token_id` to `eos_token_id`:151645 for open-end generation.\n"
          ]
        },
        {
          "output_type": "stream",
          "name": "stdout",
          "text": [
            "  ✔ prompt2: infer_img() full-res ok\n",
            " Saved results to /content/drive/MyDrive/RQ1_Experiments/results/InternVL3-8B/RQ1_InternVL3-8B_8B_country_L3_prompt2_r1.json\n",
            "\n",
            "  ➤ [prompt3] prompt:\n",
            "Moderate a brief debate among a Geographer, a Street Artist, and a Museum Curator about this image, assuming it originates from Asia. For each expert, give:\n",
            "\n",
            "- ROLE: <role name>\n",
            "- COUNTRY (choose exactly one: China, India, Indonesia, United Arab Emirates, Singapore, Cambodia, Timor-Leste, Maldives, Brunei)\n",
            "- LABEL (political expression / vandalism / decoration / cultural identity / advertisement)\n",
            "- SHORT_RATIONALE (one concise sentence)\n",
            "\n",
            "After the three positions, write a 2-paragraph moderator resolution:\n",
            "1) Compare the three rationales and state which COUNTRY and LABEL you choose and why (trade-offs).\n",
            "2) List 2 visual cues that were decisive and mention one alternative explanation you rejected.\n",
            "\n",
            "Finish with: COUNTRY and LABEL (each on its own line).\n",
            "\n"
          ]
        },
        {
          "output_type": "stream",
          "name": "stderr",
          "text": [
            "Setting `pad_token_id` to `eos_token_id`:151645 for open-end generation.\n"
          ]
        },
        {
          "output_type": "stream",
          "name": "stdout",
          "text": [
            "  ✔ prompt3: infer_img() full-res ok\n",
            " Saved results to /content/drive/MyDrive/RQ1_Experiments/results/InternVL3-8B/RQ1_InternVL3-8B_8B_country_L3_prompt3_r1.json\n",
            "\n",
            "  ➤ [prompt4] prompt:\n",
            "You are a cultural anthropologist & artist. Given that mural in image is located in Asia, provide:\n",
            "\n",
            "- COUNTRY: two most likely countries (choose from: China, India, Indonesia, United Arab Emirates, Singapore, Cambodia, Timor-Leste, Maldives, Brunei) with percentages (sum ≈100), e.g. \"\"Iceland: 70%, Russia: 30%\"\"\n",
            "- WHY COUNTRY: 2–3 sentences explaining how visual cues suggest the chosen countries .\n",
            "\n",
            "- LABEL: choose from (political expression, vandalism, decoration, cultural identity, advertisement) and also assign probabilities for all five labels (sum ≈100)\n",
            "- WHY LABEL: 2–3 sentences linking cues to chosen label.\n",
            "\n",
            "- TOP CUES: list three concrete cues that were decisive (1–6 words each)\n",
            "- BIAS NOTE: 2–3 sentences reflecting how cultural bias might have affected the probability estimates.\n",
            "\n",
            "Constraints:\n",
            "- Avoid equal continent splits (e.g. 50/50). Show one as more likely.\n",
            "- Keep WHY COUNTRY and WHY LABEL tied to visible evidence (colors, symbols, technique, location clues etc).\n",
            "\n",
            "  ✔ prompt4: infer_img() full-res ok\n",
            " Saved results to /content/drive/MyDrive/RQ1_Experiments/results/InternVL3-8B/RQ1_InternVL3-8B_8B_country_L3_prompt4_r1.json\n",
            "\n",
            "------------------------------------------------------\n",
            "\n",
            "Processing 73/360: /content/drive/MyDrive/RQ1_Experiments/RQ1_Data_Batch1/Asia/Cambodia/Asia_Cambodia_C4_MIDDLE.jpeg\n",
            "\n",
            "  ➤ [prompt1] prompt:\n",
            "Assume the image is from Asia. Analyze it and answer two things:\n",
            "\n",
            "1) Which country is this most likely from? (choose from China, India, Indonesia, United Arab Emirates, Singapore, Cambodia, Timor-Leste, Maldives, Brunei)\n",
            "\n",
            "2) What is the most suitable label: political expression, vandalism, decoration, cultural identity, or advertisement?\n",
            "\n"
          ]
        },
        {
          "output_type": "stream",
          "name": "stderr",
          "text": [
            "Setting `pad_token_id` to `eos_token_id`:151645 for open-end generation.\n",
            "Setting `pad_token_id` to `eos_token_id`:151645 for open-end generation.\n"
          ]
        },
        {
          "output_type": "stream",
          "name": "stdout",
          "text": [
            "  ✔ prompt1: infer_img() full-res ok\n",
            " Saved results to /content/drive/MyDrive/RQ1_Experiments/results/InternVL3-8B/RQ1_InternVL3-8B_8B_country_L3_prompt1_r1.json\n",
            "\n",
            "  ➤ [prompt2] prompt:\n",
            "You are a cultural anthropologist viewing street visuals. Given that mural in image is located in Asia, give these four pieces of info:\n",
            "\n",
            "- COUNTRY (choose exactly one: China, India, Indonesia, United Arab Emirates, Singapore, Cambodia, Timor-Leste, Maldives, Brunei)\n",
            "- LABEL (choose exactly one: political expression / vandalism / decoration / cultural identity / advertisement)\n",
            "- CONFIDENCE (0–100%)\n",
            "- TOP CUE (2–3 sentences describing the key visual/cultural cue)\n",
            "\n",
            "Be concise and calibrate CONFIDENCE to how strongly the visual cues support your claims.\n",
            "\n"
          ]
        },
        {
          "output_type": "stream",
          "name": "stderr",
          "text": [
            "Setting `pad_token_id` to `eos_token_id`:151645 for open-end generation.\n"
          ]
        },
        {
          "output_type": "stream",
          "name": "stdout",
          "text": [
            "  ✔ prompt2: infer_img() full-res ok\n",
            " Saved results to /content/drive/MyDrive/RQ1_Experiments/results/InternVL3-8B/RQ1_InternVL3-8B_8B_country_L3_prompt2_r1.json\n",
            "\n",
            "  ➤ [prompt3] prompt:\n",
            "Moderate a brief debate among a Geographer, a Street Artist, and a Museum Curator about this image, assuming it originates from Asia. For each expert, give:\n",
            "\n",
            "- ROLE: <role name>\n",
            "- COUNTRY (choose exactly one: China, India, Indonesia, United Arab Emirates, Singapore, Cambodia, Timor-Leste, Maldives, Brunei)\n",
            "- LABEL (political expression / vandalism / decoration / cultural identity / advertisement)\n",
            "- SHORT_RATIONALE (one concise sentence)\n",
            "\n",
            "After the three positions, write a 2-paragraph moderator resolution:\n",
            "1) Compare the three rationales and state which COUNTRY and LABEL you choose and why (trade-offs).\n",
            "2) List 2 visual cues that were decisive and mention one alternative explanation you rejected.\n",
            "\n",
            "Finish with: COUNTRY and LABEL (each on its own line).\n",
            "\n"
          ]
        },
        {
          "output_type": "stream",
          "name": "stderr",
          "text": [
            "Setting `pad_token_id` to `eos_token_id`:151645 for open-end generation.\n"
          ]
        },
        {
          "output_type": "stream",
          "name": "stdout",
          "text": [
            "  ✔ prompt3: infer_img() full-res ok\n",
            " Saved results to /content/drive/MyDrive/RQ1_Experiments/results/InternVL3-8B/RQ1_InternVL3-8B_8B_country_L3_prompt3_r1.json\n",
            "\n",
            "  ➤ [prompt4] prompt:\n",
            "You are a cultural anthropologist & artist. Given that mural in image is located in Asia, provide:\n",
            "\n",
            "- COUNTRY: two most likely countries (choose from: China, India, Indonesia, United Arab Emirates, Singapore, Cambodia, Timor-Leste, Maldives, Brunei) with percentages (sum ≈100), e.g. \"\"Iceland: 70%, Russia: 30%\"\"\n",
            "- WHY COUNTRY: 2–3 sentences explaining how visual cues suggest the chosen countries .\n",
            "\n",
            "- LABEL: choose from (political expression, vandalism, decoration, cultural identity, advertisement) and also assign probabilities for all five labels (sum ≈100)\n",
            "- WHY LABEL: 2–3 sentences linking cues to chosen label.\n",
            "\n",
            "- TOP CUES: list three concrete cues that were decisive (1–6 words each)\n",
            "- BIAS NOTE: 2–3 sentences reflecting how cultural bias might have affected the probability estimates.\n",
            "\n",
            "Constraints:\n",
            "- Avoid equal continent splits (e.g. 50/50). Show one as more likely.\n",
            "- Keep WHY COUNTRY and WHY LABEL tied to visible evidence (colors, symbols, technique, location clues etc).\n",
            "\n",
            "  ✔ prompt4: infer_img() full-res ok\n",
            " Saved results to /content/drive/MyDrive/RQ1_Experiments/results/InternVL3-8B/RQ1_InternVL3-8B_8B_country_L3_prompt4_r1.json\n",
            "\n",
            "------------------------------------------------------\n",
            "\n",
            "Processing 74/360: /content/drive/MyDrive/RQ1_Experiments/RQ1_Data_Batch1/Asia/China/Asia_China_photo_060139e9d31209b5b9faec190d3667881e0d89fb_TOP.jpg\n",
            "\n",
            "  ➤ [prompt1] prompt:\n",
            "Assume the image is from Asia. Analyze it and answer two things:\n",
            "\n",
            "1) Which country is this most likely from? (choose from China, India, Indonesia, United Arab Emirates, Singapore, Israel, Timor-Leste, Maldives, Brunei)\n",
            "\n",
            "2) What is the most suitable label: political expression, vandalism, decoration, cultural identity, or advertisement?\n",
            "\n"
          ]
        },
        {
          "output_type": "stream",
          "name": "stderr",
          "text": [
            "Setting `pad_token_id` to `eos_token_id`:151645 for open-end generation.\n",
            "Setting `pad_token_id` to `eos_token_id`:151645 for open-end generation.\n"
          ]
        },
        {
          "output_type": "stream",
          "name": "stdout",
          "text": [
            "  ✔ prompt1: infer_img() full-res ok\n",
            " Saved results to /content/drive/MyDrive/RQ1_Experiments/results/InternVL3-8B/RQ1_InternVL3-8B_8B_country_L3_prompt1_r1.json\n",
            "\n",
            "  ➤ [prompt2] prompt:\n",
            "You are a cultural anthropologist viewing street visuals. Given that mural in image is located in Asia, give these four pieces of info:\n",
            "\n",
            "- COUNTRY (choose exactly one: China, India, Indonesia, United Arab Emirates, Singapore, Israel, Timor-Leste, Maldives, Brunei)\n",
            "- LABEL (choose exactly one: political expression / vandalism / decoration / cultural identity / advertisement)\n",
            "- CONFIDENCE (0–100%)\n",
            "- TOP CUE (2–3 sentences describing the key visual/cultural cue)\n",
            "\n",
            "Be concise and calibrate CONFIDENCE to how strongly the visual cues support your claims.\n",
            "\n"
          ]
        },
        {
          "output_type": "stream",
          "name": "stderr",
          "text": [
            "Setting `pad_token_id` to `eos_token_id`:151645 for open-end generation.\n"
          ]
        },
        {
          "output_type": "stream",
          "name": "stdout",
          "text": [
            "  ✔ prompt2: infer_img() full-res ok\n",
            " Saved results to /content/drive/MyDrive/RQ1_Experiments/results/InternVL3-8B/RQ1_InternVL3-8B_8B_country_L3_prompt2_r1.json\n",
            "\n",
            "  ➤ [prompt3] prompt:\n",
            "Moderate a brief debate among a Geographer, a Street Artist, and a Museum Curator about this image, assuming it originates from Asia. For each expert, give:\n",
            "\n",
            "- ROLE: <role name>\n",
            "- COUNTRY (choose exactly one: China, India, Indonesia, United Arab Emirates, Singapore, Israel, Timor-Leste, Maldives, Brunei)\n",
            "- LABEL (political expression / vandalism / decoration / cultural identity / advertisement)\n",
            "- SHORT_RATIONALE (one concise sentence)\n",
            "\n",
            "After the three positions, write a 2-paragraph moderator resolution:\n",
            "1) Compare the three rationales and state which COUNTRY and LABEL you choose and why (trade-offs).\n",
            "2) List 2 visual cues that were decisive and mention one alternative explanation you rejected.\n",
            "\n",
            "Finish with: COUNTRY and LABEL (each on its own line).\n",
            "\n"
          ]
        },
        {
          "output_type": "stream",
          "name": "stderr",
          "text": [
            "Setting `pad_token_id` to `eos_token_id`:151645 for open-end generation.\n"
          ]
        },
        {
          "output_type": "stream",
          "name": "stdout",
          "text": [
            "  ✔ prompt3: infer_img() full-res ok\n",
            " Saved results to /content/drive/MyDrive/RQ1_Experiments/results/InternVL3-8B/RQ1_InternVL3-8B_8B_country_L3_prompt3_r1.json\n",
            "\n",
            "  ➤ [prompt4] prompt:\n",
            "You are a cultural anthropologist & artist. Given that mural in image is located in Asia, provide:\n",
            "\n",
            "- COUNTRY: two most likely countries (choose from: China, India, Indonesia, United Arab Emirates, Singapore, Israel, Timor-Leste, Maldives, Brunei) with percentages (sum ≈100), e.g. \"\"Iceland: 70%, Russia: 30%\"\"\n",
            "- WHY COUNTRY: 2–3 sentences explaining how visual cues suggest the chosen countries .\n",
            "\n",
            "- LABEL: choose from (political expression, vandalism, decoration, cultural identity, advertisement) and also assign probabilities for all five labels (sum ≈100)\n",
            "- WHY LABEL: 2–3 sentences linking cues to chosen label.\n",
            "\n",
            "- TOP CUES: list three concrete cues that were decisive (1–6 words each)\n",
            "- BIAS NOTE: 2–3 sentences reflecting how cultural bias might have affected the probability estimates.\n",
            "\n",
            "Constraints:\n",
            "- Avoid equal continent splits (e.g. 50/50). Show one as more likely.\n",
            "- Keep WHY COUNTRY and WHY LABEL tied to visible evidence (colors, symbols, technique, location clues etc).\n",
            "\n",
            "  ✔ prompt4: infer_img() full-res ok\n",
            " Saved results to /content/drive/MyDrive/RQ1_Experiments/results/InternVL3-8B/RQ1_InternVL3-8B_8B_country_L3_prompt4_r1.json\n",
            "\n",
            "------------------------------------------------------\n",
            "\n",
            "Processing 75/360: /content/drive/MyDrive/RQ1_Experiments/RQ1_Data_Batch1/Asia/China/Asia_China_photo_0b8e1f833d9e2e70faf55dad1f070656ec0574b6_TOP.jpg\n",
            "\n",
            "  ➤ [prompt1] prompt:\n",
            "Assume the image is from Asia. Analyze it and answer two things:\n",
            "\n",
            "1) Which country is this most likely from? (choose from China, India, Indonesia, United Arab Emirates, Singapore, Israel, Timor-Leste, Maldives, Brunei)\n",
            "\n",
            "2) What is the most suitable label: political expression, vandalism, decoration, cultural identity, or advertisement?\n",
            "\n"
          ]
        },
        {
          "output_type": "stream",
          "name": "stderr",
          "text": [
            "Setting `pad_token_id` to `eos_token_id`:151645 for open-end generation.\n",
            "Setting `pad_token_id` to `eos_token_id`:151645 for open-end generation.\n"
          ]
        },
        {
          "output_type": "stream",
          "name": "stdout",
          "text": [
            "  ✔ prompt1: infer_img() full-res ok\n",
            " Saved results to /content/drive/MyDrive/RQ1_Experiments/results/InternVL3-8B/RQ1_InternVL3-8B_8B_country_L3_prompt1_r1.json\n",
            "\n",
            "  ➤ [prompt2] prompt:\n",
            "You are a cultural anthropologist viewing street visuals. Given that mural in image is located in Asia, give these four pieces of info:\n",
            "\n",
            "- COUNTRY (choose exactly one: China, India, Indonesia, United Arab Emirates, Singapore, Israel, Timor-Leste, Maldives, Brunei)\n",
            "- LABEL (choose exactly one: political expression / vandalism / decoration / cultural identity / advertisement)\n",
            "- CONFIDENCE (0–100%)\n",
            "- TOP CUE (2–3 sentences describing the key visual/cultural cue)\n",
            "\n",
            "Be concise and calibrate CONFIDENCE to how strongly the visual cues support your claims.\n",
            "\n"
          ]
        },
        {
          "output_type": "stream",
          "name": "stderr",
          "text": [
            "Setting `pad_token_id` to `eos_token_id`:151645 for open-end generation.\n"
          ]
        },
        {
          "output_type": "stream",
          "name": "stdout",
          "text": [
            "  ✔ prompt2: infer_img() full-res ok\n",
            " Saved results to /content/drive/MyDrive/RQ1_Experiments/results/InternVL3-8B/RQ1_InternVL3-8B_8B_country_L3_prompt2_r1.json\n",
            "\n",
            "  ➤ [prompt3] prompt:\n",
            "Moderate a brief debate among a Geographer, a Street Artist, and a Museum Curator about this image, assuming it originates from Asia. For each expert, give:\n",
            "\n",
            "- ROLE: <role name>\n",
            "- COUNTRY (choose exactly one: China, India, Indonesia, United Arab Emirates, Singapore, Israel, Timor-Leste, Maldives, Brunei)\n",
            "- LABEL (political expression / vandalism / decoration / cultural identity / advertisement)\n",
            "- SHORT_RATIONALE (one concise sentence)\n",
            "\n",
            "After the three positions, write a 2-paragraph moderator resolution:\n",
            "1) Compare the three rationales and state which COUNTRY and LABEL you choose and why (trade-offs).\n",
            "2) List 2 visual cues that were decisive and mention one alternative explanation you rejected.\n",
            "\n",
            "Finish with: COUNTRY and LABEL (each on its own line).\n",
            "\n"
          ]
        },
        {
          "output_type": "stream",
          "name": "stderr",
          "text": [
            "Setting `pad_token_id` to `eos_token_id`:151645 for open-end generation.\n"
          ]
        },
        {
          "output_type": "stream",
          "name": "stdout",
          "text": [
            "  ✔ prompt3: infer_img() full-res ok\n",
            " Saved results to /content/drive/MyDrive/RQ1_Experiments/results/InternVL3-8B/RQ1_InternVL3-8B_8B_country_L3_prompt3_r1.json\n",
            "\n",
            "  ➤ [prompt4] prompt:\n",
            "You are a cultural anthropologist & artist. Given that mural in image is located in Asia, provide:\n",
            "\n",
            "- COUNTRY: two most likely countries (choose from: China, India, Indonesia, United Arab Emirates, Singapore, Israel, Timor-Leste, Maldives, Brunei) with percentages (sum ≈100), e.g. \"\"Iceland: 70%, Russia: 30%\"\"\n",
            "- WHY COUNTRY: 2–3 sentences explaining how visual cues suggest the chosen countries .\n",
            "\n",
            "- LABEL: choose from (political expression, vandalism, decoration, cultural identity, advertisement) and also assign probabilities for all five labels (sum ≈100)\n",
            "- WHY LABEL: 2–3 sentences linking cues to chosen label.\n",
            "\n",
            "- TOP CUES: list three concrete cues that were decisive (1–6 words each)\n",
            "- BIAS NOTE: 2–3 sentences reflecting how cultural bias might have affected the probability estimates.\n",
            "\n",
            "Constraints:\n",
            "- Avoid equal continent splits (e.g. 50/50). Show one as more likely.\n",
            "- Keep WHY COUNTRY and WHY LABEL tied to visible evidence (colors, symbols, technique, location clues etc).\n",
            "\n",
            "  ✔ prompt4: infer_img() full-res ok\n",
            " Saved results to /content/drive/MyDrive/RQ1_Experiments/results/InternVL3-8B/RQ1_InternVL3-8B_8B_country_L3_prompt4_r1.json\n",
            "\n",
            "------------------------------------------------------\n",
            "\n",
            "Processing 76/360: /content/drive/MyDrive/RQ1_Experiments/RQ1_Data_Batch1/Asia/China/Asia_China_photo_189f1d7c5bab94934d189e2ca3ba0b923f96f983_TOP.jpg\n",
            "\n",
            "  ➤ [prompt1] prompt:\n",
            "Assume the image is from Asia. Analyze it and answer two things:\n",
            "\n",
            "1) Which country is this most likely from? (choose from China, India, Indonesia, United Arab Emirates, Singapore, Israel, Timor-Leste, Maldives, Brunei)\n",
            "\n",
            "2) What is the most suitable label: political expression, vandalism, decoration, cultural identity, or advertisement?\n",
            "\n"
          ]
        },
        {
          "output_type": "stream",
          "name": "stderr",
          "text": [
            "Setting `pad_token_id` to `eos_token_id`:151645 for open-end generation.\n",
            "Setting `pad_token_id` to `eos_token_id`:151645 for open-end generation.\n"
          ]
        },
        {
          "output_type": "stream",
          "name": "stdout",
          "text": [
            "  ✔ prompt1: infer_img() full-res ok\n",
            " Saved results to /content/drive/MyDrive/RQ1_Experiments/results/InternVL3-8B/RQ1_InternVL3-8B_8B_country_L3_prompt1_r1.json\n",
            "\n",
            "  ➤ [prompt2] prompt:\n",
            "You are a cultural anthropologist viewing street visuals. Given that mural in image is located in Asia, give these four pieces of info:\n",
            "\n",
            "- COUNTRY (choose exactly one: China, India, Indonesia, United Arab Emirates, Singapore, Israel, Timor-Leste, Maldives, Brunei)\n",
            "- LABEL (choose exactly one: political expression / vandalism / decoration / cultural identity / advertisement)\n",
            "- CONFIDENCE (0–100%)\n",
            "- TOP CUE (2–3 sentences describing the key visual/cultural cue)\n",
            "\n",
            "Be concise and calibrate CONFIDENCE to how strongly the visual cues support your claims.\n",
            "\n"
          ]
        },
        {
          "output_type": "stream",
          "name": "stderr",
          "text": [
            "Setting `pad_token_id` to `eos_token_id`:151645 for open-end generation.\n"
          ]
        },
        {
          "output_type": "stream",
          "name": "stdout",
          "text": [
            "  ✔ prompt2: infer_img() full-res ok\n",
            " Saved results to /content/drive/MyDrive/RQ1_Experiments/results/InternVL3-8B/RQ1_InternVL3-8B_8B_country_L3_prompt2_r1.json\n",
            "\n",
            "  ➤ [prompt3] prompt:\n",
            "Moderate a brief debate among a Geographer, a Street Artist, and a Museum Curator about this image, assuming it originates from Asia. For each expert, give:\n",
            "\n",
            "- ROLE: <role name>\n",
            "- COUNTRY (choose exactly one: China, India, Indonesia, United Arab Emirates, Singapore, Israel, Timor-Leste, Maldives, Brunei)\n",
            "- LABEL (political expression / vandalism / decoration / cultural identity / advertisement)\n",
            "- SHORT_RATIONALE (one concise sentence)\n",
            "\n",
            "After the three positions, write a 2-paragraph moderator resolution:\n",
            "1) Compare the three rationales and state which COUNTRY and LABEL you choose and why (trade-offs).\n",
            "2) List 2 visual cues that were decisive and mention one alternative explanation you rejected.\n",
            "\n",
            "Finish with: COUNTRY and LABEL (each on its own line).\n",
            "\n"
          ]
        },
        {
          "output_type": "stream",
          "name": "stderr",
          "text": [
            "Setting `pad_token_id` to `eos_token_id`:151645 for open-end generation.\n"
          ]
        },
        {
          "output_type": "stream",
          "name": "stdout",
          "text": [
            "  ✔ prompt3: infer_img() full-res ok\n",
            " Saved results to /content/drive/MyDrive/RQ1_Experiments/results/InternVL3-8B/RQ1_InternVL3-8B_8B_country_L3_prompt3_r1.json\n",
            "\n",
            "  ➤ [prompt4] prompt:\n",
            "You are a cultural anthropologist & artist. Given that mural in image is located in Asia, provide:\n",
            "\n",
            "- COUNTRY: two most likely countries (choose from: China, India, Indonesia, United Arab Emirates, Singapore, Israel, Timor-Leste, Maldives, Brunei) with percentages (sum ≈100), e.g. \"\"Iceland: 70%, Russia: 30%\"\"\n",
            "- WHY COUNTRY: 2–3 sentences explaining how visual cues suggest the chosen countries .\n",
            "\n",
            "- LABEL: choose from (political expression, vandalism, decoration, cultural identity, advertisement) and also assign probabilities for all five labels (sum ≈100)\n",
            "- WHY LABEL: 2–3 sentences linking cues to chosen label.\n",
            "\n",
            "- TOP CUES: list three concrete cues that were decisive (1–6 words each)\n",
            "- BIAS NOTE: 2–3 sentences reflecting how cultural bias might have affected the probability estimates.\n",
            "\n",
            "Constraints:\n",
            "- Avoid equal continent splits (e.g. 50/50). Show one as more likely.\n",
            "- Keep WHY COUNTRY and WHY LABEL tied to visible evidence (colors, symbols, technique, location clues etc).\n",
            "\n",
            "  ✔ prompt4: infer_img() full-res ok\n",
            " Saved results to /content/drive/MyDrive/RQ1_Experiments/results/InternVL3-8B/RQ1_InternVL3-8B_8B_country_L3_prompt4_r1.json\n",
            "\n",
            "------------------------------------------------------\n",
            "\n",
            "Processing 77/360: /content/drive/MyDrive/RQ1_Experiments/RQ1_Data_Batch1/Asia/China/Asia_China_photo_1bf10cdecb8c414a8a6e8ca509205fd64d59823b_TOP.jpg\n",
            "\n",
            "  ➤ [prompt1] prompt:\n",
            "Assume the image is from Asia. Analyze it and answer two things:\n",
            "\n",
            "1) Which country is this most likely from? (choose from China, India, Indonesia, United Arab Emirates, Singapore, Israel, Timor-Leste, Maldives, Brunei)\n",
            "\n",
            "2) What is the most suitable label: political expression, vandalism, decoration, cultural identity, or advertisement?\n",
            "\n"
          ]
        },
        {
          "output_type": "stream",
          "name": "stderr",
          "text": [
            "Setting `pad_token_id` to `eos_token_id`:151645 for open-end generation.\n",
            "Setting `pad_token_id` to `eos_token_id`:151645 for open-end generation.\n"
          ]
        },
        {
          "output_type": "stream",
          "name": "stdout",
          "text": [
            "  ✔ prompt1: infer_img() full-res ok\n",
            " Saved results to /content/drive/MyDrive/RQ1_Experiments/results/InternVL3-8B/RQ1_InternVL3-8B_8B_country_L3_prompt1_r1.json\n",
            "\n",
            "  ➤ [prompt2] prompt:\n",
            "You are a cultural anthropologist viewing street visuals. Given that mural in image is located in Asia, give these four pieces of info:\n",
            "\n",
            "- COUNTRY (choose exactly one: China, India, Indonesia, United Arab Emirates, Singapore, Israel, Timor-Leste, Maldives, Brunei)\n",
            "- LABEL (choose exactly one: political expression / vandalism / decoration / cultural identity / advertisement)\n",
            "- CONFIDENCE (0–100%)\n",
            "- TOP CUE (2–3 sentences describing the key visual/cultural cue)\n",
            "\n",
            "Be concise and calibrate CONFIDENCE to how strongly the visual cues support your claims.\n",
            "\n"
          ]
        },
        {
          "output_type": "stream",
          "name": "stderr",
          "text": [
            "Setting `pad_token_id` to `eos_token_id`:151645 for open-end generation.\n"
          ]
        },
        {
          "output_type": "stream",
          "name": "stdout",
          "text": [
            "  ✔ prompt2: infer_img() full-res ok\n",
            " Saved results to /content/drive/MyDrive/RQ1_Experiments/results/InternVL3-8B/RQ1_InternVL3-8B_8B_country_L3_prompt2_r1.json\n",
            "\n",
            "  ➤ [prompt3] prompt:\n",
            "Moderate a brief debate among a Geographer, a Street Artist, and a Museum Curator about this image, assuming it originates from Asia. For each expert, give:\n",
            "\n",
            "- ROLE: <role name>\n",
            "- COUNTRY (choose exactly one: China, India, Indonesia, United Arab Emirates, Singapore, Israel, Timor-Leste, Maldives, Brunei)\n",
            "- LABEL (political expression / vandalism / decoration / cultural identity / advertisement)\n",
            "- SHORT_RATIONALE (one concise sentence)\n",
            "\n",
            "After the three positions, write a 2-paragraph moderator resolution:\n",
            "1) Compare the three rationales and state which COUNTRY and LABEL you choose and why (trade-offs).\n",
            "2) List 2 visual cues that were decisive and mention one alternative explanation you rejected.\n",
            "\n",
            "Finish with: COUNTRY and LABEL (each on its own line).\n",
            "\n"
          ]
        },
        {
          "output_type": "stream",
          "name": "stderr",
          "text": [
            "Setting `pad_token_id` to `eos_token_id`:151645 for open-end generation.\n"
          ]
        },
        {
          "output_type": "stream",
          "name": "stdout",
          "text": [
            "  ✔ prompt3: infer_img() full-res ok\n",
            " Saved results to /content/drive/MyDrive/RQ1_Experiments/results/InternVL3-8B/RQ1_InternVL3-8B_8B_country_L3_prompt3_r1.json\n",
            "\n",
            "  ➤ [prompt4] prompt:\n",
            "You are a cultural anthropologist & artist. Given that mural in image is located in Asia, provide:\n",
            "\n",
            "- COUNTRY: two most likely countries (choose from: China, India, Indonesia, United Arab Emirates, Singapore, Israel, Timor-Leste, Maldives, Brunei) with percentages (sum ≈100), e.g. \"\"Iceland: 70%, Russia: 30%\"\"\n",
            "- WHY COUNTRY: 2–3 sentences explaining how visual cues suggest the chosen countries .\n",
            "\n",
            "- LABEL: choose from (political expression, vandalism, decoration, cultural identity, advertisement) and also assign probabilities for all five labels (sum ≈100)\n",
            "- WHY LABEL: 2–3 sentences linking cues to chosen label.\n",
            "\n",
            "- TOP CUES: list three concrete cues that were decisive (1–6 words each)\n",
            "- BIAS NOTE: 2–3 sentences reflecting how cultural bias might have affected the probability estimates.\n",
            "\n",
            "Constraints:\n",
            "- Avoid equal continent splits (e.g. 50/50). Show one as more likely.\n",
            "- Keep WHY COUNTRY and WHY LABEL tied to visible evidence (colors, symbols, technique, location clues etc).\n",
            "\n",
            "  ✔ prompt4: infer_img() full-res ok\n",
            " Saved results to /content/drive/MyDrive/RQ1_Experiments/results/InternVL3-8B/RQ1_InternVL3-8B_8B_country_L3_prompt4_r1.json\n",
            "\n",
            "------------------------------------------------------\n",
            "\n",
            "Processing 78/360: /content/drive/MyDrive/RQ1_Experiments/RQ1_Data_Batch1/Asia/China/Asia_China_photo_3a52b1ea95225e28c560c4995339bfee14247335_TOP.jpg\n",
            "\n",
            "  ➤ [prompt1] prompt:\n",
            "Assume the image is from Asia. Analyze it and answer two things:\n",
            "\n",
            "1) Which country is this most likely from? (choose from China, India, Indonesia, United Arab Emirates, Singapore, Israel, Timor-Leste, Maldives, Brunei)\n",
            "\n",
            "2) What is the most suitable label: political expression, vandalism, decoration, cultural identity, or advertisement?\n",
            "\n"
          ]
        },
        {
          "output_type": "stream",
          "name": "stderr",
          "text": [
            "Setting `pad_token_id` to `eos_token_id`:151645 for open-end generation.\n",
            "Setting `pad_token_id` to `eos_token_id`:151645 for open-end generation.\n"
          ]
        },
        {
          "output_type": "stream",
          "name": "stdout",
          "text": [
            "  ✔ prompt1: infer_img() full-res ok\n",
            " Saved results to /content/drive/MyDrive/RQ1_Experiments/results/InternVL3-8B/RQ1_InternVL3-8B_8B_country_L3_prompt1_r1.json\n",
            "\n",
            "  ➤ [prompt2] prompt:\n",
            "You are a cultural anthropologist viewing street visuals. Given that mural in image is located in Asia, give these four pieces of info:\n",
            "\n",
            "- COUNTRY (choose exactly one: China, India, Indonesia, United Arab Emirates, Singapore, Israel, Timor-Leste, Maldives, Brunei)\n",
            "- LABEL (choose exactly one: political expression / vandalism / decoration / cultural identity / advertisement)\n",
            "- CONFIDENCE (0–100%)\n",
            "- TOP CUE (2–3 sentences describing the key visual/cultural cue)\n",
            "\n",
            "Be concise and calibrate CONFIDENCE to how strongly the visual cues support your claims.\n",
            "\n"
          ]
        },
        {
          "output_type": "stream",
          "name": "stderr",
          "text": [
            "Setting `pad_token_id` to `eos_token_id`:151645 for open-end generation.\n"
          ]
        },
        {
          "output_type": "stream",
          "name": "stdout",
          "text": [
            "  ✔ prompt2: infer_img() full-res ok\n",
            " Saved results to /content/drive/MyDrive/RQ1_Experiments/results/InternVL3-8B/RQ1_InternVL3-8B_8B_country_L3_prompt2_r1.json\n",
            "\n",
            "  ➤ [prompt3] prompt:\n",
            "Moderate a brief debate among a Geographer, a Street Artist, and a Museum Curator about this image, assuming it originates from Asia. For each expert, give:\n",
            "\n",
            "- ROLE: <role name>\n",
            "- COUNTRY (choose exactly one: China, India, Indonesia, United Arab Emirates, Singapore, Israel, Timor-Leste, Maldives, Brunei)\n",
            "- LABEL (political expression / vandalism / decoration / cultural identity / advertisement)\n",
            "- SHORT_RATIONALE (one concise sentence)\n",
            "\n",
            "After the three positions, write a 2-paragraph moderator resolution:\n",
            "1) Compare the three rationales and state which COUNTRY and LABEL you choose and why (trade-offs).\n",
            "2) List 2 visual cues that were decisive and mention one alternative explanation you rejected.\n",
            "\n",
            "Finish with: COUNTRY and LABEL (each on its own line).\n",
            "\n"
          ]
        },
        {
          "output_type": "stream",
          "name": "stderr",
          "text": [
            "Setting `pad_token_id` to `eos_token_id`:151645 for open-end generation.\n"
          ]
        },
        {
          "output_type": "stream",
          "name": "stdout",
          "text": [
            "  ✔ prompt3: infer_img() full-res ok\n",
            " Saved results to /content/drive/MyDrive/RQ1_Experiments/results/InternVL3-8B/RQ1_InternVL3-8B_8B_country_L3_prompt3_r1.json\n",
            "\n",
            "  ➤ [prompt4] prompt:\n",
            "You are a cultural anthropologist & artist. Given that mural in image is located in Asia, provide:\n",
            "\n",
            "- COUNTRY: two most likely countries (choose from: China, India, Indonesia, United Arab Emirates, Singapore, Israel, Timor-Leste, Maldives, Brunei) with percentages (sum ≈100), e.g. \"\"Iceland: 70%, Russia: 30%\"\"\n",
            "- WHY COUNTRY: 2–3 sentences explaining how visual cues suggest the chosen countries .\n",
            "\n",
            "- LABEL: choose from (political expression, vandalism, decoration, cultural identity, advertisement) and also assign probabilities for all five labels (sum ≈100)\n",
            "- WHY LABEL: 2–3 sentences linking cues to chosen label.\n",
            "\n",
            "- TOP CUES: list three concrete cues that were decisive (1–6 words each)\n",
            "- BIAS NOTE: 2–3 sentences reflecting how cultural bias might have affected the probability estimates.\n",
            "\n",
            "Constraints:\n",
            "- Avoid equal continent splits (e.g. 50/50). Show one as more likely.\n",
            "- Keep WHY COUNTRY and WHY LABEL tied to visible evidence (colors, symbols, technique, location clues etc).\n",
            "\n",
            "  ✔ prompt4: infer_img() full-res ok\n",
            " Saved results to /content/drive/MyDrive/RQ1_Experiments/results/InternVL3-8B/RQ1_InternVL3-8B_8B_country_L3_prompt4_r1.json\n",
            "\n",
            "------------------------------------------------------\n",
            "\n",
            "Processing 79/360: /content/drive/MyDrive/RQ1_Experiments/RQ1_Data_Batch1/Asia/China/Asia_China_photo_41e996c991bbef7508711c93d7549281f35a9f59_TOP.jpg\n",
            "\n",
            "  ➤ [prompt1] prompt:\n",
            "Assume the image is from Asia. Analyze it and answer two things:\n",
            "\n",
            "1) Which country is this most likely from? (choose from China, India, Indonesia, United Arab Emirates, Singapore, Israel, Timor-Leste, Maldives, Brunei)\n",
            "\n",
            "2) What is the most suitable label: political expression, vandalism, decoration, cultural identity, or advertisement?\n",
            "\n"
          ]
        },
        {
          "output_type": "stream",
          "name": "stderr",
          "text": [
            "Setting `pad_token_id` to `eos_token_id`:151645 for open-end generation.\n",
            "Setting `pad_token_id` to `eos_token_id`:151645 for open-end generation.\n"
          ]
        },
        {
          "output_type": "stream",
          "name": "stdout",
          "text": [
            "  ✔ prompt1: infer_img() full-res ok\n",
            " Saved results to /content/drive/MyDrive/RQ1_Experiments/results/InternVL3-8B/RQ1_InternVL3-8B_8B_country_L3_prompt1_r1.json\n",
            "\n",
            "  ➤ [prompt2] prompt:\n",
            "You are a cultural anthropologist viewing street visuals. Given that mural in image is located in Asia, give these four pieces of info:\n",
            "\n",
            "- COUNTRY (choose exactly one: China, India, Indonesia, United Arab Emirates, Singapore, Israel, Timor-Leste, Maldives, Brunei)\n",
            "- LABEL (choose exactly one: political expression / vandalism / decoration / cultural identity / advertisement)\n",
            "- CONFIDENCE (0–100%)\n",
            "- TOP CUE (2–3 sentences describing the key visual/cultural cue)\n",
            "\n",
            "Be concise and calibrate CONFIDENCE to how strongly the visual cues support your claims.\n",
            "\n"
          ]
        },
        {
          "output_type": "stream",
          "name": "stderr",
          "text": [
            "Setting `pad_token_id` to `eos_token_id`:151645 for open-end generation.\n"
          ]
        },
        {
          "output_type": "stream",
          "name": "stdout",
          "text": [
            "  ✔ prompt2: infer_img() full-res ok\n",
            " Saved results to /content/drive/MyDrive/RQ1_Experiments/results/InternVL3-8B/RQ1_InternVL3-8B_8B_country_L3_prompt2_r1.json\n",
            "\n",
            "  ➤ [prompt3] prompt:\n",
            "Moderate a brief debate among a Geographer, a Street Artist, and a Museum Curator about this image, assuming it originates from Asia. For each expert, give:\n",
            "\n",
            "- ROLE: <role name>\n",
            "- COUNTRY (choose exactly one: China, India, Indonesia, United Arab Emirates, Singapore, Israel, Timor-Leste, Maldives, Brunei)\n",
            "- LABEL (political expression / vandalism / decoration / cultural identity / advertisement)\n",
            "- SHORT_RATIONALE (one concise sentence)\n",
            "\n",
            "After the three positions, write a 2-paragraph moderator resolution:\n",
            "1) Compare the three rationales and state which COUNTRY and LABEL you choose and why (trade-offs).\n",
            "2) List 2 visual cues that were decisive and mention one alternative explanation you rejected.\n",
            "\n",
            "Finish with: COUNTRY and LABEL (each on its own line).\n",
            "\n"
          ]
        },
        {
          "output_type": "stream",
          "name": "stderr",
          "text": [
            "Setting `pad_token_id` to `eos_token_id`:151645 for open-end generation.\n"
          ]
        },
        {
          "output_type": "stream",
          "name": "stdout",
          "text": [
            "  ✔ prompt3: infer_img() full-res ok\n",
            " Saved results to /content/drive/MyDrive/RQ1_Experiments/results/InternVL3-8B/RQ1_InternVL3-8B_8B_country_L3_prompt3_r1.json\n",
            "\n",
            "  ➤ [prompt4] prompt:\n",
            "You are a cultural anthropologist & artist. Given that mural in image is located in Asia, provide:\n",
            "\n",
            "- COUNTRY: two most likely countries (choose from: China, India, Indonesia, United Arab Emirates, Singapore, Israel, Timor-Leste, Maldives, Brunei) with percentages (sum ≈100), e.g. \"\"Iceland: 70%, Russia: 30%\"\"\n",
            "- WHY COUNTRY: 2–3 sentences explaining how visual cues suggest the chosen countries .\n",
            "\n",
            "- LABEL: choose from (political expression, vandalism, decoration, cultural identity, advertisement) and also assign probabilities for all five labels (sum ≈100)\n",
            "- WHY LABEL: 2–3 sentences linking cues to chosen label.\n",
            "\n",
            "- TOP CUES: list three concrete cues that were decisive (1–6 words each)\n",
            "- BIAS NOTE: 2–3 sentences reflecting how cultural bias might have affected the probability estimates.\n",
            "\n",
            "Constraints:\n",
            "- Avoid equal continent splits (e.g. 50/50). Show one as more likely.\n",
            "- Keep WHY COUNTRY and WHY LABEL tied to visible evidence (colors, symbols, technique, location clues etc).\n",
            "\n",
            "  ✔ prompt4: infer_img() full-res ok\n",
            " Saved results to /content/drive/MyDrive/RQ1_Experiments/results/InternVL3-8B/RQ1_InternVL3-8B_8B_country_L3_prompt4_r1.json\n",
            "\n",
            "------------------------------------------------------\n",
            "\n",
            "Processing 80/360: /content/drive/MyDrive/RQ1_Experiments/RQ1_Data_Batch1/Asia/China/Asia_China_photo_48e604d9da848f7c05f5bce29a93f3aa9f533a51_TOP.jpg\n",
            "\n",
            "  ➤ [prompt1] prompt:\n",
            "Assume the image is from Asia. Analyze it and answer two things:\n",
            "\n",
            "1) Which country is this most likely from? (choose from China, India, Indonesia, United Arab Emirates, Singapore, Israel, Timor-Leste, Maldives, Brunei)\n",
            "\n",
            "2) What is the most suitable label: political expression, vandalism, decoration, cultural identity, or advertisement?\n",
            "\n"
          ]
        },
        {
          "output_type": "stream",
          "name": "stderr",
          "text": [
            "Setting `pad_token_id` to `eos_token_id`:151645 for open-end generation.\n",
            "Setting `pad_token_id` to `eos_token_id`:151645 for open-end generation.\n"
          ]
        },
        {
          "output_type": "stream",
          "name": "stdout",
          "text": [
            "  ✔ prompt1: infer_img() full-res ok\n",
            " Saved results to /content/drive/MyDrive/RQ1_Experiments/results/InternVL3-8B/RQ1_InternVL3-8B_8B_country_L3_prompt1_r1.json\n",
            "\n",
            "  ➤ [prompt2] prompt:\n",
            "You are a cultural anthropologist viewing street visuals. Given that mural in image is located in Asia, give these four pieces of info:\n",
            "\n",
            "- COUNTRY (choose exactly one: China, India, Indonesia, United Arab Emirates, Singapore, Israel, Timor-Leste, Maldives, Brunei)\n",
            "- LABEL (choose exactly one: political expression / vandalism / decoration / cultural identity / advertisement)\n",
            "- CONFIDENCE (0–100%)\n",
            "- TOP CUE (2–3 sentences describing the key visual/cultural cue)\n",
            "\n",
            "Be concise and calibrate CONFIDENCE to how strongly the visual cues support your claims.\n",
            "\n"
          ]
        },
        {
          "output_type": "stream",
          "name": "stderr",
          "text": [
            "Setting `pad_token_id` to `eos_token_id`:151645 for open-end generation.\n"
          ]
        },
        {
          "output_type": "stream",
          "name": "stdout",
          "text": [
            "  ✔ prompt2: infer_img() full-res ok\n",
            " Saved results to /content/drive/MyDrive/RQ1_Experiments/results/InternVL3-8B/RQ1_InternVL3-8B_8B_country_L3_prompt2_r1.json\n",
            "\n",
            "  ➤ [prompt3] prompt:\n",
            "Moderate a brief debate among a Geographer, a Street Artist, and a Museum Curator about this image, assuming it originates from Asia. For each expert, give:\n",
            "\n",
            "- ROLE: <role name>\n",
            "- COUNTRY (choose exactly one: China, India, Indonesia, United Arab Emirates, Singapore, Israel, Timor-Leste, Maldives, Brunei)\n",
            "- LABEL (political expression / vandalism / decoration / cultural identity / advertisement)\n",
            "- SHORT_RATIONALE (one concise sentence)\n",
            "\n",
            "After the three positions, write a 2-paragraph moderator resolution:\n",
            "1) Compare the three rationales and state which COUNTRY and LABEL you choose and why (trade-offs).\n",
            "2) List 2 visual cues that were decisive and mention one alternative explanation you rejected.\n",
            "\n",
            "Finish with: COUNTRY and LABEL (each on its own line).\n",
            "\n"
          ]
        },
        {
          "output_type": "stream",
          "name": "stderr",
          "text": [
            "Setting `pad_token_id` to `eos_token_id`:151645 for open-end generation.\n"
          ]
        },
        {
          "output_type": "stream",
          "name": "stdout",
          "text": [
            "  ✔ prompt3: infer_img() full-res ok\n",
            " Saved results to /content/drive/MyDrive/RQ1_Experiments/results/InternVL3-8B/RQ1_InternVL3-8B_8B_country_L3_prompt3_r1.json\n",
            "\n",
            "  ➤ [prompt4] prompt:\n",
            "You are a cultural anthropologist & artist. Given that mural in image is located in Asia, provide:\n",
            "\n",
            "- COUNTRY: two most likely countries (choose from: China, India, Indonesia, United Arab Emirates, Singapore, Israel, Timor-Leste, Maldives, Brunei) with percentages (sum ≈100), e.g. \"\"Iceland: 70%, Russia: 30%\"\"\n",
            "- WHY COUNTRY: 2–3 sentences explaining how visual cues suggest the chosen countries .\n",
            "\n",
            "- LABEL: choose from (political expression, vandalism, decoration, cultural identity, advertisement) and also assign probabilities for all five labels (sum ≈100)\n",
            "- WHY LABEL: 2–3 sentences linking cues to chosen label.\n",
            "\n",
            "- TOP CUES: list three concrete cues that were decisive (1–6 words each)\n",
            "- BIAS NOTE: 2–3 sentences reflecting how cultural bias might have affected the probability estimates.\n",
            "\n",
            "Constraints:\n",
            "- Avoid equal continent splits (e.g. 50/50). Show one as more likely.\n",
            "- Keep WHY COUNTRY and WHY LABEL tied to visible evidence (colors, symbols, technique, location clues etc).\n",
            "\n",
            "  ✔ prompt4: infer_img() full-res ok\n",
            " Saved results to /content/drive/MyDrive/RQ1_Experiments/results/InternVL3-8B/RQ1_InternVL3-8B_8B_country_L3_prompt4_r1.json\n",
            "\n",
            "------------------------------------------------------\n",
            "\n",
            "Processing 81/360: /content/drive/MyDrive/RQ1_Experiments/RQ1_Data_Batch1/Asia/China/Asia_China_photo_73e93182aad5840f8199a0cc9c53ad81ae42b52c_TOP.jpg\n",
            "\n",
            "  ➤ [prompt1] prompt:\n",
            "Assume the image is from Asia. Analyze it and answer two things:\n",
            "\n",
            "1) Which country is this most likely from? (choose from China, India, Indonesia, United Arab Emirates, Singapore, Israel, Timor-Leste, Maldives, Brunei)\n",
            "\n",
            "2) What is the most suitable label: political expression, vandalism, decoration, cultural identity, or advertisement?\n",
            "\n"
          ]
        },
        {
          "output_type": "stream",
          "name": "stderr",
          "text": [
            "Setting `pad_token_id` to `eos_token_id`:151645 for open-end generation.\n",
            "Setting `pad_token_id` to `eos_token_id`:151645 for open-end generation.\n"
          ]
        },
        {
          "output_type": "stream",
          "name": "stdout",
          "text": [
            "  ✔ prompt1: infer_img() full-res ok\n",
            " Saved results to /content/drive/MyDrive/RQ1_Experiments/results/InternVL3-8B/RQ1_InternVL3-8B_8B_country_L3_prompt1_r1.json\n",
            "\n",
            "  ➤ [prompt2] prompt:\n",
            "You are a cultural anthropologist viewing street visuals. Given that mural in image is located in Asia, give these four pieces of info:\n",
            "\n",
            "- COUNTRY (choose exactly one: China, India, Indonesia, United Arab Emirates, Singapore, Israel, Timor-Leste, Maldives, Brunei)\n",
            "- LABEL (choose exactly one: political expression / vandalism / decoration / cultural identity / advertisement)\n",
            "- CONFIDENCE (0–100%)\n",
            "- TOP CUE (2–3 sentences describing the key visual/cultural cue)\n",
            "\n",
            "Be concise and calibrate CONFIDENCE to how strongly the visual cues support your claims.\n",
            "\n"
          ]
        },
        {
          "output_type": "stream",
          "name": "stderr",
          "text": [
            "Setting `pad_token_id` to `eos_token_id`:151645 for open-end generation.\n"
          ]
        },
        {
          "output_type": "stream",
          "name": "stdout",
          "text": [
            "  ✔ prompt2: infer_img() full-res ok\n",
            " Saved results to /content/drive/MyDrive/RQ1_Experiments/results/InternVL3-8B/RQ1_InternVL3-8B_8B_country_L3_prompt2_r1.json\n",
            "\n",
            "  ➤ [prompt3] prompt:\n",
            "Moderate a brief debate among a Geographer, a Street Artist, and a Museum Curator about this image, assuming it originates from Asia. For each expert, give:\n",
            "\n",
            "- ROLE: <role name>\n",
            "- COUNTRY (choose exactly one: China, India, Indonesia, United Arab Emirates, Singapore, Israel, Timor-Leste, Maldives, Brunei)\n",
            "- LABEL (political expression / vandalism / decoration / cultural identity / advertisement)\n",
            "- SHORT_RATIONALE (one concise sentence)\n",
            "\n",
            "After the three positions, write a 2-paragraph moderator resolution:\n",
            "1) Compare the three rationales and state which COUNTRY and LABEL you choose and why (trade-offs).\n",
            "2) List 2 visual cues that were decisive and mention one alternative explanation you rejected.\n",
            "\n",
            "Finish with: COUNTRY and LABEL (each on its own line).\n",
            "\n"
          ]
        },
        {
          "output_type": "stream",
          "name": "stderr",
          "text": [
            "Setting `pad_token_id` to `eos_token_id`:151645 for open-end generation.\n"
          ]
        },
        {
          "output_type": "stream",
          "name": "stdout",
          "text": [
            "  ✔ prompt3: infer_img() full-res ok\n",
            " Saved results to /content/drive/MyDrive/RQ1_Experiments/results/InternVL3-8B/RQ1_InternVL3-8B_8B_country_L3_prompt3_r1.json\n",
            "\n",
            "  ➤ [prompt4] prompt:\n",
            "You are a cultural anthropologist & artist. Given that mural in image is located in Asia, provide:\n",
            "\n",
            "- COUNTRY: two most likely countries (choose from: China, India, Indonesia, United Arab Emirates, Singapore, Israel, Timor-Leste, Maldives, Brunei) with percentages (sum ≈100), e.g. \"\"Iceland: 70%, Russia: 30%\"\"\n",
            "- WHY COUNTRY: 2–3 sentences explaining how visual cues suggest the chosen countries .\n",
            "\n",
            "- LABEL: choose from (political expression, vandalism, decoration, cultural identity, advertisement) and also assign probabilities for all five labels (sum ≈100)\n",
            "- WHY LABEL: 2–3 sentences linking cues to chosen label.\n",
            "\n",
            "- TOP CUES: list three concrete cues that were decisive (1–6 words each)\n",
            "- BIAS NOTE: 2–3 sentences reflecting how cultural bias might have affected the probability estimates.\n",
            "\n",
            "Constraints:\n",
            "- Avoid equal continent splits (e.g. 50/50). Show one as more likely.\n",
            "- Keep WHY COUNTRY and WHY LABEL tied to visible evidence (colors, symbols, technique, location clues etc).\n",
            "\n",
            "  ✔ prompt4: infer_img() full-res ok\n",
            " Saved results to /content/drive/MyDrive/RQ1_Experiments/results/InternVL3-8B/RQ1_InternVL3-8B_8B_country_L3_prompt4_r1.json\n",
            "\n",
            "------------------------------------------------------\n",
            "\n",
            "Processing 82/360: /content/drive/MyDrive/RQ1_Experiments/RQ1_Data_Batch1/Asia/China/Asia_China_photo_7918448abf7479ef8bd75140595da0de8ce0248e_TOP.jpg\n",
            "\n",
            "  ➤ [prompt1] prompt:\n",
            "Assume the image is from Asia. Analyze it and answer two things:\n",
            "\n",
            "1) Which country is this most likely from? (choose from China, India, Indonesia, United Arab Emirates, Singapore, Israel, Timor-Leste, Maldives, Brunei)\n",
            "\n",
            "2) What is the most suitable label: political expression, vandalism, decoration, cultural identity, or advertisement?\n",
            "\n"
          ]
        },
        {
          "output_type": "stream",
          "name": "stderr",
          "text": [
            "Setting `pad_token_id` to `eos_token_id`:151645 for open-end generation.\n",
            "Setting `pad_token_id` to `eos_token_id`:151645 for open-end generation.\n"
          ]
        },
        {
          "output_type": "stream",
          "name": "stdout",
          "text": [
            "  ✔ prompt1: infer_img() full-res ok\n",
            " Saved results to /content/drive/MyDrive/RQ1_Experiments/results/InternVL3-8B/RQ1_InternVL3-8B_8B_country_L3_prompt1_r1.json\n",
            "\n",
            "  ➤ [prompt2] prompt:\n",
            "You are a cultural anthropologist viewing street visuals. Given that mural in image is located in Asia, give these four pieces of info:\n",
            "\n",
            "- COUNTRY (choose exactly one: China, India, Indonesia, United Arab Emirates, Singapore, Israel, Timor-Leste, Maldives, Brunei)\n",
            "- LABEL (choose exactly one: political expression / vandalism / decoration / cultural identity / advertisement)\n",
            "- CONFIDENCE (0–100%)\n",
            "- TOP CUE (2–3 sentences describing the key visual/cultural cue)\n",
            "\n",
            "Be concise and calibrate CONFIDENCE to how strongly the visual cues support your claims.\n",
            "\n"
          ]
        },
        {
          "output_type": "stream",
          "name": "stderr",
          "text": [
            "Setting `pad_token_id` to `eos_token_id`:151645 for open-end generation.\n"
          ]
        },
        {
          "output_type": "stream",
          "name": "stdout",
          "text": [
            "  ✔ prompt2: infer_img() full-res ok\n",
            " Saved results to /content/drive/MyDrive/RQ1_Experiments/results/InternVL3-8B/RQ1_InternVL3-8B_8B_country_L3_prompt2_r1.json\n",
            "\n",
            "  ➤ [prompt3] prompt:\n",
            "Moderate a brief debate among a Geographer, a Street Artist, and a Museum Curator about this image, assuming it originates from Asia. For each expert, give:\n",
            "\n",
            "- ROLE: <role name>\n",
            "- COUNTRY (choose exactly one: China, India, Indonesia, United Arab Emirates, Singapore, Israel, Timor-Leste, Maldives, Brunei)\n",
            "- LABEL (political expression / vandalism / decoration / cultural identity / advertisement)\n",
            "- SHORT_RATIONALE (one concise sentence)\n",
            "\n",
            "After the three positions, write a 2-paragraph moderator resolution:\n",
            "1) Compare the three rationales and state which COUNTRY and LABEL you choose and why (trade-offs).\n",
            "2) List 2 visual cues that were decisive and mention one alternative explanation you rejected.\n",
            "\n",
            "Finish with: COUNTRY and LABEL (each on its own line).\n",
            "\n"
          ]
        },
        {
          "output_type": "stream",
          "name": "stderr",
          "text": [
            "Setting `pad_token_id` to `eos_token_id`:151645 for open-end generation.\n"
          ]
        },
        {
          "output_type": "stream",
          "name": "stdout",
          "text": [
            "  ✔ prompt3: infer_img() full-res ok\n",
            " Saved results to /content/drive/MyDrive/RQ1_Experiments/results/InternVL3-8B/RQ1_InternVL3-8B_8B_country_L3_prompt3_r1.json\n",
            "\n",
            "  ➤ [prompt4] prompt:\n",
            "You are a cultural anthropologist & artist. Given that mural in image is located in Asia, provide:\n",
            "\n",
            "- COUNTRY: two most likely countries (choose from: China, India, Indonesia, United Arab Emirates, Singapore, Israel, Timor-Leste, Maldives, Brunei) with percentages (sum ≈100), e.g. \"\"Iceland: 70%, Russia: 30%\"\"\n",
            "- WHY COUNTRY: 2–3 sentences explaining how visual cues suggest the chosen countries .\n",
            "\n",
            "- LABEL: choose from (political expression, vandalism, decoration, cultural identity, advertisement) and also assign probabilities for all five labels (sum ≈100)\n",
            "- WHY LABEL: 2–3 sentences linking cues to chosen label.\n",
            "\n",
            "- TOP CUES: list three concrete cues that were decisive (1–6 words each)\n",
            "- BIAS NOTE: 2–3 sentences reflecting how cultural bias might have affected the probability estimates.\n",
            "\n",
            "Constraints:\n",
            "- Avoid equal continent splits (e.g. 50/50). Show one as more likely.\n",
            "- Keep WHY COUNTRY and WHY LABEL tied to visible evidence (colors, symbols, technique, location clues etc).\n",
            "\n",
            "  ✔ prompt4: infer_img() full-res ok\n",
            " Saved results to /content/drive/MyDrive/RQ1_Experiments/results/InternVL3-8B/RQ1_InternVL3-8B_8B_country_L3_prompt4_r1.json\n",
            "\n",
            "------------------------------------------------------\n",
            "\n",
            "Processing 83/360: /content/drive/MyDrive/RQ1_Experiments/RQ1_Data_Batch1/Asia/China/Asia_China_photo_8dafe2684059db3626bb1ec65178684a4ed929bf_TOP.jpg\n",
            "\n",
            "  ➤ [prompt1] prompt:\n",
            "Assume the image is from Asia. Analyze it and answer two things:\n",
            "\n",
            "1) Which country is this most likely from? (choose from China, India, Indonesia, United Arab Emirates, Singapore, Israel, Timor-Leste, Maldives, Brunei)\n",
            "\n",
            "2) What is the most suitable label: political expression, vandalism, decoration, cultural identity, or advertisement?\n",
            "\n"
          ]
        },
        {
          "output_type": "stream",
          "name": "stderr",
          "text": [
            "Setting `pad_token_id` to `eos_token_id`:151645 for open-end generation.\n",
            "Setting `pad_token_id` to `eos_token_id`:151645 for open-end generation.\n"
          ]
        },
        {
          "output_type": "stream",
          "name": "stdout",
          "text": [
            "  ✔ prompt1: infer_img() full-res ok\n",
            " Saved results to /content/drive/MyDrive/RQ1_Experiments/results/InternVL3-8B/RQ1_InternVL3-8B_8B_country_L3_prompt1_r1.json\n",
            "\n",
            "  ➤ [prompt2] prompt:\n",
            "You are a cultural anthropologist viewing street visuals. Given that mural in image is located in Asia, give these four pieces of info:\n",
            "\n",
            "- COUNTRY (choose exactly one: China, India, Indonesia, United Arab Emirates, Singapore, Israel, Timor-Leste, Maldives, Brunei)\n",
            "- LABEL (choose exactly one: political expression / vandalism / decoration / cultural identity / advertisement)\n",
            "- CONFIDENCE (0–100%)\n",
            "- TOP CUE (2–3 sentences describing the key visual/cultural cue)\n",
            "\n",
            "Be concise and calibrate CONFIDENCE to how strongly the visual cues support your claims.\n",
            "\n"
          ]
        },
        {
          "output_type": "stream",
          "name": "stderr",
          "text": [
            "Setting `pad_token_id` to `eos_token_id`:151645 for open-end generation.\n"
          ]
        },
        {
          "output_type": "stream",
          "name": "stdout",
          "text": [
            "  ✔ prompt2: infer_img() full-res ok\n",
            " Saved results to /content/drive/MyDrive/RQ1_Experiments/results/InternVL3-8B/RQ1_InternVL3-8B_8B_country_L3_prompt2_r1.json\n",
            "\n",
            "  ➤ [prompt3] prompt:\n",
            "Moderate a brief debate among a Geographer, a Street Artist, and a Museum Curator about this image, assuming it originates from Asia. For each expert, give:\n",
            "\n",
            "- ROLE: <role name>\n",
            "- COUNTRY (choose exactly one: China, India, Indonesia, United Arab Emirates, Singapore, Israel, Timor-Leste, Maldives, Brunei)\n",
            "- LABEL (political expression / vandalism / decoration / cultural identity / advertisement)\n",
            "- SHORT_RATIONALE (one concise sentence)\n",
            "\n",
            "After the three positions, write a 2-paragraph moderator resolution:\n",
            "1) Compare the three rationales and state which COUNTRY and LABEL you choose and why (trade-offs).\n",
            "2) List 2 visual cues that were decisive and mention one alternative explanation you rejected.\n",
            "\n",
            "Finish with: COUNTRY and LABEL (each on its own line).\n",
            "\n"
          ]
        },
        {
          "output_type": "stream",
          "name": "stderr",
          "text": [
            "Setting `pad_token_id` to `eos_token_id`:151645 for open-end generation.\n"
          ]
        },
        {
          "output_type": "stream",
          "name": "stdout",
          "text": [
            "  ✔ prompt3: infer_img() full-res ok\n",
            " Saved results to /content/drive/MyDrive/RQ1_Experiments/results/InternVL3-8B/RQ1_InternVL3-8B_8B_country_L3_prompt3_r1.json\n",
            "\n",
            "  ➤ [prompt4] prompt:\n",
            "You are a cultural anthropologist & artist. Given that mural in image is located in Asia, provide:\n",
            "\n",
            "- COUNTRY: two most likely countries (choose from: China, India, Indonesia, United Arab Emirates, Singapore, Israel, Timor-Leste, Maldives, Brunei) with percentages (sum ≈100), e.g. \"\"Iceland: 70%, Russia: 30%\"\"\n",
            "- WHY COUNTRY: 2–3 sentences explaining how visual cues suggest the chosen countries .\n",
            "\n",
            "- LABEL: choose from (political expression, vandalism, decoration, cultural identity, advertisement) and also assign probabilities for all five labels (sum ≈100)\n",
            "- WHY LABEL: 2–3 sentences linking cues to chosen label.\n",
            "\n",
            "- TOP CUES: list three concrete cues that were decisive (1–6 words each)\n",
            "- BIAS NOTE: 2–3 sentences reflecting how cultural bias might have affected the probability estimates.\n",
            "\n",
            "Constraints:\n",
            "- Avoid equal continent splits (e.g. 50/50). Show one as more likely.\n",
            "- Keep WHY COUNTRY and WHY LABEL tied to visible evidence (colors, symbols, technique, location clues etc).\n",
            "\n",
            "  ✔ prompt4: infer_img() full-res ok\n",
            " Saved results to /content/drive/MyDrive/RQ1_Experiments/results/InternVL3-8B/RQ1_InternVL3-8B_8B_country_L3_prompt4_r1.json\n",
            "\n",
            "------------------------------------------------------\n",
            "\n",
            "Processing 84/360: /content/drive/MyDrive/RQ1_Experiments/RQ1_Data_Batch1/Asia/China/Asia_China_photo_b196f14dc2701c21b023a6ac7ec8135de536fa76_TOP.jpg\n",
            "\n",
            "  ➤ [prompt1] prompt:\n",
            "Assume the image is from Asia. Analyze it and answer two things:\n",
            "\n",
            "1) Which country is this most likely from? (choose from China, India, Indonesia, United Arab Emirates, Singapore, Israel, Timor-Leste, Maldives, Brunei)\n",
            "\n",
            "2) What is the most suitable label: political expression, vandalism, decoration, cultural identity, or advertisement?\n",
            "\n"
          ]
        },
        {
          "output_type": "stream",
          "name": "stderr",
          "text": [
            "Setting `pad_token_id` to `eos_token_id`:151645 for open-end generation.\n",
            "Setting `pad_token_id` to `eos_token_id`:151645 for open-end generation.\n"
          ]
        },
        {
          "output_type": "stream",
          "name": "stdout",
          "text": [
            "  ✔ prompt1: infer_img() full-res ok\n",
            " Saved results to /content/drive/MyDrive/RQ1_Experiments/results/InternVL3-8B/RQ1_InternVL3-8B_8B_country_L3_prompt1_r1.json\n",
            "\n",
            "  ➤ [prompt2] prompt:\n",
            "You are a cultural anthropologist viewing street visuals. Given that mural in image is located in Asia, give these four pieces of info:\n",
            "\n",
            "- COUNTRY (choose exactly one: China, India, Indonesia, United Arab Emirates, Singapore, Israel, Timor-Leste, Maldives, Brunei)\n",
            "- LABEL (choose exactly one: political expression / vandalism / decoration / cultural identity / advertisement)\n",
            "- CONFIDENCE (0–100%)\n",
            "- TOP CUE (2–3 sentences describing the key visual/cultural cue)\n",
            "\n",
            "Be concise and calibrate CONFIDENCE to how strongly the visual cues support your claims.\n",
            "\n"
          ]
        },
        {
          "output_type": "stream",
          "name": "stderr",
          "text": [
            "Setting `pad_token_id` to `eos_token_id`:151645 for open-end generation.\n"
          ]
        },
        {
          "output_type": "stream",
          "name": "stdout",
          "text": [
            "  ✔ prompt2: infer_img() full-res ok\n",
            " Saved results to /content/drive/MyDrive/RQ1_Experiments/results/InternVL3-8B/RQ1_InternVL3-8B_8B_country_L3_prompt2_r1.json\n",
            "\n",
            "  ➤ [prompt3] prompt:\n",
            "Moderate a brief debate among a Geographer, a Street Artist, and a Museum Curator about this image, assuming it originates from Asia. For each expert, give:\n",
            "\n",
            "- ROLE: <role name>\n",
            "- COUNTRY (choose exactly one: China, India, Indonesia, United Arab Emirates, Singapore, Israel, Timor-Leste, Maldives, Brunei)\n",
            "- LABEL (political expression / vandalism / decoration / cultural identity / advertisement)\n",
            "- SHORT_RATIONALE (one concise sentence)\n",
            "\n",
            "After the three positions, write a 2-paragraph moderator resolution:\n",
            "1) Compare the three rationales and state which COUNTRY and LABEL you choose and why (trade-offs).\n",
            "2) List 2 visual cues that were decisive and mention one alternative explanation you rejected.\n",
            "\n",
            "Finish with: COUNTRY and LABEL (each on its own line).\n",
            "\n"
          ]
        },
        {
          "output_type": "stream",
          "name": "stderr",
          "text": [
            "Setting `pad_token_id` to `eos_token_id`:151645 for open-end generation.\n"
          ]
        },
        {
          "output_type": "stream",
          "name": "stdout",
          "text": [
            "  ✔ prompt3: infer_img() full-res ok\n",
            " Saved results to /content/drive/MyDrive/RQ1_Experiments/results/InternVL3-8B/RQ1_InternVL3-8B_8B_country_L3_prompt3_r1.json\n",
            "\n",
            "  ➤ [prompt4] prompt:\n",
            "You are a cultural anthropologist & artist. Given that mural in image is located in Asia, provide:\n",
            "\n",
            "- COUNTRY: two most likely countries (choose from: China, India, Indonesia, United Arab Emirates, Singapore, Israel, Timor-Leste, Maldives, Brunei) with percentages (sum ≈100), e.g. \"\"Iceland: 70%, Russia: 30%\"\"\n",
            "- WHY COUNTRY: 2–3 sentences explaining how visual cues suggest the chosen countries .\n",
            "\n",
            "- LABEL: choose from (political expression, vandalism, decoration, cultural identity, advertisement) and also assign probabilities for all five labels (sum ≈100)\n",
            "- WHY LABEL: 2–3 sentences linking cues to chosen label.\n",
            "\n",
            "- TOP CUES: list three concrete cues that were decisive (1–6 words each)\n",
            "- BIAS NOTE: 2–3 sentences reflecting how cultural bias might have affected the probability estimates.\n",
            "\n",
            "Constraints:\n",
            "- Avoid equal continent splits (e.g. 50/50). Show one as more likely.\n",
            "- Keep WHY COUNTRY and WHY LABEL tied to visible evidence (colors, symbols, technique, location clues etc).\n",
            "\n",
            "  ✔ prompt4: infer_img() full-res ok\n",
            " Saved results to /content/drive/MyDrive/RQ1_Experiments/results/InternVL3-8B/RQ1_InternVL3-8B_8B_country_L3_prompt4_r1.json\n",
            "\n",
            "------------------------------------------------------\n",
            "\n",
            "Processing 85/360: /content/drive/MyDrive/RQ1_Experiments/RQ1_Data_Batch1/Asia/China/Asia_China_photo_b828aa2dc8c3703612f1bb1de3f7fdd9d9317b18_TOP.jpg\n",
            "\n",
            "  ➤ [prompt1] prompt:\n",
            "Assume the image is from Asia. Analyze it and answer two things:\n",
            "\n",
            "1) Which country is this most likely from? (choose from China, India, Indonesia, United Arab Emirates, Singapore, Israel, Timor-Leste, Maldives, Brunei)\n",
            "\n",
            "2) What is the most suitable label: political expression, vandalism, decoration, cultural identity, or advertisement?\n",
            "\n"
          ]
        },
        {
          "output_type": "stream",
          "name": "stderr",
          "text": [
            "Setting `pad_token_id` to `eos_token_id`:151645 for open-end generation.\n",
            "Setting `pad_token_id` to `eos_token_id`:151645 for open-end generation.\n"
          ]
        },
        {
          "output_type": "stream",
          "name": "stdout",
          "text": [
            "  ✔ prompt1: infer_img() full-res ok\n",
            " Saved results to /content/drive/MyDrive/RQ1_Experiments/results/InternVL3-8B/RQ1_InternVL3-8B_8B_country_L3_prompt1_r1.json\n",
            "\n",
            "  ➤ [prompt2] prompt:\n",
            "You are a cultural anthropologist viewing street visuals. Given that mural in image is located in Asia, give these four pieces of info:\n",
            "\n",
            "- COUNTRY (choose exactly one: China, India, Indonesia, United Arab Emirates, Singapore, Israel, Timor-Leste, Maldives, Brunei)\n",
            "- LABEL (choose exactly one: political expression / vandalism / decoration / cultural identity / advertisement)\n",
            "- CONFIDENCE (0–100%)\n",
            "- TOP CUE (2–3 sentences describing the key visual/cultural cue)\n",
            "\n",
            "Be concise and calibrate CONFIDENCE to how strongly the visual cues support your claims.\n",
            "\n"
          ]
        },
        {
          "output_type": "stream",
          "name": "stderr",
          "text": [
            "Setting `pad_token_id` to `eos_token_id`:151645 for open-end generation.\n"
          ]
        },
        {
          "output_type": "stream",
          "name": "stdout",
          "text": [
            "  ✔ prompt2: infer_img() full-res ok\n",
            " Saved results to /content/drive/MyDrive/RQ1_Experiments/results/InternVL3-8B/RQ1_InternVL3-8B_8B_country_L3_prompt2_r1.json\n",
            "\n",
            "  ➤ [prompt3] prompt:\n",
            "Moderate a brief debate among a Geographer, a Street Artist, and a Museum Curator about this image, assuming it originates from Asia. For each expert, give:\n",
            "\n",
            "- ROLE: <role name>\n",
            "- COUNTRY (choose exactly one: China, India, Indonesia, United Arab Emirates, Singapore, Israel, Timor-Leste, Maldives, Brunei)\n",
            "- LABEL (political expression / vandalism / decoration / cultural identity / advertisement)\n",
            "- SHORT_RATIONALE (one concise sentence)\n",
            "\n",
            "After the three positions, write a 2-paragraph moderator resolution:\n",
            "1) Compare the three rationales and state which COUNTRY and LABEL you choose and why (trade-offs).\n",
            "2) List 2 visual cues that were decisive and mention one alternative explanation you rejected.\n",
            "\n",
            "Finish with: COUNTRY and LABEL (each on its own line).\n",
            "\n"
          ]
        },
        {
          "output_type": "stream",
          "name": "stderr",
          "text": [
            "Setting `pad_token_id` to `eos_token_id`:151645 for open-end generation.\n"
          ]
        },
        {
          "output_type": "stream",
          "name": "stdout",
          "text": [
            "  ✔ prompt3: infer_img() full-res ok\n",
            " Saved results to /content/drive/MyDrive/RQ1_Experiments/results/InternVL3-8B/RQ1_InternVL3-8B_8B_country_L3_prompt3_r1.json\n",
            "\n",
            "  ➤ [prompt4] prompt:\n",
            "You are a cultural anthropologist & artist. Given that mural in image is located in Asia, provide:\n",
            "\n",
            "- COUNTRY: two most likely countries (choose from: China, India, Indonesia, United Arab Emirates, Singapore, Israel, Timor-Leste, Maldives, Brunei) with percentages (sum ≈100), e.g. \"\"Iceland: 70%, Russia: 30%\"\"\n",
            "- WHY COUNTRY: 2–3 sentences explaining how visual cues suggest the chosen countries .\n",
            "\n",
            "- LABEL: choose from (political expression, vandalism, decoration, cultural identity, advertisement) and also assign probabilities for all five labels (sum ≈100)\n",
            "- WHY LABEL: 2–3 sentences linking cues to chosen label.\n",
            "\n",
            "- TOP CUES: list three concrete cues that were decisive (1–6 words each)\n",
            "- BIAS NOTE: 2–3 sentences reflecting how cultural bias might have affected the probability estimates.\n",
            "\n",
            "Constraints:\n",
            "- Avoid equal continent splits (e.g. 50/50). Show one as more likely.\n",
            "- Keep WHY COUNTRY and WHY LABEL tied to visible evidence (colors, symbols, technique, location clues etc).\n",
            "\n",
            "  ✔ prompt4: infer_img() full-res ok\n",
            " Saved results to /content/drive/MyDrive/RQ1_Experiments/results/InternVL3-8B/RQ1_InternVL3-8B_8B_country_L3_prompt4_r1.json\n",
            "\n",
            "------------------------------------------------------\n",
            "\n",
            "Processing 86/360: /content/drive/MyDrive/RQ1_Experiments/RQ1_Data_Batch1/Asia/India/Asia_India_photo_04e1efee6ade79b20d849ae792b755d73b272885_TOP.jpg\n",
            "\n",
            "  ➤ [prompt1] prompt:\n",
            "Assume the image is from Asia. Analyze it and answer two things:\n",
            "\n",
            "1) Which country is this most likely from? (choose from China, India, Indonesia, United Arab Emirates, Singapore, Israel, Timor-Leste, Maldives, Brunei)\n",
            "\n",
            "2) What is the most suitable label: political expression, vandalism, decoration, cultural identity, or advertisement?\n",
            "\n"
          ]
        },
        {
          "output_type": "stream",
          "name": "stderr",
          "text": [
            "Setting `pad_token_id` to `eos_token_id`:151645 for open-end generation.\n",
            "Setting `pad_token_id` to `eos_token_id`:151645 for open-end generation.\n"
          ]
        },
        {
          "output_type": "stream",
          "name": "stdout",
          "text": [
            "  ✔ prompt1: infer_img() full-res ok\n",
            " Saved results to /content/drive/MyDrive/RQ1_Experiments/results/InternVL3-8B/RQ1_InternVL3-8B_8B_country_L3_prompt1_r1.json\n",
            "\n",
            "  ➤ [prompt2] prompt:\n",
            "You are a cultural anthropologist viewing street visuals. Given that mural in image is located in Asia, give these four pieces of info:\n",
            "\n",
            "- COUNTRY (choose exactly one: China, India, Indonesia, United Arab Emirates, Singapore, Israel, Timor-Leste, Maldives, Brunei)\n",
            "- LABEL (choose exactly one: political expression / vandalism / decoration / cultural identity / advertisement)\n",
            "- CONFIDENCE (0–100%)\n",
            "- TOP CUE (2–3 sentences describing the key visual/cultural cue)\n",
            "\n",
            "Be concise and calibrate CONFIDENCE to how strongly the visual cues support your claims.\n",
            "\n"
          ]
        },
        {
          "output_type": "stream",
          "name": "stderr",
          "text": [
            "Setting `pad_token_id` to `eos_token_id`:151645 for open-end generation.\n"
          ]
        },
        {
          "output_type": "stream",
          "name": "stdout",
          "text": [
            "  ✔ prompt2: infer_img() full-res ok\n",
            " Saved results to /content/drive/MyDrive/RQ1_Experiments/results/InternVL3-8B/RQ1_InternVL3-8B_8B_country_L3_prompt2_r1.json\n",
            "\n",
            "  ➤ [prompt3] prompt:\n",
            "Moderate a brief debate among a Geographer, a Street Artist, and a Museum Curator about this image, assuming it originates from Asia. For each expert, give:\n",
            "\n",
            "- ROLE: <role name>\n",
            "- COUNTRY (choose exactly one: China, India, Indonesia, United Arab Emirates, Singapore, Israel, Timor-Leste, Maldives, Brunei)\n",
            "- LABEL (political expression / vandalism / decoration / cultural identity / advertisement)\n",
            "- SHORT_RATIONALE (one concise sentence)\n",
            "\n",
            "After the three positions, write a 2-paragraph moderator resolution:\n",
            "1) Compare the three rationales and state which COUNTRY and LABEL you choose and why (trade-offs).\n",
            "2) List 2 visual cues that were decisive and mention one alternative explanation you rejected.\n",
            "\n",
            "Finish with: COUNTRY and LABEL (each on its own line).\n",
            "\n"
          ]
        },
        {
          "output_type": "stream",
          "name": "stderr",
          "text": [
            "Setting `pad_token_id` to `eos_token_id`:151645 for open-end generation.\n"
          ]
        },
        {
          "output_type": "stream",
          "name": "stdout",
          "text": [
            "  ✔ prompt3: infer_img() full-res ok\n",
            " Saved results to /content/drive/MyDrive/RQ1_Experiments/results/InternVL3-8B/RQ1_InternVL3-8B_8B_country_L3_prompt3_r1.json\n",
            "\n",
            "  ➤ [prompt4] prompt:\n",
            "You are a cultural anthropologist & artist. Given that mural in image is located in Asia, provide:\n",
            "\n",
            "- COUNTRY: two most likely countries (choose from: China, India, Indonesia, United Arab Emirates, Singapore, Israel, Timor-Leste, Maldives, Brunei) with percentages (sum ≈100), e.g. \"\"Iceland: 70%, Russia: 30%\"\"\n",
            "- WHY COUNTRY: 2–3 sentences explaining how visual cues suggest the chosen countries .\n",
            "\n",
            "- LABEL: choose from (political expression, vandalism, decoration, cultural identity, advertisement) and also assign probabilities for all five labels (sum ≈100)\n",
            "- WHY LABEL: 2–3 sentences linking cues to chosen label.\n",
            "\n",
            "- TOP CUES: list three concrete cues that were decisive (1–6 words each)\n",
            "- BIAS NOTE: 2–3 sentences reflecting how cultural bias might have affected the probability estimates.\n",
            "\n",
            "Constraints:\n",
            "- Avoid equal continent splits (e.g. 50/50). Show one as more likely.\n",
            "- Keep WHY COUNTRY and WHY LABEL tied to visible evidence (colors, symbols, technique, location clues etc).\n",
            "\n",
            "  ✔ prompt4: infer_img() full-res ok\n",
            " Saved results to /content/drive/MyDrive/RQ1_Experiments/results/InternVL3-8B/RQ1_InternVL3-8B_8B_country_L3_prompt4_r1.json\n",
            "\n",
            "------------------------------------------------------\n",
            "\n",
            "Processing 87/360: /content/drive/MyDrive/RQ1_Experiments/RQ1_Data_Batch1/Asia/India/Asia_India_photo_449ab0899a59be212624bb189af8db2ce1c0c840_TOP.jpg\n",
            "\n",
            "  ➤ [prompt1] prompt:\n",
            "Assume the image is from Asia. Analyze it and answer two things:\n",
            "\n",
            "1) Which country is this most likely from? (choose from China, India, Indonesia, United Arab Emirates, Singapore, Israel, Timor-Leste, Maldives, Brunei)\n",
            "\n",
            "2) What is the most suitable label: political expression, vandalism, decoration, cultural identity, or advertisement?\n",
            "\n"
          ]
        },
        {
          "output_type": "stream",
          "name": "stderr",
          "text": [
            "Setting `pad_token_id` to `eos_token_id`:151645 for open-end generation.\n",
            "Setting `pad_token_id` to `eos_token_id`:151645 for open-end generation.\n"
          ]
        },
        {
          "output_type": "stream",
          "name": "stdout",
          "text": [
            "  ✔ prompt1: infer_img() full-res ok\n",
            " Saved results to /content/drive/MyDrive/RQ1_Experiments/results/InternVL3-8B/RQ1_InternVL3-8B_8B_country_L3_prompt1_r1.json\n",
            "\n",
            "  ➤ [prompt2] prompt:\n",
            "You are a cultural anthropologist viewing street visuals. Given that mural in image is located in Asia, give these four pieces of info:\n",
            "\n",
            "- COUNTRY (choose exactly one: China, India, Indonesia, United Arab Emirates, Singapore, Israel, Timor-Leste, Maldives, Brunei)\n",
            "- LABEL (choose exactly one: political expression / vandalism / decoration / cultural identity / advertisement)\n",
            "- CONFIDENCE (0–100%)\n",
            "- TOP CUE (2–3 sentences describing the key visual/cultural cue)\n",
            "\n",
            "Be concise and calibrate CONFIDENCE to how strongly the visual cues support your claims.\n",
            "\n"
          ]
        },
        {
          "output_type": "stream",
          "name": "stderr",
          "text": [
            "Setting `pad_token_id` to `eos_token_id`:151645 for open-end generation.\n"
          ]
        },
        {
          "output_type": "stream",
          "name": "stdout",
          "text": [
            "  ✔ prompt2: infer_img() full-res ok\n",
            " Saved results to /content/drive/MyDrive/RQ1_Experiments/results/InternVL3-8B/RQ1_InternVL3-8B_8B_country_L3_prompt2_r1.json\n",
            "\n",
            "  ➤ [prompt3] prompt:\n",
            "Moderate a brief debate among a Geographer, a Street Artist, and a Museum Curator about this image, assuming it originates from Asia. For each expert, give:\n",
            "\n",
            "- ROLE: <role name>\n",
            "- COUNTRY (choose exactly one: China, India, Indonesia, United Arab Emirates, Singapore, Israel, Timor-Leste, Maldives, Brunei)\n",
            "- LABEL (political expression / vandalism / decoration / cultural identity / advertisement)\n",
            "- SHORT_RATIONALE (one concise sentence)\n",
            "\n",
            "After the three positions, write a 2-paragraph moderator resolution:\n",
            "1) Compare the three rationales and state which COUNTRY and LABEL you choose and why (trade-offs).\n",
            "2) List 2 visual cues that were decisive and mention one alternative explanation you rejected.\n",
            "\n",
            "Finish with: COUNTRY and LABEL (each on its own line).\n",
            "\n"
          ]
        },
        {
          "output_type": "stream",
          "name": "stderr",
          "text": [
            "Setting `pad_token_id` to `eos_token_id`:151645 for open-end generation.\n"
          ]
        },
        {
          "output_type": "stream",
          "name": "stdout",
          "text": [
            "  ✔ prompt3: infer_img() full-res ok\n",
            " Saved results to /content/drive/MyDrive/RQ1_Experiments/results/InternVL3-8B/RQ1_InternVL3-8B_8B_country_L3_prompt3_r1.json\n",
            "\n",
            "  ➤ [prompt4] prompt:\n",
            "You are a cultural anthropologist & artist. Given that mural in image is located in Asia, provide:\n",
            "\n",
            "- COUNTRY: two most likely countries (choose from: China, India, Indonesia, United Arab Emirates, Singapore, Israel, Timor-Leste, Maldives, Brunei) with percentages (sum ≈100), e.g. \"\"Iceland: 70%, Russia: 30%\"\"\n",
            "- WHY COUNTRY: 2–3 sentences explaining how visual cues suggest the chosen countries .\n",
            "\n",
            "- LABEL: choose from (political expression, vandalism, decoration, cultural identity, advertisement) and also assign probabilities for all five labels (sum ≈100)\n",
            "- WHY LABEL: 2–3 sentences linking cues to chosen label.\n",
            "\n",
            "- TOP CUES: list three concrete cues that were decisive (1–6 words each)\n",
            "- BIAS NOTE: 2–3 sentences reflecting how cultural bias might have affected the probability estimates.\n",
            "\n",
            "Constraints:\n",
            "- Avoid equal continent splits (e.g. 50/50). Show one as more likely.\n",
            "- Keep WHY COUNTRY and WHY LABEL tied to visible evidence (colors, symbols, technique, location clues etc).\n",
            "\n",
            "  ✔ prompt4: infer_img() full-res ok\n",
            " Saved results to /content/drive/MyDrive/RQ1_Experiments/results/InternVL3-8B/RQ1_InternVL3-8B_8B_country_L3_prompt4_r1.json\n",
            "\n",
            "------------------------------------------------------\n",
            "\n",
            "Processing 88/360: /content/drive/MyDrive/RQ1_Experiments/RQ1_Data_Batch1/Asia/India/Asia_India_photo_4cbf400360349173df7f85497a55b5f3e05efc73_TOP.jpg\n",
            "\n",
            "  ➤ [prompt1] prompt:\n",
            "Assume the image is from Asia. Analyze it and answer two things:\n",
            "\n",
            "1) Which country is this most likely from? (choose from China, India, Indonesia, United Arab Emirates, Singapore, Israel, Timor-Leste, Maldives, Brunei)\n",
            "\n",
            "2) What is the most suitable label: political expression, vandalism, decoration, cultural identity, or advertisement?\n",
            "\n"
          ]
        },
        {
          "output_type": "stream",
          "name": "stderr",
          "text": [
            "Setting `pad_token_id` to `eos_token_id`:151645 for open-end generation.\n",
            "Setting `pad_token_id` to `eos_token_id`:151645 for open-end generation.\n"
          ]
        },
        {
          "output_type": "stream",
          "name": "stdout",
          "text": [
            "  ✔ prompt1: infer_img() full-res ok\n",
            " Saved results to /content/drive/MyDrive/RQ1_Experiments/results/InternVL3-8B/RQ1_InternVL3-8B_8B_country_L3_prompt1_r1.json\n",
            "\n",
            "  ➤ [prompt2] prompt:\n",
            "You are a cultural anthropologist viewing street visuals. Given that mural in image is located in Asia, give these four pieces of info:\n",
            "\n",
            "- COUNTRY (choose exactly one: China, India, Indonesia, United Arab Emirates, Singapore, Israel, Timor-Leste, Maldives, Brunei)\n",
            "- LABEL (choose exactly one: political expression / vandalism / decoration / cultural identity / advertisement)\n",
            "- CONFIDENCE (0–100%)\n",
            "- TOP CUE (2–3 sentences describing the key visual/cultural cue)\n",
            "\n",
            "Be concise and calibrate CONFIDENCE to how strongly the visual cues support your claims.\n",
            "\n"
          ]
        },
        {
          "output_type": "stream",
          "name": "stderr",
          "text": [
            "Setting `pad_token_id` to `eos_token_id`:151645 for open-end generation.\n"
          ]
        },
        {
          "output_type": "stream",
          "name": "stdout",
          "text": [
            "  ✔ prompt2: infer_img() full-res ok\n",
            " Saved results to /content/drive/MyDrive/RQ1_Experiments/results/InternVL3-8B/RQ1_InternVL3-8B_8B_country_L3_prompt2_r1.json\n",
            "\n",
            "  ➤ [prompt3] prompt:\n",
            "Moderate a brief debate among a Geographer, a Street Artist, and a Museum Curator about this image, assuming it originates from Asia. For each expert, give:\n",
            "\n",
            "- ROLE: <role name>\n",
            "- COUNTRY (choose exactly one: China, India, Indonesia, United Arab Emirates, Singapore, Israel, Timor-Leste, Maldives, Brunei)\n",
            "- LABEL (political expression / vandalism / decoration / cultural identity / advertisement)\n",
            "- SHORT_RATIONALE (one concise sentence)\n",
            "\n",
            "After the three positions, write a 2-paragraph moderator resolution:\n",
            "1) Compare the three rationales and state which COUNTRY and LABEL you choose and why (trade-offs).\n",
            "2) List 2 visual cues that were decisive and mention one alternative explanation you rejected.\n",
            "\n",
            "Finish with: COUNTRY and LABEL (each on its own line).\n",
            "\n"
          ]
        },
        {
          "output_type": "stream",
          "name": "stderr",
          "text": [
            "Setting `pad_token_id` to `eos_token_id`:151645 for open-end generation.\n"
          ]
        },
        {
          "output_type": "stream",
          "name": "stdout",
          "text": [
            "  ✔ prompt3: infer_img() full-res ok\n",
            " Saved results to /content/drive/MyDrive/RQ1_Experiments/results/InternVL3-8B/RQ1_InternVL3-8B_8B_country_L3_prompt3_r1.json\n",
            "\n",
            "  ➤ [prompt4] prompt:\n",
            "You are a cultural anthropologist & artist. Given that mural in image is located in Asia, provide:\n",
            "\n",
            "- COUNTRY: two most likely countries (choose from: China, India, Indonesia, United Arab Emirates, Singapore, Israel, Timor-Leste, Maldives, Brunei) with percentages (sum ≈100), e.g. \"\"Iceland: 70%, Russia: 30%\"\"\n",
            "- WHY COUNTRY: 2–3 sentences explaining how visual cues suggest the chosen countries .\n",
            "\n",
            "- LABEL: choose from (political expression, vandalism, decoration, cultural identity, advertisement) and also assign probabilities for all five labels (sum ≈100)\n",
            "- WHY LABEL: 2–3 sentences linking cues to chosen label.\n",
            "\n",
            "- TOP CUES: list three concrete cues that were decisive (1–6 words each)\n",
            "- BIAS NOTE: 2–3 sentences reflecting how cultural bias might have affected the probability estimates.\n",
            "\n",
            "Constraints:\n",
            "- Avoid equal continent splits (e.g. 50/50). Show one as more likely.\n",
            "- Keep WHY COUNTRY and WHY LABEL tied to visible evidence (colors, symbols, technique, location clues etc).\n",
            "\n",
            "  ✔ prompt4: infer_img() full-res ok\n",
            " Saved results to /content/drive/MyDrive/RQ1_Experiments/results/InternVL3-8B/RQ1_InternVL3-8B_8B_country_L3_prompt4_r1.json\n",
            "\n",
            "------------------------------------------------------\n",
            "\n",
            "Processing 89/360: /content/drive/MyDrive/RQ1_Experiments/RQ1_Data_Batch1/Asia/India/Asia_India_photo_5330250b8c011663b241aad769af116d5662c5e6_TOP.jpg\n",
            "\n",
            "  ➤ [prompt1] prompt:\n",
            "Assume the image is from Asia. Analyze it and answer two things:\n",
            "\n",
            "1) Which country is this most likely from? (choose from China, India, Indonesia, United Arab Emirates, Singapore, Israel, Timor-Leste, Maldives, Brunei)\n",
            "\n",
            "2) What is the most suitable label: political expression, vandalism, decoration, cultural identity, or advertisement?\n",
            "\n"
          ]
        },
        {
          "output_type": "stream",
          "name": "stderr",
          "text": [
            "Setting `pad_token_id` to `eos_token_id`:151645 for open-end generation.\n",
            "Setting `pad_token_id` to `eos_token_id`:151645 for open-end generation.\n"
          ]
        },
        {
          "output_type": "stream",
          "name": "stdout",
          "text": [
            "  ✔ prompt1: infer_img() full-res ok\n",
            " Saved results to /content/drive/MyDrive/RQ1_Experiments/results/InternVL3-8B/RQ1_InternVL3-8B_8B_country_L3_prompt1_r1.json\n",
            "\n",
            "  ➤ [prompt2] prompt:\n",
            "You are a cultural anthropologist viewing street visuals. Given that mural in image is located in Asia, give these four pieces of info:\n",
            "\n",
            "- COUNTRY (choose exactly one: China, India, Indonesia, United Arab Emirates, Singapore, Israel, Timor-Leste, Maldives, Brunei)\n",
            "- LABEL (choose exactly one: political expression / vandalism / decoration / cultural identity / advertisement)\n",
            "- CONFIDENCE (0–100%)\n",
            "- TOP CUE (2–3 sentences describing the key visual/cultural cue)\n",
            "\n",
            "Be concise and calibrate CONFIDENCE to how strongly the visual cues support your claims.\n",
            "\n"
          ]
        },
        {
          "output_type": "stream",
          "name": "stderr",
          "text": [
            "Setting `pad_token_id` to `eos_token_id`:151645 for open-end generation.\n"
          ]
        },
        {
          "output_type": "stream",
          "name": "stdout",
          "text": [
            "  ✔ prompt2: infer_img() full-res ok\n",
            " Saved results to /content/drive/MyDrive/RQ1_Experiments/results/InternVL3-8B/RQ1_InternVL3-8B_8B_country_L3_prompt2_r1.json\n",
            "\n",
            "  ➤ [prompt3] prompt:\n",
            "Moderate a brief debate among a Geographer, a Street Artist, and a Museum Curator about this image, assuming it originates from Asia. For each expert, give:\n",
            "\n",
            "- ROLE: <role name>\n",
            "- COUNTRY (choose exactly one: China, India, Indonesia, United Arab Emirates, Singapore, Israel, Timor-Leste, Maldives, Brunei)\n",
            "- LABEL (political expression / vandalism / decoration / cultural identity / advertisement)\n",
            "- SHORT_RATIONALE (one concise sentence)\n",
            "\n",
            "After the three positions, write a 2-paragraph moderator resolution:\n",
            "1) Compare the three rationales and state which COUNTRY and LABEL you choose and why (trade-offs).\n",
            "2) List 2 visual cues that were decisive and mention one alternative explanation you rejected.\n",
            "\n",
            "Finish with: COUNTRY and LABEL (each on its own line).\n",
            "\n"
          ]
        },
        {
          "output_type": "stream",
          "name": "stderr",
          "text": [
            "Setting `pad_token_id` to `eos_token_id`:151645 for open-end generation.\n"
          ]
        },
        {
          "output_type": "stream",
          "name": "stdout",
          "text": [
            "  ✔ prompt3: infer_img() full-res ok\n",
            " Saved results to /content/drive/MyDrive/RQ1_Experiments/results/InternVL3-8B/RQ1_InternVL3-8B_8B_country_L3_prompt3_r1.json\n",
            "\n",
            "  ➤ [prompt4] prompt:\n",
            "You are a cultural anthropologist & artist. Given that mural in image is located in Asia, provide:\n",
            "\n",
            "- COUNTRY: two most likely countries (choose from: China, India, Indonesia, United Arab Emirates, Singapore, Israel, Timor-Leste, Maldives, Brunei) with percentages (sum ≈100), e.g. \"\"Iceland: 70%, Russia: 30%\"\"\n",
            "- WHY COUNTRY: 2–3 sentences explaining how visual cues suggest the chosen countries .\n",
            "\n",
            "- LABEL: choose from (political expression, vandalism, decoration, cultural identity, advertisement) and also assign probabilities for all five labels (sum ≈100)\n",
            "- WHY LABEL: 2–3 sentences linking cues to chosen label.\n",
            "\n",
            "- TOP CUES: list three concrete cues that were decisive (1–6 words each)\n",
            "- BIAS NOTE: 2–3 sentences reflecting how cultural bias might have affected the probability estimates.\n",
            "\n",
            "Constraints:\n",
            "- Avoid equal continent splits (e.g. 50/50). Show one as more likely.\n",
            "- Keep WHY COUNTRY and WHY LABEL tied to visible evidence (colors, symbols, technique, location clues etc).\n",
            "\n",
            "  ✔ prompt4: infer_img() full-res ok\n",
            " Saved results to /content/drive/MyDrive/RQ1_Experiments/results/InternVL3-8B/RQ1_InternVL3-8B_8B_country_L3_prompt4_r1.json\n",
            "\n",
            "------------------------------------------------------\n",
            "\n",
            "Processing 90/360: /content/drive/MyDrive/RQ1_Experiments/RQ1_Data_Batch1/Asia/Iran/Asia_Iran_photo_122b989ef652bbf9f48ac7b92643dcb5a26a065c_TOP.jpg\n",
            "\n",
            "  ➤ [prompt1] prompt:\n",
            "Assume the image is from Asia. Analyze it and answer two things:\n",
            "\n",
            "1) Which country is this most likely from? (choose from China, India, Iran, United Arab Emirates, Singapore, Israel, Timor-Leste, Maldives, Brunei)\n",
            "\n",
            "2) What is the most suitable label: political expression, vandalism, decoration, cultural identity, or advertisement?\n",
            "\n"
          ]
        },
        {
          "output_type": "stream",
          "name": "stderr",
          "text": [
            "Setting `pad_token_id` to `eos_token_id`:151645 for open-end generation.\n",
            "Setting `pad_token_id` to `eos_token_id`:151645 for open-end generation.\n"
          ]
        },
        {
          "output_type": "stream",
          "name": "stdout",
          "text": [
            "  ✔ prompt1: infer_img() full-res ok\n",
            " Saved results to /content/drive/MyDrive/RQ1_Experiments/results/InternVL3-8B/RQ1_InternVL3-8B_8B_country_L3_prompt1_r1.json\n",
            "\n",
            "  ➤ [prompt2] prompt:\n",
            "You are a cultural anthropologist viewing street visuals. Given that mural in image is located in Asia, give these four pieces of info:\n",
            "\n",
            "- COUNTRY (choose exactly one: China, India, Iran, United Arab Emirates, Singapore, Israel, Timor-Leste, Maldives, Brunei)\n",
            "- LABEL (choose exactly one: political expression / vandalism / decoration / cultural identity / advertisement)\n",
            "- CONFIDENCE (0–100%)\n",
            "- TOP CUE (2–3 sentences describing the key visual/cultural cue)\n",
            "\n",
            "Be concise and calibrate CONFIDENCE to how strongly the visual cues support your claims.\n",
            "\n"
          ]
        },
        {
          "output_type": "stream",
          "name": "stderr",
          "text": [
            "Setting `pad_token_id` to `eos_token_id`:151645 for open-end generation.\n"
          ]
        },
        {
          "output_type": "stream",
          "name": "stdout",
          "text": [
            "  ✔ prompt2: infer_img() full-res ok\n",
            " Saved results to /content/drive/MyDrive/RQ1_Experiments/results/InternVL3-8B/RQ1_InternVL3-8B_8B_country_L3_prompt2_r1.json\n",
            "\n",
            "  ➤ [prompt3] prompt:\n",
            "Moderate a brief debate among a Geographer, a Street Artist, and a Museum Curator about this image, assuming it originates from Asia. For each expert, give:\n",
            "\n",
            "- ROLE: <role name>\n",
            "- COUNTRY (choose exactly one: China, India, Iran, United Arab Emirates, Singapore, Israel, Timor-Leste, Maldives, Brunei)\n",
            "- LABEL (political expression / vandalism / decoration / cultural identity / advertisement)\n",
            "- SHORT_RATIONALE (one concise sentence)\n",
            "\n",
            "After the three positions, write a 2-paragraph moderator resolution:\n",
            "1) Compare the three rationales and state which COUNTRY and LABEL you choose and why (trade-offs).\n",
            "2) List 2 visual cues that were decisive and mention one alternative explanation you rejected.\n",
            "\n",
            "Finish with: COUNTRY and LABEL (each on its own line).\n",
            "\n"
          ]
        },
        {
          "output_type": "stream",
          "name": "stderr",
          "text": [
            "Setting `pad_token_id` to `eos_token_id`:151645 for open-end generation.\n"
          ]
        },
        {
          "output_type": "stream",
          "name": "stdout",
          "text": [
            "  ✔ prompt3: infer_img() full-res ok\n",
            " Saved results to /content/drive/MyDrive/RQ1_Experiments/results/InternVL3-8B/RQ1_InternVL3-8B_8B_country_L3_prompt3_r1.json\n",
            "\n",
            "  ➤ [prompt4] prompt:\n",
            "You are a cultural anthropologist & artist. Given that mural in image is located in Asia, provide:\n",
            "\n",
            "- COUNTRY: two most likely countries (choose from: China, India, Iran, United Arab Emirates, Singapore, Israel, Timor-Leste, Maldives, Brunei) with percentages (sum ≈100), e.g. \"\"Iceland: 70%, Russia: 30%\"\"\n",
            "- WHY COUNTRY: 2–3 sentences explaining how visual cues suggest the chosen countries .\n",
            "\n",
            "- LABEL: choose from (political expression, vandalism, decoration, cultural identity, advertisement) and also assign probabilities for all five labels (sum ≈100)\n",
            "- WHY LABEL: 2–3 sentences linking cues to chosen label.\n",
            "\n",
            "- TOP CUES: list three concrete cues that were decisive (1–6 words each)\n",
            "- BIAS NOTE: 2–3 sentences reflecting how cultural bias might have affected the probability estimates.\n",
            "\n",
            "Constraints:\n",
            "- Avoid equal continent splits (e.g. 50/50). Show one as more likely.\n",
            "- Keep WHY COUNTRY and WHY LABEL tied to visible evidence (colors, symbols, technique, location clues etc).\n",
            "\n",
            "  ✔ prompt4: infer_img() full-res ok\n",
            " Saved results to /content/drive/MyDrive/RQ1_Experiments/results/InternVL3-8B/RQ1_InternVL3-8B_8B_country_L3_prompt4_r1.json\n",
            "\n",
            "------------------------------------------------------\n",
            "\n",
            "Processing 91/360: /content/drive/MyDrive/RQ1_Experiments/RQ1_Data_Batch1/Asia/Iran/Asia_Iran_photo_1c6ecc88ebd3ee21aff5672c259b1c413d3d7404_TOP.jpg\n",
            "\n",
            "  ➤ [prompt1] prompt:\n",
            "Assume the image is from Asia. Analyze it and answer two things:\n",
            "\n",
            "1) Which country is this most likely from? (choose from China, India, Iran, United Arab Emirates, Singapore, Israel, Timor-Leste, Maldives, Brunei)\n",
            "\n",
            "2) What is the most suitable label: political expression, vandalism, decoration, cultural identity, or advertisement?\n",
            "\n"
          ]
        },
        {
          "output_type": "stream",
          "name": "stderr",
          "text": [
            "Setting `pad_token_id` to `eos_token_id`:151645 for open-end generation.\n",
            "Setting `pad_token_id` to `eos_token_id`:151645 for open-end generation.\n"
          ]
        },
        {
          "output_type": "stream",
          "name": "stdout",
          "text": [
            "  ✔ prompt1: infer_img() full-res ok\n",
            " Saved results to /content/drive/MyDrive/RQ1_Experiments/results/InternVL3-8B/RQ1_InternVL3-8B_8B_country_L3_prompt1_r1.json\n",
            "\n",
            "  ➤ [prompt2] prompt:\n",
            "You are a cultural anthropologist viewing street visuals. Given that mural in image is located in Asia, give these four pieces of info:\n",
            "\n",
            "- COUNTRY (choose exactly one: China, India, Iran, United Arab Emirates, Singapore, Israel, Timor-Leste, Maldives, Brunei)\n",
            "- LABEL (choose exactly one: political expression / vandalism / decoration / cultural identity / advertisement)\n",
            "- CONFIDENCE (0–100%)\n",
            "- TOP CUE (2–3 sentences describing the key visual/cultural cue)\n",
            "\n",
            "Be concise and calibrate CONFIDENCE to how strongly the visual cues support your claims.\n",
            "\n"
          ]
        },
        {
          "output_type": "stream",
          "name": "stderr",
          "text": [
            "Setting `pad_token_id` to `eos_token_id`:151645 for open-end generation.\n"
          ]
        },
        {
          "output_type": "stream",
          "name": "stdout",
          "text": [
            "  ✔ prompt2: infer_img() full-res ok\n",
            " Saved results to /content/drive/MyDrive/RQ1_Experiments/results/InternVL3-8B/RQ1_InternVL3-8B_8B_country_L3_prompt2_r1.json\n",
            "\n",
            "  ➤ [prompt3] prompt:\n",
            "Moderate a brief debate among a Geographer, a Street Artist, and a Museum Curator about this image, assuming it originates from Asia. For each expert, give:\n",
            "\n",
            "- ROLE: <role name>\n",
            "- COUNTRY (choose exactly one: China, India, Iran, United Arab Emirates, Singapore, Israel, Timor-Leste, Maldives, Brunei)\n",
            "- LABEL (political expression / vandalism / decoration / cultural identity / advertisement)\n",
            "- SHORT_RATIONALE (one concise sentence)\n",
            "\n",
            "After the three positions, write a 2-paragraph moderator resolution:\n",
            "1) Compare the three rationales and state which COUNTRY and LABEL you choose and why (trade-offs).\n",
            "2) List 2 visual cues that were decisive and mention one alternative explanation you rejected.\n",
            "\n",
            "Finish with: COUNTRY and LABEL (each on its own line).\n",
            "\n"
          ]
        },
        {
          "output_type": "stream",
          "name": "stderr",
          "text": [
            "Setting `pad_token_id` to `eos_token_id`:151645 for open-end generation.\n"
          ]
        },
        {
          "output_type": "stream",
          "name": "stdout",
          "text": [
            "  ✔ prompt3: infer_img() full-res ok\n",
            " Saved results to /content/drive/MyDrive/RQ1_Experiments/results/InternVL3-8B/RQ1_InternVL3-8B_8B_country_L3_prompt3_r1.json\n",
            "\n",
            "  ➤ [prompt4] prompt:\n",
            "You are a cultural anthropologist & artist. Given that mural in image is located in Asia, provide:\n",
            "\n",
            "- COUNTRY: two most likely countries (choose from: China, India, Iran, United Arab Emirates, Singapore, Israel, Timor-Leste, Maldives, Brunei) with percentages (sum ≈100), e.g. \"\"Iceland: 70%, Russia: 30%\"\"\n",
            "- WHY COUNTRY: 2–3 sentences explaining how visual cues suggest the chosen countries .\n",
            "\n",
            "- LABEL: choose from (political expression, vandalism, decoration, cultural identity, advertisement) and also assign probabilities for all five labels (sum ≈100)\n",
            "- WHY LABEL: 2–3 sentences linking cues to chosen label.\n",
            "\n",
            "- TOP CUES: list three concrete cues that were decisive (1–6 words each)\n",
            "- BIAS NOTE: 2–3 sentences reflecting how cultural bias might have affected the probability estimates.\n",
            "\n",
            "Constraints:\n",
            "- Avoid equal continent splits (e.g. 50/50). Show one as more likely.\n",
            "- Keep WHY COUNTRY and WHY LABEL tied to visible evidence (colors, symbols, technique, location clues etc).\n",
            "\n",
            "  ✔ prompt4: infer_img() full-res ok\n",
            " Saved results to /content/drive/MyDrive/RQ1_Experiments/results/InternVL3-8B/RQ1_InternVL3-8B_8B_country_L3_prompt4_r1.json\n",
            "\n",
            "------------------------------------------------------\n",
            "\n",
            "Processing 92/360: /content/drive/MyDrive/RQ1_Experiments/RQ1_Data_Batch1/Asia/Iran/Asia_Iran_photo_5f854af669aec6c09017bccaeb26790f47b600ac_TOP.jpg\n",
            "\n",
            "  ➤ [prompt1] prompt:\n",
            "Assume the image is from Asia. Analyze it and answer two things:\n",
            "\n",
            "1) Which country is this most likely from? (choose from China, India, Iran, United Arab Emirates, Singapore, Israel, Timor-Leste, Maldives, Brunei)\n",
            "\n",
            "2) What is the most suitable label: political expression, vandalism, decoration, cultural identity, or advertisement?\n",
            "\n"
          ]
        },
        {
          "output_type": "stream",
          "name": "stderr",
          "text": [
            "Setting `pad_token_id` to `eos_token_id`:151645 for open-end generation.\n",
            "Setting `pad_token_id` to `eos_token_id`:151645 for open-end generation.\n"
          ]
        },
        {
          "output_type": "stream",
          "name": "stdout",
          "text": [
            "  ✔ prompt1: infer_img() full-res ok\n",
            " Saved results to /content/drive/MyDrive/RQ1_Experiments/results/InternVL3-8B/RQ1_InternVL3-8B_8B_country_L3_prompt1_r1.json\n",
            "\n",
            "  ➤ [prompt2] prompt:\n",
            "You are a cultural anthropologist viewing street visuals. Given that mural in image is located in Asia, give these four pieces of info:\n",
            "\n",
            "- COUNTRY (choose exactly one: China, India, Iran, United Arab Emirates, Singapore, Israel, Timor-Leste, Maldives, Brunei)\n",
            "- LABEL (choose exactly one: political expression / vandalism / decoration / cultural identity / advertisement)\n",
            "- CONFIDENCE (0–100%)\n",
            "- TOP CUE (2–3 sentences describing the key visual/cultural cue)\n",
            "\n",
            "Be concise and calibrate CONFIDENCE to how strongly the visual cues support your claims.\n",
            "\n"
          ]
        },
        {
          "output_type": "stream",
          "name": "stderr",
          "text": [
            "Setting `pad_token_id` to `eos_token_id`:151645 for open-end generation.\n"
          ]
        },
        {
          "output_type": "stream",
          "name": "stdout",
          "text": [
            "  ✔ prompt2: infer_img() full-res ok\n",
            " Saved results to /content/drive/MyDrive/RQ1_Experiments/results/InternVL3-8B/RQ1_InternVL3-8B_8B_country_L3_prompt2_r1.json\n",
            "\n",
            "  ➤ [prompt3] prompt:\n",
            "Moderate a brief debate among a Geographer, a Street Artist, and a Museum Curator about this image, assuming it originates from Asia. For each expert, give:\n",
            "\n",
            "- ROLE: <role name>\n",
            "- COUNTRY (choose exactly one: China, India, Iran, United Arab Emirates, Singapore, Israel, Timor-Leste, Maldives, Brunei)\n",
            "- LABEL (political expression / vandalism / decoration / cultural identity / advertisement)\n",
            "- SHORT_RATIONALE (one concise sentence)\n",
            "\n",
            "After the three positions, write a 2-paragraph moderator resolution:\n",
            "1) Compare the three rationales and state which COUNTRY and LABEL you choose and why (trade-offs).\n",
            "2) List 2 visual cues that were decisive and mention one alternative explanation you rejected.\n",
            "\n",
            "Finish with: COUNTRY and LABEL (each on its own line).\n",
            "\n"
          ]
        },
        {
          "output_type": "stream",
          "name": "stderr",
          "text": [
            "Setting `pad_token_id` to `eos_token_id`:151645 for open-end generation.\n"
          ]
        },
        {
          "output_type": "stream",
          "name": "stdout",
          "text": [
            "  ✔ prompt3: infer_img() full-res ok\n",
            " Saved results to /content/drive/MyDrive/RQ1_Experiments/results/InternVL3-8B/RQ1_InternVL3-8B_8B_country_L3_prompt3_r1.json\n",
            "\n",
            "  ➤ [prompt4] prompt:\n",
            "You are a cultural anthropologist & artist. Given that mural in image is located in Asia, provide:\n",
            "\n",
            "- COUNTRY: two most likely countries (choose from: China, India, Iran, United Arab Emirates, Singapore, Israel, Timor-Leste, Maldives, Brunei) with percentages (sum ≈100), e.g. \"\"Iceland: 70%, Russia: 30%\"\"\n",
            "- WHY COUNTRY: 2–3 sentences explaining how visual cues suggest the chosen countries .\n",
            "\n",
            "- LABEL: choose from (political expression, vandalism, decoration, cultural identity, advertisement) and also assign probabilities for all five labels (sum ≈100)\n",
            "- WHY LABEL: 2–3 sentences linking cues to chosen label.\n",
            "\n",
            "- TOP CUES: list three concrete cues that were decisive (1–6 words each)\n",
            "- BIAS NOTE: 2–3 sentences reflecting how cultural bias might have affected the probability estimates.\n",
            "\n",
            "Constraints:\n",
            "- Avoid equal continent splits (e.g. 50/50). Show one as more likely.\n",
            "- Keep WHY COUNTRY and WHY LABEL tied to visible evidence (colors, symbols, technique, location clues etc).\n",
            "\n",
            "  ✔ prompt4: infer_img() full-res ok\n",
            " Saved results to /content/drive/MyDrive/RQ1_Experiments/results/InternVL3-8B/RQ1_InternVL3-8B_8B_country_L3_prompt4_r1.json\n",
            "\n",
            "------------------------------------------------------\n",
            "\n",
            "Processing 93/360: /content/drive/MyDrive/RQ1_Experiments/RQ1_Data_Batch1/Asia/Iran/Asia_Iran_photo_70bbf486cafbc2abc010d5d67da107fdcce66664_TOP.jpg\n",
            "\n",
            "  ➤ [prompt1] prompt:\n",
            "Assume the image is from Asia. Analyze it and answer two things:\n",
            "\n",
            "1) Which country is this most likely from? (choose from China, India, Iran, United Arab Emirates, Singapore, Israel, Timor-Leste, Maldives, Brunei)\n",
            "\n",
            "2) What is the most suitable label: political expression, vandalism, decoration, cultural identity, or advertisement?\n",
            "\n"
          ]
        },
        {
          "output_type": "stream",
          "name": "stderr",
          "text": [
            "Setting `pad_token_id` to `eos_token_id`:151645 for open-end generation.\n",
            "Setting `pad_token_id` to `eos_token_id`:151645 for open-end generation.\n"
          ]
        },
        {
          "output_type": "stream",
          "name": "stdout",
          "text": [
            "  ✔ prompt1: infer_img() full-res ok\n",
            " Saved results to /content/drive/MyDrive/RQ1_Experiments/results/InternVL3-8B/RQ1_InternVL3-8B_8B_country_L3_prompt1_r1.json\n",
            "\n",
            "  ➤ [prompt2] prompt:\n",
            "You are a cultural anthropologist viewing street visuals. Given that mural in image is located in Asia, give these four pieces of info:\n",
            "\n",
            "- COUNTRY (choose exactly one: China, India, Iran, United Arab Emirates, Singapore, Israel, Timor-Leste, Maldives, Brunei)\n",
            "- LABEL (choose exactly one: political expression / vandalism / decoration / cultural identity / advertisement)\n",
            "- CONFIDENCE (0–100%)\n",
            "- TOP CUE (2–3 sentences describing the key visual/cultural cue)\n",
            "\n",
            "Be concise and calibrate CONFIDENCE to how strongly the visual cues support your claims.\n",
            "\n"
          ]
        },
        {
          "output_type": "stream",
          "name": "stderr",
          "text": [
            "Setting `pad_token_id` to `eos_token_id`:151645 for open-end generation.\n"
          ]
        },
        {
          "output_type": "stream",
          "name": "stdout",
          "text": [
            "  ✔ prompt2: infer_img() full-res ok\n",
            " Saved results to /content/drive/MyDrive/RQ1_Experiments/results/InternVL3-8B/RQ1_InternVL3-8B_8B_country_L3_prompt2_r1.json\n",
            "\n",
            "  ➤ [prompt3] prompt:\n",
            "Moderate a brief debate among a Geographer, a Street Artist, and a Museum Curator about this image, assuming it originates from Asia. For each expert, give:\n",
            "\n",
            "- ROLE: <role name>\n",
            "- COUNTRY (choose exactly one: China, India, Iran, United Arab Emirates, Singapore, Israel, Timor-Leste, Maldives, Brunei)\n",
            "- LABEL (political expression / vandalism / decoration / cultural identity / advertisement)\n",
            "- SHORT_RATIONALE (one concise sentence)\n",
            "\n",
            "After the three positions, write a 2-paragraph moderator resolution:\n",
            "1) Compare the three rationales and state which COUNTRY and LABEL you choose and why (trade-offs).\n",
            "2) List 2 visual cues that were decisive and mention one alternative explanation you rejected.\n",
            "\n",
            "Finish with: COUNTRY and LABEL (each on its own line).\n",
            "\n"
          ]
        },
        {
          "output_type": "stream",
          "name": "stderr",
          "text": [
            "Setting `pad_token_id` to `eos_token_id`:151645 for open-end generation.\n"
          ]
        },
        {
          "output_type": "stream",
          "name": "stdout",
          "text": [
            "  ✔ prompt3: infer_img() full-res ok\n",
            " Saved results to /content/drive/MyDrive/RQ1_Experiments/results/InternVL3-8B/RQ1_InternVL3-8B_8B_country_L3_prompt3_r1.json\n",
            "\n",
            "  ➤ [prompt4] prompt:\n",
            "You are a cultural anthropologist & artist. Given that mural in image is located in Asia, provide:\n",
            "\n",
            "- COUNTRY: two most likely countries (choose from: China, India, Iran, United Arab Emirates, Singapore, Israel, Timor-Leste, Maldives, Brunei) with percentages (sum ≈100), e.g. \"\"Iceland: 70%, Russia: 30%\"\"\n",
            "- WHY COUNTRY: 2–3 sentences explaining how visual cues suggest the chosen countries .\n",
            "\n",
            "- LABEL: choose from (political expression, vandalism, decoration, cultural identity, advertisement) and also assign probabilities for all five labels (sum ≈100)\n",
            "- WHY LABEL: 2–3 sentences linking cues to chosen label.\n",
            "\n",
            "- TOP CUES: list three concrete cues that were decisive (1–6 words each)\n",
            "- BIAS NOTE: 2–3 sentences reflecting how cultural bias might have affected the probability estimates.\n",
            "\n",
            "Constraints:\n",
            "- Avoid equal continent splits (e.g. 50/50). Show one as more likely.\n",
            "- Keep WHY COUNTRY and WHY LABEL tied to visible evidence (colors, symbols, technique, location clues etc).\n",
            "\n",
            "  ✔ prompt4: infer_img() full-res ok\n",
            " Saved results to /content/drive/MyDrive/RQ1_Experiments/results/InternVL3-8B/RQ1_InternVL3-8B_8B_country_L3_prompt4_r1.json\n",
            "\n",
            "------------------------------------------------------\n",
            "\n",
            "Processing 94/360: /content/drive/MyDrive/RQ1_Experiments/RQ1_Data_Batch1/Asia/Iran/Asia_Iran_photo_7782ff61d56c90e3e93166287a24a48b4759db95_TOP.jpg\n",
            "\n",
            "  ➤ [prompt1] prompt:\n",
            "Assume the image is from Asia. Analyze it and answer two things:\n",
            "\n",
            "1) Which country is this most likely from? (choose from China, India, Iran, United Arab Emirates, Singapore, Israel, Timor-Leste, Maldives, Brunei)\n",
            "\n",
            "2) What is the most suitable label: political expression, vandalism, decoration, cultural identity, or advertisement?\n",
            "\n"
          ]
        },
        {
          "output_type": "stream",
          "name": "stderr",
          "text": [
            "Setting `pad_token_id` to `eos_token_id`:151645 for open-end generation.\n",
            "Setting `pad_token_id` to `eos_token_id`:151645 for open-end generation.\n"
          ]
        },
        {
          "output_type": "stream",
          "name": "stdout",
          "text": [
            "  ✔ prompt1: infer_img() full-res ok\n",
            " Saved results to /content/drive/MyDrive/RQ1_Experiments/results/InternVL3-8B/RQ1_InternVL3-8B_8B_country_L3_prompt1_r1.json\n",
            "\n",
            "  ➤ [prompt2] prompt:\n",
            "You are a cultural anthropologist viewing street visuals. Given that mural in image is located in Asia, give these four pieces of info:\n",
            "\n",
            "- COUNTRY (choose exactly one: China, India, Iran, United Arab Emirates, Singapore, Israel, Timor-Leste, Maldives, Brunei)\n",
            "- LABEL (choose exactly one: political expression / vandalism / decoration / cultural identity / advertisement)\n",
            "- CONFIDENCE (0–100%)\n",
            "- TOP CUE (2–3 sentences describing the key visual/cultural cue)\n",
            "\n",
            "Be concise and calibrate CONFIDENCE to how strongly the visual cues support your claims.\n",
            "\n"
          ]
        },
        {
          "output_type": "stream",
          "name": "stderr",
          "text": [
            "Setting `pad_token_id` to `eos_token_id`:151645 for open-end generation.\n"
          ]
        },
        {
          "output_type": "stream",
          "name": "stdout",
          "text": [
            "  ✔ prompt2: infer_img() full-res ok\n",
            " Saved results to /content/drive/MyDrive/RQ1_Experiments/results/InternVL3-8B/RQ1_InternVL3-8B_8B_country_L3_prompt2_r1.json\n",
            "\n",
            "  ➤ [prompt3] prompt:\n",
            "Moderate a brief debate among a Geographer, a Street Artist, and a Museum Curator about this image, assuming it originates from Asia. For each expert, give:\n",
            "\n",
            "- ROLE: <role name>\n",
            "- COUNTRY (choose exactly one: China, India, Iran, United Arab Emirates, Singapore, Israel, Timor-Leste, Maldives, Brunei)\n",
            "- LABEL (political expression / vandalism / decoration / cultural identity / advertisement)\n",
            "- SHORT_RATIONALE (one concise sentence)\n",
            "\n",
            "After the three positions, write a 2-paragraph moderator resolution:\n",
            "1) Compare the three rationales and state which COUNTRY and LABEL you choose and why (trade-offs).\n",
            "2) List 2 visual cues that were decisive and mention one alternative explanation you rejected.\n",
            "\n",
            "Finish with: COUNTRY and LABEL (each on its own line).\n",
            "\n"
          ]
        },
        {
          "output_type": "stream",
          "name": "stderr",
          "text": [
            "Setting `pad_token_id` to `eos_token_id`:151645 for open-end generation.\n"
          ]
        },
        {
          "output_type": "stream",
          "name": "stdout",
          "text": [
            "  ✔ prompt3: infer_img() full-res ok\n",
            " Saved results to /content/drive/MyDrive/RQ1_Experiments/results/InternVL3-8B/RQ1_InternVL3-8B_8B_country_L3_prompt3_r1.json\n",
            "\n",
            "  ➤ [prompt4] prompt:\n",
            "You are a cultural anthropologist & artist. Given that mural in image is located in Asia, provide:\n",
            "\n",
            "- COUNTRY: two most likely countries (choose from: China, India, Iran, United Arab Emirates, Singapore, Israel, Timor-Leste, Maldives, Brunei) with percentages (sum ≈100), e.g. \"\"Iceland: 70%, Russia: 30%\"\"\n",
            "- WHY COUNTRY: 2–3 sentences explaining how visual cues suggest the chosen countries .\n",
            "\n",
            "- LABEL: choose from (political expression, vandalism, decoration, cultural identity, advertisement) and also assign probabilities for all five labels (sum ≈100)\n",
            "- WHY LABEL: 2–3 sentences linking cues to chosen label.\n",
            "\n",
            "- TOP CUES: list three concrete cues that were decisive (1–6 words each)\n",
            "- BIAS NOTE: 2–3 sentences reflecting how cultural bias might have affected the probability estimates.\n",
            "\n",
            "Constraints:\n",
            "- Avoid equal continent splits (e.g. 50/50). Show one as more likely.\n",
            "- Keep WHY COUNTRY and WHY LABEL tied to visible evidence (colors, symbols, technique, location clues etc).\n",
            "\n",
            "  ✔ prompt4: infer_img() full-res ok\n",
            " Saved results to /content/drive/MyDrive/RQ1_Experiments/results/InternVL3-8B/RQ1_InternVL3-8B_8B_country_L3_prompt4_r1.json\n",
            "\n",
            "------------------------------------------------------\n",
            "\n",
            "Processing 95/360: /content/drive/MyDrive/RQ1_Experiments/RQ1_Data_Batch1/Asia/Iran/Asia_Iran_photo_8bd57bd02fc2955c9a305eb7bbfbd95f3f5094a8_TOP.jpg\n",
            "\n",
            "  ➤ [prompt1] prompt:\n",
            "Assume the image is from Asia. Analyze it and answer two things:\n",
            "\n",
            "1) Which country is this most likely from? (choose from China, India, Iran, United Arab Emirates, Singapore, Israel, Timor-Leste, Maldives, Brunei)\n",
            "\n",
            "2) What is the most suitable label: political expression, vandalism, decoration, cultural identity, or advertisement?\n",
            "\n"
          ]
        },
        {
          "output_type": "stream",
          "name": "stderr",
          "text": [
            "Setting `pad_token_id` to `eos_token_id`:151645 for open-end generation.\n",
            "Setting `pad_token_id` to `eos_token_id`:151645 for open-end generation.\n"
          ]
        },
        {
          "output_type": "stream",
          "name": "stdout",
          "text": [
            "  ✔ prompt1: infer_img() full-res ok\n",
            " Saved results to /content/drive/MyDrive/RQ1_Experiments/results/InternVL3-8B/RQ1_InternVL3-8B_8B_country_L3_prompt1_r1.json\n",
            "\n",
            "  ➤ [prompt2] prompt:\n",
            "You are a cultural anthropologist viewing street visuals. Given that mural in image is located in Asia, give these four pieces of info:\n",
            "\n",
            "- COUNTRY (choose exactly one: China, India, Iran, United Arab Emirates, Singapore, Israel, Timor-Leste, Maldives, Brunei)\n",
            "- LABEL (choose exactly one: political expression / vandalism / decoration / cultural identity / advertisement)\n",
            "- CONFIDENCE (0–100%)\n",
            "- TOP CUE (2–3 sentences describing the key visual/cultural cue)\n",
            "\n",
            "Be concise and calibrate CONFIDENCE to how strongly the visual cues support your claims.\n",
            "\n"
          ]
        },
        {
          "output_type": "stream",
          "name": "stderr",
          "text": [
            "Setting `pad_token_id` to `eos_token_id`:151645 for open-end generation.\n"
          ]
        },
        {
          "output_type": "stream",
          "name": "stdout",
          "text": [
            "  ✔ prompt2: infer_img() full-res ok\n",
            " Saved results to /content/drive/MyDrive/RQ1_Experiments/results/InternVL3-8B/RQ1_InternVL3-8B_8B_country_L3_prompt2_r1.json\n",
            "\n",
            "  ➤ [prompt3] prompt:\n",
            "Moderate a brief debate among a Geographer, a Street Artist, and a Museum Curator about this image, assuming it originates from Asia. For each expert, give:\n",
            "\n",
            "- ROLE: <role name>\n",
            "- COUNTRY (choose exactly one: China, India, Iran, United Arab Emirates, Singapore, Israel, Timor-Leste, Maldives, Brunei)\n",
            "- LABEL (political expression / vandalism / decoration / cultural identity / advertisement)\n",
            "- SHORT_RATIONALE (one concise sentence)\n",
            "\n",
            "After the three positions, write a 2-paragraph moderator resolution:\n",
            "1) Compare the three rationales and state which COUNTRY and LABEL you choose and why (trade-offs).\n",
            "2) List 2 visual cues that were decisive and mention one alternative explanation you rejected.\n",
            "\n",
            "Finish with: COUNTRY and LABEL (each on its own line).\n",
            "\n"
          ]
        },
        {
          "output_type": "stream",
          "name": "stderr",
          "text": [
            "Setting `pad_token_id` to `eos_token_id`:151645 for open-end generation.\n"
          ]
        },
        {
          "output_type": "stream",
          "name": "stdout",
          "text": [
            "  ✔ prompt3: infer_img() full-res ok\n",
            " Saved results to /content/drive/MyDrive/RQ1_Experiments/results/InternVL3-8B/RQ1_InternVL3-8B_8B_country_L3_prompt3_r1.json\n",
            "\n",
            "  ➤ [prompt4] prompt:\n",
            "You are a cultural anthropologist & artist. Given that mural in image is located in Asia, provide:\n",
            "\n",
            "- COUNTRY: two most likely countries (choose from: China, India, Iran, United Arab Emirates, Singapore, Israel, Timor-Leste, Maldives, Brunei) with percentages (sum ≈100), e.g. \"\"Iceland: 70%, Russia: 30%\"\"\n",
            "- WHY COUNTRY: 2–3 sentences explaining how visual cues suggest the chosen countries .\n",
            "\n",
            "- LABEL: choose from (political expression, vandalism, decoration, cultural identity, advertisement) and also assign probabilities for all five labels (sum ≈100)\n",
            "- WHY LABEL: 2–3 sentences linking cues to chosen label.\n",
            "\n",
            "- TOP CUES: list three concrete cues that were decisive (1–6 words each)\n",
            "- BIAS NOTE: 2–3 sentences reflecting how cultural bias might have affected the probability estimates.\n",
            "\n",
            "Constraints:\n",
            "- Avoid equal continent splits (e.g. 50/50). Show one as more likely.\n",
            "- Keep WHY COUNTRY and WHY LABEL tied to visible evidence (colors, symbols, technique, location clues etc).\n",
            "\n",
            "  ✔ prompt4: infer_img() full-res ok\n",
            " Saved results to /content/drive/MyDrive/RQ1_Experiments/results/InternVL3-8B/RQ1_InternVL3-8B_8B_country_L3_prompt4_r1.json\n",
            "\n",
            "------------------------------------------------------\n",
            "\n",
            "Processing 96/360: /content/drive/MyDrive/RQ1_Experiments/RQ1_Data_Batch1/Asia/Iran/Asia_Iran_photo_965cc87a78fb1e22881cd1c1003d6d69b0a9c11a_TOP.jpg\n",
            "\n",
            "  ➤ [prompt1] prompt:\n",
            "Assume the image is from Asia. Analyze it and answer two things:\n",
            "\n",
            "1) Which country is this most likely from? (choose from China, India, Iran, United Arab Emirates, Singapore, Israel, Timor-Leste, Maldives, Brunei)\n",
            "\n",
            "2) What is the most suitable label: political expression, vandalism, decoration, cultural identity, or advertisement?\n",
            "\n"
          ]
        },
        {
          "output_type": "stream",
          "name": "stderr",
          "text": [
            "Setting `pad_token_id` to `eos_token_id`:151645 for open-end generation.\n",
            "Setting `pad_token_id` to `eos_token_id`:151645 for open-end generation.\n"
          ]
        },
        {
          "output_type": "stream",
          "name": "stdout",
          "text": [
            "  ✔ prompt1: infer_img() full-res ok\n",
            " Saved results to /content/drive/MyDrive/RQ1_Experiments/results/InternVL3-8B/RQ1_InternVL3-8B_8B_country_L3_prompt1_r1.json\n",
            "\n",
            "  ➤ [prompt2] prompt:\n",
            "You are a cultural anthropologist viewing street visuals. Given that mural in image is located in Asia, give these four pieces of info:\n",
            "\n",
            "- COUNTRY (choose exactly one: China, India, Iran, United Arab Emirates, Singapore, Israel, Timor-Leste, Maldives, Brunei)\n",
            "- LABEL (choose exactly one: political expression / vandalism / decoration / cultural identity / advertisement)\n",
            "- CONFIDENCE (0–100%)\n",
            "- TOP CUE (2–3 sentences describing the key visual/cultural cue)\n",
            "\n",
            "Be concise and calibrate CONFIDENCE to how strongly the visual cues support your claims.\n",
            "\n"
          ]
        },
        {
          "output_type": "stream",
          "name": "stderr",
          "text": [
            "Setting `pad_token_id` to `eos_token_id`:151645 for open-end generation.\n"
          ]
        },
        {
          "output_type": "stream",
          "name": "stdout",
          "text": [
            "  ✔ prompt2: infer_img() full-res ok\n",
            " Saved results to /content/drive/MyDrive/RQ1_Experiments/results/InternVL3-8B/RQ1_InternVL3-8B_8B_country_L3_prompt2_r1.json\n",
            "\n",
            "  ➤ [prompt3] prompt:\n",
            "Moderate a brief debate among a Geographer, a Street Artist, and a Museum Curator about this image, assuming it originates from Asia. For each expert, give:\n",
            "\n",
            "- ROLE: <role name>\n",
            "- COUNTRY (choose exactly one: China, India, Iran, United Arab Emirates, Singapore, Israel, Timor-Leste, Maldives, Brunei)\n",
            "- LABEL (political expression / vandalism / decoration / cultural identity / advertisement)\n",
            "- SHORT_RATIONALE (one concise sentence)\n",
            "\n",
            "After the three positions, write a 2-paragraph moderator resolution:\n",
            "1) Compare the three rationales and state which COUNTRY and LABEL you choose and why (trade-offs).\n",
            "2) List 2 visual cues that were decisive and mention one alternative explanation you rejected.\n",
            "\n",
            "Finish with: COUNTRY and LABEL (each on its own line).\n",
            "\n"
          ]
        },
        {
          "output_type": "stream",
          "name": "stderr",
          "text": [
            "Setting `pad_token_id` to `eos_token_id`:151645 for open-end generation.\n"
          ]
        },
        {
          "output_type": "stream",
          "name": "stdout",
          "text": [
            "  ✔ prompt3: infer_img() full-res ok\n",
            " Saved results to /content/drive/MyDrive/RQ1_Experiments/results/InternVL3-8B/RQ1_InternVL3-8B_8B_country_L3_prompt3_r1.json\n",
            "\n",
            "  ➤ [prompt4] prompt:\n",
            "You are a cultural anthropologist & artist. Given that mural in image is located in Asia, provide:\n",
            "\n",
            "- COUNTRY: two most likely countries (choose from: China, India, Iran, United Arab Emirates, Singapore, Israel, Timor-Leste, Maldives, Brunei) with percentages (sum ≈100), e.g. \"\"Iceland: 70%, Russia: 30%\"\"\n",
            "- WHY COUNTRY: 2–3 sentences explaining how visual cues suggest the chosen countries .\n",
            "\n",
            "- LABEL: choose from (political expression, vandalism, decoration, cultural identity, advertisement) and also assign probabilities for all five labels (sum ≈100)\n",
            "- WHY LABEL: 2–3 sentences linking cues to chosen label.\n",
            "\n",
            "- TOP CUES: list three concrete cues that were decisive (1–6 words each)\n",
            "- BIAS NOTE: 2–3 sentences reflecting how cultural bias might have affected the probability estimates.\n",
            "\n",
            "Constraints:\n",
            "- Avoid equal continent splits (e.g. 50/50). Show one as more likely.\n",
            "- Keep WHY COUNTRY and WHY LABEL tied to visible evidence (colors, symbols, technique, location clues etc).\n",
            "\n",
            "  ✔ prompt4: infer_img() full-res ok\n",
            " Saved results to /content/drive/MyDrive/RQ1_Experiments/results/InternVL3-8B/RQ1_InternVL3-8B_8B_country_L3_prompt4_r1.json\n",
            "\n",
            "------------------------------------------------------\n",
            "\n",
            "Processing 97/360: /content/drive/MyDrive/RQ1_Experiments/RQ1_Data_Batch1/Asia/Iran/Asia_Iran_photo_a992d97c867ad7aa24ad73b9349cddec9b61bc45_TOP.jpg\n",
            "\n",
            "  ➤ [prompt1] prompt:\n",
            "Assume the image is from Asia. Analyze it and answer two things:\n",
            "\n",
            "1) Which country is this most likely from? (choose from China, India, Iran, United Arab Emirates, Singapore, Israel, Timor-Leste, Maldives, Brunei)\n",
            "\n",
            "2) What is the most suitable label: political expression, vandalism, decoration, cultural identity, or advertisement?\n",
            "\n"
          ]
        },
        {
          "output_type": "stream",
          "name": "stderr",
          "text": [
            "Setting `pad_token_id` to `eos_token_id`:151645 for open-end generation.\n",
            "Setting `pad_token_id` to `eos_token_id`:151645 for open-end generation.\n"
          ]
        },
        {
          "output_type": "stream",
          "name": "stdout",
          "text": [
            "  ✔ prompt1: infer_img() full-res ok\n",
            " Saved results to /content/drive/MyDrive/RQ1_Experiments/results/InternVL3-8B/RQ1_InternVL3-8B_8B_country_L3_prompt1_r1.json\n",
            "\n",
            "  ➤ [prompt2] prompt:\n",
            "You are a cultural anthropologist viewing street visuals. Given that mural in image is located in Asia, give these four pieces of info:\n",
            "\n",
            "- COUNTRY (choose exactly one: China, India, Iran, United Arab Emirates, Singapore, Israel, Timor-Leste, Maldives, Brunei)\n",
            "- LABEL (choose exactly one: political expression / vandalism / decoration / cultural identity / advertisement)\n",
            "- CONFIDENCE (0–100%)\n",
            "- TOP CUE (2–3 sentences describing the key visual/cultural cue)\n",
            "\n",
            "Be concise and calibrate CONFIDENCE to how strongly the visual cues support your claims.\n",
            "\n"
          ]
        },
        {
          "output_type": "stream",
          "name": "stderr",
          "text": [
            "Setting `pad_token_id` to `eos_token_id`:151645 for open-end generation.\n"
          ]
        },
        {
          "output_type": "stream",
          "name": "stdout",
          "text": [
            "  ✔ prompt2: infer_img() full-res ok\n",
            " Saved results to /content/drive/MyDrive/RQ1_Experiments/results/InternVL3-8B/RQ1_InternVL3-8B_8B_country_L3_prompt2_r1.json\n",
            "\n",
            "  ➤ [prompt3] prompt:\n",
            "Moderate a brief debate among a Geographer, a Street Artist, and a Museum Curator about this image, assuming it originates from Asia. For each expert, give:\n",
            "\n",
            "- ROLE: <role name>\n",
            "- COUNTRY (choose exactly one: China, India, Iran, United Arab Emirates, Singapore, Israel, Timor-Leste, Maldives, Brunei)\n",
            "- LABEL (political expression / vandalism / decoration / cultural identity / advertisement)\n",
            "- SHORT_RATIONALE (one concise sentence)\n",
            "\n",
            "After the three positions, write a 2-paragraph moderator resolution:\n",
            "1) Compare the three rationales and state which COUNTRY and LABEL you choose and why (trade-offs).\n",
            "2) List 2 visual cues that were decisive and mention one alternative explanation you rejected.\n",
            "\n",
            "Finish with: COUNTRY and LABEL (each on its own line).\n",
            "\n"
          ]
        },
        {
          "output_type": "stream",
          "name": "stderr",
          "text": [
            "Setting `pad_token_id` to `eos_token_id`:151645 for open-end generation.\n"
          ]
        },
        {
          "output_type": "stream",
          "name": "stdout",
          "text": [
            "  ✔ prompt3: infer_img() full-res ok\n",
            " Saved results to /content/drive/MyDrive/RQ1_Experiments/results/InternVL3-8B/RQ1_InternVL3-8B_8B_country_L3_prompt3_r1.json\n",
            "\n",
            "  ➤ [prompt4] prompt:\n",
            "You are a cultural anthropologist & artist. Given that mural in image is located in Asia, provide:\n",
            "\n",
            "- COUNTRY: two most likely countries (choose from: China, India, Iran, United Arab Emirates, Singapore, Israel, Timor-Leste, Maldives, Brunei) with percentages (sum ≈100), e.g. \"\"Iceland: 70%, Russia: 30%\"\"\n",
            "- WHY COUNTRY: 2–3 sentences explaining how visual cues suggest the chosen countries .\n",
            "\n",
            "- LABEL: choose from (political expression, vandalism, decoration, cultural identity, advertisement) and also assign probabilities for all five labels (sum ≈100)\n",
            "- WHY LABEL: 2–3 sentences linking cues to chosen label.\n",
            "\n",
            "- TOP CUES: list three concrete cues that were decisive (1–6 words each)\n",
            "- BIAS NOTE: 2–3 sentences reflecting how cultural bias might have affected the probability estimates.\n",
            "\n",
            "Constraints:\n",
            "- Avoid equal continent splits (e.g. 50/50). Show one as more likely.\n",
            "- Keep WHY COUNTRY and WHY LABEL tied to visible evidence (colors, symbols, technique, location clues etc).\n",
            "\n",
            "  ✔ prompt4: infer_img() full-res ok\n",
            " Saved results to /content/drive/MyDrive/RQ1_Experiments/results/InternVL3-8B/RQ1_InternVL3-8B_8B_country_L3_prompt4_r1.json\n",
            "\n",
            "------------------------------------------------------\n",
            "\n",
            "Processing 98/360: /content/drive/MyDrive/RQ1_Experiments/RQ1_Data_Batch1/Asia/Iran/Asia_Iran_photo_b6c3b7f0c64fd769a2f7b562fde6040a32adff3e_TOP.jpg\n",
            "\n",
            "  ➤ [prompt1] prompt:\n",
            "Assume the image is from Asia. Analyze it and answer two things:\n",
            "\n",
            "1) Which country is this most likely from? (choose from China, India, Iran, United Arab Emirates, Singapore, Israel, Timor-Leste, Maldives, Brunei)\n",
            "\n",
            "2) What is the most suitable label: political expression, vandalism, decoration, cultural identity, or advertisement?\n",
            "\n"
          ]
        },
        {
          "output_type": "stream",
          "name": "stderr",
          "text": [
            "Setting `pad_token_id` to `eos_token_id`:151645 for open-end generation.\n",
            "Setting `pad_token_id` to `eos_token_id`:151645 for open-end generation.\n"
          ]
        },
        {
          "output_type": "stream",
          "name": "stdout",
          "text": [
            "  ✔ prompt1: infer_img() full-res ok\n",
            " Saved results to /content/drive/MyDrive/RQ1_Experiments/results/InternVL3-8B/RQ1_InternVL3-8B_8B_country_L3_prompt1_r1.json\n",
            "\n",
            "  ➤ [prompt2] prompt:\n",
            "You are a cultural anthropologist viewing street visuals. Given that mural in image is located in Asia, give these four pieces of info:\n",
            "\n",
            "- COUNTRY (choose exactly one: China, India, Iran, United Arab Emirates, Singapore, Israel, Timor-Leste, Maldives, Brunei)\n",
            "- LABEL (choose exactly one: political expression / vandalism / decoration / cultural identity / advertisement)\n",
            "- CONFIDENCE (0–100%)\n",
            "- TOP CUE (2–3 sentences describing the key visual/cultural cue)\n",
            "\n",
            "Be concise and calibrate CONFIDENCE to how strongly the visual cues support your claims.\n",
            "\n"
          ]
        },
        {
          "output_type": "stream",
          "name": "stderr",
          "text": [
            "Setting `pad_token_id` to `eos_token_id`:151645 for open-end generation.\n"
          ]
        },
        {
          "output_type": "stream",
          "name": "stdout",
          "text": [
            "  ✔ prompt2: infer_img() full-res ok\n",
            " Saved results to /content/drive/MyDrive/RQ1_Experiments/results/InternVL3-8B/RQ1_InternVL3-8B_8B_country_L3_prompt2_r1.json\n",
            "\n",
            "  ➤ [prompt3] prompt:\n",
            "Moderate a brief debate among a Geographer, a Street Artist, and a Museum Curator about this image, assuming it originates from Asia. For each expert, give:\n",
            "\n",
            "- ROLE: <role name>\n",
            "- COUNTRY (choose exactly one: China, India, Iran, United Arab Emirates, Singapore, Israel, Timor-Leste, Maldives, Brunei)\n",
            "- LABEL (political expression / vandalism / decoration / cultural identity / advertisement)\n",
            "- SHORT_RATIONALE (one concise sentence)\n",
            "\n",
            "After the three positions, write a 2-paragraph moderator resolution:\n",
            "1) Compare the three rationales and state which COUNTRY and LABEL you choose and why (trade-offs).\n",
            "2) List 2 visual cues that were decisive and mention one alternative explanation you rejected.\n",
            "\n",
            "Finish with: COUNTRY and LABEL (each on its own line).\n",
            "\n"
          ]
        },
        {
          "output_type": "stream",
          "name": "stderr",
          "text": [
            "Setting `pad_token_id` to `eos_token_id`:151645 for open-end generation.\n"
          ]
        },
        {
          "output_type": "stream",
          "name": "stdout",
          "text": [
            "  ✔ prompt3: infer_img() full-res ok\n",
            " Saved results to /content/drive/MyDrive/RQ1_Experiments/results/InternVL3-8B/RQ1_InternVL3-8B_8B_country_L3_prompt3_r1.json\n",
            "\n",
            "  ➤ [prompt4] prompt:\n",
            "You are a cultural anthropologist & artist. Given that mural in image is located in Asia, provide:\n",
            "\n",
            "- COUNTRY: two most likely countries (choose from: China, India, Iran, United Arab Emirates, Singapore, Israel, Timor-Leste, Maldives, Brunei) with percentages (sum ≈100), e.g. \"\"Iceland: 70%, Russia: 30%\"\"\n",
            "- WHY COUNTRY: 2–3 sentences explaining how visual cues suggest the chosen countries .\n",
            "\n",
            "- LABEL: choose from (political expression, vandalism, decoration, cultural identity, advertisement) and also assign probabilities for all five labels (sum ≈100)\n",
            "- WHY LABEL: 2–3 sentences linking cues to chosen label.\n",
            "\n",
            "- TOP CUES: list three concrete cues that were decisive (1–6 words each)\n",
            "- BIAS NOTE: 2–3 sentences reflecting how cultural bias might have affected the probability estimates.\n",
            "\n",
            "Constraints:\n",
            "- Avoid equal continent splits (e.g. 50/50). Show one as more likely.\n",
            "- Keep WHY COUNTRY and WHY LABEL tied to visible evidence (colors, symbols, technique, location clues etc).\n",
            "\n",
            "  ✔ prompt4: infer_img() full-res ok\n",
            " Saved results to /content/drive/MyDrive/RQ1_Experiments/results/InternVL3-8B/RQ1_InternVL3-8B_8B_country_L3_prompt4_r1.json\n",
            "\n",
            "------------------------------------------------------\n",
            "\n",
            "Processing 99/360: /content/drive/MyDrive/RQ1_Experiments/RQ1_Data_Batch1/Asia/Iran/Asia_Iran_photo_cb4e6ba490dbaf14146a91afc0c4b244654f5dea_TOP.jpg\n",
            "\n",
            "  ➤ [prompt1] prompt:\n",
            "Assume the image is from Asia. Analyze it and answer two things:\n",
            "\n",
            "1) Which country is this most likely from? (choose from China, India, Iran, United Arab Emirates, Singapore, Israel, Timor-Leste, Maldives, Brunei)\n",
            "\n",
            "2) What is the most suitable label: political expression, vandalism, decoration, cultural identity, or advertisement?\n",
            "\n"
          ]
        },
        {
          "output_type": "stream",
          "name": "stderr",
          "text": [
            "Setting `pad_token_id` to `eos_token_id`:151645 for open-end generation.\n",
            "Setting `pad_token_id` to `eos_token_id`:151645 for open-end generation.\n"
          ]
        },
        {
          "output_type": "stream",
          "name": "stdout",
          "text": [
            "  ✔ prompt1: infer_img() full-res ok\n",
            " Saved results to /content/drive/MyDrive/RQ1_Experiments/results/InternVL3-8B/RQ1_InternVL3-8B_8B_country_L3_prompt1_r1.json\n",
            "\n",
            "  ➤ [prompt2] prompt:\n",
            "You are a cultural anthropologist viewing street visuals. Given that mural in image is located in Asia, give these four pieces of info:\n",
            "\n",
            "- COUNTRY (choose exactly one: China, India, Iran, United Arab Emirates, Singapore, Israel, Timor-Leste, Maldives, Brunei)\n",
            "- LABEL (choose exactly one: political expression / vandalism / decoration / cultural identity / advertisement)\n",
            "- CONFIDENCE (0–100%)\n",
            "- TOP CUE (2–3 sentences describing the key visual/cultural cue)\n",
            "\n",
            "Be concise and calibrate CONFIDENCE to how strongly the visual cues support your claims.\n",
            "\n"
          ]
        },
        {
          "output_type": "stream",
          "name": "stderr",
          "text": [
            "Setting `pad_token_id` to `eos_token_id`:151645 for open-end generation.\n"
          ]
        },
        {
          "output_type": "stream",
          "name": "stdout",
          "text": [
            "  ✔ prompt2: infer_img() full-res ok\n",
            " Saved results to /content/drive/MyDrive/RQ1_Experiments/results/InternVL3-8B/RQ1_InternVL3-8B_8B_country_L3_prompt2_r1.json\n",
            "\n",
            "  ➤ [prompt3] prompt:\n",
            "Moderate a brief debate among a Geographer, a Street Artist, and a Museum Curator about this image, assuming it originates from Asia. For each expert, give:\n",
            "\n",
            "- ROLE: <role name>\n",
            "- COUNTRY (choose exactly one: China, India, Iran, United Arab Emirates, Singapore, Israel, Timor-Leste, Maldives, Brunei)\n",
            "- LABEL (political expression / vandalism / decoration / cultural identity / advertisement)\n",
            "- SHORT_RATIONALE (one concise sentence)\n",
            "\n",
            "After the three positions, write a 2-paragraph moderator resolution:\n",
            "1) Compare the three rationales and state which COUNTRY and LABEL you choose and why (trade-offs).\n",
            "2) List 2 visual cues that were decisive and mention one alternative explanation you rejected.\n",
            "\n",
            "Finish with: COUNTRY and LABEL (each on its own line).\n",
            "\n"
          ]
        },
        {
          "output_type": "stream",
          "name": "stderr",
          "text": [
            "Setting `pad_token_id` to `eos_token_id`:151645 for open-end generation.\n"
          ]
        },
        {
          "output_type": "stream",
          "name": "stdout",
          "text": [
            "  ✔ prompt3: infer_img() full-res ok\n",
            " Saved results to /content/drive/MyDrive/RQ1_Experiments/results/InternVL3-8B/RQ1_InternVL3-8B_8B_country_L3_prompt3_r1.json\n",
            "\n",
            "  ➤ [prompt4] prompt:\n",
            "You are a cultural anthropologist & artist. Given that mural in image is located in Asia, provide:\n",
            "\n",
            "- COUNTRY: two most likely countries (choose from: China, India, Iran, United Arab Emirates, Singapore, Israel, Timor-Leste, Maldives, Brunei) with percentages (sum ≈100), e.g. \"\"Iceland: 70%, Russia: 30%\"\"\n",
            "- WHY COUNTRY: 2–3 sentences explaining how visual cues suggest the chosen countries .\n",
            "\n",
            "- LABEL: choose from (political expression, vandalism, decoration, cultural identity, advertisement) and also assign probabilities for all five labels (sum ≈100)\n",
            "- WHY LABEL: 2–3 sentences linking cues to chosen label.\n",
            "\n",
            "- TOP CUES: list three concrete cues that were decisive (1–6 words each)\n",
            "- BIAS NOTE: 2–3 sentences reflecting how cultural bias might have affected the probability estimates.\n",
            "\n",
            "Constraints:\n",
            "- Avoid equal continent splits (e.g. 50/50). Show one as more likely.\n",
            "- Keep WHY COUNTRY and WHY LABEL tied to visible evidence (colors, symbols, technique, location clues etc).\n",
            "\n",
            "  ✔ prompt4: infer_img() full-res ok\n",
            " Saved results to /content/drive/MyDrive/RQ1_Experiments/results/InternVL3-8B/RQ1_InternVL3-8B_8B_country_L3_prompt4_r1.json\n",
            "\n",
            "------------------------------------------------------\n",
            "\n",
            "Processing 100/360: /content/drive/MyDrive/RQ1_Experiments/RQ1_Data_Batch1/Asia/Iran/Asia_Iran_photo_ce911e80ce8d79d19bc25df5ced7495090fa88c7_TOP.jpg\n",
            "\n",
            "  ➤ [prompt1] prompt:\n",
            "Assume the image is from Asia. Analyze it and answer two things:\n",
            "\n",
            "1) Which country is this most likely from? (choose from China, India, Iran, United Arab Emirates, Singapore, Israel, Timor-Leste, Maldives, Brunei)\n",
            "\n",
            "2) What is the most suitable label: political expression, vandalism, decoration, cultural identity, or advertisement?\n",
            "\n"
          ]
        },
        {
          "output_type": "stream",
          "name": "stderr",
          "text": [
            "Setting `pad_token_id` to `eos_token_id`:151645 for open-end generation.\n",
            "Setting `pad_token_id` to `eos_token_id`:151645 for open-end generation.\n"
          ]
        },
        {
          "output_type": "stream",
          "name": "stdout",
          "text": [
            "  ✔ prompt1: infer_img() full-res ok\n",
            " Saved results to /content/drive/MyDrive/RQ1_Experiments/results/InternVL3-8B/RQ1_InternVL3-8B_8B_country_L3_prompt1_r1.json\n",
            "\n",
            "  ➤ [prompt2] prompt:\n",
            "You are a cultural anthropologist viewing street visuals. Given that mural in image is located in Asia, give these four pieces of info:\n",
            "\n",
            "- COUNTRY (choose exactly one: China, India, Iran, United Arab Emirates, Singapore, Israel, Timor-Leste, Maldives, Brunei)\n",
            "- LABEL (choose exactly one: political expression / vandalism / decoration / cultural identity / advertisement)\n",
            "- CONFIDENCE (0–100%)\n",
            "- TOP CUE (2–3 sentences describing the key visual/cultural cue)\n",
            "\n",
            "Be concise and calibrate CONFIDENCE to how strongly the visual cues support your claims.\n",
            "\n"
          ]
        },
        {
          "output_type": "stream",
          "name": "stderr",
          "text": [
            "Setting `pad_token_id` to `eos_token_id`:151645 for open-end generation.\n"
          ]
        },
        {
          "output_type": "stream",
          "name": "stdout",
          "text": [
            "  ✔ prompt2: infer_img() full-res ok\n",
            " Saved results to /content/drive/MyDrive/RQ1_Experiments/results/InternVL3-8B/RQ1_InternVL3-8B_8B_country_L3_prompt2_r1.json\n",
            "\n",
            "  ➤ [prompt3] prompt:\n",
            "Moderate a brief debate among a Geographer, a Street Artist, and a Museum Curator about this image, assuming it originates from Asia. For each expert, give:\n",
            "\n",
            "- ROLE: <role name>\n",
            "- COUNTRY (choose exactly one: China, India, Iran, United Arab Emirates, Singapore, Israel, Timor-Leste, Maldives, Brunei)\n",
            "- LABEL (political expression / vandalism / decoration / cultural identity / advertisement)\n",
            "- SHORT_RATIONALE (one concise sentence)\n",
            "\n",
            "After the three positions, write a 2-paragraph moderator resolution:\n",
            "1) Compare the three rationales and state which COUNTRY and LABEL you choose and why (trade-offs).\n",
            "2) List 2 visual cues that were decisive and mention one alternative explanation you rejected.\n",
            "\n",
            "Finish with: COUNTRY and LABEL (each on its own line).\n",
            "\n"
          ]
        },
        {
          "output_type": "stream",
          "name": "stderr",
          "text": [
            "Setting `pad_token_id` to `eos_token_id`:151645 for open-end generation.\n"
          ]
        },
        {
          "output_type": "stream",
          "name": "stdout",
          "text": [
            "  ✔ prompt3: infer_img() full-res ok\n",
            " Saved results to /content/drive/MyDrive/RQ1_Experiments/results/InternVL3-8B/RQ1_InternVL3-8B_8B_country_L3_prompt3_r1.json\n",
            "\n",
            "  ➤ [prompt4] prompt:\n",
            "You are a cultural anthropologist & artist. Given that mural in image is located in Asia, provide:\n",
            "\n",
            "- COUNTRY: two most likely countries (choose from: China, India, Iran, United Arab Emirates, Singapore, Israel, Timor-Leste, Maldives, Brunei) with percentages (sum ≈100), e.g. \"\"Iceland: 70%, Russia: 30%\"\"\n",
            "- WHY COUNTRY: 2–3 sentences explaining how visual cues suggest the chosen countries .\n",
            "\n",
            "- LABEL: choose from (political expression, vandalism, decoration, cultural identity, advertisement) and also assign probabilities for all five labels (sum ≈100)\n",
            "- WHY LABEL: 2–3 sentences linking cues to chosen label.\n",
            "\n",
            "- TOP CUES: list three concrete cues that were decisive (1–6 words each)\n",
            "- BIAS NOTE: 2–3 sentences reflecting how cultural bias might have affected the probability estimates.\n",
            "\n",
            "Constraints:\n",
            "- Avoid equal continent splits (e.g. 50/50). Show one as more likely.\n",
            "- Keep WHY COUNTRY and WHY LABEL tied to visible evidence (colors, symbols, technique, location clues etc).\n",
            "\n",
            "  ✔ prompt4: infer_img() full-res ok\n",
            " Saved results to /content/drive/MyDrive/RQ1_Experiments/results/InternVL3-8B/RQ1_InternVL3-8B_8B_country_L3_prompt4_r1.json\n",
            "\n",
            "------------------------------------------------------\n",
            "\n",
            "Processing 101/360: /content/drive/MyDrive/RQ1_Experiments/RQ1_Data_Batch1/Asia/Iran/Asia_Iran_photo_e6caf6338d8d3f3d34916ef0c9afc4b0635effe4_TOP.jpg\n",
            "\n",
            "  ➤ [prompt1] prompt:\n",
            "Assume the image is from Asia. Analyze it and answer two things:\n",
            "\n",
            "1) Which country is this most likely from? (choose from China, India, Iran, United Arab Emirates, Singapore, Israel, Timor-Leste, Maldives, Brunei)\n",
            "\n",
            "2) What is the most suitable label: political expression, vandalism, decoration, cultural identity, or advertisement?\n",
            "\n"
          ]
        },
        {
          "output_type": "stream",
          "name": "stderr",
          "text": [
            "Setting `pad_token_id` to `eos_token_id`:151645 for open-end generation.\n",
            "Setting `pad_token_id` to `eos_token_id`:151645 for open-end generation.\n"
          ]
        },
        {
          "output_type": "stream",
          "name": "stdout",
          "text": [
            "  ✔ prompt1: infer_img() full-res ok\n",
            " Saved results to /content/drive/MyDrive/RQ1_Experiments/results/InternVL3-8B/RQ1_InternVL3-8B_8B_country_L3_prompt1_r1.json\n",
            "\n",
            "  ➤ [prompt2] prompt:\n",
            "You are a cultural anthropologist viewing street visuals. Given that mural in image is located in Asia, give these four pieces of info:\n",
            "\n",
            "- COUNTRY (choose exactly one: China, India, Iran, United Arab Emirates, Singapore, Israel, Timor-Leste, Maldives, Brunei)\n",
            "- LABEL (choose exactly one: political expression / vandalism / decoration / cultural identity / advertisement)\n",
            "- CONFIDENCE (0–100%)\n",
            "- TOP CUE (2–3 sentences describing the key visual/cultural cue)\n",
            "\n",
            "Be concise and calibrate CONFIDENCE to how strongly the visual cues support your claims.\n",
            "\n"
          ]
        },
        {
          "output_type": "stream",
          "name": "stderr",
          "text": [
            "Setting `pad_token_id` to `eos_token_id`:151645 for open-end generation.\n"
          ]
        },
        {
          "output_type": "stream",
          "name": "stdout",
          "text": [
            "  ✔ prompt2: infer_img() full-res ok\n",
            " Saved results to /content/drive/MyDrive/RQ1_Experiments/results/InternVL3-8B/RQ1_InternVL3-8B_8B_country_L3_prompt2_r1.json\n",
            "\n",
            "  ➤ [prompt3] prompt:\n",
            "Moderate a brief debate among a Geographer, a Street Artist, and a Museum Curator about this image, assuming it originates from Asia. For each expert, give:\n",
            "\n",
            "- ROLE: <role name>\n",
            "- COUNTRY (choose exactly one: China, India, Iran, United Arab Emirates, Singapore, Israel, Timor-Leste, Maldives, Brunei)\n",
            "- LABEL (political expression / vandalism / decoration / cultural identity / advertisement)\n",
            "- SHORT_RATIONALE (one concise sentence)\n",
            "\n",
            "After the three positions, write a 2-paragraph moderator resolution:\n",
            "1) Compare the three rationales and state which COUNTRY and LABEL you choose and why (trade-offs).\n",
            "2) List 2 visual cues that were decisive and mention one alternative explanation you rejected.\n",
            "\n",
            "Finish with: COUNTRY and LABEL (each on its own line).\n",
            "\n"
          ]
        },
        {
          "output_type": "stream",
          "name": "stderr",
          "text": [
            "Setting `pad_token_id` to `eos_token_id`:151645 for open-end generation.\n"
          ]
        },
        {
          "output_type": "stream",
          "name": "stdout",
          "text": [
            "  ✔ prompt3: infer_img() full-res ok\n",
            " Saved results to /content/drive/MyDrive/RQ1_Experiments/results/InternVL3-8B/RQ1_InternVL3-8B_8B_country_L3_prompt3_r1.json\n",
            "\n",
            "  ➤ [prompt4] prompt:\n",
            "You are a cultural anthropologist & artist. Given that mural in image is located in Asia, provide:\n",
            "\n",
            "- COUNTRY: two most likely countries (choose from: China, India, Iran, United Arab Emirates, Singapore, Israel, Timor-Leste, Maldives, Brunei) with percentages (sum ≈100), e.g. \"\"Iceland: 70%, Russia: 30%\"\"\n",
            "- WHY COUNTRY: 2–3 sentences explaining how visual cues suggest the chosen countries .\n",
            "\n",
            "- LABEL: choose from (political expression, vandalism, decoration, cultural identity, advertisement) and also assign probabilities for all five labels (sum ≈100)\n",
            "- WHY LABEL: 2–3 sentences linking cues to chosen label.\n",
            "\n",
            "- TOP CUES: list three concrete cues that were decisive (1–6 words each)\n",
            "- BIAS NOTE: 2–3 sentences reflecting how cultural bias might have affected the probability estimates.\n",
            "\n",
            "Constraints:\n",
            "- Avoid equal continent splits (e.g. 50/50). Show one as more likely.\n",
            "- Keep WHY COUNTRY and WHY LABEL tied to visible evidence (colors, symbols, technique, location clues etc).\n",
            "\n",
            "  ✔ prompt4: infer_img() full-res ok\n",
            " Saved results to /content/drive/MyDrive/RQ1_Experiments/results/InternVL3-8B/RQ1_InternVL3-8B_8B_country_L3_prompt4_r1.json\n",
            "\n",
            "------------------------------------------------------\n",
            "\n",
            "Processing 102/360: /content/drive/MyDrive/RQ1_Experiments/RQ1_Data_Batch1/Asia/Iran/Asia_Iran_photo_fa551b797d5939add82bda2ccb7f5601e17cd0bf_TOP.jpg\n",
            "\n",
            "  ➤ [prompt1] prompt:\n",
            "Assume the image is from Asia. Analyze it and answer two things:\n",
            "\n",
            "1) Which country is this most likely from? (choose from China, India, Iran, United Arab Emirates, Singapore, Israel, Timor-Leste, Maldives, Brunei)\n",
            "\n",
            "2) What is the most suitable label: political expression, vandalism, decoration, cultural identity, or advertisement?\n",
            "\n"
          ]
        },
        {
          "output_type": "stream",
          "name": "stderr",
          "text": [
            "Setting `pad_token_id` to `eos_token_id`:151645 for open-end generation.\n",
            "Setting `pad_token_id` to `eos_token_id`:151645 for open-end generation.\n"
          ]
        },
        {
          "output_type": "stream",
          "name": "stdout",
          "text": [
            "  ✔ prompt1: infer_img() full-res ok\n",
            " Saved results to /content/drive/MyDrive/RQ1_Experiments/results/InternVL3-8B/RQ1_InternVL3-8B_8B_country_L3_prompt1_r1.json\n",
            "\n",
            "  ➤ [prompt2] prompt:\n",
            "You are a cultural anthropologist viewing street visuals. Given that mural in image is located in Asia, give these four pieces of info:\n",
            "\n",
            "- COUNTRY (choose exactly one: China, India, Iran, United Arab Emirates, Singapore, Israel, Timor-Leste, Maldives, Brunei)\n",
            "- LABEL (choose exactly one: political expression / vandalism / decoration / cultural identity / advertisement)\n",
            "- CONFIDENCE (0–100%)\n",
            "- TOP CUE (2–3 sentences describing the key visual/cultural cue)\n",
            "\n",
            "Be concise and calibrate CONFIDENCE to how strongly the visual cues support your claims.\n",
            "\n"
          ]
        },
        {
          "output_type": "stream",
          "name": "stderr",
          "text": [
            "Setting `pad_token_id` to `eos_token_id`:151645 for open-end generation.\n"
          ]
        },
        {
          "output_type": "stream",
          "name": "stdout",
          "text": [
            "  ✔ prompt2: infer_img() full-res ok\n",
            " Saved results to /content/drive/MyDrive/RQ1_Experiments/results/InternVL3-8B/RQ1_InternVL3-8B_8B_country_L3_prompt2_r1.json\n",
            "\n",
            "  ➤ [prompt3] prompt:\n",
            "Moderate a brief debate among a Geographer, a Street Artist, and a Museum Curator about this image, assuming it originates from Asia. For each expert, give:\n",
            "\n",
            "- ROLE: <role name>\n",
            "- COUNTRY (choose exactly one: China, India, Iran, United Arab Emirates, Singapore, Israel, Timor-Leste, Maldives, Brunei)\n",
            "- LABEL (political expression / vandalism / decoration / cultural identity / advertisement)\n",
            "- SHORT_RATIONALE (one concise sentence)\n",
            "\n",
            "After the three positions, write a 2-paragraph moderator resolution:\n",
            "1) Compare the three rationales and state which COUNTRY and LABEL you choose and why (trade-offs).\n",
            "2) List 2 visual cues that were decisive and mention one alternative explanation you rejected.\n",
            "\n",
            "Finish with: COUNTRY and LABEL (each on its own line).\n",
            "\n"
          ]
        },
        {
          "output_type": "stream",
          "name": "stderr",
          "text": [
            "Setting `pad_token_id` to `eos_token_id`:151645 for open-end generation.\n"
          ]
        },
        {
          "output_type": "stream",
          "name": "stdout",
          "text": [
            "  ✔ prompt3: infer_img() full-res ok\n",
            " Saved results to /content/drive/MyDrive/RQ1_Experiments/results/InternVL3-8B/RQ1_InternVL3-8B_8B_country_L3_prompt3_r1.json\n",
            "\n",
            "  ➤ [prompt4] prompt:\n",
            "You are a cultural anthropologist & artist. Given that mural in image is located in Asia, provide:\n",
            "\n",
            "- COUNTRY: two most likely countries (choose from: China, India, Iran, United Arab Emirates, Singapore, Israel, Timor-Leste, Maldives, Brunei) with percentages (sum ≈100), e.g. \"\"Iceland: 70%, Russia: 30%\"\"\n",
            "- WHY COUNTRY: 2–3 sentences explaining how visual cues suggest the chosen countries .\n",
            "\n",
            "- LABEL: choose from (political expression, vandalism, decoration, cultural identity, advertisement) and also assign probabilities for all five labels (sum ≈100)\n",
            "- WHY LABEL: 2–3 sentences linking cues to chosen label.\n",
            "\n",
            "- TOP CUES: list three concrete cues that were decisive (1–6 words each)\n",
            "- BIAS NOTE: 2–3 sentences reflecting how cultural bias might have affected the probability estimates.\n",
            "\n",
            "Constraints:\n",
            "- Avoid equal continent splits (e.g. 50/50). Show one as more likely.\n",
            "- Keep WHY COUNTRY and WHY LABEL tied to visible evidence (colors, symbols, technique, location clues etc).\n",
            "\n",
            "  ✔ prompt4: infer_img() full-res ok\n",
            " Saved results to /content/drive/MyDrive/RQ1_Experiments/results/InternVL3-8B/RQ1_InternVL3-8B_8B_country_L3_prompt4_r1.json\n",
            "\n",
            "------------------------------------------------------\n",
            "\n",
            "Processing 103/360: /content/drive/MyDrive/RQ1_Experiments/RQ1_Data_Batch1/Asia/Israel/Asia_Israel_photo_18139d2e443cea10cee58f6be02e2380abc9d3ca_MIDDLE.jpg\n",
            "\n",
            "  ➤ [prompt1] prompt:\n",
            "Assume the image is from Asia. Analyze it and answer two things:\n",
            "\n",
            "1) Which country is this most likely from? (choose from China, India, Indonesia, United Arab Emirates, Singapore, Israel, Timor-Leste, Maldives, Brunei)\n",
            "\n",
            "2) What is the most suitable label: political expression, vandalism, decoration, cultural identity, or advertisement?\n",
            "\n"
          ]
        },
        {
          "output_type": "stream",
          "name": "stderr",
          "text": [
            "Setting `pad_token_id` to `eos_token_id`:151645 for open-end generation.\n",
            "Setting `pad_token_id` to `eos_token_id`:151645 for open-end generation.\n"
          ]
        },
        {
          "output_type": "stream",
          "name": "stdout",
          "text": [
            "  ✔ prompt1: infer_img() full-res ok\n",
            " Saved results to /content/drive/MyDrive/RQ1_Experiments/results/InternVL3-8B/RQ1_InternVL3-8B_8B_country_L3_prompt1_r1.json\n",
            "\n",
            "  ➤ [prompt2] prompt:\n",
            "You are a cultural anthropologist viewing street visuals. Given that mural in image is located in Asia, give these four pieces of info:\n",
            "\n",
            "- COUNTRY (choose exactly one: China, India, Indonesia, United Arab Emirates, Singapore, Israel, Timor-Leste, Maldives, Brunei)\n",
            "- LABEL (choose exactly one: political expression / vandalism / decoration / cultural identity / advertisement)\n",
            "- CONFIDENCE (0–100%)\n",
            "- TOP CUE (2–3 sentences describing the key visual/cultural cue)\n",
            "\n",
            "Be concise and calibrate CONFIDENCE to how strongly the visual cues support your claims.\n",
            "\n"
          ]
        },
        {
          "output_type": "stream",
          "name": "stderr",
          "text": [
            "Setting `pad_token_id` to `eos_token_id`:151645 for open-end generation.\n"
          ]
        },
        {
          "output_type": "stream",
          "name": "stdout",
          "text": [
            "  ✔ prompt2: infer_img() full-res ok\n",
            " Saved results to /content/drive/MyDrive/RQ1_Experiments/results/InternVL3-8B/RQ1_InternVL3-8B_8B_country_L3_prompt2_r1.json\n",
            "\n",
            "  ➤ [prompt3] prompt:\n",
            "Moderate a brief debate among a Geographer, a Street Artist, and a Museum Curator about this image, assuming it originates from Asia. For each expert, give:\n",
            "\n",
            "- ROLE: <role name>\n",
            "- COUNTRY (choose exactly one: China, India, Indonesia, United Arab Emirates, Singapore, Israel, Timor-Leste, Maldives, Brunei)\n",
            "- LABEL (political expression / vandalism / decoration / cultural identity / advertisement)\n",
            "- SHORT_RATIONALE (one concise sentence)\n",
            "\n",
            "After the three positions, write a 2-paragraph moderator resolution:\n",
            "1) Compare the three rationales and state which COUNTRY and LABEL you choose and why (trade-offs).\n",
            "2) List 2 visual cues that were decisive and mention one alternative explanation you rejected.\n",
            "\n",
            "Finish with: COUNTRY and LABEL (each on its own line).\n",
            "\n"
          ]
        },
        {
          "output_type": "stream",
          "name": "stderr",
          "text": [
            "Setting `pad_token_id` to `eos_token_id`:151645 for open-end generation.\n"
          ]
        },
        {
          "output_type": "stream",
          "name": "stdout",
          "text": [
            "  ✔ prompt3: infer_img() full-res ok\n",
            " Saved results to /content/drive/MyDrive/RQ1_Experiments/results/InternVL3-8B/RQ1_InternVL3-8B_8B_country_L3_prompt3_r1.json\n",
            "\n",
            "  ➤ [prompt4] prompt:\n",
            "You are a cultural anthropologist & artist. Given that mural in image is located in Asia, provide:\n",
            "\n",
            "- COUNTRY: two most likely countries (choose from: China, India, Indonesia, United Arab Emirates, Singapore, Israel, Timor-Leste, Maldives, Brunei) with percentages (sum ≈100), e.g. \"\"Iceland: 70%, Russia: 30%\"\"\n",
            "- WHY COUNTRY: 2–3 sentences explaining how visual cues suggest the chosen countries .\n",
            "\n",
            "- LABEL: choose from (political expression, vandalism, decoration, cultural identity, advertisement) and also assign probabilities for all five labels (sum ≈100)\n",
            "- WHY LABEL: 2–3 sentences linking cues to chosen label.\n",
            "\n",
            "- TOP CUES: list three concrete cues that were decisive (1–6 words each)\n",
            "- BIAS NOTE: 2–3 sentences reflecting how cultural bias might have affected the probability estimates.\n",
            "\n",
            "Constraints:\n",
            "- Avoid equal continent splits (e.g. 50/50). Show one as more likely.\n",
            "- Keep WHY COUNTRY and WHY LABEL tied to visible evidence (colors, symbols, technique, location clues etc).\n",
            "\n",
            "  ✔ prompt4: infer_img() full-res ok\n",
            " Saved results to /content/drive/MyDrive/RQ1_Experiments/results/InternVL3-8B/RQ1_InternVL3-8B_8B_country_L3_prompt4_r1.json\n",
            "\n",
            "------------------------------------------------------\n",
            "\n",
            "Processing 104/360: /content/drive/MyDrive/RQ1_Experiments/RQ1_Data_Batch1/Asia/Israel/Asia_Israel_photo_26c1047ed05ba2fb2ee72fb4fd40a87921473059_MIDDLE.jpg\n",
            "\n",
            "  ➤ [prompt1] prompt:\n",
            "Assume the image is from Asia. Analyze it and answer two things:\n",
            "\n",
            "1) Which country is this most likely from? (choose from China, India, Indonesia, United Arab Emirates, Singapore, Israel, Timor-Leste, Maldives, Brunei)\n",
            "\n",
            "2) What is the most suitable label: political expression, vandalism, decoration, cultural identity, or advertisement?\n",
            "\n"
          ]
        },
        {
          "output_type": "stream",
          "name": "stderr",
          "text": [
            "Setting `pad_token_id` to `eos_token_id`:151645 for open-end generation.\n",
            "Setting `pad_token_id` to `eos_token_id`:151645 for open-end generation.\n"
          ]
        },
        {
          "output_type": "stream",
          "name": "stdout",
          "text": [
            "  ✔ prompt1: infer_img() full-res ok\n",
            " Saved results to /content/drive/MyDrive/RQ1_Experiments/results/InternVL3-8B/RQ1_InternVL3-8B_8B_country_L3_prompt1_r1.json\n",
            "\n",
            "  ➤ [prompt2] prompt:\n",
            "You are a cultural anthropologist viewing street visuals. Given that mural in image is located in Asia, give these four pieces of info:\n",
            "\n",
            "- COUNTRY (choose exactly one: China, India, Indonesia, United Arab Emirates, Singapore, Israel, Timor-Leste, Maldives, Brunei)\n",
            "- LABEL (choose exactly one: political expression / vandalism / decoration / cultural identity / advertisement)\n",
            "- CONFIDENCE (0–100%)\n",
            "- TOP CUE (2–3 sentences describing the key visual/cultural cue)\n",
            "\n",
            "Be concise and calibrate CONFIDENCE to how strongly the visual cues support your claims.\n",
            "\n"
          ]
        },
        {
          "output_type": "stream",
          "name": "stderr",
          "text": [
            "Setting `pad_token_id` to `eos_token_id`:151645 for open-end generation.\n"
          ]
        },
        {
          "output_type": "stream",
          "name": "stdout",
          "text": [
            "  ✔ prompt2: infer_img() full-res ok\n",
            " Saved results to /content/drive/MyDrive/RQ1_Experiments/results/InternVL3-8B/RQ1_InternVL3-8B_8B_country_L3_prompt2_r1.json\n",
            "\n",
            "  ➤ [prompt3] prompt:\n",
            "Moderate a brief debate among a Geographer, a Street Artist, and a Museum Curator about this image, assuming it originates from Asia. For each expert, give:\n",
            "\n",
            "- ROLE: <role name>\n",
            "- COUNTRY (choose exactly one: China, India, Indonesia, United Arab Emirates, Singapore, Israel, Timor-Leste, Maldives, Brunei)\n",
            "- LABEL (political expression / vandalism / decoration / cultural identity / advertisement)\n",
            "- SHORT_RATIONALE (one concise sentence)\n",
            "\n",
            "After the three positions, write a 2-paragraph moderator resolution:\n",
            "1) Compare the three rationales and state which COUNTRY and LABEL you choose and why (trade-offs).\n",
            "2) List 2 visual cues that were decisive and mention one alternative explanation you rejected.\n",
            "\n",
            "Finish with: COUNTRY and LABEL (each on its own line).\n",
            "\n"
          ]
        },
        {
          "output_type": "stream",
          "name": "stderr",
          "text": [
            "Setting `pad_token_id` to `eos_token_id`:151645 for open-end generation.\n"
          ]
        },
        {
          "output_type": "stream",
          "name": "stdout",
          "text": [
            "  ✔ prompt3: infer_img() full-res ok\n",
            " Saved results to /content/drive/MyDrive/RQ1_Experiments/results/InternVL3-8B/RQ1_InternVL3-8B_8B_country_L3_prompt3_r1.json\n",
            "\n",
            "  ➤ [prompt4] prompt:\n",
            "You are a cultural anthropologist & artist. Given that mural in image is located in Asia, provide:\n",
            "\n",
            "- COUNTRY: two most likely countries (choose from: China, India, Indonesia, United Arab Emirates, Singapore, Israel, Timor-Leste, Maldives, Brunei) with percentages (sum ≈100), e.g. \"\"Iceland: 70%, Russia: 30%\"\"\n",
            "- WHY COUNTRY: 2–3 sentences explaining how visual cues suggest the chosen countries .\n",
            "\n",
            "- LABEL: choose from (political expression, vandalism, decoration, cultural identity, advertisement) and also assign probabilities for all five labels (sum ≈100)\n",
            "- WHY LABEL: 2–3 sentences linking cues to chosen label.\n",
            "\n",
            "- TOP CUES: list three concrete cues that were decisive (1–6 words each)\n",
            "- BIAS NOTE: 2–3 sentences reflecting how cultural bias might have affected the probability estimates.\n",
            "\n",
            "Constraints:\n",
            "- Avoid equal continent splits (e.g. 50/50). Show one as more likely.\n",
            "- Keep WHY COUNTRY and WHY LABEL tied to visible evidence (colors, symbols, technique, location clues etc).\n",
            "\n",
            "  ✔ prompt4: infer_img() full-res ok\n",
            " Saved results to /content/drive/MyDrive/RQ1_Experiments/results/InternVL3-8B/RQ1_InternVL3-8B_8B_country_L3_prompt4_r1.json\n",
            "\n",
            "------------------------------------------------------\n",
            "\n",
            "Processing 105/360: /content/drive/MyDrive/RQ1_Experiments/RQ1_Data_Batch1/Asia/Japan/Asia_Japan_photo_06a54f45f3d279e2aca65938c0986eab4e1103c5_TOP.jpg\n",
            "\n",
            "  ➤ [prompt1] prompt:\n",
            "Assume the image is from Asia. Analyze it and answer two things:\n",
            "\n",
            "1) Which country is this most likely from? (choose from China, India, Japan, United Arab Emirates, Singapore, Israel, Timor-Leste, Maldives, Brunei)\n",
            "\n",
            "2) What is the most suitable label: political expression, vandalism, decoration, cultural identity, or advertisement?\n",
            "\n"
          ]
        },
        {
          "output_type": "stream",
          "name": "stderr",
          "text": [
            "Setting `pad_token_id` to `eos_token_id`:151645 for open-end generation.\n",
            "Setting `pad_token_id` to `eos_token_id`:151645 for open-end generation.\n"
          ]
        },
        {
          "output_type": "stream",
          "name": "stdout",
          "text": [
            "  ✔ prompt1: infer_img() full-res ok\n",
            " Saved results to /content/drive/MyDrive/RQ1_Experiments/results/InternVL3-8B/RQ1_InternVL3-8B_8B_country_L3_prompt1_r1.json\n",
            "\n",
            "  ➤ [prompt2] prompt:\n",
            "You are a cultural anthropologist viewing street visuals. Given that mural in image is located in Asia, give these four pieces of info:\n",
            "\n",
            "- COUNTRY (choose exactly one: China, India, Japan, United Arab Emirates, Singapore, Israel, Timor-Leste, Maldives, Brunei)\n",
            "- LABEL (choose exactly one: political expression / vandalism / decoration / cultural identity / advertisement)\n",
            "- CONFIDENCE (0–100%)\n",
            "- TOP CUE (2–3 sentences describing the key visual/cultural cue)\n",
            "\n",
            "Be concise and calibrate CONFIDENCE to how strongly the visual cues support your claims.\n",
            "\n"
          ]
        },
        {
          "output_type": "stream",
          "name": "stderr",
          "text": [
            "Setting `pad_token_id` to `eos_token_id`:151645 for open-end generation.\n"
          ]
        },
        {
          "output_type": "stream",
          "name": "stdout",
          "text": [
            "  ✔ prompt2: infer_img() full-res ok\n",
            " Saved results to /content/drive/MyDrive/RQ1_Experiments/results/InternVL3-8B/RQ1_InternVL3-8B_8B_country_L3_prompt2_r1.json\n",
            "\n",
            "  ➤ [prompt3] prompt:\n",
            "Moderate a brief debate among a Geographer, a Street Artist, and a Museum Curator about this image, assuming it originates from Asia. For each expert, give:\n",
            "\n",
            "- ROLE: <role name>\n",
            "- COUNTRY (choose exactly one: China, India, Japan, United Arab Emirates, Singapore, Israel, Timor-Leste, Maldives, Brunei)\n",
            "- LABEL (political expression / vandalism / decoration / cultural identity / advertisement)\n",
            "- SHORT_RATIONALE (one concise sentence)\n",
            "\n",
            "After the three positions, write a 2-paragraph moderator resolution:\n",
            "1) Compare the three rationales and state which COUNTRY and LABEL you choose and why (trade-offs).\n",
            "2) List 2 visual cues that were decisive and mention one alternative explanation you rejected.\n",
            "\n",
            "Finish with: COUNTRY and LABEL (each on its own line).\n",
            "\n"
          ]
        },
        {
          "output_type": "stream",
          "name": "stderr",
          "text": [
            "Setting `pad_token_id` to `eos_token_id`:151645 for open-end generation.\n"
          ]
        },
        {
          "output_type": "stream",
          "name": "stdout",
          "text": [
            "  ✔ prompt3: infer_img() full-res ok\n",
            " Saved results to /content/drive/MyDrive/RQ1_Experiments/results/InternVL3-8B/RQ1_InternVL3-8B_8B_country_L3_prompt3_r1.json\n",
            "\n",
            "  ➤ [prompt4] prompt:\n",
            "You are a cultural anthropologist & artist. Given that mural in image is located in Asia, provide:\n",
            "\n",
            "- COUNTRY: two most likely countries (choose from: China, India, Japan, United Arab Emirates, Singapore, Israel, Timor-Leste, Maldives, Brunei) with percentages (sum ≈100), e.g. \"\"Iceland: 70%, Russia: 30%\"\"\n",
            "- WHY COUNTRY: 2–3 sentences explaining how visual cues suggest the chosen countries .\n",
            "\n",
            "- LABEL: choose from (political expression, vandalism, decoration, cultural identity, advertisement) and also assign probabilities for all five labels (sum ≈100)\n",
            "- WHY LABEL: 2–3 sentences linking cues to chosen label.\n",
            "\n",
            "- TOP CUES: list three concrete cues that were decisive (1–6 words each)\n",
            "- BIAS NOTE: 2–3 sentences reflecting how cultural bias might have affected the probability estimates.\n",
            "\n",
            "Constraints:\n",
            "- Avoid equal continent splits (e.g. 50/50). Show one as more likely.\n",
            "- Keep WHY COUNTRY and WHY LABEL tied to visible evidence (colors, symbols, technique, location clues etc).\n",
            "\n",
            "  ✔ prompt4: infer_img() full-res ok\n",
            " Saved results to /content/drive/MyDrive/RQ1_Experiments/results/InternVL3-8B/RQ1_InternVL3-8B_8B_country_L3_prompt4_r1.json\n",
            "\n",
            "------------------------------------------------------\n",
            "\n",
            "Processing 106/360: /content/drive/MyDrive/RQ1_Experiments/RQ1_Data_Batch1/Asia/Japan/Asia_Japan_photo_67992d2e41e5b767898c4a95053b4e08e882b60e_TOP.jpg\n",
            "\n",
            "  ➤ [prompt1] prompt:\n",
            "Assume the image is from Asia. Analyze it and answer two things:\n",
            "\n",
            "1) Which country is this most likely from? (choose from China, India, Japan, United Arab Emirates, Singapore, Israel, Timor-Leste, Maldives, Brunei)\n",
            "\n",
            "2) What is the most suitable label: political expression, vandalism, decoration, cultural identity, or advertisement?\n",
            "\n"
          ]
        },
        {
          "output_type": "stream",
          "name": "stderr",
          "text": [
            "Setting `pad_token_id` to `eos_token_id`:151645 for open-end generation.\n",
            "Setting `pad_token_id` to `eos_token_id`:151645 for open-end generation.\n"
          ]
        },
        {
          "output_type": "stream",
          "name": "stdout",
          "text": [
            "  ✔ prompt1: infer_img() full-res ok\n",
            " Saved results to /content/drive/MyDrive/RQ1_Experiments/results/InternVL3-8B/RQ1_InternVL3-8B_8B_country_L3_prompt1_r1.json\n",
            "\n",
            "  ➤ [prompt2] prompt:\n",
            "You are a cultural anthropologist viewing street visuals. Given that mural in image is located in Asia, give these four pieces of info:\n",
            "\n",
            "- COUNTRY (choose exactly one: China, India, Japan, United Arab Emirates, Singapore, Israel, Timor-Leste, Maldives, Brunei)\n",
            "- LABEL (choose exactly one: political expression / vandalism / decoration / cultural identity / advertisement)\n",
            "- CONFIDENCE (0–100%)\n",
            "- TOP CUE (2–3 sentences describing the key visual/cultural cue)\n",
            "\n",
            "Be concise and calibrate CONFIDENCE to how strongly the visual cues support your claims.\n",
            "\n"
          ]
        },
        {
          "output_type": "stream",
          "name": "stderr",
          "text": [
            "Setting `pad_token_id` to `eos_token_id`:151645 for open-end generation.\n"
          ]
        },
        {
          "output_type": "stream",
          "name": "stdout",
          "text": [
            "  ✔ prompt2: infer_img() full-res ok\n",
            " Saved results to /content/drive/MyDrive/RQ1_Experiments/results/InternVL3-8B/RQ1_InternVL3-8B_8B_country_L3_prompt2_r1.json\n",
            "\n",
            "  ➤ [prompt3] prompt:\n",
            "Moderate a brief debate among a Geographer, a Street Artist, and a Museum Curator about this image, assuming it originates from Asia. For each expert, give:\n",
            "\n",
            "- ROLE: <role name>\n",
            "- COUNTRY (choose exactly one: China, India, Japan, United Arab Emirates, Singapore, Israel, Timor-Leste, Maldives, Brunei)\n",
            "- LABEL (political expression / vandalism / decoration / cultural identity / advertisement)\n",
            "- SHORT_RATIONALE (one concise sentence)\n",
            "\n",
            "After the three positions, write a 2-paragraph moderator resolution:\n",
            "1) Compare the three rationales and state which COUNTRY and LABEL you choose and why (trade-offs).\n",
            "2) List 2 visual cues that were decisive and mention one alternative explanation you rejected.\n",
            "\n",
            "Finish with: COUNTRY and LABEL (each on its own line).\n",
            "\n"
          ]
        },
        {
          "output_type": "stream",
          "name": "stderr",
          "text": [
            "Setting `pad_token_id` to `eos_token_id`:151645 for open-end generation.\n"
          ]
        },
        {
          "output_type": "stream",
          "name": "stdout",
          "text": [
            "  ✔ prompt3: infer_img() full-res ok\n",
            " Saved results to /content/drive/MyDrive/RQ1_Experiments/results/InternVL3-8B/RQ1_InternVL3-8B_8B_country_L3_prompt3_r1.json\n",
            "\n",
            "  ➤ [prompt4] prompt:\n",
            "You are a cultural anthropologist & artist. Given that mural in image is located in Asia, provide:\n",
            "\n",
            "- COUNTRY: two most likely countries (choose from: China, India, Japan, United Arab Emirates, Singapore, Israel, Timor-Leste, Maldives, Brunei) with percentages (sum ≈100), e.g. \"\"Iceland: 70%, Russia: 30%\"\"\n",
            "- WHY COUNTRY: 2–3 sentences explaining how visual cues suggest the chosen countries .\n",
            "\n",
            "- LABEL: choose from (political expression, vandalism, decoration, cultural identity, advertisement) and also assign probabilities for all five labels (sum ≈100)\n",
            "- WHY LABEL: 2–3 sentences linking cues to chosen label.\n",
            "\n",
            "- TOP CUES: list three concrete cues that were decisive (1–6 words each)\n",
            "- BIAS NOTE: 2–3 sentences reflecting how cultural bias might have affected the probability estimates.\n",
            "\n",
            "Constraints:\n",
            "- Avoid equal continent splits (e.g. 50/50). Show one as more likely.\n",
            "- Keep WHY COUNTRY and WHY LABEL tied to visible evidence (colors, symbols, technique, location clues etc).\n",
            "\n",
            "  ✔ prompt4: infer_img() full-res ok\n",
            " Saved results to /content/drive/MyDrive/RQ1_Experiments/results/InternVL3-8B/RQ1_InternVL3-8B_8B_country_L3_prompt4_r1.json\n",
            "\n",
            "------------------------------------------------------\n",
            "\n",
            "Processing 107/360: /content/drive/MyDrive/RQ1_Experiments/RQ1_Data_Batch1/Asia/Jordan/Asia_Jordan_J1_MIDDLE.jpeg\n",
            "\n",
            "  ➤ [prompt1] prompt:\n",
            "Assume the image is from Asia. Analyze it and answer two things:\n",
            "\n",
            "1) Which country is this most likely from? (choose from China, India, Indonesia, United Arab Emirates, Singapore, Jordan, Timor-Leste, Maldives, Brunei)\n",
            "\n",
            "2) What is the most suitable label: political expression, vandalism, decoration, cultural identity, or advertisement?\n",
            "\n"
          ]
        },
        {
          "output_type": "stream",
          "name": "stderr",
          "text": [
            "Setting `pad_token_id` to `eos_token_id`:151645 for open-end generation.\n",
            "Setting `pad_token_id` to `eos_token_id`:151645 for open-end generation.\n"
          ]
        },
        {
          "output_type": "stream",
          "name": "stdout",
          "text": [
            "  ✔ prompt1: infer_img() full-res ok\n",
            " Saved results to /content/drive/MyDrive/RQ1_Experiments/results/InternVL3-8B/RQ1_InternVL3-8B_8B_country_L3_prompt1_r1.json\n",
            "\n",
            "  ➤ [prompt2] prompt:\n",
            "You are a cultural anthropologist viewing street visuals. Given that mural in image is located in Asia, give these four pieces of info:\n",
            "\n",
            "- COUNTRY (choose exactly one: China, India, Indonesia, United Arab Emirates, Singapore, Jordan, Timor-Leste, Maldives, Brunei)\n",
            "- LABEL (choose exactly one: political expression / vandalism / decoration / cultural identity / advertisement)\n",
            "- CONFIDENCE (0–100%)\n",
            "- TOP CUE (2–3 sentences describing the key visual/cultural cue)\n",
            "\n",
            "Be concise and calibrate CONFIDENCE to how strongly the visual cues support your claims.\n",
            "\n"
          ]
        },
        {
          "output_type": "stream",
          "name": "stderr",
          "text": [
            "Setting `pad_token_id` to `eos_token_id`:151645 for open-end generation.\n"
          ]
        },
        {
          "output_type": "stream",
          "name": "stdout",
          "text": [
            "  ✔ prompt2: infer_img() full-res ok\n",
            " Saved results to /content/drive/MyDrive/RQ1_Experiments/results/InternVL3-8B/RQ1_InternVL3-8B_8B_country_L3_prompt2_r1.json\n",
            "\n",
            "  ➤ [prompt3] prompt:\n",
            "Moderate a brief debate among a Geographer, a Street Artist, and a Museum Curator about this image, assuming it originates from Asia. For each expert, give:\n",
            "\n",
            "- ROLE: <role name>\n",
            "- COUNTRY (choose exactly one: China, India, Indonesia, United Arab Emirates, Singapore, Jordan, Timor-Leste, Maldives, Brunei)\n",
            "- LABEL (political expression / vandalism / decoration / cultural identity / advertisement)\n",
            "- SHORT_RATIONALE (one concise sentence)\n",
            "\n",
            "After the three positions, write a 2-paragraph moderator resolution:\n",
            "1) Compare the three rationales and state which COUNTRY and LABEL you choose and why (trade-offs).\n",
            "2) List 2 visual cues that were decisive and mention one alternative explanation you rejected.\n",
            "\n",
            "Finish with: COUNTRY and LABEL (each on its own line).\n",
            "\n"
          ]
        },
        {
          "output_type": "stream",
          "name": "stderr",
          "text": [
            "Setting `pad_token_id` to `eos_token_id`:151645 for open-end generation.\n"
          ]
        },
        {
          "output_type": "stream",
          "name": "stdout",
          "text": [
            "  ✔ prompt3: infer_img() full-res ok\n",
            " Saved results to /content/drive/MyDrive/RQ1_Experiments/results/InternVL3-8B/RQ1_InternVL3-8B_8B_country_L3_prompt3_r1.json\n",
            "\n",
            "  ➤ [prompt4] prompt:\n",
            "You are a cultural anthropologist & artist. Given that mural in image is located in Asia, provide:\n",
            "\n",
            "- COUNTRY: two most likely countries (choose from: China, India, Indonesia, United Arab Emirates, Singapore, Jordan, Timor-Leste, Maldives, Brunei) with percentages (sum ≈100), e.g. \"\"Iceland: 70%, Russia: 30%\"\"\n",
            "- WHY COUNTRY: 2–3 sentences explaining how visual cues suggest the chosen countries .\n",
            "\n",
            "- LABEL: choose from (political expression, vandalism, decoration, cultural identity, advertisement) and also assign probabilities for all five labels (sum ≈100)\n",
            "- WHY LABEL: 2–3 sentences linking cues to chosen label.\n",
            "\n",
            "- TOP CUES: list three concrete cues that were decisive (1–6 words each)\n",
            "- BIAS NOTE: 2–3 sentences reflecting how cultural bias might have affected the probability estimates.\n",
            "\n",
            "Constraints:\n",
            "- Avoid equal continent splits (e.g. 50/50). Show one as more likely.\n",
            "- Keep WHY COUNTRY and WHY LABEL tied to visible evidence (colors, symbols, technique, location clues etc).\n",
            "\n",
            "  ✔ prompt4: infer_img() full-res ok\n",
            " Saved results to /content/drive/MyDrive/RQ1_Experiments/results/InternVL3-8B/RQ1_InternVL3-8B_8B_country_L3_prompt4_r1.json\n",
            "\n",
            "------------------------------------------------------\n",
            "\n",
            "Processing 108/360: /content/drive/MyDrive/RQ1_Experiments/RQ1_Data_Batch1/Asia/Jordan/Asia_Jordan_J2_MIDDLE.jpeg\n",
            "\n",
            "  ➤ [prompt1] prompt:\n",
            "Assume the image is from Asia. Analyze it and answer two things:\n",
            "\n",
            "1) Which country is this most likely from? (choose from China, India, Indonesia, United Arab Emirates, Singapore, Jordan, Timor-Leste, Maldives, Brunei)\n",
            "\n",
            "2) What is the most suitable label: political expression, vandalism, decoration, cultural identity, or advertisement?\n",
            "\n"
          ]
        },
        {
          "output_type": "stream",
          "name": "stderr",
          "text": [
            "Setting `pad_token_id` to `eos_token_id`:151645 for open-end generation.\n",
            "Setting `pad_token_id` to `eos_token_id`:151645 for open-end generation.\n"
          ]
        },
        {
          "output_type": "stream",
          "name": "stdout",
          "text": [
            "  ✔ prompt1: infer_img() full-res ok\n",
            " Saved results to /content/drive/MyDrive/RQ1_Experiments/results/InternVL3-8B/RQ1_InternVL3-8B_8B_country_L3_prompt1_r1.json\n",
            "\n",
            "  ➤ [prompt2] prompt:\n",
            "You are a cultural anthropologist viewing street visuals. Given that mural in image is located in Asia, give these four pieces of info:\n",
            "\n",
            "- COUNTRY (choose exactly one: China, India, Indonesia, United Arab Emirates, Singapore, Jordan, Timor-Leste, Maldives, Brunei)\n",
            "- LABEL (choose exactly one: political expression / vandalism / decoration / cultural identity / advertisement)\n",
            "- CONFIDENCE (0–100%)\n",
            "- TOP CUE (2–3 sentences describing the key visual/cultural cue)\n",
            "\n",
            "Be concise and calibrate CONFIDENCE to how strongly the visual cues support your claims.\n",
            "\n"
          ]
        },
        {
          "output_type": "stream",
          "name": "stderr",
          "text": [
            "Setting `pad_token_id` to `eos_token_id`:151645 for open-end generation.\n"
          ]
        },
        {
          "output_type": "stream",
          "name": "stdout",
          "text": [
            "  ✔ prompt2: infer_img() full-res ok\n",
            " Saved results to /content/drive/MyDrive/RQ1_Experiments/results/InternVL3-8B/RQ1_InternVL3-8B_8B_country_L3_prompt2_r1.json\n",
            "\n",
            "  ➤ [prompt3] prompt:\n",
            "Moderate a brief debate among a Geographer, a Street Artist, and a Museum Curator about this image, assuming it originates from Asia. For each expert, give:\n",
            "\n",
            "- ROLE: <role name>\n",
            "- COUNTRY (choose exactly one: China, India, Indonesia, United Arab Emirates, Singapore, Jordan, Timor-Leste, Maldives, Brunei)\n",
            "- LABEL (political expression / vandalism / decoration / cultural identity / advertisement)\n",
            "- SHORT_RATIONALE (one concise sentence)\n",
            "\n",
            "After the three positions, write a 2-paragraph moderator resolution:\n",
            "1) Compare the three rationales and state which COUNTRY and LABEL you choose and why (trade-offs).\n",
            "2) List 2 visual cues that were decisive and mention one alternative explanation you rejected.\n",
            "\n",
            "Finish with: COUNTRY and LABEL (each on its own line).\n",
            "\n"
          ]
        },
        {
          "output_type": "stream",
          "name": "stderr",
          "text": [
            "Setting `pad_token_id` to `eos_token_id`:151645 for open-end generation.\n"
          ]
        },
        {
          "output_type": "stream",
          "name": "stdout",
          "text": [
            "  ✔ prompt3: infer_img() full-res ok\n",
            " Saved results to /content/drive/MyDrive/RQ1_Experiments/results/InternVL3-8B/RQ1_InternVL3-8B_8B_country_L3_prompt3_r1.json\n",
            "\n",
            "  ➤ [prompt4] prompt:\n",
            "You are a cultural anthropologist & artist. Given that mural in image is located in Asia, provide:\n",
            "\n",
            "- COUNTRY: two most likely countries (choose from: China, India, Indonesia, United Arab Emirates, Singapore, Jordan, Timor-Leste, Maldives, Brunei) with percentages (sum ≈100), e.g. \"\"Iceland: 70%, Russia: 30%\"\"\n",
            "- WHY COUNTRY: 2–3 sentences explaining how visual cues suggest the chosen countries .\n",
            "\n",
            "- LABEL: choose from (political expression, vandalism, decoration, cultural identity, advertisement) and also assign probabilities for all five labels (sum ≈100)\n",
            "- WHY LABEL: 2–3 sentences linking cues to chosen label.\n",
            "\n",
            "- TOP CUES: list three concrete cues that were decisive (1–6 words each)\n",
            "- BIAS NOTE: 2–3 sentences reflecting how cultural bias might have affected the probability estimates.\n",
            "\n",
            "Constraints:\n",
            "- Avoid equal continent splits (e.g. 50/50). Show one as more likely.\n",
            "- Keep WHY COUNTRY and WHY LABEL tied to visible evidence (colors, symbols, technique, location clues etc).\n",
            "\n",
            "  ✔ prompt4: infer_img() full-res ok\n",
            " Saved results to /content/drive/MyDrive/RQ1_Experiments/results/InternVL3-8B/RQ1_InternVL3-8B_8B_country_L3_prompt4_r1.json\n",
            "\n",
            "------------------------------------------------------\n",
            "\n",
            "Processing 109/360: /content/drive/MyDrive/RQ1_Experiments/RQ1_Data_Batch1/Asia/Jordan/Asia_Jordan_J3_MIDDLE.jpeg\n",
            "\n",
            "  ➤ [prompt1] prompt:\n",
            "Assume the image is from Asia. Analyze it and answer two things:\n",
            "\n",
            "1) Which country is this most likely from? (choose from China, India, Indonesia, United Arab Emirates, Singapore, Jordan, Timor-Leste, Maldives, Brunei)\n",
            "\n",
            "2) What is the most suitable label: political expression, vandalism, decoration, cultural identity, or advertisement?\n",
            "\n"
          ]
        },
        {
          "output_type": "stream",
          "name": "stderr",
          "text": [
            "Setting `pad_token_id` to `eos_token_id`:151645 for open-end generation.\n",
            "Setting `pad_token_id` to `eos_token_id`:151645 for open-end generation.\n"
          ]
        },
        {
          "output_type": "stream",
          "name": "stdout",
          "text": [
            "  ✔ prompt1: infer_img() full-res ok\n",
            " Saved results to /content/drive/MyDrive/RQ1_Experiments/results/InternVL3-8B/RQ1_InternVL3-8B_8B_country_L3_prompt1_r1.json\n",
            "\n",
            "  ➤ [prompt2] prompt:\n",
            "You are a cultural anthropologist viewing street visuals. Given that mural in image is located in Asia, give these four pieces of info:\n",
            "\n",
            "- COUNTRY (choose exactly one: China, India, Indonesia, United Arab Emirates, Singapore, Jordan, Timor-Leste, Maldives, Brunei)\n",
            "- LABEL (choose exactly one: political expression / vandalism / decoration / cultural identity / advertisement)\n",
            "- CONFIDENCE (0–100%)\n",
            "- TOP CUE (2–3 sentences describing the key visual/cultural cue)\n",
            "\n",
            "Be concise and calibrate CONFIDENCE to how strongly the visual cues support your claims.\n",
            "\n"
          ]
        },
        {
          "output_type": "stream",
          "name": "stderr",
          "text": [
            "Setting `pad_token_id` to `eos_token_id`:151645 for open-end generation.\n"
          ]
        },
        {
          "output_type": "stream",
          "name": "stdout",
          "text": [
            "  ✔ prompt2: infer_img() full-res ok\n",
            " Saved results to /content/drive/MyDrive/RQ1_Experiments/results/InternVL3-8B/RQ1_InternVL3-8B_8B_country_L3_prompt2_r1.json\n",
            "\n",
            "  ➤ [prompt3] prompt:\n",
            "Moderate a brief debate among a Geographer, a Street Artist, and a Museum Curator about this image, assuming it originates from Asia. For each expert, give:\n",
            "\n",
            "- ROLE: <role name>\n",
            "- COUNTRY (choose exactly one: China, India, Indonesia, United Arab Emirates, Singapore, Jordan, Timor-Leste, Maldives, Brunei)\n",
            "- LABEL (political expression / vandalism / decoration / cultural identity / advertisement)\n",
            "- SHORT_RATIONALE (one concise sentence)\n",
            "\n",
            "After the three positions, write a 2-paragraph moderator resolution:\n",
            "1) Compare the three rationales and state which COUNTRY and LABEL you choose and why (trade-offs).\n",
            "2) List 2 visual cues that were decisive and mention one alternative explanation you rejected.\n",
            "\n",
            "Finish with: COUNTRY and LABEL (each on its own line).\n",
            "\n"
          ]
        },
        {
          "output_type": "stream",
          "name": "stderr",
          "text": [
            "Setting `pad_token_id` to `eos_token_id`:151645 for open-end generation.\n"
          ]
        },
        {
          "output_type": "stream",
          "name": "stdout",
          "text": [
            "  ✔ prompt3: infer_img() full-res ok\n",
            " Saved results to /content/drive/MyDrive/RQ1_Experiments/results/InternVL3-8B/RQ1_InternVL3-8B_8B_country_L3_prompt3_r1.json\n",
            "\n",
            "  ➤ [prompt4] prompt:\n",
            "You are a cultural anthropologist & artist. Given that mural in image is located in Asia, provide:\n",
            "\n",
            "- COUNTRY: two most likely countries (choose from: China, India, Indonesia, United Arab Emirates, Singapore, Jordan, Timor-Leste, Maldives, Brunei) with percentages (sum ≈100), e.g. \"\"Iceland: 70%, Russia: 30%\"\"\n",
            "- WHY COUNTRY: 2–3 sentences explaining how visual cues suggest the chosen countries .\n",
            "\n",
            "- LABEL: choose from (political expression, vandalism, decoration, cultural identity, advertisement) and also assign probabilities for all five labels (sum ≈100)\n",
            "- WHY LABEL: 2–3 sentences linking cues to chosen label.\n",
            "\n",
            "- TOP CUES: list three concrete cues that were decisive (1–6 words each)\n",
            "- BIAS NOTE: 2–3 sentences reflecting how cultural bias might have affected the probability estimates.\n",
            "\n",
            "Constraints:\n",
            "- Avoid equal continent splits (e.g. 50/50). Show one as more likely.\n",
            "- Keep WHY COUNTRY and WHY LABEL tied to visible evidence (colors, symbols, technique, location clues etc).\n",
            "\n",
            "  ✔ prompt4: infer_img() full-res ok\n",
            " Saved results to /content/drive/MyDrive/RQ1_Experiments/results/InternVL3-8B/RQ1_InternVL3-8B_8B_country_L3_prompt4_r1.json\n",
            "\n",
            "------------------------------------------------------\n",
            "\n",
            "Processing 110/360: /content/drive/MyDrive/RQ1_Experiments/RQ1_Data_Batch1/Asia/Jordan/Asia_Jordan_J4_MIDDLE.jpg\n",
            "\n",
            "  ➤ [prompt1] prompt:\n",
            "Assume the image is from Asia. Analyze it and answer two things:\n",
            "\n",
            "1) Which country is this most likely from? (choose from China, India, Indonesia, United Arab Emirates, Singapore, Jordan, Timor-Leste, Maldives, Brunei)\n",
            "\n",
            "2) What is the most suitable label: political expression, vandalism, decoration, cultural identity, or advertisement?\n",
            "\n"
          ]
        },
        {
          "output_type": "stream",
          "name": "stderr",
          "text": [
            "Setting `pad_token_id` to `eos_token_id`:151645 for open-end generation.\n",
            "Setting `pad_token_id` to `eos_token_id`:151645 for open-end generation.\n"
          ]
        },
        {
          "output_type": "stream",
          "name": "stdout",
          "text": [
            "  ✔ prompt1: infer_img() full-res ok\n",
            " Saved results to /content/drive/MyDrive/RQ1_Experiments/results/InternVL3-8B/RQ1_InternVL3-8B_8B_country_L3_prompt1_r1.json\n",
            "\n",
            "  ➤ [prompt2] prompt:\n",
            "You are a cultural anthropologist viewing street visuals. Given that mural in image is located in Asia, give these four pieces of info:\n",
            "\n",
            "- COUNTRY (choose exactly one: China, India, Indonesia, United Arab Emirates, Singapore, Jordan, Timor-Leste, Maldives, Brunei)\n",
            "- LABEL (choose exactly one: political expression / vandalism / decoration / cultural identity / advertisement)\n",
            "- CONFIDENCE (0–100%)\n",
            "- TOP CUE (2–3 sentences describing the key visual/cultural cue)\n",
            "\n",
            "Be concise and calibrate CONFIDENCE to how strongly the visual cues support your claims.\n",
            "\n"
          ]
        },
        {
          "output_type": "stream",
          "name": "stderr",
          "text": [
            "Setting `pad_token_id` to `eos_token_id`:151645 for open-end generation.\n"
          ]
        },
        {
          "output_type": "stream",
          "name": "stdout",
          "text": [
            "  ✔ prompt2: infer_img() full-res ok\n",
            " Saved results to /content/drive/MyDrive/RQ1_Experiments/results/InternVL3-8B/RQ1_InternVL3-8B_8B_country_L3_prompt2_r1.json\n",
            "\n",
            "  ➤ [prompt3] prompt:\n",
            "Moderate a brief debate among a Geographer, a Street Artist, and a Museum Curator about this image, assuming it originates from Asia. For each expert, give:\n",
            "\n",
            "- ROLE: <role name>\n",
            "- COUNTRY (choose exactly one: China, India, Indonesia, United Arab Emirates, Singapore, Jordan, Timor-Leste, Maldives, Brunei)\n",
            "- LABEL (political expression / vandalism / decoration / cultural identity / advertisement)\n",
            "- SHORT_RATIONALE (one concise sentence)\n",
            "\n",
            "After the three positions, write a 2-paragraph moderator resolution:\n",
            "1) Compare the three rationales and state which COUNTRY and LABEL you choose and why (trade-offs).\n",
            "2) List 2 visual cues that were decisive and mention one alternative explanation you rejected.\n",
            "\n",
            "Finish with: COUNTRY and LABEL (each on its own line).\n",
            "\n"
          ]
        },
        {
          "output_type": "stream",
          "name": "stderr",
          "text": [
            "Setting `pad_token_id` to `eos_token_id`:151645 for open-end generation.\n"
          ]
        },
        {
          "output_type": "stream",
          "name": "stdout",
          "text": [
            "  ✔ prompt3: infer_img() full-res ok\n",
            " Saved results to /content/drive/MyDrive/RQ1_Experiments/results/InternVL3-8B/RQ1_InternVL3-8B_8B_country_L3_prompt3_r1.json\n",
            "\n",
            "  ➤ [prompt4] prompt:\n",
            "You are a cultural anthropologist & artist. Given that mural in image is located in Asia, provide:\n",
            "\n",
            "- COUNTRY: two most likely countries (choose from: China, India, Indonesia, United Arab Emirates, Singapore, Jordan, Timor-Leste, Maldives, Brunei) with percentages (sum ≈100), e.g. \"\"Iceland: 70%, Russia: 30%\"\"\n",
            "- WHY COUNTRY: 2–3 sentences explaining how visual cues suggest the chosen countries .\n",
            "\n",
            "- LABEL: choose from (political expression, vandalism, decoration, cultural identity, advertisement) and also assign probabilities for all five labels (sum ≈100)\n",
            "- WHY LABEL: 2–3 sentences linking cues to chosen label.\n",
            "\n",
            "- TOP CUES: list three concrete cues that were decisive (1–6 words each)\n",
            "- BIAS NOTE: 2–3 sentences reflecting how cultural bias might have affected the probability estimates.\n",
            "\n",
            "Constraints:\n",
            "- Avoid equal continent splits (e.g. 50/50). Show one as more likely.\n",
            "- Keep WHY COUNTRY and WHY LABEL tied to visible evidence (colors, symbols, technique, location clues etc).\n",
            "\n",
            "  ✔ prompt4: infer_img() full-res ok\n",
            " Saved results to /content/drive/MyDrive/RQ1_Experiments/results/InternVL3-8B/RQ1_InternVL3-8B_8B_country_L3_prompt4_r1.json\n",
            "\n",
            "------------------------------------------------------\n",
            "\n",
            "Processing 111/360: /content/drive/MyDrive/RQ1_Experiments/RQ1_Data_Batch1/Asia/Jordan/Asia_Jordan_J5_MIDDLE.JPG\n",
            "\n",
            "  ➤ [prompt1] prompt:\n",
            "Assume the image is from Asia. Analyze it and answer two things:\n",
            "\n",
            "1) Which country is this most likely from? (choose from China, India, Indonesia, United Arab Emirates, Singapore, Jordan, Timor-Leste, Maldives, Brunei)\n",
            "\n",
            "2) What is the most suitable label: political expression, vandalism, decoration, cultural identity, or advertisement?\n",
            "\n"
          ]
        },
        {
          "output_type": "stream",
          "name": "stderr",
          "text": [
            "Setting `pad_token_id` to `eos_token_id`:151645 for open-end generation.\n",
            "Setting `pad_token_id` to `eos_token_id`:151645 for open-end generation.\n"
          ]
        },
        {
          "output_type": "stream",
          "name": "stdout",
          "text": [
            "  ✔ prompt1: infer_img() full-res ok\n",
            " Saved results to /content/drive/MyDrive/RQ1_Experiments/results/InternVL3-8B/RQ1_InternVL3-8B_8B_country_L3_prompt1_r1.json\n",
            "\n",
            "  ➤ [prompt2] prompt:\n",
            "You are a cultural anthropologist viewing street visuals. Given that mural in image is located in Asia, give these four pieces of info:\n",
            "\n",
            "- COUNTRY (choose exactly one: China, India, Indonesia, United Arab Emirates, Singapore, Jordan, Timor-Leste, Maldives, Brunei)\n",
            "- LABEL (choose exactly one: political expression / vandalism / decoration / cultural identity / advertisement)\n",
            "- CONFIDENCE (0–100%)\n",
            "- TOP CUE (2–3 sentences describing the key visual/cultural cue)\n",
            "\n",
            "Be concise and calibrate CONFIDENCE to how strongly the visual cues support your claims.\n",
            "\n"
          ]
        },
        {
          "output_type": "stream",
          "name": "stderr",
          "text": [
            "Setting `pad_token_id` to `eos_token_id`:151645 for open-end generation.\n"
          ]
        },
        {
          "output_type": "stream",
          "name": "stdout",
          "text": [
            "  ✔ prompt2: infer_img() full-res ok\n",
            " Saved results to /content/drive/MyDrive/RQ1_Experiments/results/InternVL3-8B/RQ1_InternVL3-8B_8B_country_L3_prompt2_r1.json\n",
            "\n",
            "  ➤ [prompt3] prompt:\n",
            "Moderate a brief debate among a Geographer, a Street Artist, and a Museum Curator about this image, assuming it originates from Asia. For each expert, give:\n",
            "\n",
            "- ROLE: <role name>\n",
            "- COUNTRY (choose exactly one: China, India, Indonesia, United Arab Emirates, Singapore, Jordan, Timor-Leste, Maldives, Brunei)\n",
            "- LABEL (political expression / vandalism / decoration / cultural identity / advertisement)\n",
            "- SHORT_RATIONALE (one concise sentence)\n",
            "\n",
            "After the three positions, write a 2-paragraph moderator resolution:\n",
            "1) Compare the three rationales and state which COUNTRY and LABEL you choose and why (trade-offs).\n",
            "2) List 2 visual cues that were decisive and mention one alternative explanation you rejected.\n",
            "\n",
            "Finish with: COUNTRY and LABEL (each on its own line).\n",
            "\n"
          ]
        },
        {
          "output_type": "stream",
          "name": "stderr",
          "text": [
            "Setting `pad_token_id` to `eos_token_id`:151645 for open-end generation.\n"
          ]
        },
        {
          "output_type": "stream",
          "name": "stdout",
          "text": [
            "  ✔ prompt3: infer_img() full-res ok\n",
            " Saved results to /content/drive/MyDrive/RQ1_Experiments/results/InternVL3-8B/RQ1_InternVL3-8B_8B_country_L3_prompt3_r1.json\n",
            "\n",
            "  ➤ [prompt4] prompt:\n",
            "You are a cultural anthropologist & artist. Given that mural in image is located in Asia, provide:\n",
            "\n",
            "- COUNTRY: two most likely countries (choose from: China, India, Indonesia, United Arab Emirates, Singapore, Jordan, Timor-Leste, Maldives, Brunei) with percentages (sum ≈100), e.g. \"\"Iceland: 70%, Russia: 30%\"\"\n",
            "- WHY COUNTRY: 2–3 sentences explaining how visual cues suggest the chosen countries .\n",
            "\n",
            "- LABEL: choose from (political expression, vandalism, decoration, cultural identity, advertisement) and also assign probabilities for all five labels (sum ≈100)\n",
            "- WHY LABEL: 2–3 sentences linking cues to chosen label.\n",
            "\n",
            "- TOP CUES: list three concrete cues that were decisive (1–6 words each)\n",
            "- BIAS NOTE: 2–3 sentences reflecting how cultural bias might have affected the probability estimates.\n",
            "\n",
            "Constraints:\n",
            "- Avoid equal continent splits (e.g. 50/50). Show one as more likely.\n",
            "- Keep WHY COUNTRY and WHY LABEL tied to visible evidence (colors, symbols, technique, location clues etc).\n",
            "\n",
            "  ✔ prompt4: infer_img() full-res ok\n",
            " Saved results to /content/drive/MyDrive/RQ1_Experiments/results/InternVL3-8B/RQ1_InternVL3-8B_8B_country_L3_prompt4_r1.json\n",
            "\n",
            "------------------------------------------------------\n",
            "\n",
            "Processing 112/360: /content/drive/MyDrive/RQ1_Experiments/RQ1_Data_Batch1/Asia/Kazakhstan/Asia_Kazakhstan_KS1_MIDDLE.jpg\n",
            "\n",
            "  ➤ [prompt1] prompt:\n",
            "Assume the image is from Asia. Analyze it and answer two things:\n",
            "\n",
            "1) Which country is this most likely from? (choose from China, India, Indonesia, United Arab Emirates, Singapore, Kazakhstan, Timor-Leste, Maldives, Brunei)\n",
            "\n",
            "2) What is the most suitable label: political expression, vandalism, decoration, cultural identity, or advertisement?\n",
            "\n"
          ]
        },
        {
          "output_type": "stream",
          "name": "stderr",
          "text": [
            "Setting `pad_token_id` to `eos_token_id`:151645 for open-end generation.\n",
            "Setting `pad_token_id` to `eos_token_id`:151645 for open-end generation.\n"
          ]
        },
        {
          "output_type": "stream",
          "name": "stdout",
          "text": [
            "  ✔ prompt1: infer_img() full-res ok\n",
            " Saved results to /content/drive/MyDrive/RQ1_Experiments/results/InternVL3-8B/RQ1_InternVL3-8B_8B_country_L3_prompt1_r1.json\n",
            "\n",
            "  ➤ [prompt2] prompt:\n",
            "You are a cultural anthropologist viewing street visuals. Given that mural in image is located in Asia, give these four pieces of info:\n",
            "\n",
            "- COUNTRY (choose exactly one: China, India, Indonesia, United Arab Emirates, Singapore, Kazakhstan, Timor-Leste, Maldives, Brunei)\n",
            "- LABEL (choose exactly one: political expression / vandalism / decoration / cultural identity / advertisement)\n",
            "- CONFIDENCE (0–100%)\n",
            "- TOP CUE (2–3 sentences describing the key visual/cultural cue)\n",
            "\n",
            "Be concise and calibrate CONFIDENCE to how strongly the visual cues support your claims.\n",
            "\n"
          ]
        },
        {
          "output_type": "stream",
          "name": "stderr",
          "text": [
            "Setting `pad_token_id` to `eos_token_id`:151645 for open-end generation.\n"
          ]
        },
        {
          "output_type": "stream",
          "name": "stdout",
          "text": [
            "  ✔ prompt2: infer_img() full-res ok\n",
            " Saved results to /content/drive/MyDrive/RQ1_Experiments/results/InternVL3-8B/RQ1_InternVL3-8B_8B_country_L3_prompt2_r1.json\n",
            "\n",
            "  ➤ [prompt3] prompt:\n",
            "Moderate a brief debate among a Geographer, a Street Artist, and a Museum Curator about this image, assuming it originates from Asia. For each expert, give:\n",
            "\n",
            "- ROLE: <role name>\n",
            "- COUNTRY (choose exactly one: China, India, Indonesia, United Arab Emirates, Singapore, Kazakhstan, Timor-Leste, Maldives, Brunei)\n",
            "- LABEL (political expression / vandalism / decoration / cultural identity / advertisement)\n",
            "- SHORT_RATIONALE (one concise sentence)\n",
            "\n",
            "After the three positions, write a 2-paragraph moderator resolution:\n",
            "1) Compare the three rationales and state which COUNTRY and LABEL you choose and why (trade-offs).\n",
            "2) List 2 visual cues that were decisive and mention one alternative explanation you rejected.\n",
            "\n",
            "Finish with: COUNTRY and LABEL (each on its own line).\n",
            "\n"
          ]
        },
        {
          "output_type": "stream",
          "name": "stderr",
          "text": [
            "Setting `pad_token_id` to `eos_token_id`:151645 for open-end generation.\n"
          ]
        },
        {
          "output_type": "stream",
          "name": "stdout",
          "text": [
            "  ✔ prompt3: infer_img() full-res ok\n",
            " Saved results to /content/drive/MyDrive/RQ1_Experiments/results/InternVL3-8B/RQ1_InternVL3-8B_8B_country_L3_prompt3_r1.json\n",
            "\n",
            "  ➤ [prompt4] prompt:\n",
            "You are a cultural anthropologist & artist. Given that mural in image is located in Asia, provide:\n",
            "\n",
            "- COUNTRY: two most likely countries (choose from: China, India, Indonesia, United Arab Emirates, Singapore, Kazakhstan, Timor-Leste, Maldives, Brunei) with percentages (sum ≈100), e.g. \"\"Iceland: 70%, Russia: 30%\"\"\n",
            "- WHY COUNTRY: 2–3 sentences explaining how visual cues suggest the chosen countries .\n",
            "\n",
            "- LABEL: choose from (political expression, vandalism, decoration, cultural identity, advertisement) and also assign probabilities for all five labels (sum ≈100)\n",
            "- WHY LABEL: 2–3 sentences linking cues to chosen label.\n",
            "\n",
            "- TOP CUES: list three concrete cues that were decisive (1–6 words each)\n",
            "- BIAS NOTE: 2–3 sentences reflecting how cultural bias might have affected the probability estimates.\n",
            "\n",
            "Constraints:\n",
            "- Avoid equal continent splits (e.g. 50/50). Show one as more likely.\n",
            "- Keep WHY COUNTRY and WHY LABEL tied to visible evidence (colors, symbols, technique, location clues etc).\n",
            "\n",
            "  ✔ prompt4: infer_img() full-res ok\n",
            " Saved results to /content/drive/MyDrive/RQ1_Experiments/results/InternVL3-8B/RQ1_InternVL3-8B_8B_country_L3_prompt4_r1.json\n",
            "\n",
            "------------------------------------------------------\n",
            "\n",
            "Processing 113/360: /content/drive/MyDrive/RQ1_Experiments/RQ1_Data_Batch1/Asia/Kazakhstan/Asia_Kazakhstan_KS2_MIDDLE.jpg\n",
            "\n",
            "  ➤ [prompt1] prompt:\n",
            "Assume the image is from Asia. Analyze it and answer two things:\n",
            "\n",
            "1) Which country is this most likely from? (choose from China, India, Indonesia, United Arab Emirates, Singapore, Kazakhstan, Timor-Leste, Maldives, Brunei)\n",
            "\n",
            "2) What is the most suitable label: political expression, vandalism, decoration, cultural identity, or advertisement?\n",
            "\n"
          ]
        },
        {
          "output_type": "stream",
          "name": "stderr",
          "text": [
            "Setting `pad_token_id` to `eos_token_id`:151645 for open-end generation.\n",
            "Setting `pad_token_id` to `eos_token_id`:151645 for open-end generation.\n"
          ]
        },
        {
          "output_type": "stream",
          "name": "stdout",
          "text": [
            "  ✔ prompt1: infer_img() full-res ok\n",
            " Saved results to /content/drive/MyDrive/RQ1_Experiments/results/InternVL3-8B/RQ1_InternVL3-8B_8B_country_L3_prompt1_r1.json\n",
            "\n",
            "  ➤ [prompt2] prompt:\n",
            "You are a cultural anthropologist viewing street visuals. Given that mural in image is located in Asia, give these four pieces of info:\n",
            "\n",
            "- COUNTRY (choose exactly one: China, India, Indonesia, United Arab Emirates, Singapore, Kazakhstan, Timor-Leste, Maldives, Brunei)\n",
            "- LABEL (choose exactly one: political expression / vandalism / decoration / cultural identity / advertisement)\n",
            "- CONFIDENCE (0–100%)\n",
            "- TOP CUE (2–3 sentences describing the key visual/cultural cue)\n",
            "\n",
            "Be concise and calibrate CONFIDENCE to how strongly the visual cues support your claims.\n",
            "\n"
          ]
        },
        {
          "output_type": "stream",
          "name": "stderr",
          "text": [
            "Setting `pad_token_id` to `eos_token_id`:151645 for open-end generation.\n"
          ]
        },
        {
          "output_type": "stream",
          "name": "stdout",
          "text": [
            "  ✔ prompt2: infer_img() full-res ok\n",
            " Saved results to /content/drive/MyDrive/RQ1_Experiments/results/InternVL3-8B/RQ1_InternVL3-8B_8B_country_L3_prompt2_r1.json\n",
            "\n",
            "  ➤ [prompt3] prompt:\n",
            "Moderate a brief debate among a Geographer, a Street Artist, and a Museum Curator about this image, assuming it originates from Asia. For each expert, give:\n",
            "\n",
            "- ROLE: <role name>\n",
            "- COUNTRY (choose exactly one: China, India, Indonesia, United Arab Emirates, Singapore, Kazakhstan, Timor-Leste, Maldives, Brunei)\n",
            "- LABEL (political expression / vandalism / decoration / cultural identity / advertisement)\n",
            "- SHORT_RATIONALE (one concise sentence)\n",
            "\n",
            "After the three positions, write a 2-paragraph moderator resolution:\n",
            "1) Compare the three rationales and state which COUNTRY and LABEL you choose and why (trade-offs).\n",
            "2) List 2 visual cues that were decisive and mention one alternative explanation you rejected.\n",
            "\n",
            "Finish with: COUNTRY and LABEL (each on its own line).\n",
            "\n"
          ]
        },
        {
          "output_type": "stream",
          "name": "stderr",
          "text": [
            "Setting `pad_token_id` to `eos_token_id`:151645 for open-end generation.\n"
          ]
        },
        {
          "output_type": "stream",
          "name": "stdout",
          "text": [
            "  ✔ prompt3: infer_img() full-res ok\n",
            " Saved results to /content/drive/MyDrive/RQ1_Experiments/results/InternVL3-8B/RQ1_InternVL3-8B_8B_country_L3_prompt3_r1.json\n",
            "\n",
            "  ➤ [prompt4] prompt:\n",
            "You are a cultural anthropologist & artist. Given that mural in image is located in Asia, provide:\n",
            "\n",
            "- COUNTRY: two most likely countries (choose from: China, India, Indonesia, United Arab Emirates, Singapore, Kazakhstan, Timor-Leste, Maldives, Brunei) with percentages (sum ≈100), e.g. \"\"Iceland: 70%, Russia: 30%\"\"\n",
            "- WHY COUNTRY: 2–3 sentences explaining how visual cues suggest the chosen countries .\n",
            "\n",
            "- LABEL: choose from (political expression, vandalism, decoration, cultural identity, advertisement) and also assign probabilities for all five labels (sum ≈100)\n",
            "- WHY LABEL: 2–3 sentences linking cues to chosen label.\n",
            "\n",
            "- TOP CUES: list three concrete cues that were decisive (1–6 words each)\n",
            "- BIAS NOTE: 2–3 sentences reflecting how cultural bias might have affected the probability estimates.\n",
            "\n",
            "Constraints:\n",
            "- Avoid equal continent splits (e.g. 50/50). Show one as more likely.\n",
            "- Keep WHY COUNTRY and WHY LABEL tied to visible evidence (colors, symbols, technique, location clues etc).\n",
            "\n",
            "  ✔ prompt4: infer_img() full-res ok\n",
            " Saved results to /content/drive/MyDrive/RQ1_Experiments/results/InternVL3-8B/RQ1_InternVL3-8B_8B_country_L3_prompt4_r1.json\n",
            "\n",
            "------------------------------------------------------\n",
            "\n",
            "Processing 114/360: /content/drive/MyDrive/RQ1_Experiments/RQ1_Data_Batch1/Asia/Kazakhstan/Asia_Kazakhstan_KS3_MIDDLE.jpg\n",
            "\n",
            "  ➤ [prompt1] prompt:\n",
            "Assume the image is from Asia. Analyze it and answer two things:\n",
            "\n",
            "1) Which country is this most likely from? (choose from China, India, Indonesia, United Arab Emirates, Singapore, Kazakhstan, Timor-Leste, Maldives, Brunei)\n",
            "\n",
            "2) What is the most suitable label: political expression, vandalism, decoration, cultural identity, or advertisement?\n",
            "\n"
          ]
        },
        {
          "output_type": "stream",
          "name": "stderr",
          "text": [
            "Setting `pad_token_id` to `eos_token_id`:151645 for open-end generation.\n",
            "Setting `pad_token_id` to `eos_token_id`:151645 for open-end generation.\n"
          ]
        },
        {
          "output_type": "stream",
          "name": "stdout",
          "text": [
            "  ✔ prompt1: infer_img() full-res ok\n",
            " Saved results to /content/drive/MyDrive/RQ1_Experiments/results/InternVL3-8B/RQ1_InternVL3-8B_8B_country_L3_prompt1_r1.json\n",
            "\n",
            "  ➤ [prompt2] prompt:\n",
            "You are a cultural anthropologist viewing street visuals. Given that mural in image is located in Asia, give these four pieces of info:\n",
            "\n",
            "- COUNTRY (choose exactly one: China, India, Indonesia, United Arab Emirates, Singapore, Kazakhstan, Timor-Leste, Maldives, Brunei)\n",
            "- LABEL (choose exactly one: political expression / vandalism / decoration / cultural identity / advertisement)\n",
            "- CONFIDENCE (0–100%)\n",
            "- TOP CUE (2–3 sentences describing the key visual/cultural cue)\n",
            "\n",
            "Be concise and calibrate CONFIDENCE to how strongly the visual cues support your claims.\n",
            "\n"
          ]
        },
        {
          "output_type": "stream",
          "name": "stderr",
          "text": [
            "Setting `pad_token_id` to `eos_token_id`:151645 for open-end generation.\n"
          ]
        },
        {
          "output_type": "stream",
          "name": "stdout",
          "text": [
            "  ✔ prompt2: infer_img() full-res ok\n",
            " Saved results to /content/drive/MyDrive/RQ1_Experiments/results/InternVL3-8B/RQ1_InternVL3-8B_8B_country_L3_prompt2_r1.json\n",
            "\n",
            "  ➤ [prompt3] prompt:\n",
            "Moderate a brief debate among a Geographer, a Street Artist, and a Museum Curator about this image, assuming it originates from Asia. For each expert, give:\n",
            "\n",
            "- ROLE: <role name>\n",
            "- COUNTRY (choose exactly one: China, India, Indonesia, United Arab Emirates, Singapore, Kazakhstan, Timor-Leste, Maldives, Brunei)\n",
            "- LABEL (political expression / vandalism / decoration / cultural identity / advertisement)\n",
            "- SHORT_RATIONALE (one concise sentence)\n",
            "\n",
            "After the three positions, write a 2-paragraph moderator resolution:\n",
            "1) Compare the three rationales and state which COUNTRY and LABEL you choose and why (trade-offs).\n",
            "2) List 2 visual cues that were decisive and mention one alternative explanation you rejected.\n",
            "\n",
            "Finish with: COUNTRY and LABEL (each on its own line).\n",
            "\n"
          ]
        },
        {
          "output_type": "stream",
          "name": "stderr",
          "text": [
            "Setting `pad_token_id` to `eos_token_id`:151645 for open-end generation.\n"
          ]
        },
        {
          "output_type": "stream",
          "name": "stdout",
          "text": [
            "  ✔ prompt3: infer_img() full-res ok\n",
            " Saved results to /content/drive/MyDrive/RQ1_Experiments/results/InternVL3-8B/RQ1_InternVL3-8B_8B_country_L3_prompt3_r1.json\n",
            "\n",
            "  ➤ [prompt4] prompt:\n",
            "You are a cultural anthropologist & artist. Given that mural in image is located in Asia, provide:\n",
            "\n",
            "- COUNTRY: two most likely countries (choose from: China, India, Indonesia, United Arab Emirates, Singapore, Kazakhstan, Timor-Leste, Maldives, Brunei) with percentages (sum ≈100), e.g. \"\"Iceland: 70%, Russia: 30%\"\"\n",
            "- WHY COUNTRY: 2–3 sentences explaining how visual cues suggest the chosen countries .\n",
            "\n",
            "- LABEL: choose from (political expression, vandalism, decoration, cultural identity, advertisement) and also assign probabilities for all five labels (sum ≈100)\n",
            "- WHY LABEL: 2–3 sentences linking cues to chosen label.\n",
            "\n",
            "- TOP CUES: list three concrete cues that were decisive (1–6 words each)\n",
            "- BIAS NOTE: 2–3 sentences reflecting how cultural bias might have affected the probability estimates.\n",
            "\n",
            "Constraints:\n",
            "- Avoid equal continent splits (e.g. 50/50). Show one as more likely.\n",
            "- Keep WHY COUNTRY and WHY LABEL tied to visible evidence (colors, symbols, technique, location clues etc).\n",
            "\n",
            "  ✔ prompt4: infer_img() full-res ok\n",
            " Saved results to /content/drive/MyDrive/RQ1_Experiments/results/InternVL3-8B/RQ1_InternVL3-8B_8B_country_L3_prompt4_r1.json\n",
            "\n",
            "------------------------------------------------------\n",
            "\n",
            "Processing 115/360: /content/drive/MyDrive/RQ1_Experiments/RQ1_Data_Batch1/Asia/Kazakhstan/Asia_Kazakhstan_KS4_MIDDLE.jpg\n",
            "\n",
            "  ➤ [prompt1] prompt:\n",
            "Assume the image is from Asia. Analyze it and answer two things:\n",
            "\n",
            "1) Which country is this most likely from? (choose from China, India, Indonesia, United Arab Emirates, Singapore, Kazakhstan, Timor-Leste, Maldives, Brunei)\n",
            "\n",
            "2) What is the most suitable label: political expression, vandalism, decoration, cultural identity, or advertisement?\n",
            "\n"
          ]
        },
        {
          "output_type": "stream",
          "name": "stderr",
          "text": [
            "Setting `pad_token_id` to `eos_token_id`:151645 for open-end generation.\n"
          ]
        }
      ],
      "execution_count": null
    },
    {
      "cell_type": "markdown",
      "source": [
        "### Download the zip file"
      ],
      "metadata": {
        "id": "K7bLfCc8-W_G"
      }
    },
    {
      "cell_type": "code",
      "source": [
        "archive = \"/content/results.tar.gz\"\n",
        "src_dir = \"/content/drive/MyDrive/RQ1_Experiments/results\"\n",
        "\n",
        "!tar -czf \"{archive}\" -C \"$(dirname \"{src_dir}\")\" \"$(basename \"{src_dir}\")\"\n",
        "\n",
        "from google.colab import files\n",
        "files.download(archive)\n"
      ],
      "metadata": {
        "trusted": true,
        "_kg_hide-output": false,
        "id": "ddh_UP4rfG00"
      },
      "outputs": [],
      "execution_count": null
    },
    {
      "cell_type": "code",
      "source": [],
      "metadata": {
        "id": "F0IwqrByB9-h"
      },
      "execution_count": null,
      "outputs": []
    }
  ]
}